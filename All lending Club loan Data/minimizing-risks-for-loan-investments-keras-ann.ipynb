{
 "cells": [
  {
   "cell_type": "markdown",
   "metadata": {
    "papermill": {
     "duration": 0.05175,
     "end_time": "2021-02-16T21:32:46.360778",
     "exception": false,
     "start_time": "2021-02-16T21:32:46.309028",
     "status": "completed"
    },
    "tags": []
   },
   "source": [
    "<hr/>\n",
    "\n",
    "# Minimizing Risks for Loan Investments - (Keras - Artificial Neural Network)\n",
    "### [by Tomas Mantero](https://www.kaggle.com/tomasmantero)\n",
    "<hr/>\n",
    "\n",
    "### Table of Contents\n",
    "* **1. [Introduction](#ch1)**\n",
    "* **2. [Dataset](#ch2)**\n",
    "* **3. [Exploratory Data Analysis](#ch3)**\n",
    "* **4. [Data PreProcessing](#ch4)**\n",
    "* **5. [Categorical Variables and Dummy Variables](#ch5)**\n",
    "* **6. [Scaling and Train Test Split](#ch6)**\n",
    "* **7. [Creating a Model](#ch7)**\n",
    "* **8. [Training the Model](#ch8)**\n",
    "* **9. [Evaluation on Test Data](#ch9)**\n",
    "* **10. [Predicting on a New Customer](#ch10)**\n",
    "* **11. [References](#ch11)**"
   ]
  },
  {
   "cell_type": "markdown",
   "metadata": {
    "papermill": {
     "duration": 0.049729,
     "end_time": "2021-02-16T21:32:46.460795",
     "exception": false,
     "start_time": "2021-02-16T21:32:46.411066",
     "status": "completed"
    },
    "tags": []
   },
   "source": [
    "<a id=\"ch1\"></a>\n",
    "# 1. Introduction \n",
    "---\n",
    "\n",
    "One of the objectives of this notebook is to **show step-by-step how to visualize the dataset and assess whether or not a new customer is likely to pay back the loan.**\n",
    "\n",
    "LendingClub is a US peer-to-peer lending company, headquartered in San Francisco, California. It was the first peer-to-peer lender to register its offerings as securities with the Securities and Exchange Commission, and to offer loan trading on a secondary market. LendingClub is the world's largest peer-to-peer lending platform.\n",
    "\n",
    "Given historical data on loans given out with information on whether or not the borrower defaulted (charge-off), we can build a model that can predict if a borrower will pay back their loan. This way in the future when we get a new potential customer, **we can assess if they are likely to pay back the loan.**\n",
    "\n",
    "The following questions will be answered throughout the Kernel:\n",
    "* ***Which features are available in the dataset?***\n",
    "* ***What is the distribution of numerical feature values across the samples?***\n",
    "* ***What is the length of the dataframe?***\n",
    "* ***What is the total count of missing values per column?***\n",
    "* ***How many unique employment job titles are there?***\n",
    "* ***Do you wonder how lending companies choose whether to give you money or not?***\n",
    "* ***How does a lending company decide how much money to give you?***\n",
    "* ***Would you offer this person a loan?***\n",
    "* ***Did this person actually end up paying back their loan?***\n",
    "\n",
    "If you have a question or feedback, do not hesitate to write and if you like this kernel,<b><font color='green'> please upvote! </font></b>\n",
    "\n",
    "<img src=\"https://images.pexels.com/photos/259165/pexels-photo-259165.jpeg?auto=compress&cs=tinysrgb&h=750&w=1260\" title=\"source: www.pexels.com\" width=\"500\" height=\"500\"/>\n",
    "<br>"
   ]
  },
  {
   "cell_type": "markdown",
   "metadata": {
    "papermill": {
     "duration": 0.051498,
     "end_time": "2021-02-16T21:32:46.562321",
     "exception": false,
     "start_time": "2021-02-16T21:32:46.510823",
     "status": "completed"
    },
    "tags": []
   },
   "source": [
    "<a id=\"ch2\"></a>\n",
    "# 2. Dataset\n",
    "---\n",
    "\n",
    "* We will be using a subset of the LendingClub DataSet obtained from Kaggle: https://www.kaggle.com/wordsforthewise/lending-club\n",
    "\n",
    "There are many LendingClub data sets on Kaggle. Here is the information on this particular data set:\n",
    "\n",
    "<table border=\"1\" class=\"dataframe\">\n",
    "  <thead>\n",
    "    <tr style=\"text-align: right;\">\n",
    "      <th></th>\n",
    "      <th>LoanStatNew</th>\n",
    "      <th>Description</th>\n",
    "    </tr>\n",
    "  </thead>\n",
    "  <tbody>\n",
    "    <tr>\n",
    "      <th>0</th>\n",
    "      <td>loan_amnt</td>\n",
    "      <td>The listed amount of the loan applied for by the borrower. If at some point in time, the credit department reduces the loan amount, then it will be reflected in this value.</td>\n",
    "    </tr>\n",
    "    <tr>\n",
    "      <th>1</th>\n",
    "      <td>term</td>\n",
    "      <td>The number of payments on the loan. Values are in months and can be either 36 or 60.</td>\n",
    "    </tr>\n",
    "    <tr>\n",
    "      <th>2</th>\n",
    "      <td>int_rate</td>\n",
    "      <td>Interest Rate on the loan</td>\n",
    "    </tr>\n",
    "    <tr>\n",
    "      <th>3</th>\n",
    "      <td>installment</td>\n",
    "      <td>The monthly payment owed by the borrower if the loan originates.</td>\n",
    "    </tr>\n",
    "    <tr>\n",
    "      <th>4</th>\n",
    "      <td>grade</td>\n",
    "      <td>LC assigned loan grade</td>\n",
    "    </tr>\n",
    "    <tr>\n",
    "      <th>5</th>\n",
    "      <td>sub_grade</td>\n",
    "      <td>LC assigned loan subgrade</td>\n",
    "    </tr>\n",
    "    <tr>\n",
    "      <th>6</th>\n",
    "      <td>emp_title</td>\n",
    "      <td>The job title supplied by the Borrower when applying for the loan.*</td>\n",
    "    </tr>\n",
    "    <tr>\n",
    "      <th>7</th>\n",
    "      <td>emp_length</td>\n",
    "      <td>Employment length in years. Possible values are between 0 and 10 where 0 means less than one year and 10 means ten or more years.</td>\n",
    "    </tr>\n",
    "    <tr>\n",
    "      <th>8</th>\n",
    "      <td>home_ownership</td>\n",
    "      <td>The home ownership status provided by the borrower during registration or obtained from the credit report. Our values are: RENT, OWN, MORTGAGE, OTHER</td>\n",
    "    </tr>\n",
    "    <tr>\n",
    "      <th>9</th>\n",
    "      <td>annual_inc</td>\n",
    "      <td>The self-reported annual income provided by the borrower during registration.</td>\n",
    "    </tr>\n",
    "    <tr>\n",
    "      <th>10</th>\n",
    "      <td>verification_status</td>\n",
    "      <td>Indicates if income was verified by LC, not verified, or if the income source was verified</td>\n",
    "    </tr>\n",
    "    <tr>\n",
    "      <th>11</th>\n",
    "      <td>issue_d</td>\n",
    "      <td>The month which the loan was funded</td>\n",
    "    </tr>\n",
    "    <tr>\n",
    "      <th>12</th>\n",
    "      <td>loan_status</td>\n",
    "      <td>Current status of the loan</td>\n",
    "    </tr>\n",
    "    <tr>\n",
    "      <th>13</th>\n",
    "      <td>purpose</td>\n",
    "      <td>A category provided by the borrower for the loan request.</td>\n",
    "    </tr>\n",
    "    <tr>\n",
    "      <th>14</th>\n",
    "      <td>title</td>\n",
    "      <td>The loan title provided by the borrower</td>\n",
    "    </tr>\n",
    "    <tr>\n",
    "      <th>15</th>\n",
    "      <td>zip_code</td>\n",
    "      <td>The first 3 numbers of the zip code provided by the borrower in the loan application.</td>\n",
    "    </tr>\n",
    "    <tr>\n",
    "      <th>16</th>\n",
    "      <td>addr_state</td>\n",
    "      <td>The state provided by the borrower in the loan application</td>\n",
    "    </tr>\n",
    "    <tr>\n",
    "      <th>17</th>\n",
    "      <td>dti</td>\n",
    "      <td>A ratio calculated using the borrower’s total monthly debt payments on the total debt obligations, excluding mortgage and the requested LC loan, divided by the borrower’s self-reported monthly income.</td>\n",
    "    </tr>\n",
    "    <tr>\n",
    "      <th>18</th>\n",
    "      <td>earliest_cr_line</td>\n",
    "      <td>The month the borrower's earliest reported credit line was opened</td>\n",
    "    </tr>\n",
    "    <tr>\n",
    "      <th>19</th>\n",
    "      <td>open_acc</td>\n",
    "      <td>The number of open credit lines in the borrower's credit file.</td>\n",
    "    </tr>\n",
    "    <tr>\n",
    "      <th>20</th>\n",
    "      <td>pub_rec</td>\n",
    "      <td>Number of derogatory public records</td>\n",
    "    </tr>\n",
    "    <tr>\n",
    "      <th>21</th>\n",
    "      <td>revol_bal</td>\n",
    "      <td>Total credit revolving balance</td>\n",
    "    </tr>\n",
    "    <tr>\n",
    "      <th>22</th>\n",
    "      <td>revol_util</td>\n",
    "      <td>Revolving line utilization rate, or the amount of credit the borrower is using relative to all available revolving credit.</td>\n",
    "    </tr>\n",
    "    <tr>\n",
    "      <th>23</th>\n",
    "      <td>total_acc</td>\n",
    "      <td>The total number of credit lines currently in the borrower's credit file</td>\n",
    "    </tr>\n",
    "    <tr>\n",
    "      <th>24</th>\n",
    "      <td>initial_list_status</td>\n",
    "      <td>The initial listing status of the loan. Possible values are – W, F</td>\n",
    "    </tr>\n",
    "    <tr>\n",
    "      <th>25</th>\n",
    "      <td>application_type</td>\n",
    "      <td>Indicates whether the loan is an individual application or a joint application with two co-borrowers</td>\n",
    "    </tr>\n",
    "    <tr>\n",
    "      <th>26</th>\n",
    "      <td>mort_acc</td>\n",
    "      <td>Number of mortgage accounts.</td>\n",
    "    </tr>\n",
    "    <tr>\n",
    "      <th>27</th>\n",
    "      <td>pub_rec_bankruptcies</td>\n",
    "      <td>Number of public record bankruptcies</td>\n",
    "    </tr>\n",
    "  </tbody>\n",
    "</table>\n",
    "\n",
    "---"
   ]
  },
  {
   "cell_type": "markdown",
   "metadata": {
    "papermill": {
     "duration": 0.050394,
     "end_time": "2021-02-16T21:32:46.663038",
     "exception": false,
     "start_time": "2021-02-16T21:32:46.612644",
     "status": "completed"
    },
    "tags": []
   },
   "source": [
    "## Imports"
   ]
  },
  {
   "cell_type": "code",
   "execution_count": 1,
   "metadata": {
    "_kg_hide-output": true,
    "execution": {
     "iopub.execute_input": "2021-02-16T21:32:46.778772Z",
     "iopub.status.busy": "2021-02-16T21:32:46.778001Z",
     "iopub.status.idle": "2021-02-16T21:32:53.385018Z",
     "shell.execute_reply": "2021-02-16T21:32:53.384256Z"
    },
    "papermill": {
     "duration": 6.671414,
     "end_time": "2021-02-16T21:32:53.385137",
     "exception": false,
     "start_time": "2021-02-16T21:32:46.713723",
     "status": "completed"
    },
    "tags": []
   },
   "outputs": [],
   "source": [
    "# data analysis and wrangling\n",
    "import pandas as pd\n",
    "import numpy as np\n",
    "import random as rnd\n",
    "\n",
    "# visualization\n",
    "import seaborn as sns\n",
    "import matplotlib.pyplot as plt\n",
    "%matplotlib inline\n",
    "\n",
    "# scaling and train test split\n",
    "from sklearn.model_selection import train_test_split\n",
    "from sklearn.preprocessing import MinMaxScaler\n",
    "\n",
    "# creating a model\n",
    "import tensorflow as tf\n",
    "from tensorflow.keras.models import Sequential\n",
    "from tensorflow.keras.layers import Dense, Dropout, Activation\n",
    "from tensorflow.keras.constraints import max_norm\n",
    "from tensorflow.keras.optimizers import Adam\n",
    "from tensorflow.keras.callbacks import EarlyStopping\n",
    "from tensorflow.keras.models import load_model\n",
    "\n",
    "# evaluation on test data\n",
    "from sklearn.metrics import classification_report,confusion_matrix"
   ]
  },
  {
   "cell_type": "markdown",
   "metadata": {
    "papermill": {
     "duration": 0.050505,
     "end_time": "2021-02-16T21:32:53.486511",
     "exception": false,
     "start_time": "2021-02-16T21:32:53.436006",
     "status": "completed"
    },
    "tags": []
   },
   "source": [
    "Before starting, let us make a function to get feature information on the data as a .csv file for easy lookup throughout the notebook. "
   ]
  },
  {
   "cell_type": "code",
   "execution_count": 2,
   "metadata": {
    "execution": {
     "iopub.execute_input": "2021-02-16T21:32:53.600007Z",
     "iopub.status.busy": "2021-02-16T21:32:53.599320Z",
     "iopub.status.idle": "2021-02-16T21:32:53.616874Z",
     "shell.execute_reply": "2021-02-16T21:32:53.616277Z"
    },
    "papermill": {
     "duration": 0.079164,
     "end_time": "2021-02-16T21:32:53.616986",
     "exception": false,
     "start_time": "2021-02-16T21:32:53.537822",
     "status": "completed"
    },
    "tags": []
   },
   "outputs": [
    {
     "name": "stdout",
     "output_type": "stream",
     "text": [
      "Number of mortgage accounts.\n"
     ]
    }
   ],
   "source": [
    "data_info = pd.read_csv('../input/subset-lending-club-loan/lending_club_info.csv',index_col='LoanStatNew')\n",
    "\n",
    "def feat_info(col_name):\n",
    "    print(data_info.loc[col_name]['Description'])\n",
    "\n",
    "# example\n",
    "feat_info('mort_acc')"
   ]
  },
  {
   "cell_type": "markdown",
   "metadata": {
    "papermill": {
     "duration": 0.051467,
     "end_time": "2021-02-16T21:32:53.720550",
     "exception": false,
     "start_time": "2021-02-16T21:32:53.669083",
     "status": "completed"
    },
    "tags": []
   },
   "source": [
    "## Loading the data"
   ]
  },
  {
   "cell_type": "code",
   "execution_count": 3,
   "metadata": {
    "execution": {
     "iopub.execute_input": "2021-02-16T21:32:53.832949Z",
     "iopub.status.busy": "2021-02-16T21:32:53.832264Z",
     "iopub.status.idle": "2021-02-16T21:32:57.046083Z",
     "shell.execute_reply": "2021-02-16T21:32:57.045298Z"
    },
    "papermill": {
     "duration": 3.271988,
     "end_time": "2021-02-16T21:32:57.046206",
     "exception": false,
     "start_time": "2021-02-16T21:32:53.774218",
     "status": "completed"
    },
    "tags": []
   },
   "outputs": [],
   "source": [
    "df = pd.read_csv('../input/subset-lending-club-loan/lending_club_loan_two.csv')"
   ]
  },
  {
   "cell_type": "markdown",
   "metadata": {
    "papermill": {
     "duration": 0.050908,
     "end_time": "2021-02-16T21:32:57.149202",
     "exception": false,
     "start_time": "2021-02-16T21:32:57.098294",
     "status": "completed"
    },
    "tags": []
   },
   "source": [
    "**Which features are available in the dataset?**"
   ]
  },
  {
   "cell_type": "code",
   "execution_count": 4,
   "metadata": {
    "_kg_hide-input": true,
    "execution": {
     "iopub.execute_input": "2021-02-16T21:32:57.260436Z",
     "iopub.status.busy": "2021-02-16T21:32:57.259267Z",
     "iopub.status.idle": "2021-02-16T21:32:57.924475Z",
     "shell.execute_reply": "2021-02-16T21:32:57.925050Z"
    },
    "papermill": {
     "duration": 0.724808,
     "end_time": "2021-02-16T21:32:57.925198",
     "exception": false,
     "start_time": "2021-02-16T21:32:57.200390",
     "status": "completed"
    },
    "tags": []
   },
   "outputs": [
    {
     "name": "stdout",
     "output_type": "stream",
     "text": [
      "<class 'pandas.core.frame.DataFrame'>\n",
      "RangeIndex: 396030 entries, 0 to 396029\n",
      "Data columns (total 27 columns):\n",
      " #   Column                Non-Null Count   Dtype  \n",
      "---  ------                --------------   -----  \n",
      " 0   loan_amnt             396030 non-null  float64\n",
      " 1   term                  396030 non-null  object \n",
      " 2   int_rate              396030 non-null  float64\n",
      " 3   installment           396030 non-null  float64\n",
      " 4   grade                 396030 non-null  object \n",
      " 5   sub_grade             396030 non-null  object \n",
      " 6   emp_title             373103 non-null  object \n",
      " 7   emp_length            377729 non-null  object \n",
      " 8   home_ownership        396030 non-null  object \n",
      " 9   annual_inc            396030 non-null  float64\n",
      " 10  verification_status   396030 non-null  object \n",
      " 11  issue_d               396030 non-null  object \n",
      " 12  loan_status           396030 non-null  object \n",
      " 13  purpose               396030 non-null  object \n",
      " 14  title                 394275 non-null  object \n",
      " 15  dti                   396030 non-null  float64\n",
      " 16  earliest_cr_line      396030 non-null  object \n",
      " 17  open_acc              396030 non-null  float64\n",
      " 18  pub_rec               396030 non-null  float64\n",
      " 19  revol_bal             396030 non-null  float64\n",
      " 20  revol_util            395754 non-null  float64\n",
      " 21  total_acc             396030 non-null  float64\n",
      " 22  initial_list_status   396030 non-null  object \n",
      " 23  application_type      396030 non-null  object \n",
      " 24  mort_acc              358235 non-null  float64\n",
      " 25  pub_rec_bankruptcies  395495 non-null  float64\n",
      " 26  address               396030 non-null  object \n",
      "dtypes: float64(12), object(15)\n",
      "memory usage: 81.6+ MB\n",
      "None\n"
     ]
    }
   ],
   "source": [
    "print(df.info())"
   ]
  },
  {
   "cell_type": "markdown",
   "metadata": {
    "papermill": {
     "duration": 0.051533,
     "end_time": "2021-02-16T21:32:58.028176",
     "exception": false,
     "start_time": "2021-02-16T21:32:57.976643",
     "status": "completed"
    },
    "tags": []
   },
   "source": [
    "**Preview the data**"
   ]
  },
  {
   "cell_type": "code",
   "execution_count": 5,
   "metadata": {
    "_kg_hide-input": true,
    "execution": {
     "iopub.execute_input": "2021-02-16T21:32:58.135056Z",
     "iopub.status.busy": "2021-02-16T21:32:58.134400Z",
     "iopub.status.idle": "2021-02-16T21:32:58.174079Z",
     "shell.execute_reply": "2021-02-16T21:32:58.173487Z"
    },
    "papermill": {
     "duration": 0.094406,
     "end_time": "2021-02-16T21:32:58.174206",
     "exception": false,
     "start_time": "2021-02-16T21:32:58.079800",
     "status": "completed"
    },
    "tags": []
   },
   "outputs": [
    {
     "data": {
      "text/html": [
       "<div>\n",
       "<style scoped>\n",
       "    .dataframe tbody tr th:only-of-type {\n",
       "        vertical-align: middle;\n",
       "    }\n",
       "\n",
       "    .dataframe tbody tr th {\n",
       "        vertical-align: top;\n",
       "    }\n",
       "\n",
       "    .dataframe thead th {\n",
       "        text-align: right;\n",
       "    }\n",
       "</style>\n",
       "<table border=\"1\" class=\"dataframe\">\n",
       "  <thead>\n",
       "    <tr style=\"text-align: right;\">\n",
       "      <th></th>\n",
       "      <th>loan_amnt</th>\n",
       "      <th>term</th>\n",
       "      <th>int_rate</th>\n",
       "      <th>installment</th>\n",
       "      <th>grade</th>\n",
       "      <th>sub_grade</th>\n",
       "      <th>emp_title</th>\n",
       "      <th>emp_length</th>\n",
       "      <th>home_ownership</th>\n",
       "      <th>annual_inc</th>\n",
       "      <th>...</th>\n",
       "      <th>open_acc</th>\n",
       "      <th>pub_rec</th>\n",
       "      <th>revol_bal</th>\n",
       "      <th>revol_util</th>\n",
       "      <th>total_acc</th>\n",
       "      <th>initial_list_status</th>\n",
       "      <th>application_type</th>\n",
       "      <th>mort_acc</th>\n",
       "      <th>pub_rec_bankruptcies</th>\n",
       "      <th>address</th>\n",
       "    </tr>\n",
       "  </thead>\n",
       "  <tbody>\n",
       "    <tr>\n",
       "      <th>0</th>\n",
       "      <td>10000.0</td>\n",
       "      <td>36 months</td>\n",
       "      <td>11.44</td>\n",
       "      <td>329.48</td>\n",
       "      <td>B</td>\n",
       "      <td>B4</td>\n",
       "      <td>Marketing</td>\n",
       "      <td>10+ years</td>\n",
       "      <td>RENT</td>\n",
       "      <td>117000.0</td>\n",
       "      <td>...</td>\n",
       "      <td>16.0</td>\n",
       "      <td>0.0</td>\n",
       "      <td>36369.0</td>\n",
       "      <td>41.8</td>\n",
       "      <td>25.0</td>\n",
       "      <td>w</td>\n",
       "      <td>INDIVIDUAL</td>\n",
       "      <td>0.0</td>\n",
       "      <td>0.0</td>\n",
       "      <td>0174 Michelle Gateway\\nMendozaberg, OK 22690</td>\n",
       "    </tr>\n",
       "    <tr>\n",
       "      <th>1</th>\n",
       "      <td>8000.0</td>\n",
       "      <td>36 months</td>\n",
       "      <td>11.99</td>\n",
       "      <td>265.68</td>\n",
       "      <td>B</td>\n",
       "      <td>B5</td>\n",
       "      <td>Credit analyst</td>\n",
       "      <td>4 years</td>\n",
       "      <td>MORTGAGE</td>\n",
       "      <td>65000.0</td>\n",
       "      <td>...</td>\n",
       "      <td>17.0</td>\n",
       "      <td>0.0</td>\n",
       "      <td>20131.0</td>\n",
       "      <td>53.3</td>\n",
       "      <td>27.0</td>\n",
       "      <td>f</td>\n",
       "      <td>INDIVIDUAL</td>\n",
       "      <td>3.0</td>\n",
       "      <td>0.0</td>\n",
       "      <td>1076 Carney Fort Apt. 347\\nLoganmouth, SD 05113</td>\n",
       "    </tr>\n",
       "    <tr>\n",
       "      <th>2</th>\n",
       "      <td>15600.0</td>\n",
       "      <td>36 months</td>\n",
       "      <td>10.49</td>\n",
       "      <td>506.97</td>\n",
       "      <td>B</td>\n",
       "      <td>B3</td>\n",
       "      <td>Statistician</td>\n",
       "      <td>&lt; 1 year</td>\n",
       "      <td>RENT</td>\n",
       "      <td>43057.0</td>\n",
       "      <td>...</td>\n",
       "      <td>13.0</td>\n",
       "      <td>0.0</td>\n",
       "      <td>11987.0</td>\n",
       "      <td>92.2</td>\n",
       "      <td>26.0</td>\n",
       "      <td>f</td>\n",
       "      <td>INDIVIDUAL</td>\n",
       "      <td>0.0</td>\n",
       "      <td>0.0</td>\n",
       "      <td>87025 Mark Dale Apt. 269\\nNew Sabrina, WV 05113</td>\n",
       "    </tr>\n",
       "    <tr>\n",
       "      <th>3</th>\n",
       "      <td>7200.0</td>\n",
       "      <td>36 months</td>\n",
       "      <td>6.49</td>\n",
       "      <td>220.65</td>\n",
       "      <td>A</td>\n",
       "      <td>A2</td>\n",
       "      <td>Client Advocate</td>\n",
       "      <td>6 years</td>\n",
       "      <td>RENT</td>\n",
       "      <td>54000.0</td>\n",
       "      <td>...</td>\n",
       "      <td>6.0</td>\n",
       "      <td>0.0</td>\n",
       "      <td>5472.0</td>\n",
       "      <td>21.5</td>\n",
       "      <td>13.0</td>\n",
       "      <td>f</td>\n",
       "      <td>INDIVIDUAL</td>\n",
       "      <td>0.0</td>\n",
       "      <td>0.0</td>\n",
       "      <td>823 Reid Ford\\nDelacruzside, MA 00813</td>\n",
       "    </tr>\n",
       "    <tr>\n",
       "      <th>4</th>\n",
       "      <td>24375.0</td>\n",
       "      <td>60 months</td>\n",
       "      <td>17.27</td>\n",
       "      <td>609.33</td>\n",
       "      <td>C</td>\n",
       "      <td>C5</td>\n",
       "      <td>Destiny Management Inc.</td>\n",
       "      <td>9 years</td>\n",
       "      <td>MORTGAGE</td>\n",
       "      <td>55000.0</td>\n",
       "      <td>...</td>\n",
       "      <td>13.0</td>\n",
       "      <td>0.0</td>\n",
       "      <td>24584.0</td>\n",
       "      <td>69.8</td>\n",
       "      <td>43.0</td>\n",
       "      <td>f</td>\n",
       "      <td>INDIVIDUAL</td>\n",
       "      <td>1.0</td>\n",
       "      <td>0.0</td>\n",
       "      <td>679 Luna Roads\\nGreggshire, VA 11650</td>\n",
       "    </tr>\n",
       "  </tbody>\n",
       "</table>\n",
       "<p>5 rows × 27 columns</p>\n",
       "</div>"
      ],
      "text/plain": [
       "   loan_amnt        term  int_rate  installment grade sub_grade  \\\n",
       "0    10000.0   36 months     11.44       329.48     B        B4   \n",
       "1     8000.0   36 months     11.99       265.68     B        B5   \n",
       "2    15600.0   36 months     10.49       506.97     B        B3   \n",
       "3     7200.0   36 months      6.49       220.65     A        A2   \n",
       "4    24375.0   60 months     17.27       609.33     C        C5   \n",
       "\n",
       "                 emp_title emp_length home_ownership  annual_inc  ...  \\\n",
       "0                Marketing  10+ years           RENT    117000.0  ...   \n",
       "1          Credit analyst     4 years       MORTGAGE     65000.0  ...   \n",
       "2             Statistician   < 1 year           RENT     43057.0  ...   \n",
       "3          Client Advocate    6 years           RENT     54000.0  ...   \n",
       "4  Destiny Management Inc.    9 years       MORTGAGE     55000.0  ...   \n",
       "\n",
       "  open_acc pub_rec revol_bal revol_util total_acc  initial_list_status  \\\n",
       "0     16.0     0.0   36369.0       41.8      25.0                    w   \n",
       "1     17.0     0.0   20131.0       53.3      27.0                    f   \n",
       "2     13.0     0.0   11987.0       92.2      26.0                    f   \n",
       "3      6.0     0.0    5472.0       21.5      13.0                    f   \n",
       "4     13.0     0.0   24584.0       69.8      43.0                    f   \n",
       "\n",
       "  application_type  mort_acc  pub_rec_bankruptcies  \\\n",
       "0       INDIVIDUAL       0.0                   0.0   \n",
       "1       INDIVIDUAL       3.0                   0.0   \n",
       "2       INDIVIDUAL       0.0                   0.0   \n",
       "3       INDIVIDUAL       0.0                   0.0   \n",
       "4       INDIVIDUAL       1.0                   0.0   \n",
       "\n",
       "                                           address  \n",
       "0     0174 Michelle Gateway\\nMendozaberg, OK 22690  \n",
       "1  1076 Carney Fort Apt. 347\\nLoganmouth, SD 05113  \n",
       "2  87025 Mark Dale Apt. 269\\nNew Sabrina, WV 05113  \n",
       "3            823 Reid Ford\\nDelacruzside, MA 00813  \n",
       "4             679 Luna Roads\\nGreggshire, VA 11650  \n",
       "\n",
       "[5 rows x 27 columns]"
      ]
     },
     "execution_count": 5,
     "metadata": {},
     "output_type": "execute_result"
    }
   ],
   "source": [
    "df.head()"
   ]
  },
  {
   "cell_type": "markdown",
   "metadata": {
    "papermill": {
     "duration": 0.052322,
     "end_time": "2021-02-16T21:32:58.279853",
     "exception": false,
     "start_time": "2021-02-16T21:32:58.227531",
     "status": "completed"
    },
    "tags": []
   },
   "source": [
    "**What is the distribution of numerical feature values across the samples?**"
   ]
  },
  {
   "cell_type": "code",
   "execution_count": 6,
   "metadata": {
    "_kg_hide-input": true,
    "execution": {
     "iopub.execute_input": "2021-02-16T21:32:58.408819Z",
     "iopub.status.busy": "2021-02-16T21:32:58.408146Z",
     "iopub.status.idle": "2021-02-16T21:32:58.610918Z",
     "shell.execute_reply": "2021-02-16T21:32:58.610387Z"
    },
    "papermill": {
     "duration": 0.27833,
     "end_time": "2021-02-16T21:32:58.611034",
     "exception": false,
     "start_time": "2021-02-16T21:32:58.332704",
     "status": "completed"
    },
    "tags": []
   },
   "outputs": [
    {
     "data": {
      "text/html": [
       "<div>\n",
       "<style scoped>\n",
       "    .dataframe tbody tr th:only-of-type {\n",
       "        vertical-align: middle;\n",
       "    }\n",
       "\n",
       "    .dataframe tbody tr th {\n",
       "        vertical-align: top;\n",
       "    }\n",
       "\n",
       "    .dataframe thead th {\n",
       "        text-align: right;\n",
       "    }\n",
       "</style>\n",
       "<table border=\"1\" class=\"dataframe\">\n",
       "  <thead>\n",
       "    <tr style=\"text-align: right;\">\n",
       "      <th></th>\n",
       "      <th>count</th>\n",
       "      <th>mean</th>\n",
       "      <th>std</th>\n",
       "      <th>min</th>\n",
       "      <th>25%</th>\n",
       "      <th>50%</th>\n",
       "      <th>75%</th>\n",
       "      <th>max</th>\n",
       "    </tr>\n",
       "  </thead>\n",
       "  <tbody>\n",
       "    <tr>\n",
       "      <th>loan_amnt</th>\n",
       "      <td>396030.0</td>\n",
       "      <td>14113.888089</td>\n",
       "      <td>8357.441341</td>\n",
       "      <td>500.00</td>\n",
       "      <td>8000.00</td>\n",
       "      <td>12000.00</td>\n",
       "      <td>20000.00</td>\n",
       "      <td>40000.00</td>\n",
       "    </tr>\n",
       "    <tr>\n",
       "      <th>int_rate</th>\n",
       "      <td>396030.0</td>\n",
       "      <td>13.639400</td>\n",
       "      <td>4.472157</td>\n",
       "      <td>5.32</td>\n",
       "      <td>10.49</td>\n",
       "      <td>13.33</td>\n",
       "      <td>16.49</td>\n",
       "      <td>30.99</td>\n",
       "    </tr>\n",
       "    <tr>\n",
       "      <th>installment</th>\n",
       "      <td>396030.0</td>\n",
       "      <td>431.849698</td>\n",
       "      <td>250.727790</td>\n",
       "      <td>16.08</td>\n",
       "      <td>250.33</td>\n",
       "      <td>375.43</td>\n",
       "      <td>567.30</td>\n",
       "      <td>1533.81</td>\n",
       "    </tr>\n",
       "    <tr>\n",
       "      <th>annual_inc</th>\n",
       "      <td>396030.0</td>\n",
       "      <td>74203.175798</td>\n",
       "      <td>61637.621158</td>\n",
       "      <td>0.00</td>\n",
       "      <td>45000.00</td>\n",
       "      <td>64000.00</td>\n",
       "      <td>90000.00</td>\n",
       "      <td>8706582.00</td>\n",
       "    </tr>\n",
       "    <tr>\n",
       "      <th>dti</th>\n",
       "      <td>396030.0</td>\n",
       "      <td>17.379514</td>\n",
       "      <td>18.019092</td>\n",
       "      <td>0.00</td>\n",
       "      <td>11.28</td>\n",
       "      <td>16.91</td>\n",
       "      <td>22.98</td>\n",
       "      <td>9999.00</td>\n",
       "    </tr>\n",
       "    <tr>\n",
       "      <th>open_acc</th>\n",
       "      <td>396030.0</td>\n",
       "      <td>11.311153</td>\n",
       "      <td>5.137649</td>\n",
       "      <td>0.00</td>\n",
       "      <td>8.00</td>\n",
       "      <td>10.00</td>\n",
       "      <td>14.00</td>\n",
       "      <td>90.00</td>\n",
       "    </tr>\n",
       "    <tr>\n",
       "      <th>pub_rec</th>\n",
       "      <td>396030.0</td>\n",
       "      <td>0.178191</td>\n",
       "      <td>0.530671</td>\n",
       "      <td>0.00</td>\n",
       "      <td>0.00</td>\n",
       "      <td>0.00</td>\n",
       "      <td>0.00</td>\n",
       "      <td>86.00</td>\n",
       "    </tr>\n",
       "    <tr>\n",
       "      <th>revol_bal</th>\n",
       "      <td>396030.0</td>\n",
       "      <td>15844.539853</td>\n",
       "      <td>20591.836109</td>\n",
       "      <td>0.00</td>\n",
       "      <td>6025.00</td>\n",
       "      <td>11181.00</td>\n",
       "      <td>19620.00</td>\n",
       "      <td>1743266.00</td>\n",
       "    </tr>\n",
       "    <tr>\n",
       "      <th>revol_util</th>\n",
       "      <td>395754.0</td>\n",
       "      <td>53.791749</td>\n",
       "      <td>24.452193</td>\n",
       "      <td>0.00</td>\n",
       "      <td>35.80</td>\n",
       "      <td>54.80</td>\n",
       "      <td>72.90</td>\n",
       "      <td>892.30</td>\n",
       "    </tr>\n",
       "    <tr>\n",
       "      <th>total_acc</th>\n",
       "      <td>396030.0</td>\n",
       "      <td>25.414744</td>\n",
       "      <td>11.886991</td>\n",
       "      <td>2.00</td>\n",
       "      <td>17.00</td>\n",
       "      <td>24.00</td>\n",
       "      <td>32.00</td>\n",
       "      <td>151.00</td>\n",
       "    </tr>\n",
       "    <tr>\n",
       "      <th>mort_acc</th>\n",
       "      <td>358235.0</td>\n",
       "      <td>1.813991</td>\n",
       "      <td>2.147930</td>\n",
       "      <td>0.00</td>\n",
       "      <td>0.00</td>\n",
       "      <td>1.00</td>\n",
       "      <td>3.00</td>\n",
       "      <td>34.00</td>\n",
       "    </tr>\n",
       "    <tr>\n",
       "      <th>pub_rec_bankruptcies</th>\n",
       "      <td>395495.0</td>\n",
       "      <td>0.121648</td>\n",
       "      <td>0.356174</td>\n",
       "      <td>0.00</td>\n",
       "      <td>0.00</td>\n",
       "      <td>0.00</td>\n",
       "      <td>0.00</td>\n",
       "      <td>8.00</td>\n",
       "    </tr>\n",
       "  </tbody>\n",
       "</table>\n",
       "</div>"
      ],
      "text/plain": [
       "                         count          mean           std     min       25%  \\\n",
       "loan_amnt             396030.0  14113.888089   8357.441341  500.00   8000.00   \n",
       "int_rate              396030.0     13.639400      4.472157    5.32     10.49   \n",
       "installment           396030.0    431.849698    250.727790   16.08    250.33   \n",
       "annual_inc            396030.0  74203.175798  61637.621158    0.00  45000.00   \n",
       "dti                   396030.0     17.379514     18.019092    0.00     11.28   \n",
       "open_acc              396030.0     11.311153      5.137649    0.00      8.00   \n",
       "pub_rec               396030.0      0.178191      0.530671    0.00      0.00   \n",
       "revol_bal             396030.0  15844.539853  20591.836109    0.00   6025.00   \n",
       "revol_util            395754.0     53.791749     24.452193    0.00     35.80   \n",
       "total_acc             396030.0     25.414744     11.886991    2.00     17.00   \n",
       "mort_acc              358235.0      1.813991      2.147930    0.00      0.00   \n",
       "pub_rec_bankruptcies  395495.0      0.121648      0.356174    0.00      0.00   \n",
       "\n",
       "                           50%       75%         max  \n",
       "loan_amnt             12000.00  20000.00    40000.00  \n",
       "int_rate                 13.33     16.49       30.99  \n",
       "installment             375.43    567.30     1533.81  \n",
       "annual_inc            64000.00  90000.00  8706582.00  \n",
       "dti                      16.91     22.98     9999.00  \n",
       "open_acc                 10.00     14.00       90.00  \n",
       "pub_rec                   0.00      0.00       86.00  \n",
       "revol_bal             11181.00  19620.00  1743266.00  \n",
       "revol_util               54.80     72.90      892.30  \n",
       "total_acc                24.00     32.00      151.00  \n",
       "mort_acc                  1.00      3.00       34.00  \n",
       "pub_rec_bankruptcies      0.00      0.00        8.00  "
      ]
     },
     "execution_count": 6,
     "metadata": {},
     "output_type": "execute_result"
    }
   ],
   "source": [
    "df.describe().transpose()"
   ]
  },
  {
   "cell_type": "markdown",
   "metadata": {
    "papermill": {
     "duration": 0.052971,
     "end_time": "2021-02-16T21:32:58.717478",
     "exception": false,
     "start_time": "2021-02-16T21:32:58.664507",
     "status": "completed"
    },
    "tags": []
   },
   "source": [
    "<a id=\"ch3\"></a>\n",
    "# 3. Exploratory Data Analysis\n",
    "---\n",
    "\n",
    "## Analyze by visualizing data\n",
    "Get an understanding for which variables are important, view summary statistics, and visualize the data."
   ]
  },
  {
   "cell_type": "markdown",
   "metadata": {
    "papermill": {
     "duration": 0.053447,
     "end_time": "2021-02-16T21:32:58.824831",
     "exception": false,
     "start_time": "2021-02-16T21:32:58.771384",
     "status": "completed"
    },
    "tags": []
   },
   "source": [
    "## Pearson correlation matrix\n",
    "We use the Pearson correlation coefficient to examine the strength and direction of the linear relationship between two continuous variables.\n",
    "\n",
    "The correlation coefficient can range in value from −1 to +1. The larger the absolute value of the coefficient, the stronger the relationship between the variables. For the Pearson correlation, an absolute value of 1 indicates a perfect linear relationship. A correlation close to 0 indicates no linear relationship between the variables. \n",
    "\n",
    "The sign of the coefficient indicates the direction of the relationship. If both variables tend to increase or decrease together, the coefficient is positive, and the line that represents the correlation slopes upward. If one variable tends to increase as the other decreases, the coefficient is negative, and the line that represents the correlation slopes downward.\n",
    "\n",
    "* We can see a strong correlation between loan_amnt and installment. (The monthly payment owed by the borrower if the loan originates)"
   ]
  },
  {
   "cell_type": "code",
   "execution_count": 7,
   "metadata": {
    "_kg_hide-input": true,
    "execution": {
     "iopub.execute_input": "2021-02-16T21:32:58.941907Z",
     "iopub.status.busy": "2021-02-16T21:32:58.941258Z",
     "iopub.status.idle": "2021-02-16T21:32:59.967630Z",
     "shell.execute_reply": "2021-02-16T21:32:59.968211Z"
    },
    "papermill": {
     "duration": 1.088649,
     "end_time": "2021-02-16T21:32:59.968364",
     "exception": false,
     "start_time": "2021-02-16T21:32:58.879715",
     "status": "completed"
    },
    "tags": []
   },
   "outputs": [
    {
     "data": {
      "text/plain": [
       "<matplotlib.axes._subplots.AxesSubplot at 0x7fa993d50f10>"
      ]
     },
     "execution_count": 7,
     "metadata": {},
     "output_type": "execute_result"
    },
    {
     "data": {
      "image/png": "[encoded data removed]",
      "text/plain": [
       "<Figure size 864x864 with 2 Axes>"
      ]
     },
     "metadata": {},
     "output_type": "display_data"
    }
   ],
   "source": [
    "sns.set(style=\"whitegrid\", font_scale=1)\n",
    "\n",
    "plt.figure(figsize=(12,12))\n",
    "plt.title('Pearson Correlation Matrix',fontsize=25)\n",
    "sns.heatmap(df.corr(),linewidths=0.25,vmax=0.7,square=True,cmap=\"GnBu\",linecolor='w',\n",
    "            annot=True, annot_kws={\"size\":10}, cbar_kws={\"shrink\": .7})"
   ]
  },
  {
   "cell_type": "markdown",
   "metadata": {
    "papermill": {
     "duration": 0.056795,
     "end_time": "2021-02-16T21:33:00.083200",
     "exception": false,
     "start_time": "2021-02-16T21:33:00.026405",
     "status": "completed"
    },
    "tags": []
   },
   "source": [
    "## Loan status and loan amount distribution\n",
    "* This is an imbalance problem, because we have a lot more entries of people that fully paid their loans then people that did not pay back.\n",
    "* We can expect to probably do very well in terms of accuracy but our precision and recall are going to be the true metrics that we will have to evaluate our model based off of.\n",
    "* In the loan amount distribution we can see spikes in even ten thousend dollar, so this is indicating that there are certain amounts that are basically standard loans."
   ]
  },
  {
   "cell_type": "code",
   "execution_count": 8,
   "metadata": {
    "_kg_hide-input": true,
    "execution": {
     "iopub.execute_input": "2021-02-16T21:33:00.213463Z",
     "iopub.status.busy": "2021-02-16T21:33:00.212357Z",
     "iopub.status.idle": "2021-02-16T21:33:00.871063Z",
     "shell.execute_reply": "2021-02-16T21:33:00.871625Z"
    },
    "papermill": {
     "duration": 0.731365,
     "end_time": "2021-02-16T21:33:00.871787",
     "exception": false,
     "start_time": "2021-02-16T21:33:00.140422",
     "status": "completed"
    },
    "tags": []
   },
   "outputs": [
    {
     "data": {
      "text/plain": [
       "Text(0.5, 1.0, 'Loan Amount Distribution')"
      ]
     },
     "execution_count": 8,
     "metadata": {},
     "output_type": "execute_result"
    },
    {
     "data": {
      "image/png": "[encoded data removed]",
      "text/plain": [
       "<Figure size 1080x360 with 2 Axes>"
      ]
     },
     "metadata": {},
     "output_type": "display_data"
    }
   ],
   "source": [
    "f, axes = plt.subplots(1, 2, figsize=(15,5))\n",
    "sns.countplot(x='loan_status', data=df, ax=axes[0])\n",
    "sns.distplot(df['loan_amnt'], kde=False, bins=40, ax=axes[1])\n",
    "sns.despine()\n",
    "axes[0].set(xlabel='Status', ylabel='')\n",
    "axes[0].set_title('Count of Loan Status', size=20)\n",
    "axes[1].set(xlabel='Loan Amount', ylabel='')\n",
    "axes[1].set_title('Loan Amount Distribution', size=20)"
   ]
  },
  {
   "cell_type": "markdown",
   "metadata": {
    "papermill": {
     "duration": 0.058264,
     "end_time": "2021-02-16T21:33:00.988638",
     "exception": false,
     "start_time": "2021-02-16T21:33:00.930374",
     "status": "completed"
    },
    "tags": []
   },
   "source": [
    "## Relationship between loan_amnt, loan_status and installment"
   ]
  },
  {
   "cell_type": "code",
   "execution_count": 9,
   "metadata": {
    "_kg_hide-input": true,
    "execution": {
     "iopub.execute_input": "2021-02-16T21:33:01.110166Z",
     "iopub.status.busy": "2021-02-16T21:33:01.109178Z",
     "iopub.status.idle": "2021-02-16T21:33:02.552428Z",
     "shell.execute_reply": "2021-02-16T21:33:02.552941Z"
    },
    "papermill": {
     "duration": 1.505576,
     "end_time": "2021-02-16T21:33:02.553107",
     "exception": false,
     "start_time": "2021-02-16T21:33:01.047531",
     "status": "completed"
    },
    "tags": []
   },
   "outputs": [
    {
     "data": {
      "text/plain": [
       "Text(0.5, 1.0, 'Boxplot between Loan Amount and Loan Status')"
      ]
     },
     "execution_count": 9,
     "metadata": {},
     "output_type": "execute_result"
    },
    {
     "data": {
      "image/png": "[encoded data removed]",
      "text/plain": [
       "<Figure size 1080x360 with 2 Axes>"
      ]
     },
     "metadata": {},
     "output_type": "display_data"
    }
   ],
   "source": [
    "f, axes = plt.subplots(1, 2, figsize=(15,5))\n",
    "sns.scatterplot(x='installment', y='loan_amnt', data=df, ax=axes[0])\n",
    "sns.boxplot(x='loan_status', y='loan_amnt', data=df, ax=axes[1])\n",
    "sns.despine()\n",
    "axes[0].set(xlabel='Installment', ylabel='Loan Amount')\n",
    "axes[0].set_title('Scatterplot between Loan Amount and Installment', size=15)\n",
    "axes[1].set(xlabel='Loan Status', ylabel='Loan Amount')\n",
    "axes[1].set_title('Boxplot between Loan Amount and Loan Status', size=15)"
   ]
  },
  {
   "cell_type": "markdown",
   "metadata": {
    "papermill": {
     "duration": 0.062867,
     "end_time": "2021-02-16T21:33:02.678674",
     "exception": false,
     "start_time": "2021-02-16T21:33:02.615807",
     "status": "completed"
    },
    "tags": []
   },
   "source": [
    "In case that the boxplot is a little hard to read you can always compare the averages here: \n",
    "* So you can see the charged off average price is a little higher than the fully paid loan."
   ]
  },
  {
   "cell_type": "code",
   "execution_count": 10,
   "metadata": {
    "execution": {
     "iopub.execute_input": "2021-02-16T21:33:02.815026Z",
     "iopub.status.busy": "2021-02-16T21:33:02.814327Z",
     "iopub.status.idle": "2021-02-16T21:33:02.894508Z",
     "shell.execute_reply": "2021-02-16T21:33:02.894989Z"
    },
    "papermill": {
     "duration": 0.154701,
     "end_time": "2021-02-16T21:33:02.895138",
     "exception": false,
     "start_time": "2021-02-16T21:33:02.740437",
     "status": "completed"
    },
    "tags": []
   },
   "outputs": [
    {
     "data": {
      "text/html": [
       "<div>\n",
       "<style scoped>\n",
       "    .dataframe tbody tr th:only-of-type {\n",
       "        vertical-align: middle;\n",
       "    }\n",
       "\n",
       "    .dataframe tbody tr th {\n",
       "        vertical-align: top;\n",
       "    }\n",
       "\n",
       "    .dataframe thead th {\n",
       "        text-align: right;\n",
       "    }\n",
       "</style>\n",
       "<table border=\"1\" class=\"dataframe\">\n",
       "  <thead>\n",
       "    <tr style=\"text-align: right;\">\n",
       "      <th></th>\n",
       "      <th>count</th>\n",
       "      <th>mean</th>\n",
       "      <th>std</th>\n",
       "      <th>min</th>\n",
       "      <th>25%</th>\n",
       "      <th>50%</th>\n",
       "      <th>75%</th>\n",
       "      <th>max</th>\n",
       "    </tr>\n",
       "    <tr>\n",
       "      <th>loan_status</th>\n",
       "      <th></th>\n",
       "      <th></th>\n",
       "      <th></th>\n",
       "      <th></th>\n",
       "      <th></th>\n",
       "      <th></th>\n",
       "      <th></th>\n",
       "      <th></th>\n",
       "    </tr>\n",
       "  </thead>\n",
       "  <tbody>\n",
       "    <tr>\n",
       "      <th>Charged Off</th>\n",
       "      <td>77673.0</td>\n",
       "      <td>15126.300967</td>\n",
       "      <td>8505.090557</td>\n",
       "      <td>1000.0</td>\n",
       "      <td>8525.0</td>\n",
       "      <td>14000.0</td>\n",
       "      <td>20000.0</td>\n",
       "      <td>40000.0</td>\n",
       "    </tr>\n",
       "    <tr>\n",
       "      <th>Fully Paid</th>\n",
       "      <td>318357.0</td>\n",
       "      <td>13866.878771</td>\n",
       "      <td>8302.319699</td>\n",
       "      <td>500.0</td>\n",
       "      <td>7500.0</td>\n",
       "      <td>12000.0</td>\n",
       "      <td>19225.0</td>\n",
       "      <td>40000.0</td>\n",
       "    </tr>\n",
       "  </tbody>\n",
       "</table>\n",
       "</div>"
      ],
      "text/plain": [
       "                count          mean          std     min     25%      50%  \\\n",
       "loan_status                                                                 \n",
       "Charged Off   77673.0  15126.300967  8505.090557  1000.0  8525.0  14000.0   \n",
       "Fully Paid   318357.0  13866.878771  8302.319699   500.0  7500.0  12000.0   \n",
       "\n",
       "                 75%      max  \n",
       "loan_status                    \n",
       "Charged Off  20000.0  40000.0  \n",
       "Fully Paid   19225.0  40000.0  "
      ]
     },
     "execution_count": 10,
     "metadata": {},
     "output_type": "execute_result"
    }
   ],
   "source": [
    "df.groupby('loan_status')['loan_amnt'].describe()"
   ]
  },
  {
   "cell_type": "markdown",
   "metadata": {
    "papermill": {
     "duration": 0.062877,
     "end_time": "2021-02-16T21:33:03.020991",
     "exception": false,
     "start_time": "2021-02-16T21:33:02.958114",
     "status": "completed"
    },
    "tags": []
   },
   "source": [
    "## Countplot per grade and subgrade\n",
    "* Essentially this is showing the percentage of charged off loans.\n",
    "* Looks like it is increasing as the letter grade gets higher.\n",
    "* Better grades are bluer and the worse grades are redder."
   ]
  },
  {
   "cell_type": "code",
   "execution_count": 11,
   "metadata": {
    "_kg_hide-input": true,
    "execution": {
     "iopub.execute_input": "2021-02-16T21:33:03.156946Z",
     "iopub.status.busy": "2021-02-16T21:33:03.155308Z",
     "iopub.status.idle": "2021-02-16T21:33:04.457493Z",
     "shell.execute_reply": "2021-02-16T21:33:04.456829Z"
    },
    "papermill": {
     "duration": 1.373653,
     "end_time": "2021-02-16T21:33:04.457602",
     "exception": false,
     "start_time": "2021-02-16T21:33:03.083949",
     "status": "completed"
    },
    "tags": []
   },
   "outputs": [
    {
     "data": {
      "image/png": "[encoded data removed]",
      "text/plain": [
       "<Figure size 1080x360 with 2 Axes>"
      ]
     },
     "metadata": {},
     "output_type": "display_data"
    }
   ],
   "source": [
    "f, axes = plt.subplots(1, 2, figsize=(15,5), gridspec_kw={'width_ratios': [1, 2]})\n",
    "sns.countplot(x='grade', hue='loan_status', data=df, order=sorted(df['grade'].unique()), palette='seismic', ax=axes[0])\n",
    "sns.countplot(x='sub_grade', data=df, palette='seismic', order=sorted(df['sub_grade'].unique()), ax=axes[1])\n",
    "sns.despine()\n",
    "axes[0].set(xlabel='Grade', ylabel='Count')\n",
    "axes[0].set_title('Count of Loan Status per Grade', size=20)\n",
    "axes[1].set(xlabel='Sub Grade', ylabel='Count')\n",
    "axes[1].set_title('Count of Loan Status per Sub Grade', size=20)\n",
    "plt.tight_layout()"
   ]
  },
  {
   "cell_type": "markdown",
   "metadata": {
    "papermill": {
     "duration": 0.064332,
     "end_time": "2021-02-16T21:33:04.585973",
     "exception": false,
     "start_time": "2021-02-16T21:33:04.521641",
     "status": "completed"
    },
    "tags": []
   },
   "source": [
    "Now we are going to create a new column called 'loan_repaid' which will contain a 1 if the loan status was \"Fully Paid\" and a 0 if it was \"Charged Off\"."
   ]
  },
  {
   "cell_type": "code",
   "execution_count": 12,
   "metadata": {
    "execution": {
     "iopub.execute_input": "2021-02-16T21:33:04.766694Z",
     "iopub.status.busy": "2021-02-16T21:33:04.727989Z",
     "iopub.status.idle": "2021-02-16T21:33:04.782490Z",
     "shell.execute_reply": "2021-02-16T21:33:04.781948Z"
    },
    "papermill": {
     "duration": 0.132268,
     "end_time": "2021-02-16T21:33:04.782598",
     "exception": false,
     "start_time": "2021-02-16T21:33:04.650330",
     "status": "completed"
    },
    "tags": []
   },
   "outputs": [
    {
     "data": {
      "text/html": [
       "<div>\n",
       "<style scoped>\n",
       "    .dataframe tbody tr th:only-of-type {\n",
       "        vertical-align: middle;\n",
       "    }\n",
       "\n",
       "    .dataframe tbody tr th {\n",
       "        vertical-align: top;\n",
       "    }\n",
       "\n",
       "    .dataframe thead th {\n",
       "        text-align: right;\n",
       "    }\n",
       "</style>\n",
       "<table border=\"1\" class=\"dataframe\">\n",
       "  <thead>\n",
       "    <tr style=\"text-align: right;\">\n",
       "      <th></th>\n",
       "      <th>loan_repaid</th>\n",
       "      <th>loan_status</th>\n",
       "    </tr>\n",
       "  </thead>\n",
       "  <tbody>\n",
       "    <tr>\n",
       "      <th>0</th>\n",
       "      <td>1</td>\n",
       "      <td>Fully Paid</td>\n",
       "    </tr>\n",
       "    <tr>\n",
       "      <th>1</th>\n",
       "      <td>1</td>\n",
       "      <td>Fully Paid</td>\n",
       "    </tr>\n",
       "    <tr>\n",
       "      <th>2</th>\n",
       "      <td>1</td>\n",
       "      <td>Fully Paid</td>\n",
       "    </tr>\n",
       "    <tr>\n",
       "      <th>3</th>\n",
       "      <td>1</td>\n",
       "      <td>Fully Paid</td>\n",
       "    </tr>\n",
       "    <tr>\n",
       "      <th>4</th>\n",
       "      <td>0</td>\n",
       "      <td>Charged Off</td>\n",
       "    </tr>\n",
       "  </tbody>\n",
       "</table>\n",
       "</div>"
      ],
      "text/plain": [
       "   loan_repaid  loan_status\n",
       "0            1   Fully Paid\n",
       "1            1   Fully Paid\n",
       "2            1   Fully Paid\n",
       "3            1   Fully Paid\n",
       "4            0  Charged Off"
      ]
     },
     "execution_count": 12,
     "metadata": {},
     "output_type": "execute_result"
    }
   ],
   "source": [
    "df['loan_repaid'] = df['loan_status'].map({'Fully Paid':1,'Charged Off':0})\n",
    "df[['loan_repaid','loan_status']].head()"
   ]
  },
  {
   "cell_type": "markdown",
   "metadata": {
    "papermill": {
     "duration": 0.066658,
     "end_time": "2021-02-16T21:33:04.913848",
     "exception": false,
     "start_time": "2021-02-16T21:33:04.847190",
     "status": "completed"
    },
    "tags": []
   },
   "source": [
    "* The interest rate has essentially the highest negative correlation with whether or not someone is going to repay their loan.\n",
    "* If you have a extremely high interest rate you are going to find it harder to pay off that loan."
   ]
  },
  {
   "cell_type": "code",
   "execution_count": 13,
   "metadata": {
    "execution": {
     "iopub.execute_input": "2021-02-16T21:33:05.049825Z",
     "iopub.status.busy": "2021-02-16T21:33:05.049170Z",
     "iopub.status.idle": "2021-02-16T21:33:05.522648Z",
     "shell.execute_reply": "2021-02-16T21:33:05.521733Z"
    },
    "papermill": {
     "duration": 0.54406,
     "end_time": "2021-02-16T21:33:05.522833",
     "exception": false,
     "start_time": "2021-02-16T21:33:04.978773",
     "status": "completed"
    },
    "tags": []
   },
   "outputs": [
    {
     "data": {
      "text/plain": [
       "<matplotlib.axes._subplots.AxesSubplot at 0x7fa991b856d0>"
      ]
     },
     "execution_count": 13,
     "metadata": {},
     "output_type": "execute_result"
    },
    {
     "data": {
      "image/png": "[encoded data removed]",
      "text/plain": [
       "<Figure size 432x288 with 1 Axes>"
      ]
     },
     "metadata": {},
     "output_type": "display_data"
    }
   ],
   "source": [
    "df.corr()['loan_repaid'].sort_values(ascending=True).drop('loan_repaid').plot.bar(color='green')"
   ]
  },
  {
   "cell_type": "markdown",
   "metadata": {
    "papermill": {
     "duration": 0.074305,
     "end_time": "2021-02-16T21:33:05.676520",
     "exception": false,
     "start_time": "2021-02-16T21:33:05.602215",
     "status": "completed"
    },
    "tags": []
   },
   "source": [
    "<a id=\"ch4\"></a>\n",
    "# 4. Data preprocessing\n",
    "---\n",
    "Remove or fill any missing data. Remove unnecessary or repetitive features. Convert categorical string features to dummy variables.\n",
    "\n",
    "## Missing data\n",
    "***What is the length of the dataframe?***"
   ]
  },
  {
   "cell_type": "code",
   "execution_count": 14,
   "metadata": {
    "execution": {
     "iopub.execute_input": "2021-02-16T21:33:05.823620Z",
     "iopub.status.busy": "2021-02-16T21:33:05.822960Z",
     "iopub.status.idle": "2021-02-16T21:33:05.826169Z",
     "shell.execute_reply": "2021-02-16T21:33:05.827036Z"
    },
    "papermill": {
     "duration": 0.076793,
     "end_time": "2021-02-16T21:33:05.827239",
     "exception": false,
     "start_time": "2021-02-16T21:33:05.750446",
     "status": "completed"
    },
    "tags": []
   },
   "outputs": [
    {
     "name": "stdout",
     "output_type": "stream",
     "text": [
      "396030\n"
     ]
    }
   ],
   "source": [
    "print(len(df))"
   ]
  },
  {
   "cell_type": "markdown",
   "metadata": {
    "papermill": {
     "duration": 0.069391,
     "end_time": "2021-02-16T21:33:05.966183",
     "exception": false,
     "start_time": "2021-02-16T21:33:05.896792",
     "status": "completed"
    },
    "tags": []
   },
   "source": [
    "***What is the total count of missing values per column?***\n",
    "\n",
    "We have missing values in emp_title, emp_length, title, revol_util, mort_acc and pub_rec_bankruptcies. "
   ]
  },
  {
   "cell_type": "code",
   "execution_count": 15,
   "metadata": {
    "execution": {
     "iopub.execute_input": "2021-02-16T21:33:06.105543Z",
     "iopub.status.busy": "2021-02-16T21:33:06.104904Z",
     "iopub.status.idle": "2021-02-16T21:33:06.761520Z",
     "shell.execute_reply": "2021-02-16T21:33:06.762077Z"
    },
    "papermill": {
     "duration": 0.728544,
     "end_time": "2021-02-16T21:33:06.762222",
     "exception": false,
     "start_time": "2021-02-16T21:33:06.033678",
     "status": "completed"
    },
    "tags": []
   },
   "outputs": [
    {
     "data": {
      "text/plain": [
       "loan_amnt                   0\n",
       "term                        0\n",
       "int_rate                    0\n",
       "installment                 0\n",
       "grade                       0\n",
       "sub_grade                   0\n",
       "emp_title               22927\n",
       "emp_length              18301\n",
       "home_ownership              0\n",
       "annual_inc                  0\n",
       "verification_status         0\n",
       "issue_d                     0\n",
       "loan_status                 0\n",
       "purpose                     0\n",
       "title                    1755\n",
       "dti                         0\n",
       "earliest_cr_line            0\n",
       "open_acc                    0\n",
       "pub_rec                     0\n",
       "revol_bal                   0\n",
       "revol_util                276\n",
       "total_acc                   0\n",
       "initial_list_status         0\n",
       "application_type            0\n",
       "mort_acc                37795\n",
       "pub_rec_bankruptcies      535\n",
       "address                     0\n",
       "loan_repaid                 0\n",
       "dtype: int64"
      ]
     },
     "execution_count": 15,
     "metadata": {},
     "output_type": "execute_result"
    }
   ],
   "source": [
    "df.isnull().sum()"
   ]
  },
  {
   "cell_type": "code",
   "execution_count": 16,
   "metadata": {
    "_kg_hide-input": true,
    "execution": {
     "iopub.execute_input": "2021-02-16T21:33:06.902005Z",
     "iopub.status.busy": "2021-02-16T21:33:06.901261Z",
     "iopub.status.idle": "2021-02-16T21:33:06.912023Z",
     "shell.execute_reply": "2021-02-16T21:33:06.911501Z"
    },
    "papermill": {
     "duration": 0.082321,
     "end_time": "2021-02-16T21:33:06.912138",
     "exception": false,
     "start_time": "2021-02-16T21:33:06.829817",
     "status": "completed"
    },
    "tags": []
   },
   "outputs": [
    {
     "name": "stdout",
     "output_type": "stream",
     "text": [
      "The job title supplied by the Borrower when applying for the loan.*\n",
      "\n",
      "\n",
      "Employment length in years. Possible values are between 0 and 10 where 0 means less than one year and 10 means ten or more years. \n",
      "\n",
      "\n",
      "The loan title provided by the borrower\n",
      "\n",
      "\n",
      "Revolving line utilization rate, or the amount of credit the borrower is using relative to all available revolving credit.\n",
      "\n",
      "\n",
      "Number of mortgage accounts.\n",
      "\n",
      "\n",
      "Number of public record bankruptcies\n"
     ]
    }
   ],
   "source": [
    "feat_info('emp_title')\n",
    "print('\\n')\n",
    "feat_info('emp_length')\n",
    "print('\\n')\n",
    "feat_info('title')\n",
    "print('\\n')\n",
    "feat_info('revol_util')\n",
    "print('\\n')\n",
    "feat_info('mort_acc')\n",
    "print('\\n')\n",
    "feat_info('pub_rec_bankruptcies')"
   ]
  },
  {
   "cell_type": "markdown",
   "metadata": {
    "papermill": {
     "duration": 0.067996,
     "end_time": "2021-02-16T21:33:07.053260",
     "exception": false,
     "start_time": "2021-02-16T21:33:06.985264",
     "status": "completed"
    },
    "tags": []
   },
   "source": [
    "## Percentage of missing values per column\n",
    "* In the plot we can see how much data is missing as a percentage of the total data.\n",
    "* Notice that there is missing almost 10% of mortgage accounts, so we can not drop all those rows. \n",
    "* On the other hand, we could drop missing values in revol_util or pub_rec_bankruptcies."
   ]
  },
  {
   "cell_type": "code",
   "execution_count": 17,
   "metadata": {
    "execution": {
     "iopub.execute_input": "2021-02-16T21:33:07.243469Z",
     "iopub.status.busy": "2021-02-16T21:33:07.242797Z",
     "iopub.status.idle": "2021-02-16T21:33:08.300439Z",
     "shell.execute_reply": "2021-02-16T21:33:08.299842Z"
    },
    "papermill": {
     "duration": 1.131642,
     "end_time": "2021-02-16T21:33:08.300567",
     "exception": false,
     "start_time": "2021-02-16T21:33:07.168925",
     "status": "completed"
    },
    "tags": []
   },
   "outputs": [
    {
     "data": {
      "text/plain": [
       "<matplotlib.axes._subplots.AxesSubplot at 0x7fa991a9e590>"
      ]
     },
     "execution_count": 17,
     "metadata": {},
     "output_type": "execute_result"
    },
    {
     "data": {
      "image/png": "[encoded data removed]",
      "text/plain": [
       "<Figure size 720x360 with 1 Axes>"
      ]
     },
     "metadata": {},
     "output_type": "display_data"
    }
   ],
   "source": [
    "plt.figure(figsize=(10,5))\n",
    "((df.isnull().sum())/len(df)*100).plot.bar(title='Percentage of missing values per column', color='green')"
   ]
  },
  {
   "cell_type": "markdown",
   "metadata": {
    "papermill": {
     "duration": 0.070568,
     "end_time": "2021-02-16T21:33:08.442072",
     "exception": false,
     "start_time": "2021-02-16T21:33:08.371504",
     "status": "completed"
    },
    "tags": []
   },
   "source": [
    "Let's examine emp_title and emp_length to see whether it will be okay to drop them.\n",
    "\n",
    "***How many unique employment job titles are there?***\n",
    "\n",
    "Realistically there are too many unique job titles to try to convert this to a dummy variable feature."
   ]
  },
  {
   "cell_type": "code",
   "execution_count": 18,
   "metadata": {
    "_kg_hide-input": true,
    "execution": {
     "iopub.execute_input": "2021-02-16T21:33:08.706632Z",
     "iopub.status.busy": "2021-02-16T21:33:08.602134Z",
     "iopub.status.idle": "2021-02-16T21:33:09.027599Z",
     "shell.execute_reply": "2021-02-16T21:33:09.027053Z"
    },
    "papermill": {
     "duration": 0.514985,
     "end_time": "2021-02-16T21:33:09.027722",
     "exception": false,
     "start_time": "2021-02-16T21:33:08.512737",
     "status": "completed"
    },
    "tags": []
   },
   "outputs": [
    {
     "name": "stdout",
     "output_type": "stream",
     "text": [
      "173105\n"
     ]
    },
    {
     "data": {
      "text/plain": [
       "Teacher                                4389\n",
       "Manager                                4250\n",
       "Registered Nurse                       1856\n",
       "RN                                     1846\n",
       "Supervisor                             1830\n",
       "                                       ... \n",
       "Meta Interfaces, LLC                      1\n",
       "lululemon athletica                       1\n",
       "Ten Oaks                                  1\n",
       "property accountability specialist        1\n",
       "DIRECTOR OF PROGRAMS                      1\n",
       "Name: emp_title, Length: 173105, dtype: int64"
      ]
     },
     "execution_count": 18,
     "metadata": {},
     "output_type": "execute_result"
    }
   ],
   "source": [
    "print(df['emp_title'].nunique())\n",
    "df['emp_title'].value_counts()"
   ]
  },
  {
   "cell_type": "markdown",
   "metadata": {
    "papermill": {
     "duration": 0.07172,
     "end_time": "2021-02-16T21:33:09.171247",
     "exception": false,
     "start_time": "2021-02-16T21:33:09.099527",
     "status": "completed"
    },
    "tags": []
   },
   "source": [
    "Let's drop emp_title:"
   ]
  },
  {
   "cell_type": "code",
   "execution_count": 19,
   "metadata": {
    "execution": {
     "iopub.execute_input": "2021-02-16T21:33:09.386105Z",
     "iopub.status.busy": "2021-02-16T21:33:09.360605Z",
     "iopub.status.idle": "2021-02-16T21:33:09.389931Z",
     "shell.execute_reply": "2021-02-16T21:33:09.389261Z"
    },
    "papermill": {
     "duration": 0.147413,
     "end_time": "2021-02-16T21:33:09.390046",
     "exception": false,
     "start_time": "2021-02-16T21:33:09.242633",
     "status": "completed"
    },
    "tags": []
   },
   "outputs": [],
   "source": [
    "df = df.drop('emp_title',axis=1)"
   ]
  },
  {
   "cell_type": "markdown",
   "metadata": {
    "papermill": {
     "duration": 0.073189,
     "end_time": "2021-02-16T21:33:09.534727",
     "exception": false,
     "start_time": "2021-02-16T21:33:09.461538",
     "status": "completed"
    },
    "tags": []
   },
   "source": [
    "Now we want the percentage of charge offs per category. Essentially informing us what percent of people per employment category didn't pay back their loan. \n",
    "* We can see that across the extremes it looks to be extremely similar.\n",
    "* Looks like this particular feature of employment length doesn't actually have some extreme differences on the charge off rates.\n",
    "* Looks like regardless of what actual employment length you have if you were to pick someone, about 20% of them are going to have not paid back their loans."
   ]
  },
  {
   "cell_type": "code",
   "execution_count": 20,
   "metadata": {
    "execution": {
     "iopub.execute_input": "2021-02-16T21:33:09.686131Z",
     "iopub.status.busy": "2021-02-16T21:33:09.685407Z",
     "iopub.status.idle": "2021-02-16T21:33:10.140328Z",
     "shell.execute_reply": "2021-02-16T21:33:10.139673Z"
    },
    "papermill": {
     "duration": 0.533463,
     "end_time": "2021-02-16T21:33:10.140463",
     "exception": false,
     "start_time": "2021-02-16T21:33:09.607000",
     "status": "completed"
    },
    "tags": []
   },
   "outputs": [
    {
     "data": {
      "text/plain": [
       "<matplotlib.axes._subplots.AxesSubplot at 0x7fa991a90f90>"
      ]
     },
     "execution_count": 20,
     "metadata": {},
     "output_type": "execute_result"
    },
    {
     "data": {
      "image/png": "[encoded data removed]",
      "text/plain": [
       "<Figure size 432x288 with 1 Axes>"
      ]
     },
     "metadata": {},
     "output_type": "display_data"
    }
   ],
   "source": [
    "per_charge_off = df[df['loan_repaid'] == 0]['emp_length'].value_counts() / df[df['loan_repaid'] == 1]['emp_length'].value_counts()\n",
    "per_charge_off.plot.bar(color='green')"
   ]
  },
  {
   "cell_type": "markdown",
   "metadata": {
    "papermill": {
     "duration": 0.073734,
     "end_time": "2021-02-16T21:33:10.287988",
     "exception": false,
     "start_time": "2021-02-16T21:33:10.214254",
     "status": "completed"
    },
    "tags": []
   },
   "source": [
    "Let's drop emp_length:"
   ]
  },
  {
   "cell_type": "code",
   "execution_count": 21,
   "metadata": {
    "execution": {
     "iopub.execute_input": "2021-02-16T21:33:10.513432Z",
     "iopub.status.busy": "2021-02-16T21:33:10.512650Z",
     "iopub.status.idle": "2021-02-16T21:33:10.515709Z",
     "shell.execute_reply": "2021-02-16T21:33:10.516261Z"
    },
    "papermill": {
     "duration": 0.155952,
     "end_time": "2021-02-16T21:33:10.516407",
     "exception": false,
     "start_time": "2021-02-16T21:33:10.360455",
     "status": "completed"
    },
    "tags": []
   },
   "outputs": [],
   "source": [
    "df = df.drop('emp_length', axis=1)"
   ]
  },
  {
   "cell_type": "markdown",
   "metadata": {
    "papermill": {
     "duration": 0.074247,
     "end_time": "2021-02-16T21:33:10.665347",
     "exception": false,
     "start_time": "2021-02-16T21:33:10.591100",
     "status": "completed"
    },
    "tags": []
   },
   "source": [
    "If we review the title column vs the purpose column looks like there is repeated information"
   ]
  },
  {
   "cell_type": "code",
   "execution_count": 22,
   "metadata": {
    "execution": {
     "iopub.execute_input": "2021-02-16T21:33:10.817101Z",
     "iopub.status.busy": "2021-02-16T21:33:10.816435Z",
     "iopub.status.idle": "2021-02-16T21:33:10.830628Z",
     "shell.execute_reply": "2021-02-16T21:33:10.830076Z"
    },
    "papermill": {
     "duration": 0.092349,
     "end_time": "2021-02-16T21:33:10.830772",
     "exception": false,
     "start_time": "2021-02-16T21:33:10.738423",
     "status": "completed"
    },
    "tags": []
   },
   "outputs": [
    {
     "data": {
      "text/html": [
       "<div>\n",
       "<style scoped>\n",
       "    .dataframe tbody tr th:only-of-type {\n",
       "        vertical-align: middle;\n",
       "    }\n",
       "\n",
       "    .dataframe tbody tr th {\n",
       "        vertical-align: top;\n",
       "    }\n",
       "\n",
       "    .dataframe thead th {\n",
       "        text-align: right;\n",
       "    }\n",
       "</style>\n",
       "<table border=\"1\" class=\"dataframe\">\n",
       "  <thead>\n",
       "    <tr style=\"text-align: right;\">\n",
       "      <th></th>\n",
       "      <th>title</th>\n",
       "      <th>purpose</th>\n",
       "    </tr>\n",
       "  </thead>\n",
       "  <tbody>\n",
       "    <tr>\n",
       "      <th>0</th>\n",
       "      <td>Vacation</td>\n",
       "      <td>vacation</td>\n",
       "    </tr>\n",
       "    <tr>\n",
       "      <th>1</th>\n",
       "      <td>Debt consolidation</td>\n",
       "      <td>debt_consolidation</td>\n",
       "    </tr>\n",
       "    <tr>\n",
       "      <th>2</th>\n",
       "      <td>Credit card refinancing</td>\n",
       "      <td>credit_card</td>\n",
       "    </tr>\n",
       "    <tr>\n",
       "      <th>3</th>\n",
       "      <td>Credit card refinancing</td>\n",
       "      <td>credit_card</td>\n",
       "    </tr>\n",
       "    <tr>\n",
       "      <th>4</th>\n",
       "      <td>Credit Card Refinance</td>\n",
       "      <td>credit_card</td>\n",
       "    </tr>\n",
       "    <tr>\n",
       "      <th>5</th>\n",
       "      <td>Debt consolidation</td>\n",
       "      <td>debt_consolidation</td>\n",
       "    </tr>\n",
       "    <tr>\n",
       "      <th>6</th>\n",
       "      <td>Home improvement</td>\n",
       "      <td>home_improvement</td>\n",
       "    </tr>\n",
       "    <tr>\n",
       "      <th>7</th>\n",
       "      <td>No More Credit Cards</td>\n",
       "      <td>credit_card</td>\n",
       "    </tr>\n",
       "    <tr>\n",
       "      <th>8</th>\n",
       "      <td>Debt consolidation</td>\n",
       "      <td>debt_consolidation</td>\n",
       "    </tr>\n",
       "    <tr>\n",
       "      <th>9</th>\n",
       "      <td>Debt Consolidation</td>\n",
       "      <td>debt_consolidation</td>\n",
       "    </tr>\n",
       "  </tbody>\n",
       "</table>\n",
       "</div>"
      ],
      "text/plain": [
       "                     title             purpose\n",
       "0                 Vacation            vacation\n",
       "1       Debt consolidation  debt_consolidation\n",
       "2  Credit card refinancing         credit_card\n",
       "3  Credit card refinancing         credit_card\n",
       "4    Credit Card Refinance         credit_card\n",
       "5       Debt consolidation  debt_consolidation\n",
       "6         Home improvement    home_improvement\n",
       "7     No More Credit Cards         credit_card\n",
       "8       Debt consolidation  debt_consolidation\n",
       "9       Debt Consolidation  debt_consolidation"
      ]
     },
     "execution_count": 22,
     "metadata": {},
     "output_type": "execute_result"
    }
   ],
   "source": [
    "df[['title', 'purpose']].head(10)"
   ]
  },
  {
   "cell_type": "markdown",
   "metadata": {
    "papermill": {
     "duration": 0.073174,
     "end_time": "2021-02-16T21:33:10.977876",
     "exception": false,
     "start_time": "2021-02-16T21:33:10.904702",
     "status": "completed"
    },
    "tags": []
   },
   "source": [
    "The title column is simply a string subcategory/description of the purpose column. Let's drop the column."
   ]
  },
  {
   "cell_type": "code",
   "execution_count": 23,
   "metadata": {
    "execution": {
     "iopub.execute_input": "2021-02-16T21:33:11.201540Z",
     "iopub.status.busy": "2021-02-16T21:33:11.145436Z",
     "iopub.status.idle": "2021-02-16T21:33:11.204639Z",
     "shell.execute_reply": "2021-02-16T21:33:11.203997Z"
    },
    "papermill": {
     "duration": 0.153423,
     "end_time": "2021-02-16T21:33:11.204769",
     "exception": false,
     "start_time": "2021-02-16T21:33:11.051346",
     "status": "completed"
    },
    "tags": []
   },
   "outputs": [],
   "source": [
    "df = df.drop('title', axis=1)"
   ]
  },
  {
   "cell_type": "markdown",
   "metadata": {
    "papermill": {
     "duration": 0.072863,
     "end_time": "2021-02-16T21:33:11.350837",
     "exception": false,
     "start_time": "2021-02-16T21:33:11.277974",
     "status": "completed"
    },
    "tags": []
   },
   "source": [
    "Now we are going to deal with the missing data of mort_acc. Since mort_acc has a strong correlation with total_acc we will group the dataframe by the total_acc and calculate the mean value for the mort_acc per total_acc entry. To get the result below:"
   ]
  },
  {
   "cell_type": "code",
   "execution_count": 24,
   "metadata": {
    "execution": {
     "iopub.execute_input": "2021-02-16T21:33:11.561231Z",
     "iopub.status.busy": "2021-02-16T21:33:11.515979Z",
     "iopub.status.idle": "2021-02-16T21:33:11.616027Z",
     "shell.execute_reply": "2021-02-16T21:33:11.614921Z"
    },
    "papermill": {
     "duration": 0.192333,
     "end_time": "2021-02-16T21:33:11.616276",
     "exception": false,
     "start_time": "2021-02-16T21:33:11.423943",
     "status": "completed"
    },
    "tags": []
   },
   "outputs": [
    {
     "name": "stdout",
     "output_type": "stream",
     "text": [
      "Mean of mort_acc column per total_acc\n",
      "total_acc\n",
      "2.0      0.000000\n",
      "3.0      0.052023\n",
      "4.0      0.066743\n",
      "5.0      0.103289\n",
      "6.0      0.151293\n",
      "           ...   \n",
      "124.0    1.000000\n",
      "129.0    1.000000\n",
      "135.0    3.000000\n",
      "150.0    2.000000\n",
      "151.0    0.000000\n",
      "Name: mort_acc, Length: 118, dtype: float64\n"
     ]
    }
   ],
   "source": [
    "print(\"Mean of mort_acc column per total_acc\")\n",
    "total_acc_avg = df.groupby('total_acc').mean()['mort_acc']\n",
    "print(total_acc_avg)"
   ]
  },
  {
   "cell_type": "markdown",
   "metadata": {
    "papermill": {
     "duration": 0.07373,
     "end_time": "2021-02-16T21:33:11.787556",
     "exception": false,
     "start_time": "2021-02-16T21:33:11.713826",
     "status": "completed"
    },
    "tags": []
   },
   "source": [
    "Let's fill in the missing mort_acc values based on their total_acc value. If the mort_acc is missing, then we will fill in that missing value with the mean value corresponding to its total_acc value from the Series we created above. This involves using an .apply() method with two columns."
   ]
  },
  {
   "cell_type": "code",
   "execution_count": 25,
   "metadata": {
    "execution": {
     "iopub.execute_input": "2021-02-16T21:33:11.979521Z",
     "iopub.status.busy": "2021-02-16T21:33:11.957121Z",
     "iopub.status.idle": "2021-02-16T21:33:21.467382Z",
     "shell.execute_reply": "2021-02-16T21:33:21.466468Z"
    },
    "papermill": {
     "duration": 9.606045,
     "end_time": "2021-02-16T21:33:21.467580",
     "exception": false,
     "start_time": "2021-02-16T21:33:11.861535",
     "status": "completed"
    },
    "tags": []
   },
   "outputs": [],
   "source": [
    "total_acc_avg = df.groupby('total_acc').mean()['mort_acc']\n",
    "\n",
    "def fill_mort_acc(total_acc,mort_acc):\n",
    "    '''\n",
    "    Accepts the total_acc and mort_acc values for the row.\n",
    "    Checks if the mort_acc is NaN , if so, it returns the avg mort_acc value\n",
    "    for the corresponding total_acc value for that row.\n",
    "    \n",
    "    total_acc_avg here should be a Series or dictionary containing the mapping of the\n",
    "    groupby averages of mort_acc per total_acc values.\n",
    "    '''\n",
    "    if np.isnan(mort_acc):\n",
    "        return total_acc_avg[total_acc]\n",
    "    else:\n",
    "        return mort_acc\n",
    "    \n",
    "df['mort_acc'] = df.apply(lambda x: fill_mort_acc(x['total_acc'], x['mort_acc']), axis=1)"
   ]
  },
  {
   "cell_type": "markdown",
   "metadata": {
    "papermill": {
     "duration": 0.074571,
     "end_time": "2021-02-16T21:33:21.616405",
     "exception": false,
     "start_time": "2021-02-16T21:33:21.541834",
     "status": "completed"
    },
    "tags": []
   },
   "source": [
    "revol_util and the pub_rec_bankruptcies have missing data points, but they account for less than 0.5% of the total data. Let's remove the rows that are missing those values in those columns with dropna()."
   ]
  },
  {
   "cell_type": "code",
   "execution_count": 26,
   "metadata": {
    "execution": {
     "iopub.execute_input": "2021-02-16T21:33:21.771863Z",
     "iopub.status.busy": "2021-02-16T21:33:21.770611Z",
     "iopub.status.idle": "2021-02-16T21:33:22.358648Z",
     "shell.execute_reply": "2021-02-16T21:33:22.358075Z"
    },
    "papermill": {
     "duration": 0.667161,
     "end_time": "2021-02-16T21:33:22.358780",
     "exception": false,
     "start_time": "2021-02-16T21:33:21.691619",
     "status": "completed"
    },
    "tags": []
   },
   "outputs": [],
   "source": [
    "df = df.dropna()"
   ]
  },
  {
   "cell_type": "code",
   "execution_count": 27,
   "metadata": {
    "execution": {
     "iopub.execute_input": "2021-02-16T21:33:22.513141Z",
     "iopub.status.busy": "2021-02-16T21:33:22.511955Z",
     "iopub.status.idle": "2021-02-16T21:33:23.057960Z",
     "shell.execute_reply": "2021-02-16T21:33:23.057263Z"
    },
    "papermill": {
     "duration": 0.625011,
     "end_time": "2021-02-16T21:33:23.058084",
     "exception": false,
     "start_time": "2021-02-16T21:33:22.433073",
     "status": "completed"
    },
    "tags": []
   },
   "outputs": [
    {
     "data": {
      "text/plain": [
       "loan_amnt               0\n",
       "term                    0\n",
       "int_rate                0\n",
       "installment             0\n",
       "grade                   0\n",
       "sub_grade               0\n",
       "home_ownership          0\n",
       "annual_inc              0\n",
       "verification_status     0\n",
       "issue_d                 0\n",
       "loan_status             0\n",
       "purpose                 0\n",
       "dti                     0\n",
       "earliest_cr_line        0\n",
       "open_acc                0\n",
       "pub_rec                 0\n",
       "revol_bal               0\n",
       "revol_util              0\n",
       "total_acc               0\n",
       "initial_list_status     0\n",
       "application_type        0\n",
       "mort_acc                0\n",
       "pub_rec_bankruptcies    0\n",
       "address                 0\n",
       "loan_repaid             0\n",
       "dtype: int64"
      ]
     },
     "execution_count": 27,
     "metadata": {},
     "output_type": "execute_result"
    }
   ],
   "source": [
    "# check for missing values\n",
    "df.isnull().sum()"
   ]
  },
  {
   "cell_type": "markdown",
   "metadata": {
    "papermill": {
     "duration": 0.075002,
     "end_time": "2021-02-16T21:33:23.208460",
     "exception": false,
     "start_time": "2021-02-16T21:33:23.133458",
     "status": "completed"
    },
    "tags": []
   },
   "source": [
    "<a id=\"ch5\"></a>\n",
    "# 5. Categorical variables and dummy variables\n",
    "---\n",
    "We're done working with the missing data! Now we just need to deal with the string values due to the categorical columns."
   ]
  },
  {
   "cell_type": "markdown",
   "metadata": {
    "papermill": {
     "duration": 0.074821,
     "end_time": "2021-02-16T21:33:23.358799",
     "exception": false,
     "start_time": "2021-02-16T21:33:23.283978",
     "status": "completed"
    },
    "tags": []
   },
   "source": [
    "## Term feature\n",
    "Convert the term feature into either a 36 or 60 integer numeric data type using .apply() or .map()."
   ]
  },
  {
   "cell_type": "code",
   "execution_count": 28,
   "metadata": {
    "execution": {
     "iopub.execute_input": "2021-02-16T21:33:23.616198Z",
     "iopub.status.busy": "2021-02-16T21:33:23.614133Z",
     "iopub.status.idle": "2021-02-16T21:33:24.041279Z",
     "shell.execute_reply": "2021-02-16T21:33:24.040459Z"
    },
    "papermill": {
     "duration": 0.608181,
     "end_time": "2021-02-16T21:33:24.041412",
     "exception": false,
     "start_time": "2021-02-16T21:33:23.433231",
     "status": "completed"
    },
    "tags": []
   },
   "outputs": [
    {
     "name": "stdout",
     "output_type": "stream",
     "text": [
      " 36 months    301247\n",
      " 60 months     93972\n",
      "Name: term, dtype: int64\n",
      "\n",
      "\n",
      "\n",
      "\n",
      "36    301247\n",
      "60     93972\n",
      "Name: term, dtype: int64\n"
     ]
    }
   ],
   "source": [
    "print(df['term'].value_counts())\n",
    "print('\\n')\n",
    "print('\\n')\n",
    "\n",
    "df['term'] = df['term'].apply(lambda term: int(term[:3]))\n",
    "\n",
    "print(df['term'].value_counts())"
   ]
  },
  {
   "cell_type": "markdown",
   "metadata": {
    "papermill": {
     "duration": 0.075868,
     "end_time": "2021-02-16T21:33:24.194558",
     "exception": false,
     "start_time": "2021-02-16T21:33:24.118690",
     "status": "completed"
    },
    "tags": []
   },
   "source": [
    "## Grade feature\n",
    "We already know grade is part of sub_grade, so just drop the grade feature."
   ]
  },
  {
   "cell_type": "code",
   "execution_count": 29,
   "metadata": {
    "execution": {
     "iopub.execute_input": "2021-02-16T21:33:24.352132Z",
     "iopub.status.busy": "2021-02-16T21:33:24.351401Z",
     "iopub.status.idle": "2021-02-16T21:33:24.421135Z",
     "shell.execute_reply": "2021-02-16T21:33:24.420310Z"
    },
    "papermill": {
     "duration": 0.150623,
     "end_time": "2021-02-16T21:33:24.421260",
     "exception": false,
     "start_time": "2021-02-16T21:33:24.270637",
     "status": "completed"
    },
    "tags": []
   },
   "outputs": [],
   "source": [
    "df = df.drop('grade', axis=1)"
   ]
  },
  {
   "cell_type": "markdown",
   "metadata": {
    "papermill": {
     "duration": 0.075722,
     "end_time": "2021-02-16T21:33:24.572461",
     "exception": false,
     "start_time": "2021-02-16T21:33:24.496739",
     "status": "completed"
    },
    "tags": []
   },
   "source": [
    "Let's convert the subgrade into dummy variables. Then concatenate these new columns to the original dataframe. Remember to drop the original subgrade column and to add drop_first=True to your get_dummies call."
   ]
  },
  {
   "cell_type": "code",
   "execution_count": 30,
   "metadata": {
    "execution": {
     "iopub.execute_input": "2021-02-16T21:33:24.739353Z",
     "iopub.status.busy": "2021-02-16T21:33:24.738637Z",
     "iopub.status.idle": "2021-02-16T21:33:24.976161Z",
     "shell.execute_reply": "2021-02-16T21:33:24.975432Z"
    },
    "papermill": {
     "duration": 0.327127,
     "end_time": "2021-02-16T21:33:24.976278",
     "exception": false,
     "start_time": "2021-02-16T21:33:24.649151",
     "status": "completed"
    },
    "tags": []
   },
   "outputs": [],
   "source": [
    "subgrade_dummies = pd.get_dummies(df['sub_grade'],drop_first=True)\n",
    "df = pd.concat([df.drop('sub_grade',axis=1),subgrade_dummies],axis=1)"
   ]
  },
  {
   "cell_type": "markdown",
   "metadata": {
    "papermill": {
     "duration": 0.074726,
     "end_time": "2021-02-16T21:33:25.131409",
     "exception": false,
     "start_time": "2021-02-16T21:33:25.056683",
     "status": "completed"
    },
    "tags": []
   },
   "source": [
    "## Verification_status, application_type, initial_list_status, purpose features\n",
    "Let's convert these columns into dummy variables and concatenate them with the original dataframe."
   ]
  },
  {
   "cell_type": "code",
   "execution_count": 31,
   "metadata": {
    "execution": {
     "iopub.execute_input": "2021-02-16T21:33:25.289735Z",
     "iopub.status.busy": "2021-02-16T21:33:25.289072Z",
     "iopub.status.idle": "2021-02-16T21:33:25.688033Z",
     "shell.execute_reply": "2021-02-16T21:33:25.687425Z"
    },
    "papermill": {
     "duration": 0.481647,
     "end_time": "2021-02-16T21:33:25.688162",
     "exception": false,
     "start_time": "2021-02-16T21:33:25.206515",
     "status": "completed"
    },
    "tags": []
   },
   "outputs": [],
   "source": [
    "dummies = pd.get_dummies(df[['verification_status', 'application_type','initial_list_status','purpose']], drop_first=True)\n",
    "\n",
    "df = df.drop(['verification_status', 'application_type','initial_list_status','purpose'],axis=1)\n",
    "\n",
    "df = pd.concat([df,dummies],axis=1)"
   ]
  },
  {
   "cell_type": "markdown",
   "metadata": {
    "papermill": {
     "duration": 0.075589,
     "end_time": "2021-02-16T21:33:25.840168",
     "exception": false,
     "start_time": "2021-02-16T21:33:25.764579",
     "status": "completed"
    },
    "tags": []
   },
   "source": [
    "## Home_ownership feature\n",
    "Convert these to dummy variables, but replace NONE and ANY with OTHER, so that we end up with just 4 categories, MORTGAGE, RENT, OWN, OTHER. Then concatenate them with the original dataframe."
   ]
  },
  {
   "cell_type": "code",
   "execution_count": 32,
   "metadata": {
    "execution": {
     "iopub.execute_input": "2021-02-16T21:33:26.034125Z",
     "iopub.status.busy": "2021-02-16T21:33:26.033382Z",
     "iopub.status.idle": "2021-02-16T21:33:26.227458Z",
     "shell.execute_reply": "2021-02-16T21:33:26.226790Z"
    },
    "papermill": {
     "duration": 0.31071,
     "end_time": "2021-02-16T21:33:26.227570",
     "exception": false,
     "start_time": "2021-02-16T21:33:25.916860",
     "status": "completed"
    },
    "tags": []
   },
   "outputs": [],
   "source": [
    "df['home_ownership'] = df['home_ownership'].replace(['NONE', 'ANY'], 'OTHER')\n",
    "dummies = pd.get_dummies(df['home_ownership'],drop_first=True)\n",
    "df = df.drop('home_ownership',axis=1)\n",
    "df = pd.concat([df,dummies],axis=1)"
   ]
  },
  {
   "cell_type": "markdown",
   "metadata": {
    "papermill": {
     "duration": 0.075559,
     "end_time": "2021-02-16T21:33:26.379189",
     "exception": false,
     "start_time": "2021-02-16T21:33:26.303630",
     "status": "completed"
    },
    "tags": []
   },
   "source": [
    "## Address feature\n",
    "Let's feature engineer a zip code column from the address in the data set. Create a column called 'zip_code' that extracts the zip code from the address column."
   ]
  },
  {
   "cell_type": "code",
   "execution_count": 33,
   "metadata": {
    "execution": {
     "iopub.execute_input": "2021-02-16T21:33:26.536929Z",
     "iopub.status.busy": "2021-02-16T21:33:26.536283Z",
     "iopub.status.idle": "2021-02-16T21:33:26.878376Z",
     "shell.execute_reply": "2021-02-16T21:33:26.877654Z"
    },
    "papermill": {
     "duration": 0.424019,
     "end_time": "2021-02-16T21:33:26.878504",
     "exception": false,
     "start_time": "2021-02-16T21:33:26.454485",
     "status": "completed"
    },
    "tags": []
   },
   "outputs": [],
   "source": [
    "df['zip_code'] = df['address'].apply(lambda address:address[-5:])\n",
    "\n",
    "dummies = pd.get_dummies(df['zip_code'],drop_first=True)\n",
    "df = df.drop(['zip_code','address'],axis=1)\n",
    "df = pd.concat([df,dummies],axis=1)"
   ]
  },
  {
   "cell_type": "markdown",
   "metadata": {
    "papermill": {
     "duration": 0.075763,
     "end_time": "2021-02-16T21:33:27.030927",
     "exception": false,
     "start_time": "2021-02-16T21:33:26.955164",
     "status": "completed"
    },
    "tags": []
   },
   "source": [
    "## Issue_d feature\n",
    "This would be data leakage, we wouldn't know beforehand whether or not a loan would be issued when using our model, so in theory we wouldn't have an issue_date, drop this feature."
   ]
  },
  {
   "cell_type": "code",
   "execution_count": 34,
   "metadata": {
    "execution": {
     "iopub.execute_input": "2021-02-16T21:33:27.187881Z",
     "iopub.status.busy": "2021-02-16T21:33:27.187226Z",
     "iopub.status.idle": "2021-02-16T21:33:27.265038Z",
     "shell.execute_reply": "2021-02-16T21:33:27.264323Z"
    },
    "papermill": {
     "duration": 0.158532,
     "end_time": "2021-02-16T21:33:27.265154",
     "exception": false,
     "start_time": "2021-02-16T21:33:27.106622",
     "status": "completed"
    },
    "tags": []
   },
   "outputs": [],
   "source": [
    "df = df.drop('issue_d', axis=1)"
   ]
  },
  {
   "cell_type": "markdown",
   "metadata": {
    "papermill": {
     "duration": 0.075496,
     "end_time": "2021-02-16T21:33:27.416681",
     "exception": false,
     "start_time": "2021-02-16T21:33:27.341185",
     "status": "completed"
    },
    "tags": []
   },
   "source": [
    "## Earliest_cr_line feature\n",
    "This appears to be a historical time stamp feature. Extract the year from this feature using a .apply function, then convert it to a numeric feature. Set this new data to a feature column called 'earliest_cr_year'. Then drop the earliest_cr_line feature."
   ]
  },
  {
   "cell_type": "code",
   "execution_count": 35,
   "metadata": {
    "execution": {
     "iopub.execute_input": "2021-02-16T21:33:27.574512Z",
     "iopub.status.busy": "2021-02-16T21:33:27.573873Z",
     "iopub.status.idle": "2021-02-16T21:33:27.997585Z",
     "shell.execute_reply": "2021-02-16T21:33:27.998128Z"
    },
    "papermill": {
     "duration": 0.506055,
     "end_time": "2021-02-16T21:33:27.998269",
     "exception": false,
     "start_time": "2021-02-16T21:33:27.492214",
     "status": "completed"
    },
    "tags": []
   },
   "outputs": [
    {
     "data": {
      "text/plain": [
       "Index(['loan_status'], dtype='object')"
      ]
     },
     "execution_count": 35,
     "metadata": {},
     "output_type": "execute_result"
    }
   ],
   "source": [
    "df['earliest_cr_year'] = df['earliest_cr_line'].apply(lambda date:int(date[-4:]))\n",
    "df = df.drop('earliest_cr_line', axis=1)\n",
    "\n",
    "df.select_dtypes(['object']).columns"
   ]
  },
  {
   "cell_type": "code",
   "execution_count": 36,
   "metadata": {
    "execution": {
     "iopub.execute_input": "2021-02-16T21:33:28.170503Z",
     "iopub.status.busy": "2021-02-16T21:33:28.168326Z",
     "iopub.status.idle": "2021-02-16T21:33:28.189018Z",
     "shell.execute_reply": "2021-02-16T21:33:28.188400Z"
    },
    "papermill": {
     "duration": 0.114328,
     "end_time": "2021-02-16T21:33:28.189133",
     "exception": false,
     "start_time": "2021-02-16T21:33:28.074805",
     "status": "completed"
    },
    "tags": []
   },
   "outputs": [],
   "source": [
    "df = df.drop('loan_status',axis=1)"
   ]
  },
  {
   "cell_type": "markdown",
   "metadata": {
    "papermill": {
     "duration": 0.077153,
     "end_time": "2021-02-16T21:33:28.343353",
     "exception": false,
     "start_time": "2021-02-16T21:33:28.266200",
     "status": "completed"
    },
    "tags": []
   },
   "source": [
    "<a id=\"ch6\"></a>\n",
    "# 6. Scaling and train test split\n",
    "---"
   ]
  },
  {
   "cell_type": "code",
   "execution_count": 37,
   "metadata": {
    "execution": {
     "iopub.execute_input": "2021-02-16T21:33:28.519690Z",
     "iopub.status.busy": "2021-02-16T21:33:28.519006Z",
     "iopub.status.idle": "2021-02-16T21:33:29.036425Z",
     "shell.execute_reply": "2021-02-16T21:33:29.035836Z"
    },
    "papermill": {
     "duration": 0.616029,
     "end_time": "2021-02-16T21:33:29.036548",
     "exception": false,
     "start_time": "2021-02-16T21:33:28.420519",
     "status": "completed"
    },
    "tags": []
   },
   "outputs": [],
   "source": [
    "# Features\n",
    "X = df.drop('loan_repaid',axis=1).values\n",
    "\n",
    "# Label\n",
    "y = df['loan_repaid'].values\n",
    "\n",
    "# Split\n",
    "X_train, X_test, y_train, y_test = train_test_split(X, y, test_size=0.2, random_state=101)"
   ]
  },
  {
   "cell_type": "code",
   "execution_count": 38,
   "metadata": {
    "_kg_hide-input": true,
    "execution": {
     "iopub.execute_input": "2021-02-16T21:33:29.196477Z",
     "iopub.status.busy": "2021-02-16T21:33:29.195843Z",
     "iopub.status.idle": "2021-02-16T21:33:29.200028Z",
     "shell.execute_reply": "2021-02-16T21:33:29.199394Z"
    },
    "papermill": {
     "duration": 0.086289,
     "end_time": "2021-02-16T21:33:29.200137",
     "exception": false,
     "start_time": "2021-02-16T21:33:29.113848",
     "status": "completed"
    },
    "tags": []
   },
   "outputs": [
    {
     "name": "stdout",
     "output_type": "stream",
     "text": [
      "(316175, 78)\n",
      "(79044, 78)\n",
      "(316175,)\n",
      "(79044,)\n"
     ]
    }
   ],
   "source": [
    "print(X_train.shape)\n",
    "print(X_test.shape)\n",
    "print(y_train.shape)\n",
    "print(y_test.shape)"
   ]
  },
  {
   "cell_type": "markdown",
   "metadata": {
    "papermill": {
     "duration": 0.076661,
     "end_time": "2021-02-16T21:33:29.354096",
     "exception": false,
     "start_time": "2021-02-16T21:33:29.277435",
     "status": "completed"
    },
    "tags": []
   },
   "source": [
    "## Normalizing / scaling the data\n",
    "We scale the feature data. To prevent data leakage from the test set, we only fit our scaler to the training set."
   ]
  },
  {
   "cell_type": "code",
   "execution_count": 39,
   "metadata": {
    "execution": {
     "iopub.execute_input": "2021-02-16T21:33:29.514597Z",
     "iopub.status.busy": "2021-02-16T21:33:29.513974Z",
     "iopub.status.idle": "2021-02-16T21:33:29.857691Z",
     "shell.execute_reply": "2021-02-16T21:33:29.858309Z"
    },
    "papermill": {
     "duration": 0.427182,
     "end_time": "2021-02-16T21:33:29.858459",
     "exception": false,
     "start_time": "2021-02-16T21:33:29.431277",
     "status": "completed"
    },
    "tags": []
   },
   "outputs": [
    {
     "name": "stdout",
     "output_type": "stream",
     "text": [
      "Max:  1.0\n",
      "Min:  0.0\n"
     ]
    }
   ],
   "source": [
    "scaler = MinMaxScaler()\n",
    "\n",
    "# fit and transfrom\n",
    "X_train = scaler.fit_transform(X_train)\n",
    "X_test = scaler.transform(X_test)\n",
    "\n",
    "# everything has been scaled between 1 and 0\n",
    "print('Max: ',X_train.max())\n",
    "print('Min: ', X_train.min())"
   ]
  },
  {
   "cell_type": "markdown",
   "metadata": {
    "papermill": {
     "duration": 0.077531,
     "end_time": "2021-02-16T21:33:30.014089",
     "exception": false,
     "start_time": "2021-02-16T21:33:29.936558",
     "status": "completed"
    },
    "tags": []
   },
   "source": [
    "<a id=\"ch7\"></a>\n",
    "# 7. Creating a model\n",
    "---\n",
    "**Dropout Layers**\n",
    "* Dropout is a technique where randomly selected neurons are ignored during training. They are “dropped-out” randomly.\n",
    "* Simply put, dropout refers to ignoring units (i.e. neurons) during the training phase of certain set of neurons which is chosen at random.\n",
    "* Helps prevent overfitting."
   ]
  },
  {
   "cell_type": "code",
   "execution_count": 40,
   "metadata": {
    "execution": {
     "iopub.execute_input": "2021-02-16T21:33:30.178891Z",
     "iopub.status.busy": "2021-02-16T21:33:30.178005Z",
     "iopub.status.idle": "2021-02-16T21:33:30.265031Z",
     "shell.execute_reply": "2021-02-16T21:33:30.264470Z"
    },
    "papermill": {
     "duration": 0.173012,
     "end_time": "2021-02-16T21:33:30.265152",
     "exception": false,
     "start_time": "2021-02-16T21:33:30.092140",
     "status": "completed"
    },
    "tags": []
   },
   "outputs": [],
   "source": [
    "model = Sequential()\n",
    "\n",
    "# input layer\n",
    "model.add(Dense(78,activation='relu'))\n",
    "model.add(Dropout(0.2))\n",
    "\n",
    "# hidden layer\n",
    "model.add(Dense(39,activation='relu'))\n",
    "model.add(Dropout(0.2))\n",
    "\n",
    "# hidden layer\n",
    "model.add(Dense(19,activation='relu'))\n",
    "model.add(Dropout(0.2))\n",
    "\n",
    "# output layer\n",
    "model.add(Dense(1, activation='sigmoid'))\n",
    "\n",
    "# compile model\n",
    "model.compile(optimizer=\"adam\", loss='binary_crossentropy')"
   ]
  },
  {
   "cell_type": "markdown",
   "metadata": {
    "papermill": {
     "duration": 0.078069,
     "end_time": "2021-02-16T21:33:30.421513",
     "exception": false,
     "start_time": "2021-02-16T21:33:30.343444",
     "status": "completed"
    },
    "tags": []
   },
   "source": [
    "## Early stopping\n",
    "This callback allows you to specify the performance measure to monitor, the trigger, and once triggered, it will stop the training process. Basically, it stop training when a monitored quantity has stopped improving."
   ]
  },
  {
   "cell_type": "code",
   "execution_count": 41,
   "metadata": {
    "execution": {
     "iopub.execute_input": "2021-02-16T21:33:30.583563Z",
     "iopub.status.busy": "2021-02-16T21:33:30.582596Z",
     "iopub.status.idle": "2021-02-16T21:33:30.585697Z",
     "shell.execute_reply": "2021-02-16T21:33:30.585209Z"
    },
    "papermill": {
     "duration": 0.08619,
     "end_time": "2021-02-16T21:33:30.585846",
     "exception": false,
     "start_time": "2021-02-16T21:33:30.499656",
     "status": "completed"
    },
    "tags": []
   },
   "outputs": [],
   "source": [
    "early_stop = EarlyStopping(monitor='val_loss', mode='min', verbose=1, patience=25)"
   ]
  },
  {
   "cell_type": "markdown",
   "metadata": {
    "papermill": {
     "duration": 0.077667,
     "end_time": "2021-02-16T21:33:30.743376",
     "exception": false,
     "start_time": "2021-02-16T21:33:30.665709",
     "status": "completed"
    },
    "tags": []
   },
   "source": [
    "<a id=\"ch8\"></a>\n",
    "# 8. Training the model\n",
    "---\n",
    "Now that the model is ready, we can fit the model into the data."
   ]
  },
  {
   "cell_type": "code",
   "execution_count": 42,
   "metadata": {
    "_kg_hide-output": true,
    "execution": {
     "iopub.execute_input": "2021-02-16T21:33:30.906779Z",
     "iopub.status.busy": "2021-02-16T21:33:30.905823Z",
     "iopub.status.idle": "2021-02-16T21:37:29.750479Z",
     "shell.execute_reply": "2021-02-16T21:37:29.749946Z"
    },
    "papermill": {
     "duration": 238.928975,
     "end_time": "2021-02-16T21:37:29.750605",
     "exception": false,
     "start_time": "2021-02-16T21:33:30.821630",
     "status": "completed"
    },
    "tags": []
   },
   "outputs": [
    {
     "name": "stdout",
     "output_type": "stream",
     "text": [
      "Epoch 1/400\n",
      "1236/1236 - 3s - loss: 0.2972 - val_loss: 0.2642\n",
      "Epoch 2/400\n",
      "1236/1236 - 3s - loss: 0.2650 - val_loss: 0.2632\n",
      "Epoch 3/400\n",
      "1236/1236 - 4s - loss: 0.2627 - val_loss: 0.2623\n",
      "Epoch 4/400\n",
      "1236/1236 - 3s - loss: 0.2616 - val_loss: 0.2615\n",
      "Epoch 5/400\n",
      "1236/1236 - 3s - loss: 0.2611 - val_loss: 0.2614\n",
      "Epoch 6/400\n",
      "1236/1236 - 3s - loss: 0.2604 - val_loss: 0.2617\n",
      "Epoch 7/400\n",
      "1236/1236 - 3s - loss: 0.2597 - val_loss: 0.2615\n",
      "Epoch 8/400\n",
      "1236/1236 - 3s - loss: 0.2594 - val_loss: 0.2612\n",
      "Epoch 9/400\n",
      "1236/1236 - 3s - loss: 0.2593 - val_loss: 0.2612\n",
      "Epoch 10/400\n",
      "1236/1236 - 3s - loss: 0.2590 - val_loss: 0.2614\n",
      "Epoch 11/400\n",
      "1236/1236 - 3s - loss: 0.2587 - val_loss: 0.2617\n",
      "Epoch 12/400\n",
      "1236/1236 - 3s - loss: 0.2583 - val_loss: 0.2615\n",
      "Epoch 13/400\n",
      "1236/1236 - 3s - loss: 0.2583 - val_loss: 0.2617\n",
      "Epoch 14/400\n",
      "1236/1236 - 3s - loss: 0.2580 - val_loss: 0.2608\n",
      "Epoch 15/400\n",
      "1236/1236 - 3s - loss: 0.2578 - val_loss: 0.2616\n",
      "Epoch 16/400\n",
      "1236/1236 - 3s - loss: 0.2576 - val_loss: 0.2610\n",
      "Epoch 17/400\n",
      "1236/1236 - 3s - loss: 0.2570 - val_loss: 0.2611\n",
      "Epoch 18/400\n",
      "1236/1236 - 3s - loss: 0.2572 - val_loss: 0.2612\n",
      "Epoch 19/400\n",
      "1236/1236 - 3s - loss: 0.2569 - val_loss: 0.2618\n",
      "Epoch 20/400\n",
      "1236/1236 - 3s - loss: 0.2569 - val_loss: 0.2625\n",
      "Epoch 21/400\n",
      "1236/1236 - 3s - loss: 0.2565 - val_loss: 0.2620\n",
      "Epoch 22/400\n",
      "1236/1236 - 3s - loss: 0.2565 - val_loss: 0.2607\n",
      "Epoch 23/400\n",
      "1236/1236 - 3s - loss: 0.2561 - val_loss: 0.2611\n",
      "Epoch 24/400\n",
      "1236/1236 - 3s - loss: 0.2562 - val_loss: 0.2613\n",
      "Epoch 25/400\n",
      "1236/1236 - 3s - loss: 0.2558 - val_loss: 0.2614\n",
      "Epoch 26/400\n",
      "1236/1236 - 3s - loss: 0.2557 - val_loss: 0.2610\n",
      "Epoch 27/400\n",
      "1236/1236 - 3s - loss: 0.2556 - val_loss: 0.2618\n",
      "Epoch 28/400\n",
      "1236/1236 - 3s - loss: 0.2553 - val_loss: 0.2616\n",
      "Epoch 29/400\n",
      "1236/1236 - 3s - loss: 0.2554 - val_loss: 0.2614\n",
      "Epoch 30/400\n",
      "1236/1236 - 3s - loss: 0.2555 - val_loss: 0.2613\n",
      "Epoch 31/400\n",
      "1236/1236 - 3s - loss: 0.2550 - val_loss: 0.2610\n",
      "Epoch 32/400\n",
      "1236/1236 - 4s - loss: 0.2550 - val_loss: 0.2609\n",
      "Epoch 33/400\n",
      "1236/1236 - 4s - loss: 0.2547 - val_loss: 0.2611\n",
      "Epoch 34/400\n",
      "1236/1236 - 3s - loss: 0.2548 - val_loss: 0.2607\n",
      "Epoch 35/400\n",
      "1236/1236 - 3s - loss: 0.2544 - val_loss: 0.2615\n",
      "Epoch 36/400\n",
      "1236/1236 - 3s - loss: 0.2544 - val_loss: 0.2611\n",
      "Epoch 37/400\n",
      "1236/1236 - 3s - loss: 0.2541 - val_loss: 0.2611\n",
      "Epoch 38/400\n",
      "1236/1236 - 3s - loss: 0.2542 - val_loss: 0.2611\n",
      "Epoch 39/400\n",
      "1236/1236 - 3s - loss: 0.2540 - val_loss: 0.2619\n",
      "Epoch 40/400\n",
      "1236/1236 - 3s - loss: 0.2541 - val_loss: 0.2615\n",
      "Epoch 41/400\n",
      "1236/1236 - 3s - loss: 0.2537 - val_loss: 0.2616\n",
      "Epoch 42/400\n",
      "1236/1236 - 4s - loss: 0.2536 - val_loss: 0.2609\n",
      "Epoch 43/400\n",
      "1236/1236 - 3s - loss: 0.2534 - val_loss: 0.2614\n",
      "Epoch 44/400\n",
      "1236/1236 - 3s - loss: 0.2537 - val_loss: 0.2614\n",
      "Epoch 45/400\n",
      "1236/1236 - 3s - loss: 0.2535 - val_loss: 0.2607\n",
      "Epoch 46/400\n",
      "1236/1236 - 3s - loss: 0.2535 - val_loss: 0.2615\n",
      "Epoch 47/400\n",
      "1236/1236 - 3s - loss: 0.2532 - val_loss: 0.2612\n",
      "Epoch 48/400\n",
      "1236/1236 - 3s - loss: 0.2533 - val_loss: 0.2606\n",
      "Epoch 49/400\n",
      "1236/1236 - 3s - loss: 0.2529 - val_loss: 0.2627\n",
      "Epoch 50/400\n",
      "1236/1236 - 3s - loss: 0.2530 - val_loss: 0.2609\n",
      "Epoch 51/400\n",
      "1236/1236 - 3s - loss: 0.2531 - val_loss: 0.2611\n",
      "Epoch 52/400\n",
      "1236/1236 - 3s - loss: 0.2527 - val_loss: 0.2609\n",
      "Epoch 53/400\n",
      "1236/1236 - 3s - loss: 0.2528 - val_loss: 0.2619\n",
      "Epoch 54/400\n",
      "1236/1236 - 3s - loss: 0.2526 - val_loss: 0.2611\n",
      "Epoch 55/400\n",
      "1236/1236 - 3s - loss: 0.2527 - val_loss: 0.2616\n",
      "Epoch 56/400\n",
      "1236/1236 - 3s - loss: 0.2524 - val_loss: 0.2618\n",
      "Epoch 57/400\n",
      "1236/1236 - 3s - loss: 0.2525 - val_loss: 0.2625\n",
      "Epoch 58/400\n",
      "1236/1236 - 3s - loss: 0.2526 - val_loss: 0.2622\n",
      "Epoch 59/400\n",
      "1236/1236 - 3s - loss: 0.2527 - val_loss: 0.2616\n",
      "Epoch 60/400\n",
      "1236/1236 - 3s - loss: 0.2521 - val_loss: 0.2617\n",
      "Epoch 61/400\n",
      "1236/1236 - 3s - loss: 0.2525 - val_loss: 0.2610\n",
      "Epoch 62/400\n",
      "1236/1236 - 3s - loss: 0.2522 - val_loss: 0.2627\n",
      "Epoch 63/400\n",
      "1236/1236 - 3s - loss: 0.2523 - val_loss: 0.2617\n",
      "Epoch 64/400\n",
      "1236/1236 - 3s - loss: 0.2520 - val_loss: 0.2612\n",
      "Epoch 65/400\n",
      "1236/1236 - 3s - loss: 0.2519 - val_loss: 0.2617\n",
      "Epoch 66/400\n",
      "1236/1236 - 3s - loss: 0.2519 - val_loss: 0.2613\n",
      "Epoch 67/400\n",
      "1236/1236 - 3s - loss: 0.2521 - val_loss: 0.2618\n",
      "Epoch 68/400\n",
      "1236/1236 - 3s - loss: 0.2518 - val_loss: 0.2606\n",
      "Epoch 69/400\n",
      "1236/1236 - 3s - loss: 0.2521 - val_loss: 0.2612\n",
      "Epoch 70/400\n",
      "1236/1236 - 3s - loss: 0.2517 - val_loss: 0.2613\n",
      "Epoch 71/400\n",
      "1236/1236 - 3s - loss: 0.2516 - val_loss: 0.2617\n",
      "Epoch 72/400\n",
      "1236/1236 - 4s - loss: 0.2520 - val_loss: 0.2618\n",
      "Epoch 73/400\n",
      "1236/1236 - 3s - loss: 0.2516 - val_loss: 0.2617\n",
      "Epoch 00073: early stopping\n"
     ]
    },
    {
     "data": {
      "text/plain": [
       "<tensorflow.python.keras.callbacks.History at 0x7fa9918fccd0>"
      ]
     },
     "execution_count": 42,
     "metadata": {},
     "output_type": "execute_result"
    }
   ],
   "source": [
    "model.fit(x=X_train, \n",
    "          y=y_train, \n",
    "          epochs=400,\n",
    "          verbose = 2,\n",
    "          batch_size=256,\n",
    "          validation_data=(X_test, y_test),\n",
    "          callbacks=[early_stop])"
   ]
  },
  {
   "cell_type": "markdown",
   "metadata": {
    "papermill": {
     "duration": 0.127216,
     "end_time": "2021-02-16T21:37:30.005382",
     "exception": false,
     "start_time": "2021-02-16T21:37:29.878166",
     "status": "completed"
    },
    "tags": []
   },
   "source": [
    "## Training loss per epoch\n",
    "* This plot shows the training loss per epoch.\n",
    "* This plot helps us to see if there is overfitting in the model. In this case there is no overfitting because both lines go down at the same time. "
   ]
  },
  {
   "cell_type": "code",
   "execution_count": 43,
   "metadata": {
    "execution": {
     "iopub.execute_input": "2021-02-16T21:37:30.267652Z",
     "iopub.status.busy": "2021-02-16T21:37:30.266615Z",
     "iopub.status.idle": "2021-02-16T21:37:30.629800Z",
     "shell.execute_reply": "2021-02-16T21:37:30.628689Z"
    },
    "papermill": {
     "duration": 0.498052,
     "end_time": "2021-02-16T21:37:30.629937",
     "exception": false,
     "start_time": "2021-02-16T21:37:30.131885",
     "status": "completed"
    },
    "tags": []
   },
   "outputs": [
    {
     "data": {
      "image/png": "[encoded data removed]",
      "text/plain": [
       "<Figure size 1080x360 with 1 Axes>"
      ]
     },
     "metadata": {},
     "output_type": "display_data"
    }
   ],
   "source": [
    "losses = pd.DataFrame(model.history.history)\n",
    "\n",
    "plt.figure(figsize=(15,5))\n",
    "sns.lineplot(data=losses,lw=3)\n",
    "plt.xlabel('Epochs')\n",
    "plt.ylabel('')\n",
    "plt.title('Training Loss per Epoch')\n",
    "sns.despine()"
   ]
  },
  {
   "cell_type": "markdown",
   "metadata": {
    "papermill": {
     "duration": 0.128835,
     "end_time": "2021-02-16T21:37:30.892302",
     "exception": false,
     "start_time": "2021-02-16T21:37:30.763467",
     "status": "completed"
    },
    "tags": []
   },
   "source": [
    "<a id=\"ch9\"></a>\n",
    "# 9. Evaluation on test data\n",
    "---\n",
    "***Classification Report***\n",
    "* **Accuracy** is just the actual percent that we got right, in this case it was 89%.\n",
    "* Note that since the data is imbalance if we were to make a model that approve all the loans, it would have a 80% accuracy.\n",
    "* For example: (317696/len(df)) = 0.80 where 317696 is `df[loan_repaid].value_counts()`\n",
    "* So do not be fooled by a model that returns back 80% accuracy because by default a model that always reports back to the loan will be repaid itself will be 80% accurate on this actual test data set.\n",
    "\n",
    "\n",
    "* The **recall** means \"how many of this class you find over the whole number of element of this class\"\n",
    "* The **precision** will be \"how many are correctly classified among that class\"\n",
    "* The **f1-score** is the harmonic mean between precision & recall\n",
    "* The **support** is the number of occurence of the given class in your dataset.\n",
    "\n",
    "\n",
    "* Precision is 0.96, which is really good. On the other hand, recall is not good. \n",
    "* We should focus in improving the f1-score in the 0 class. We should improve the 0.62.\n",
    "\n",
    "***Confusion Matirx***\n",
    "* A confusion matrix is a technique for summarizing the performance of a classification algorithm.\n",
    "* Classification accuracy alone can be misleading if you have an unequal number of observations in each class, which is our case. \n",
    "\n",
    "\n",
    "* We have 308 Type I errors (False Positive) and 8562 Type II errors (False Negative). \n",
    "* 7096 True Positive and 63078 True Negative. "
   ]
  },
  {
   "cell_type": "code",
   "execution_count": 44,
   "metadata": {
    "_kg_hide-input": true,
    "execution": {
     "iopub.execute_input": "2021-02-16T21:37:31.161923Z",
     "iopub.status.busy": "2021-02-16T21:37:31.160590Z",
     "iopub.status.idle": "2021-02-16T21:37:32.975272Z",
     "shell.execute_reply": "2021-02-16T21:37:32.975810Z"
    },
    "papermill": {
     "duration": 1.953116,
     "end_time": "2021-02-16T21:37:32.975971",
     "exception": false,
     "start_time": "2021-02-16T21:37:31.022855",
     "status": "completed"
    },
    "tags": []
   },
   "outputs": [
    {
     "name": "stdout",
     "output_type": "stream",
     "text": [
      "Classification Report:\n",
      "              precision    recall  f1-score   support\n",
      "\n",
      "           0       0.97      0.44      0.61     15658\n",
      "           1       0.88      1.00      0.93     63386\n",
      "\n",
      "    accuracy                           0.89     79044\n",
      "   macro avg       0.93      0.72      0.77     79044\n",
      "weighted avg       0.90      0.89      0.87     79044\n",
      "\n",
      "\n",
      "\n",
      "Confusion Matirx:\n",
      "[[ 6919  8739]\n",
      " [  181 63205]]\n"
     ]
    }
   ],
   "source": [
    "predictions = model.predict_classes(X_test)\n",
    "\n",
    "print('Classification Report:')\n",
    "print(classification_report(y_test, predictions))\n",
    "print('\\n')\n",
    "print('Confusion Matirx:')\n",
    "print(confusion_matrix(y_test, predictions))"
   ]
  },
  {
   "cell_type": "markdown",
   "metadata": {
    "papermill": {
     "duration": 0.128299,
     "end_time": "2021-02-16T21:37:33.233710",
     "exception": false,
     "start_time": "2021-02-16T21:37:33.105411",
     "status": "completed"
    },
    "tags": []
   },
   "source": [
    "<a id=\"ch10\"></a>\n",
    "# 10. Predicting on a  new customer\n",
    "---\n",
    "***Would you offer this person a loan?***"
   ]
  },
  {
   "cell_type": "code",
   "execution_count": 45,
   "metadata": {
    "execution": {
     "iopub.execute_input": "2021-02-16T21:37:33.518987Z",
     "iopub.status.busy": "2021-02-16T21:37:33.517537Z",
     "iopub.status.idle": "2021-02-16T21:37:33.551819Z",
     "shell.execute_reply": "2021-02-16T21:37:33.552386Z"
    },
    "papermill": {
     "duration": 0.18998,
     "end_time": "2021-02-16T21:37:33.552543",
     "exception": false,
     "start_time": "2021-02-16T21:37:33.362563",
     "status": "completed"
    },
    "tags": []
   },
   "outputs": [
    {
     "data": {
      "text/plain": [
       "loan_amnt           25000.00\n",
       "term                   60.00\n",
       "int_rate               18.24\n",
       "installment           638.11\n",
       "annual_inc          61665.00\n",
       "                      ...   \n",
       "48052                   0.00\n",
       "70466                   0.00\n",
       "86630                   0.00\n",
       "93700                   0.00\n",
       "earliest_cr_year     1996.00\n",
       "Name: 305323, Length: 78, dtype: float64"
      ]
     },
     "execution_count": 45,
     "metadata": {},
     "output_type": "execute_result"
    }
   ],
   "source": [
    "rnd.seed(101)\n",
    "random_ind = rnd.randint(0,len(df))\n",
    "\n",
    "new_customer = df.drop('loan_repaid',axis=1).iloc[random_ind]\n",
    "new_customer"
   ]
  },
  {
   "cell_type": "code",
   "execution_count": 46,
   "metadata": {
    "execution": {
     "iopub.execute_input": "2021-02-16T21:37:33.825027Z",
     "iopub.status.busy": "2021-02-16T21:37:33.823958Z",
     "iopub.status.idle": "2021-02-16T21:37:33.867543Z",
     "shell.execute_reply": "2021-02-16T21:37:33.866688Z"
    },
    "papermill": {
     "duration": 0.182681,
     "end_time": "2021-02-16T21:37:33.867667",
     "exception": false,
     "start_time": "2021-02-16T21:37:33.684986",
     "status": "completed"
    },
    "tags": []
   },
   "outputs": [
    {
     "data": {
      "text/plain": [
       "array([[1]], dtype=int32)"
      ]
     },
     "execution_count": 46,
     "metadata": {},
     "output_type": "execute_result"
    }
   ],
   "source": [
    "# we need to reshape this to be in the same shape of the training data that the model was trained on\n",
    "model.predict_classes(new_customer.values.reshape(1,78))"
   ]
  },
  {
   "cell_type": "markdown",
   "metadata": {
    "papermill": {
     "duration": 0.131149,
     "end_time": "2021-02-16T21:37:34.128642",
     "exception": false,
     "start_time": "2021-02-16T21:37:33.997493",
     "status": "completed"
    },
    "tags": []
   },
   "source": [
    "***Did this person actually end up paying back their loan?***"
   ]
  },
  {
   "cell_type": "code",
   "execution_count": 47,
   "metadata": {
    "execution": {
     "iopub.execute_input": "2021-02-16T21:37:34.395673Z",
     "iopub.status.busy": "2021-02-16T21:37:34.394920Z",
     "iopub.status.idle": "2021-02-16T21:37:34.400507Z",
     "shell.execute_reply": "2021-02-16T21:37:34.399842Z"
    },
    "papermill": {
     "duration": 0.142196,
     "end_time": "2021-02-16T21:37:34.400622",
     "exception": false,
     "start_time": "2021-02-16T21:37:34.258426",
     "status": "completed"
    },
    "tags": []
   },
   "outputs": [
    {
     "data": {
      "text/plain": [
       "1.0"
      ]
     },
     "execution_count": 47,
     "metadata": {},
     "output_type": "execute_result"
    }
   ],
   "source": [
    "# the prediction was right\n",
    "df.iloc[random_ind]['loan_repaid']"
   ]
  },
  {
   "cell_type": "markdown",
   "metadata": {
    "papermill": {
     "duration": 0.136147,
     "end_time": "2021-02-16T21:37:34.668165",
     "exception": false,
     "start_time": "2021-02-16T21:37:34.532018",
     "status": "completed"
    },
    "tags": []
   },
   "source": [
    "<a id=\"ch11\"></a>\n",
    "# 11. References\n",
    "* [An Introduction to Statistical Learning with Applications in R](http://faculty.marshall.usc.edu/gareth-james/ISL/) - This book provides an introduction to statistical learning methods.\n",
    "* [Python for Data Science and Machine Learning Bootcamp](https://www.udemy.com/course/python-for-data-science-and-machine-learning-bootcamp/) - Use Python for Data Science and Machine Learning."
   ]
  },
  {
   "cell_type": "markdown",
   "metadata": {
    "papermill": {
     "duration": 0.134268,
     "end_time": "2021-02-16T21:37:34.935534",
     "exception": false,
     "start_time": "2021-02-16T21:37:34.801266",
     "status": "completed"
    },
    "tags": []
   },
   "source": [
    "## Feedback\n",
    "* **Your feedback is much appreciated**\n",
    "* **<b><font color='green'>Please UPVOTE if you LIKE this notebook</font></b>**\n",
    "* **Comment if you have any doubts or you found any errors in the notebook**"
   ]
  }
 ],
 "metadata": {
  "kernelspec": {
   "display_name": "Python 3",
   "language": "python",
   "name": "python3"
  },
  "language_info": {
   "codemirror_mode": {
    "name": "ipython",
    "version": 3
   },
   "file_extension": ".py",
   "mimetype": "text/x-python",
   "name": "python",
   "nbconvert_exporter": "python",
   "pygments_lexer": "ipython3",
   "version": "3.7.6"
  },
  "papermill": {
   "duration": 293.621863,
   "end_time": "2021-02-16T21:37:35.178117",
   "environment_variables": {},
   "exception": null,
   "input_path": "__notebook__.ipynb",
   "output_path": "__notebook__.ipynb",
   "parameters": {},
   "start_time": "2021-02-16T21:32:41.556254",
   "version": "2.1.0"
  }
 },
 "nbformat": 4,
 "nbformat_minor": 4
}
