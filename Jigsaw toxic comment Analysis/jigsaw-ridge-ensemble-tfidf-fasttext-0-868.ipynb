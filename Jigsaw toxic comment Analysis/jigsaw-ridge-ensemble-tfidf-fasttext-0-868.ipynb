{
 "cells": [
  {
   "cell_type": "code",
   "execution_count": 1,
   "id": "95b5dde8",
   "metadata": {
    "execution": {
     "iopub.execute_input": "2022-01-04T11:40:33.493349Z",
     "iopub.status.busy": "2022-01-04T11:40:33.492305Z",
     "iopub.status.idle": "2022-01-04T11:40:34.814649Z",
     "shell.execute_reply": "2022-01-04T11:40:34.815475Z",
     "shell.execute_reply.started": "2022-01-04T11:30:28.201967Z"
    },
    "papermill": {
     "duration": 1.354498,
     "end_time": "2022-01-04T11:40:34.816051",
     "exception": false,
     "start_time": "2022-01-04T11:40:33.461553",
     "status": "completed"
    },
    "tags": []
   },
   "outputs": [],
   "source": [
    "import pandas as pd\n",
    "import numpy as np\n",
    "from tqdm.auto import tqdm\n",
    "from bs4 import BeautifulSoup\n",
    "from sklearn.feature_extraction.text import TfidfVectorizer\n",
    "import re \n",
    "from scipy import sparse\n",
    "import time\n",
    "import warnings\n",
    "warnings.filterwarnings(\"ignore\")\n",
    "pd.options.display.max_colwidth=300\n",
    "pd.options.display.max_columns = 100\n",
    "\n",
    "from sklearn.linear_model import Ridge\n"
   ]
  },
  {
   "cell_type": "markdown",
   "id": "820917f3",
   "metadata": {
    "papermill": {
     "duration": 0.033723,
     "end_time": "2022-01-04T11:40:34.886427",
     "exception": false,
     "start_time": "2022-01-04T11:40:34.852704",
     "status": "completed"
    },
    "tags": []
   },
   "source": [
    "# Loading Data "
   ]
  },
  {
   "cell_type": "code",
   "execution_count": 3,
   "id": "fc51c896",
   "metadata": {
    "execution": {
     "iopub.execute_input": "2022-01-04T11:40:34.953363Z",
     "iopub.status.busy": "2022-01-04T11:40:34.952623Z",
     "iopub.status.idle": "2022-01-04T11:40:35.410184Z",
     "shell.execute_reply": "2022-01-04T11:40:35.410647Z",
     "shell.execute_reply.started": "2022-01-04T11:05:16.222512Z"
    },
    "papermill": {
     "duration": 0.490029,
     "end_time": "2022-01-04T11:40:35.410809",
     "exception": false,
     "start_time": "2022-01-04T11:40:34.920780",
     "status": "completed"
    },
    "tags": []
   },
   "outputs": [
    {
     "data": {
      "text/html": [
       "<div>\n",
       "<style scoped>\n",
       "    .dataframe tbody tr th:only-of-type {\n",
       "        vertical-align: middle;\n",
       "    }\n",
       "\n",
       "    .dataframe tbody tr th {\n",
       "        vertical-align: top;\n",
       "    }\n",
       "\n",
       "    .dataframe thead th {\n",
       "        text-align: right;\n",
       "    }\n",
       "</style>\n",
       "<table border=\"1\" class=\"dataframe\">\n",
       "  <thead>\n",
       "    <tr style=\"text-align: right;\">\n",
       "      <th></th>\n",
       "      <th>text</th>\n",
       "      <th>y</th>\n",
       "    </tr>\n",
       "  </thead>\n",
       "  <tbody>\n",
       "    <tr>\n",
       "      <th>0</th>\n",
       "      <td>oh why dear johnny boy part one again do you want a fucking fight what the shit is your problem ooh he s personally attacking me grow up</td>\n",
       "      <td>2.08</td>\n",
       "    </tr>\n",
       "    <tr>\n",
       "      <th>1</th>\n",
       "      <td>savant13 is a fat shite</td>\n",
       "      <td>3.58</td>\n",
       "    </tr>\n",
       "    <tr>\n",
       "      <th>2</th>\n",
       "      <td>i am english i am i do not want to get blocked again fu k</td>\n",
       "      <td>0.80</td>\n",
       "    </tr>\n",
       "    <tr>\n",
       "      <th>3</th>\n",
       "      <td>and why the fuck should i care g e t r i d o f a l l i d i d p l e a s e j a ck a s s</td>\n",
       "      <td>4.58</td>\n",
       "    </tr>\n",
       "    <tr>\n",
       "      <th>4</th>\n",
       "      <td>yo dear sir james paul you a fruity ass nigga get a life man unless your happy with editing wikipedia as your profession feel bad for you its probably hard livin life without any friends</td>\n",
       "      <td>2.08</td>\n",
       "    </tr>\n",
       "  </tbody>\n",
       "</table>\n",
       "</div>"
      ],
      "text/plain": [
       "                                                                                                                                                                                         text  \\\n",
       "0                                                    oh why dear johnny boy part one again do you want a fucking fight what the shit is your problem ooh he s personally attacking me grow up   \n",
       "1                                                                                                                                                                     savant13 is a fat shite   \n",
       "2                                                                                                                                   i am english i am i do not want to get blocked again fu k   \n",
       "3                                                                                                       and why the fuck should i care g e t r i d o f a l l i d i d p l e a s e j a ck a s s   \n",
       "4  yo dear sir james paul you a fruity ass nigga get a life man unless your happy with editing wikipedia as your profession feel bad for you its probably hard livin life without any friends   \n",
       "\n",
       "      y  \n",
       "0  2.08  \n",
       "1  3.58  \n",
       "2  0.80  \n",
       "3  4.58  \n",
       "4  2.08  "
      ]
     },
     "execution_count": 3,
     "metadata": {},
     "output_type": "execute_result"
    }
   ],
   "source": [
    "df = pd.read_csv('train_data_version1.csv')\n",
    "df.head()"
   ]
  },
  {
   "cell_type": "markdown",
   "id": "0c7ee758",
   "metadata": {
    "papermill": {
     "duration": 0.026014,
     "end_time": "2022-01-04T11:40:35.466790",
     "exception": false,
     "start_time": "2022-01-04T11:40:35.440776",
     "status": "completed"
    },
    "tags": []
   },
   "source": [
    "<h3>Text Cleaning</h3>"
   ]
  },
  {
   "cell_type": "code",
   "execution_count": 4,
   "id": "5f8d29dd",
   "metadata": {
    "execution": {
     "iopub.execute_input": "2022-01-04T11:40:35.528144Z",
     "iopub.status.busy": "2022-01-04T11:40:35.527514Z",
     "iopub.status.idle": "2022-01-04T11:40:35.529126Z",
     "shell.execute_reply": "2022-01-04T11:40:35.529639Z",
     "shell.execute_reply.started": "2022-01-04T11:06:04.530890Z"
    },
    "papermill": {
     "duration": 0.036555,
     "end_time": "2022-01-04T11:40:35.529795",
     "exception": false,
     "start_time": "2022-01-04T11:40:35.493240",
     "status": "completed"
    },
    "tags": []
   },
   "outputs": [],
   "source": [
    "def text_cleaning(text):\n",
    "    '''\n",
    "    Cleans text into a basic form for NLP. Operations include the following:-\n",
    "    1. Remove special charecters like &, #, etc\n",
    "    2. Removes extra spaces\n",
    "    3. Removes embedded URL links\n",
    "    4. Removes HTML tags\n",
    "    5. Removes emojis\n",
    "    \n",
    "    text - Text piece to be cleaned.\n",
    "    '''\n",
    "    template = re.compile(r'https?://\\S+|www\\.\\S+') #Removes website links\n",
    "    text = template.sub(r'', text)\n",
    "    \n",
    "    soup = BeautifulSoup(text, 'lxml') #Removes HTML tags\n",
    "    only_text = soup.get_text()\n",
    "    text = only_text\n",
    "    \n",
    "    emoji_pattern = re.compile(\"[\"\n",
    "                               u\"\\U0001F600-\\U0001F64F\"  # emoticons\n",
    "                               u\"\\U0001F300-\\U0001F5FF\"  # symbols & pictographs\n",
    "                               u\"\\U0001F680-\\U0001F6FF\"  # transport & map symbols\n",
    "                               u\"\\U0001F1E0-\\U0001F1FF\"  # flags (iOS)\n",
    "                               u\"\\U00002702-\\U000027B0\"\n",
    "                               u\"\\U000024C2-\\U0001F251\"\n",
    "                               \"]+\", flags=re.UNICODE)\n",
    "    text = emoji_pattern.sub(r'', text)\n",
    "    \n",
    "    text = re.sub(r\"[^a-zA-Z\\d]\", \" \", text) #Remove special Charecters\n",
    "    text = re.sub(' +', ' ', text) #Remove Extra Spaces\n",
    "    text = text.strip() # remove spaces at the beginning and at the end of string\n",
    "\n",
    "    return text"
   ]
  },
  {
   "cell_type": "markdown",
   "id": "bb557d38",
   "metadata": {
    "papermill": {
     "duration": 0.026382,
     "end_time": "2022-01-04T11:40:35.582476",
     "exception": false,
     "start_time": "2022-01-04T11:40:35.556094",
     "status": "completed"
    },
    "tags": []
   },
   "source": [
    "# TF-IDF"
   ]
  },
  {
   "cell_type": "code",
   "execution_count": 5,
   "id": "1f43e4f9",
   "metadata": {
    "execution": {
     "iopub.execute_input": "2022-01-04T11:40:35.637502Z",
     "iopub.status.busy": "2022-01-04T11:40:35.636951Z",
     "iopub.status.idle": "2022-01-04T11:40:35.657486Z",
     "shell.execute_reply": "2022-01-04T11:40:35.656885Z",
     "shell.execute_reply.started": "2022-01-04T11:06:08.164042Z"
    },
    "papermill": {
     "duration": 0.049011,
     "end_time": "2022-01-04T11:40:35.657620",
     "exception": false,
     "start_time": "2022-01-04T11:40:35.608609",
     "status": "completed"
    },
    "tags": []
   },
   "outputs": [],
   "source": [
    "df = df.dropna(axis = 0)"
   ]
  },
  {
   "cell_type": "code",
   "execution_count": 6,
   "id": "6347ad35",
   "metadata": {
    "execution": {
     "iopub.execute_input": "2022-01-04T11:40:35.714258Z",
     "iopub.status.busy": "2022-01-04T11:40:35.713298Z",
     "iopub.status.idle": "2022-01-04T11:40:35.737445Z",
     "shell.execute_reply": "2022-01-04T11:40:35.737988Z",
     "shell.execute_reply.started": "2022-01-04T11:06:08.651743Z"
    },
    "papermill": {
     "duration": 0.054442,
     "end_time": "2022-01-04T11:40:35.738167",
     "exception": false,
     "start_time": "2022-01-04T11:40:35.683725",
     "status": "completed"
    },
    "tags": []
   },
   "outputs": [
    {
     "name": "stdout",
     "output_type": "stream",
     "text": [
      "<class 'pandas.core.frame.DataFrame'>\n",
      "RangeIndex: 47991 entries, 0 to 47990\n",
      "Data columns (total 2 columns):\n",
      " #   Column  Non-Null Count  Dtype  \n",
      "---  ------  --------------  -----  \n",
      " 0   text    47991 non-null  object \n",
      " 1   y       47991 non-null  float64\n",
      "dtypes: float64(1), object(1)\n",
      "memory usage: 750.0+ KB\n"
     ]
    }
   ],
   "source": [
    "df.info()"
   ]
  },
  {
   "cell_type": "code",
   "execution_count": 7,
   "id": "53d12354",
   "metadata": {
    "execution": {
     "iopub.execute_input": "2022-01-04T11:40:35.795972Z",
     "iopub.status.busy": "2022-01-04T11:40:35.795398Z",
     "iopub.status.idle": "2022-01-04T11:40:58.100605Z",
     "shell.execute_reply": "2022-01-04T11:40:58.101066Z",
     "shell.execute_reply.started": "2022-01-04T11:06:11.828878Z"
    },
    "papermill": {
     "duration": 22.335545,
     "end_time": "2022-01-04T11:40:58.101233",
     "exception": false,
     "start_time": "2022-01-04T11:40:35.765688",
     "status": "completed"
    },
    "tags": []
   },
   "outputs": [
    {
     "data": {
      "text/plain": [
       "TfidfVectorizer(analyzer='char_wb', max_df=0.5, max_features=46000, min_df=3,\n",
       "                ngram_range=(3, 5))"
      ]
     },
     "execution_count": 7,
     "metadata": {},
     "output_type": "execute_result"
    }
   ],
   "source": [
    "vec = TfidfVectorizer(min_df= 3, max_df=0.5, analyzer = 'char_wb', ngram_range = (3,5), max_features = 46000)\n",
    "vec.fit(df['text'])"
   ]
  },
  {
   "cell_type": "code",
   "execution_count": 8,
   "id": "6814c62b",
   "metadata": {
    "execution": {
     "iopub.execute_input": "2022-01-04T11:40:58.161428Z",
     "iopub.status.busy": "2022-01-04T11:40:58.160696Z",
     "iopub.status.idle": "2022-01-04T11:41:24.992305Z",
     "shell.execute_reply": "2022-01-04T11:41:24.992886Z",
     "shell.execute_reply.started": "2022-01-04T11:07:16.566229Z"
    },
    "papermill": {
     "duration": 26.864679,
     "end_time": "2022-01-04T11:41:24.993127",
     "exception": false,
     "start_time": "2022-01-04T11:40:58.128448",
     "status": "completed"
    },
    "tags": []
   },
   "outputs": [],
   "source": [
    "from gensim.models import KeyedVectors, FastText\n",
    "\n",
    "fmodel = FastText.load('./FastText-jigsaw-256D/Jigsaw-Fasttext-Word-Embeddings-256D.bin')"
   ]
  },
  {
   "cell_type": "markdown",
   "id": "a61ac52f",
   "metadata": {
    "papermill": {
     "duration": 0.026798,
     "end_time": "2022-01-04T11:41:25.049563",
     "exception": false,
     "start_time": "2022-01-04T11:41:25.022765",
     "status": "completed"
    },
    "tags": []
   },
   "source": [
    "# Preparing Data For training \n",
    "\n",
    "We used 46000 Features of TFIDF Word Representations, 256 Dimensional FastText Word Embeddings (Trained on Toxic Comments) and then concatenate them to make final dataset for Training a model "
   ]
  },
  {
   "cell_type": "code",
   "execution_count": 9,
   "id": "8c070cc2",
   "metadata": {
    "execution": {
     "iopub.execute_input": "2022-01-04T11:41:25.115170Z",
     "iopub.status.busy": "2022-01-04T11:41:25.114302Z",
     "iopub.status.idle": "2022-01-04T11:41:25.116134Z",
     "shell.execute_reply": "2022-01-04T11:41:25.116687Z",
     "shell.execute_reply.started": "2022-01-04T11:11:55.191191Z"
    },
    "papermill": {
     "duration": 0.040425,
     "end_time": "2022-01-04T11:41:25.116902",
     "exception": false,
     "start_time": "2022-01-04T11:41:25.076477",
     "status": "completed"
    },
    "tags": []
   },
   "outputs": [],
   "source": [
    "from scipy.sparse import hstack\n",
    "\n",
    "def splitter(text):\n",
    "    tokens = []\n",
    "    \n",
    "    for word in text.split(' '):\n",
    "        tokens.append(word)\n",
    "    \n",
    "    return tokens\n",
    "\n",
    "def vectorizer(text):\n",
    "    tokens = splitter(text)\n",
    "    \n",
    "    x1 = vec.transform([text]).toarray()\n",
    "    x2 = np.mean(fmodel.wv[tokens], axis = 0).reshape(1, -1)\n",
    "    x = np.concatenate([x1, x2], axis = -1).astype(np.float16)\n",
    "    del x1\n",
    "    del x2 \n",
    "    \n",
    "    return x   "
   ]
  },
  {
   "cell_type": "markdown",
   "id": "a11ed218",
   "metadata": {
    "papermill": {
     "duration": 0.026708,
     "end_time": "2022-01-04T11:41:25.170715",
     "exception": false,
     "start_time": "2022-01-04T11:41:25.144007",
     "status": "completed"
    },
    "tags": []
   },
   "source": [
    "In below code cell we are creating data which we will feed in model"
   ]
  },
  {
   "cell_type": "code",
   "execution_count": 10,
   "id": "23668788",
   "metadata": {
    "execution": {
     "iopub.execute_input": "2022-01-04T11:41:25.226705Z",
     "iopub.status.busy": "2022-01-04T11:41:25.226168Z",
     "iopub.status.idle": "2022-01-04T11:43:16.264805Z",
     "shell.execute_reply": "2022-01-04T11:43:16.264245Z",
     "shell.execute_reply.started": "2022-01-04T11:11:57.575446Z"
    },
    "papermill": {
     "duration": 111.067697,
     "end_time": "2022-01-04T11:43:16.264994",
     "exception": false,
     "start_time": "2022-01-04T11:41:25.197297",
     "status": "completed"
    },
    "tags": []
   },
   "outputs": [],
   "source": [
    "X_list = []\n",
    "\n",
    "for text in df.text:\n",
    "    X_list.append(vectorizer(text))"
   ]
  },
  {
   "cell_type": "code",
   "execution_count": 11,
   "id": "a066820b",
   "metadata": {
    "execution": {
     "iopub.execute_input": "2022-01-04T11:43:16.323423Z",
     "iopub.status.busy": "2022-01-04T11:43:16.322462Z",
     "iopub.status.idle": "2022-01-04T11:43:16.327295Z",
     "shell.execute_reply": "2022-01-04T11:43:16.326644Z",
     "shell.execute_reply.started": "2022-01-04T11:14:16.279315Z"
    },
    "papermill": {
     "duration": 0.03509,
     "end_time": "2022-01-04T11:43:16.327433",
     "exception": false,
     "start_time": "2022-01-04T11:43:16.292343",
     "status": "completed"
    },
    "tags": []
   },
   "outputs": [],
   "source": [
    "EMB_DIM = len(vec.vocabulary_) + 256"
   ]
  },
  {
   "cell_type": "code",
   "execution_count": 12,
   "id": "93ccdeef",
   "metadata": {
    "execution": {
     "iopub.execute_input": "2022-01-04T11:43:16.385166Z",
     "iopub.status.busy": "2022-01-04T11:43:16.384293Z",
     "iopub.status.idle": "2022-01-04T11:43:21.759764Z",
     "shell.execute_reply": "2022-01-04T11:43:21.758778Z",
     "shell.execute_reply.started": "2022-01-04T11:15:56.230252Z"
    },
    "papermill": {
     "duration": 5.405512,
     "end_time": "2022-01-04T11:43:21.759976",
     "exception": false,
     "start_time": "2022-01-04T11:43:16.354464",
     "status": "completed"
    },
    "tags": []
   },
   "outputs": [],
   "source": [
    "X_np = np.array(X_list).reshape(-1, EMB_DIM)"
   ]
  },
  {
   "cell_type": "code",
   "execution_count": 13,
   "id": "401173ec",
   "metadata": {
    "execution": {
     "iopub.execute_input": "2022-01-04T11:43:21.821316Z",
     "iopub.status.busy": "2022-01-04T11:43:21.820434Z",
     "iopub.status.idle": "2022-01-04T11:43:52.216234Z",
     "shell.execute_reply": "2022-01-04T11:43:52.215563Z",
     "shell.execute_reply.started": "2022-01-04T11:15:58.304196Z"
    },
    "papermill": {
     "duration": 30.427046,
     "end_time": "2022-01-04T11:43:52.216398",
     "exception": false,
     "start_time": "2022-01-04T11:43:21.789352",
     "status": "completed"
    },
    "tags": []
   },
   "outputs": [],
   "source": [
    "from scipy import sparse\n",
    "\n",
    "X = sparse.csr_matrix(X_np)\n",
    "del X_np"
   ]
  },
  {
   "cell_type": "code",
   "execution_count": 14,
   "id": "9910a278",
   "metadata": {
    "execution": {
     "iopub.execute_input": "2022-01-04T11:43:52.274034Z",
     "iopub.status.busy": "2022-01-04T11:43:52.273402Z",
     "iopub.status.idle": "2022-01-04T11:43:52.279844Z",
     "shell.execute_reply": "2022-01-04T11:43:52.280254Z",
     "shell.execute_reply.started": "2022-01-04T11:16:27.795319Z"
    },
    "papermill": {
     "duration": 0.036498,
     "end_time": "2022-01-04T11:43:52.280432",
     "exception": false,
     "start_time": "2022-01-04T11:43:52.243934",
     "status": "completed"
    },
    "tags": []
   },
   "outputs": [
    {
     "data": {
      "text/plain": [
       "<47991x46256 sparse matrix of type '<class 'numpy.float32'>'\n",
       "\twith 29708370 stored elements in Compressed Sparse Row format>"
      ]
     },
     "execution_count": 14,
     "metadata": {},
     "output_type": "execute_result"
    }
   ],
   "source": [
    "X"
   ]
  },
  {
   "cell_type": "markdown",
   "id": "3eeff426",
   "metadata": {
    "papermill": {
     "duration": 0.027104,
     "end_time": "2022-01-04T11:43:52.334752",
     "exception": false,
     "start_time": "2022-01-04T11:43:52.307648",
     "status": "completed"
    },
    "tags": []
   },
   "source": [
    "<h1>Fit Ridge</h1>"
   ]
  },
  {
   "cell_type": "code",
   "execution_count": 15,
   "id": "4932230e",
   "metadata": {
    "execution": {
     "iopub.execute_input": "2022-01-04T11:43:52.393453Z",
     "iopub.status.busy": "2022-01-04T11:43:52.392708Z",
     "iopub.status.idle": "2022-01-04T11:47:55.311375Z",
     "shell.execute_reply": "2022-01-04T11:47:55.310718Z",
     "shell.execute_reply.started": "2022-01-04T11:16:48.860784Z"
    },
    "papermill": {
     "duration": 242.949432,
     "end_time": "2022-01-04T11:47:55.311527",
     "exception": false,
     "start_time": "2022-01-04T11:43:52.362095",
     "status": "completed"
    },
    "tags": []
   },
   "outputs": [
    {
     "name": "stdout",
     "output_type": "stream",
     "text": [
      "CPU times: total: 16min 30s\n",
      "Wall time: 2min 4s\n"
     ]
    },
    {
     "data": {
      "text/plain": [
       "Ridge(alpha=0.5)"
      ]
     },
     "execution_count": 15,
     "metadata": {},
     "output_type": "execute_result"
    }
   ],
   "source": [
    "%%time\n",
    "model = Ridge(alpha=0.5)\n",
    "model.fit(X, df['y'])"
   ]
  },
  {
   "cell_type": "code",
   "execution_count": 16,
   "id": "42f467d7",
   "metadata": {
    "execution": {
     "iopub.execute_input": "2022-01-04T11:47:55.371156Z",
     "iopub.status.busy": "2022-01-04T11:47:55.370429Z",
     "iopub.status.idle": "2022-01-04T11:51:44.771773Z",
     "shell.execute_reply": "2022-01-04T11:51:44.771280Z",
     "shell.execute_reply.started": "2022-01-04T11:20:47.449695Z"
    },
    "papermill": {
     "duration": 229.432618,
     "end_time": "2022-01-04T11:51:44.771934",
     "exception": false,
     "start_time": "2022-01-04T11:47:55.339316",
     "status": "completed"
    },
    "tags": []
   },
   "outputs": [
    {
     "name": "stdout",
     "output_type": "stream",
     "text": [
      "CPU times: total: 12min 51s\n",
      "Wall time: 1min 36s\n"
     ]
    },
    {
     "data": {
      "text/plain": [
       "Ridge()"
      ]
     },
     "execution_count": 16,
     "metadata": {},
     "output_type": "execute_result"
    }
   ],
   "source": [
    "%%time\n",
    "l_model = Ridge(alpha=1.)\n",
    "l_model.fit(X, df['y'])"
   ]
  },
  {
   "cell_type": "code",
   "execution_count": 17,
   "id": "57c7388e",
   "metadata": {
    "execution": {
     "iopub.execute_input": "2022-01-04T11:51:44.834976Z",
     "iopub.status.busy": "2022-01-04T11:51:44.832317Z",
     "iopub.status.idle": "2022-01-04T11:54:49.685732Z",
     "shell.execute_reply": "2022-01-04T11:54:49.685251Z",
     "shell.execute_reply.started": "2022-01-04T11:24:37.455199Z"
    },
    "papermill": {
     "duration": 184.884622,
     "end_time": "2022-01-04T11:54:49.685905",
     "exception": false,
     "start_time": "2022-01-04T11:51:44.801283",
     "status": "completed"
    },
    "tags": []
   },
   "outputs": [
    {
     "name": "stdout",
     "output_type": "stream",
     "text": [
      "CPU times: total: 11min 57s\n",
      "Wall time: 1min 30s\n"
     ]
    },
    {
     "data": {
      "text/plain": [
       "Ridge(alpha=1.5)"
      ]
     },
     "execution_count": 17,
     "metadata": {},
     "output_type": "execute_result"
    }
   ],
   "source": [
    "%%time\n",
    "d_model = Ridge(alpha=1.5)\n",
    "d_model.fit(X, df['y'])"
   ]
  },
  {
   "cell_type": "code",
   "execution_count": 18,
   "id": "b7e9376b",
   "metadata": {
    "execution": {
     "iopub.execute_input": "2022-01-04T11:54:49.747438Z",
     "iopub.status.busy": "2022-01-04T11:54:49.746882Z",
     "iopub.status.idle": "2022-01-04T11:57:34.732937Z",
     "shell.execute_reply": "2022-01-04T11:57:34.732376Z",
     "shell.execute_reply.started": "2022-01-04T11:27:42.810942Z"
    },
    "papermill": {
     "duration": 165.018107,
     "end_time": "2022-01-04T11:57:34.733079",
     "exception": false,
     "start_time": "2022-01-04T11:54:49.714972",
     "status": "completed"
    },
    "tags": []
   },
   "outputs": [
    {
     "name": "stdout",
     "output_type": "stream",
     "text": [
      "CPU times: total: 10min 37s\n",
      "Wall time: 1min 20s\n"
     ]
    },
    {
     "data": {
      "text/plain": [
       "Ridge(alpha=2.0)"
      ]
     },
     "execution_count": 18,
     "metadata": {},
     "output_type": "execute_result"
    }
   ],
   "source": [
    "%%time\n",
    "s_model = Ridge(alpha=2.)\n",
    "s_model.fit(X, df['y'])"
   ]
  },
  {
   "cell_type": "markdown",
   "id": "c4d1d9aa",
   "metadata": {
    "papermill": {
     "duration": 0.031872,
     "end_time": "2022-01-04T12:01:22.070882",
     "exception": false,
     "start_time": "2022-01-04T12:01:22.039010",
     "status": "completed"
    },
    "tags": []
   },
   "source": [
    "## Prediction"
   ]
  },
  {
   "cell_type": "code",
   "execution_count": 28,
   "id": "9fae6dd7",
   "metadata": {
    "execution": {
     "iopub.execute_input": "2022-01-04T12:01:22.138850Z",
     "iopub.status.busy": "2022-01-04T12:01:22.138249Z",
     "iopub.status.idle": "2022-01-04T12:01:22.156137Z",
     "shell.execute_reply": "2022-01-04T12:01:22.156610Z",
     "shell.execute_reply.started": "2022-01-04T11:39:00.046230Z"
    },
    "papermill": {
     "duration": 0.053621,
     "end_time": "2022-01-04T12:01:22.156774",
     "exception": false,
     "start_time": "2022-01-04T12:01:22.103153",
     "status": "completed"
    },
    "tags": []
   },
   "outputs": [],
   "source": [
    "p3 = s_model.predict(X)"
   ]
  },
  {
   "cell_type": "code",
   "execution_count": 29,
   "id": "c93ac554",
   "metadata": {},
   "outputs": [
    {
     "data": {
      "text/plain": [
       "array([1.5627846 , 1.9564546 , 0.5945374 , ..., 2.6738548 , 1.4661351 ,\n",
       "       0.40538475], dtype=float32)"
      ]
     },
     "execution_count": 29,
     "metadata": {},
     "output_type": "execute_result"
    }
   ],
   "source": [
    "p3"
   ]
  },
  {
   "cell_type": "code",
   "execution_count": 30,
   "id": "b3f2a5fc",
   "metadata": {
    "execution": {
     "iopub.execute_input": "2022-01-04T12:01:22.400837Z",
     "iopub.status.busy": "2022-01-04T12:01:22.400192Z",
     "iopub.status.idle": "2022-01-04T12:01:22.404049Z",
     "shell.execute_reply": "2022-01-04T12:01:22.404520Z",
     "shell.execute_reply.started": "2022-01-04T11:39:00.115497Z"
    },
    "papermill": {
     "duration": 0.039117,
     "end_time": "2022-01-04T12:01:22.404674",
     "exception": false,
     "start_time": "2022-01-04T12:01:22.365557",
     "status": "completed"
    },
    "tags": []
   },
   "outputs": [],
   "source": [
    "df_sub['score'] = p3"
   ]
  },
  {
   "cell_type": "code",
   "execution_count": 31,
   "id": "3f218ab8",
   "metadata": {
    "execution": {
     "iopub.execute_input": "2022-01-04T12:01:22.472095Z",
     "iopub.status.busy": "2022-01-04T12:01:22.471508Z",
     "iopub.status.idle": "2022-01-04T12:01:22.476260Z",
     "shell.execute_reply": "2022-01-04T12:01:22.476735Z",
     "shell.execute_reply.started": "2022-01-04T11:39:00.122620Z"
    },
    "papermill": {
     "duration": 0.0397,
     "end_time": "2022-01-04T12:01:22.476910",
     "exception": false,
     "start_time": "2022-01-04T12:01:22.437210",
     "status": "completed"
    },
    "tags": []
   },
   "outputs": [
    {
     "data": {
      "text/plain": [
       "47991"
      ]
     },
     "execution_count": 31,
     "metadata": {},
     "output_type": "execute_result"
    }
   ],
   "source": [
    "df_sub['score'].count()"
   ]
  },
  {
   "cell_type": "code",
   "execution_count": 32,
   "id": "f687a7b2",
   "metadata": {
    "execution": {
     "iopub.execute_input": "2022-01-04T12:01:22.616179Z",
     "iopub.status.busy": "2022-01-04T12:01:22.615550Z",
     "iopub.status.idle": "2022-01-04T12:01:22.622381Z",
     "shell.execute_reply": "2022-01-04T12:01:22.622915Z",
     "shell.execute_reply.started": "2022-01-04T11:39:00.154740Z"
    },
    "papermill": {
     "duration": 0.042026,
     "end_time": "2022-01-04T12:01:22.623077",
     "exception": false,
     "start_time": "2022-01-04T12:01:22.581051",
     "status": "completed"
    },
    "tags": []
   },
   "outputs": [
    {
     "data": {
      "text/plain": [
       "43059"
      ]
     },
     "execution_count": 32,
     "metadata": {},
     "output_type": "execute_result"
    }
   ],
   "source": [
    "df_sub['score'].nunique()"
   ]
  }
 ],
 "metadata": {
  "kernelspec": {
   "display_name": "Python 3 (ipykernel)",
   "language": "python",
   "name": "python3"
  },
  "language_info": {
   "codemirror_mode": {
    "name": "ipython",
    "version": 3
   },
   "file_extension": ".py",
   "mimetype": "text/x-python",
   "name": "python",
   "nbconvert_exporter": "python",
   "pygments_lexer": "ipython3",
   "version": "3.9.7"
  },
  "papermill": {
   "default_parameters": {},
   "duration": 1259.384641,
   "end_time": "2022-01-04T12:01:24.134217",
   "environment_variables": {},
   "exception": null,
   "input_path": "__notebook__.ipynb",
   "output_path": "__notebook__.ipynb",
   "parameters": {},
   "start_time": "2022-01-04T11:40:24.749576",
   "version": "2.3.3"
  },
  "widgets": {
   "application/vnd.jupyter.widget-state+json": {
    "state": {
     "044449a9e5604db69360097ac3114334": {
      "model_module": "@jupyter-widgets/controls",
      "model_module_version": "1.5.0",
      "model_name": "DescriptionStyleModel",
      "state": {
       "_model_module": "@jupyter-widgets/controls",
       "_model_module_version": "1.5.0",
       "_model_name": "DescriptionStyleModel",
       "_view_count": null,
       "_view_module": "@jupyter-widgets/base",
       "_view_module_version": "1.2.0",
       "_view_name": "StyleView",
       "description_width": ""
      }
     },
     "08f20ff938214724bce8016913d5582b": {
      "model_module": "@jupyter-widgets/controls",
      "model_module_version": "1.5.0",
      "model_name": "ProgressStyleModel",
      "state": {
       "_model_module": "@jupyter-widgets/controls",
       "_model_module_version": "1.5.0",
       "_model_name": "ProgressStyleModel",
       "_view_count": null,
       "_view_module": "@jupyter-widgets/base",
       "_view_module_version": "1.2.0",
       "_view_name": "StyleView",
       "bar_color": null,
       "description_width": ""
      }
     },
     "24035f2ce6ef415f8cc3f4547e234c8f": {
      "model_module": "@jupyter-widgets/controls",
      "model_module_version": "1.5.0",
      "model_name": "HTMLModel",
      "state": {
       "_dom_classes": [],
       "_model_module": "@jupyter-widgets/controls",
       "_model_module_version": "1.5.0",
       "_model_name": "HTMLModel",
       "_view_count": null,
       "_view_module": "@jupyter-widgets/controls",
       "_view_module_version": "1.5.0",
       "_view_name": "HTMLView",
       "description": "",
       "description_tooltip": null,
       "layout": "IPY_MODEL_5f11099e87cf4e0f93b87dd4554714eb",
       "placeholder": "​",
       "style": "IPY_MODEL_a354c939fd7841fd996e897b81d8675b",
       "value": "100%"
      }
     },
     "2f2c3e1af8664d47899a3db963d021b2": {
      "model_module": "@jupyter-widgets/base",
      "model_module_version": "1.2.0",
      "model_name": "LayoutModel",
      "state": {
       "_model_module": "@jupyter-widgets/base",
       "_model_module_version": "1.2.0",
       "_model_name": "LayoutModel",
       "_view_count": null,
       "_view_module": "@jupyter-widgets/base",
       "_view_module_version": "1.2.0",
       "_view_name": "LayoutView",
       "align_content": null,
       "align_items": null,
       "align_self": null,
       "border": null,
       "bottom": null,
       "display": null,
       "flex": null,
       "flex_flow": null,
       "grid_area": null,
       "grid_auto_columns": null,
       "grid_auto_flow": null,
       "grid_auto_rows": null,
       "grid_column": null,
       "grid_gap": null,
       "grid_row": null,
       "grid_template_areas": null,
       "grid_template_columns": null,
       "grid_template_rows": null,
       "height": null,
       "justify_content": null,
       "justify_items": null,
       "left": null,
       "margin": null,
       "max_height": null,
       "max_width": null,
       "min_height": null,
       "min_width": null,
       "object_fit": null,
       "object_position": null,
       "order": null,
       "overflow": null,
       "overflow_x": null,
       "overflow_y": null,
       "padding": null,
       "right": null,
       "top": null,
       "visibility": null,
       "width": null
      }
     },
     "38137924d8ed432285ee69a4baa92265": {
      "model_module": "@jupyter-widgets/controls",
      "model_module_version": "1.5.0",
      "model_name": "HTMLModel",
      "state": {
       "_dom_classes": [],
       "_model_module": "@jupyter-widgets/controls",
       "_model_module_version": "1.5.0",
       "_model_name": "HTMLModel",
       "_view_count": null,
       "_view_module": "@jupyter-widgets/controls",
       "_view_module_version": "1.5.0",
       "_view_name": "HTMLView",
       "description": "",
       "description_tooltip": null,
       "layout": "IPY_MODEL_2f2c3e1af8664d47899a3db963d021b2",
       "placeholder": "​",
       "style": "IPY_MODEL_6938ca773ae94e70862e093a98357e2a",
       "value": "100%"
      }
     },
     "3cfdee3fe6ba431fbb03fa087882d0bc": {
      "model_module": "@jupyter-widgets/controls",
      "model_module_version": "1.5.0",
      "model_name": "HTMLModel",
      "state": {
       "_dom_classes": [],
       "_model_module": "@jupyter-widgets/controls",
       "_model_module_version": "1.5.0",
       "_model_name": "HTMLModel",
       "_view_count": null,
       "_view_module": "@jupyter-widgets/controls",
       "_view_module_version": "1.5.0",
       "_view_name": "HTMLView",
       "description": "",
       "description_tooltip": null,
       "layout": "IPY_MODEL_b366f8c6779148f9bef460bf0cba86ca",
       "placeholder": "​",
       "style": "IPY_MODEL_044449a9e5604db69360097ac3114334",
       "value": " 7537/7537 [00:02&lt;00:00, 3232.09it/s]"
      }
     },
     "438240a233cb4370ae3044fd326f10ce": {
      "model_module": "@jupyter-widgets/base",
      "model_module_version": "1.2.0",
      "model_name": "LayoutModel",
      "state": {
       "_model_module": "@jupyter-widgets/base",
       "_model_module_version": "1.2.0",
       "_model_name": "LayoutModel",
       "_view_count": null,
       "_view_module": "@jupyter-widgets/base",
       "_view_module_version": "1.2.0",
       "_view_name": "LayoutView",
       "align_content": null,
       "align_items": null,
       "align_self": null,
       "border": null,
       "bottom": null,
       "display": null,
       "flex": null,
       "flex_flow": null,
       "grid_area": null,
       "grid_auto_columns": null,
       "grid_auto_flow": null,
       "grid_auto_rows": null,
       "grid_column": null,
       "grid_gap": null,
       "grid_row": null,
       "grid_template_areas": null,
       "grid_template_columns": null,
       "grid_template_rows": null,
       "height": null,
       "justify_content": null,
       "justify_items": null,
       "left": null,
       "margin": null,
       "max_height": null,
       "max_width": null,
       "min_height": null,
       "min_width": null,
       "object_fit": null,
       "object_position": null,
       "order": null,
       "overflow": null,
       "overflow_x": null,
       "overflow_y": null,
       "padding": null,
       "right": null,
       "top": null,
       "visibility": null,
       "width": null
      }
     },
     "48b1fb327f724f1386029f7adb7c6af2": {
      "model_module": "@jupyter-widgets/base",
      "model_module_version": "1.2.0",
      "model_name": "LayoutModel",
      "state": {
       "_model_module": "@jupyter-widgets/base",
       "_model_module_version": "1.2.0",
       "_model_name": "LayoutModel",
       "_view_count": null,
       "_view_module": "@jupyter-widgets/base",
       "_view_module_version": "1.2.0",
       "_view_name": "LayoutView",
       "align_content": null,
       "align_items": null,
       "align_self": null,
       "border": null,
       "bottom": null,
       "display": null,
       "flex": null,
       "flex_flow": null,
       "grid_area": null,
       "grid_auto_columns": null,
       "grid_auto_flow": null,
       "grid_auto_rows": null,
       "grid_column": null,
       "grid_gap": null,
       "grid_row": null,
       "grid_template_areas": null,
       "grid_template_columns": null,
       "grid_template_rows": null,
       "height": null,
       "justify_content": null,
       "justify_items": null,
       "left": null,
       "margin": null,
       "max_height": null,
       "max_width": null,
       "min_height": null,
       "min_width": null,
       "object_fit": null,
       "object_position": null,
       "order": null,
       "overflow": null,
       "overflow_x": null,
       "overflow_y": null,
       "padding": null,
       "right": null,
       "top": null,
       "visibility": null,
       "width": null
      }
     },
     "58af1fe10a914c7f8a9b561f5a061685": {
      "model_module": "@jupyter-widgets/controls",
      "model_module_version": "1.5.0",
      "model_name": "DescriptionStyleModel",
      "state": {
       "_model_module": "@jupyter-widgets/controls",
       "_model_module_version": "1.5.0",
       "_model_name": "DescriptionStyleModel",
       "_view_count": null,
       "_view_module": "@jupyter-widgets/base",
       "_view_module_version": "1.2.0",
       "_view_name": "StyleView",
       "description_width": ""
      }
     },
     "5cc19a805bff419f96c2fd2a102c25b3": {
      "model_module": "@jupyter-widgets/controls",
      "model_module_version": "1.5.0",
      "model_name": "HTMLModel",
      "state": {
       "_dom_classes": [],
       "_model_module": "@jupyter-widgets/controls",
       "_model_module_version": "1.5.0",
       "_model_name": "HTMLModel",
       "_view_count": null,
       "_view_module": "@jupyter-widgets/controls",
       "_view_module_version": "1.5.0",
       "_view_name": "HTMLView",
       "description": "",
       "description_tooltip": null,
       "layout": "IPY_MODEL_e3a7957cf14348a58498aabce405bc51",
       "placeholder": "​",
       "style": "IPY_MODEL_ccbe7330b5484858a4cc041736b50f58",
       "value": "100%"
      }
     },
     "5f11099e87cf4e0f93b87dd4554714eb": {
      "model_module": "@jupyter-widgets/base",
      "model_module_version": "1.2.0",
      "model_name": "LayoutModel",
      "state": {
       "_model_module": "@jupyter-widgets/base",
       "_model_module_version": "1.2.0",
       "_model_name": "LayoutModel",
       "_view_count": null,
       "_view_module": "@jupyter-widgets/base",
       "_view_module_version": "1.2.0",
       "_view_name": "LayoutView",
       "align_content": null,
       "align_items": null,
       "align_self": null,
       "border": null,
       "bottom": null,
       "display": null,
       "flex": null,
       "flex_flow": null,
       "grid_area": null,
       "grid_auto_columns": null,
       "grid_auto_flow": null,
       "grid_auto_rows": null,
       "grid_column": null,
       "grid_gap": null,
       "grid_row": null,
       "grid_template_areas": null,
       "grid_template_columns": null,
       "grid_template_rows": null,
       "height": null,
       "justify_content": null,
       "justify_items": null,
       "left": null,
       "margin": null,
       "max_height": null,
       "max_width": null,
       "min_height": null,
       "min_width": null,
       "object_fit": null,
       "object_position": null,
       "order": null,
       "overflow": null,
       "overflow_x": null,
       "overflow_y": null,
       "padding": null,
       "right": null,
       "top": null,
       "visibility": null,
       "width": null
      }
     },
     "609977d83e504ada9d99bd28a7de0ef4": {
      "model_module": "@jupyter-widgets/controls",
      "model_module_version": "1.5.0",
      "model_name": "HTMLModel",
      "state": {
       "_dom_classes": [],
       "_model_module": "@jupyter-widgets/controls",
       "_model_module_version": "1.5.0",
       "_model_name": "HTMLModel",
       "_view_count": null,
       "_view_module": "@jupyter-widgets/controls",
       "_view_module_version": "1.5.0",
       "_view_name": "HTMLView",
       "description": "",
       "description_tooltip": null,
       "layout": "IPY_MODEL_b56ee9a4d604409db0cf4c54e11c7ee3",
       "placeholder": "​",
       "style": "IPY_MODEL_9185e33deafb4e44bf68d2636e022e4b",
       "value": " 30108/30108 [00:09&lt;00:00, 3352.19it/s]"
      }
     },
     "62454e69bd5d45418fee3868e2bdf5a3": {
      "model_module": "@jupyter-widgets/base",
      "model_module_version": "1.2.0",
      "model_name": "LayoutModel",
      "state": {
       "_model_module": "@jupyter-widgets/base",
       "_model_module_version": "1.2.0",
       "_model_name": "LayoutModel",
       "_view_count": null,
       "_view_module": "@jupyter-widgets/base",
       "_view_module_version": "1.2.0",
       "_view_name": "LayoutView",
       "align_content": null,
       "align_items": null,
       "align_self": null,
       "border": null,
       "bottom": null,
       "display": null,
       "flex": null,
       "flex_flow": null,
       "grid_area": null,
       "grid_auto_columns": null,
       "grid_auto_flow": null,
       "grid_auto_rows": null,
       "grid_column": null,
       "grid_gap": null,
       "grid_row": null,
       "grid_template_areas": null,
       "grid_template_columns": null,
       "grid_template_rows": null,
       "height": null,
       "justify_content": null,
       "justify_items": null,
       "left": null,
       "margin": null,
       "max_height": null,
       "max_width": null,
       "min_height": null,
       "min_width": null,
       "object_fit": null,
       "object_position": null,
       "order": null,
       "overflow": null,
       "overflow_x": null,
       "overflow_y": null,
       "padding": null,
       "right": null,
       "top": null,
       "visibility": null,
       "width": null
      }
     },
     "686ff8dc6fd04a3d8419ce0a86a2933b": {
      "model_module": "@jupyter-widgets/base",
      "model_module_version": "1.2.0",
      "model_name": "LayoutModel",
      "state": {
       "_model_module": "@jupyter-widgets/base",
       "_model_module_version": "1.2.0",
       "_model_name": "LayoutModel",
       "_view_count": null,
       "_view_module": "@jupyter-widgets/base",
       "_view_module_version": "1.2.0",
       "_view_name": "LayoutView",
       "align_content": null,
       "align_items": null,
       "align_self": null,
       "border": null,
       "bottom": null,
       "display": null,
       "flex": null,
       "flex_flow": null,
       "grid_area": null,
       "grid_auto_columns": null,
       "grid_auto_flow": null,
       "grid_auto_rows": null,
       "grid_column": null,
       "grid_gap": null,
       "grid_row": null,
       "grid_template_areas": null,
       "grid_template_columns": null,
       "grid_template_rows": null,
       "height": null,
       "justify_content": null,
       "justify_items": null,
       "left": null,
       "margin": null,
       "max_height": null,
       "max_width": null,
       "min_height": null,
       "min_width": null,
       "object_fit": null,
       "object_position": null,
       "order": null,
       "overflow": null,
       "overflow_x": null,
       "overflow_y": null,
       "padding": null,
       "right": null,
       "top": null,
       "visibility": null,
       "width": null
      }
     },
     "6938ca773ae94e70862e093a98357e2a": {
      "model_module": "@jupyter-widgets/controls",
      "model_module_version": "1.5.0",
      "model_name": "DescriptionStyleModel",
      "state": {
       "_model_module": "@jupyter-widgets/controls",
       "_model_module_version": "1.5.0",
       "_model_name": "DescriptionStyleModel",
       "_view_count": null,
       "_view_module": "@jupyter-widgets/base",
       "_view_module_version": "1.2.0",
       "_view_name": "StyleView",
       "description_width": ""
      }
     },
     "700ac585dfe84e90a06b3b60f6a8bb5e": {
      "model_module": "@jupyter-widgets/controls",
      "model_module_version": "1.5.0",
      "model_name": "HBoxModel",
      "state": {
       "_dom_classes": [],
       "_model_module": "@jupyter-widgets/controls",
       "_model_module_version": "1.5.0",
       "_model_name": "HBoxModel",
       "_view_count": null,
       "_view_module": "@jupyter-widgets/controls",
       "_view_module_version": "1.5.0",
       "_view_name": "HBoxView",
       "box_style": "",
       "children": [
        "IPY_MODEL_5cc19a805bff419f96c2fd2a102c25b3",
        "IPY_MODEL_8fb0c4201d844d1e925d71b2b572eb1d",
        "IPY_MODEL_3cfdee3fe6ba431fbb03fa087882d0bc"
       ],
       "layout": "IPY_MODEL_48b1fb327f724f1386029f7adb7c6af2"
      }
     },
     "7ddec6635196493d9a62104dd272a24d": {
      "model_module": "@jupyter-widgets/controls",
      "model_module_version": "1.5.0",
      "model_name": "HBoxModel",
      "state": {
       "_dom_classes": [],
       "_model_module": "@jupyter-widgets/controls",
       "_model_module_version": "1.5.0",
       "_model_name": "HBoxModel",
       "_view_count": null,
       "_view_module": "@jupyter-widgets/controls",
       "_view_module_version": "1.5.0",
       "_view_name": "HBoxView",
       "box_style": "",
       "children": [
        "IPY_MODEL_24035f2ce6ef415f8cc3f4547e234c8f",
        "IPY_MODEL_ea31300bfe6149a6b669f5acf14ad66a",
        "IPY_MODEL_b6fc5a5e54fb4b698eb83a575c649678"
       ],
       "layout": "IPY_MODEL_62454e69bd5d45418fee3868e2bdf5a3"
      }
     },
     "8fb0c4201d844d1e925d71b2b572eb1d": {
      "model_module": "@jupyter-widgets/controls",
      "model_module_version": "1.5.0",
      "model_name": "FloatProgressModel",
      "state": {
       "_dom_classes": [],
       "_model_module": "@jupyter-widgets/controls",
       "_model_module_version": "1.5.0",
       "_model_name": "FloatProgressModel",
       "_view_count": null,
       "_view_module": "@jupyter-widgets/controls",
       "_view_module_version": "1.5.0",
       "_view_name": "ProgressView",
       "bar_style": "success",
       "description": "",
       "description_tooltip": null,
       "layout": "IPY_MODEL_caae7aef51ea4f78a0c7e23ec4b7871e",
       "max": 7537,
       "min": 0,
       "orientation": "horizontal",
       "style": "IPY_MODEL_dd3dcc9967af4c5aa2a95d9d0e00a0bf",
       "value": 7537
      }
     },
     "9185e33deafb4e44bf68d2636e022e4b": {
      "model_module": "@jupyter-widgets/controls",
      "model_module_version": "1.5.0",
      "model_name": "DescriptionStyleModel",
      "state": {
       "_model_module": "@jupyter-widgets/controls",
       "_model_module_version": "1.5.0",
       "_model_name": "DescriptionStyleModel",
       "_view_count": null,
       "_view_module": "@jupyter-widgets/base",
       "_view_module_version": "1.2.0",
       "_view_name": "StyleView",
       "description_width": ""
      }
     },
     "a354c939fd7841fd996e897b81d8675b": {
      "model_module": "@jupyter-widgets/controls",
      "model_module_version": "1.5.0",
      "model_name": "DescriptionStyleModel",
      "state": {
       "_model_module": "@jupyter-widgets/controls",
       "_model_module_version": "1.5.0",
       "_model_name": "DescriptionStyleModel",
       "_view_count": null,
       "_view_module": "@jupyter-widgets/base",
       "_view_module_version": "1.2.0",
       "_view_name": "StyleView",
       "description_width": ""
      }
     },
     "b366f8c6779148f9bef460bf0cba86ca": {
      "model_module": "@jupyter-widgets/base",
      "model_module_version": "1.2.0",
      "model_name": "LayoutModel",
      "state": {
       "_model_module": "@jupyter-widgets/base",
       "_model_module_version": "1.2.0",
       "_model_name": "LayoutModel",
       "_view_count": null,
       "_view_module": "@jupyter-widgets/base",
       "_view_module_version": "1.2.0",
       "_view_name": "LayoutView",
       "align_content": null,
       "align_items": null,
       "align_self": null,
       "border": null,
       "bottom": null,
       "display": null,
       "flex": null,
       "flex_flow": null,
       "grid_area": null,
       "grid_auto_columns": null,
       "grid_auto_flow": null,
       "grid_auto_rows": null,
       "grid_column": null,
       "grid_gap": null,
       "grid_row": null,
       "grid_template_areas": null,
       "grid_template_columns": null,
       "grid_template_rows": null,
       "height": null,
       "justify_content": null,
       "justify_items": null,
       "left": null,
       "margin": null,
       "max_height": null,
       "max_width": null,
       "min_height": null,
       "min_width": null,
       "object_fit": null,
       "object_position": null,
       "order": null,
       "overflow": null,
       "overflow_x": null,
       "overflow_y": null,
       "padding": null,
       "right": null,
       "top": null,
       "visibility": null,
       "width": null
      }
     },
     "b56ee9a4d604409db0cf4c54e11c7ee3": {
      "model_module": "@jupyter-widgets/base",
      "model_module_version": "1.2.0",
      "model_name": "LayoutModel",
      "state": {
       "_model_module": "@jupyter-widgets/base",
       "_model_module_version": "1.2.0",
       "_model_name": "LayoutModel",
       "_view_count": null,
       "_view_module": "@jupyter-widgets/base",
       "_view_module_version": "1.2.0",
       "_view_name": "LayoutView",
       "align_content": null,
       "align_items": null,
       "align_self": null,
       "border": null,
       "bottom": null,
       "display": null,
       "flex": null,
       "flex_flow": null,
       "grid_area": null,
       "grid_auto_columns": null,
       "grid_auto_flow": null,
       "grid_auto_rows": null,
       "grid_column": null,
       "grid_gap": null,
       "grid_row": null,
       "grid_template_areas": null,
       "grid_template_columns": null,
       "grid_template_rows": null,
       "height": null,
       "justify_content": null,
       "justify_items": null,
       "left": null,
       "margin": null,
       "max_height": null,
       "max_width": null,
       "min_height": null,
       "min_width": null,
       "object_fit": null,
       "object_position": null,
       "order": null,
       "overflow": null,
       "overflow_x": null,
       "overflow_y": null,
       "padding": null,
       "right": null,
       "top": null,
       "visibility": null,
       "width": null
      }
     },
     "b6fc5a5e54fb4b698eb83a575c649678": {
      "model_module": "@jupyter-widgets/controls",
      "model_module_version": "1.5.0",
      "model_name": "HTMLModel",
      "state": {
       "_dom_classes": [],
       "_model_module": "@jupyter-widgets/controls",
       "_model_module_version": "1.5.0",
       "_model_name": "HTMLModel",
       "_view_count": null,
       "_view_module": "@jupyter-widgets/controls",
       "_view_module_version": "1.5.0",
       "_view_name": "HTMLView",
       "description": "",
       "description_tooltip": null,
       "layout": "IPY_MODEL_c08ed2bd13724e4ab01090c56fc767ea",
       "placeholder": "​",
       "style": "IPY_MODEL_58af1fe10a914c7f8a9b561f5a061685",
       "value": " 30108/30108 [00:09&lt;00:00, 3223.08it/s]"
      }
     },
     "c08ed2bd13724e4ab01090c56fc767ea": {
      "model_module": "@jupyter-widgets/base",
      "model_module_version": "1.2.0",
      "model_name": "LayoutModel",
      "state": {
       "_model_module": "@jupyter-widgets/base",
       "_model_module_version": "1.2.0",
       "_model_name": "LayoutModel",
       "_view_count": null,
       "_view_module": "@jupyter-widgets/base",
       "_view_module_version": "1.2.0",
       "_view_name": "LayoutView",
       "align_content": null,
       "align_items": null,
       "align_self": null,
       "border": null,
       "bottom": null,
       "display": null,
       "flex": null,
       "flex_flow": null,
       "grid_area": null,
       "grid_auto_columns": null,
       "grid_auto_flow": null,
       "grid_auto_rows": null,
       "grid_column": null,
       "grid_gap": null,
       "grid_row": null,
       "grid_template_areas": null,
       "grid_template_columns": null,
       "grid_template_rows": null,
       "height": null,
       "justify_content": null,
       "justify_items": null,
       "left": null,
       "margin": null,
       "max_height": null,
       "max_width": null,
       "min_height": null,
       "min_width": null,
       "object_fit": null,
       "object_position": null,
       "order": null,
       "overflow": null,
       "overflow_x": null,
       "overflow_y": null,
       "padding": null,
       "right": null,
       "top": null,
       "visibility": null,
       "width": null
      }
     },
     "c86002dad93c4215b89de542afee339a": {
      "model_module": "@jupyter-widgets/controls",
      "model_module_version": "1.5.0",
      "model_name": "HBoxModel",
      "state": {
       "_dom_classes": [],
       "_model_module": "@jupyter-widgets/controls",
       "_model_module_version": "1.5.0",
       "_model_name": "HBoxModel",
       "_view_count": null,
       "_view_module": "@jupyter-widgets/controls",
       "_view_module_version": "1.5.0",
       "_view_name": "HBoxView",
       "box_style": "",
       "children": [
        "IPY_MODEL_38137924d8ed432285ee69a4baa92265",
        "IPY_MODEL_db651516eadc4f0ea21047e050b09d54",
        "IPY_MODEL_609977d83e504ada9d99bd28a7de0ef4"
       ],
       "layout": "IPY_MODEL_ce40493f04a84998ad1d84ef3c55a3c2"
      }
     },
     "caae7aef51ea4f78a0c7e23ec4b7871e": {
      "model_module": "@jupyter-widgets/base",
      "model_module_version": "1.2.0",
      "model_name": "LayoutModel",
      "state": {
       "_model_module": "@jupyter-widgets/base",
       "_model_module_version": "1.2.0",
       "_model_name": "LayoutModel",
       "_view_count": null,
       "_view_module": "@jupyter-widgets/base",
       "_view_module_version": "1.2.0",
       "_view_name": "LayoutView",
       "align_content": null,
       "align_items": null,
       "align_self": null,
       "border": null,
       "bottom": null,
       "display": null,
       "flex": null,
       "flex_flow": null,
       "grid_area": null,
       "grid_auto_columns": null,
       "grid_auto_flow": null,
       "grid_auto_rows": null,
       "grid_column": null,
       "grid_gap": null,
       "grid_row": null,
       "grid_template_areas": null,
       "grid_template_columns": null,
       "grid_template_rows": null,
       "height": null,
       "justify_content": null,
       "justify_items": null,
       "left": null,
       "margin": null,
       "max_height": null,
       "max_width": null,
       "min_height": null,
       "min_width": null,
       "object_fit": null,
       "object_position": null,
       "order": null,
       "overflow": null,
       "overflow_x": null,
       "overflow_y": null,
       "padding": null,
       "right": null,
       "top": null,
       "visibility": null,
       "width": null
      }
     },
     "ccbe7330b5484858a4cc041736b50f58": {
      "model_module": "@jupyter-widgets/controls",
      "model_module_version": "1.5.0",
      "model_name": "DescriptionStyleModel",
      "state": {
       "_model_module": "@jupyter-widgets/controls",
       "_model_module_version": "1.5.0",
       "_model_name": "DescriptionStyleModel",
       "_view_count": null,
       "_view_module": "@jupyter-widgets/base",
       "_view_module_version": "1.2.0",
       "_view_name": "StyleView",
       "description_width": ""
      }
     },
     "ce40493f04a84998ad1d84ef3c55a3c2": {
      "model_module": "@jupyter-widgets/base",
      "model_module_version": "1.2.0",
      "model_name": "LayoutModel",
      "state": {
       "_model_module": "@jupyter-widgets/base",
       "_model_module_version": "1.2.0",
       "_model_name": "LayoutModel",
       "_view_count": null,
       "_view_module": "@jupyter-widgets/base",
       "_view_module_version": "1.2.0",
       "_view_name": "LayoutView",
       "align_content": null,
       "align_items": null,
       "align_self": null,
       "border": null,
       "bottom": null,
       "display": null,
       "flex": null,
       "flex_flow": null,
       "grid_area": null,
       "grid_auto_columns": null,
       "grid_auto_flow": null,
       "grid_auto_rows": null,
       "grid_column": null,
       "grid_gap": null,
       "grid_row": null,
       "grid_template_areas": null,
       "grid_template_columns": null,
       "grid_template_rows": null,
       "height": null,
       "justify_content": null,
       "justify_items": null,
       "left": null,
       "margin": null,
       "max_height": null,
       "max_width": null,
       "min_height": null,
       "min_width": null,
       "object_fit": null,
       "object_position": null,
       "order": null,
       "overflow": null,
       "overflow_x": null,
       "overflow_y": null,
       "padding": null,
       "right": null,
       "top": null,
       "visibility": null,
       "width": null
      }
     },
     "db651516eadc4f0ea21047e050b09d54": {
      "model_module": "@jupyter-widgets/controls",
      "model_module_version": "1.5.0",
      "model_name": "FloatProgressModel",
      "state": {
       "_dom_classes": [],
       "_model_module": "@jupyter-widgets/controls",
       "_model_module_version": "1.5.0",
       "_model_name": "FloatProgressModel",
       "_view_count": null,
       "_view_module": "@jupyter-widgets/controls",
       "_view_module_version": "1.5.0",
       "_view_name": "ProgressView",
       "bar_style": "success",
       "description": "",
       "description_tooltip": null,
       "layout": "IPY_MODEL_438240a233cb4370ae3044fd326f10ce",
       "max": 30108,
       "min": 0,
       "orientation": "horizontal",
       "style": "IPY_MODEL_08f20ff938214724bce8016913d5582b",
       "value": 30108
      }
     },
     "dd3dcc9967af4c5aa2a95d9d0e00a0bf": {
      "model_module": "@jupyter-widgets/controls",
      "model_module_version": "1.5.0",
      "model_name": "ProgressStyleModel",
      "state": {
       "_model_module": "@jupyter-widgets/controls",
       "_model_module_version": "1.5.0",
       "_model_name": "ProgressStyleModel",
       "_view_count": null,
       "_view_module": "@jupyter-widgets/base",
       "_view_module_version": "1.2.0",
       "_view_name": "StyleView",
       "bar_color": null,
       "description_width": ""
      }
     },
     "e3a7957cf14348a58498aabce405bc51": {
      "model_module": "@jupyter-widgets/base",
      "model_module_version": "1.2.0",
      "model_name": "LayoutModel",
      "state": {
       "_model_module": "@jupyter-widgets/base",
       "_model_module_version": "1.2.0",
       "_model_name": "LayoutModel",
       "_view_count": null,
       "_view_module": "@jupyter-widgets/base",
       "_view_module_version": "1.2.0",
       "_view_name": "LayoutView",
       "align_content": null,
       "align_items": null,
       "align_self": null,
       "border": null,
       "bottom": null,
       "display": null,
       "flex": null,
       "flex_flow": null,
       "grid_area": null,
       "grid_auto_columns": null,
       "grid_auto_flow": null,
       "grid_auto_rows": null,
       "grid_column": null,
       "grid_gap": null,
       "grid_row": null,
       "grid_template_areas": null,
       "grid_template_columns": null,
       "grid_template_rows": null,
       "height": null,
       "justify_content": null,
       "justify_items": null,
       "left": null,
       "margin": null,
       "max_height": null,
       "max_width": null,
       "min_height": null,
       "min_width": null,
       "object_fit": null,
       "object_position": null,
       "order": null,
       "overflow": null,
       "overflow_x": null,
       "overflow_y": null,
       "padding": null,
       "right": null,
       "top": null,
       "visibility": null,
       "width": null
      }
     },
     "ea31300bfe6149a6b669f5acf14ad66a": {
      "model_module": "@jupyter-widgets/controls",
      "model_module_version": "1.5.0",
      "model_name": "FloatProgressModel",
      "state": {
       "_dom_classes": [],
       "_model_module": "@jupyter-widgets/controls",
       "_model_module_version": "1.5.0",
       "_model_name": "FloatProgressModel",
       "_view_count": null,
       "_view_module": "@jupyter-widgets/controls",
       "_view_module_version": "1.5.0",
       "_view_name": "ProgressView",
       "bar_style": "success",
       "description": "",
       "description_tooltip": null,
       "layout": "IPY_MODEL_686ff8dc6fd04a3d8419ce0a86a2933b",
       "max": 30108,
       "min": 0,
       "orientation": "horizontal",
       "style": "IPY_MODEL_f8640f2794bb42a59b1e08cc70ac0ff8",
       "value": 30108
      }
     },
     "f8640f2794bb42a59b1e08cc70ac0ff8": {
      "model_module": "@jupyter-widgets/controls",
      "model_module_version": "1.5.0",
      "model_name": "ProgressStyleModel",
      "state": {
       "_model_module": "@jupyter-widgets/controls",
       "_model_module_version": "1.5.0",
       "_model_name": "ProgressStyleModel",
       "_view_count": null,
       "_view_module": "@jupyter-widgets/base",
       "_view_module_version": "1.2.0",
       "_view_name": "StyleView",
       "bar_color": null,
       "description_width": ""
      }
     }
    },
    "version_major": 2,
    "version_minor": 0
   }
  }
 },
 "nbformat": 4,
 "nbformat_minor": 5
}
