{
 "cells": [
  {
   "cell_type": "markdown",
   "id": "ee6417de",
   "metadata": {
    "papermill": {
     "duration": 0.01622,
     "end_time": "2022-02-10T19:10:47.159543",
     "exception": false,
     "start_time": "2022-02-10T19:10:47.143323",
     "status": "completed"
    },
    "tags": []
   },
   "source": [
    "#  Ubiquant Market Prediction with DNN\n",
    "## Import Packages"
   ]
  },
  {
   "cell_type": "code",
   "execution_count": 1,
   "id": "c7af183f",
   "metadata": {
    "execution": {
     "iopub.execute_input": "2022-02-10T19:10:47.198914Z",
     "iopub.status.busy": "2022-02-10T19:10:47.198260Z",
     "iopub.status.idle": "2022-02-10T19:10:54.161899Z",
     "shell.execute_reply": "2022-02-10T19:10:54.161268Z",
     "shell.execute_reply.started": "2022-02-10T19:05:20.751453Z"
    },
    "papermill": {
     "duration": 6.987603,
     "end_time": "2022-02-10T19:10:54.162064",
     "exception": false,
     "start_time": "2022-02-10T19:10:47.174461",
     "status": "completed"
    },
    "tags": []
   },
   "outputs": [],
   "source": [
    "import os\n",
    "import pandas as pd\n",
    "import numpy as np\n",
    "import gc\n",
    "import matplotlib.pyplot as plt\n",
    "import tensorflow as tf\n",
    "from tensorflow.keras import layers\n",
    "from tensorflow import keras\n",
    "from scipy import stats"
   ]
  },
  {
   "cell_type": "markdown",
   "id": "794bb080",
   "metadata": {
    "papermill": {
     "duration": 0.014138,
     "end_time": "2022-02-10T19:10:54.190666",
     "exception": false,
     "start_time": "2022-02-10T19:10:54.176528",
     "status": "completed"
    },
    "tags": []
   },
   "source": [
    "## Import dataset"
   ]
  },
  {
   "cell_type": "code",
   "execution_count": 2,
   "id": "bdf7065e",
   "metadata": {
    "execution": {
     "iopub.execute_input": "2022-02-10T19:10:54.225845Z",
     "iopub.status.busy": "2022-02-10T19:10:54.225113Z",
     "iopub.status.idle": "2022-02-10T19:11:14.447035Z",
     "shell.execute_reply": "2022-02-10T19:11:14.447550Z",
     "shell.execute_reply.started": "2022-02-10T19:05:28.739644Z"
    },
    "papermill": {
     "duration": 20.242543,
     "end_time": "2022-02-10T19:11:14.447713",
     "exception": false,
     "start_time": "2022-02-10T19:10:54.205170",
     "status": "completed"
    },
    "tags": []
   },
   "outputs": [
    {
     "name": "stdout",
     "output_type": "stream",
     "text": [
      "CPU times: user 607 ms, sys: 2.06 s, total: 2.67 s\n",
      "Wall time: 20.2 s\n"
     ]
    },
    {
     "data": {
      "text/html": [
       "<div>\n",
       "<style scoped>\n",
       "    .dataframe tbody tr th:only-of-type {\n",
       "        vertical-align: middle;\n",
       "    }\n",
       "\n",
       "    .dataframe tbody tr th {\n",
       "        vertical-align: top;\n",
       "    }\n",
       "\n",
       "    .dataframe thead th {\n",
       "        text-align: right;\n",
       "    }\n",
       "</style>\n",
       "<table border=\"1\" class=\"dataframe\">\n",
       "  <thead>\n",
       "    <tr style=\"text-align: right;\">\n",
       "      <th></th>\n",
       "      <th>investment_id</th>\n",
       "      <th>time_id</th>\n",
       "      <th>f_0</th>\n",
       "      <th>f_1</th>\n",
       "      <th>f_2</th>\n",
       "      <th>f_3</th>\n",
       "      <th>f_4</th>\n",
       "      <th>f_5</th>\n",
       "      <th>f_6</th>\n",
       "      <th>f_7</th>\n",
       "      <th>...</th>\n",
       "      <th>f_291</th>\n",
       "      <th>f_292</th>\n",
       "      <th>f_293</th>\n",
       "      <th>f_294</th>\n",
       "      <th>f_295</th>\n",
       "      <th>f_296</th>\n",
       "      <th>f_297</th>\n",
       "      <th>f_298</th>\n",
       "      <th>f_299</th>\n",
       "      <th>target</th>\n",
       "    </tr>\n",
       "  </thead>\n",
       "  <tbody>\n",
       "    <tr>\n",
       "      <th>0</th>\n",
       "      <td>1</td>\n",
       "      <td>0</td>\n",
       "      <td>0.932617</td>\n",
       "      <td>0.113708</td>\n",
       "      <td>-0.402100</td>\n",
       "      <td>0.378418</td>\n",
       "      <td>-0.203979</td>\n",
       "      <td>-0.413574</td>\n",
       "      <td>0.965820</td>\n",
       "      <td>1.230469</td>\n",
       "      <td>...</td>\n",
       "      <td>-1.095703</td>\n",
       "      <td>0.200073</td>\n",
       "      <td>0.819336</td>\n",
       "      <td>0.941406</td>\n",
       "      <td>-0.086792</td>\n",
       "      <td>-1.086914</td>\n",
       "      <td>-1.044922</td>\n",
       "      <td>-0.287598</td>\n",
       "      <td>0.321533</td>\n",
       "      <td>-0.300781</td>\n",
       "    </tr>\n",
       "    <tr>\n",
       "      <th>1</th>\n",
       "      <td>2</td>\n",
       "      <td>0</td>\n",
       "      <td>0.811035</td>\n",
       "      <td>-0.514160</td>\n",
       "      <td>0.742188</td>\n",
       "      <td>-0.616699</td>\n",
       "      <td>-0.194214</td>\n",
       "      <td>1.771484</td>\n",
       "      <td>1.427734</td>\n",
       "      <td>1.133789</td>\n",
       "      <td>...</td>\n",
       "      <td>0.912598</td>\n",
       "      <td>-0.734375</td>\n",
       "      <td>0.819336</td>\n",
       "      <td>0.941406</td>\n",
       "      <td>-0.387695</td>\n",
       "      <td>-1.086914</td>\n",
       "      <td>-0.929688</td>\n",
       "      <td>-0.974121</td>\n",
       "      <td>-0.343506</td>\n",
       "      <td>-0.231079</td>\n",
       "    </tr>\n",
       "    <tr>\n",
       "      <th>2</th>\n",
       "      <td>6</td>\n",
       "      <td>0</td>\n",
       "      <td>0.394043</td>\n",
       "      <td>0.615723</td>\n",
       "      <td>0.567871</td>\n",
       "      <td>-0.607910</td>\n",
       "      <td>0.068909</td>\n",
       "      <td>-1.083008</td>\n",
       "      <td>0.979492</td>\n",
       "      <td>-1.125977</td>\n",
       "      <td>...</td>\n",
       "      <td>0.912598</td>\n",
       "      <td>-0.551758</td>\n",
       "      <td>-1.220703</td>\n",
       "      <td>-1.060547</td>\n",
       "      <td>-0.219116</td>\n",
       "      <td>-1.086914</td>\n",
       "      <td>-0.612305</td>\n",
       "      <td>-0.113953</td>\n",
       "      <td>0.243652</td>\n",
       "      <td>0.568848</td>\n",
       "    </tr>\n",
       "    <tr>\n",
       "      <th>3</th>\n",
       "      <td>7</td>\n",
       "      <td>0</td>\n",
       "      <td>-2.343750</td>\n",
       "      <td>-0.011871</td>\n",
       "      <td>1.875000</td>\n",
       "      <td>-0.606445</td>\n",
       "      <td>-0.586914</td>\n",
       "      <td>-0.815918</td>\n",
       "      <td>0.778320</td>\n",
       "      <td>0.299072</td>\n",
       "      <td>...</td>\n",
       "      <td>0.912598</td>\n",
       "      <td>-0.266357</td>\n",
       "      <td>-1.220703</td>\n",
       "      <td>0.941406</td>\n",
       "      <td>-0.608887</td>\n",
       "      <td>0.104919</td>\n",
       "      <td>-0.783203</td>\n",
       "      <td>1.151367</td>\n",
       "      <td>-0.773438</td>\n",
       "      <td>-1.064453</td>\n",
       "    </tr>\n",
       "    <tr>\n",
       "      <th>4</th>\n",
       "      <td>8</td>\n",
       "      <td>0</td>\n",
       "      <td>0.842285</td>\n",
       "      <td>-0.262939</td>\n",
       "      <td>2.330078</td>\n",
       "      <td>-0.583496</td>\n",
       "      <td>-0.618164</td>\n",
       "      <td>-0.742676</td>\n",
       "      <td>-0.946777</td>\n",
       "      <td>1.230469</td>\n",
       "      <td>...</td>\n",
       "      <td>0.912598</td>\n",
       "      <td>-0.741211</td>\n",
       "      <td>-1.220703</td>\n",
       "      <td>0.941406</td>\n",
       "      <td>-0.588379</td>\n",
       "      <td>0.104919</td>\n",
       "      <td>0.753418</td>\n",
       "      <td>1.345703</td>\n",
       "      <td>-0.737793</td>\n",
       "      <td>-0.531738</td>\n",
       "    </tr>\n",
       "  </tbody>\n",
       "</table>\n",
       "<p>5 rows × 303 columns</p>\n",
       "</div>"
      ],
      "text/plain": [
       "   investment_id  time_id       f_0       f_1       f_2       f_3       f_4  \\\n",
       "0              1        0  0.932617  0.113708 -0.402100  0.378418 -0.203979   \n",
       "1              2        0  0.811035 -0.514160  0.742188 -0.616699 -0.194214   \n",
       "2              6        0  0.394043  0.615723  0.567871 -0.607910  0.068909   \n",
       "3              7        0 -2.343750 -0.011871  1.875000 -0.606445 -0.586914   \n",
       "4              8        0  0.842285 -0.262939  2.330078 -0.583496 -0.618164   \n",
       "\n",
       "        f_5       f_6       f_7  ...     f_291     f_292     f_293     f_294  \\\n",
       "0 -0.413574  0.965820  1.230469  ... -1.095703  0.200073  0.819336  0.941406   \n",
       "1  1.771484  1.427734  1.133789  ...  0.912598 -0.734375  0.819336  0.941406   \n",
       "2 -1.083008  0.979492 -1.125977  ...  0.912598 -0.551758 -1.220703 -1.060547   \n",
       "3 -0.815918  0.778320  0.299072  ...  0.912598 -0.266357 -1.220703  0.941406   \n",
       "4 -0.742676 -0.946777  1.230469  ...  0.912598 -0.741211 -1.220703  0.941406   \n",
       "\n",
       "      f_295     f_296     f_297     f_298     f_299    target  \n",
       "0 -0.086792 -1.086914 -1.044922 -0.287598  0.321533 -0.300781  \n",
       "1 -0.387695 -1.086914 -0.929688 -0.974121 -0.343506 -0.231079  \n",
       "2 -0.219116 -1.086914 -0.612305 -0.113953  0.243652  0.568848  \n",
       "3 -0.608887  0.104919 -0.783203  1.151367 -0.773438 -1.064453  \n",
       "4 -0.588379  0.104919  0.753418  1.345703 -0.737793 -0.531738  \n",
       "\n",
       "[5 rows x 303 columns]"
      ]
     },
     "execution_count": 2,
     "metadata": {},
     "output_type": "execute_result"
    }
   ],
   "source": [
    "%%time\n",
    "n_features = 300\n",
    "features = [f'f_{i}' for i in range(n_features)]\n",
    "train = pd.read_pickle('./train.pkl')\n",
    "train.head()"
   ]
  },
  {
   "cell_type": "code",
   "execution_count": 3,
   "id": "ca1e20ab",
   "metadata": {
    "execution": {
     "iopub.execute_input": "2022-02-10T19:11:14.485593Z",
     "iopub.status.busy": "2022-02-10T19:11:14.484839Z",
     "iopub.status.idle": "2022-02-10T19:11:14.498248Z",
     "shell.execute_reply": "2022-02-10T19:11:14.497673Z",
     "shell.execute_reply.started": "2022-02-10T19:05:48.070548Z"
    },
    "papermill": {
     "duration": 0.035177,
     "end_time": "2022-02-10T19:11:14.498402",
     "exception": false,
     "start_time": "2022-02-10T19:11:14.463225",
     "status": "completed"
    },
    "tags": []
   },
   "outputs": [
    {
     "data": {
      "text/plain": [
       "0    1\n",
       "1    2\n",
       "2    6\n",
       "3    7\n",
       "4    8\n",
       "Name: investment_id, dtype: uint16"
      ]
     },
     "execution_count": 3,
     "metadata": {},
     "output_type": "execute_result"
    }
   ],
   "source": [
    "investment_id = train.pop(\"investment_id\")\n",
    "investment_id.head()"
   ]
  },
  {
   "cell_type": "code",
   "execution_count": 4,
   "id": "dd7c7fcf",
   "metadata": {
    "execution": {
     "iopub.execute_input": "2022-02-10T19:11:14.536163Z",
     "iopub.status.busy": "2022-02-10T19:11:14.535366Z",
     "iopub.status.idle": "2022-02-10T19:11:14.545477Z",
     "shell.execute_reply": "2022-02-10T19:11:14.544880Z",
     "shell.execute_reply.started": "2022-02-10T19:05:48.100948Z"
    },
    "papermill": {
     "duration": 0.030697,
     "end_time": "2022-02-10T19:11:14.545614",
     "exception": false,
     "start_time": "2022-02-10T19:11:14.514917",
     "status": "completed"
    },
    "tags": []
   },
   "outputs": [],
   "source": [
    "_ = train.pop(\"time_id\")"
   ]
  },
  {
   "cell_type": "code",
   "execution_count": 5,
   "id": "02c6a5d1",
   "metadata": {
    "execution": {
     "iopub.execute_input": "2022-02-10T19:11:14.582847Z",
     "iopub.status.busy": "2022-02-10T19:11:14.582195Z",
     "iopub.status.idle": "2022-02-10T19:11:14.595533Z",
     "shell.execute_reply": "2022-02-10T19:11:14.594944Z",
     "shell.execute_reply.started": "2022-02-10T19:05:48.124552Z"
    },
    "papermill": {
     "duration": 0.034473,
     "end_time": "2022-02-10T19:11:14.595674",
     "exception": false,
     "start_time": "2022-02-10T19:11:14.561201",
     "status": "completed"
    },
    "tags": []
   },
   "outputs": [
    {
     "data": {
      "text/plain": [
       "0   -0.300781\n",
       "1   -0.231079\n",
       "2    0.568848\n",
       "3   -1.064453\n",
       "4   -0.531738\n",
       "Name: target, dtype: float16"
      ]
     },
     "execution_count": 5,
     "metadata": {},
     "output_type": "execute_result"
    }
   ],
   "source": [
    "y = train.pop(\"target\")\n",
    "y.head()"
   ]
  },
  {
   "cell_type": "markdown",
   "id": "d623b4d0",
   "metadata": {
    "papermill": {
     "duration": 0.015529,
     "end_time": "2022-02-10T19:11:14.627793",
     "exception": false,
     "start_time": "2022-02-10T19:11:14.612264",
     "status": "completed"
    },
    "tags": []
   },
   "source": [
    "## Create a IntegerLookup layer for investment_id input"
   ]
  },
  {
   "cell_type": "code",
   "execution_count": 6,
   "id": "0f5569e5",
   "metadata": {
    "execution": {
     "iopub.execute_input": "2022-02-10T19:11:14.663493Z",
     "iopub.status.busy": "2022-02-10T19:11:14.662787Z",
     "iopub.status.idle": "2022-02-10T19:11:15.058288Z",
     "shell.execute_reply": "2022-02-10T19:11:15.057579Z",
     "shell.execute_reply.started": "2022-02-10T19:05:48.149976Z"
    },
    "papermill": {
     "duration": 0.414279,
     "end_time": "2022-02-10T19:11:15.058433",
     "exception": false,
     "start_time": "2022-02-10T19:11:14.644154",
     "status": "completed"
    },
    "tags": []
   },
   "outputs": [
    {
     "name": "stderr",
     "output_type": "stream",
     "text": [
      "\n",
      "User settings:\n",
      "\n",
      "   KMP_AFFINITY=granularity=fine,verbose,compact,1,0\n",
      "   KMP_BLOCKTIME=0\n",
      "   KMP_SETTINGS=1\n",
      "   KMP_WARNINGS=0\n",
      "\n",
      "Effective settings:\n",
      "\n",
      "   KMP_ABORT_DELAY=0\n",
      "   KMP_ADAPTIVE_LOCK_PROPS='1,1024'\n",
      "   KMP_ALIGN_ALLOC=64\n",
      "   KMP_ALL_THREADPRIVATE=128\n",
      "   KMP_ATOMIC_MODE=2\n",
      "   KMP_BLOCKTIME=0\n",
      "   KMP_CPUINFO_FILE: value is not defined\n",
      "   KMP_DETERMINISTIC_REDUCTION=false\n",
      "   KMP_DEVICE_THREAD_LIMIT=2147483647\n",
      "   KMP_DISP_NUM_BUFFERS=7\n",
      "   KMP_DUPLICATE_LIB_OK=false\n",
      "   KMP_ENABLE_TASK_THROTTLING=true\n",
      "   KMP_FORCE_REDUCTION: value is not defined\n",
      "   KMP_FOREIGN_THREADS_THREADPRIVATE=true\n",
      "   KMP_FORKJOIN_BARRIER='2,2'\n",
      "   KMP_FORKJOIN_BARRIER_PATTERN='hyper,hyper'\n",
      "   KMP_GTID_MODE=3\n",
      "   KMP_HANDLE_SIGNALS=false\n",
      "   KMP_HOT_TEAMS_MAX_LEVEL=1\n",
      "   KMP_HOT_TEAMS_MODE=0\n",
      "   KMP_INIT_AT_FORK=true\n",
      "   KMP_LIBRARY=throughput\n",
      "   KMP_LOCK_KIND=queuing\n",
      "   KMP_MALLOC_POOL_INCR=1M\n",
      "   KMP_NUM_LOCKS_IN_BLOCK=1\n",
      "   KMP_PLAIN_BARRIER='2,2'\n",
      "   KMP_PLAIN_BARRIER_PATTERN='hyper,hyper'\n",
      "   KMP_REDUCTION_BARRIER='1,1'\n",
      "   KMP_REDUCTION_BARRIER_PATTERN='hyper,hyper'\n",
      "   KMP_SCHEDULE='static,balanced;guided,iterative'\n",
      "   KMP_SETTINGS=true\n",
      "   KMP_SPIN_BACKOFF_PARAMS='4096,100'\n",
      "   KMP_STACKOFFSET=64\n",
      "   KMP_STACKPAD=0\n",
      "   KMP_STACKSIZE=8M\n",
      "   KMP_STORAGE_MAP=false\n",
      "   KMP_TASKING=2\n",
      "   KMP_TASKLOOP_MIN_TASKS=0\n",
      "   KMP_TASK_STEALING_CONSTRAINT=1\n",
      "   KMP_TEAMS_THREAD_LIMIT=4\n",
      "   KMP_TOPOLOGY_METHOD=all\n",
      "   KMP_USE_YIELD=1\n",
      "   KMP_VERSION=false\n",
      "   KMP_WARNINGS=false\n",
      "   OMP_AFFINITY_FORMAT='OMP: pid %P tid %i thread %n bound to OS proc set {%A}'\n",
      "   OMP_ALLOCATOR=omp_default_mem_alloc\n",
      "   OMP_CANCELLATION=false\n",
      "   OMP_DEFAULT_DEVICE=0\n",
      "   OMP_DISPLAY_AFFINITY=false\n",
      "   OMP_DISPLAY_ENV=false\n",
      "   OMP_DYNAMIC=false\n",
      "   OMP_MAX_ACTIVE_LEVELS=1\n",
      "   OMP_MAX_TASK_PRIORITY=0\n",
      "   OMP_NESTED: deprecated; max-active-levels-var=1\n",
      "   OMP_NUM_THREADS: value is not defined\n",
      "   OMP_PLACES: value is not defined\n",
      "   OMP_PROC_BIND='intel'\n",
      "   OMP_SCHEDULE='static'\n",
      "   OMP_STACKSIZE=8M\n",
      "   OMP_TARGET_OFFLOAD=DEFAULT\n",
      "   OMP_THREAD_LIMIT=2147483647\n",
      "   OMP_WAIT_POLICY=PASSIVE\n",
      "   KMP_AFFINITY='verbose,warnings,respect,granularity=fine,compact,1,0'\n",
      "\n",
      "2022-02-10 19:11:14.721717: I tensorflow/core/common_runtime/process_util.cc:146] Creating new thread pool with default inter op setting: 2. Tune using inter_op_parallelism_threads for best performance.\n",
      "2022-02-10 19:11:14.827687: I tensorflow/compiler/mlir/mlir_graph_optimization_pass.cc:185] None of the MLIR Optimization Passes are enabled (registered 2)\n"
     ]
    },
    {
     "name": "stdout",
     "output_type": "stream",
     "text": [
      "CPU times: user 253 ms, sys: 31.7 ms, total: 285 ms\n",
      "Wall time: 389 ms\n"
     ]
    }
   ],
   "source": [
    "%%time\n",
    "investment_ids = list(investment_id.unique())\n",
    "investment_id_size = len(investment_ids) + 1\n",
    "investment_id_lookup_layer = layers.IntegerLookup(max_tokens=investment_id_size)\n",
    "investment_id_lookup_layer.adapt(pd.DataFrame({\"investment_ids\":investment_ids}))"
   ]
  },
  {
   "cell_type": "markdown",
   "id": "0c1805ee",
   "metadata": {
    "papermill": {
     "duration": 0.016693,
     "end_time": "2022-02-10T19:11:15.091807",
     "exception": false,
     "start_time": "2022-02-10T19:11:15.075114",
     "status": "completed"
    },
    "tags": []
   },
   "source": [
    "## Make Tensorflow dataset"
   ]
  },
  {
   "cell_type": "code",
   "execution_count": 7,
   "id": "460bade9",
   "metadata": {
    "execution": {
     "iopub.execute_input": "2022-02-10T19:11:15.133779Z",
     "iopub.status.busy": "2022-02-10T19:11:15.132711Z",
     "iopub.status.idle": "2022-02-10T19:11:15.135000Z",
     "shell.execute_reply": "2022-02-10T19:11:15.135504Z",
     "shell.execute_reply.started": "2022-02-10T19:05:48.656184Z"
    },
    "papermill": {
     "duration": 0.027404,
     "end_time": "2022-02-10T19:11:15.135698",
     "exception": false,
     "start_time": "2022-02-10T19:11:15.108294",
     "status": "completed"
    },
    "tags": []
   },
   "outputs": [],
   "source": [
    "import tensorflow as tf\n",
    "def preprocess(X, y):\n",
    "    return X, y\n",
    "def make_dataset(feature, investment_id, y, batch_size=1024, mode=\"train\"):\n",
    "    ds = tf.data.Dataset.from_tensor_slices(((investment_id, feature), y))\n",
    "    ds = ds.map(preprocess)\n",
    "    if mode == \"train\":\n",
    "        ds = ds.shuffle(4096)\n",
    "    ds = ds.batch(batch_size).cache().prefetch(tf.data.experimental.AUTOTUNE)\n",
    "    return ds"
   ]
  },
  {
   "cell_type": "markdown",
   "id": "1fa09803",
   "metadata": {
    "papermill": {
     "duration": 0.017182,
     "end_time": "2022-02-10T19:11:15.169667",
     "exception": false,
     "start_time": "2022-02-10T19:11:15.152485",
     "status": "completed"
    },
    "tags": []
   },
   "source": [
    "## Modeling"
   ]
  },
  {
   "cell_type": "code",
   "execution_count": 8,
   "id": "668fd348",
   "metadata": {
    "execution": {
     "iopub.execute_input": "2022-02-10T19:11:15.216340Z",
     "iopub.status.busy": "2022-02-10T19:11:15.215299Z",
     "iopub.status.idle": "2022-02-10T19:11:15.218365Z",
     "shell.execute_reply": "2022-02-10T19:11:15.217654Z",
     "shell.execute_reply.started": "2022-02-10T19:05:48.667709Z"
    },
    "papermill": {
     "duration": 0.032315,
     "end_time": "2022-02-10T19:11:15.218548",
     "exception": false,
     "start_time": "2022-02-10T19:11:15.186233",
     "status": "completed"
    },
    "tags": []
   },
   "outputs": [],
   "source": [
    "def get_model():\n",
    "    investment_id_inputs = tf.keras.Input((1, ), dtype=tf.uint16)\n",
    "    features_inputs = tf.keras.Input((300, ), dtype=tf.float16)\n",
    "    \n",
    "    investment_id_x = investment_id_lookup_layer(investment_id_inputs)\n",
    "    investment_id_x = layers.Embedding(investment_id_size, 32, input_length=1)(investment_id_x)\n",
    "    investment_id_x = layers.Reshape((-1, ))(investment_id_x)\n",
    "    investment_id_x = layers.Dense(64, activation='swish')(investment_id_x)\n",
    "    investment_id_x = layers.Dense(64, activation='swish')(investment_id_x)\n",
    "    investment_id_x = layers.Dense(64, activation='swish')(investment_id_x)\n",
    "    \n",
    "    feature_x = layers.Dense(256, activation='swish')(features_inputs)\n",
    "    feature_x = layers.Dense(256, activation='swish')(feature_x)\n",
    "    feature_x = layers.Dense(256, activation='swish')(feature_x)\n",
    "    \n",
    "    x = layers.Concatenate(axis=1)([investment_id_x, feature_x])\n",
    "    x = layers.Dense(512, activation='swish', kernel_regularizer=\"l2\")(x)\n",
    "    x = layers.Dense(128, activation='swish', kernel_regularizer=\"l2\")(x)\n",
    "    x = layers.Dense(32, activation='swish', kernel_regularizer=\"l2\")(x)\n",
    "    output = layers.Dense(1)(x)\n",
    "    rmse = keras.metrics.RootMeanSquaredError(name=\"rmse\")\n",
    "    model = tf.keras.Model(inputs=[investment_id_inputs, features_inputs], outputs=[output])\n",
    "    model.compile(optimizer=tf.optimizers.Adam(0.001), loss='mse', metrics=['mse', \"mae\", \"mape\", rmse])\n",
    "    return model"
   ]
  },
  {
   "cell_type": "code",
   "execution_count": 9,
   "id": "856f9a67",
   "metadata": {
    "execution": {
     "iopub.execute_input": "2022-02-10T19:11:15.261665Z",
     "iopub.status.busy": "2022-02-10T19:11:15.260914Z",
     "iopub.status.idle": "2022-02-10T19:11:15.416402Z",
     "shell.execute_reply": "2022-02-10T19:11:15.415818Z",
     "shell.execute_reply.started": "2022-02-10T19:05:48.690641Z"
    },
    "papermill": {
     "duration": 0.18036,
     "end_time": "2022-02-10T19:11:15.416544",
     "exception": false,
     "start_time": "2022-02-10T19:11:15.236184",
     "status": "completed"
    },
    "tags": []
   },
   "outputs": [
    {
     "name": "stdout",
     "output_type": "stream",
     "text": [
      "Model: \"model\"\n",
      "__________________________________________________________________________________________________\n",
      "Layer (type)                    Output Shape         Param #     Connected to                     \n",
      "==================================================================================================\n",
      "input_1 (InputLayer)            [(None, 1)]          0                                            \n",
      "__________________________________________________________________________________________________\n",
      "integer_lookup (IntegerLookup)  (None, 1)            0           input_1[0][0]                    \n",
      "__________________________________________________________________________________________________\n",
      "embedding (Embedding)           (None, 1, 32)        114560      integer_lookup[0][0]             \n",
      "__________________________________________________________________________________________________\n",
      "reshape (Reshape)               (None, 32)           0           embedding[0][0]                  \n",
      "__________________________________________________________________________________________________\n",
      "input_2 (InputLayer)            [(None, 300)]        0                                            \n",
      "__________________________________________________________________________________________________\n",
      "dense (Dense)                   (None, 64)           2112        reshape[0][0]                    \n",
      "__________________________________________________________________________________________________\n",
      "dense_3 (Dense)                 (None, 256)          77056       input_2[0][0]                    \n",
      "__________________________________________________________________________________________________\n",
      "dense_1 (Dense)                 (None, 64)           4160        dense[0][0]                      \n",
      "__________________________________________________________________________________________________\n",
      "dense_4 (Dense)                 (None, 256)          65792       dense_3[0][0]                    \n",
      "__________________________________________________________________________________________________\n",
      "dense_2 (Dense)                 (None, 64)           4160        dense_1[0][0]                    \n",
      "__________________________________________________________________________________________________\n",
      "dense_5 (Dense)                 (None, 256)          65792       dense_4[0][0]                    \n",
      "__________________________________________________________________________________________________\n",
      "concatenate (Concatenate)       (None, 320)          0           dense_2[0][0]                    \n",
      "                                                                 dense_5[0][0]                    \n",
      "__________________________________________________________________________________________________\n",
      "dense_6 (Dense)                 (None, 512)          164352      concatenate[0][0]                \n",
      "__________________________________________________________________________________________________\n",
      "dense_7 (Dense)                 (None, 128)          65664       dense_6[0][0]                    \n",
      "__________________________________________________________________________________________________\n",
      "dense_8 (Dense)                 (None, 32)           4128        dense_7[0][0]                    \n",
      "__________________________________________________________________________________________________\n",
      "dense_9 (Dense)                 (None, 1)            33          dense_8[0][0]                    \n",
      "==================================================================================================\n",
      "Total params: 567,809\n",
      "Trainable params: 567,809\n",
      "Non-trainable params: 0\n",
      "__________________________________________________________________________________________________\n"
     ]
    }
   ],
   "source": [
    "model = get_model()\n",
    "model.summary()\n"
   ]
  },
  {
   "cell_type": "code",
   "execution_count": 10,
   "id": "980a821d",
   "metadata": {
    "execution": {
     "iopub.execute_input": "2022-02-10T19:11:15.454425Z",
     "iopub.status.busy": "2022-02-10T19:11:15.453772Z",
     "iopub.status.idle": "2022-02-10T19:12:24.044728Z",
     "shell.execute_reply": "2022-02-10T19:12:24.045254Z",
     "shell.execute_reply.started": "2022-02-10T19:05:48.889694Z"
    },
    "papermill": {
     "duration": 68.611809,
     "end_time": "2022-02-10T19:12:24.045438",
     "exception": false,
     "start_time": "2022-02-10T19:11:15.433629",
     "status": "completed"
    },
    "tags": []
   },
   "outputs": [
    {
     "name": "stdout",
     "output_type": "stream",
     "text": [
      "CPU times: user 45.2 s, sys: 4.04 s, total: 49.3 s\n",
      "Wall time: 1min 8s\n"
     ]
    }
   ],
   "source": [
    "%%time\n",
    "from sklearn.model_selection import StratifiedKFold\n",
    "kfold = StratifiedKFold(5, shuffle=True, random_state=42)\n",
    "models = []\n",
    "\n",
    "import glob\n",
    "\n",
    "paths = glob.glob(f'../input/ubimodel{33}/*')+glob.glob(f'../input/ubimodel{34}/*')+glob.glob(f'../input/ubimodel{35}/*')\n",
    "# paths = paths + glob.glob(f'../input/ubimodel{37}/*')\n",
    "# paths = paths + glob.glob(f'../input/ubimodel{38}/*')\n",
    "# paths =  glob.glob(f'../input/ubimodel{42}/*')\n",
    "for path in paths:\n",
    "    models.append(tf.keras.models.load_model(path, compile=False))\n"
   ]
  },
  {
   "cell_type": "markdown",
   "id": "321b86db",
   "metadata": {
    "papermill": {
     "duration": 0.017283,
     "end_time": "2022-02-10T19:12:24.081024",
     "exception": false,
     "start_time": "2022-02-10T19:12:24.063741",
     "status": "completed"
    },
    "tags": []
   },
   "source": [
    "## Submission"
   ]
  },
  {
   "cell_type": "code",
   "execution_count": 11,
   "id": "9ccf74fb",
   "metadata": {
    "execution": {
     "iopub.execute_input": "2022-02-10T19:12:24.126140Z",
     "iopub.status.busy": "2022-02-10T19:12:24.119135Z",
     "iopub.status.idle": "2022-02-10T19:12:24.234635Z",
     "shell.execute_reply": "2022-02-10T19:12:24.235146Z",
     "shell.execute_reply.started": "2022-02-10T19:07:06.296706Z"
    },
    "papermill": {
     "duration": 0.136565,
     "end_time": "2022-02-10T19:12:24.235333",
     "exception": false,
     "start_time": "2022-02-10T19:12:24.098768",
     "status": "completed"
    },
    "tags": []
   },
   "outputs": [],
   "source": [
    "from sklearn.decomposition import PCA\n",
    "pca = PCA(n_components=1)\n",
    "\n",
    "\n",
    "def preprocess_test(investment_id, feature):\n",
    "    return (investment_id, feature), 0\n",
    "def make_test_dataset(feature, investment_id, batch_size=1024):\n",
    "    ds = tf.data.Dataset.from_tensor_slices(((investment_id, feature)))\n",
    "    ds = ds.map(preprocess_test)\n",
    "    ds = ds.batch(batch_size).cache().prefetch(tf.data.experimental.AUTOTUNE)\n",
    "    return ds\n",
    "def inference(models, ds):\n",
    "    y_preds = []\n",
    "    for model in models:\n",
    "        y_pred = model.predict(ds)\n",
    "        y_preds.append(y_pred)\n",
    "#     res = np.mean(y_preds, axis=0)\n",
    "    res = np.hstack(y_preds)\n",
    "    if len(res)>1:\n",
    "        res = pca.fit_transform(res)\n",
    "    else:\n",
    "        res = np.mean(res, axis=1)\n",
    "    return res"
   ]
  },
  {
   "cell_type": "code",
   "execution_count": 12,
   "id": "822723b1",
   "metadata": {
    "execution": {
     "iopub.execute_input": "2022-02-10T19:12:24.273810Z",
     "iopub.status.busy": "2022-02-10T19:12:24.273196Z",
     "iopub.status.idle": "2022-02-10T19:12:37.751970Z",
     "shell.execute_reply": "2022-02-10T19:12:37.752498Z",
     "shell.execute_reply.started": "2022-02-10T19:07:06.422628Z"
    },
    "papermill": {
     "duration": 13.499862,
     "end_time": "2022-02-10T19:12:37.752687",
     "exception": false,
     "start_time": "2022-02-10T19:12:24.252825",
     "status": "completed"
    },
    "tags": []
   },
   "outputs": [
    {
     "name": "stdout",
     "output_type": "stream",
     "text": [
      "This version of the API is not optimized and should not be used to estimate the runtime of your code on the hidden test set.\n"
     ]
    }
   ],
   "source": [
    "import ubiquant\n",
    "env = ubiquant.make_env()\n",
    "iter_test = env.iter_test() \n",
    "for (test_df, sample_prediction_df) in iter_test:\n",
    "    ds = make_test_dataset(test_df[features], test_df[\"investment_id\"])\n",
    "    sample_prediction_df['target'] = inference(models, ds)\n",
    "    env.predict(sample_prediction_df) "
   ]
  },
  {
   "cell_type": "code",
   "execution_count": null,
   "id": "1c26b953",
   "metadata": {
    "papermill": {
     "duration": 0.017303,
     "end_time": "2022-02-10T19:12:37.787899",
     "exception": false,
     "start_time": "2022-02-10T19:12:37.770596",
     "status": "completed"
    },
    "tags": []
   },
   "outputs": [],
   "source": []
  }
 ],
 "metadata": {
  "kernelspec": {
   "display_name": "Python 3 (ipykernel)",
   "language": "python",
   "name": "python3"
  },
  "language_info": {
   "codemirror_mode": {
    "name": "ipython",
    "version": 3
   },
   "file_extension": ".py",
   "mimetype": "text/x-python",
   "name": "python",
   "nbconvert_exporter": "python",
   "pygments_lexer": "ipython3",
   "version": "3.9.7"
  },
  "papermill": {
   "default_parameters": {},
   "duration": 123.710499,
   "end_time": "2022-02-10T19:12:40.808755",
   "environment_variables": {},
   "exception": null,
   "input_path": "__notebook__.ipynb",
   "output_path": "__notebook__.ipynb",
   "parameters": {},
   "start_time": "2022-02-10T19:10:37.098256",
   "version": "2.3.3"
  }
 },
 "nbformat": 4,
 "nbformat_minor": 5
}
