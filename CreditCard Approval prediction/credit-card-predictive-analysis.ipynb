{
 "cells": [
  {
   "cell_type": "markdown",
   "metadata": {
    "papermill": {
     "duration": 0.032972,
     "end_time": "2021-01-19T16:42:52.835071",
     "exception": false,
     "start_time": "2021-01-19T16:42:52.802099",
     "status": "completed"
    },
    "tags": []
   },
   "source": [
    "# Credit Card Prediction Analysis!"
   ]
  },
  {
   "cell_type": "markdown",
   "metadata": {
    "papermill": {
     "duration": 0.030042,
     "end_time": "2021-01-19T16:42:52.896763",
     "exception": false,
     "start_time": "2021-01-19T16:42:52.866721",
     "status": "completed"
    },
    "tags": []
   },
   "source": [
    "<img src=\"data:image/jpeg;base64,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\">\n",
    "\n",
    "# Context\n",
    "\n",
    "Credit score cards are a common risk control method in the financial industry. It uses personal information and data submitted by credit card applicants to predict the probability of future defaults and credit card borrowings. The bank is able to decide whether to issue a credit card to the applicant. Credit scores can objectively quantify the magnitude of risk.\n",
    "\n",
    "Generally speaking, credit score cards are based on historical data. Once encountering large economic fluctuations. Past models may lose their original predictive power. Logistic model is a common method for credit scoring. Because Logistic is suitable for binary classification tasks and can calculate the coefficients of each feature. In order to facilitate understanding and operation, the score card will multiply the logistic regression coefficient by a certain value (such as 100) and round it.\n",
    " \n",
    "At present, with the development of machine learning algorithms. More predictive methods such as Boosting, Random Forest, and Support Vector Machines have been introduced into credit card scoring. However, these methods often do not have good transparency. It may be difficult to provide customers and regulators with a reason for rejection or acceptance.\n",
    " \n",
    "\n",
    "\n",
    "# Task\n",
    "Build a machine learning model to predict if an applicant is 'good' or 'bad' client, different from other tasks, the definition of 'good' or 'bad' is not given. You should use some techique, such as vintage analysis to construct you label. Also, unbalance data problem is a big problem in this task."
   ]
  },
  {
   "cell_type": "markdown",
   "metadata": {
    "papermill": {
     "duration": 0.029856,
     "end_time": "2021-01-19T16:42:52.957431",
     "exception": false,
     "start_time": "2021-01-19T16:42:52.927575",
     "status": "completed"
    },
    "tags": []
   },
   "source": [
    "# Importing Libraries"
   ]
  },
  {
   "cell_type": "code",
   "execution_count": 1,
   "metadata": {
    "_cell_guid": "79c7e3d0-c299-4dcb-8224-4455121ee9b0",
    "_uuid": "d629ff2d2480ee46fbb7e2d37f6b5fab8052498a",
    "execution": {
     "iopub.execute_input": "2021-01-19T16:42:53.024108Z",
     "iopub.status.busy": "2021-01-19T16:42:53.023493Z",
     "iopub.status.idle": "2021-01-19T16:42:54.114528Z",
     "shell.execute_reply": "2021-01-19T16:42:54.113303Z"
    },
    "papermill": {
     "duration": 1.126476,
     "end_time": "2021-01-19T16:42:54.114725",
     "exception": false,
     "start_time": "2021-01-19T16:42:52.988249",
     "status": "completed"
    },
    "tags": []
   },
   "outputs": [],
   "source": [
    "import numpy as np\n",
    "import pandas as pd\n",
    "import matplotlib.pyplot as plt\n",
    "import seaborn as sns"
   ]
  },
  {
   "cell_type": "markdown",
   "metadata": {
    "papermill": {
     "duration": 0.030862,
     "end_time": "2021-01-19T16:42:54.182300",
     "exception": false,
     "start_time": "2021-01-19T16:42:54.151438",
     "status": "completed"
    },
    "tags": []
   },
   "source": [
    "# Extracting data using two data sources"
   ]
  },
  {
   "cell_type": "code",
   "execution_count": 2,
   "metadata": {
    "execution": {
     "iopub.execute_input": "2021-01-19T16:42:54.259966Z",
     "iopub.status.busy": "2021-01-19T16:42:54.257810Z",
     "iopub.status.idle": "2021-01-19T16:42:56.725713Z",
     "shell.execute_reply": "2021-01-19T16:42:56.724628Z"
    },
    "papermill": {
     "duration": 2.512214,
     "end_time": "2021-01-19T16:42:56.725896",
     "exception": false,
     "start_time": "2021-01-19T16:42:54.213682",
     "status": "completed"
    },
    "tags": []
   },
   "outputs": [],
   "source": [
    "app = pd.read_csv(\"../input/credit-card-approval-prediction/application_record.csv\")\n",
    "crecord = pd.read_csv(\"../input/credit-card-approval-prediction/credit_record.csv\")"
   ]
  },
  {
   "cell_type": "markdown",
   "metadata": {
    "papermill": {
     "duration": 0.03108,
     "end_time": "2021-01-19T16:42:56.805012",
     "exception": false,
     "start_time": "2021-01-19T16:42:56.773932",
     "status": "completed"
    },
    "tags": []
   },
   "source": [
    "* Using different methods to understand data\n",
    "* data is complex and both dataset need some kind of transformation before analysis\n",
    "* datasets are indivudally dealt with and then eventually compiled using joins"
   ]
  },
  {
   "cell_type": "code",
   "execution_count": 3,
   "metadata": {
    "execution": {
     "iopub.execute_input": "2021-01-19T16:42:56.878096Z",
     "iopub.status.busy": "2021-01-19T16:42:56.877368Z",
     "iopub.status.idle": "2021-01-19T16:42:57.289764Z",
     "shell.execute_reply": "2021-01-19T16:42:57.288699Z"
    },
    "papermill": {
     "duration": 0.453214,
     "end_time": "2021-01-19T16:42:57.289973",
     "exception": false,
     "start_time": "2021-01-19T16:42:56.836759",
     "status": "completed"
    },
    "tags": []
   },
   "outputs": [
    {
     "name": "stdout",
     "output_type": "stream",
     "text": [
      "<class 'pandas.core.frame.DataFrame'>\n",
      "RangeIndex: 438557 entries, 0 to 438556\n",
      "Data columns (total 18 columns):\n",
      " #   Column               Non-Null Count   Dtype  \n",
      "---  ------               --------------   -----  \n",
      " 0   ID                   438557 non-null  int64  \n",
      " 1   CODE_GENDER          438557 non-null  object \n",
      " 2   FLAG_OWN_CAR         438557 non-null  object \n",
      " 3   FLAG_OWN_REALTY      438557 non-null  object \n",
      " 4   CNT_CHILDREN         438557 non-null  int64  \n",
      " 5   AMT_INCOME_TOTAL     438557 non-null  float64\n",
      " 6   NAME_INCOME_TYPE     438557 non-null  object \n",
      " 7   NAME_EDUCATION_TYPE  438557 non-null  object \n",
      " 8   NAME_FAMILY_STATUS   438557 non-null  object \n",
      " 9   NAME_HOUSING_TYPE    438557 non-null  object \n",
      " 10  DAYS_BIRTH           438557 non-null  int64  \n",
      " 11  DAYS_EMPLOYED        438557 non-null  int64  \n",
      " 12  FLAG_MOBIL           438557 non-null  int64  \n",
      " 13  FLAG_WORK_PHONE      438557 non-null  int64  \n",
      " 14  FLAG_PHONE           438557 non-null  int64  \n",
      " 15  FLAG_EMAIL           438557 non-null  int64  \n",
      " 16  OCCUPATION_TYPE      304354 non-null  object \n",
      " 17  CNT_FAM_MEMBERS      438557 non-null  float64\n",
      "dtypes: float64(2), int64(8), object(8)\n",
      "memory usage: 60.2+ MB\n"
     ]
    }
   ],
   "source": [
    "app.info()"
   ]
  },
  {
   "cell_type": "code",
   "execution_count": 4,
   "metadata": {
    "execution": {
     "iopub.execute_input": "2021-01-19T16:42:57.472933Z",
     "iopub.status.busy": "2021-01-19T16:42:57.361651Z",
     "iopub.status.idle": "2021-01-19T16:42:57.493787Z",
     "shell.execute_reply": "2021-01-19T16:42:57.493122Z"
    },
    "papermill": {
     "duration": 0.170104,
     "end_time": "2021-01-19T16:42:57.493970",
     "exception": false,
     "start_time": "2021-01-19T16:42:57.323866",
     "status": "completed"
    },
    "tags": []
   },
   "outputs": [
    {
     "name": "stdout",
     "output_type": "stream",
     "text": [
      "<class 'pandas.core.frame.DataFrame'>\n",
      "RangeIndex: 1048575 entries, 0 to 1048574\n",
      "Data columns (total 3 columns):\n",
      " #   Column          Non-Null Count    Dtype \n",
      "---  ------          --------------    ----- \n",
      " 0   ID              1048575 non-null  int64 \n",
      " 1   MONTHS_BALANCE  1048575 non-null  int64 \n",
      " 2   STATUS          1048575 non-null  object\n",
      "dtypes: int64(2), object(1)\n",
      "memory usage: 24.0+ MB\n"
     ]
    }
   ],
   "source": [
    "crecord.info()"
   ]
  },
  {
   "cell_type": "code",
   "execution_count": 5,
   "metadata": {
    "execution": {
     "iopub.execute_input": "2021-01-19T16:42:57.563185Z",
     "iopub.status.busy": "2021-01-19T16:42:57.562497Z",
     "iopub.status.idle": "2021-01-19T16:42:57.611158Z",
     "shell.execute_reply": "2021-01-19T16:42:57.610571Z"
    },
    "papermill": {
     "duration": 0.085505,
     "end_time": "2021-01-19T16:42:57.611277",
     "exception": false,
     "start_time": "2021-01-19T16:42:57.525772",
     "status": "completed"
    },
    "tags": []
   },
   "outputs": [
    {
     "data": {
      "text/plain": [
       "438510"
      ]
     },
     "execution_count": 5,
     "metadata": {},
     "output_type": "execute_result"
    }
   ],
   "source": [
    "app['ID'].nunique() # the total rows are 438,557. This means it has duplicates"
   ]
  },
  {
   "cell_type": "code",
   "execution_count": 6,
   "metadata": {
    "execution": {
     "iopub.execute_input": "2021-01-19T16:42:57.683404Z",
     "iopub.status.busy": "2021-01-19T16:42:57.682433Z",
     "iopub.status.idle": "2021-01-19T16:42:57.697180Z",
     "shell.execute_reply": "2021-01-19T16:42:57.696524Z"
    },
    "papermill": {
     "duration": 0.052941,
     "end_time": "2021-01-19T16:42:57.697294",
     "exception": false,
     "start_time": "2021-01-19T16:42:57.644353",
     "status": "completed"
    },
    "tags": []
   },
   "outputs": [
    {
     "data": {
      "text/plain": [
       "45985"
      ]
     },
     "execution_count": 6,
     "metadata": {},
     "output_type": "execute_result"
    }
   ],
   "source": [
    "crecord['ID'].nunique() \n",
    "# this has around 43,000 unique rows as there are repeating entries for different monthly values and status."
   ]
  },
  {
   "cell_type": "code",
   "execution_count": 7,
   "metadata": {
    "execution": {
     "iopub.execute_input": "2021-01-19T16:42:58.084484Z",
     "iopub.status.busy": "2021-01-19T16:42:58.082797Z",
     "iopub.status.idle": "2021-01-19T16:42:58.089315Z",
     "shell.execute_reply": "2021-01-19T16:42:58.088790Z"
    },
    "papermill": {
     "duration": 0.357741,
     "end_time": "2021-01-19T16:42:58.089427",
     "exception": false,
     "start_time": "2021-01-19T16:42:57.731686",
     "status": "completed"
    },
    "tags": []
   },
   "outputs": [
    {
     "data": {
      "text/plain": [
       "36457"
      ]
     },
     "execution_count": 7,
     "metadata": {},
     "output_type": "execute_result"
    }
   ],
   "source": [
    "len(set(crecord['ID']).intersection(set(app['ID']))) # checking to see how many records match in two datasets"
   ]
  },
  {
   "cell_type": "code",
   "execution_count": 8,
   "metadata": {
    "execution": {
     "iopub.execute_input": "2021-01-19T16:42:58.165103Z",
     "iopub.status.busy": "2021-01-19T16:42:58.164419Z",
     "iopub.status.idle": "2021-01-19T16:43:04.939157Z",
     "shell.execute_reply": "2021-01-19T16:43:04.939672Z"
    },
    "papermill": {
     "duration": 6.815449,
     "end_time": "2021-01-19T16:43:04.939809",
     "exception": false,
     "start_time": "2021-01-19T16:42:58.124360",
     "status": "completed"
    },
    "tags": []
   },
   "outputs": [
    {
     "data": {
      "text/plain": [
       "<matplotlib.axes._subplots.AxesSubplot at 0x7fb19d9592d0>"
      ]
     },
     "execution_count": 8,
     "metadata": {},
     "output_type": "execute_result"
    },
    {
     "data": {
      "image/png": "[encoded data removed]",
      "text/plain": [
       "<Figure size 432x288 with 2 Axes>"
      ]
     },
     "metadata": {
      "needs_background": "light"
     },
     "output_type": "display_data"
    }
   ],
   "source": [
    "sns.heatmap(app.isnull()) # checking for null values. Seems like occupation_type has many"
   ]
  },
  {
   "cell_type": "code",
   "execution_count": 9,
   "metadata": {
    "execution": {
     "iopub.execute_input": "2021-01-19T16:43:05.013310Z",
     "iopub.status.busy": "2021-01-19T16:43:05.012627Z",
     "iopub.status.idle": "2021-01-19T16:43:07.903969Z",
     "shell.execute_reply": "2021-01-19T16:43:07.903423Z"
    },
    "papermill": {
     "duration": 2.929487,
     "end_time": "2021-01-19T16:43:07.904087",
     "exception": false,
     "start_time": "2021-01-19T16:43:04.974600",
     "status": "completed"
    },
    "tags": []
   },
   "outputs": [
    {
     "data": {
      "text/plain": [
       "<matplotlib.axes._subplots.AxesSubplot at 0x7fb19d743110>"
      ]
     },
     "execution_count": 9,
     "metadata": {},
     "output_type": "execute_result"
    },
    {
     "data": {
      "image/png": "[encoded data removed]",
      "text/plain": [
       "<Figure size 432x288 with 2 Axes>"
      ]
     },
     "metadata": {
      "needs_background": "light"
     },
     "output_type": "display_data"
    }
   ],
   "source": [
    "sns.heatmap(crecord.isnull()) # checking for null values. All good here!"
   ]
  },
  {
   "cell_type": "code",
   "execution_count": 10,
   "metadata": {
    "execution": {
     "iopub.execute_input": "2021-01-19T16:43:07.983358Z",
     "iopub.status.busy": "2021-01-19T16:43:07.982655Z",
     "iopub.status.idle": "2021-01-19T16:43:08.087872Z",
     "shell.execute_reply": "2021-01-19T16:43:08.087207Z"
    },
    "papermill": {
     "duration": 0.147132,
     "end_time": "2021-01-19T16:43:08.087985",
     "exception": false,
     "start_time": "2021-01-19T16:43:07.940853",
     "status": "completed"
    },
    "tags": []
   },
   "outputs": [],
   "source": [
    "app = app.drop_duplicates('ID', keep='last') \n",
    "# we identified that there are some duplicates in this dataset\n",
    "# we will be deleting those duplicates and will keep the last entry of the ID if its repeated."
   ]
  },
  {
   "cell_type": "code",
   "execution_count": 11,
   "metadata": {
    "execution": {
     "iopub.execute_input": "2021-01-19T16:43:08.178490Z",
     "iopub.status.busy": "2021-01-19T16:43:08.177405Z",
     "iopub.status.idle": "2021-01-19T16:43:08.216838Z",
     "shell.execute_reply": "2021-01-19T16:43:08.216245Z"
    },
    "papermill": {
     "duration": 0.092368,
     "end_time": "2021-01-19T16:43:08.216955",
     "exception": false,
     "start_time": "2021-01-19T16:43:08.124587",
     "status": "completed"
    },
    "tags": []
   },
   "outputs": [],
   "source": [
    "app.drop('OCCUPATION_TYPE', axis=1, inplace=True) \n",
    "#we identified earlier that occupation_type has many missing values\n",
    "# we will drop this column"
   ]
  },
  {
   "cell_type": "code",
   "execution_count": 12,
   "metadata": {
    "execution": {
     "iopub.execute_input": "2021-01-19T16:43:08.309223Z",
     "iopub.status.busy": "2021-01-19T16:43:08.308305Z",
     "iopub.status.idle": "2021-01-19T16:43:08.334169Z",
     "shell.execute_reply": "2021-01-19T16:43:08.333515Z"
    },
    "papermill": {
     "duration": 0.080352,
     "end_time": "2021-01-19T16:43:08.334280",
     "exception": false,
     "start_time": "2021-01-19T16:43:08.253928",
     "status": "completed"
    },
    "tags": []
   },
   "outputs": [
    {
     "data": {
      "text/plain": [
       "1            CODE_GENDER\n",
       "2           FLAG_OWN_CAR\n",
       "3        FLAG_OWN_REALTY\n",
       "6       NAME_INCOME_TYPE\n",
       "7    NAME_EDUCATION_TYPE\n",
       "8     NAME_FAMILY_STATUS\n",
       "9      NAME_HOUSING_TYPE\n",
       "Name: index, dtype: object"
      ]
     },
     "execution_count": 12,
     "metadata": {},
     "output_type": "execute_result"
    }
   ],
   "source": [
    "ot = pd.DataFrame(app.dtypes =='object').reset_index()\n",
    "object_type = ot[ot[0] == True]['index']\n",
    "object_type\n",
    "#we are filtering the columns that have non numeric values to see if they are useful"
   ]
  },
  {
   "cell_type": "code",
   "execution_count": 13,
   "metadata": {
    "execution": {
     "iopub.execute_input": "2021-01-19T16:43:08.419224Z",
     "iopub.status.busy": "2021-01-19T16:43:08.418239Z",
     "iopub.status.idle": "2021-01-19T16:43:08.421491Z",
     "shell.execute_reply": "2021-01-19T16:43:08.420966Z"
    },
    "papermill": {
     "duration": 0.049905,
     "end_time": "2021-01-19T16:43:08.421609",
     "exception": false,
     "start_time": "2021-01-19T16:43:08.371704",
     "status": "completed"
    },
    "tags": []
   },
   "outputs": [],
   "source": [
    "num_type = pd.DataFrame(app.dtypes != 'object').reset_index().rename(columns =  {0:'yes/no'})\n",
    "num_type = num_type[num_type['yes/no'] ==True]['index']\n",
    "#HAVE CREATED SEPARATE LIST FOR NUMERIC TYPE INCASE IT WILL BE NEEDED IN FURTHER ANALYSIS\n",
    "# IT IS NEEDED IN FURTHER ANALYSIS"
   ]
  },
  {
   "cell_type": "code",
   "execution_count": 14,
   "metadata": {
    "execution": {
     "iopub.execute_input": "2021-01-19T16:43:08.506684Z",
     "iopub.status.busy": "2021-01-19T16:43:08.505954Z",
     "iopub.status.idle": "2021-01-19T16:43:09.434727Z",
     "shell.execute_reply": "2021-01-19T16:43:09.434040Z"
    },
    "papermill": {
     "duration": 0.975406,
     "end_time": "2021-01-19T16:43:09.434852",
     "exception": false,
     "start_time": "2021-01-19T16:43:08.459446",
     "status": "completed"
    },
    "tags": []
   },
   "outputs": [
    {
     "name": "stdout",
     "output_type": "stream",
     "text": [
      "F    294412\n",
      "M    144098\n",
      "Name: CODE_GENDER, dtype: int64 \n",
      " N    275428\n",
      "Y    163082\n",
      "Name: FLAG_OWN_CAR, dtype: int64 \n",
      " Y    304043\n",
      "N    134467\n",
      "Name: FLAG_OWN_REALTY, dtype: int64 \n",
      " Working                 226087\n",
      "Commercial associate    100739\n",
      "Pensioner                75483\n",
      "State servant            36184\n",
      "Student                     17\n",
      "Name: NAME_INCOME_TYPE, dtype: int64 \n",
      " Secondary / secondary special    301789\n",
      "Higher education                 117509\n",
      "Incomplete higher                 14849\n",
      "Lower secondary                    4051\n",
      "Academic degree                     312\n",
      "Name: NAME_EDUCATION_TYPE, dtype: int64 \n",
      " Married                 299798\n",
      "Single / not married     55268\n",
      "Civil marriage           36524\n",
      "Separated                27249\n",
      "Widow                    19671\n",
      "Name: NAME_FAMILY_STATUS, dtype: int64 \n",
      " House / apartment      393788\n",
      "With parents            19074\n",
      "Municipal apartment     14213\n",
      "Rented apartment         5974\n",
      "Office apartment         3922\n",
      "Co-op apartment          1539\n",
      "Name: NAME_HOUSING_TYPE, dtype: int64\n"
     ]
    }
   ],
   "source": [
    "a = app[object_type]['CODE_GENDER'].value_counts()\n",
    "b = app[object_type]['FLAG_OWN_CAR'].value_counts()\n",
    "c = app[object_type]['FLAG_OWN_REALTY'].value_counts()\n",
    "d = app[object_type]['NAME_INCOME_TYPE'].value_counts()\n",
    "e = app[object_type]['NAME_EDUCATION_TYPE'].value_counts()\n",
    "f = app[object_type]['NAME_FAMILY_STATUS'].value_counts()\n",
    "g = app[object_type]['NAME_HOUSING_TYPE'].value_counts()\n",
    "\n",
    "print( a,\"\\n\",b,'\\n', c, '\\n', d, '\\n', e, '\\n', f, '\\n', g)\n",
    "\n",
    "#this is just to see what each column is. \n",
    "#It seems that all of them are important since there is very fine classifcation in each column.\n",
    "# their effectiveness cannot be judged at this moment so we convert all of them to numeric values."
   ]
  },
  {
   "cell_type": "code",
   "execution_count": 15,
   "metadata": {
    "execution": {
     "iopub.execute_input": "2021-01-19T16:43:09.517584Z",
     "iopub.status.busy": "2021-01-19T16:43:09.516756Z",
     "iopub.status.idle": "2021-01-19T16:43:10.681717Z",
     "shell.execute_reply": "2021-01-19T16:43:10.681117Z"
    },
    "papermill": {
     "duration": 1.208991,
     "end_time": "2021-01-19T16:43:10.681829",
     "exception": false,
     "start_time": "2021-01-19T16:43:09.472838",
     "status": "completed"
    },
    "tags": []
   },
   "outputs": [],
   "source": [
    "from sklearn.preprocessing import LabelEncoder\n",
    "le = LabelEncoder()\n",
    "for x in app:\n",
    "    if app[x].dtypes=='object':\n",
    "        app[x] = le.fit_transform(app[x])\n",
    "# we have transformed all the non numeric data columns into data columns\n",
    "# this method applies 0,1.. classification to different value types."
   ]
  },
  {
   "cell_type": "code",
   "execution_count": 16,
   "metadata": {
    "execution": {
     "iopub.execute_input": "2021-01-19T16:43:10.770248Z",
     "iopub.status.busy": "2021-01-19T16:43:10.768662Z",
     "iopub.status.idle": "2021-01-19T16:43:10.785484Z",
     "shell.execute_reply": "2021-01-19T16:43:10.784875Z"
    },
    "papermill": {
     "duration": 0.065592,
     "end_time": "2021-01-19T16:43:10.785610",
     "exception": false,
     "start_time": "2021-01-19T16:43:10.720018",
     "status": "completed"
    },
    "tags": []
   },
   "outputs": [
    {
     "data": {
      "text/html": [
       "<div>\n",
       "<style scoped>\n",
       "    .dataframe tbody tr th:only-of-type {\n",
       "        vertical-align: middle;\n",
       "    }\n",
       "\n",
       "    .dataframe tbody tr th {\n",
       "        vertical-align: top;\n",
       "    }\n",
       "\n",
       "    .dataframe thead th {\n",
       "        text-align: right;\n",
       "    }\n",
       "</style>\n",
       "<table border=\"1\" class=\"dataframe\">\n",
       "  <thead>\n",
       "    <tr style=\"text-align: right;\">\n",
       "      <th></th>\n",
       "      <th>ID</th>\n",
       "      <th>CODE_GENDER</th>\n",
       "      <th>FLAG_OWN_CAR</th>\n",
       "      <th>FLAG_OWN_REALTY</th>\n",
       "      <th>CNT_CHILDREN</th>\n",
       "      <th>AMT_INCOME_TOTAL</th>\n",
       "      <th>NAME_INCOME_TYPE</th>\n",
       "      <th>NAME_EDUCATION_TYPE</th>\n",
       "      <th>NAME_FAMILY_STATUS</th>\n",
       "      <th>NAME_HOUSING_TYPE</th>\n",
       "      <th>DAYS_BIRTH</th>\n",
       "      <th>DAYS_EMPLOYED</th>\n",
       "      <th>FLAG_MOBIL</th>\n",
       "      <th>FLAG_WORK_PHONE</th>\n",
       "      <th>FLAG_PHONE</th>\n",
       "      <th>FLAG_EMAIL</th>\n",
       "      <th>CNT_FAM_MEMBERS</th>\n",
       "    </tr>\n",
       "  </thead>\n",
       "  <tbody>\n",
       "    <tr>\n",
       "      <th>0</th>\n",
       "      <td>5008804</td>\n",
       "      <td>1</td>\n",
       "      <td>1</td>\n",
       "      <td>1</td>\n",
       "      <td>0</td>\n",
       "      <td>427500.0</td>\n",
       "      <td>4</td>\n",
       "      <td>1</td>\n",
       "      <td>0</td>\n",
       "      <td>4</td>\n",
       "      <td>-12005</td>\n",
       "      <td>-4542</td>\n",
       "      <td>1</td>\n",
       "      <td>1</td>\n",
       "      <td>0</td>\n",
       "      <td>0</td>\n",
       "      <td>2.0</td>\n",
       "    </tr>\n",
       "    <tr>\n",
       "      <th>1</th>\n",
       "      <td>5008805</td>\n",
       "      <td>1</td>\n",
       "      <td>1</td>\n",
       "      <td>1</td>\n",
       "      <td>0</td>\n",
       "      <td>427500.0</td>\n",
       "      <td>4</td>\n",
       "      <td>1</td>\n",
       "      <td>0</td>\n",
       "      <td>4</td>\n",
       "      <td>-12005</td>\n",
       "      <td>-4542</td>\n",
       "      <td>1</td>\n",
       "      <td>1</td>\n",
       "      <td>0</td>\n",
       "      <td>0</td>\n",
       "      <td>2.0</td>\n",
       "    </tr>\n",
       "    <tr>\n",
       "      <th>2</th>\n",
       "      <td>5008806</td>\n",
       "      <td>1</td>\n",
       "      <td>1</td>\n",
       "      <td>1</td>\n",
       "      <td>0</td>\n",
       "      <td>112500.0</td>\n",
       "      <td>4</td>\n",
       "      <td>4</td>\n",
       "      <td>1</td>\n",
       "      <td>1</td>\n",
       "      <td>-21474</td>\n",
       "      <td>-1134</td>\n",
       "      <td>1</td>\n",
       "      <td>0</td>\n",
       "      <td>0</td>\n",
       "      <td>0</td>\n",
       "      <td>2.0</td>\n",
       "    </tr>\n",
       "    <tr>\n",
       "      <th>3</th>\n",
       "      <td>5008808</td>\n",
       "      <td>0</td>\n",
       "      <td>0</td>\n",
       "      <td>1</td>\n",
       "      <td>0</td>\n",
       "      <td>270000.0</td>\n",
       "      <td>0</td>\n",
       "      <td>4</td>\n",
       "      <td>3</td>\n",
       "      <td>1</td>\n",
       "      <td>-19110</td>\n",
       "      <td>-3051</td>\n",
       "      <td>1</td>\n",
       "      <td>0</td>\n",
       "      <td>1</td>\n",
       "      <td>1</td>\n",
       "      <td>1.0</td>\n",
       "    </tr>\n",
       "    <tr>\n",
       "      <th>4</th>\n",
       "      <td>5008809</td>\n",
       "      <td>0</td>\n",
       "      <td>0</td>\n",
       "      <td>1</td>\n",
       "      <td>0</td>\n",
       "      <td>270000.0</td>\n",
       "      <td>0</td>\n",
       "      <td>4</td>\n",
       "      <td>3</td>\n",
       "      <td>1</td>\n",
       "      <td>-19110</td>\n",
       "      <td>-3051</td>\n",
       "      <td>1</td>\n",
       "      <td>0</td>\n",
       "      <td>1</td>\n",
       "      <td>1</td>\n",
       "      <td>1.0</td>\n",
       "    </tr>\n",
       "    <tr>\n",
       "      <th>5</th>\n",
       "      <td>5008810</td>\n",
       "      <td>0</td>\n",
       "      <td>0</td>\n",
       "      <td>1</td>\n",
       "      <td>0</td>\n",
       "      <td>270000.0</td>\n",
       "      <td>0</td>\n",
       "      <td>4</td>\n",
       "      <td>3</td>\n",
       "      <td>1</td>\n",
       "      <td>-19110</td>\n",
       "      <td>-3051</td>\n",
       "      <td>1</td>\n",
       "      <td>0</td>\n",
       "      <td>1</td>\n",
       "      <td>1</td>\n",
       "      <td>1.0</td>\n",
       "    </tr>\n",
       "    <tr>\n",
       "      <th>6</th>\n",
       "      <td>5008811</td>\n",
       "      <td>0</td>\n",
       "      <td>0</td>\n",
       "      <td>1</td>\n",
       "      <td>0</td>\n",
       "      <td>270000.0</td>\n",
       "      <td>0</td>\n",
       "      <td>4</td>\n",
       "      <td>3</td>\n",
       "      <td>1</td>\n",
       "      <td>-19110</td>\n",
       "      <td>-3051</td>\n",
       "      <td>1</td>\n",
       "      <td>0</td>\n",
       "      <td>1</td>\n",
       "      <td>1</td>\n",
       "      <td>1.0</td>\n",
       "    </tr>\n",
       "    <tr>\n",
       "      <th>7</th>\n",
       "      <td>5008812</td>\n",
       "      <td>0</td>\n",
       "      <td>0</td>\n",
       "      <td>1</td>\n",
       "      <td>0</td>\n",
       "      <td>283500.0</td>\n",
       "      <td>1</td>\n",
       "      <td>1</td>\n",
       "      <td>2</td>\n",
       "      <td>1</td>\n",
       "      <td>-22464</td>\n",
       "      <td>365243</td>\n",
       "      <td>1</td>\n",
       "      <td>0</td>\n",
       "      <td>0</td>\n",
       "      <td>0</td>\n",
       "      <td>1.0</td>\n",
       "    </tr>\n",
       "    <tr>\n",
       "      <th>8</th>\n",
       "      <td>5008813</td>\n",
       "      <td>0</td>\n",
       "      <td>0</td>\n",
       "      <td>1</td>\n",
       "      <td>0</td>\n",
       "      <td>283500.0</td>\n",
       "      <td>1</td>\n",
       "      <td>1</td>\n",
       "      <td>2</td>\n",
       "      <td>1</td>\n",
       "      <td>-22464</td>\n",
       "      <td>365243</td>\n",
       "      <td>1</td>\n",
       "      <td>0</td>\n",
       "      <td>0</td>\n",
       "      <td>0</td>\n",
       "      <td>1.0</td>\n",
       "    </tr>\n",
       "    <tr>\n",
       "      <th>9</th>\n",
       "      <td>5008814</td>\n",
       "      <td>0</td>\n",
       "      <td>0</td>\n",
       "      <td>1</td>\n",
       "      <td>0</td>\n",
       "      <td>283500.0</td>\n",
       "      <td>1</td>\n",
       "      <td>1</td>\n",
       "      <td>2</td>\n",
       "      <td>1</td>\n",
       "      <td>-22464</td>\n",
       "      <td>365243</td>\n",
       "      <td>1</td>\n",
       "      <td>0</td>\n",
       "      <td>0</td>\n",
       "      <td>0</td>\n",
       "      <td>1.0</td>\n",
       "    </tr>\n",
       "  </tbody>\n",
       "</table>\n",
       "</div>"
      ],
      "text/plain": [
       "        ID  CODE_GENDER  FLAG_OWN_CAR  FLAG_OWN_REALTY  CNT_CHILDREN  \\\n",
       "0  5008804            1             1                1             0   \n",
       "1  5008805            1             1                1             0   \n",
       "2  5008806            1             1                1             0   \n",
       "3  5008808            0             0                1             0   \n",
       "4  5008809            0             0                1             0   \n",
       "5  5008810            0             0                1             0   \n",
       "6  5008811            0             0                1             0   \n",
       "7  5008812            0             0                1             0   \n",
       "8  5008813            0             0                1             0   \n",
       "9  5008814            0             0                1             0   \n",
       "\n",
       "   AMT_INCOME_TOTAL  NAME_INCOME_TYPE  NAME_EDUCATION_TYPE  \\\n",
       "0          427500.0                 4                    1   \n",
       "1          427500.0                 4                    1   \n",
       "2          112500.0                 4                    4   \n",
       "3          270000.0                 0                    4   \n",
       "4          270000.0                 0                    4   \n",
       "5          270000.0                 0                    4   \n",
       "6          270000.0                 0                    4   \n",
       "7          283500.0                 1                    1   \n",
       "8          283500.0                 1                    1   \n",
       "9          283500.0                 1                    1   \n",
       "\n",
       "   NAME_FAMILY_STATUS  NAME_HOUSING_TYPE  DAYS_BIRTH  DAYS_EMPLOYED  \\\n",
       "0                   0                  4      -12005          -4542   \n",
       "1                   0                  4      -12005          -4542   \n",
       "2                   1                  1      -21474          -1134   \n",
       "3                   3                  1      -19110          -3051   \n",
       "4                   3                  1      -19110          -3051   \n",
       "5                   3                  1      -19110          -3051   \n",
       "6                   3                  1      -19110          -3051   \n",
       "7                   2                  1      -22464         365243   \n",
       "8                   2                  1      -22464         365243   \n",
       "9                   2                  1      -22464         365243   \n",
       "\n",
       "   FLAG_MOBIL  FLAG_WORK_PHONE  FLAG_PHONE  FLAG_EMAIL  CNT_FAM_MEMBERS  \n",
       "0           1                1           0           0              2.0  \n",
       "1           1                1           0           0              2.0  \n",
       "2           1                0           0           0              2.0  \n",
       "3           1                0           1           1              1.0  \n",
       "4           1                0           1           1              1.0  \n",
       "5           1                0           1           1              1.0  \n",
       "6           1                0           1           1              1.0  \n",
       "7           1                0           0           0              1.0  \n",
       "8           1                0           0           0              1.0  \n",
       "9           1                0           0           0              1.0  "
      ]
     },
     "execution_count": 16,
     "metadata": {},
     "output_type": "execute_result"
    }
   ],
   "source": [
    "app.head(10)"
   ]
  },
  {
   "cell_type": "code",
   "execution_count": 17,
   "metadata": {
    "execution": {
     "iopub.execute_input": "2021-01-19T16:43:10.869183Z",
     "iopub.status.busy": "2021-01-19T16:43:10.868566Z",
     "iopub.status.idle": "2021-01-19T16:43:10.937721Z",
     "shell.execute_reply": "2021-01-19T16:43:10.937050Z"
    },
    "papermill": {
     "duration": 0.113631,
     "end_time": "2021-01-19T16:43:10.937841",
     "exception": false,
     "start_time": "2021-01-19T16:43:10.824210",
     "status": "completed"
    },
    "tags": []
   },
   "outputs": [
    {
     "data": {
      "text/html": [
       "<div>\n",
       "<style scoped>\n",
       "    .dataframe tbody tr th:only-of-type {\n",
       "        vertical-align: middle;\n",
       "    }\n",
       "\n",
       "    .dataframe tbody tr th {\n",
       "        vertical-align: top;\n",
       "    }\n",
       "\n",
       "    .dataframe thead th {\n",
       "        text-align: right;\n",
       "    }\n",
       "</style>\n",
       "<table border=\"1\" class=\"dataframe\">\n",
       "  <thead>\n",
       "    <tr style=\"text-align: right;\">\n",
       "      <th></th>\n",
       "      <th>ID</th>\n",
       "      <th>CNT_CHILDREN</th>\n",
       "      <th>AMT_INCOME_TOTAL</th>\n",
       "      <th>DAYS_BIRTH</th>\n",
       "      <th>DAYS_EMPLOYED</th>\n",
       "      <th>FLAG_MOBIL</th>\n",
       "      <th>FLAG_WORK_PHONE</th>\n",
       "      <th>FLAG_PHONE</th>\n",
       "      <th>FLAG_EMAIL</th>\n",
       "      <th>CNT_FAM_MEMBERS</th>\n",
       "    </tr>\n",
       "  </thead>\n",
       "  <tbody>\n",
       "    <tr>\n",
       "      <th>0</th>\n",
       "      <td>5008804</td>\n",
       "      <td>0</td>\n",
       "      <td>427500.0</td>\n",
       "      <td>-12005</td>\n",
       "      <td>-4542</td>\n",
       "      <td>1</td>\n",
       "      <td>1</td>\n",
       "      <td>0</td>\n",
       "      <td>0</td>\n",
       "      <td>2.0</td>\n",
       "    </tr>\n",
       "    <tr>\n",
       "      <th>1</th>\n",
       "      <td>5008805</td>\n",
       "      <td>0</td>\n",
       "      <td>427500.0</td>\n",
       "      <td>-12005</td>\n",
       "      <td>-4542</td>\n",
       "      <td>1</td>\n",
       "      <td>1</td>\n",
       "      <td>0</td>\n",
       "      <td>0</td>\n",
       "      <td>2.0</td>\n",
       "    </tr>\n",
       "    <tr>\n",
       "      <th>2</th>\n",
       "      <td>5008806</td>\n",
       "      <td>0</td>\n",
       "      <td>112500.0</td>\n",
       "      <td>-21474</td>\n",
       "      <td>-1134</td>\n",
       "      <td>1</td>\n",
       "      <td>0</td>\n",
       "      <td>0</td>\n",
       "      <td>0</td>\n",
       "      <td>2.0</td>\n",
       "    </tr>\n",
       "    <tr>\n",
       "      <th>3</th>\n",
       "      <td>5008808</td>\n",
       "      <td>0</td>\n",
       "      <td>270000.0</td>\n",
       "      <td>-19110</td>\n",
       "      <td>-3051</td>\n",
       "      <td>1</td>\n",
       "      <td>0</td>\n",
       "      <td>1</td>\n",
       "      <td>1</td>\n",
       "      <td>1.0</td>\n",
       "    </tr>\n",
       "    <tr>\n",
       "      <th>4</th>\n",
       "      <td>5008809</td>\n",
       "      <td>0</td>\n",
       "      <td>270000.0</td>\n",
       "      <td>-19110</td>\n",
       "      <td>-3051</td>\n",
       "      <td>1</td>\n",
       "      <td>0</td>\n",
       "      <td>1</td>\n",
       "      <td>1</td>\n",
       "      <td>1.0</td>\n",
       "    </tr>\n",
       "  </tbody>\n",
       "</table>\n",
       "</div>"
      ],
      "text/plain": [
       "        ID  CNT_CHILDREN  AMT_INCOME_TOTAL  DAYS_BIRTH  DAYS_EMPLOYED  \\\n",
       "0  5008804             0          427500.0      -12005          -4542   \n",
       "1  5008805             0          427500.0      -12005          -4542   \n",
       "2  5008806             0          112500.0      -21474          -1134   \n",
       "3  5008808             0          270000.0      -19110          -3051   \n",
       "4  5008809             0          270000.0      -19110          -3051   \n",
       "\n",
       "   FLAG_MOBIL  FLAG_WORK_PHONE  FLAG_PHONE  FLAG_EMAIL  CNT_FAM_MEMBERS  \n",
       "0           1                1           0           0              2.0  \n",
       "1           1                1           0           0              2.0  \n",
       "2           1                0           0           0              2.0  \n",
       "3           1                0           1           1              1.0  \n",
       "4           1                0           1           1              1.0  "
      ]
     },
     "execution_count": 17,
     "metadata": {},
     "output_type": "execute_result"
    }
   ],
   "source": [
    "app[num_type].head()\n",
    "# We will look at numeric columns and see if there is anything that needs to be changed. "
   ]
  },
  {
   "cell_type": "code",
   "execution_count": 18,
   "metadata": {
    "execution": {
     "iopub.execute_input": "2021-01-19T16:43:11.032621Z",
     "iopub.status.busy": "2021-01-19T16:43:11.031918Z",
     "iopub.status.idle": "2021-01-19T16:43:20.858744Z",
     "shell.execute_reply": "2021-01-19T16:43:20.858215Z"
    },
    "papermill": {
     "duration": 9.881029,
     "end_time": "2021-01-19T16:43:20.858883",
     "exception": false,
     "start_time": "2021-01-19T16:43:10.977854",
     "status": "completed"
    },
    "tags": []
   },
   "outputs": [
    {
     "data": {
      "text/plain": [
       "<matplotlib.axes._subplots.AxesSubplot at 0x7fb19754c610>"
      ]
     },
     "execution_count": 18,
     "metadata": {},
     "output_type": "execute_result"
    },
    {
     "data": {
      "image/png": "[encoded data removed]",
      "text/plain": [
       "<Figure size 1008x432 with 9 Axes>"
      ]
     },
     "metadata": {
      "needs_background": "light"
     },
     "output_type": "display_data"
    }
   ],
   "source": [
    "fig, ax= plt.subplots(nrows= 3, ncols = 3, figsize= (14,6))\n",
    "\n",
    "sns.scatterplot(x='ID', y='CNT_CHILDREN', data=app, ax=ax[0][0], color= 'orange')\n",
    "sns.scatterplot(x='ID', y='AMT_INCOME_TOTAL', data=app, ax=ax[0][1], color='orange')\n",
    "sns.scatterplot(x='ID', y='DAYS_BIRTH', data=app, ax=ax[0][2])\n",
    "sns.scatterplot(x='ID', y='DAYS_EMPLOYED', data=app, ax=ax[1][0])\n",
    "sns.scatterplot(x='ID', y='FLAG_MOBIL', data=app, ax=ax[1][1])\n",
    "sns.scatterplot(x='ID', y='FLAG_WORK_PHONE', data=app, ax=ax[1][2])\n",
    "sns.scatterplot(x='ID', y='FLAG_PHONE', data=app, ax=ax[2][0])\n",
    "sns.scatterplot(x='ID', y='FLAG_EMAIL', data=app, ax=ax[2][1])\n",
    "sns.scatterplot(x='ID', y='CNT_FAM_MEMBERS', data=app, ax=ax[2][2], color= 'orange')"
   ]
  },
  {
   "cell_type": "markdown",
   "metadata": {
    "papermill": {
     "duration": 0.043149,
     "end_time": "2021-01-19T16:43:20.946500",
     "exception": false,
     "start_time": "2021-01-19T16:43:20.903351",
     "status": "completed"
    },
    "tags": []
   },
   "source": [
    "There are outliers in 3 columns.\n",
    "1. CNT_CHILDREN\n",
    "2. AMT_INCOME_TOTAL\n",
    "3. CNT_FAM_MEMBERS"
   ]
  },
  {
   "cell_type": "markdown",
   "metadata": {
    "papermill": {
     "duration": 0.043289,
     "end_time": "2021-01-19T16:43:21.034060",
     "exception": false,
     "start_time": "2021-01-19T16:43:20.990771",
     "status": "completed"
    },
    "tags": []
   },
   "source": [
    "* We need to remove these outliers to make sure they do not affect our model results. \n",
    "* We will now remove these outliers. "
   ]
  },
  {
   "cell_type": "code",
   "execution_count": 19,
   "metadata": {
    "execution": {
     "iopub.execute_input": "2021-01-19T16:43:21.127705Z",
     "iopub.status.busy": "2021-01-19T16:43:21.126996Z",
     "iopub.status.idle": "2021-01-19T16:43:21.156769Z",
     "shell.execute_reply": "2021-01-19T16:43:21.155214Z"
    },
    "papermill": {
     "duration": 0.079212,
     "end_time": "2021-01-19T16:43:21.156890",
     "exception": false,
     "start_time": "2021-01-19T16:43:21.077678",
     "status": "completed"
    },
    "tags": []
   },
   "outputs": [],
   "source": [
    "# FOR CNT_CHILDREN COLUMN\n",
    "q_hi = app['CNT_CHILDREN'].quantile(0.999)\n",
    "q_low = app['CNT_CHILDREN'].quantile(0.001)\n",
    "app = app[(app['CNT_CHILDREN']>q_low) & (app['CNT_CHILDREN']<q_hi)]"
   ]
  },
  {
   "cell_type": "code",
   "execution_count": 20,
   "metadata": {
    "execution": {
     "iopub.execute_input": "2021-01-19T16:43:21.251719Z",
     "iopub.status.busy": "2021-01-19T16:43:21.250724Z",
     "iopub.status.idle": "2021-01-19T16:43:21.265207Z",
     "shell.execute_reply": "2021-01-19T16:43:21.265749Z"
    },
    "papermill": {
     "duration": 0.065314,
     "end_time": "2021-01-19T16:43:21.265892",
     "exception": false,
     "start_time": "2021-01-19T16:43:21.200578",
     "status": "completed"
    },
    "tags": []
   },
   "outputs": [],
   "source": [
    "# FOR AMT_INCOME_TOTAL COLUMN\n",
    "q_hi = app['AMT_INCOME_TOTAL'].quantile(0.999)\n",
    "q_low = app['AMT_INCOME_TOTAL'].quantile(0.001)\n",
    "app= app[(app['AMT_INCOME_TOTAL']>q_low) & (app['AMT_INCOME_TOTAL']<q_hi)]"
   ]
  },
  {
   "cell_type": "code",
   "execution_count": 21,
   "metadata": {
    "execution": {
     "iopub.execute_input": "2021-01-19T16:43:21.357490Z",
     "iopub.status.busy": "2021-01-19T16:43:21.356505Z",
     "iopub.status.idle": "2021-01-19T16:43:21.373958Z",
     "shell.execute_reply": "2021-01-19T16:43:21.374557Z"
    },
    "papermill": {
     "duration": 0.064977,
     "end_time": "2021-01-19T16:43:21.374706",
     "exception": false,
     "start_time": "2021-01-19T16:43:21.309729",
     "status": "completed"
    },
    "tags": []
   },
   "outputs": [],
   "source": [
    "#FOR CNT_FAM_MEMBERS COLUMN\n",
    "q_hi = app['CNT_FAM_MEMBERS'].quantile(0.999)\n",
    "q_low = app['CNT_FAM_MEMBERS'].quantile(0.001)\n",
    "app= app[(app['CNT_FAM_MEMBERS']>q_low) & (app['CNT_FAM_MEMBERS']<q_hi)]"
   ]
  },
  {
   "cell_type": "code",
   "execution_count": 22,
   "metadata": {
    "execution": {
     "iopub.execute_input": "2021-01-19T16:43:21.467252Z",
     "iopub.status.busy": "2021-01-19T16:43:21.466253Z",
     "iopub.status.idle": "2021-01-19T16:43:24.831984Z",
     "shell.execute_reply": "2021-01-19T16:43:24.831251Z"
    },
    "papermill": {
     "duration": 3.413036,
     "end_time": "2021-01-19T16:43:24.832130",
     "exception": false,
     "start_time": "2021-01-19T16:43:21.419094",
     "status": "completed"
    },
    "tags": []
   },
   "outputs": [
    {
     "data": {
      "text/plain": [
       "<matplotlib.axes._subplots.AxesSubplot at 0x7fb19378f750>"
      ]
     },
     "execution_count": 22,
     "metadata": {},
     "output_type": "execute_result"
    },
    {
     "data": {
      "image/png": "[encoded data removed]",
      "text/plain": [
       "<Figure size 1008x432 with 9 Axes>"
      ]
     },
     "metadata": {
      "needs_background": "light"
     },
     "output_type": "display_data"
    }
   ],
   "source": [
    "fig, ax= plt.subplots(nrows= 3, ncols = 3, figsize= (14,6))\n",
    "\n",
    "sns.scatterplot(x='ID', y='CNT_CHILDREN', data=app, ax=ax[0][0], color= 'orange')\n",
    "sns.scatterplot(x='ID', y='AMT_INCOME_TOTAL', data=app, ax=ax[0][1], color='orange')\n",
    "sns.scatterplot(x='ID', y='DAYS_BIRTH', data=app, ax=ax[0][2])\n",
    "sns.scatterplot(x='ID', y='DAYS_EMPLOYED', data=app, ax=ax[1][0])\n",
    "sns.scatterplot(x='ID', y='FLAG_MOBIL', data=app, ax=ax[1][1])\n",
    "sns.scatterplot(x='ID', y='FLAG_WORK_PHONE', data=app, ax=ax[1][2])\n",
    "sns.scatterplot(x='ID', y='FLAG_PHONE', data=app, ax=ax[2][0])\n",
    "sns.scatterplot(x='ID', y='FLAG_EMAIL', data=app, ax=ax[2][1])\n",
    "sns.scatterplot(x='ID', y='CNT_FAM_MEMBERS', data=app, ax=ax[2][2], color= 'orange')"
   ]
  },
  {
   "cell_type": "code",
   "execution_count": 23,
   "metadata": {
    "execution": {
     "iopub.execute_input": "2021-01-19T16:43:24.940791Z",
     "iopub.status.busy": "2021-01-19T16:43:24.939259Z",
     "iopub.status.idle": "2021-01-19T16:43:25.291261Z",
     "shell.execute_reply": "2021-01-19T16:43:25.291752Z"
    },
    "papermill": {
     "duration": 0.410633,
     "end_time": "2021-01-19T16:43:25.291912",
     "exception": false,
     "start_time": "2021-01-19T16:43:24.881279",
     "status": "completed"
    },
    "tags": []
   },
   "outputs": [
    {
     "data": {
      "text/html": [
       "<div>\n",
       "<style scoped>\n",
       "    .dataframe tbody tr th:only-of-type {\n",
       "        vertical-align: middle;\n",
       "    }\n",
       "\n",
       "    .dataframe tbody tr th {\n",
       "        vertical-align: top;\n",
       "    }\n",
       "\n",
       "    .dataframe thead th {\n",
       "        text-align: right;\n",
       "    }\n",
       "</style>\n",
       "<table border=\"1\" class=\"dataframe\">\n",
       "  <thead>\n",
       "    <tr style=\"text-align: right;\">\n",
       "      <th></th>\n",
       "      <th>ID</th>\n",
       "      <th>MONTHS_BALANCE</th>\n",
       "      <th>STATUS</th>\n",
       "      <th>Months from today</th>\n",
       "    </tr>\n",
       "  </thead>\n",
       "  <tbody>\n",
       "    <tr>\n",
       "      <th>0</th>\n",
       "      <td>5001711</td>\n",
       "      <td>0</td>\n",
       "      <td>X</td>\n",
       "      <td>0</td>\n",
       "    </tr>\n",
       "    <tr>\n",
       "      <th>1</th>\n",
       "      <td>5001711</td>\n",
       "      <td>-1</td>\n",
       "      <td>0</td>\n",
       "      <td>1</td>\n",
       "    </tr>\n",
       "    <tr>\n",
       "      <th>2</th>\n",
       "      <td>5001711</td>\n",
       "      <td>-2</td>\n",
       "      <td>0</td>\n",
       "      <td>2</td>\n",
       "    </tr>\n",
       "    <tr>\n",
       "      <th>3</th>\n",
       "      <td>5001711</td>\n",
       "      <td>-3</td>\n",
       "      <td>0</td>\n",
       "      <td>3</td>\n",
       "    </tr>\n",
       "    <tr>\n",
       "      <th>4</th>\n",
       "      <td>5001712</td>\n",
       "      <td>0</td>\n",
       "      <td>C</td>\n",
       "      <td>0</td>\n",
       "    </tr>\n",
       "    <tr>\n",
       "      <th>5</th>\n",
       "      <td>5001712</td>\n",
       "      <td>-1</td>\n",
       "      <td>C</td>\n",
       "      <td>1</td>\n",
       "    </tr>\n",
       "    <tr>\n",
       "      <th>6</th>\n",
       "      <td>5001712</td>\n",
       "      <td>-2</td>\n",
       "      <td>C</td>\n",
       "      <td>2</td>\n",
       "    </tr>\n",
       "    <tr>\n",
       "      <th>7</th>\n",
       "      <td>5001712</td>\n",
       "      <td>-3</td>\n",
       "      <td>C</td>\n",
       "      <td>3</td>\n",
       "    </tr>\n",
       "    <tr>\n",
       "      <th>8</th>\n",
       "      <td>5001712</td>\n",
       "      <td>-4</td>\n",
       "      <td>C</td>\n",
       "      <td>4</td>\n",
       "    </tr>\n",
       "    <tr>\n",
       "      <th>9</th>\n",
       "      <td>5001712</td>\n",
       "      <td>-5</td>\n",
       "      <td>C</td>\n",
       "      <td>5</td>\n",
       "    </tr>\n",
       "  </tbody>\n",
       "</table>\n",
       "</div>"
      ],
      "text/plain": [
       "        ID  MONTHS_BALANCE STATUS  Months from today\n",
       "0  5001711               0      X                  0\n",
       "1  5001711              -1      0                  1\n",
       "2  5001711              -2      0                  2\n",
       "3  5001711              -3      0                  3\n",
       "4  5001712               0      C                  0\n",
       "5  5001712              -1      C                  1\n",
       "6  5001712              -2      C                  2\n",
       "7  5001712              -3      C                  3\n",
       "8  5001712              -4      C                  4\n",
       "9  5001712              -5      C                  5"
      ]
     },
     "execution_count": 23,
     "metadata": {},
     "output_type": "execute_result"
    }
   ],
   "source": [
    "crecord['Months from today'] = crecord['MONTHS_BALANCE']*-1\n",
    "crecord = crecord.sort_values(['ID','Months from today'], ascending=True)\n",
    "crecord.head(10)\n",
    "# we calculated months from today column to see how much old is the month\n",
    "# we also sort the data according to ID and Months from today columns. "
   ]
  },
  {
   "cell_type": "code",
   "execution_count": 24,
   "metadata": {
    "execution": {
     "iopub.execute_input": "2021-01-19T16:43:25.632679Z",
     "iopub.status.busy": "2021-01-19T16:43:25.631958Z",
     "iopub.status.idle": "2021-01-19T16:43:25.639357Z",
     "shell.execute_reply": "2021-01-19T16:43:25.638682Z"
    },
    "papermill": {
     "duration": 0.299218,
     "end_time": "2021-01-19T16:43:25.639467",
     "exception": false,
     "start_time": "2021-01-19T16:43:25.340249",
     "status": "completed"
    },
    "tags": []
   },
   "outputs": [
    {
     "data": {
      "text/plain": [
       "C    442031\n",
       "0    383120\n",
       "X    209230\n",
       "1     11090\n",
       "5      1693\n",
       "2       868\n",
       "3       320\n",
       "4       223\n",
       "Name: STATUS, dtype: int64"
      ]
     },
     "execution_count": 24,
     "metadata": {},
     "output_type": "execute_result"
    }
   ],
   "source": [
    "crecord['STATUS'].value_counts() \n",
    "# performed a value count on status to see how many values exist of each type"
   ]
  },
  {
   "cell_type": "code",
   "execution_count": 25,
   "metadata": {
    "execution": {
     "iopub.execute_input": "2021-01-19T16:43:25.854771Z",
     "iopub.status.busy": "2021-01-19T16:43:25.854079Z",
     "iopub.status.idle": "2021-01-19T16:43:26.757804Z",
     "shell.execute_reply": "2021-01-19T16:43:26.757264Z"
    },
    "papermill": {
     "duration": 1.068834,
     "end_time": "2021-01-19T16:43:26.757922",
     "exception": false,
     "start_time": "2021-01-19T16:43:25.689088",
     "status": "completed"
    },
    "tags": []
   },
   "outputs": [],
   "source": [
    "crecord['STATUS'].replace({'C': 0, 'X' : 0}, inplace=True)\n",
    "crecord['STATUS'] = crecord['STATUS'].astype('int')\n",
    "crecord['STATUS'] = crecord['STATUS'].apply(lambda x:1 if x >= 2 else 0)\n",
    "# replace the value C and X with 0 as it is the same type\n",
    "# 1,2,3,4,5 are classified as 1 because they are the same type\n",
    "# these will be our labels/prediction results for our model"
   ]
  },
  {
   "cell_type": "code",
   "execution_count": 26,
   "metadata": {
    "execution": {
     "iopub.execute_input": "2021-01-19T16:43:26.862634Z",
     "iopub.status.busy": "2021-01-19T16:43:26.861539Z",
     "iopub.status.idle": "2021-01-19T16:43:26.875423Z",
     "shell.execute_reply": "2021-01-19T16:43:26.874752Z"
    },
    "papermill": {
     "duration": 0.068324,
     "end_time": "2021-01-19T16:43:26.875530",
     "exception": false,
     "start_time": "2021-01-19T16:43:26.807206",
     "status": "completed"
    },
    "tags": []
   },
   "outputs": [
    {
     "data": {
      "text/plain": [
       "0    0.99704\n",
       "1    0.00296\n",
       "Name: STATUS, dtype: float64"
      ]
     },
     "execution_count": 26,
     "metadata": {},
     "output_type": "execute_result"
    }
   ],
   "source": [
    "crecord['STATUS'].value_counts(normalize=True) \n",
    "# there is a problem here\n",
    "# the data is oversampled for the labels\n",
    "# 0 are 99%\n",
    "# 1 are only 1% in the whole dataset\n",
    "# we will need to address the oversampling issue in order to make sense of our analysis\n",
    "# this will be done after when we combine both the datasets\n",
    "# so first we will join the datasets"
   ]
  },
  {
   "cell_type": "code",
   "execution_count": 27,
   "metadata": {
    "execution": {
     "iopub.execute_input": "2021-01-19T16:43:26.983561Z",
     "iopub.status.busy": "2021-01-19T16:43:26.982825Z",
     "iopub.status.idle": "2021-01-19T16:43:27.059803Z",
     "shell.execute_reply": "2021-01-19T16:43:27.060383Z"
    },
    "papermill": {
     "duration": 0.133895,
     "end_time": "2021-01-19T16:43:27.060524",
     "exception": false,
     "start_time": "2021-01-19T16:43:26.926629",
     "status": "completed"
    },
    "tags": []
   },
   "outputs": [
    {
     "data": {
      "text/html": [
       "<div>\n",
       "<style scoped>\n",
       "    .dataframe tbody tr th:only-of-type {\n",
       "        vertical-align: middle;\n",
       "    }\n",
       "\n",
       "    .dataframe tbody tr th {\n",
       "        vertical-align: top;\n",
       "    }\n",
       "\n",
       "    .dataframe thead th {\n",
       "        text-align: right;\n",
       "    }\n",
       "</style>\n",
       "<table border=\"1\" class=\"dataframe\">\n",
       "  <thead>\n",
       "    <tr style=\"text-align: right;\">\n",
       "      <th></th>\n",
       "      <th>ID</th>\n",
       "      <th>MONTHS_BALANCE</th>\n",
       "      <th>STATUS</th>\n",
       "      <th>Months from today</th>\n",
       "    </tr>\n",
       "  </thead>\n",
       "  <tbody>\n",
       "    <tr>\n",
       "      <th>0</th>\n",
       "      <td>5001711</td>\n",
       "      <td>0</td>\n",
       "      <td>0</td>\n",
       "      <td>3</td>\n",
       "    </tr>\n",
       "    <tr>\n",
       "      <th>1</th>\n",
       "      <td>5001712</td>\n",
       "      <td>0</td>\n",
       "      <td>0</td>\n",
       "      <td>18</td>\n",
       "    </tr>\n",
       "    <tr>\n",
       "      <th>2</th>\n",
       "      <td>5001713</td>\n",
       "      <td>0</td>\n",
       "      <td>0</td>\n",
       "      <td>21</td>\n",
       "    </tr>\n",
       "    <tr>\n",
       "      <th>3</th>\n",
       "      <td>5001714</td>\n",
       "      <td>0</td>\n",
       "      <td>0</td>\n",
       "      <td>14</td>\n",
       "    </tr>\n",
       "    <tr>\n",
       "      <th>4</th>\n",
       "      <td>5001715</td>\n",
       "      <td>0</td>\n",
       "      <td>0</td>\n",
       "      <td>59</td>\n",
       "    </tr>\n",
       "  </tbody>\n",
       "</table>\n",
       "</div>"
      ],
      "text/plain": [
       "        ID  MONTHS_BALANCE  STATUS  Months from today\n",
       "0  5001711               0       0                  3\n",
       "1  5001712               0       0                 18\n",
       "2  5001713               0       0                 21\n",
       "3  5001714               0       0                 14\n",
       "4  5001715               0       0                 59"
      ]
     },
     "execution_count": 27,
     "metadata": {},
     "output_type": "execute_result"
    }
   ],
   "source": [
    "crecordgb = crecord.groupby('ID').agg(max).reset_index()\n",
    "crecordgb.head() \n",
    "#we are grouping the data in crecord by ID so that we can join it with app"
   ]
  },
  {
   "cell_type": "code",
   "execution_count": 28,
   "metadata": {
    "execution": {
     "iopub.execute_input": "2021-01-19T16:43:27.164906Z",
     "iopub.status.busy": "2021-01-19T16:43:27.163919Z",
     "iopub.status.idle": "2021-01-19T16:43:27.216010Z",
     "shell.execute_reply": "2021-01-19T16:43:27.216588Z"
    },
    "papermill": {
     "duration": 0.105892,
     "end_time": "2021-01-19T16:43:27.216726",
     "exception": false,
     "start_time": "2021-01-19T16:43:27.110834",
     "status": "completed"
    },
    "tags": []
   },
   "outputs": [
    {
     "data": {
      "text/html": [
       "<div>\n",
       "<style scoped>\n",
       "    .dataframe tbody tr th:only-of-type {\n",
       "        vertical-align: middle;\n",
       "    }\n",
       "\n",
       "    .dataframe tbody tr th {\n",
       "        vertical-align: top;\n",
       "    }\n",
       "\n",
       "    .dataframe thead th {\n",
       "        text-align: right;\n",
       "    }\n",
       "</style>\n",
       "<table border=\"1\" class=\"dataframe\">\n",
       "  <thead>\n",
       "    <tr style=\"text-align: right;\">\n",
       "      <th></th>\n",
       "      <th>ID</th>\n",
       "      <th>CODE_GENDER</th>\n",
       "      <th>FLAG_OWN_CAR</th>\n",
       "      <th>FLAG_OWN_REALTY</th>\n",
       "      <th>CNT_CHILDREN</th>\n",
       "      <th>AMT_INCOME_TOTAL</th>\n",
       "      <th>NAME_INCOME_TYPE</th>\n",
       "      <th>NAME_EDUCATION_TYPE</th>\n",
       "      <th>NAME_FAMILY_STATUS</th>\n",
       "      <th>NAME_HOUSING_TYPE</th>\n",
       "      <th>DAYS_BIRTH</th>\n",
       "      <th>DAYS_EMPLOYED</th>\n",
       "      <th>FLAG_MOBIL</th>\n",
       "      <th>FLAG_WORK_PHONE</th>\n",
       "      <th>FLAG_PHONE</th>\n",
       "      <th>FLAG_EMAIL</th>\n",
       "      <th>CNT_FAM_MEMBERS</th>\n",
       "      <th>STATUS</th>\n",
       "    </tr>\n",
       "  </thead>\n",
       "  <tbody>\n",
       "    <tr>\n",
       "      <th>29</th>\n",
       "      <td>5008838</td>\n",
       "      <td>1</td>\n",
       "      <td>0</td>\n",
       "      <td>1</td>\n",
       "      <td>1</td>\n",
       "      <td>405000.0</td>\n",
       "      <td>0</td>\n",
       "      <td>1</td>\n",
       "      <td>1</td>\n",
       "      <td>1</td>\n",
       "      <td>-11842</td>\n",
       "      <td>-2016</td>\n",
       "      <td>1</td>\n",
       "      <td>0</td>\n",
       "      <td>0</td>\n",
       "      <td>0</td>\n",
       "      <td>3.0</td>\n",
       "      <td>0</td>\n",
       "    </tr>\n",
       "    <tr>\n",
       "      <th>30</th>\n",
       "      <td>5008839</td>\n",
       "      <td>1</td>\n",
       "      <td>0</td>\n",
       "      <td>1</td>\n",
       "      <td>1</td>\n",
       "      <td>405000.0</td>\n",
       "      <td>0</td>\n",
       "      <td>1</td>\n",
       "      <td>1</td>\n",
       "      <td>1</td>\n",
       "      <td>-11842</td>\n",
       "      <td>-2016</td>\n",
       "      <td>1</td>\n",
       "      <td>0</td>\n",
       "      <td>0</td>\n",
       "      <td>0</td>\n",
       "      <td>3.0</td>\n",
       "      <td>0</td>\n",
       "    </tr>\n",
       "    <tr>\n",
       "      <th>31</th>\n",
       "      <td>5008840</td>\n",
       "      <td>1</td>\n",
       "      <td>0</td>\n",
       "      <td>1</td>\n",
       "      <td>1</td>\n",
       "      <td>405000.0</td>\n",
       "      <td>0</td>\n",
       "      <td>1</td>\n",
       "      <td>1</td>\n",
       "      <td>1</td>\n",
       "      <td>-11842</td>\n",
       "      <td>-2016</td>\n",
       "      <td>1</td>\n",
       "      <td>0</td>\n",
       "      <td>0</td>\n",
       "      <td>0</td>\n",
       "      <td>3.0</td>\n",
       "      <td>0</td>\n",
       "    </tr>\n",
       "    <tr>\n",
       "      <th>32</th>\n",
       "      <td>5008841</td>\n",
       "      <td>1</td>\n",
       "      <td>0</td>\n",
       "      <td>1</td>\n",
       "      <td>1</td>\n",
       "      <td>405000.0</td>\n",
       "      <td>0</td>\n",
       "      <td>1</td>\n",
       "      <td>1</td>\n",
       "      <td>1</td>\n",
       "      <td>-11842</td>\n",
       "      <td>-2016</td>\n",
       "      <td>1</td>\n",
       "      <td>0</td>\n",
       "      <td>0</td>\n",
       "      <td>0</td>\n",
       "      <td>3.0</td>\n",
       "      <td>0</td>\n",
       "    </tr>\n",
       "    <tr>\n",
       "      <th>33</th>\n",
       "      <td>5008842</td>\n",
       "      <td>1</td>\n",
       "      <td>0</td>\n",
       "      <td>1</td>\n",
       "      <td>1</td>\n",
       "      <td>405000.0</td>\n",
       "      <td>0</td>\n",
       "      <td>1</td>\n",
       "      <td>1</td>\n",
       "      <td>1</td>\n",
       "      <td>-11842</td>\n",
       "      <td>-2016</td>\n",
       "      <td>1</td>\n",
       "      <td>0</td>\n",
       "      <td>0</td>\n",
       "      <td>0</td>\n",
       "      <td>3.0</td>\n",
       "      <td>0</td>\n",
       "    </tr>\n",
       "  </tbody>\n",
       "</table>\n",
       "</div>"
      ],
      "text/plain": [
       "         ID  CODE_GENDER  FLAG_OWN_CAR  FLAG_OWN_REALTY  CNT_CHILDREN  \\\n",
       "29  5008838            1             0                1             1   \n",
       "30  5008839            1             0                1             1   \n",
       "31  5008840            1             0                1             1   \n",
       "32  5008841            1             0                1             1   \n",
       "33  5008842            1             0                1             1   \n",
       "\n",
       "    AMT_INCOME_TOTAL  NAME_INCOME_TYPE  NAME_EDUCATION_TYPE  \\\n",
       "29          405000.0                 0                    1   \n",
       "30          405000.0                 0                    1   \n",
       "31          405000.0                 0                    1   \n",
       "32          405000.0                 0                    1   \n",
       "33          405000.0                 0                    1   \n",
       "\n",
       "    NAME_FAMILY_STATUS  NAME_HOUSING_TYPE  DAYS_BIRTH  DAYS_EMPLOYED  \\\n",
       "29                   1                  1      -11842          -2016   \n",
       "30                   1                  1      -11842          -2016   \n",
       "31                   1                  1      -11842          -2016   \n",
       "32                   1                  1      -11842          -2016   \n",
       "33                   1                  1      -11842          -2016   \n",
       "\n",
       "    FLAG_MOBIL  FLAG_WORK_PHONE  FLAG_PHONE  FLAG_EMAIL  CNT_FAM_MEMBERS  \\\n",
       "29           1                0           0           0              3.0   \n",
       "30           1                0           0           0              3.0   \n",
       "31           1                0           0           0              3.0   \n",
       "32           1                0           0           0              3.0   \n",
       "33           1                0           0           0              3.0   \n",
       "\n",
       "    STATUS  \n",
       "29       0  \n",
       "30       0  \n",
       "31       0  \n",
       "32       0  \n",
       "33       0  "
      ]
     },
     "execution_count": 28,
     "metadata": {},
     "output_type": "execute_result"
    }
   ],
   "source": [
    "df = app.join(crecordgb.set_index('ID'), on='ID', how='inner')\n",
    "df.drop(['Months from today', 'MONTHS_BALANCE'], axis=1, inplace=True)\n",
    "df.head()\n",
    "# no that this is joined, we will solve over sampling issue"
   ]
  },
  {
   "cell_type": "markdown",
   "metadata": {
    "papermill": {
     "duration": 0.050246,
     "end_time": "2021-01-19T16:43:27.318969",
     "exception": false,
     "start_time": "2021-01-19T16:43:27.268723",
     "status": "completed"
    },
    "tags": []
   },
   "source": [
    "df.info() # checking for number of rows. \n",
    "# there are 9516 rows."
   ]
  },
  {
   "cell_type": "code",
   "execution_count": 29,
   "metadata": {
    "execution": {
     "iopub.execute_input": "2021-01-19T16:43:27.424602Z",
     "iopub.status.busy": "2021-01-19T16:43:27.423648Z",
     "iopub.status.idle": "2021-01-19T16:43:27.436669Z",
     "shell.execute_reply": "2021-01-19T16:43:27.437119Z"
    },
    "papermill": {
     "duration": 0.067462,
     "end_time": "2021-01-19T16:43:27.437291",
     "exception": false,
     "start_time": "2021-01-19T16:43:27.369829",
     "status": "completed"
    },
    "tags": []
   },
   "outputs": [
    {
     "name": "stdout",
     "output_type": "stream",
     "text": [
      "<class 'pandas.core.frame.DataFrame'>\n",
      "Int64Index: 9516 entries, 29 to 434805\n",
      "Data columns (total 18 columns):\n",
      " #   Column               Non-Null Count  Dtype  \n",
      "---  ------               --------------  -----  \n",
      " 0   ID                   9516 non-null   int64  \n",
      " 1   CODE_GENDER          9516 non-null   int64  \n",
      " 2   FLAG_OWN_CAR         9516 non-null   int64  \n",
      " 3   FLAG_OWN_REALTY      9516 non-null   int64  \n",
      " 4   CNT_CHILDREN         9516 non-null   int64  \n",
      " 5   AMT_INCOME_TOTAL     9516 non-null   float64\n",
      " 6   NAME_INCOME_TYPE     9516 non-null   int64  \n",
      " 7   NAME_EDUCATION_TYPE  9516 non-null   int64  \n",
      " 8   NAME_FAMILY_STATUS   9516 non-null   int64  \n",
      " 9   NAME_HOUSING_TYPE    9516 non-null   int64  \n",
      " 10  DAYS_BIRTH           9516 non-null   int64  \n",
      " 11  DAYS_EMPLOYED        9516 non-null   int64  \n",
      " 12  FLAG_MOBIL           9516 non-null   int64  \n",
      " 13  FLAG_WORK_PHONE      9516 non-null   int64  \n",
      " 14  FLAG_PHONE           9516 non-null   int64  \n",
      " 15  FLAG_EMAIL           9516 non-null   int64  \n",
      " 16  CNT_FAM_MEMBERS      9516 non-null   float64\n",
      " 17  STATUS               9516 non-null   int64  \n",
      "dtypes: float64(2), int64(16)\n",
      "memory usage: 1.4 MB\n"
     ]
    }
   ],
   "source": [
    "df.info() # checking for number of rows. \n",
    "# there are 9516 rows."
   ]
  },
  {
   "cell_type": "code",
   "execution_count": 30,
   "metadata": {
    "execution": {
     "iopub.execute_input": "2021-01-19T16:43:27.546082Z",
     "iopub.status.busy": "2021-01-19T16:43:27.545423Z",
     "iopub.status.idle": "2021-01-19T16:43:27.547290Z",
     "shell.execute_reply": "2021-01-19T16:43:27.547974Z"
    },
    "papermill": {
     "duration": 0.059692,
     "end_time": "2021-01-19T16:43:27.548153",
     "exception": false,
     "start_time": "2021-01-19T16:43:27.488461",
     "status": "completed"
    },
    "tags": []
   },
   "outputs": [],
   "source": [
    "X = df.iloc[:,1:-1] # X value contains all the variables except labels\n",
    "y = df.iloc[:,-1] # these are the labels"
   ]
  },
  {
   "cell_type": "code",
   "execution_count": 31,
   "metadata": {
    "execution": {
     "iopub.execute_input": "2021-01-19T16:43:27.656053Z",
     "iopub.status.busy": "2021-01-19T16:43:27.655435Z",
     "iopub.status.idle": "2021-01-19T16:43:27.723244Z",
     "shell.execute_reply": "2021-01-19T16:43:27.722584Z"
    },
    "papermill": {
     "duration": 0.123154,
     "end_time": "2021-01-19T16:43:27.723369",
     "exception": false,
     "start_time": "2021-01-19T16:43:27.600215",
     "status": "completed"
    },
    "tags": []
   },
   "outputs": [],
   "source": [
    "from sklearn.model_selection import train_test_split\n",
    "X_train, X_test, y_train, y_test = train_test_split(X,y, test_size=0.3)\n",
    "# we create the test train split first"
   ]
  },
  {
   "cell_type": "code",
   "execution_count": 32,
   "metadata": {
    "execution": {
     "iopub.execute_input": "2021-01-19T16:43:27.830472Z",
     "iopub.status.busy": "2021-01-19T16:43:27.829852Z",
     "iopub.status.idle": "2021-01-19T16:43:27.843035Z",
     "shell.execute_reply": "2021-01-19T16:43:27.843584Z"
    },
    "papermill": {
     "duration": 0.068143,
     "end_time": "2021-01-19T16:43:27.843725",
     "exception": false,
     "start_time": "2021-01-19T16:43:27.775582",
     "status": "completed"
    },
    "tags": []
   },
   "outputs": [],
   "source": [
    "from sklearn.preprocessing import MinMaxScaler\n",
    "mms = MinMaxScaler()\n",
    "X_scaled = pd.DataFrame(mms.fit_transform(X_train), columns=X_train.columns)\n",
    "X_test_scaled = pd.DataFrame(mms.transform(X_test), columns=X_test.columns)\n",
    "# we have now fit and transform the data into a scaler for accurate reading and results."
   ]
  },
  {
   "cell_type": "code",
   "execution_count": 33,
   "metadata": {
    "execution": {
     "iopub.execute_input": "2021-01-19T16:43:27.950327Z",
     "iopub.status.busy": "2021-01-19T16:43:27.949700Z",
     "iopub.status.idle": "2021-01-19T16:43:28.313923Z",
     "shell.execute_reply": "2021-01-19T16:43:28.313374Z"
    },
    "papermill": {
     "duration": 0.418554,
     "end_time": "2021-01-19T16:43:28.314041",
     "exception": false,
     "start_time": "2021-01-19T16:43:27.895487",
     "status": "completed"
    },
    "tags": []
   },
   "outputs": [],
   "source": [
    "from imblearn.over_sampling import SMOTE\n",
    "oversample = SMOTE()\n",
    "X_balanced, y_balanced = oversample.fit_resample(X_scaled, y_train)\n",
    "X_test_balanced, y_test_balanced = oversample.fit_resample(X_test_scaled, y_test)\n",
    "# we have addressed the issue of oversampling here"
   ]
  },
  {
   "cell_type": "code",
   "execution_count": 34,
   "metadata": {
    "execution": {
     "iopub.execute_input": "2021-01-19T16:43:28.431006Z",
     "iopub.status.busy": "2021-01-19T16:43:28.430365Z",
     "iopub.status.idle": "2021-01-19T16:43:28.434318Z",
     "shell.execute_reply": "2021-01-19T16:43:28.433745Z"
    },
    "papermill": {
     "duration": 0.063541,
     "end_time": "2021-01-19T16:43:28.434454",
     "exception": false,
     "start_time": "2021-01-19T16:43:28.370913",
     "status": "completed"
    },
    "tags": []
   },
   "outputs": [
    {
     "data": {
      "text/plain": [
       "0    6562\n",
       "1      99\n",
       "Name: STATUS, dtype: int64"
      ]
     },
     "execution_count": 34,
     "metadata": {},
     "output_type": "execute_result"
    }
   ],
   "source": [
    "y_train.value_counts()"
   ]
  },
  {
   "cell_type": "code",
   "execution_count": 35,
   "metadata": {
    "execution": {
     "iopub.execute_input": "2021-01-19T16:43:28.544235Z",
     "iopub.status.busy": "2021-01-19T16:43:28.543565Z",
     "iopub.status.idle": "2021-01-19T16:43:28.548813Z",
     "shell.execute_reply": "2021-01-19T16:43:28.549400Z"
    },
    "papermill": {
     "duration": 0.062532,
     "end_time": "2021-01-19T16:43:28.549541",
     "exception": false,
     "start_time": "2021-01-19T16:43:28.487009",
     "status": "completed"
    },
    "tags": []
   },
   "outputs": [
    {
     "data": {
      "text/plain": [
       "1    6562\n",
       "0    6562\n",
       "Name: STATUS, dtype: int64"
      ]
     },
     "execution_count": 35,
     "metadata": {},
     "output_type": "execute_result"
    }
   ],
   "source": [
    "y_balanced.value_counts()"
   ]
  },
  {
   "cell_type": "code",
   "execution_count": 36,
   "metadata": {
    "execution": {
     "iopub.execute_input": "2021-01-19T16:43:28.659778Z",
     "iopub.status.busy": "2021-01-19T16:43:28.659065Z",
     "iopub.status.idle": "2021-01-19T16:43:28.666850Z",
     "shell.execute_reply": "2021-01-19T16:43:28.666184Z"
    },
    "papermill": {
     "duration": 0.064072,
     "end_time": "2021-01-19T16:43:28.666957",
     "exception": false,
     "start_time": "2021-01-19T16:43:28.602885",
     "status": "completed"
    },
    "tags": []
   },
   "outputs": [
    {
     "data": {
      "text/plain": [
       "0    2803\n",
       "1      52\n",
       "Name: STATUS, dtype: int64"
      ]
     },
     "execution_count": 36,
     "metadata": {},
     "output_type": "execute_result"
    }
   ],
   "source": [
    "y_test.value_counts()"
   ]
  },
  {
   "cell_type": "code",
   "execution_count": 37,
   "metadata": {
    "execution": {
     "iopub.execute_input": "2021-01-19T16:43:28.781851Z",
     "iopub.status.busy": "2021-01-19T16:43:28.780890Z",
     "iopub.status.idle": "2021-01-19T16:43:28.785407Z",
     "shell.execute_reply": "2021-01-19T16:43:28.784745Z"
    },
    "papermill": {
     "duration": 0.064906,
     "end_time": "2021-01-19T16:43:28.785513",
     "exception": false,
     "start_time": "2021-01-19T16:43:28.720607",
     "status": "completed"
    },
    "tags": []
   },
   "outputs": [
    {
     "data": {
      "text/plain": [
       "1    2803\n",
       "0    2803\n",
       "Name: STATUS, dtype: int64"
      ]
     },
     "execution_count": 37,
     "metadata": {},
     "output_type": "execute_result"
    }
   ],
   "source": [
    "y_test_balanced.value_counts()"
   ]
  },
  {
   "cell_type": "markdown",
   "metadata": {
    "papermill": {
     "duration": 0.053665,
     "end_time": "2021-01-19T16:43:28.893288",
     "exception": false,
     "start_time": "2021-01-19T16:43:28.839623",
     "status": "completed"
    },
    "tags": []
   },
   "source": [
    "* We notice in the value counts above that label types are now balanced\n",
    "* the problem of oversampling is solved now\n",
    "* we will now implement different models to see which one performs the best"
   ]
  },
  {
   "cell_type": "code",
   "execution_count": 38,
   "metadata": {
    "execution": {
     "iopub.execute_input": "2021-01-19T16:43:29.008089Z",
     "iopub.status.busy": "2021-01-19T16:43:29.007460Z",
     "iopub.status.idle": "2021-01-19T16:43:29.950668Z",
     "shell.execute_reply": "2021-01-19T16:43:29.951210Z"
    },
    "papermill": {
     "duration": 1.00278,
     "end_time": "2021-01-19T16:43:29.951365",
     "exception": false,
     "start_time": "2021-01-19T16:43:28.948585",
     "status": "completed"
    },
    "tags": []
   },
   "outputs": [],
   "source": [
    "from sklearn.linear_model import LogisticRegression\n",
    "from sklearn.neighbors import KNeighborsClassifier\n",
    "from sklearn.svm import SVC\n",
    "from sklearn.tree import DecisionTreeClassifier\n",
    "from sklearn.ensemble import RandomForestClassifier\n",
    "from xgboost import XGBClassifier"
   ]
  },
  {
   "cell_type": "code",
   "execution_count": 39,
   "metadata": {
    "execution": {
     "iopub.execute_input": "2021-01-19T16:43:30.067006Z",
     "iopub.status.busy": "2021-01-19T16:43:30.066330Z",
     "iopub.status.idle": "2021-01-19T16:43:30.069228Z",
     "shell.execute_reply": "2021-01-19T16:43:30.069742Z"
    },
    "papermill": {
     "duration": 0.063652,
     "end_time": "2021-01-19T16:43:30.069885",
     "exception": false,
     "start_time": "2021-01-19T16:43:30.006233",
     "status": "completed"
    },
    "tags": []
   },
   "outputs": [],
   "source": [
    "classifiers = {\n",
    "    \"LogisticRegression\" : LogisticRegression(),\n",
    "    \"KNeighbors\" : KNeighborsClassifier(),\n",
    "    \"SVC\" : SVC(),\n",
    "    \"DecisionTree\" : DecisionTreeClassifier(),\n",
    "    \"RandomForest\" : RandomForestClassifier(),\n",
    "    \"XGBoost\" : XGBClassifier()\n",
    "}"
   ]
  },
  {
   "cell_type": "code",
   "execution_count": 40,
   "metadata": {
    "execution": {
     "iopub.execute_input": "2021-01-19T16:43:30.188636Z",
     "iopub.status.busy": "2021-01-19T16:43:30.187882Z",
     "iopub.status.idle": "2021-01-19T16:43:41.587916Z",
     "shell.execute_reply": "2021-01-19T16:43:41.588993Z"
    },
    "papermill": {
     "duration": 11.464629,
     "end_time": "2021-01-19T16:43:41.589362",
     "exception": false,
     "start_time": "2021-01-19T16:43:30.124733",
     "status": "completed"
    },
    "tags": []
   },
   "outputs": [
    {
     "name": "stdout",
     "output_type": "stream",
     "text": [
      "[0.6156659555013715, 0.9849131362389515, 0.9400335263639135, 0.9951234379762267, 0.9951234379762267, 0.9950472416946053]\n",
      "[0.5651088119871566, 0.7320727791651802, 0.7549054584373885, 0.8241170174812701, 0.7684623617552622, 0.8662147698894042]\n"
     ]
    }
   ],
   "source": [
    "train_scores = []\n",
    "test_scores = []\n",
    "\n",
    "for key, classifier in classifiers.items():\n",
    "    classifier.fit(X_balanced, y_balanced)\n",
    "    train_score = classifier.score(X_balanced, y_balanced)\n",
    "    train_scores.append(train_score)\n",
    "    test_score = classifier.score(X_test_balanced, y_test_balanced)\n",
    "    test_scores.append(test_score)\n",
    "\n",
    "print(train_scores)\n",
    "print(test_scores)"
   ]
  },
  {
   "cell_type": "markdown",
   "metadata": {
    "papermill": {
     "duration": 0.071548,
     "end_time": "2021-01-19T16:43:41.732579",
     "exception": false,
     "start_time": "2021-01-19T16:43:41.661031",
     "status": "completed"
    },
    "tags": []
   },
   "source": [
    "* We found out that XGBoost model is performing best on the train set as well as test set with 91% accuracy\n",
    "* We will be using XGBoost to predict our values."
   ]
  },
  {
   "cell_type": "code",
   "execution_count": 41,
   "metadata": {
    "execution": {
     "iopub.execute_input": "2021-01-19T16:43:41.858744Z",
     "iopub.status.busy": "2021-01-19T16:43:41.858091Z",
     "iopub.status.idle": "2021-01-19T16:43:42.726305Z",
     "shell.execute_reply": "2021-01-19T16:43:42.726799Z"
    },
    "papermill": {
     "duration": 0.929373,
     "end_time": "2021-01-19T16:43:42.726946",
     "exception": false,
     "start_time": "2021-01-19T16:43:41.797573",
     "status": "completed"
    },
    "tags": []
   },
   "outputs": [],
   "source": [
    "xgb = XGBClassifier()\n",
    "model = xgb.fit(X_balanced, y_balanced)\n",
    "prediction = xgb.predict(X_test_balanced)"
   ]
  },
  {
   "cell_type": "code",
   "execution_count": 42,
   "metadata": {
    "execution": {
     "iopub.execute_input": "2021-01-19T16:43:42.939230Z",
     "iopub.status.busy": "2021-01-19T16:43:42.938553Z",
     "iopub.status.idle": "2021-01-19T16:43:42.959163Z",
     "shell.execute_reply": "2021-01-19T16:43:42.959827Z"
    },
    "papermill": {
     "duration": 0.116678,
     "end_time": "2021-01-19T16:43:42.959977",
     "exception": false,
     "start_time": "2021-01-19T16:43:42.843299",
     "status": "completed"
    },
    "tags": []
   },
   "outputs": [
    {
     "name": "stdout",
     "output_type": "stream",
     "text": [
      "              precision    recall  f1-score   support\n",
      "\n",
      "           0       0.79      0.99      0.88      2803\n",
      "           1       0.99      0.74      0.85      2803\n",
      "\n",
      "    accuracy                           0.87      5606\n",
      "   macro avg       0.89      0.87      0.86      5606\n",
      "weighted avg       0.89      0.87      0.86      5606\n",
      "\n"
     ]
    }
   ],
   "source": [
    "from sklearn.metrics import classification_report\n",
    "print(classification_report(y_test_balanced, prediction))"
   ]
  }
 ],
 "metadata": {
  "kernelspec": {
   "display_name": "Python 3",
   "language": "python",
   "name": "python3"
  },
  "language_info": {
   "codemirror_mode": {
    "name": "ipython",
    "version": 3
   },
   "file_extension": ".py",
   "mimetype": "text/x-python",
   "name": "python",
   "nbconvert_exporter": "python",
   "pygments_lexer": "ipython3",
   "version": "3.7.6"
  },
  "papermill": {
   "duration": 55.193378,
   "end_time": "2021-01-19T16:43:43.137737",
   "environment_variables": {},
   "exception": null,
   "input_path": "__notebook__.ipynb",
   "output_path": "__notebook__.ipynb",
   "parameters": {},
   "start_time": "2021-01-19T16:42:47.944359",
   "version": "2.1.0"
  }
 },
 "nbformat": 4,
 "nbformat_minor": 4
}
