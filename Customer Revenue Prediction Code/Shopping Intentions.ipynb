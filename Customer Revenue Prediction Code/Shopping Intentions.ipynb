{
 "cells": [
  {
   "cell_type": "code",
   "execution_count": 1,
   "metadata": {
    "executionInfo": {
     "elapsed": 3313,
     "status": "ok",
     "timestamp": 1622351984375,
     "user": {
      "displayName": "siddharth patra",
      "photoUrl": "https://lh3.googleusercontent.com/a-/AOh14Gjnwsdj5DKa95WHRl25dlQz9L1Bbc10vap4xTNIiA=s64",
      "userId": "01966341811263607507"
     },
     "user_tz": -330
    },
    "id": "_2Xi38OcZ5hn"
   },
   "outputs": [],
   "source": [
    "# Importing necessary libraries\n",
    "\n",
    "import numpy as np\n",
    "import pandas as pd\n",
    "import seaborn as sns\n",
    "import matplotlib.pyplot as plt\n",
    "%matplotlib inline \n",
    "\n",
    "from tensorflow.keras.models import Sequential\n",
    "from tensorflow.keras.layers import Dense"
   ]
  },
  {
   "cell_type": "code",
   "execution_count": 2,
   "metadata": {
    "colab": {
     "base_uri": "https://localhost:8080/",
     "height": 222
    },
    "executionInfo": {
     "elapsed": 40,
     "status": "ok",
     "timestamp": 1622351984378,
     "user": {
      "displayName": "siddharth patra",
      "photoUrl": "https://lh3.googleusercontent.com/a-/AOh14Gjnwsdj5DKa95WHRl25dlQz9L1Bbc10vap4xTNIiA=s64",
      "userId": "01966341811263607507"
     },
     "user_tz": -330
    },
    "id": "JEyEP9nXZ-_d",
    "outputId": "a141eb3c-8571-493b-cf9f-cc26ff4f2fd0"
   },
   "outputs": [
    {
     "data": {
      "text/html": [
       "<div>\n",
       "<style scoped>\n",
       "    .dataframe tbody tr th:only-of-type {\n",
       "        vertical-align: middle;\n",
       "    }\n",
       "\n",
       "    .dataframe tbody tr th {\n",
       "        vertical-align: top;\n",
       "    }\n",
       "\n",
       "    .dataframe thead th {\n",
       "        text-align: right;\n",
       "    }\n",
       "</style>\n",
       "<table border=\"1\" class=\"dataframe\">\n",
       "  <thead>\n",
       "    <tr style=\"text-align: right;\">\n",
       "      <th></th>\n",
       "      <th>Administrative</th>\n",
       "      <th>Administrative_Duration</th>\n",
       "      <th>Informational</th>\n",
       "      <th>Informational_Duration</th>\n",
       "      <th>ProductRelated</th>\n",
       "      <th>ProductRelated_Duration</th>\n",
       "      <th>BounceRates</th>\n",
       "      <th>ExitRates</th>\n",
       "      <th>PageValues</th>\n",
       "      <th>SpecialDay</th>\n",
       "      <th>Month</th>\n",
       "      <th>OperatingSystems</th>\n",
       "      <th>Browser</th>\n",
       "      <th>Region</th>\n",
       "      <th>TrafficType</th>\n",
       "      <th>VisitorType</th>\n",
       "      <th>Weekend</th>\n",
       "      <th>Revenue</th>\n",
       "    </tr>\n",
       "  </thead>\n",
       "  <tbody>\n",
       "    <tr>\n",
       "      <th>0</th>\n",
       "      <td>0</td>\n",
       "      <td>0.0</td>\n",
       "      <td>0</td>\n",
       "      <td>0.0</td>\n",
       "      <td>1</td>\n",
       "      <td>0.000000</td>\n",
       "      <td>0.20</td>\n",
       "      <td>0.20</td>\n",
       "      <td>0.0</td>\n",
       "      <td>0.0</td>\n",
       "      <td>Feb</td>\n",
       "      <td>1</td>\n",
       "      <td>1</td>\n",
       "      <td>1</td>\n",
       "      <td>1</td>\n",
       "      <td>Returning_Visitor</td>\n",
       "      <td>False</td>\n",
       "      <td>False</td>\n",
       "    </tr>\n",
       "    <tr>\n",
       "      <th>1</th>\n",
       "      <td>0</td>\n",
       "      <td>0.0</td>\n",
       "      <td>0</td>\n",
       "      <td>0.0</td>\n",
       "      <td>2</td>\n",
       "      <td>64.000000</td>\n",
       "      <td>0.00</td>\n",
       "      <td>0.10</td>\n",
       "      <td>0.0</td>\n",
       "      <td>0.0</td>\n",
       "      <td>Feb</td>\n",
       "      <td>2</td>\n",
       "      <td>2</td>\n",
       "      <td>1</td>\n",
       "      <td>2</td>\n",
       "      <td>Returning_Visitor</td>\n",
       "      <td>False</td>\n",
       "      <td>False</td>\n",
       "    </tr>\n",
       "    <tr>\n",
       "      <th>2</th>\n",
       "      <td>0</td>\n",
       "      <td>0.0</td>\n",
       "      <td>0</td>\n",
       "      <td>0.0</td>\n",
       "      <td>1</td>\n",
       "      <td>0.000000</td>\n",
       "      <td>0.20</td>\n",
       "      <td>0.20</td>\n",
       "      <td>0.0</td>\n",
       "      <td>0.0</td>\n",
       "      <td>Feb</td>\n",
       "      <td>4</td>\n",
       "      <td>1</td>\n",
       "      <td>9</td>\n",
       "      <td>3</td>\n",
       "      <td>Returning_Visitor</td>\n",
       "      <td>False</td>\n",
       "      <td>False</td>\n",
       "    </tr>\n",
       "    <tr>\n",
       "      <th>3</th>\n",
       "      <td>0</td>\n",
       "      <td>0.0</td>\n",
       "      <td>0</td>\n",
       "      <td>0.0</td>\n",
       "      <td>2</td>\n",
       "      <td>2.666667</td>\n",
       "      <td>0.05</td>\n",
       "      <td>0.14</td>\n",
       "      <td>0.0</td>\n",
       "      <td>0.0</td>\n",
       "      <td>Feb</td>\n",
       "      <td>3</td>\n",
       "      <td>2</td>\n",
       "      <td>2</td>\n",
       "      <td>4</td>\n",
       "      <td>Returning_Visitor</td>\n",
       "      <td>False</td>\n",
       "      <td>False</td>\n",
       "    </tr>\n",
       "    <tr>\n",
       "      <th>4</th>\n",
       "      <td>0</td>\n",
       "      <td>0.0</td>\n",
       "      <td>0</td>\n",
       "      <td>0.0</td>\n",
       "      <td>10</td>\n",
       "      <td>627.500000</td>\n",
       "      <td>0.02</td>\n",
       "      <td>0.05</td>\n",
       "      <td>0.0</td>\n",
       "      <td>0.0</td>\n",
       "      <td>Feb</td>\n",
       "      <td>3</td>\n",
       "      <td>3</td>\n",
       "      <td>1</td>\n",
       "      <td>4</td>\n",
       "      <td>Returning_Visitor</td>\n",
       "      <td>True</td>\n",
       "      <td>False</td>\n",
       "    </tr>\n",
       "  </tbody>\n",
       "</table>\n",
       "</div>"
      ],
      "text/plain": [
       "   Administrative  Administrative_Duration  Informational  \\\n",
       "0               0                      0.0              0   \n",
       "1               0                      0.0              0   \n",
       "2               0                      0.0              0   \n",
       "3               0                      0.0              0   \n",
       "4               0                      0.0              0   \n",
       "\n",
       "   Informational_Duration  ProductRelated  ProductRelated_Duration  \\\n",
       "0                     0.0               1                 0.000000   \n",
       "1                     0.0               2                64.000000   \n",
       "2                     0.0               1                 0.000000   \n",
       "3                     0.0               2                 2.666667   \n",
       "4                     0.0              10               627.500000   \n",
       "\n",
       "   BounceRates  ExitRates  PageValues  SpecialDay Month  OperatingSystems  \\\n",
       "0         0.20       0.20         0.0         0.0   Feb                 1   \n",
       "1         0.00       0.10         0.0         0.0   Feb                 2   \n",
       "2         0.20       0.20         0.0         0.0   Feb                 4   \n",
       "3         0.05       0.14         0.0         0.0   Feb                 3   \n",
       "4         0.02       0.05         0.0         0.0   Feb                 3   \n",
       "\n",
       "   Browser  Region  TrafficType        VisitorType  Weekend  Revenue  \n",
       "0        1       1            1  Returning_Visitor    False    False  \n",
       "1        2       1            2  Returning_Visitor    False    False  \n",
       "2        1       9            3  Returning_Visitor    False    False  \n",
       "3        2       2            4  Returning_Visitor    False    False  \n",
       "4        3       1            4  Returning_Visitor     True    False  "
      ]
     },
     "execution_count": 2,
     "metadata": {},
     "output_type": "execute_result"
    }
   ],
   "source": [
    "# dataset can be found here: https://www.kaggle.com/henrysue/online-shoppers-intention\n",
    "shop = pd.read_csv(\"online_shoppers_intention.csv\")\n",
    "shop.head()"
   ]
  },
  {
   "cell_type": "code",
   "execution_count": 3,
   "metadata": {
    "executionInfo": {
     "elapsed": 33,
     "status": "ok",
     "timestamp": 1622351984379,
     "user": {
      "displayName": "siddharth patra",
      "photoUrl": "https://lh3.googleusercontent.com/a-/AOh14Gjnwsdj5DKa95WHRl25dlQz9L1Bbc10vap4xTNIiA=s64",
      "userId": "01966341811263607507"
     },
     "user_tz": -330
    },
    "id": "S4Fjj4U2aGDZ"
   },
   "outputs": [],
   "source": [
    "# Out target column is: Revenue - A boolean representing whether or not the user completed the purchase."
   ]
  },
  {
   "cell_type": "code",
   "execution_count": 4,
   "metadata": {
    "colab": {
     "base_uri": "https://localhost:8080/",
     "height": 314
    },
    "executionInfo": {
     "elapsed": 31,
     "status": "ok",
     "timestamp": 1622351984381,
     "user": {
      "displayName": "siddharth patra",
      "photoUrl": "https://lh3.googleusercontent.com/a-/AOh14Gjnwsdj5DKa95WHRl25dlQz9L1Bbc10vap4xTNIiA=s64",
      "userId": "01966341811263607507"
     },
     "user_tz": -330
    },
    "id": "ER7Cs3zmalKh",
    "outputId": "b27ca90c-83ae-4768-a725-570e1dd1bedf"
   },
   "outputs": [
    {
     "data": {
      "text/html": [
       "<div>\n",
       "<style scoped>\n",
       "    .dataframe tbody tr th:only-of-type {\n",
       "        vertical-align: middle;\n",
       "    }\n",
       "\n",
       "    .dataframe tbody tr th {\n",
       "        vertical-align: top;\n",
       "    }\n",
       "\n",
       "    .dataframe thead th {\n",
       "        text-align: right;\n",
       "    }\n",
       "</style>\n",
       "<table border=\"1\" class=\"dataframe\">\n",
       "  <thead>\n",
       "    <tr style=\"text-align: right;\">\n",
       "      <th></th>\n",
       "      <th>Administrative</th>\n",
       "      <th>Administrative_Duration</th>\n",
       "      <th>Informational</th>\n",
       "      <th>Informational_Duration</th>\n",
       "      <th>ProductRelated</th>\n",
       "      <th>ProductRelated_Duration</th>\n",
       "      <th>BounceRates</th>\n",
       "      <th>ExitRates</th>\n",
       "      <th>PageValues</th>\n",
       "      <th>SpecialDay</th>\n",
       "      <th>OperatingSystems</th>\n",
       "      <th>Browser</th>\n",
       "      <th>Region</th>\n",
       "      <th>TrafficType</th>\n",
       "    </tr>\n",
       "  </thead>\n",
       "  <tbody>\n",
       "    <tr>\n",
       "      <th>count</th>\n",
       "      <td>12330.000000</td>\n",
       "      <td>12330.000000</td>\n",
       "      <td>12330.000000</td>\n",
       "      <td>12330.000000</td>\n",
       "      <td>12330.000000</td>\n",
       "      <td>12330.000000</td>\n",
       "      <td>12330.000000</td>\n",
       "      <td>12330.000000</td>\n",
       "      <td>12330.000000</td>\n",
       "      <td>12330.000000</td>\n",
       "      <td>12330.000000</td>\n",
       "      <td>12330.000000</td>\n",
       "      <td>12330.000000</td>\n",
       "      <td>12330.000000</td>\n",
       "    </tr>\n",
       "    <tr>\n",
       "      <th>mean</th>\n",
       "      <td>2.315166</td>\n",
       "      <td>80.818611</td>\n",
       "      <td>0.503569</td>\n",
       "      <td>34.472398</td>\n",
       "      <td>31.731468</td>\n",
       "      <td>1194.746220</td>\n",
       "      <td>0.022191</td>\n",
       "      <td>0.043073</td>\n",
       "      <td>5.889258</td>\n",
       "      <td>0.061427</td>\n",
       "      <td>2.124006</td>\n",
       "      <td>2.357097</td>\n",
       "      <td>3.147364</td>\n",
       "      <td>4.069586</td>\n",
       "    </tr>\n",
       "    <tr>\n",
       "      <th>std</th>\n",
       "      <td>3.321784</td>\n",
       "      <td>176.779107</td>\n",
       "      <td>1.270156</td>\n",
       "      <td>140.749294</td>\n",
       "      <td>44.475503</td>\n",
       "      <td>1913.669288</td>\n",
       "      <td>0.048488</td>\n",
       "      <td>0.048597</td>\n",
       "      <td>18.568437</td>\n",
       "      <td>0.198917</td>\n",
       "      <td>0.911325</td>\n",
       "      <td>1.717277</td>\n",
       "      <td>2.401591</td>\n",
       "      <td>4.025169</td>\n",
       "    </tr>\n",
       "    <tr>\n",
       "      <th>min</th>\n",
       "      <td>0.000000</td>\n",
       "      <td>0.000000</td>\n",
       "      <td>0.000000</td>\n",
       "      <td>0.000000</td>\n",
       "      <td>0.000000</td>\n",
       "      <td>0.000000</td>\n",
       "      <td>0.000000</td>\n",
       "      <td>0.000000</td>\n",
       "      <td>0.000000</td>\n",
       "      <td>0.000000</td>\n",
       "      <td>1.000000</td>\n",
       "      <td>1.000000</td>\n",
       "      <td>1.000000</td>\n",
       "      <td>1.000000</td>\n",
       "    </tr>\n",
       "    <tr>\n",
       "      <th>25%</th>\n",
       "      <td>0.000000</td>\n",
       "      <td>0.000000</td>\n",
       "      <td>0.000000</td>\n",
       "      <td>0.000000</td>\n",
       "      <td>7.000000</td>\n",
       "      <td>184.137500</td>\n",
       "      <td>0.000000</td>\n",
       "      <td>0.014286</td>\n",
       "      <td>0.000000</td>\n",
       "      <td>0.000000</td>\n",
       "      <td>2.000000</td>\n",
       "      <td>2.000000</td>\n",
       "      <td>1.000000</td>\n",
       "      <td>2.000000</td>\n",
       "    </tr>\n",
       "    <tr>\n",
       "      <th>50%</th>\n",
       "      <td>1.000000</td>\n",
       "      <td>7.500000</td>\n",
       "      <td>0.000000</td>\n",
       "      <td>0.000000</td>\n",
       "      <td>18.000000</td>\n",
       "      <td>598.936905</td>\n",
       "      <td>0.003112</td>\n",
       "      <td>0.025156</td>\n",
       "      <td>0.000000</td>\n",
       "      <td>0.000000</td>\n",
       "      <td>2.000000</td>\n",
       "      <td>2.000000</td>\n",
       "      <td>3.000000</td>\n",
       "      <td>2.000000</td>\n",
       "    </tr>\n",
       "    <tr>\n",
       "      <th>75%</th>\n",
       "      <td>4.000000</td>\n",
       "      <td>93.256250</td>\n",
       "      <td>0.000000</td>\n",
       "      <td>0.000000</td>\n",
       "      <td>38.000000</td>\n",
       "      <td>1464.157214</td>\n",
       "      <td>0.016813</td>\n",
       "      <td>0.050000</td>\n",
       "      <td>0.000000</td>\n",
       "      <td>0.000000</td>\n",
       "      <td>3.000000</td>\n",
       "      <td>2.000000</td>\n",
       "      <td>4.000000</td>\n",
       "      <td>4.000000</td>\n",
       "    </tr>\n",
       "    <tr>\n",
       "      <th>max</th>\n",
       "      <td>27.000000</td>\n",
       "      <td>3398.750000</td>\n",
       "      <td>24.000000</td>\n",
       "      <td>2549.375000</td>\n",
       "      <td>705.000000</td>\n",
       "      <td>63973.522230</td>\n",
       "      <td>0.200000</td>\n",
       "      <td>0.200000</td>\n",
       "      <td>361.763742</td>\n",
       "      <td>1.000000</td>\n",
       "      <td>8.000000</td>\n",
       "      <td>13.000000</td>\n",
       "      <td>9.000000</td>\n",
       "      <td>20.000000</td>\n",
       "    </tr>\n",
       "  </tbody>\n",
       "</table>\n",
       "</div>"
      ],
      "text/plain": [
       "       Administrative  Administrative_Duration  Informational  \\\n",
       "count    12330.000000             12330.000000   12330.000000   \n",
       "mean         2.315166                80.818611       0.503569   \n",
       "std          3.321784               176.779107       1.270156   \n",
       "min          0.000000                 0.000000       0.000000   \n",
       "25%          0.000000                 0.000000       0.000000   \n",
       "50%          1.000000                 7.500000       0.000000   \n",
       "75%          4.000000                93.256250       0.000000   \n",
       "max         27.000000              3398.750000      24.000000   \n",
       "\n",
       "       Informational_Duration  ProductRelated  ProductRelated_Duration  \\\n",
       "count            12330.000000    12330.000000             12330.000000   \n",
       "mean                34.472398       31.731468              1194.746220   \n",
       "std                140.749294       44.475503              1913.669288   \n",
       "min                  0.000000        0.000000                 0.000000   \n",
       "25%                  0.000000        7.000000               184.137500   \n",
       "50%                  0.000000       18.000000               598.936905   \n",
       "75%                  0.000000       38.000000              1464.157214   \n",
       "max               2549.375000      705.000000             63973.522230   \n",
       "\n",
       "        BounceRates     ExitRates    PageValues    SpecialDay  \\\n",
       "count  12330.000000  12330.000000  12330.000000  12330.000000   \n",
       "mean       0.022191      0.043073      5.889258      0.061427   \n",
       "std        0.048488      0.048597     18.568437      0.198917   \n",
       "min        0.000000      0.000000      0.000000      0.000000   \n",
       "25%        0.000000      0.014286      0.000000      0.000000   \n",
       "50%        0.003112      0.025156      0.000000      0.000000   \n",
       "75%        0.016813      0.050000      0.000000      0.000000   \n",
       "max        0.200000      0.200000    361.763742      1.000000   \n",
       "\n",
       "       OperatingSystems       Browser        Region   TrafficType  \n",
       "count      12330.000000  12330.000000  12330.000000  12330.000000  \n",
       "mean           2.124006      2.357097      3.147364      4.069586  \n",
       "std            0.911325      1.717277      2.401591      4.025169  \n",
       "min            1.000000      1.000000      1.000000      1.000000  \n",
       "25%            2.000000      2.000000      1.000000      2.000000  \n",
       "50%            2.000000      2.000000      3.000000      2.000000  \n",
       "75%            3.000000      2.000000      4.000000      4.000000  \n",
       "max            8.000000     13.000000      9.000000     20.000000  "
      ]
     },
     "execution_count": 4,
     "metadata": {},
     "output_type": "execute_result"
    }
   ],
   "source": [
    "shop.describe()"
   ]
  },
  {
   "cell_type": "code",
   "execution_count": 5,
   "metadata": {
    "colab": {
     "base_uri": "https://localhost:8080/"
    },
    "executionInfo": {
     "elapsed": 28,
     "status": "ok",
     "timestamp": 1622351984382,
     "user": {
      "displayName": "siddharth patra",
      "photoUrl": "https://lh3.googleusercontent.com/a-/AOh14Gjnwsdj5DKa95WHRl25dlQz9L1Bbc10vap4xTNIiA=s64",
      "userId": "01966341811263607507"
     },
     "user_tz": -330
    },
    "id": "CyTH9pyob3BQ",
    "outputId": "85bacab0-8844-4801-a75d-6431f97b26a9"
   },
   "outputs": [
    {
     "data": {
      "text/plain": [
       "(12330, 18)"
      ]
     },
     "execution_count": 5,
     "metadata": {},
     "output_type": "execute_result"
    }
   ],
   "source": [
    "shop.shape"
   ]
  },
  {
   "cell_type": "code",
   "execution_count": 6,
   "metadata": {
    "colab": {
     "base_uri": "https://localhost:8080/"
    },
    "executionInfo": {
     "elapsed": 24,
     "status": "ok",
     "timestamp": 1622351984383,
     "user": {
      "displayName": "siddharth patra",
      "photoUrl": "https://lh3.googleusercontent.com/a-/AOh14Gjnwsdj5DKa95WHRl25dlQz9L1Bbc10vap4xTNIiA=s64",
      "userId": "01966341811263607507"
     },
     "user_tz": -330
    },
    "id": "Pr7-EHmBb6Fm",
    "outputId": "d557bdfb-b980-4911-a789-35c6fa15657c"
   },
   "outputs": [
    {
     "data": {
      "text/plain": [
       "Administrative             0\n",
       "Administrative_Duration    0\n",
       "Informational              0\n",
       "Informational_Duration     0\n",
       "ProductRelated             0\n",
       "ProductRelated_Duration    0\n",
       "BounceRates                0\n",
       "ExitRates                  0\n",
       "PageValues                 0\n",
       "SpecialDay                 0\n",
       "Month                      0\n",
       "OperatingSystems           0\n",
       "Browser                    0\n",
       "Region                     0\n",
       "TrafficType                0\n",
       "VisitorType                0\n",
       "Weekend                    0\n",
       "Revenue                    0\n",
       "dtype: int64"
      ]
     },
     "execution_count": 6,
     "metadata": {},
     "output_type": "execute_result"
    }
   ],
   "source": [
    "shop.isnull().sum()"
   ]
  },
  {
   "cell_type": "code",
   "execution_count": 7,
   "metadata": {
    "colab": {
     "base_uri": "https://localhost:8080/",
     "height": 835
    },
    "executionInfo": {
     "elapsed": 2665,
     "status": "ok",
     "timestamp": 1622351987027,
     "user": {
      "displayName": "siddharth patra",
      "photoUrl": "https://lh3.googleusercontent.com/a-/AOh14Gjnwsdj5DKa95WHRl25dlQz9L1Bbc10vap4xTNIiA=s64",
      "userId": "01966341811263607507"
     },
     "user_tz": -330
    },
    "id": "xnUouc1-b8vE",
    "outputId": "517e776e-e433-4847-814c-7e58fe2faa21"
   },
   "outputs": [
    {
     "data": {
      "text/plain": [
       "<AxesSubplot:>"
      ]
     },
     "execution_count": 7,
     "metadata": {},
     "output_type": "execute_result"
    },
    {
     "data": {
      "image/png": "[encoded data removed]",
      "text/plain": [
       "<Figure size 864x864 with 2 Axes>"
      ]
     },
     "metadata": {
      "needs_background": "light"
     },
     "output_type": "display_data"
    }
   ],
   "source": [
    "plt.figure(figsize=(12,12))\n",
    "sns.heatmap(shop.corr(),annot=True,cmap='viridis',linewidths=.5)"
   ]
  },
  {
   "cell_type": "code",
   "execution_count": 8,
   "metadata": {
    "executionInfo": {
     "elapsed": 70,
     "status": "ok",
     "timestamp": 1622351987028,
     "user": {
      "displayName": "siddharth patra",
      "photoUrl": "https://lh3.googleusercontent.com/a-/AOh14Gjnwsdj5DKa95WHRl25dlQz9L1Bbc10vap4xTNIiA=s64",
      "userId": "01966341811263607507"
     },
     "user_tz": -330
    },
    "id": "fe8yZMf1s9AT"
   },
   "outputs": [],
   "source": [
    "shope = shop.drop(['Administrative', 'Informational', 'ProductRelated_Duration'], axis = 1)"
   ]
  },
  {
   "cell_type": "code",
   "execution_count": 9,
   "metadata": {
    "executionInfo": {
     "elapsed": 68,
     "status": "ok",
     "timestamp": 1622351987030,
     "user": {
      "displayName": "siddharth patra",
      "photoUrl": "https://lh3.googleusercontent.com/a-/AOh14Gjnwsdj5DKa95WHRl25dlQz9L1Bbc10vap4xTNIiA=s64",
      "userId": "01966341811263607507"
     },
     "user_tz": -330
    },
    "id": "sp9mEKWTcHsJ"
   },
   "outputs": [],
   "source": [
    "# Finding about categorical data"
   ]
  },
  {
   "cell_type": "code",
   "execution_count": 10,
   "metadata": {
    "colab": {
     "base_uri": "https://localhost:8080/",
     "height": 222
    },
    "executionInfo": {
     "elapsed": 67,
     "status": "ok",
     "timestamp": 1622351987032,
     "user": {
      "displayName": "siddharth patra",
      "photoUrl": "https://lh3.googleusercontent.com/a-/AOh14Gjnwsdj5DKa95WHRl25dlQz9L1Bbc10vap4xTNIiA=s64",
      "userId": "01966341811263607507"
     },
     "user_tz": -330
    },
    "id": "o1hVC_GxdFOK",
    "outputId": "0e24a8cb-fa60-4621-ea76-25d60236d695"
   },
   "outputs": [
    {
     "data": {
      "text/html": [
       "<div>\n",
       "<style scoped>\n",
       "    .dataframe tbody tr th:only-of-type {\n",
       "        vertical-align: middle;\n",
       "    }\n",
       "\n",
       "    .dataframe tbody tr th {\n",
       "        vertical-align: top;\n",
       "    }\n",
       "\n",
       "    .dataframe thead th {\n",
       "        text-align: right;\n",
       "    }\n",
       "</style>\n",
       "<table border=\"1\" class=\"dataframe\">\n",
       "  <thead>\n",
       "    <tr style=\"text-align: right;\">\n",
       "      <th></th>\n",
       "      <th>Administrative_Duration</th>\n",
       "      <th>Informational_Duration</th>\n",
       "      <th>ProductRelated</th>\n",
       "      <th>BounceRates</th>\n",
       "      <th>ExitRates</th>\n",
       "      <th>PageValues</th>\n",
       "      <th>SpecialDay</th>\n",
       "      <th>Month</th>\n",
       "      <th>OperatingSystems</th>\n",
       "      <th>Browser</th>\n",
       "      <th>Region</th>\n",
       "      <th>TrafficType</th>\n",
       "      <th>VisitorType</th>\n",
       "      <th>Weekend</th>\n",
       "      <th>Revenue</th>\n",
       "    </tr>\n",
       "  </thead>\n",
       "  <tbody>\n",
       "    <tr>\n",
       "      <th>0</th>\n",
       "      <td>0.0</td>\n",
       "      <td>0.0</td>\n",
       "      <td>1</td>\n",
       "      <td>0.20</td>\n",
       "      <td>0.20</td>\n",
       "      <td>0.0</td>\n",
       "      <td>0.0</td>\n",
       "      <td>Feb</td>\n",
       "      <td>1</td>\n",
       "      <td>1</td>\n",
       "      <td>1</td>\n",
       "      <td>1</td>\n",
       "      <td>Returning_Visitor</td>\n",
       "      <td>False</td>\n",
       "      <td>False</td>\n",
       "    </tr>\n",
       "    <tr>\n",
       "      <th>1</th>\n",
       "      <td>0.0</td>\n",
       "      <td>0.0</td>\n",
       "      <td>2</td>\n",
       "      <td>0.00</td>\n",
       "      <td>0.10</td>\n",
       "      <td>0.0</td>\n",
       "      <td>0.0</td>\n",
       "      <td>Feb</td>\n",
       "      <td>2</td>\n",
       "      <td>2</td>\n",
       "      <td>1</td>\n",
       "      <td>2</td>\n",
       "      <td>Returning_Visitor</td>\n",
       "      <td>False</td>\n",
       "      <td>False</td>\n",
       "    </tr>\n",
       "    <tr>\n",
       "      <th>2</th>\n",
       "      <td>0.0</td>\n",
       "      <td>0.0</td>\n",
       "      <td>1</td>\n",
       "      <td>0.20</td>\n",
       "      <td>0.20</td>\n",
       "      <td>0.0</td>\n",
       "      <td>0.0</td>\n",
       "      <td>Feb</td>\n",
       "      <td>4</td>\n",
       "      <td>1</td>\n",
       "      <td>9</td>\n",
       "      <td>3</td>\n",
       "      <td>Returning_Visitor</td>\n",
       "      <td>False</td>\n",
       "      <td>False</td>\n",
       "    </tr>\n",
       "    <tr>\n",
       "      <th>3</th>\n",
       "      <td>0.0</td>\n",
       "      <td>0.0</td>\n",
       "      <td>2</td>\n",
       "      <td>0.05</td>\n",
       "      <td>0.14</td>\n",
       "      <td>0.0</td>\n",
       "      <td>0.0</td>\n",
       "      <td>Feb</td>\n",
       "      <td>3</td>\n",
       "      <td>2</td>\n",
       "      <td>2</td>\n",
       "      <td>4</td>\n",
       "      <td>Returning_Visitor</td>\n",
       "      <td>False</td>\n",
       "      <td>False</td>\n",
       "    </tr>\n",
       "    <tr>\n",
       "      <th>4</th>\n",
       "      <td>0.0</td>\n",
       "      <td>0.0</td>\n",
       "      <td>10</td>\n",
       "      <td>0.02</td>\n",
       "      <td>0.05</td>\n",
       "      <td>0.0</td>\n",
       "      <td>0.0</td>\n",
       "      <td>Feb</td>\n",
       "      <td>3</td>\n",
       "      <td>3</td>\n",
       "      <td>1</td>\n",
       "      <td>4</td>\n",
       "      <td>Returning_Visitor</td>\n",
       "      <td>True</td>\n",
       "      <td>False</td>\n",
       "    </tr>\n",
       "  </tbody>\n",
       "</table>\n",
       "</div>"
      ],
      "text/plain": [
       "   Administrative_Duration  Informational_Duration  ProductRelated  \\\n",
       "0                      0.0                     0.0               1   \n",
       "1                      0.0                     0.0               2   \n",
       "2                      0.0                     0.0               1   \n",
       "3                      0.0                     0.0               2   \n",
       "4                      0.0                     0.0              10   \n",
       "\n",
       "   BounceRates  ExitRates  PageValues  SpecialDay Month  OperatingSystems  \\\n",
       "0         0.20       0.20         0.0         0.0   Feb                 1   \n",
       "1         0.00       0.10         0.0         0.0   Feb                 2   \n",
       "2         0.20       0.20         0.0         0.0   Feb                 4   \n",
       "3         0.05       0.14         0.0         0.0   Feb                 3   \n",
       "4         0.02       0.05         0.0         0.0   Feb                 3   \n",
       "\n",
       "   Browser  Region  TrafficType        VisitorType  Weekend  Revenue  \n",
       "0        1       1            1  Returning_Visitor    False    False  \n",
       "1        2       1            2  Returning_Visitor    False    False  \n",
       "2        1       9            3  Returning_Visitor    False    False  \n",
       "3        2       2            4  Returning_Visitor    False    False  \n",
       "4        3       1            4  Returning_Visitor     True    False  "
      ]
     },
     "execution_count": 10,
     "metadata": {},
     "output_type": "execute_result"
    }
   ],
   "source": [
    "shope.head()"
   ]
  },
  {
   "cell_type": "code",
   "execution_count": 11,
   "metadata": {
    "colab": {
     "base_uri": "https://localhost:8080/"
    },
    "executionInfo": {
     "elapsed": 62,
     "status": "ok",
     "timestamp": 1622351987033,
     "user": {
      "displayName": "siddharth patra",
      "photoUrl": "https://lh3.googleusercontent.com/a-/AOh14Gjnwsdj5DKa95WHRl25dlQz9L1Bbc10vap4xTNIiA=s64",
      "userId": "01966341811263607507"
     },
     "user_tz": -330
    },
    "id": "5kr4EBSRdFur",
    "outputId": "1e7e30b6-cb05-4ae4-bd29-1ada8055c577"
   },
   "outputs": [
    {
     "data": {
      "text/plain": [
       "1      622\n",
       "2      465\n",
       "3      458\n",
       "4      404\n",
       "6      396\n",
       "      ... \n",
       "243      1\n",
       "409      1\n",
       "262      1\n",
       "414      1\n",
       "192      1\n",
       "Name: ProductRelated, Length: 311, dtype: int64"
      ]
     },
     "execution_count": 11,
     "metadata": {},
     "output_type": "execute_result"
    }
   ],
   "source": [
    "shope['ProductRelated'].value_counts() # a categorical type but the data is too spread (ranges from 1 too 399)"
   ]
  },
  {
   "cell_type": "code",
   "execution_count": 12,
   "metadata": {
    "colab": {
     "base_uri": "https://localhost:8080/"
    },
    "executionInfo": {
     "elapsed": 55,
     "status": "ok",
     "timestamp": 1622351987035,
     "user": {
      "displayName": "siddharth patra",
      "photoUrl": "https://lh3.googleusercontent.com/a-/AOh14Gjnwsdj5DKa95WHRl25dlQz9L1Bbc10vap4xTNIiA=s64",
      "userId": "01966341811263607507"
     },
     "user_tz": -330
    },
    "id": "hMkGz8M8dF0a",
    "outputId": "7cc997b2-62ad-4fcb-b493-0166929d5356"
   },
   "outputs": [
    {
     "data": {
      "text/plain": [
       "May     3364\n",
       "Nov     2998\n",
       "Mar     1907\n",
       "Dec     1727\n",
       "Oct      549\n",
       "Sep      448\n",
       "Aug      433\n",
       "Jul      432\n",
       "June     288\n",
       "Feb      184\n",
       "Name: Month, dtype: int64"
      ]
     },
     "execution_count": 12,
     "metadata": {},
     "output_type": "execute_result"
    }
   ],
   "source": [
    "shope['Month'].value_counts()"
   ]
  },
  {
   "cell_type": "code",
   "execution_count": 13,
   "metadata": {
    "colab": {
     "base_uri": "https://localhost:8080/"
    },
    "executionInfo": {
     "elapsed": 51,
     "status": "ok",
     "timestamp": 1622351987037,
     "user": {
      "displayName": "siddharth patra",
      "photoUrl": "https://lh3.googleusercontent.com/a-/AOh14Gjnwsdj5DKa95WHRl25dlQz9L1Bbc10vap4xTNIiA=s64",
      "userId": "01966341811263607507"
     },
     "user_tz": -330
    },
    "id": "6Oo16AjpdlIb",
    "outputId": "ab0a960e-b5b8-401b-a32b-a2e064c25795"
   },
   "outputs": [
    {
     "data": {
      "text/plain": [
       "2    6601\n",
       "1    2585\n",
       "3    2555\n",
       "4     478\n",
       "8      79\n",
       "6      19\n",
       "7       7\n",
       "5       6\n",
       "Name: OperatingSystems, dtype: int64"
      ]
     },
     "execution_count": 13,
     "metadata": {},
     "output_type": "execute_result"
    }
   ],
   "source": [
    "shope['OperatingSystems'].value_counts()"
   ]
  },
  {
   "cell_type": "code",
   "execution_count": 14,
   "metadata": {
    "colab": {
     "base_uri": "https://localhost:8080/"
    },
    "executionInfo": {
     "elapsed": 48,
     "status": "ok",
     "timestamp": 1622351987038,
     "user": {
      "displayName": "siddharth patra",
      "photoUrl": "https://lh3.googleusercontent.com/a-/AOh14Gjnwsdj5DKa95WHRl25dlQz9L1Bbc10vap4xTNIiA=s64",
      "userId": "01966341811263607507"
     },
     "user_tz": -330
    },
    "id": "P3OmyFaedqpJ",
    "outputId": "7ba2bcae-981c-40d4-8708-df39332d1ad8"
   },
   "outputs": [
    {
     "data": {
      "text/plain": [
       "Returning_Visitor    10551\n",
       "New_Visitor           1694\n",
       "Other                   85\n",
       "Name: VisitorType, dtype: int64"
      ]
     },
     "execution_count": 14,
     "metadata": {},
     "output_type": "execute_result"
    }
   ],
   "source": [
    "shope['VisitorType'].value_counts()"
   ]
  },
  {
   "cell_type": "code",
   "execution_count": 15,
   "metadata": {
    "colab": {
     "base_uri": "https://localhost:8080/"
    },
    "executionInfo": {
     "elapsed": 11,
     "status": "ok",
     "timestamp": 1622352928124,
     "user": {
      "displayName": "siddharth patra",
      "photoUrl": "https://lh3.googleusercontent.com/a-/AOh14Gjnwsdj5DKa95WHRl25dlQz9L1Bbc10vap4xTNIiA=s64",
      "userId": "01966341811263607507"
     },
     "user_tz": -330
    },
    "id": "Yc8T66wCxLdv",
    "outputId": "b6c02bdf-7a41-4c1e-9679-f86efca5dc44"
   },
   "outputs": [
    {
     "data": {
      "text/plain": [
       "2     7961\n",
       "1     2462\n",
       "4      736\n",
       "5      467\n",
       "6      174\n",
       "10     163\n",
       "8      135\n",
       "3      105\n",
       "13      61\n",
       "7       49\n",
       "12      10\n",
       "11       6\n",
       "9        1\n",
       "Name: Browser, dtype: int64"
      ]
     },
     "execution_count": 15,
     "metadata": {},
     "output_type": "execute_result"
    }
   ],
   "source": [
    "shope['Browser'].value_counts()"
   ]
  },
  {
   "cell_type": "code",
   "execution_count": 16,
   "metadata": {
    "colab": {
     "base_uri": "https://localhost:8080/"
    },
    "executionInfo": {
     "elapsed": 621,
     "status": "ok",
     "timestamp": 1622353267480,
     "user": {
      "displayName": "siddharth patra",
      "photoUrl": "https://lh3.googleusercontent.com/a-/AOh14Gjnwsdj5DKa95WHRl25dlQz9L1Bbc10vap4xTNIiA=s64",
      "userId": "01966341811263607507"
     },
     "user_tz": -330
    },
    "id": "x5CmoCjNyijs",
    "outputId": "997a88cb-9d10-407e-c9a5-5af63492cc95"
   },
   "outputs": [
    {
     "data": {
      "text/plain": [
       "1    4780\n",
       "3    2403\n",
       "4    1182\n",
       "2    1136\n",
       "6     805\n",
       "7     761\n",
       "9     511\n",
       "8     434\n",
       "5     318\n",
       "Name: Region, dtype: int64"
      ]
     },
     "execution_count": 16,
     "metadata": {},
     "output_type": "execute_result"
    }
   ],
   "source": [
    "shope['Region'].value_counts()"
   ]
  },
  {
   "cell_type": "code",
   "execution_count": 17,
   "metadata": {
    "colab": {
     "base_uri": "https://localhost:8080/",
     "height": 222
    },
    "executionInfo": {
     "elapsed": 49,
     "status": "ok",
     "timestamp": 1622351987042,
     "user": {
      "displayName": "siddharth patra",
      "photoUrl": "https://lh3.googleusercontent.com/a-/AOh14Gjnwsdj5DKa95WHRl25dlQz9L1Bbc10vap4xTNIiA=s64",
      "userId": "01966341811263607507"
     },
     "user_tz": -330
    },
    "id": "EYwqgZr8dzTP",
    "outputId": "85e00b4a-7d40-4210-9f56-67540e808e90"
   },
   "outputs": [
    {
     "data": {
      "text/html": [
       "<div>\n",
       "<style scoped>\n",
       "    .dataframe tbody tr th:only-of-type {\n",
       "        vertical-align: middle;\n",
       "    }\n",
       "\n",
       "    .dataframe tbody tr th {\n",
       "        vertical-align: top;\n",
       "    }\n",
       "\n",
       "    .dataframe thead th {\n",
       "        text-align: right;\n",
       "    }\n",
       "</style>\n",
       "<table border=\"1\" class=\"dataframe\">\n",
       "  <thead>\n",
       "    <tr style=\"text-align: right;\">\n",
       "      <th></th>\n",
       "      <th>Administrative_Duration</th>\n",
       "      <th>Informational_Duration</th>\n",
       "      <th>ProductRelated</th>\n",
       "      <th>BounceRates</th>\n",
       "      <th>ExitRates</th>\n",
       "      <th>PageValues</th>\n",
       "      <th>SpecialDay</th>\n",
       "      <th>Month</th>\n",
       "      <th>OperatingSystems</th>\n",
       "      <th>Browser</th>\n",
       "      <th>Region</th>\n",
       "      <th>TrafficType</th>\n",
       "      <th>VisitorType</th>\n",
       "      <th>Weekend</th>\n",
       "      <th>Revenue</th>\n",
       "      <th>New_Visitor</th>\n",
       "      <th>Other</th>\n",
       "      <th>Returning_Visitor</th>\n",
       "    </tr>\n",
       "  </thead>\n",
       "  <tbody>\n",
       "    <tr>\n",
       "      <th>0</th>\n",
       "      <td>0.0</td>\n",
       "      <td>0.0</td>\n",
       "      <td>1</td>\n",
       "      <td>0.20</td>\n",
       "      <td>0.20</td>\n",
       "      <td>0.0</td>\n",
       "      <td>0.0</td>\n",
       "      <td>Feb</td>\n",
       "      <td>1</td>\n",
       "      <td>1</td>\n",
       "      <td>1</td>\n",
       "      <td>1</td>\n",
       "      <td>Returning_Visitor</td>\n",
       "      <td>False</td>\n",
       "      <td>False</td>\n",
       "      <td>0</td>\n",
       "      <td>0</td>\n",
       "      <td>1</td>\n",
       "    </tr>\n",
       "    <tr>\n",
       "      <th>1</th>\n",
       "      <td>0.0</td>\n",
       "      <td>0.0</td>\n",
       "      <td>2</td>\n",
       "      <td>0.00</td>\n",
       "      <td>0.10</td>\n",
       "      <td>0.0</td>\n",
       "      <td>0.0</td>\n",
       "      <td>Feb</td>\n",
       "      <td>2</td>\n",
       "      <td>2</td>\n",
       "      <td>1</td>\n",
       "      <td>2</td>\n",
       "      <td>Returning_Visitor</td>\n",
       "      <td>False</td>\n",
       "      <td>False</td>\n",
       "      <td>0</td>\n",
       "      <td>0</td>\n",
       "      <td>1</td>\n",
       "    </tr>\n",
       "    <tr>\n",
       "      <th>2</th>\n",
       "      <td>0.0</td>\n",
       "      <td>0.0</td>\n",
       "      <td>1</td>\n",
       "      <td>0.20</td>\n",
       "      <td>0.20</td>\n",
       "      <td>0.0</td>\n",
       "      <td>0.0</td>\n",
       "      <td>Feb</td>\n",
       "      <td>4</td>\n",
       "      <td>1</td>\n",
       "      <td>9</td>\n",
       "      <td>3</td>\n",
       "      <td>Returning_Visitor</td>\n",
       "      <td>False</td>\n",
       "      <td>False</td>\n",
       "      <td>0</td>\n",
       "      <td>0</td>\n",
       "      <td>1</td>\n",
       "    </tr>\n",
       "    <tr>\n",
       "      <th>3</th>\n",
       "      <td>0.0</td>\n",
       "      <td>0.0</td>\n",
       "      <td>2</td>\n",
       "      <td>0.05</td>\n",
       "      <td>0.14</td>\n",
       "      <td>0.0</td>\n",
       "      <td>0.0</td>\n",
       "      <td>Feb</td>\n",
       "      <td>3</td>\n",
       "      <td>2</td>\n",
       "      <td>2</td>\n",
       "      <td>4</td>\n",
       "      <td>Returning_Visitor</td>\n",
       "      <td>False</td>\n",
       "      <td>False</td>\n",
       "      <td>0</td>\n",
       "      <td>0</td>\n",
       "      <td>1</td>\n",
       "    </tr>\n",
       "    <tr>\n",
       "      <th>4</th>\n",
       "      <td>0.0</td>\n",
       "      <td>0.0</td>\n",
       "      <td>10</td>\n",
       "      <td>0.02</td>\n",
       "      <td>0.05</td>\n",
       "      <td>0.0</td>\n",
       "      <td>0.0</td>\n",
       "      <td>Feb</td>\n",
       "      <td>3</td>\n",
       "      <td>3</td>\n",
       "      <td>1</td>\n",
       "      <td>4</td>\n",
       "      <td>Returning_Visitor</td>\n",
       "      <td>True</td>\n",
       "      <td>False</td>\n",
       "      <td>0</td>\n",
       "      <td>0</td>\n",
       "      <td>1</td>\n",
       "    </tr>\n",
       "  </tbody>\n",
       "</table>\n",
       "</div>"
      ],
      "text/plain": [
       "   Administrative_Duration  Informational_Duration  ProductRelated  \\\n",
       "0                      0.0                     0.0               1   \n",
       "1                      0.0                     0.0               2   \n",
       "2                      0.0                     0.0               1   \n",
       "3                      0.0                     0.0               2   \n",
       "4                      0.0                     0.0              10   \n",
       "\n",
       "   BounceRates  ExitRates  PageValues  SpecialDay Month  OperatingSystems  \\\n",
       "0         0.20       0.20         0.0         0.0   Feb                 1   \n",
       "1         0.00       0.10         0.0         0.0   Feb                 2   \n",
       "2         0.20       0.20         0.0         0.0   Feb                 4   \n",
       "3         0.05       0.14         0.0         0.0   Feb                 3   \n",
       "4         0.02       0.05         0.0         0.0   Feb                 3   \n",
       "\n",
       "   Browser  Region  TrafficType        VisitorType  Weekend  Revenue  \\\n",
       "0        1       1            1  Returning_Visitor    False    False   \n",
       "1        2       1            2  Returning_Visitor    False    False   \n",
       "2        1       9            3  Returning_Visitor    False    False   \n",
       "3        2       2            4  Returning_Visitor    False    False   \n",
       "4        3       1            4  Returning_Visitor     True    False   \n",
       "\n",
       "   New_Visitor  Other  Returning_Visitor  \n",
       "0            0      0                  1  \n",
       "1            0      0                  1  \n",
       "2            0      0                  1  \n",
       "3            0      0                  1  \n",
       "4            0      0                  1  "
      ]
     },
     "execution_count": 17,
     "metadata": {},
     "output_type": "execute_result"
    }
   ],
   "source": [
    "visitor = pd.get_dummies(shope['VisitorType'])\n",
    "\n",
    "X = pd.concat([shope, visitor], axis=1)\n",
    "X.head()"
   ]
  },
  {
   "cell_type": "code",
   "execution_count": 18,
   "metadata": {
    "colab": {
     "base_uri": "https://localhost:8080/"
    },
    "executionInfo": {
     "elapsed": 48,
     "status": "ok",
     "timestamp": 1622351987043,
     "user": {
      "displayName": "siddharth patra",
      "photoUrl": "https://lh3.googleusercontent.com/a-/AOh14Gjnwsdj5DKa95WHRl25dlQz9L1Bbc10vap4xTNIiA=s64",
      "userId": "01966341811263607507"
     },
     "user_tz": -330
    },
    "id": "fFviUSNseCFa",
    "outputId": "e11aa192-c944-4ed8-d14b-25d583a7cdaf"
   },
   "outputs": [
    {
     "data": {
      "text/plain": [
       "Index(['Administrative_Duration', 'Informational_Duration', 'ProductRelated',\n",
       "       'BounceRates', 'ExitRates', 'PageValues', 'SpecialDay', 'Month',\n",
       "       'OperatingSystems', 'Browser', 'Region', 'TrafficType', 'VisitorType',\n",
       "       'Weekend', 'Revenue', 'New_Visitor', 'Other', 'Returning_Visitor'],\n",
       "      dtype='object')"
      ]
     },
     "execution_count": 18,
     "metadata": {},
     "output_type": "execute_result"
    }
   ],
   "source": [
    "# Now we have build some features and extracted some feature data, whats left is to remove redundant features\n",
    "X.columns"
   ]
  },
  {
   "cell_type": "code",
   "execution_count": 19,
   "metadata": {
    "executionInfo": {
     "elapsed": 45,
     "status": "ok",
     "timestamp": 1622351987044,
     "user": {
      "displayName": "siddharth patra",
      "photoUrl": "https://lh3.googleusercontent.com/a-/AOh14Gjnwsdj5DKa95WHRl25dlQz9L1Bbc10vap4xTNIiA=s64",
      "userId": "01966341811263607507"
     },
     "user_tz": -330
    },
    "id": "AEtkxyhYfdCl"
   },
   "outputs": [],
   "source": [
    "y = X['Revenue']\n",
    "X_new = X.drop(['Revenue', 'Month', 'VisitorType'], axis = 1)"
   ]
  },
  {
   "cell_type": "code",
   "execution_count": 20,
   "metadata": {
    "executionInfo": {
     "elapsed": 47,
     "status": "ok",
     "timestamp": 1622351987046,
     "user": {
      "displayName": "siddharth patra",
      "photoUrl": "https://lh3.googleusercontent.com/a-/AOh14Gjnwsdj5DKa95WHRl25dlQz9L1Bbc10vap4xTNIiA=s64",
      "userId": "01966341811263607507"
     },
     "user_tz": -330
    },
    "id": "cR32AEGTjtwJ"
   },
   "outputs": [],
   "source": [
    "X_new['Weekend'] = np.asarray(X_new['Weekend']).astype(np.float32)\n",
    "\n",
    "y = np.asarray(y).astype(np.float32)"
   ]
  },
  {
   "cell_type": "code",
   "execution_count": 21,
   "metadata": {
    "colab": {
     "base_uri": "https://localhost:8080/"
    },
    "executionInfo": {
     "elapsed": 45,
     "status": "ok",
     "timestamp": 1622351987047,
     "user": {
      "displayName": "siddharth patra",
      "photoUrl": "https://lh3.googleusercontent.com/a-/AOh14Gjnwsdj5DKa95WHRl25dlQz9L1Bbc10vap4xTNIiA=s64",
      "userId": "01966341811263607507"
     },
     "user_tz": -330
    },
    "id": "sNUQjQZAj0HB",
    "outputId": "afee6ade-5a45-4e54-8046-212fdb8b3b70"
   },
   "outputs": [
    {
     "data": {
      "text/plain": [
       "(12330,)"
      ]
     },
     "execution_count": 21,
     "metadata": {},
     "output_type": "execute_result"
    }
   ],
   "source": [
    "# The above code converts the boolean values to float type - actaully it converts all the data into float type. This has been done so that\n",
    "# the sequential model is able to build tensors out of them\n",
    "y.shape"
   ]
  },
  {
   "cell_type": "code",
   "execution_count": 22,
   "metadata": {
    "colab": {
     "base_uri": "https://localhost:8080/"
    },
    "executionInfo": {
     "elapsed": 44,
     "status": "ok",
     "timestamp": 1622351987048,
     "user": {
      "displayName": "siddharth patra",
      "photoUrl": "https://lh3.googleusercontent.com/a-/AOh14Gjnwsdj5DKa95WHRl25dlQz9L1Bbc10vap4xTNIiA=s64",
      "userId": "01966341811263607507"
     },
     "user_tz": -330
    },
    "id": "dok_EG_2k7Wk",
    "outputId": "94c9b341-3f66-45f3-dec2-7129c67924a0"
   },
   "outputs": [
    {
     "data": {
      "text/plain": [
       "(12330, 15)"
      ]
     },
     "execution_count": 22,
     "metadata": {},
     "output_type": "execute_result"
    }
   ],
   "source": [
    "X_new.shape"
   ]
  },
  {
   "cell_type": "code",
   "execution_count": 23,
   "metadata": {
    "executionInfo": {
     "elapsed": 42,
     "status": "ok",
     "timestamp": 1622351987049,
     "user": {
      "displayName": "siddharth patra",
      "photoUrl": "https://lh3.googleusercontent.com/a-/AOh14Gjnwsdj5DKa95WHRl25dlQz9L1Bbc10vap4xTNIiA=s64",
      "userId": "01966341811263607507"
     },
     "user_tz": -330
    },
    "id": "l6mnMB36eCJv"
   },
   "outputs": [],
   "source": [
    "model = Sequential()\n",
    "model.add(Dense(units=18,activation=\"relu\"))\n",
    "model.add(Dense(units=32,activation=\"relu\"))\n",
    "model.add(Dense(units=16,activation=\"relu\"))\n",
    "\n",
    "# Last layer for multi-class classification of 3 species\n",
    "model.add(Dense(units=2,activation=\"softmax\"))\n",
    "model.compile(optimizer='adam',loss='sparse_categorical_crossentropy',metrics=['accuracy'])"
   ]
  },
  {
   "cell_type": "code",
   "execution_count": 24,
   "metadata": {
    "colab": {
     "base_uri": "https://localhost:8080/",
     "height": 105
    },
    "executionInfo": {
     "elapsed": 44,
     "status": "ok",
     "timestamp": 1622351987051,
     "user": {
      "displayName": "siddharth patra",
      "photoUrl": "https://lh3.googleusercontent.com/a-/AOh14Gjnwsdj5DKa95WHRl25dlQz9L1Bbc10vap4xTNIiA=s64",
      "userId": "01966341811263607507"
     },
     "user_tz": -330
    },
    "id": "Eg0bdMuweCNm",
    "outputId": "882cc270-8cb5-4074-8df7-fadc0f4790e4"
   },
   "outputs": [
    {
     "data": {
      "text/plain": [
       "'\\nIn the above code, we have started with creating a Sequential Keras model with the first layer as dense having 4 inputs for the 4 columns \\nin our X (Sepal Length, Sepal Width, Petal Length, Petal Width).\\n\\nAfter this, we have added 2 hidden layers and using “relu” as the activation function for all the layers except the last one.\\nThe last layer contains 2 units for 2 respective classes of Revenue (False, True) with “softmax” activation \\nfunction as we are dealing with Multi-Class classification problem, also while compiling the model we are using “adam” optimizer along \\nwith “accuracy” as metrics to maximize the same and minimizing our defined loss “categorical_crossentropy” with each epoch.\\n'"
      ]
     },
     "execution_count": 24,
     "metadata": {},
     "output_type": "execute_result"
    }
   ],
   "source": [
    "\"\"\"\n",
    "In the above code, we have started with creating a Sequential Keras model with the first layer as dense having 4 inputs for the 4 columns \n",
    "in our X (Sepal Length, Sepal Width, Petal Length, Petal Width).\n",
    "\n",
    "After this, we have added 2 hidden layers and using “relu” as the activation function for all the layers except the last one.\n",
    "The last layer contains 2 units for 2 respective classes of Revenue (False, True) with “softmax” activation \n",
    "function as we are dealing with Multi-Class classification problem, also while compiling the model we are using “adam” optimizer along \n",
    "with “accuracy” as metrics to maximize the same and minimizing our defined loss “categorical_crossentropy” with each epoch.\n",
    "\"\"\""
   ]
  },
  {
   "cell_type": "code",
   "execution_count": 25,
   "metadata": {
    "colab": {
     "base_uri": "https://localhost:8080/"
    },
    "executionInfo": {
     "elapsed": 53767,
     "status": "ok",
     "timestamp": 1622352040776,
     "user": {
      "displayName": "siddharth patra",
      "photoUrl": "https://lh3.googleusercontent.com/a-/AOh14Gjnwsdj5DKa95WHRl25dlQz9L1Bbc10vap4xTNIiA=s64",
      "userId": "01966341811263607507"
     },
     "user_tz": -330
    },
    "id": "hoHdJrsxeCRd",
    "outputId": "3a514fdc-4af5-4df4-91b5-680321fb3c97"
   },
   "outputs": [
    {
     "name": "stdout",
     "output_type": "stream",
     "text": [
      "Epoch 1/100\n",
      "347/347 [==============================] - 1s 1ms/step - loss: 0.5515 - accuracy: 0.8649 - val_loss: 0.5555 - val_accuracy: 0.8329\n",
      "Epoch 2/100\n",
      "347/347 [==============================] - 0s 697us/step - loss: 0.4185 - accuracy: 0.8791 - val_loss: 0.6397 - val_accuracy: 0.8289\n",
      "Epoch 3/100\n",
      "347/347 [==============================] - 0s 695us/step - loss: 0.3836 - accuracy: 0.8819 - val_loss: 0.5256 - val_accuracy: 0.8297\n",
      "Epoch 4/100\n",
      "347/347 [==============================] - 0s 693us/step - loss: 0.3217 - accuracy: 0.8877 - val_loss: 0.5384 - val_accuracy: 0.8313\n",
      "Epoch 5/100\n",
      "347/347 [==============================] - 0s 693us/step - loss: 0.3107 - accuracy: 0.8893 - val_loss: 0.4452 - val_accuracy: 0.8208\n",
      "Epoch 6/100\n",
      "347/347 [==============================] - 0s 688us/step - loss: 0.3002 - accuracy: 0.8875 - val_loss: 0.4465 - val_accuracy: 0.8305\n",
      "Epoch 7/100\n",
      "347/347 [==============================] - 0s 689us/step - loss: 0.3117 - accuracy: 0.8905 - val_loss: 0.4782 - val_accuracy: 0.8167\n",
      "Epoch 8/100\n",
      "347/347 [==============================] - 0s 694us/step - loss: 0.3098 - accuracy: 0.8882 - val_loss: 0.4040 - val_accuracy: 0.8402\n",
      "Epoch 9/100\n",
      "347/347 [==============================] - 0s 692us/step - loss: 0.2820 - accuracy: 0.8916 - val_loss: 0.4091 - val_accuracy: 0.8402\n",
      "Epoch 10/100\n",
      "347/347 [==============================] - 0s 688us/step - loss: 0.2790 - accuracy: 0.8914 - val_loss: 0.4324 - val_accuracy: 0.8313\n",
      "Epoch 11/100\n",
      "347/347 [==============================] - 0s 689us/step - loss: 0.2811 - accuracy: 0.8911 - val_loss: 0.3939 - val_accuracy: 0.8402\n",
      "Epoch 12/100\n",
      "347/347 [==============================] - 0s 694us/step - loss: 0.2989 - accuracy: 0.8902 - val_loss: 0.3977 - val_accuracy: 0.8418\n",
      "Epoch 13/100\n",
      "347/347 [==============================] - 0s 692us/step - loss: 0.2791 - accuracy: 0.8921 - val_loss: 0.3834 - val_accuracy: 0.8443\n",
      "Epoch 14/100\n",
      "347/347 [==============================] - 0s 691us/step - loss: 0.2635 - accuracy: 0.8922 - val_loss: 0.4286 - val_accuracy: 0.8337\n",
      "Epoch 15/100\n",
      "347/347 [==============================] - 0s 691us/step - loss: 0.2692 - accuracy: 0.8924 - val_loss: 0.4398 - val_accuracy: 0.8394\n",
      "Epoch 16/100\n",
      "347/347 [==============================] - 0s 694us/step - loss: 0.2633 - accuracy: 0.8923 - val_loss: 0.4047 - val_accuracy: 0.8370\n",
      "Epoch 17/100\n",
      "347/347 [==============================] - 0s 694us/step - loss: 0.2620 - accuracy: 0.8941 - val_loss: 0.4106 - val_accuracy: 0.8443\n",
      "Epoch 18/100\n",
      "347/347 [==============================] - 0s 726us/step - loss: 0.2707 - accuracy: 0.8915 - val_loss: 0.4010 - val_accuracy: 0.8264\n",
      "Epoch 19/100\n",
      "347/347 [==============================] - 0s 691us/step - loss: 0.2599 - accuracy: 0.8956 - val_loss: 0.3979 - val_accuracy: 0.8354\n",
      "Epoch 20/100\n",
      "347/347 [==============================] - 0s 692us/step - loss: 0.2612 - accuracy: 0.8946 - val_loss: 0.3913 - val_accuracy: 0.8378\n",
      "Epoch 21/100\n",
      "347/347 [==============================] - 0s 691us/step - loss: 0.2565 - accuracy: 0.8968 - val_loss: 0.4050 - val_accuracy: 0.8378\n",
      "Epoch 22/100\n",
      "347/347 [==============================] - 0s 692us/step - loss: 0.2577 - accuracy: 0.8943 - val_loss: 0.3956 - val_accuracy: 0.8354\n",
      "Epoch 23/100\n",
      "347/347 [==============================] - 0s 678us/step - loss: 0.2525 - accuracy: 0.8958 - val_loss: 0.3935 - val_accuracy: 0.8394\n",
      "Epoch 24/100\n",
      "347/347 [==============================] - 0s 697us/step - loss: 0.2501 - accuracy: 0.8966 - val_loss: 0.4021 - val_accuracy: 0.8394\n",
      "Epoch 25/100\n",
      "347/347 [==============================] - 0s 697us/step - loss: 0.2484 - accuracy: 0.8992 - val_loss: 0.3927 - val_accuracy: 0.8362\n",
      "Epoch 26/100\n",
      "347/347 [==============================] - 0s 691us/step - loss: 0.2547 - accuracy: 0.8976 - val_loss: 0.4112 - val_accuracy: 0.8289\n",
      "Epoch 27/100\n",
      "347/347 [==============================] - 0s 692us/step - loss: 0.2527 - accuracy: 0.8964 - val_loss: 0.3967 - val_accuracy: 0.8248\n",
      "Epoch 28/100\n",
      "347/347 [==============================] - 0s 691us/step - loss: 0.2468 - accuracy: 0.8981 - val_loss: 0.3856 - val_accuracy: 0.8378\n",
      "Epoch 29/100\n",
      "347/347 [==============================] - 0s 691us/step - loss: 0.2455 - accuracy: 0.8952 - val_loss: 0.4001 - val_accuracy: 0.8337\n",
      "Epoch 30/100\n",
      "347/347 [==============================] - 0s 696us/step - loss: 0.2457 - accuracy: 0.8993 - val_loss: 0.4260 - val_accuracy: 0.8321\n",
      "Epoch 31/100\n",
      "347/347 [==============================] - 0s 697us/step - loss: 0.2472 - accuracy: 0.8984 - val_loss: 0.3963 - val_accuracy: 0.8370\n",
      "Epoch 32/100\n",
      "347/347 [==============================] - 0s 699us/step - loss: 0.2445 - accuracy: 0.9003 - val_loss: 0.3855 - val_accuracy: 0.8386\n",
      "Epoch 33/100\n",
      "347/347 [==============================] - 0s 694us/step - loss: 0.2421 - accuracy: 0.9012 - val_loss: 0.3863 - val_accuracy: 0.8329\n",
      "Epoch 34/100\n",
      "347/347 [==============================] - 0s 686us/step - loss: 0.2433 - accuracy: 0.9011 - val_loss: 0.4038 - val_accuracy: 0.8435\n",
      "Epoch 35/100\n",
      "347/347 [==============================] - 0s 742us/step - loss: 0.2424 - accuracy: 0.8995 - val_loss: 0.3918 - val_accuracy: 0.8402\n",
      "Epoch 36/100\n",
      "347/347 [==============================] - 0s 697us/step - loss: 0.2438 - accuracy: 0.8988 - val_loss: 0.3903 - val_accuracy: 0.8337\n",
      "Epoch 37/100\n",
      "347/347 [==============================] - 0s 694us/step - loss: 0.2441 - accuracy: 0.9004 - val_loss: 0.3948 - val_accuracy: 0.8394\n",
      "Epoch 38/100\n",
      "347/347 [==============================] - 0s 693us/step - loss: 0.2420 - accuracy: 0.9005 - val_loss: 0.4036 - val_accuracy: 0.8337\n",
      "Epoch 39/100\n",
      "347/347 [==============================] - 0s 694us/step - loss: 0.2422 - accuracy: 0.8992 - val_loss: 0.3701 - val_accuracy: 0.8313\n",
      "Epoch 40/100\n",
      "347/347 [==============================] - 0s 699us/step - loss: 0.2453 - accuracy: 0.8988 - val_loss: 0.3859 - val_accuracy: 0.8418\n",
      "Epoch 41/100\n",
      "347/347 [==============================] - 0s 694us/step - loss: 0.2417 - accuracy: 0.8993 - val_loss: 0.3875 - val_accuracy: 0.8378\n",
      "Epoch 42/100\n",
      "347/347 [==============================] - 0s 689us/step - loss: 0.2387 - accuracy: 0.9008 - val_loss: 0.3805 - val_accuracy: 0.8354\n",
      "Epoch 43/100\n",
      "347/347 [==============================] - 0s 688us/step - loss: 0.2381 - accuracy: 0.9013 - val_loss: 0.3670 - val_accuracy: 0.8402\n",
      "Epoch 44/100\n",
      "347/347 [==============================] - 0s 689us/step - loss: 0.2401 - accuracy: 0.9015 - val_loss: 0.3790 - val_accuracy: 0.8386\n",
      "Epoch 45/100\n",
      "347/347 [==============================] - 0s 691us/step - loss: 0.2385 - accuracy: 0.8976 - val_loss: 0.3967 - val_accuracy: 0.8378\n",
      "Epoch 46/100\n",
      "347/347 [==============================] - 0s 689us/step - loss: 0.2374 - accuracy: 0.9017 - val_loss: 0.3762 - val_accuracy: 0.8354\n",
      "Epoch 47/100\n",
      "347/347 [==============================] - 0s 688us/step - loss: 0.2372 - accuracy: 0.9031 - val_loss: 0.3914 - val_accuracy: 0.8386\n",
      "Epoch 48/100\n",
      "347/347 [==============================] - 0s 689us/step - loss: 0.2372 - accuracy: 0.9018 - val_loss: 0.3799 - val_accuracy: 0.8362\n",
      "Epoch 49/100\n",
      "347/347 [==============================] - 0s 686us/step - loss: 0.2371 - accuracy: 0.9020 - val_loss: 0.3936 - val_accuracy: 0.8362\n",
      "Epoch 50/100\n",
      "347/347 [==============================] - 0s 688us/step - loss: 0.2364 - accuracy: 0.9013 - val_loss: 0.3905 - val_accuracy: 0.8402\n",
      "Epoch 51/100\n",
      "347/347 [==============================] - 0s 686us/step - loss: 0.2369 - accuracy: 0.9023 - val_loss: 0.3789 - val_accuracy: 0.8329\n",
      "Epoch 52/100\n",
      "347/347 [==============================] - 0s 728us/step - loss: 0.2366 - accuracy: 0.9029 - val_loss: 0.3752 - val_accuracy: 0.8378\n",
      "Epoch 53/100\n",
      "347/347 [==============================] - 0s 702us/step - loss: 0.2365 - accuracy: 0.9027 - val_loss: 0.3808 - val_accuracy: 0.8354\n",
      "Epoch 54/100\n",
      "347/347 [==============================] - 0s 691us/step - loss: 0.2356 - accuracy: 0.9020 - val_loss: 0.3754 - val_accuracy: 0.8378\n",
      "Epoch 55/100\n",
      "347/347 [==============================] - 0s 689us/step - loss: 0.2363 - accuracy: 0.9010 - val_loss: 0.3879 - val_accuracy: 0.8362\n",
      "Epoch 56/100\n",
      "347/347 [==============================] - 0s 688us/step - loss: 0.2356 - accuracy: 0.9013 - val_loss: 0.3961 - val_accuracy: 0.8402\n",
      "Epoch 57/100\n"
     ]
    },
    {
     "name": "stdout",
     "output_type": "stream",
     "text": [
      "347/347 [==============================] - 0s 659us/step - loss: 0.2360 - accuracy: 0.9017 - val_loss: 0.3828 - val_accuracy: 0.8345\n",
      "Epoch 58/100\n",
      "347/347 [==============================] - 0s 688us/step - loss: 0.2363 - accuracy: 0.9013 - val_loss: 0.3995 - val_accuracy: 0.8370\n",
      "Epoch 59/100\n",
      "347/347 [==============================] - 0s 691us/step - loss: 0.2346 - accuracy: 0.9012 - val_loss: 0.4067 - val_accuracy: 0.8329\n",
      "Epoch 60/100\n",
      "347/347 [==============================] - 0s 688us/step - loss: 0.2322 - accuracy: 0.9041 - val_loss: 0.3957 - val_accuracy: 0.8362\n",
      "Epoch 61/100\n",
      "347/347 [==============================] - 0s 689us/step - loss: 0.2319 - accuracy: 0.9018 - val_loss: 0.3681 - val_accuracy: 0.8394\n",
      "Epoch 62/100\n",
      "347/347 [==============================] - 0s 692us/step - loss: 0.2341 - accuracy: 0.9034 - val_loss: 0.3885 - val_accuracy: 0.8386\n",
      "Epoch 63/100\n",
      "347/347 [==============================] - 0s 691us/step - loss: 0.2325 - accuracy: 0.9029 - val_loss: 0.3942 - val_accuracy: 0.8386\n",
      "Epoch 64/100\n",
      "347/347 [==============================] - 0s 692us/step - loss: 0.2332 - accuracy: 0.9033 - val_loss: 0.3724 - val_accuracy: 0.8418\n",
      "Epoch 65/100\n",
      "347/347 [==============================] - 0s 691us/step - loss: 0.2320 - accuracy: 0.9033 - val_loss: 0.4016 - val_accuracy: 0.8354\n",
      "Epoch 66/100\n",
      "347/347 [==============================] - 0s 692us/step - loss: 0.2340 - accuracy: 0.9045 - val_loss: 0.4016 - val_accuracy: 0.8370\n",
      "Epoch 67/100\n",
      "347/347 [==============================] - 0s 688us/step - loss: 0.2317 - accuracy: 0.9037 - val_loss: 0.4018 - val_accuracy: 0.8386\n",
      "Epoch 68/100\n",
      "347/347 [==============================] - 0s 694us/step - loss: 0.2334 - accuracy: 0.9037 - val_loss: 0.3881 - val_accuracy: 0.8370\n",
      "Epoch 69/100\n",
      "347/347 [==============================] - 0s 720us/step - loss: 0.2326 - accuracy: 0.9025 - val_loss: 0.3823 - val_accuracy: 0.8386\n",
      "Epoch 70/100\n",
      "347/347 [==============================] - 0s 694us/step - loss: 0.2321 - accuracy: 0.9057 - val_loss: 0.3932 - val_accuracy: 0.8435\n",
      "Epoch 71/100\n",
      "347/347 [==============================] - 0s 694us/step - loss: 0.2316 - accuracy: 0.9038 - val_loss: 0.3873 - val_accuracy: 0.8418\n",
      "Epoch 72/100\n",
      "347/347 [==============================] - 0s 691us/step - loss: 0.2315 - accuracy: 0.9037 - val_loss: 0.3933 - val_accuracy: 0.8402\n",
      "Epoch 73/100\n",
      "347/347 [==============================] - 0s 689us/step - loss: 0.2323 - accuracy: 0.9042 - val_loss: 0.3880 - val_accuracy: 0.8451\n",
      "Epoch 74/100\n",
      "347/347 [==============================] - 0s 685us/step - loss: 0.2299 - accuracy: 0.9030 - val_loss: 0.3932 - val_accuracy: 0.8418\n",
      "Epoch 75/100\n",
      "347/347 [==============================] - 0s 692us/step - loss: 0.2298 - accuracy: 0.9030 - val_loss: 0.3986 - val_accuracy: 0.8410\n",
      "Epoch 76/100\n",
      "347/347 [==============================] - 0s 688us/step - loss: 0.2284 - accuracy: 0.9054 - val_loss: 0.3965 - val_accuracy: 0.8402\n",
      "Epoch 77/100\n",
      "347/347 [==============================] - 0s 686us/step - loss: 0.2301 - accuracy: 0.9018 - val_loss: 0.3819 - val_accuracy: 0.8427\n",
      "Epoch 78/100\n",
      "347/347 [==============================] - 0s 690us/step - loss: 0.2307 - accuracy: 0.9031 - val_loss: 0.4052 - val_accuracy: 0.8443\n",
      "Epoch 79/100\n",
      "347/347 [==============================] - 0s 692us/step - loss: 0.2287 - accuracy: 0.9047 - val_loss: 0.3944 - val_accuracy: 0.8362\n",
      "Epoch 80/100\n",
      "347/347 [==============================] - 0s 686us/step - loss: 0.2301 - accuracy: 0.9045 - val_loss: 0.4269 - val_accuracy: 0.8386\n",
      "Epoch 81/100\n",
      "347/347 [==============================] - 0s 688us/step - loss: 0.2293 - accuracy: 0.9047 - val_loss: 0.3841 - val_accuracy: 0.8427\n",
      "Epoch 82/100\n",
      "347/347 [==============================] - 0s 689us/step - loss: 0.2276 - accuracy: 0.9051 - val_loss: 0.3906 - val_accuracy: 0.8321\n",
      "Epoch 83/100\n",
      "347/347 [==============================] - 0s 689us/step - loss: 0.2279 - accuracy: 0.9054 - val_loss: 0.4378 - val_accuracy: 0.8427\n",
      "Epoch 84/100\n",
      "347/347 [==============================] - 0s 688us/step - loss: 0.2289 - accuracy: 0.9048 - val_loss: 0.3925 - val_accuracy: 0.8386\n",
      "Epoch 85/100\n",
      "347/347 [==============================] - 0s 689us/step - loss: 0.2282 - accuracy: 0.9041 - val_loss: 0.3963 - val_accuracy: 0.8378\n",
      "Epoch 86/100\n",
      "347/347 [==============================] - 0s 723us/step - loss: 0.2276 - accuracy: 0.9052 - val_loss: 0.4018 - val_accuracy: 0.8378\n",
      "Epoch 87/100\n",
      "347/347 [==============================] - 0s 694us/step - loss: 0.2285 - accuracy: 0.9059 - val_loss: 0.3929 - val_accuracy: 0.8410\n",
      "Epoch 88/100\n",
      "347/347 [==============================] - 0s 691us/step - loss: 0.2260 - accuracy: 0.9061 - val_loss: 0.3812 - val_accuracy: 0.8386\n",
      "Epoch 89/100\n",
      "347/347 [==============================] - 0s 683us/step - loss: 0.2253 - accuracy: 0.9065 - val_loss: 0.3949 - val_accuracy: 0.8402\n",
      "Epoch 90/100\n",
      "347/347 [==============================] - 0s 692us/step - loss: 0.2262 - accuracy: 0.9057 - val_loss: 0.3775 - val_accuracy: 0.8418\n",
      "Epoch 91/100\n",
      "347/347 [==============================] - 0s 688us/step - loss: 0.2268 - accuracy: 0.9066 - val_loss: 0.3822 - val_accuracy: 0.8386\n",
      "Epoch 92/100\n",
      "347/347 [==============================] - 0s 689us/step - loss: 0.2272 - accuracy: 0.9061 - val_loss: 0.3866 - val_accuracy: 0.8443\n",
      "Epoch 93/100\n",
      "347/347 [==============================] - 0s 688us/step - loss: 0.2264 - accuracy: 0.9072 - val_loss: 0.3966 - val_accuracy: 0.8402\n",
      "Epoch 94/100\n",
      "347/347 [==============================] - 0s 692us/step - loss: 0.2254 - accuracy: 0.9066 - val_loss: 0.3884 - val_accuracy: 0.8410\n",
      "Epoch 95/100\n",
      "347/347 [==============================] - 0s 691us/step - loss: 0.2257 - accuracy: 0.9057 - val_loss: 0.4177 - val_accuracy: 0.8418\n",
      "Epoch 96/100\n",
      "347/347 [==============================] - 0s 692us/step - loss: 0.2245 - accuracy: 0.9075 - val_loss: 0.3999 - val_accuracy: 0.8370\n",
      "Epoch 97/100\n",
      "347/347 [==============================] - 0s 688us/step - loss: 0.2246 - accuracy: 0.9056 - val_loss: 0.4112 - val_accuracy: 0.8386\n",
      "Epoch 98/100\n",
      "347/347 [==============================] - 0s 689us/step - loss: 0.2259 - accuracy: 0.9058 - val_loss: 0.4141 - val_accuracy: 0.8427\n",
      "Epoch 99/100\n",
      "347/347 [==============================] - 0s 688us/step - loss: 0.2248 - accuracy: 0.9081 - val_loss: 0.4226 - val_accuracy: 0.8435\n",
      "Epoch 100/100\n",
      "347/347 [==============================] - 0s 686us/step - loss: 0.2267 - accuracy: 0.9054 - val_loss: 0.3951 - val_accuracy: 0.8354\n"
     ]
    },
    {
     "data": {
      "text/plain": [
       "<keras.callbacks.History at 0x1f1eee4be50>"
      ]
     },
     "execution_count": 25,
     "metadata": {},
     "output_type": "execute_result"
    }
   ],
   "source": [
    "model.fit(X_new,y,epochs=100, validation_split=0.1)"
   ]
  },
  {
   "cell_type": "code",
   "execution_count": 26,
   "metadata": {
    "executionInfo": {
     "elapsed": 41,
     "status": "ok",
     "timestamp": 1622352040777,
     "user": {
      "displayName": "siddharth patra",
      "photoUrl": "https://lh3.googleusercontent.com/a-/AOh14Gjnwsdj5DKa95WHRl25dlQz9L1Bbc10vap4xTNIiA=s64",
      "userId": "01966341811263607507"
     },
     "user_tz": -330
    },
    "id": "DMO0_QN8eCZY"
   },
   "outputs": [],
   "source": [
    "# Saving the model so we can use this in out web app.\n",
    "\n",
    "model.save(\"final_shopper_model.h5\")"
   ]
  },
  {
   "cell_type": "code",
   "execution_count": null,
   "metadata": {
    "executionInfo": {
     "elapsed": 36,
     "status": "ok",
     "timestamp": 1622352040777,
     "user": {
      "displayName": "siddharth patra",
      "photoUrl": "https://lh3.googleusercontent.com/a-/AOh14Gjnwsdj5DKa95WHRl25dlQz9L1Bbc10vap4xTNIiA=s64",
      "userId": "01966341811263607507"
     },
     "user_tz": -330
    },
    "id": "I1T2KPAUmQhQ"
   },
   "outputs": [],
   "source": []
  }
 ],
 "metadata": {
  "colab": {
   "authorship_tag": "ABX9TyP/RrLkC98zbCO4iwZWLjhe",
   "collapsed_sections": [],
   "name": "Shopping Intentions.ipynb",
   "provenance": []
  },
  "kernelspec": {
   "display_name": "Python 3 (ipykernel)",
   "language": "python",
   "name": "python3"
  },
  "language_info": {
   "codemirror_mode": {
    "name": "ipython",
    "version": 3
   },
   "file_extension": ".py",
   "mimetype": "text/x-python",
   "name": "python",
   "nbconvert_exporter": "python",
   "pygments_lexer": "ipython3",
   "version": "3.9.7"
  }
 },
 "nbformat": 4,
 "nbformat_minor": 1
}
