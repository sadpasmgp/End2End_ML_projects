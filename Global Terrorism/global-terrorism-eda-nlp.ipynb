{
 "cells": [
  {
   "cell_type": "markdown",
   "metadata": {
    "toc": true
   },
   "source": [
    "<h1>Table of Contents<span class=\"tocSkip\"></span></h1>\n",
    "<div class=\"toc\"><ul class=\"toc-item\"><li><span><a href=\"#Libraries\" data-toc-modified-id=\"Libraries-1\"><span class=\"toc-item-num\">1&nbsp;&nbsp;</span>Libraries</a></span></li><li><span><a href=\"#Functions\" data-toc-modified-id=\"Functions-2\"><span class=\"toc-item-num\">2&nbsp;&nbsp;</span>Functions</a></span></li><li><span><a href=\"#Data-Prep\" data-toc-modified-id=\"Data-Prep-3\"><span class=\"toc-item-num\">3&nbsp;&nbsp;</span>Data Prep</a></span></li><li><span><a href=\"#Terrorism-Around-the-World\" data-toc-modified-id=\"Terrorism-Around-the-World-4\"><span class=\"toc-item-num\">4&nbsp;&nbsp;</span>Terrorism Around the World</a></span></li><li><span><a href=\"#Countries-and-Terrorism\" data-toc-modified-id=\"Countries-and-Terrorism-5\"><span class=\"toc-item-num\">5&nbsp;&nbsp;</span>Countries and Terrorism</a></span></li><li><span><a href=\"#NLP-on-Incident-Summary\" data-toc-modified-id=\"NLP-on-Incident-Summary-6\"><span class=\"toc-item-num\">6&nbsp;&nbsp;</span>NLP on Incident Summary</a></span><ul class=\"toc-item\"><li><span><a href=\"#Regular-Expressions\" data-toc-modified-id=\"Regular-Expressions-6.1\"><span class=\"toc-item-num\">6.1&nbsp;&nbsp;</span>Regular Expressions</a></span><ul class=\"toc-item\"><li><span><a href=\"#Sites-and-Hiperlinks\" data-toc-modified-id=\"Sites-and-Hiperlinks-6.1.1\"><span class=\"toc-item-num\">6.1.1&nbsp;&nbsp;</span>Sites and Hiperlinks</a></span></li><li><span><a href=\"#Numbers\" data-toc-modified-id=\"Numbers-6.1.2\"><span class=\"toc-item-num\">6.1.2&nbsp;&nbsp;</span>Numbers</a></span></li><li><span><a href=\"#Special-Characteres\" data-toc-modified-id=\"Special-Characteres-6.1.3\"><span class=\"toc-item-num\">6.1.3&nbsp;&nbsp;</span>Special Characteres</a></span></li><li><span><a href=\"#Additional-Whitespaces\" data-toc-modified-id=\"Additional-Whitespaces-6.1.4\"><span class=\"toc-item-num\">6.1.4&nbsp;&nbsp;</span>Additional Whitespaces</a></span></li></ul></li><li><span><a href=\"#Lower-Case\" data-toc-modified-id=\"Lower-Case-6.2\"><span class=\"toc-item-num\">6.2&nbsp;&nbsp;</span>Lower Case</a></span></li><li><span><a href=\"#WordCloud\" data-toc-modified-id=\"WordCloud-6.3\"><span class=\"toc-item-num\">6.3&nbsp;&nbsp;</span>WordCloud</a></span></li></ul></li><li><span><a href=\"#References\" data-toc-modified-id=\"References-7\"><span class=\"toc-item-num\">7&nbsp;&nbsp;</span>References</a></span></li></ul></div>"
   ]
  },
  {
   "cell_type": "markdown",
   "metadata": {},
   "source": [
    "* This kernel is a continuation of the kernel [Global Terrorism - Data Understanding](https://www.kaggle.com/thiagopanini/global-terrorism-data-understanding), where an extremely important process of understanding the data was carried out in order to go deep into the context and make useful data transformations for further analysis.\n",
    "\n",
    "This second approach intends to tell a story about Terrorism around the world taking the data provided as a basis. Here, we will apply an exploratory data analysis, look for patterns and explanations related to the context and present the conclusions in a dynamic and visual ways. If you like this kernel, **please upvote**! This always keep me motivated to do things even better! English is not my mother language... so sorry for any mistake!\n",
    "\n",
    "We will use libs like **Folium**, **Seaborn**, **Matplotlib** and other usefull tools to try to see:"
   ]
  },
  {
   "cell_type": "markdown",
   "metadata": {},
   "source": [
    "* A big picture of terrorism around the world and its evolution over the years;\n",
    "* Countries with most incidents recorded;\n",
    "* Countries with highest number of victims;\n",
    "* A dashboard for terrorism analysis in some countries;\n",
    "* Incidents that lasted more than 24h (extended = 1);\n",
    "* Major radical groups responsible for terrorist attacks (gname);\n",
    "* Attacks with the highest number of terrorists (nperps);\n",
    "* A WordCloud for attributes like summary corp1, target1 and motive;"
   ]
  },
  {
   "cell_type": "markdown",
   "metadata": {},
   "source": [
    "# Libraries"
   ]
  },
  {
   "cell_type": "code",
   "execution_count": 2,
   "metadata": {},
   "outputs": [
    {
     "name": "stdout",
     "output_type": "stream",
     "text": [
      "Collecting geopandas\n",
      "  Using cached geopandas-0.10.2-py2.py3-none-any.whl (1.0 MB)\n",
      "Collecting shapely>=1.6\n",
      "  Using cached Shapely-1.8.1.post1-cp39-cp39-win_amd64.whl (1.3 MB)\n",
      "Requirement already satisfied: pandas>=0.25.0 in c:\\users\\sadpa\\miniconda3\\lib\\site-packages (from geopandas) (1.4.1)\n",
      "Collecting fiona>=1.8\n",
      "  Using cached Fiona-1.8.21.tar.gz (1.0 MB)\n",
      "  Using cached Fiona-1.8.20.tar.gz (1.3 MB)\n",
      "  Using cached Fiona-1.8.19.tar.gz (1.3 MB)\n",
      "  Using cached Fiona-1.8.18.tar.gz (1.3 MB)\n",
      "  Using cached Fiona-1.8.17.tar.gz (1.3 MB)\n",
      "  Using cached Fiona-1.8.16.tar.gz (1.3 MB)\n",
      "  Using cached Fiona-1.8.15.tar.gz (1.3 MB)\n",
      "  Using cached Fiona-1.8.14.tar.gz (1.3 MB)\n",
      "  Using cached Fiona-1.8.13.post1.tar.gz (1.2 MB)\n",
      "  Using cached Fiona-1.8.13.tar.gz (1.2 MB)\n",
      "  Using cached Fiona-1.8.12.tar.gz (1.2 MB)\n",
      "  Using cached Fiona-1.8.11.tar.gz (1.2 MB)\n",
      "  Using cached Fiona-1.8.10.tar.gz (1.2 MB)\n",
      "  Using cached Fiona-1.8.9.post2.tar.gz (1.2 MB)\n",
      "  Downloading Fiona-1.8.9.post1.tar.gz (1.2 MB)\n",
      "  Downloading Fiona-1.8.9.tar.gz (1.2 MB)\n",
      "  Downloading Fiona-1.8.8.tar.gz (1.7 MB)\n",
      "  Downloading Fiona-1.8.7.tar.gz (1.7 MB)\n",
      "  Downloading Fiona-1.8.6.tar.gz (1.7 MB)\n",
      "  Downloading Fiona-1.8.5.tar.gz (1.7 MB)\n",
      "  Downloading Fiona-1.8.4.tar.gz (1.1 MB)\n",
      "  Downloading Fiona-1.8.3.tar.gz (1.1 MB)\n",
      "  Downloading Fiona-1.8.2.tar.gz (1.2 MB)\n",
      "  Downloading Fiona-1.8.1.tar.gz (1.1 MB)\n",
      "  Downloading Fiona-1.8.0.tar.gz (1.4 MB)\n",
      "Collecting geopandas\n",
      "  Downloading geopandas-0.10.1-py2.py3-none-any.whl (1.0 MB)\n",
      "  Downloading geopandas-0.10.0-py2.py3-none-any.whl (1.0 MB)\n",
      "  Downloading geopandas-0.9.0-py2.py3-none-any.whl (994 kB)\n",
      "  Downloading geopandas-0.8.2-py2.py3-none-any.whl (962 kB)\n",
      "Collecting fiona\n",
      "  Downloading Fiona-1.7.13.tar.gz (731 kB)\n",
      "Collecting pyproj>=2.2.0\n",
      "  Using cached pyproj-3.3.0-cp39-cp39-win_amd64.whl (6.3 MB)\n",
      "Requirement already satisfied: pytz>=2020.1 in c:\\users\\sadpa\\miniconda3\\lib\\site-packages (from pandas>=0.25.0->geopandas) (2021.3)\n",
      "Requirement already satisfied: python-dateutil>=2.8.1 in c:\\users\\sadpa\\miniconda3\\lib\\site-packages (from pandas>=0.25.0->geopandas) (2.8.2)\n",
      "Requirement already satisfied: numpy>=1.18.5 in c:\\users\\sadpa\\miniconda3\\lib\\site-packages (from pandas>=0.25.0->geopandas) (1.21.5)\n",
      "Requirement already satisfied: certifi in c:\\users\\sadpa\\miniconda3\\lib\\site-packages (from pyproj>=2.2.0->geopandas) (2021.10.8)\n",
      "Requirement already satisfied: six>=1.5 in c:\\users\\sadpa\\miniconda3\\lib\\site-packages (from python-dateutil>=2.8.1->pandas>=0.25.0->geopandas) (1.16.0)\n",
      "Collecting cligj>=0.4\n",
      "  Downloading cligj-0.7.2-py3-none-any.whl (7.1 kB)\n",
      "Collecting click-plugins\n",
      "  Downloading click_plugins-1.1.1-py2.py3-none-any.whl (7.5 kB)\n",
      "Collecting munch\n",
      "  Downloading munch-2.5.0-py2.py3-none-any.whl (10 kB)\n",
      "Requirement already satisfied: click>=4.0 in c:\\users\\sadpa\\miniconda3\\lib\\site-packages (from cligj>=0.4->fiona->geopandas) (8.0.4)\n",
      "Requirement already satisfied: colorama in c:\\users\\sadpa\\miniconda3\\lib\\site-packages (from click>=4.0->cligj>=0.4->fiona->geopandas) (0.4.4)\n",
      "Building wheels for collected packages: fiona\n",
      "  Building wheel for fiona (setup.py): started\n",
      "  Building wheel for fiona (setup.py): finished with status 'error'\n",
      "  Running setup.py clean for fiona\n",
      "Failed to build fiona\n",
      "Installing collected packages: munch, cligj, click-plugins, shapely, pyproj, fiona, geopandas\n",
      "    Running setup.py install for fiona: started\n",
      "    Running setup.py install for fiona: finished with status 'error'\n"
     ]
    },
    {
     "name": "stderr",
     "output_type": "stream",
     "text": [
      "    ERROR: Command errored out with exit status 1:\n",
      "     command: 'C:\\Users\\sadpa\\miniconda3\\python.exe' -c 'import io, os, sys, setuptools, tokenize; sys.argv[0] = '\"'\"'C:\\\\Users\\\\sadpa\\\\AppData\\\\Local\\\\Temp\\\\pip-install-jm76oqoa\\\\fiona_73726c326f804a4685236746f907a0be\\\\setup.py'\"'\"'; __file__='\"'\"'C:\\\\Users\\\\sadpa\\\\AppData\\\\Local\\\\Temp\\\\pip-install-jm76oqoa\\\\fiona_73726c326f804a4685236746f907a0be\\\\setup.py'\"'\"';f = getattr(tokenize, '\"'\"'open'\"'\"', open)(__file__) if os.path.exists(__file__) else io.StringIO('\"'\"'from setuptools import setup; setup()'\"'\"');code = f.read().replace('\"'\"'\\r\\n'\"'\"', '\"'\"'\\n'\"'\"');f.close();exec(compile(code, __file__, '\"'\"'exec'\"'\"'))' egg_info --egg-base 'C:\\Users\\sadpa\\AppData\\Local\\Temp\\pip-pip-egg-info-ahapxg0b'\n",
      "         cwd: C:\\Users\\sadpa\\AppData\\Local\\Temp\\pip-install-jm76oqoa\\fiona_73726c326f804a4685236746f907a0be\\\n",
      "    Complete output (1 lines):\n",
      "    A GDAL API version must be specified. Provide a path to gdal-config using a GDAL_CONFIG environment variable or use a GDAL_VERSION environment variable.\n",
      "    ----------------------------------------\n",
      "WARNING: Discarding https://files.pythonhosted.org/packages/67/5c/4e028e84a1f0cb3f8a994217cf2366360ca984dfc1433f6171de527d0dca/Fiona-1.8.21.tar.gz#sha256=3a0edca2a7a070db405d71187214a43d2333a57b4097544a3fcc282066a58bfc (from https://pypi.org/simple/fiona/). Command errored out with exit status 1: python setup.py egg_info Check the logs for full command output.\n",
      "    ERROR: Command errored out with exit status 1:\n",
      "     command: 'C:\\Users\\sadpa\\miniconda3\\python.exe' -c 'import io, os, sys, setuptools, tokenize; sys.argv[0] = '\"'\"'C:\\\\Users\\\\sadpa\\\\AppData\\\\Local\\\\Temp\\\\pip-install-jm76oqoa\\\\fiona_59996cca08274188a2d5158b24ff6369\\\\setup.py'\"'\"'; __file__='\"'\"'C:\\\\Users\\\\sadpa\\\\AppData\\\\Local\\\\Temp\\\\pip-install-jm76oqoa\\\\fiona_59996cca08274188a2d5158b24ff6369\\\\setup.py'\"'\"';f = getattr(tokenize, '\"'\"'open'\"'\"', open)(__file__) if os.path.exists(__file__) else io.StringIO('\"'\"'from setuptools import setup; setup()'\"'\"');code = f.read().replace('\"'\"'\\r\\n'\"'\"', '\"'\"'\\n'\"'\"');f.close();exec(compile(code, __file__, '\"'\"'exec'\"'\"'))' egg_info --egg-base 'C:\\Users\\sadpa\\AppData\\Local\\Temp\\pip-pip-egg-info-mqulff68'\n",
      "         cwd: C:\\Users\\sadpa\\AppData\\Local\\Temp\\pip-install-jm76oqoa\\fiona_59996cca08274188a2d5158b24ff6369\\\n",
      "    Complete output (1 lines):\n",
      "    A GDAL API version must be specified. Provide a path to gdal-config using a GDAL_CONFIG environment variable or use a GDAL_VERSION environment variable.\n",
      "    ----------------------------------------\n",
      "WARNING: Discarding https://files.pythonhosted.org/packages/ec/f7/093890341a7e8fbfcdfa04caf4dfb588ebab32c13ceaa6a3819da79ea106/Fiona-1.8.20.tar.gz#sha256=a70502d2857b82f749c09cb0dea3726787747933a2a1599b5ab787d74e3c143b (from https://pypi.org/simple/fiona/). Command errored out with exit status 1: python setup.py egg_info Check the logs for full command output.\n",
      "    ERROR: Command errored out with exit status 1:\n",
      "     command: 'C:\\Users\\sadpa\\miniconda3\\python.exe' -c 'import io, os, sys, setuptools, tokenize; sys.argv[0] = '\"'\"'C:\\\\Users\\\\sadpa\\\\AppData\\\\Local\\\\Temp\\\\pip-install-jm76oqoa\\\\fiona_799a1f705c5543dd88662f5a3eed10b6\\\\setup.py'\"'\"'; __file__='\"'\"'C:\\\\Users\\\\sadpa\\\\AppData\\\\Local\\\\Temp\\\\pip-install-jm76oqoa\\\\fiona_799a1f705c5543dd88662f5a3eed10b6\\\\setup.py'\"'\"';f = getattr(tokenize, '\"'\"'open'\"'\"', open)(__file__) if os.path.exists(__file__) else io.StringIO('\"'\"'from setuptools import setup; setup()'\"'\"');code = f.read().replace('\"'\"'\\r\\n'\"'\"', '\"'\"'\\n'\"'\"');f.close();exec(compile(code, __file__, '\"'\"'exec'\"'\"'))' egg_info --egg-base 'C:\\Users\\sadpa\\AppData\\Local\\Temp\\pip-pip-egg-info-00b9mki0'\n",
      "         cwd: C:\\Users\\sadpa\\AppData\\Local\\Temp\\pip-install-jm76oqoa\\fiona_799a1f705c5543dd88662f5a3eed10b6\\\n",
      "    Complete output (1 lines):\n",
      "    A GDAL API version must be specified. Provide a path to gdal-config using a GDAL_CONFIG environment variable or use a GDAL_VERSION environment variable.\n",
      "    ----------------------------------------\n",
      "WARNING: Discarding https://files.pythonhosted.org/packages/a0/d9/6042aeb073d11341f7726de0586ff71c13117c34959dcf07bd4ee6d4b93e/Fiona-1.8.19.tar.gz#sha256=b9059e0b29c2e9e6b817e53f941e77e1aca7075f986005d38db307067b60458f (from https://pypi.org/simple/fiona/). Command errored out with exit status 1: python setup.py egg_info Check the logs for full command output.\n",
      "    ERROR: Command errored out with exit status 1:\n",
      "     command: 'C:\\Users\\sadpa\\miniconda3\\python.exe' -c 'import io, os, sys, setuptools, tokenize; sys.argv[0] = '\"'\"'C:\\\\Users\\\\sadpa\\\\AppData\\\\Local\\\\Temp\\\\pip-install-jm76oqoa\\\\fiona_c5ef1dc843c1454d8b4fd6a1c16df650\\\\setup.py'\"'\"'; __file__='\"'\"'C:\\\\Users\\\\sadpa\\\\AppData\\\\Local\\\\Temp\\\\pip-install-jm76oqoa\\\\fiona_c5ef1dc843c1454d8b4fd6a1c16df650\\\\setup.py'\"'\"';f = getattr(tokenize, '\"'\"'open'\"'\"', open)(__file__) if os.path.exists(__file__) else io.StringIO('\"'\"'from setuptools import setup; setup()'\"'\"');code = f.read().replace('\"'\"'\\r\\n'\"'\"', '\"'\"'\\n'\"'\"');f.close();exec(compile(code, __file__, '\"'\"'exec'\"'\"'))' egg_info --egg-base 'C:\\Users\\sadpa\\AppData\\Local\\Temp\\pip-pip-egg-info-10f7jkn8'\n",
      "         cwd: C:\\Users\\sadpa\\AppData\\Local\\Temp\\pip-install-jm76oqoa\\fiona_c5ef1dc843c1454d8b4fd6a1c16df650\\\n",
      "    Complete output (1 lines):\n",
      "    A GDAL API version must be specified. Provide a path to gdal-config using a GDAL_CONFIG environment variable or use a GDAL_VERSION environment variable.\n",
      "    ----------------------------------------\n",
      "WARNING: Discarding https://files.pythonhosted.org/packages/9f/e8/401cdaa58d862a25c4b3365acf7d2bd7ac77191e3dc9acdcdac0eff20ff0/Fiona-1.8.18.tar.gz#sha256=b732ece0ff8886a29c439723a3e1fc382718804bb057519d537a81308854967a (from https://pypi.org/simple/fiona/). Command errored out with exit status 1: python setup.py egg_info Check the logs for full command output.\n",
      "    ERROR: Command errored out with exit status 1:\n",
      "     command: 'C:\\Users\\sadpa\\miniconda3\\python.exe' -c 'import io, os, sys, setuptools, tokenize; sys.argv[0] = '\"'\"'C:\\\\Users\\\\sadpa\\\\AppData\\\\Local\\\\Temp\\\\pip-install-jm76oqoa\\\\fiona_338352a70ffc43f1800972f677967b74\\\\setup.py'\"'\"'; __file__='\"'\"'C:\\\\Users\\\\sadpa\\\\AppData\\\\Local\\\\Temp\\\\pip-install-jm76oqoa\\\\fiona_338352a70ffc43f1800972f677967b74\\\\setup.py'\"'\"';f = getattr(tokenize, '\"'\"'open'\"'\"', open)(__file__) if os.path.exists(__file__) else io.StringIO('\"'\"'from setuptools import setup; setup()'\"'\"');code = f.read().replace('\"'\"'\\r\\n'\"'\"', '\"'\"'\\n'\"'\"');f.close();exec(compile(code, __file__, '\"'\"'exec'\"'\"'))' egg_info --egg-base 'C:\\Users\\sadpa\\AppData\\Local\\Temp\\pip-pip-egg-info-up6q6qyb'\n",
      "         cwd: C:\\Users\\sadpa\\AppData\\Local\\Temp\\pip-install-jm76oqoa\\fiona_338352a70ffc43f1800972f677967b74\\\n",
      "    Complete output (1 lines):\n",
      "    A GDAL API version must be specified. Provide a path to gdal-config using a GDAL_CONFIG environment variable or use a GDAL_VERSION environment variable.\n",
      "    ----------------------------------------\n",
      "WARNING: Discarding https://files.pythonhosted.org/packages/88/62/69347ba2c41b526e1953c4cb66d51170b2869808863c03af202ba0121670/Fiona-1.8.17.tar.gz#sha256=716201c21246587f374785bec6d6a20a984fe1f6c2b0e83bf15127eb8f724d0c (from https://pypi.org/simple/fiona/). Command errored out with exit status 1: python setup.py egg_info Check the logs for full command output.\n",
      "    ERROR: Command errored out with exit status 1:\n",
      "     command: 'C:\\Users\\sadpa\\miniconda3\\python.exe' -c 'import io, os, sys, setuptools, tokenize; sys.argv[0] = '\"'\"'C:\\\\Users\\\\sadpa\\\\AppData\\\\Local\\\\Temp\\\\pip-install-jm76oqoa\\\\fiona_6b8e6124acf34f8ab973957f037a182e\\\\setup.py'\"'\"'; __file__='\"'\"'C:\\\\Users\\\\sadpa\\\\AppData\\\\Local\\\\Temp\\\\pip-install-jm76oqoa\\\\fiona_6b8e6124acf34f8ab973957f037a182e\\\\setup.py'\"'\"';f = getattr(tokenize, '\"'\"'open'\"'\"', open)(__file__) if os.path.exists(__file__) else io.StringIO('\"'\"'from setuptools import setup; setup()'\"'\"');code = f.read().replace('\"'\"'\\r\\n'\"'\"', '\"'\"'\\n'\"'\"');f.close();exec(compile(code, __file__, '\"'\"'exec'\"'\"'))' egg_info --egg-base 'C:\\Users\\sadpa\\AppData\\Local\\Temp\\pip-pip-egg-info-p0m6c0yi'\n",
      "         cwd: C:\\Users\\sadpa\\AppData\\Local\\Temp\\pip-install-jm76oqoa\\fiona_6b8e6124acf34f8ab973957f037a182e\\\n",
      "    Complete output (1 lines):\n",
      "    A GDAL API version must be specified. Provide a path to gdal-config using a GDAL_CONFIG environment variable or use a GDAL_VERSION environment variable.\n",
      "    ----------------------------------------\n",
      "WARNING: Discarding https://files.pythonhosted.org/packages/1e/60/dfc6115a11338d8aa96cacd8c60635223d9c97d61d556c90acc5dfd663fa/Fiona-1.8.16.tar.gz#sha256=fd6dfb65959becc916e9f6928618bfd59c16cdbc413ece0fbac61489cd11255f (from https://pypi.org/simple/fiona/). Command errored out with exit status 1: python setup.py egg_info Check the logs for full command output.\n",
      "    ERROR: Command errored out with exit status 1:\n",
      "     command: 'C:\\Users\\sadpa\\miniconda3\\python.exe' -c 'import io, os, sys, setuptools, tokenize; sys.argv[0] = '\"'\"'C:\\\\Users\\\\sadpa\\\\AppData\\\\Local\\\\Temp\\\\pip-install-jm76oqoa\\\\fiona_3339432279614de08c9e8031951712c9\\\\setup.py'\"'\"'; __file__='\"'\"'C:\\\\Users\\\\sadpa\\\\AppData\\\\Local\\\\Temp\\\\pip-install-jm76oqoa\\\\fiona_3339432279614de08c9e8031951712c9\\\\setup.py'\"'\"';f = getattr(tokenize, '\"'\"'open'\"'\"', open)(__file__) if os.path.exists(__file__) else io.StringIO('\"'\"'from setuptools import setup; setup()'\"'\"');code = f.read().replace('\"'\"'\\r\\n'\"'\"', '\"'\"'\\n'\"'\"');f.close();exec(compile(code, __file__, '\"'\"'exec'\"'\"'))' egg_info --egg-base 'C:\\Users\\sadpa\\AppData\\Local\\Temp\\pip-pip-egg-info-99uotc7s'\n",
      "         cwd: C:\\Users\\sadpa\\AppData\\Local\\Temp\\pip-install-jm76oqoa\\fiona_3339432279614de08c9e8031951712c9\\\n",
      "    Complete output (1 lines):\n",
      "    A GDAL API version must be specified. Provide a path to gdal-config using a GDAL_CONFIG environment variable or use a GDAL_VERSION environment variable.\n",
      "    ----------------------------------------\n",
      "WARNING: Discarding https://files.pythonhosted.org/packages/55/2f/17450ec2c8fcc720a8a3e4d9a383499508475c7cfb90f7eca9fb585ac598/Fiona-1.8.15.tar.gz#sha256=3b1c9b5c834fae2fe947cfaea176db890bc6750d1a6ba9f54d969c19ffcd191e (from https://pypi.org/simple/fiona/). Command errored out with exit status 1: python setup.py egg_info Check the logs for full command output.\n",
      "    ERROR: Command errored out with exit status 1:\n",
      "     command: 'C:\\Users\\sadpa\\miniconda3\\python.exe' -c 'import io, os, sys, setuptools, tokenize; sys.argv[0] = '\"'\"'C:\\\\Users\\\\sadpa\\\\AppData\\\\Local\\\\Temp\\\\pip-install-jm76oqoa\\\\fiona_732626e0204d48bf973dff4839f94486\\\\setup.py'\"'\"'; __file__='\"'\"'C:\\\\Users\\\\sadpa\\\\AppData\\\\Local\\\\Temp\\\\pip-install-jm76oqoa\\\\fiona_732626e0204d48bf973dff4839f94486\\\\setup.py'\"'\"';f = getattr(tokenize, '\"'\"'open'\"'\"', open)(__file__) if os.path.exists(__file__) else io.StringIO('\"'\"'from setuptools import setup; setup()'\"'\"');code = f.read().replace('\"'\"'\\r\\n'\"'\"', '\"'\"'\\n'\"'\"');f.close();exec(compile(code, __file__, '\"'\"'exec'\"'\"'))' egg_info --egg-base 'C:\\Users\\sadpa\\AppData\\Local\\Temp\\pip-pip-egg-info-jp_g3kfz'\n",
      "         cwd: C:\\Users\\sadpa\\AppData\\Local\\Temp\\pip-install-jm76oqoa\\fiona_732626e0204d48bf973dff4839f94486\\\n",
      "    Complete output (1 lines):\n",
      "    A GDAL API version must be specified. Provide a path to gdal-config using a GDAL_CONFIG environment variable or use a GDAL_VERSION environment variable.\n",
      "    ----------------------------------------\n",
      "WARNING: Discarding https://files.pythonhosted.org/packages/5c/fd/5ec54f2d9b3d5dd23dd443fad5630d6b872e2664814c68b856c47e0d65af/Fiona-1.8.14.tar.gz#sha256=6eac038206c89d2cf5f99ea38b81cc228dc21eac5f47870a9a32d453b0007f4d (from https://pypi.org/simple/fiona/). Command errored out with exit status 1: python setup.py egg_info Check the logs for full command output.\n",
      "    ERROR: Command errored out with exit status 1:\n",
      "     command: 'C:\\Users\\sadpa\\miniconda3\\python.exe' -c 'import io, os, sys, setuptools, tokenize; sys.argv[0] = '\"'\"'C:\\\\Users\\\\sadpa\\\\AppData\\\\Local\\\\Temp\\\\pip-install-jm76oqoa\\\\fiona_d1f9bc8efda24682ae00e887d729d5c8\\\\setup.py'\"'\"'; __file__='\"'\"'C:\\\\Users\\\\sadpa\\\\AppData\\\\Local\\\\Temp\\\\pip-install-jm76oqoa\\\\fiona_d1f9bc8efda24682ae00e887d729d5c8\\\\setup.py'\"'\"';f = getattr(tokenize, '\"'\"'open'\"'\"', open)(__file__) if os.path.exists(__file__) else io.StringIO('\"'\"'from setuptools import setup; setup()'\"'\"');code = f.read().replace('\"'\"'\\r\\n'\"'\"', '\"'\"'\\n'\"'\"');f.close();exec(compile(code, __file__, '\"'\"'exec'\"'\"'))' egg_info --egg-base 'C:\\Users\\sadpa\\AppData\\Local\\Temp\\pip-pip-egg-info-wqglp2q4'\n",
      "         cwd: C:\\Users\\sadpa\\AppData\\Local\\Temp\\pip-install-jm76oqoa\\fiona_d1f9bc8efda24682ae00e887d729d5c8\\\n",
      "    Complete output (1 lines):\n",
      "    A GDAL API version must be specified. Provide a path to gdal-config using a GDAL_CONFIG environment variable or use a GDAL_VERSION environment variable.\n",
      "    ----------------------------------------\n",
      "WARNING: Discarding https://files.pythonhosted.org/packages/6d/42/f4a7cac53b28fa70e9a93d0e89a24d33e14826dad6644b699362ad84dde0/Fiona-1.8.13.post1.tar.gz#sha256=1a432bf9fd56f089256c010da009c90d4a795c531a848132c965052185336600 (from https://pypi.org/simple/fiona/). Command errored out with exit status 1: python setup.py egg_info Check the logs for full command output.\n",
      "    ERROR: Command errored out with exit status 1:\n",
      "     command: 'C:\\Users\\sadpa\\miniconda3\\python.exe' -c 'import io, os, sys, setuptools, tokenize; sys.argv[0] = '\"'\"'C:\\\\Users\\\\sadpa\\\\AppData\\\\Local\\\\Temp\\\\pip-install-jm76oqoa\\\\fiona_3f560a70d05a432d88af77d1d9e3680b\\\\setup.py'\"'\"'; __file__='\"'\"'C:\\\\Users\\\\sadpa\\\\AppData\\\\Local\\\\Temp\\\\pip-install-jm76oqoa\\\\fiona_3f560a70d05a432d88af77d1d9e3680b\\\\setup.py'\"'\"';f = getattr(tokenize, '\"'\"'open'\"'\"', open)(__file__) if os.path.exists(__file__) else io.StringIO('\"'\"'from setuptools import setup; setup()'\"'\"');code = f.read().replace('\"'\"'\\r\\n'\"'\"', '\"'\"'\\n'\"'\"');f.close();exec(compile(code, __file__, '\"'\"'exec'\"'\"'))' egg_info --egg-base 'C:\\Users\\sadpa\\AppData\\Local\\Temp\\pip-pip-egg-info-l0xud60e'\n",
      "         cwd: C:\\Users\\sadpa\\AppData\\Local\\Temp\\pip-install-jm76oqoa\\fiona_3f560a70d05a432d88af77d1d9e3680b\\\n",
      "    Complete output (1 lines):\n",
      "    A GDAL API version must be specified. Provide a path to gdal-config using a GDAL_CONFIG environment variable or use a GDAL_VERSION environment variable.\n",
      "    ----------------------------------------\n",
      "WARNING: Discarding https://files.pythonhosted.org/packages/be/04/31d0a6f03943b1684f32c9b861be40c1fd282468fa6bd54ddf4a774e6b0f/Fiona-1.8.13.tar.gz#sha256=5ec34898c8b983a723fb4e949dd3e0ed7e691c303e51f6bfd61e52ac9ac813ae (from https://pypi.org/simple/fiona/). Command errored out with exit status 1: python setup.py egg_info Check the logs for full command output.\n",
      "    ERROR: Command errored out with exit status 1:\n",
      "     command: 'C:\\Users\\sadpa\\miniconda3\\python.exe' -c 'import io, os, sys, setuptools, tokenize; sys.argv[0] = '\"'\"'C:\\\\Users\\\\sadpa\\\\AppData\\\\Local\\\\Temp\\\\pip-install-jm76oqoa\\\\fiona_16d9e2c2f87447f7a736b361c23e34d2\\\\setup.py'\"'\"'; __file__='\"'\"'C:\\\\Users\\\\sadpa\\\\AppData\\\\Local\\\\Temp\\\\pip-install-jm76oqoa\\\\fiona_16d9e2c2f87447f7a736b361c23e34d2\\\\setup.py'\"'\"';f = getattr(tokenize, '\"'\"'open'\"'\"', open)(__file__) if os.path.exists(__file__) else io.StringIO('\"'\"'from setuptools import setup; setup()'\"'\"');code = f.read().replace('\"'\"'\\r\\n'\"'\"', '\"'\"'\\n'\"'\"');f.close();exec(compile(code, __file__, '\"'\"'exec'\"'\"'))' egg_info --egg-base 'C:\\Users\\sadpa\\AppData\\Local\\Temp\\pip-pip-egg-info-b063cfmr'\n",
      "         cwd: C:\\Users\\sadpa\\AppData\\Local\\Temp\\pip-install-jm76oqoa\\fiona_16d9e2c2f87447f7a736b361c23e34d2\\\n",
      "    Complete output (1 lines):\n",
      "    A GDAL API version must be specified. Provide a path to gdal-config using a GDAL_CONFIG environment variable or use a GDAL_VERSION environment variable.\n",
      "    ----------------------------------------\n",
      "WARNING: Discarding https://files.pythonhosted.org/packages/97/d8/feab39987296437fbdc3029fb39752a14355d217d73b93471010b8dd63a3/Fiona-1.8.12.tar.gz#sha256=c9266ddf6ae2a64fcea20014ddf27f800ac07584f2fdb09c2a02f3b3a52e371c (from https://pypi.org/simple/fiona/). Command errored out with exit status 1: python setup.py egg_info Check the logs for full command output.\n",
      "    ERROR: Command errored out with exit status 1:\n",
      "     command: 'C:\\Users\\sadpa\\miniconda3\\python.exe' -c 'import io, os, sys, setuptools, tokenize; sys.argv[0] = '\"'\"'C:\\\\Users\\\\sadpa\\\\AppData\\\\Local\\\\Temp\\\\pip-install-jm76oqoa\\\\fiona_d9ef2547571545a3b4c6757a507e9a8d\\\\setup.py'\"'\"'; __file__='\"'\"'C:\\\\Users\\\\sadpa\\\\AppData\\\\Local\\\\Temp\\\\pip-install-jm76oqoa\\\\fiona_d9ef2547571545a3b4c6757a507e9a8d\\\\setup.py'\"'\"';f = getattr(tokenize, '\"'\"'open'\"'\"', open)(__file__) if os.path.exists(__file__) else io.StringIO('\"'\"'from setuptools import setup; setup()'\"'\"');code = f.read().replace('\"'\"'\\r\\n'\"'\"', '\"'\"'\\n'\"'\"');f.close();exec(compile(code, __file__, '\"'\"'exec'\"'\"'))' egg_info --egg-base 'C:\\Users\\sadpa\\AppData\\Local\\Temp\\pip-pip-egg-info-8lv2g77t'\n",
      "         cwd: C:\\Users\\sadpa\\AppData\\Local\\Temp\\pip-install-jm76oqoa\\fiona_d9ef2547571545a3b4c6757a507e9a8d\\\n",
      "    Complete output (1 lines):\n",
      "    A GDAL API version must be specified. Provide a path to gdal-config using a GDAL_CONFIG environment variable or use a GDAL_VERSION environment variable.\n",
      "    ----------------------------------------\n",
      "WARNING: Discarding https://files.pythonhosted.org/packages/9d/f4/0a0ddc6174c4a93679b5f1dd3535e7ef8989828e6d5f86112de681f8c87b/Fiona-1.8.11.tar.gz#sha256=1e7ca9e051f5bffa1c43c70d573da9ca223fc076b84fa73380614fc02b9eb7f6 (from https://pypi.org/simple/fiona/). Command errored out with exit status 1: python setup.py egg_info Check the logs for full command output.\n",
      "    ERROR: Command errored out with exit status 1:\n",
      "     command: 'C:\\Users\\sadpa\\miniconda3\\python.exe' -c 'import io, os, sys, setuptools, tokenize; sys.argv[0] = '\"'\"'C:\\\\Users\\\\sadpa\\\\AppData\\\\Local\\\\Temp\\\\pip-install-jm76oqoa\\\\fiona_2a7424300e2646a7922d665ad44df2c9\\\\setup.py'\"'\"'; __file__='\"'\"'C:\\\\Users\\\\sadpa\\\\AppData\\\\Local\\\\Temp\\\\pip-install-jm76oqoa\\\\fiona_2a7424300e2646a7922d665ad44df2c9\\\\setup.py'\"'\"';f = getattr(tokenize, '\"'\"'open'\"'\"', open)(__file__) if os.path.exists(__file__) else io.StringIO('\"'\"'from setuptools import setup; setup()'\"'\"');code = f.read().replace('\"'\"'\\r\\n'\"'\"', '\"'\"'\\n'\"'\"');f.close();exec(compile(code, __file__, '\"'\"'exec'\"'\"'))' egg_info --egg-base 'C:\\Users\\sadpa\\AppData\\Local\\Temp\\pip-pip-egg-info-6t_dqw9k'\n",
      "         cwd: C:\\Users\\sadpa\\AppData\\Local\\Temp\\pip-install-jm76oqoa\\fiona_2a7424300e2646a7922d665ad44df2c9\\\n",
      "    Complete output (1 lines):\n",
      "    A GDAL API version must be specified. Provide a path to gdal-config using a GDAL_CONFIG environment variable or use a GDAL_VERSION environment variable.\n",
      "    ----------------------------------------\n",
      "WARNING: Discarding https://files.pythonhosted.org/packages/13/73/f80b491ed8559326fab202a6d6333a3cd6e8be1e9d782bc6c0d03d476457/Fiona-1.8.10.tar.gz#sha256=ff562eb2f3960e21f8c7f050ddd7f47a763869ea14afc2234a40df72666c6a2c (from https://pypi.org/simple/fiona/). Command errored out with exit status 1: python setup.py egg_info Check the logs for full command output.\n",
      "    ERROR: Command errored out with exit status 1:\n",
      "     command: 'C:\\Users\\sadpa\\miniconda3\\python.exe' -c 'import io, os, sys, setuptools, tokenize; sys.argv[0] = '\"'\"'C:\\\\Users\\\\sadpa\\\\AppData\\\\Local\\\\Temp\\\\pip-install-jm76oqoa\\\\fiona_923c79cbd9f64bd199d30ddd5f31cf8d\\\\setup.py'\"'\"'; __file__='\"'\"'C:\\\\Users\\\\sadpa\\\\AppData\\\\Local\\\\Temp\\\\pip-install-jm76oqoa\\\\fiona_923c79cbd9f64bd199d30ddd5f31cf8d\\\\setup.py'\"'\"';f = getattr(tokenize, '\"'\"'open'\"'\"', open)(__file__) if os.path.exists(__file__) else io.StringIO('\"'\"'from setuptools import setup; setup()'\"'\"');code = f.read().replace('\"'\"'\\r\\n'\"'\"', '\"'\"'\\n'\"'\"');f.close();exec(compile(code, __file__, '\"'\"'exec'\"'\"'))' egg_info --egg-base 'C:\\Users\\sadpa\\AppData\\Local\\Temp\\pip-pip-egg-info-wng0gta0'\n",
      "         cwd: C:\\Users\\sadpa\\AppData\\Local\\Temp\\pip-install-jm76oqoa\\fiona_923c79cbd9f64bd199d30ddd5f31cf8d\\\n",
      "    Complete output (1 lines):\n",
      "    A GDAL API version must be specified. Provide a path to gdal-config using a GDAL_CONFIG environment variable or use a GDAL_VERSION environment variable.\n",
      "    ----------------------------------------\n",
      "WARNING: Discarding https://files.pythonhosted.org/packages/9b/52/45e75507660ce0e86176d0f59b659560f687e2c7e9ebf82a10e7dcd2d3b7/Fiona-1.8.9.post2.tar.gz#sha256=210fb038b579fab38f35ddbdd31b9725f4d5099b3edfd4b87c983e5d47b79983 (from https://pypi.org/simple/fiona/). Command errored out with exit status 1: python setup.py egg_info Check the logs for full command output.\n",
      "    ERROR: Command errored out with exit status 1:\n",
      "     command: 'C:\\Users\\sadpa\\miniconda3\\python.exe' -c 'import io, os, sys, setuptools, tokenize; sys.argv[0] = '\"'\"'C:\\\\Users\\\\sadpa\\\\AppData\\\\Local\\\\Temp\\\\pip-install-jm76oqoa\\\\fiona_bc785b9b134c4a5d9d13f8bb5947ca58\\\\setup.py'\"'\"'; __file__='\"'\"'C:\\\\Users\\\\sadpa\\\\AppData\\\\Local\\\\Temp\\\\pip-install-jm76oqoa\\\\fiona_bc785b9b134c4a5d9d13f8bb5947ca58\\\\setup.py'\"'\"';f = getattr(tokenize, '\"'\"'open'\"'\"', open)(__file__) if os.path.exists(__file__) else io.StringIO('\"'\"'from setuptools import setup; setup()'\"'\"');code = f.read().replace('\"'\"'\\r\\n'\"'\"', '\"'\"'\\n'\"'\"');f.close();exec(compile(code, __file__, '\"'\"'exec'\"'\"'))' egg_info --egg-base 'C:\\Users\\sadpa\\AppData\\Local\\Temp\\pip-pip-egg-info-cn9tcei0'\n",
      "         cwd: C:\\Users\\sadpa\\AppData\\Local\\Temp\\pip-install-jm76oqoa\\fiona_bc785b9b134c4a5d9d13f8bb5947ca58\\\n",
      "    Complete output (1 lines):\n",
      "    A GDAL API version must be specified. Provide a path to gdal-config using a GDAL_CONFIG environment variable or use a GDAL_VERSION environment variable.\n",
      "    ----------------------------------------\n",
      "WARNING: Discarding https://files.pythonhosted.org/packages/0e/a4/d9dd7399be809d3990f5000fb6ae43189ea26ae88be1bed3a4c9ddc1becc/Fiona-1.8.9.post1.tar.gz#sha256=d5e0ea0b8addffe9cba4cb59e2bd495b015230e7a1b1597974f5048211930199 (from https://pypi.org/simple/fiona/). Command errored out with exit status 1: python setup.py egg_info Check the logs for full command output.\n",
      "    ERROR: Command errored out with exit status 1:\n",
      "     command: 'C:\\Users\\sadpa\\miniconda3\\python.exe' -c 'import io, os, sys, setuptools, tokenize; sys.argv[0] = '\"'\"'C:\\\\Users\\\\sadpa\\\\AppData\\\\Local\\\\Temp\\\\pip-install-jm76oqoa\\\\fiona_89f7dd53c06947bb9e56194026475ef6\\\\setup.py'\"'\"'; __file__='\"'\"'C:\\\\Users\\\\sadpa\\\\AppData\\\\Local\\\\Temp\\\\pip-install-jm76oqoa\\\\fiona_89f7dd53c06947bb9e56194026475ef6\\\\setup.py'\"'\"';f = getattr(tokenize, '\"'\"'open'\"'\"', open)(__file__) if os.path.exists(__file__) else io.StringIO('\"'\"'from setuptools import setup; setup()'\"'\"');code = f.read().replace('\"'\"'\\r\\n'\"'\"', '\"'\"'\\n'\"'\"');f.close();exec(compile(code, __file__, '\"'\"'exec'\"'\"'))' egg_info --egg-base 'C:\\Users\\sadpa\\AppData\\Local\\Temp\\pip-pip-egg-info-eoowt1br'\n",
      "         cwd: C:\\Users\\sadpa\\AppData\\Local\\Temp\\pip-install-jm76oqoa\\fiona_89f7dd53c06947bb9e56194026475ef6\\\n",
      "    Complete output (1 lines):\n",
      "    A GDAL API version must be specified. Provide a path to gdal-config using a GDAL_CONFIG environment variable or use a GDAL_VERSION environment variable.\n",
      "    ----------------------------------------\n",
      "WARNING: Discarding https://files.pythonhosted.org/packages/ad/92/dcbd8c54d697c22f299b5af63b6df3acfbd06c6d72e249614c05be99337c/Fiona-1.8.9.tar.gz#sha256=4dd6e2f5327c1174143c7c8594a75d373bc72f2c9a2a6daee312c3186a128add (from https://pypi.org/simple/fiona/). Command errored out with exit status 1: python setup.py egg_info Check the logs for full command output.\n",
      "    ERROR: Command errored out with exit status 1:\n",
      "     command: 'C:\\Users\\sadpa\\miniconda3\\python.exe' -c 'import io, os, sys, setuptools, tokenize; sys.argv[0] = '\"'\"'C:\\\\Users\\\\sadpa\\\\AppData\\\\Local\\\\Temp\\\\pip-install-jm76oqoa\\\\fiona_d8b8cdeed60743d5936980e78a927d69\\\\setup.py'\"'\"'; __file__='\"'\"'C:\\\\Users\\\\sadpa\\\\AppData\\\\Local\\\\Temp\\\\pip-install-jm76oqoa\\\\fiona_d8b8cdeed60743d5936980e78a927d69\\\\setup.py'\"'\"';f = getattr(tokenize, '\"'\"'open'\"'\"', open)(__file__) if os.path.exists(__file__) else io.StringIO('\"'\"'from setuptools import setup; setup()'\"'\"');code = f.read().replace('\"'\"'\\r\\n'\"'\"', '\"'\"'\\n'\"'\"');f.close();exec(compile(code, __file__, '\"'\"'exec'\"'\"'))' egg_info --egg-base 'C:\\Users\\sadpa\\AppData\\Local\\Temp\\pip-pip-egg-info-o4w17oik'\n",
      "         cwd: C:\\Users\\sadpa\\AppData\\Local\\Temp\\pip-install-jm76oqoa\\fiona_d8b8cdeed60743d5936980e78a927d69\\\n",
      "    Complete output (1 lines):\n",
      "    A GDAL API version must be specified. Provide a path to gdal-config using a GDAL_CONFIG environment variable or use a GDAL_VERSION environment variable.\n",
      "    ----------------------------------------\n",
      "WARNING: Discarding https://files.pythonhosted.org/packages/94/7f/e288db1ad63d759d494c30caae34f865e0c6927588c490705e91b7134193/Fiona-1.8.8.tar.gz#sha256=711c3be73203b37812992089445a1e4e9d3d6b64e667389f7b15406e15a91e83 (from https://pypi.org/simple/fiona/). Command errored out with exit status 1: python setup.py egg_info Check the logs for full command output.\n",
      "    ERROR: Command errored out with exit status 1:\n",
      "     command: 'C:\\Users\\sadpa\\miniconda3\\python.exe' -c 'import io, os, sys, setuptools, tokenize; sys.argv[0] = '\"'\"'C:\\\\Users\\\\sadpa\\\\AppData\\\\Local\\\\Temp\\\\pip-install-jm76oqoa\\\\fiona_102271a5d9064c3f9d0e06c579cf4c9e\\\\setup.py'\"'\"'; __file__='\"'\"'C:\\\\Users\\\\sadpa\\\\AppData\\\\Local\\\\Temp\\\\pip-install-jm76oqoa\\\\fiona_102271a5d9064c3f9d0e06c579cf4c9e\\\\setup.py'\"'\"';f = getattr(tokenize, '\"'\"'open'\"'\"', open)(__file__) if os.path.exists(__file__) else io.StringIO('\"'\"'from setuptools import setup; setup()'\"'\"');code = f.read().replace('\"'\"'\\r\\n'\"'\"', '\"'\"'\\n'\"'\"');f.close();exec(compile(code, __file__, '\"'\"'exec'\"'\"'))' egg_info --egg-base 'C:\\Users\\sadpa\\AppData\\Local\\Temp\\pip-pip-egg-info-qysb7eoq'\n",
      "         cwd: C:\\Users\\sadpa\\AppData\\Local\\Temp\\pip-install-jm76oqoa\\fiona_102271a5d9064c3f9d0e06c579cf4c9e\\\n",
      "    Complete output (1 lines):\n",
      "    A GDAL API version must be specified. Provide a path to gdal-config using a GDAL_CONFIG environment variable or use a GDAL_VERSION environment variable.\n",
      "    ----------------------------------------\n",
      "WARNING: Discarding https://files.pythonhosted.org/packages/78/62/daafd070aebefa639df247705b97f13f7cfad43895581b5cae41bd886709/Fiona-1.8.7.tar.gz#sha256=a55a23615bad3e142d4e4cda97bb5de83c778a80049222e9dffae93c13b5cf93 (from https://pypi.org/simple/fiona/). Command errored out with exit status 1: python setup.py egg_info Check the logs for full command output.\n",
      "    ERROR: Command errored out with exit status 1:\n",
      "     command: 'C:\\Users\\sadpa\\miniconda3\\python.exe' -c 'import io, os, sys, setuptools, tokenize; sys.argv[0] = '\"'\"'C:\\\\Users\\\\sadpa\\\\AppData\\\\Local\\\\Temp\\\\pip-install-jm76oqoa\\\\fiona_a2770350185544f5919145d43a55d15c\\\\setup.py'\"'\"'; __file__='\"'\"'C:\\\\Users\\\\sadpa\\\\AppData\\\\Local\\\\Temp\\\\pip-install-jm76oqoa\\\\fiona_a2770350185544f5919145d43a55d15c\\\\setup.py'\"'\"';f = getattr(tokenize, '\"'\"'open'\"'\"', open)(__file__) if os.path.exists(__file__) else io.StringIO('\"'\"'from setuptools import setup; setup()'\"'\"');code = f.read().replace('\"'\"'\\r\\n'\"'\"', '\"'\"'\\n'\"'\"');f.close();exec(compile(code, __file__, '\"'\"'exec'\"'\"'))' egg_info --egg-base 'C:\\Users\\sadpa\\AppData\\Local\\Temp\\pip-pip-egg-info-u8djwcu0'\n",
      "         cwd: C:\\Users\\sadpa\\AppData\\Local\\Temp\\pip-install-jm76oqoa\\fiona_a2770350185544f5919145d43a55d15c\\\n",
      "    Complete output (1 lines):\n",
      "    A GDAL API version must be specified. Provide a path to gdal-config using a GDAL_CONFIG environment variable or use a GDAL_VERSION environment variable.\n",
      "    ----------------------------------------\n",
      "WARNING: Discarding https://files.pythonhosted.org/packages/41/9d/63696e7b1de42aad294d4781199a408bec593d8fdb80a2b4a788c911a33b/Fiona-1.8.6.tar.gz#sha256=fa31dfe8855b9cd0b128b47a4df558f1b8eda90d2181bff1dd9854e5556efb3e (from https://pypi.org/simple/fiona/). Command errored out with exit status 1: python setup.py egg_info Check the logs for full command output.\n",
      "    ERROR: Command errored out with exit status 1:\n",
      "     command: 'C:\\Users\\sadpa\\miniconda3\\python.exe' -c 'import io, os, sys, setuptools, tokenize; sys.argv[0] = '\"'\"'C:\\\\Users\\\\sadpa\\\\AppData\\\\Local\\\\Temp\\\\pip-install-jm76oqoa\\\\fiona_41dc4a5291aa4739a7ab6ea499082d4d\\\\setup.py'\"'\"'; __file__='\"'\"'C:\\\\Users\\\\sadpa\\\\AppData\\\\Local\\\\Temp\\\\pip-install-jm76oqoa\\\\fiona_41dc4a5291aa4739a7ab6ea499082d4d\\\\setup.py'\"'\"';f = getattr(tokenize, '\"'\"'open'\"'\"', open)(__file__) if os.path.exists(__file__) else io.StringIO('\"'\"'from setuptools import setup; setup()'\"'\"');code = f.read().replace('\"'\"'\\r\\n'\"'\"', '\"'\"'\\n'\"'\"');f.close();exec(compile(code, __file__, '\"'\"'exec'\"'\"'))' egg_info --egg-base 'C:\\Users\\sadpa\\AppData\\Local\\Temp\\pip-pip-egg-info-jns_kf_g'\n",
      "         cwd: C:\\Users\\sadpa\\AppData\\Local\\Temp\\pip-install-jm76oqoa\\fiona_41dc4a5291aa4739a7ab6ea499082d4d\\\n",
      "    Complete output (1 lines):\n",
      "    A GDAL API version must be specified. Provide a path to gdal-config using a GDAL_CONFIG environment variable or use a GDAL_VERSION environment variable.\n",
      "    ----------------------------------------\n",
      "WARNING: Discarding https://files.pythonhosted.org/packages/7b/af/1c2c83c4a8363a4ce9fea817b1910b5e071bed012e18257faa2a0ab3cfe7/Fiona-1.8.5.tar.gz#sha256=4f5cc2d449edbbf693c83e24cdada72de7c41297383d16fcc92387eb445e9d35 (from https://pypi.org/simple/fiona/). Command errored out with exit status 1: python setup.py egg_info Check the logs for full command output.\n",
      "    ERROR: Command errored out with exit status 1:\n",
      "     command: 'C:\\Users\\sadpa\\miniconda3\\python.exe' -c 'import io, os, sys, setuptools, tokenize; sys.argv[0] = '\"'\"'C:\\\\Users\\\\sadpa\\\\AppData\\\\Local\\\\Temp\\\\pip-install-jm76oqoa\\\\fiona_604c630261054cbf8f4dc55b175c415f\\\\setup.py'\"'\"'; __file__='\"'\"'C:\\\\Users\\\\sadpa\\\\AppData\\\\Local\\\\Temp\\\\pip-install-jm76oqoa\\\\fiona_604c630261054cbf8f4dc55b175c415f\\\\setup.py'\"'\"';f = getattr(tokenize, '\"'\"'open'\"'\"', open)(__file__) if os.path.exists(__file__) else io.StringIO('\"'\"'from setuptools import setup; setup()'\"'\"');code = f.read().replace('\"'\"'\\r\\n'\"'\"', '\"'\"'\\n'\"'\"');f.close();exec(compile(code, __file__, '\"'\"'exec'\"'\"'))' egg_info --egg-base 'C:\\Users\\sadpa\\AppData\\Local\\Temp\\pip-pip-egg-info-uh2o9p54'\n",
      "         cwd: C:\\Users\\sadpa\\AppData\\Local\\Temp\\pip-install-jm76oqoa\\fiona_604c630261054cbf8f4dc55b175c415f\\\n",
      "    Complete output (1 lines):\n",
      "    A GDAL API version must be specified. Provide a path to gdal-config using a GDAL_CONFIG environment variable or use a GDAL_VERSION environment variable.\n",
      "    ----------------------------------------\n",
      "WARNING: Discarding https://files.pythonhosted.org/packages/3a/16/84960540e9fce61d767fd2f0f1d95f4c63e99ab5d8fddc308e8b51b059b8/Fiona-1.8.4.tar.gz#sha256=aec9ab2e3513c9503ec123b1a8573bee55fc6a66e2ac07088c3376bf6738a424 (from https://pypi.org/simple/fiona/). Command errored out with exit status 1: python setup.py egg_info Check the logs for full command output.\n",
      "    ERROR: Command errored out with exit status 1:\n",
      "     command: 'C:\\Users\\sadpa\\miniconda3\\python.exe' -c 'import io, os, sys, setuptools, tokenize; sys.argv[0] = '\"'\"'C:\\\\Users\\\\sadpa\\\\AppData\\\\Local\\\\Temp\\\\pip-install-jm76oqoa\\\\fiona_9e017819a9eb4499bfc73e5fb38a1eea\\\\setup.py'\"'\"'; __file__='\"'\"'C:\\\\Users\\\\sadpa\\\\AppData\\\\Local\\\\Temp\\\\pip-install-jm76oqoa\\\\fiona_9e017819a9eb4499bfc73e5fb38a1eea\\\\setup.py'\"'\"';f = getattr(tokenize, '\"'\"'open'\"'\"', open)(__file__) if os.path.exists(__file__) else io.StringIO('\"'\"'from setuptools import setup; setup()'\"'\"');code = f.read().replace('\"'\"'\\r\\n'\"'\"', '\"'\"'\\n'\"'\"');f.close();exec(compile(code, __file__, '\"'\"'exec'\"'\"'))' egg_info --egg-base 'C:\\Users\\sadpa\\AppData\\Local\\Temp\\pip-pip-egg-info-vjfk0kts'\n",
      "         cwd: C:\\Users\\sadpa\\AppData\\Local\\Temp\\pip-install-jm76oqoa\\fiona_9e017819a9eb4499bfc73e5fb38a1eea\\\n",
      "    Complete output (1 lines):\n",
      "    A GDAL API version must be specified. Provide a path to gdal-config using a GDAL_CONFIG environment variable or use a GDAL_VERSION environment variable.\n",
      "    ----------------------------------------\n",
      "WARNING: Discarding https://files.pythonhosted.org/packages/46/d1/fcdb32513a03abfde0d97fd9782ce0f8cc0540fa6c6ce783e87b94064964/Fiona-1.8.3.tar.gz#sha256=3e831100a23c3b6cd32b98baf0c9e2119d909b44a5cf4533d3625f61dcf2d2b1 (from https://pypi.org/simple/fiona/). Command errored out with exit status 1: python setup.py egg_info Check the logs for full command output.\n",
      "    ERROR: Command errored out with exit status 1:\n",
      "     command: 'C:\\Users\\sadpa\\miniconda3\\python.exe' -c 'import io, os, sys, setuptools, tokenize; sys.argv[0] = '\"'\"'C:\\\\Users\\\\sadpa\\\\AppData\\\\Local\\\\Temp\\\\pip-install-jm76oqoa\\\\fiona_e781fd874c0943eab57f98ef771a94bf\\\\setup.py'\"'\"'; __file__='\"'\"'C:\\\\Users\\\\sadpa\\\\AppData\\\\Local\\\\Temp\\\\pip-install-jm76oqoa\\\\fiona_e781fd874c0943eab57f98ef771a94bf\\\\setup.py'\"'\"';f = getattr(tokenize, '\"'\"'open'\"'\"', open)(__file__) if os.path.exists(__file__) else io.StringIO('\"'\"'from setuptools import setup; setup()'\"'\"');code = f.read().replace('\"'\"'\\r\\n'\"'\"', '\"'\"'\\n'\"'\"');f.close();exec(compile(code, __file__, '\"'\"'exec'\"'\"'))' egg_info --egg-base 'C:\\Users\\sadpa\\AppData\\Local\\Temp\\pip-pip-egg-info-b5a7va0m'\n",
      "         cwd: C:\\Users\\sadpa\\AppData\\Local\\Temp\\pip-install-jm76oqoa\\fiona_e781fd874c0943eab57f98ef771a94bf\\\n",
      "    Complete output (1 lines):\n",
      "    A GDAL API version must be specified. Provide a path to gdal-config using a GDAL_CONFIG environment variable or use a GDAL_VERSION environment variable.\n",
      "    ----------------------------------------\n",
      "WARNING: Discarding https://files.pythonhosted.org/packages/25/50/0466d5d83e1859c5ca38351ee932d64cc5635f9d4dad522879e58f4b0018/Fiona-1.8.2.tar.gz#sha256=4c6419b7ac29136708029f6a44b4ccd458735a4d241016c7b1bab41685c08d8f (from https://pypi.org/simple/fiona/). Command errored out with exit status 1: python setup.py egg_info Check the logs for full command output.\n",
      "    ERROR: Command errored out with exit status 1:\n",
      "     command: 'C:\\Users\\sadpa\\miniconda3\\python.exe' -c 'import io, os, sys, setuptools, tokenize; sys.argv[0] = '\"'\"'C:\\\\Users\\\\sadpa\\\\AppData\\\\Local\\\\Temp\\\\pip-install-jm76oqoa\\\\fiona_5438eb22671d461e8cd666b9455d3aef\\\\setup.py'\"'\"'; __file__='\"'\"'C:\\\\Users\\\\sadpa\\\\AppData\\\\Local\\\\Temp\\\\pip-install-jm76oqoa\\\\fiona_5438eb22671d461e8cd666b9455d3aef\\\\setup.py'\"'\"';f = getattr(tokenize, '\"'\"'open'\"'\"', open)(__file__) if os.path.exists(__file__) else io.StringIO('\"'\"'from setuptools import setup; setup()'\"'\"');code = f.read().replace('\"'\"'\\r\\n'\"'\"', '\"'\"'\\n'\"'\"');f.close();exec(compile(code, __file__, '\"'\"'exec'\"'\"'))' egg_info --egg-base 'C:\\Users\\sadpa\\AppData\\Local\\Temp\\pip-pip-egg-info-a50fk9ux'\n",
      "         cwd: C:\\Users\\sadpa\\AppData\\Local\\Temp\\pip-install-jm76oqoa\\fiona_5438eb22671d461e8cd666b9455d3aef\\\n",
      "    Complete output (1 lines):\n",
      "    A GDAL API version must be specified. Provide a path to gdal-config using a GDAL_CONFIG environment variable or use a GDAL_VERSION environment variable.\n",
      "    ----------------------------------------\n",
      "WARNING: Discarding https://files.pythonhosted.org/packages/3e/5f/0c6704efeea2ff3fba7f54cc6ec38070157f21bc1cffa7bdfa7c9f6b8f7a/Fiona-1.8.1.tar.gz#sha256=4c34bb4c5cd788aaf14e5484c3b7de407b1a8a7c7b2d29bbb2e8b37931e83b8d (from https://pypi.org/simple/fiona/). Command errored out with exit status 1: python setup.py egg_info Check the logs for full command output.\n",
      "    ERROR: Command errored out with exit status 1:\n",
      "     command: 'C:\\Users\\sadpa\\miniconda3\\python.exe' -c 'import io, os, sys, setuptools, tokenize; sys.argv[0] = '\"'\"'C:\\\\Users\\\\sadpa\\\\AppData\\\\Local\\\\Temp\\\\pip-install-jm76oqoa\\\\fiona_ffbb121f681046d28989a99f907812ce\\\\setup.py'\"'\"'; __file__='\"'\"'C:\\\\Users\\\\sadpa\\\\AppData\\\\Local\\\\Temp\\\\pip-install-jm76oqoa\\\\fiona_ffbb121f681046d28989a99f907812ce\\\\setup.py'\"'\"';f = getattr(tokenize, '\"'\"'open'\"'\"', open)(__file__) if os.path.exists(__file__) else io.StringIO('\"'\"'from setuptools import setup; setup()'\"'\"');code = f.read().replace('\"'\"'\\r\\n'\"'\"', '\"'\"'\\n'\"'\"');f.close();exec(compile(code, __file__, '\"'\"'exec'\"'\"'))' egg_info --egg-base 'C:\\Users\\sadpa\\AppData\\Local\\Temp\\pip-pip-egg-info-nygbye0p'\n",
      "         cwd: C:\\Users\\sadpa\\AppData\\Local\\Temp\\pip-install-jm76oqoa\\fiona_ffbb121f681046d28989a99f907812ce\\\n",
      "    Complete output (1 lines):\n",
      "    A GDAL API version must be specified. Provide a path to gdal-config using a GDAL_CONFIG environment variable or use a GDAL_VERSION environment variable.\n",
      "    ----------------------------------------\n",
      "WARNING: Discarding https://files.pythonhosted.org/packages/2a/bd/c1efc2680f338e5941121c776d6323af6b9698ac739e22ba523cee348a7f/Fiona-1.8.0.tar.gz#sha256=20141a9ece06daa7bb4333fba640c2fe39a49f8aca5492d1da8595d41e91844a (from https://pypi.org/simple/fiona/). Command errored out with exit status 1: python setup.py egg_info Check the logs for full command output.\n",
      "  ERROR: Command errored out with exit status 1:\n",
      "   command: 'C:\\Users\\sadpa\\miniconda3\\python.exe' -u -c 'import io, os, sys, setuptools, tokenize; sys.argv[0] = '\"'\"'C:\\\\Users\\\\sadpa\\\\AppData\\\\Local\\\\Temp\\\\pip-install-jm76oqoa\\\\fiona_c2b678e7821e4afc8a12662b2bb3765d\\\\setup.py'\"'\"'; __file__='\"'\"'C:\\\\Users\\\\sadpa\\\\AppData\\\\Local\\\\Temp\\\\pip-install-jm76oqoa\\\\fiona_c2b678e7821e4afc8a12662b2bb3765d\\\\setup.py'\"'\"';f = getattr(tokenize, '\"'\"'open'\"'\"', open)(__file__) if os.path.exists(__file__) else io.StringIO('\"'\"'from setuptools import setup; setup()'\"'\"');code = f.read().replace('\"'\"'\\r\\n'\"'\"', '\"'\"'\\n'\"'\"');f.close();exec(compile(code, __file__, '\"'\"'exec'\"'\"'))' bdist_wheel -d 'C:\\Users\\sadpa\\AppData\\Local\\Temp\\pip-wheel-gll7aumk'\n",
      "       cwd: C:\\Users\\sadpa\\AppData\\Local\\Temp\\pip-install-jm76oqoa\\fiona_c2b678e7821e4afc8a12662b2bb3765d\\\n",
      "  Complete output (48 lines):\n",
      "  C:\\Users\\sadpa\\miniconda3\\lib\\site-packages\\setuptools\\_distutils\\dist.py:275: UserWarning: Unknown distribution option: 'metadata_version'\n",
      "    warnings.warn(msg)\n",
      "  C:\\Users\\sadpa\\miniconda3\\lib\\site-packages\\setuptools\\_distutils\\dist.py:275: UserWarning: Unknown distribution option: 'requires_python'\n",
      "    warnings.warn(msg)\n",
      "  C:\\Users\\sadpa\\miniconda3\\lib\\site-packages\\setuptools\\_distutils\\dist.py:275: UserWarning: Unknown distribution option: 'requires_external'\n",
      "    warnings.warn(msg)\n",
      "  running bdist_wheel\n",
      "  running build\n",
      "  running build_py\n",
      "  creating build\n",
      "  creating build\\lib.win-amd64-3.9\n",
      "  creating build\\lib.win-amd64-3.9\\fiona\n",
      "  copying .\\fiona\\collection.py -> build\\lib.win-amd64-3.9\\fiona\n",
      "  copying .\\fiona\\compat.py -> build\\lib.win-amd64-3.9\\fiona\n",
      "  copying .\\fiona\\crs.py -> build\\lib.win-amd64-3.9\\fiona\n",
      "  copying .\\fiona\\drvsupport.py -> build\\lib.win-amd64-3.9\\fiona\n",
      "  copying .\\fiona\\errors.py -> build\\lib.win-amd64-3.9\\fiona\n",
      "  copying .\\fiona\\inspector.py -> build\\lib.win-amd64-3.9\\fiona\n",
      "  copying .\\fiona\\rfc3339.py -> build\\lib.win-amd64-3.9\\fiona\n",
      "  copying .\\fiona\\tool.py -> build\\lib.win-amd64-3.9\\fiona\n",
      "  copying .\\fiona\\transform.py -> build\\lib.win-amd64-3.9\\fiona\n",
      "  copying .\\fiona\\__init__.py -> build\\lib.win-amd64-3.9\\fiona\n",
      "  creating build\\lib.win-amd64-3.9\\fiona\\fio\n",
      "  copying .\\fiona\\fio\\bounds.py -> build\\lib.win-amd64-3.9\\fiona\\fio\n",
      "  copying .\\fiona\\fio\\calc.py -> build\\lib.win-amd64-3.9\\fiona\\fio\n",
      "  copying .\\fiona\\fio\\cat.py -> build\\lib.win-amd64-3.9\\fiona\\fio\n",
      "  copying .\\fiona\\fio\\collect.py -> build\\lib.win-amd64-3.9\\fiona\\fio\n",
      "  copying .\\fiona\\fio\\distrib.py -> build\\lib.win-amd64-3.9\\fiona\\fio\n",
      "  copying .\\fiona\\fio\\dump.py -> build\\lib.win-amd64-3.9\\fiona\\fio\n",
      "  copying .\\fiona\\fio\\env.py -> build\\lib.win-amd64-3.9\\fiona\\fio\n",
      "  copying .\\fiona\\fio\\filter.py -> build\\lib.win-amd64-3.9\\fiona\\fio\n",
      "  copying .\\fiona\\fio\\helpers.py -> build\\lib.win-amd64-3.9\\fiona\\fio\n",
      "  copying .\\fiona\\fio\\info.py -> build\\lib.win-amd64-3.9\\fiona\\fio\n",
      "  copying .\\fiona\\fio\\insp.py -> build\\lib.win-amd64-3.9\\fiona\\fio\n",
      "  copying .\\fiona\\fio\\load.py -> build\\lib.win-amd64-3.9\\fiona\\fio\n",
      "  copying .\\fiona\\fio\\ls.py -> build\\lib.win-amd64-3.9\\fiona\\fio\n",
      "  copying .\\fiona\\fio\\main.py -> build\\lib.win-amd64-3.9\\fiona\\fio\n",
      "  copying .\\fiona\\fio\\options.py -> build\\lib.win-amd64-3.9\\fiona\\fio\n",
      "  copying .\\fiona\\fio\\__init__.py -> build\\lib.win-amd64-3.9\\fiona\\fio\n",
      "  running build_ext\n",
      "  building 'fiona._transform' extension\n",
      "  creating build\\temp.win-amd64-3.9\n",
      "  creating build\\temp.win-amd64-3.9\\Release\n",
      "  creating build\\temp.win-amd64-3.9\\Release\\fiona\n",
      "  \"C:\\Program Files (x86)\\Microsoft Visual Studio\\2019\\BuildTools\\VC\\Tools\\MSVC\\14.29.30133\\bin\\HostX86\\x64\\cl.exe\" /c /nologo /O2 /W3 /GL /DNDEBUG /MD -IC:\\Users\\sadpa\\miniconda3\\include -IC:\\Users\\sadpa\\miniconda3\\Include \"-IC:\\Program Files (x86)\\Microsoft Visual Studio\\2019\\BuildTools\\VC\\Tools\\MSVC\\14.29.30133\\include\" \"-IC:\\Program Files (x86)\\Windows Kits\\NETFXSDK\\4.8\\include\\um\" \"-IC:\\Program Files (x86)\\Windows Kits\\10\\include\\10.0.19041.0\\ucrt\" \"-IC:\\Program Files (x86)\\Windows Kits\\10\\include\\10.0.19041.0\\shared\" \"-IC:\\Program Files (x86)\\Windows Kits\\10\\include\\10.0.19041.0\\um\" \"-IC:\\Program Files (x86)\\Windows Kits\\10\\include\\10.0.19041.0\\winrt\" \"-IC:\\Program Files (x86)\\Windows Kits\\10\\include\\10.0.19041.0\\cppwinrt\" /EHsc /Tpfiona/_transform.cpp /Fobuild\\temp.win-amd64-3.9\\Release\\fiona/_transform.obj\n",
      "  _transform.cpp\n",
      "  fiona/_transform.cpp(606): fatal error C1083: Cannot open include file: 'cpl_conv.h': No such file or directory\n",
      "  error: command 'C:\\\\Program Files (x86)\\\\Microsoft Visual Studio\\\\2019\\\\BuildTools\\\\VC\\\\Tools\\\\MSVC\\\\14.29.30133\\\\bin\\\\HostX86\\\\x64\\\\cl.exe' failed with exit code 2\n",
      "  ----------------------------------------\n",
      "  ERROR: Failed building wheel for fiona\n",
      "    ERROR: Command errored out with exit status 1:\n",
      "     command: 'C:\\Users\\sadpa\\miniconda3\\python.exe' -u -c 'import io, os, sys, setuptools, tokenize; sys.argv[0] = '\"'\"'C:\\\\Users\\\\sadpa\\\\AppData\\\\Local\\\\Temp\\\\pip-install-jm76oqoa\\\\fiona_c2b678e7821e4afc8a12662b2bb3765d\\\\setup.py'\"'\"'; __file__='\"'\"'C:\\\\Users\\\\sadpa\\\\AppData\\\\Local\\\\Temp\\\\pip-install-jm76oqoa\\\\fiona_c2b678e7821e4afc8a12662b2bb3765d\\\\setup.py'\"'\"';f = getattr(tokenize, '\"'\"'open'\"'\"', open)(__file__) if os.path.exists(__file__) else io.StringIO('\"'\"'from setuptools import setup; setup()'\"'\"');code = f.read().replace('\"'\"'\\r\\n'\"'\"', '\"'\"'\\n'\"'\"');f.close();exec(compile(code, __file__, '\"'\"'exec'\"'\"'))' install --record 'C:\\Users\\sadpa\\AppData\\Local\\Temp\\pip-record-bf1qps3j\\install-record.txt' --single-version-externally-managed --compile --install-headers 'C:\\Users\\sadpa\\miniconda3\\Include\\fiona'\n",
      "         cwd: C:\\Users\\sadpa\\AppData\\Local\\Temp\\pip-install-jm76oqoa\\fiona_c2b678e7821e4afc8a12662b2bb3765d\\\n",
      "    Complete output (20 lines):\n",
      "    C:\\Users\\sadpa\\miniconda3\\lib\\site-packages\\setuptools\\_distutils\\dist.py:275: UserWarning: Unknown distribution option: 'metadata_version'\n",
      "      warnings.warn(msg)\n",
      "    C:\\Users\\sadpa\\miniconda3\\lib\\site-packages\\setuptools\\_distutils\\dist.py:275: UserWarning: Unknown distribution option: 'requires_python'\n",
      "      warnings.warn(msg)\n",
      "    C:\\Users\\sadpa\\miniconda3\\lib\\site-packages\\setuptools\\_distutils\\dist.py:275: UserWarning: Unknown distribution option: 'requires_external'\n",
      "      warnings.warn(msg)\n",
      "    running install\n",
      "    C:\\Users\\sadpa\\miniconda3\\lib\\site-packages\\setuptools\\command\\install.py:34: SetuptoolsDeprecationWarning: setup.py install is deprecated. Use build and pip and other standards-based tools.\n",
      "      warnings.warn(\n",
      "    running build\n",
      "    running build_py\n",
      "    running build_ext\n",
      "    building 'fiona._transform' extension\n",
      "    creating build\\temp.win-amd64-3.9\n",
      "    creating build\\temp.win-amd64-3.9\\Release\n",
      "    creating build\\temp.win-amd64-3.9\\Release\\fiona\n",
      "    \"C:\\Program Files (x86)\\Microsoft Visual Studio\\2019\\BuildTools\\VC\\Tools\\MSVC\\14.29.30133\\bin\\HostX86\\x64\\cl.exe\" /c /nologo /O2 /W3 /GL /DNDEBUG /MD -IC:\\Users\\sadpa\\miniconda3\\include -IC:\\Users\\sadpa\\miniconda3\\Include \"-IC:\\Program Files (x86)\\Microsoft Visual Studio\\2019\\BuildTools\\VC\\Tools\\MSVC\\14.29.30133\\include\" \"-IC:\\Program Files (x86)\\Windows Kits\\NETFXSDK\\4.8\\include\\um\" \"-IC:\\Program Files (x86)\\Windows Kits\\10\\include\\10.0.19041.0\\ucrt\" \"-IC:\\Program Files (x86)\\Windows Kits\\10\\include\\10.0.19041.0\\shared\" \"-IC:\\Program Files (x86)\\Windows Kits\\10\\include\\10.0.19041.0\\um\" \"-IC:\\Program Files (x86)\\Windows Kits\\10\\include\\10.0.19041.0\\winrt\" \"-IC:\\Program Files (x86)\\Windows Kits\\10\\include\\10.0.19041.0\\cppwinrt\" /EHsc /Tpfiona/_transform.cpp /Fobuild\\temp.win-amd64-3.9\\Release\\fiona/_transform.obj\n",
      "    _transform.cpp\n",
      "    fiona/_transform.cpp(606): fatal error C1083: Cannot open include file: 'cpl_conv.h': No such file or directory\n",
      "    error: command 'C:\\\\Program Files (x86)\\\\Microsoft Visual Studio\\\\2019\\\\BuildTools\\\\VC\\\\Tools\\\\MSVC\\\\14.29.30133\\\\bin\\\\HostX86\\\\x64\\\\cl.exe' failed with exit code 2\n",
      "    ----------------------------------------\n",
      "ERROR: Command errored out with exit status 1: 'C:\\Users\\sadpa\\miniconda3\\python.exe' -u -c 'import io, os, sys, setuptools, tokenize; sys.argv[0] = '\"'\"'C:\\\\Users\\\\sadpa\\\\AppData\\\\Local\\\\Temp\\\\pip-install-jm76oqoa\\\\fiona_c2b678e7821e4afc8a12662b2bb3765d\\\\setup.py'\"'\"'; __file__='\"'\"'C:\\\\Users\\\\sadpa\\\\AppData\\\\Local\\\\Temp\\\\pip-install-jm76oqoa\\\\fiona_c2b678e7821e4afc8a12662b2bb3765d\\\\setup.py'\"'\"';f = getattr(tokenize, '\"'\"'open'\"'\"', open)(__file__) if os.path.exists(__file__) else io.StringIO('\"'\"'from setuptools import setup; setup()'\"'\"');code = f.read().replace('\"'\"'\\r\\n'\"'\"', '\"'\"'\\n'\"'\"');f.close();exec(compile(code, __file__, '\"'\"'exec'\"'\"'))' install --record 'C:\\Users\\sadpa\\AppData\\Local\\Temp\\pip-record-bf1qps3j\\install-record.txt' --single-version-externally-managed --compile --install-headers 'C:\\Users\\sadpa\\miniconda3\\Include\\fiona' Check the logs for full command output.\n"
     ]
    }
   ],
   "source": [
    "!pip install geopandas"
   ]
  },
  {
   "cell_type": "code",
   "execution_count": 1,
   "metadata": {
    "ExecuteTime": {
     "end_time": "2019-07-09T23:35:22.734972Z",
     "start_time": "2019-07-09T23:35:22.715585Z"
    },
    "_kg_hide-input": false
   },
   "outputs": [
    {
     "ename": "ModuleNotFoundError",
     "evalue": "No module named 'geopandas'",
     "output_type": "error",
     "traceback": [
      "\u001b[1;31m---------------------------------------------------------------------------\u001b[0m",
      "\u001b[1;31mModuleNotFoundError\u001b[0m                       Traceback (most recent call last)",
      "Input \u001b[1;32mIn [1]\u001b[0m, in \u001b[0;36m<cell line: 7>\u001b[1;34m()\u001b[0m\n\u001b[0;32m      5\u001b[0m \u001b[38;5;28;01mimport\u001b[39;00m \u001b[38;5;21;01mfolium\u001b[39;00m\n\u001b[0;32m      6\u001b[0m \u001b[38;5;28;01mfrom\u001b[39;00m \u001b[38;5;21;01mfolium\u001b[39;00m\u001b[38;5;21;01m.\u001b[39;00m\u001b[38;5;21;01mplugins\u001b[39;00m \u001b[38;5;28;01mimport\u001b[39;00m FastMarkerCluster, Fullscreen, MiniMap, HeatMap, HeatMapWithTime\n\u001b[1;32m----> 7\u001b[0m \u001b[38;5;28;01mimport\u001b[39;00m \u001b[38;5;21;01mgeopandas\u001b[39;00m \u001b[38;5;28;01mas\u001b[39;00m \u001b[38;5;21;01mgpd\u001b[39;00m\n\u001b[0;32m      8\u001b[0m \u001b[38;5;28;01mfrom\u001b[39;00m \u001b[38;5;21;01mbranca\u001b[39;00m\u001b[38;5;21;01m.\u001b[39;00m\u001b[38;5;21;01mcolormap\u001b[39;00m \u001b[38;5;28;01mimport\u001b[39;00m LinearColormap\n\u001b[0;32m      9\u001b[0m \u001b[38;5;28;01mimport\u001b[39;00m \u001b[38;5;21;01mos\u001b[39;00m\n",
      "\u001b[1;31mModuleNotFoundError\u001b[0m: No module named 'geopandas'"
     ]
    }
   ],
   "source": [
    "import pandas as pd\n",
    "import warnings\n",
    "warnings.filterwarnings('ignore')\n",
    "import numpy as np\n",
    "import folium\n",
    "from folium.plugins import FastMarkerCluster, Fullscreen, MiniMap, HeatMap, HeatMapWithTime\n",
    "import geopandas as gpd\n",
    "from branca.colormap import LinearColormap\n",
    "import os\n",
    "import json\n",
    "import matplotlib.pyplot as plt\n",
    "%matplotlib inline\n",
    "import seaborn as sns\n",
    "import re\n",
    "from wordcloud import WordCloud, STOPWORDS"
   ]
  },
  {
   "cell_type": "markdown",
   "metadata": {},
   "source": [
    "# Functions"
   ]
  },
  {
   "cell_type": "code",
   "execution_count": null,
   "metadata": {
    "ExecuteTime": {
     "end_time": "2019-07-10T00:27:10.889120Z",
     "start_time": "2019-07-10T00:27:10.851803Z"
    },
    "_kg_hide-input": true
   },
   "outputs": [],
   "source": [
    "def style_function(feature):\n",
    "    \"\"\"\n",
    "    Customize maps\n",
    "    \"\"\"\n",
    "    return {\n",
    "        'fillColor': '#ffaf00',\n",
    "        'color': 'grey',\n",
    "        'weight': 1.5,\n",
    "        'dashArray': '5, 5'\n",
    "    }\n",
    "\n",
    "def highlight_function(feature):\n",
    "    \"\"\"\n",
    "    Customize maps\n",
    "    \"\"\"\n",
    "    return {\n",
    "        'fillColor': '#ffaf00',\n",
    "        'color': 'black',\n",
    "        'weight': 2,\n",
    "        'dashArray': '5, 5'\n",
    "    }\n",
    "\n",
    "def format_spines(ax, right_border=True):\n",
    "    \"\"\"\n",
    "    This function sets up borders from an axis and personalize colors\n",
    "    \n",
    "    Input:\n",
    "        Axis and a flag for deciding or not to plot the right border\n",
    "    Returns:\n",
    "        Plot configuration\n",
    "    \"\"\"    \n",
    "    # Setting up colors\n",
    "    ax.spines['bottom'].set_color('#CCCCCC')\n",
    "    ax.spines['left'].set_color('#CCCCCC')\n",
    "    ax.spines['top'].set_visible(False)\n",
    "    if right_border:\n",
    "        ax.spines['right'].set_color('#CCCCCC')\n",
    "    else:\n",
    "        ax.spines['right'].set_color('#FFFFFF')\n",
    "    ax.patch.set_facecolor('#FFFFFF')\n",
    "    \n",
    "def count_plot(feature, df, colors='Blues_d', hue=False, ax=None, title=''):\n",
    "    \"\"\"\n",
    "    This function plots data setting up frequency and percentage in a count plot;\n",
    "    This also sets up borders and personalization.\n",
    "    \n",
    "    Input:\n",
    "        The feature to be counted and the dataframe. Other args are optional.\n",
    "    Returns:\n",
    "        Count plot.\n",
    "    \"\"\"    \n",
    "    # Preparing variables\n",
    "    ncount = len(df)\n",
    "    if hue != False:\n",
    "        ax = sns.countplot(x=feature, data=df, palette=colors, hue=hue, ax=ax, \n",
    "                           order=df[feature].value_counts().index)\n",
    "    else:\n",
    "        ax = sns.countplot(x=feature, data=df, palette=colors, ax=ax,\n",
    "                           order=df[feature].value_counts().index)\n",
    "\n",
    "    # Make twin axis\n",
    "    ax2=ax.twinx()\n",
    "\n",
    "    # Switch so count axis is on right, frequency on left\n",
    "    ax2.yaxis.tick_left()\n",
    "    ax.yaxis.tick_right()\n",
    "\n",
    "    # Also switch the labels over\n",
    "    ax.yaxis.set_label_position('right')\n",
    "    ax2.yaxis.set_label_position('left')\n",
    "    ax2.set_ylabel('Frequency [%]')\n",
    "    frame1 = plt.gca()\n",
    "    frame1.axes.get_yaxis().set_ticks([])\n",
    "\n",
    "    # Setting up borders\n",
    "    format_spines(ax)\n",
    "    format_spines(ax2)\n",
    "\n",
    "    # Setting percentage\n",
    "    for p in ax.patches:\n",
    "        x=p.get_bbox().get_points()[:,0]\n",
    "        y=p.get_bbox().get_points()[1,1]\n",
    "        ax.annotate('{:.1f}%'.format(100.*y/ncount), (x.mean(), y), \n",
    "                ha='center', va='bottom') # set the alignment of the text\n",
    "    \n",
    "    # Final configuration\n",
    "    if not hue:\n",
    "        ax.set_title(df[feature].describe().name + ' Counting plot', size=13, pad=15)\n",
    "    else:\n",
    "        ax.set_title(df[feature].describe().name + ' Counting plot by ' + hue, size=13, pad=15)  \n",
    "    if title != '':\n",
    "        ax.set_title(title)       \n",
    "    plt.tight_layout()\n",
    "    \n",
    "def country_analysis(country_name, data, palette, colors_plot2, color_lineplot):\n",
    "    \"\"\"\n",
    "    This function creates a dashboard with informations of terrorism in a certain country.\n",
    "    Input:\n",
    "        The function receives the name of the country, the dataset and color configuration\n",
    "    Output:\n",
    "        It returns a 4 plot dashboard.\n",
    "    \"\"\"\n",
    "    # Preparing\n",
    "    country = data.query('country_txt == @country_name')\n",
    "    if len(country) == 0:\n",
    "        print('Country did not exists in dataset')\n",
    "        return \n",
    "    country_cities = country.groupby(by='city', as_index=False).count().sort_values('eventid', \n",
    "                                                                                   ascending=False).iloc[:5, :2]\n",
    "    suicide_size = country['suicide'].sum() / len(country)\n",
    "    labels = ['Suicide', 'Not Suicide']\n",
    "    colors = colors_plot2\n",
    "    \n",
    "    country_year = country.groupby(by='iyear', as_index=False).sum().loc[:, ['iyear', 'nkill']]\n",
    "    country_weapon = country.groupby(by='weaptype1_txt', as_index=False).count().sort_values(by='eventid',\n",
    "                                                                                             ascending=False).iloc[:, \n",
    "                                                                                                                   :2]\n",
    "    # Dashboard\n",
    "    fig, axs = plt.subplots(nrows=2, ncols=2, figsize=(15, 10))\n",
    "    \n",
    "    # Plot 1 - Top 5 terrorism cities\n",
    "    sns.barplot(x='eventid', y='city', data=country_cities, ci=None, palette=palette, ax=axs[0, 0])\n",
    "    format_spines(axs[0, 0], right_border=False)\n",
    "    axs[0, 0].set_title(f'Top 5 {country_name} Cities With Most Terrorism Occurences')\n",
    "    \"\"\"for p in axs[0, 0].patches:\n",
    "        width = p.get_width()\n",
    "        axs[0, 0].text(width-290, p.get_y() + p.get_height() / 2. + 0.10, '{}'.format(int(width)), \n",
    "                ha=\"center\", color='white')\"\"\"\n",
    "    axs[0, 0].set_ylabel('City')\n",
    "    axs[0, 0].set_xlabel('Victims')\n",
    "    \n",
    "    # Plot 2 - Suicide Rate\n",
    "    center_circle = plt.Circle((0,0), 0.75, color='white')\n",
    "    axs[0, 1].pie((suicide_size, 1-suicide_size), labels=labels, colors=colors_plot2, autopct='%1.1f%%')\n",
    "    axs[0, 1].add_artist(center_circle)\n",
    "    format_spines(axs[0, 1], right_border=False)\n",
    "    axs[0, 1].set_title(f'{country_name} Terrorism Suicide Rate')\n",
    "    axs[0, 0].set_ylabel('Victims')\n",
    "    \n",
    "    # Plot 3 - Victims through the years\n",
    "    sns.lineplot(x='iyear', y='nkill', data=country_year, ax=axs[1, 0], color=color_lineplot)\n",
    "    format_spines(axs[1, 0], right_border=False)\n",
    "    axs[1, 0].set_xlim([1970, 2017])\n",
    "    axs[1, 0].set_title(f'{country_name} Number of Victims Over Time')\n",
    "    axs[1, 0].set_ylabel('Victims')\n",
    "    \n",
    "    # Plot 4 - Terrorism Weapons\n",
    "    sns.barplot(x='weaptype1_txt', y='eventid', data=country_weapon, ci=None, palette=palette, ax=axs[1, 1])\n",
    "    axs[1, 1].set_xticklabels(axs[1, 1].get_xticklabels(), rotation=90)\n",
    "    axs[1, 1].set_xlabel('')\n",
    "    axs[1, 1].set_ylabel('Count')\n",
    "    format_spines(axs[1, 1], right_border=False)\n",
    "    axs[1, 1].set_title(f'{country_name} Weapons Used in Attacks')\n",
    "    \n",
    "    plt.suptitle(f'Terrorism Analysis in {country_name} between 1970 and 2017', size=16)    \n",
    "    plt.tight_layout()\n",
    "    plt.subplots_adjust(top=0.90)\n",
    "    plt.show()"
   ]
  },
  {
   "cell_type": "markdown",
   "metadata": {},
   "source": [
    "# Reading the Data"
   ]
  },
  {
   "cell_type": "markdown",
   "metadata": {},
   "source": [
    "In previous versions, I separated the analysis into \"Data Preparation\" and \"Storytelling\" just to keep in mind that some transformations in data would be necessary to reach the goals. But, as long as the storytelling part took the center stage and grew on large scale, I decided to make the transformations on data only where applicable.\n",
    "\n",
    "In other words, all the steps required for the analysis will be performed on their respective topic. For now, let's just read the data, filter attributes and go through visualizations!"
   ]
  },
  {
   "cell_type": "code",
   "execution_count": null,
   "metadata": {
    "ExecuteTime": {
     "end_time": "2019-07-09T23:35:43.334432Z",
     "start_time": "2019-07-09T23:35:43.290471Z"
    }
   },
   "outputs": [],
   "source": [
    "terr = pd.read_csv('../input/globalterrorismdb_0718dist.csv', encoding='ISO-8859-1')\n",
    "attribs = ['eventid', 'iyear', 'imonth', 'iday', 'extended', 'country_txt', 'region_txt', 'city', \n",
    "                        'latitude', 'longitude', 'specificity', 'summary', 'success', 'suicide', 'attacktype1_txt', \n",
    "                        'targtype1_txt', 'copr1', 'target1', 'natlty1_txt', 'gname', 'motive', 'nperps', \n",
    "                        'weaptype1_txt', 'nkill', 'nkillter', 'nwound', 'nwoundte', 'ishostkid', 'nhostkid']\n",
    "terr_data = terr.loc[:, attribs]\n",
    "terr_data.head()"
   ]
  },
  {
   "cell_type": "markdown",
   "metadata": {},
   "source": [
    "Before we get started, we need to ensure the charts will be plotted the way we expect. First, we have to set the name of United States country to same string that we have in the json file used as map (United States of America). Second, let's just change the large string describing the \"Vehicle\" in `weaptype1_txt` attribute."
   ]
  },
  {
   "cell_type": "code",
   "execution_count": null,
   "metadata": {},
   "outputs": [],
   "source": [
    "terr_data['country_txt'] = terr_data['country_txt'].apply(lambda x: x.replace('United States', \n",
    "                                                                              'United States of America'))\n",
    "terr_data['weaptype1_txt'] = terr_data['weaptype1_txt'].apply(lambda x: x.split()[0] if 'Vehicle' in x.split() else x)"
   ]
  },
  {
   "cell_type": "markdown",
   "metadata": {
    "ExecuteTime": {
     "end_time": "2019-07-09T23:39:05.666260Z",
     "start_time": "2019-07-09T23:39:05.656807Z"
    }
   },
   "source": [
    "If you want to see details of a full process of global terrorism data preparation, please go through the [Global Terrorism - Data Understanding](https://www.kaggle.com/thiagopanini/global-terrorism-data-understanding)."
   ]
  },
  {
   "cell_type": "markdown",
   "metadata": {},
   "source": [
    "# Terrorism Around the World"
   ]
  },
  {
   "cell_type": "code",
   "execution_count": null,
   "metadata": {
    "ExecuteTime": {
     "end_time": "2019-07-09T23:39:27.961251Z",
     "start_time": "2019-07-09T23:39:25.852387Z"
    },
    "_kg_hide-input": true
   },
   "outputs": [],
   "source": [
    "url = 'https://raw.githubusercontent.com/python-visualization/folium/master/examples/data'\n",
    "world_geo = f'{url}/world-countries.json'\n",
    "json_data = gpd.read_file(f'{url}/world-countries.json')"
   ]
  },
  {
   "cell_type": "code",
   "execution_count": null,
   "metadata": {
    "ExecuteTime": {
     "end_time": "2019-07-09T23:48:17.783002Z",
     "start_time": "2019-07-09T23:48:17.067244Z"
    },
    "_kg_hide-input": true
   },
   "outputs": [],
   "source": [
    "country_data = terr_data.groupby(by=['country_txt'], \n",
    "                                 as_index=False).count().sort_values(by='eventid', ascending=False).iloc[:, :2]\n",
    "nkill_data = terr_data.groupby(by=['country_txt'], \n",
    "                                 as_index=False).sum().sort_values(by='eventid', \n",
    "                                                                   ascending=False).loc[:, ['country_txt', 'nkill']]\n",
    "temp_global = json_data.merge(country_data, left_on='name', right_on='country_txt', how='left').fillna(0)\n",
    "global_data = temp_global.merge(nkill_data, left_on='name', right_on='country_txt', how='left').fillna(0)\n",
    "\n",
    "m = folium.Map(\n",
    "    location=[0, 0], \n",
    "    zoom_start=1.50,\n",
    "    tiles='openstreetmap'\n",
    ")\n",
    "\n",
    "folium.Choropleth(\n",
    "    geo_data=json_data,\n",
    "    name='Ataques Terroristas',\n",
    "    data=country_data,\n",
    "    columns=['country_txt', 'eventid'],\n",
    "    key_on='feature.properties.name',\n",
    "    fill_color='OrRd',\n",
    "    fill_opacity=0.7,\n",
    "    line_opacity=0.2,\n",
    "    nan_fill_color='white',\n",
    "    nan_fill_opacity=0.9,\n",
    "    legend_name='Terrorism Recorded 1970 - 2017',\n",
    "    popup_function='Teste'\n",
    ").add_to(m)\n",
    "\n",
    "Fullscreen(\n",
    "    position='topright',\n",
    "    title='Expand me',\n",
    "    title_cancel='Exit me',\n",
    "    force_separate_button=True\n",
    ").add_to(m)\n",
    "\n",
    "folium.GeoJson(\n",
    "    global_data,\n",
    "    style_function=style_function,\n",
    "    highlight_function=highlight_function,\n",
    "    tooltip=folium.GeoJsonTooltip(fields=['name', 'eventid', 'nkill'],\n",
    "                                  aliases=['Country:', 'Incidents:', 'Victims'],\n",
    "                                  labels=True,\n",
    "                                  sticky=True)\n",
    ").add_to(m)\n",
    "\n",
    "m.save('terrorism_incidents.html')\n",
    "m"
   ]
  },
  {
   "cell_type": "markdown",
   "metadata": {},
   "source": [
    "Well, here we can see clearly that Iraq is the country with the highest number of incidents recorded. The map also shows tooltips with the name of the country, number of incidents and total of victims recorded. Another thing that can be said looking at the map is that the Middle East and South Asia are the regions with the highes number of recorded attacks between 1970 and 2017."
   ]
  },
  {
   "cell_type": "code",
   "execution_count": null,
   "metadata": {
    "ExecuteTime": {
     "end_time": "2019-07-09T23:49:47.719150Z",
     "start_time": "2019-07-09T23:49:46.422388Z"
    },
    "_kg_hide-input": true
   },
   "outputs": [],
   "source": [
    "heat_data = terr_data.groupby(by=['latitude', 'longitude'], \n",
    "                                 as_index=False).count().sort_values(by='eventid', ascending=False).iloc[:, :3]\n",
    "\n",
    "m = folium.Map(\n",
    "    location=[33.312805, 44.361488], \n",
    "    zoom_start=2.5, \n",
    "    tiles='Stamen Toner'\n",
    ")\n",
    "\n",
    "HeatMap(\n",
    "    name='Mapa de Calor',\n",
    "    data=heat_data,\n",
    "    radius=10,\n",
    "    max_zoom=13\n",
    ").add_to(m)\n",
    "\n",
    "Fullscreen(\n",
    "    position='topright',\n",
    "    title='Expand me',\n",
    "    title_cancel='Exit me',\n",
    "    force_separate_button=True\n",
    ").add_to(m)\n",
    "\n",
    "m.save('terrorism_density.html')\n",
    "m"
   ]
  },
  {
   "cell_type": "markdown",
   "metadata": {},
   "source": [
    "With this Heatmap, we can see places with greater concentration of terrorism incidents from 1970 to 2017. To get more insights, let's see the\"evolution\" of terrorism year by year."
   ]
  },
  {
   "cell_type": "code",
   "execution_count": null,
   "metadata": {
    "ExecuteTime": {
     "end_time": "2019-07-09T23:52:41.413059Z",
     "start_time": "2019-07-09T23:52:40.128611Z"
    },
    "_kg_hide-input": true
   },
   "outputs": [],
   "source": [
    "year_list = []\n",
    "for year in terr_data['iyear'].sort_values().unique():\n",
    "    data = terr_data.query('iyear == @year')\n",
    "    data = data.groupby(by=['latitude', 'longitude'], \n",
    "                        as_index=False).count().sort_values(by='eventid', ascending=False).iloc[:, :3]\n",
    "    year_list.append(data.values.tolist())\n",
    "\n",
    "m = folium.Map(\n",
    "    location=[0, 0], \n",
    "    zoom_start=2.0, \n",
    "    tiles='Stamen Toner'\n",
    ")\n",
    "\n",
    "HeatMapWithTime(\n",
    "    name='Terrorism Heatmap',\n",
    "    data=year_list,\n",
    "    radius=9,\n",
    "    index=list(terr_data['iyear'].sort_values().unique())\n",
    ").add_to(m)\n",
    "\n",
    "m"
   ]
  },
  {
   "cell_type": "markdown",
   "metadata": {},
   "source": [
    "Now we have a selection bar in the bottom of the map where we can select the terrorist records from a specific year between 1970 and 2017. It is important to cross this information with historical facts, wars and incidents. It's kind of interesting to see how the concentration of incidents starts at North America in the 70s and move to Europe and Middle East region as long as the time goes by."
   ]
  },
  {
   "cell_type": "markdown",
   "metadata": {},
   "source": [
    "The most recent data we have is from 2017. Let's plot a global heatmap to see incidents among the months of 2017. Using the selection bar in the bottom, we can see the concentration of terrorism from january to december of 2017."
   ]
  },
  {
   "cell_type": "code",
   "execution_count": null,
   "metadata": {
    "ExecuteTime": {
     "end_time": "2019-07-10T00:17:02.700631Z",
     "start_time": "2019-07-10T00:17:01.941697Z"
    },
    "_kg_hide-input": true
   },
   "outputs": [],
   "source": [
    "month_index = [\n",
    "    'jan/2017',\n",
    "    'feb/2017',\n",
    "    'mar/2017',\n",
    "    'apr/2017',\n",
    "    'may/2017',\n",
    "    'jun/2017',\n",
    "    'jul/2017',\n",
    "    'aug/2017',\n",
    "    'sep/2017',\n",
    "    'oct/2017',\n",
    "    'nov/2017',\n",
    "    'dec/2017'\n",
    "]\n",
    "\n",
    "month_list = []\n",
    "for month in terr_data.query('iyear==2017')['imonth'].sort_values().unique():\n",
    "    data = terr_data.query('imonth == @month')\n",
    "    data = data.groupby(by=['latitude', 'longitude'], \n",
    "                        as_index=False).sum().sort_values(by='imonth', \n",
    "                                                          ascending=True).loc[:, ['latitude', \n",
    "                                                                                   'longitude', \n",
    "                                                                                   'nkill']]\n",
    "    month_list.append(data.values.tolist())\n",
    "\n",
    "m = folium.Map(\n",
    "    location=[0, 0], \n",
    "    zoom_start=1.5, \n",
    "    tiles='Stamen Toner'\n",
    ")\n",
    "\n",
    "HeatMapWithTime(\n",
    "    name='Mapa de Calor',\n",
    "    data=month_list,\n",
    "    radius=4,\n",
    "    index=month_index\n",
    ").add_to(m)\n",
    "\n",
    "m"
   ]
  },
  {
   "cell_type": "markdown",
   "metadata": {},
   "source": [
    "# Countries and Terrorism"
   ]
  },
  {
   "cell_type": "markdown",
   "metadata": {},
   "source": [
    "Let's change the scenery and see the effects of terrorism in specific countries. First of all, let's take a look at the main countries affected by terrorism."
   ]
  },
  {
   "cell_type": "code",
   "execution_count": null,
   "metadata": {
    "ExecuteTime": {
     "end_time": "2019-07-10T00:19:13.452114Z",
     "start_time": "2019-07-10T00:19:13.076746Z"
    },
    "_kg_hide-input": true
   },
   "outputs": [],
   "source": [
    "fig, ax = plt.subplots(figsize=(12, 6))\n",
    "count_plot('region_txt', terr_data, ax=ax, colors='autumn')\n",
    "ax.set_xticklabels(ax.get_xticklabels(), rotation=90)\n",
    "ax.set_title('Distribution of Attacks per Region (1970-2017)', size=15)\n",
    "plt.show()"
   ]
  },
  {
   "cell_type": "markdown",
   "metadata": {},
   "source": [
    "As we have already seen in our first geographical plot, the highest concentration of incidentes recorded are from Middle East & North Africa. The region represents 27.8% of all records between 1970 and 2017. \n",
    "\n",
    "In the next plot, we will make a comparison of this historical data with 2017 data, but this time looking at the top 10 countries if highest nuber of terrorist incidents."
   ]
  },
  {
   "cell_type": "code",
   "execution_count": null,
   "metadata": {
    "ExecuteTime": {
     "end_time": "2019-07-10T00:22:19.170812Z",
     "start_time": "2019-07-10T00:22:18.614595Z"
    },
    "_kg_hide-input": true
   },
   "outputs": [],
   "source": [
    "country_victims = terr_data.groupby(by='country_txt', as_index=False).sum().sort_values(by='nkill', \n",
    "                                                                      ascending=False).loc[:, ['country_txt', \n",
    "                                                                                               'nkill']]\n",
    "country_victims = country_victims.iloc[:10, :]\n",
    "\n",
    "terr_data_2017 = terr_data.query('iyear == 2017')\n",
    "country_victims_2017 = terr_data_2017.groupby(by='country_txt', as_index=False).sum().sort_values(by='nkill', \n",
    "                                                                      ascending=False).loc[:, ['country_txt', \n",
    "                                                                                               'nkill']]\n",
    "country_victims_2017 = country_victims_2017.iloc[:10, :]\n",
    "country_victims_2017['country_txt'][16] = 'Central African Rep.'\n",
    "country_victims_2017['country_txt'][22] = 'Dem. Rep. Congo'\n",
    "\n",
    "fig, axs = plt.subplots(nrows=1, ncols=2, figsize=(15, 7))\n",
    "\n",
    "sns.barplot(x='nkill', y='country_txt', data=country_victims, ci=None,\n",
    "                 palette='autumn', ax=axs[0])\n",
    "sns.barplot(x='nkill', y='country_txt', data=country_victims_2017, ci=None,\n",
    "                 palette='autumn', ax=axs[1])\n",
    "\n",
    "format_spines(axs[0], right_border=False)\n",
    "format_spines(axs[1], right_border=False)\n",
    "axs[0].set_title('Top 10 - Total Victims by Country (1970-2017)')\n",
    "axs[1].set_title('Top 10 - Total Victims by Country (2017)')\n",
    "axs[0].set_ylabel('')\n",
    "axs[1].set_ylabel('')\n",
    "\n",
    "for p in axs[0].patches:\n",
    "    width = p.get_width()\n",
    "    axs[0].text(width-4000, p.get_y() + p.get_height() / 2. + 0.10, '{}'.format(int(width)), \n",
    "            ha=\"center\", color='white')\n",
    "\n",
    "for p in axs[1].patches:\n",
    "    width = p.get_width()\n",
    "    axs[1].text(width-300, p.get_y() + p.get_height() / 2. + 0.10, '{}'.format(int(width)), \n",
    "            ha=\"center\", color='white')\n",
    "\n",
    "plt.show()"
   ]
  },
  {
   "cell_type": "markdown",
   "metadata": {},
   "source": [
    "With the grap above we can see that Iraq and Afghanistan are the countries with most terrorism occurences in 2017 (and also in all period). Colombia, Peru and El Salvador appear in historica data but don't appear in 2017 data maybe because of past conflicts. Let's make a more specific analysis in some countries to see more details.\n",
    "\n",
    "Now I present you the dashboard for country-terrorism relationship analysis. We will see details from Iraq, United States, Nigeria, Colombia and Egypt."
   ]
  },
  {
   "cell_type": "code",
   "execution_count": null,
   "metadata": {
    "ExecuteTime": {
     "end_time": "2019-07-10T00:27:17.919036Z",
     "start_time": "2019-07-10T00:27:17.267924Z"
    },
    "_kg_hide-input": true
   },
   "outputs": [],
   "source": [
    "country_analysis(country_name='Iraq', data=terr_data, palette='summer', \n",
    "                 colors_plot2=['crimson', 'green'], color_lineplot='crimson')"
   ]
  },
  {
   "cell_type": "code",
   "execution_count": null,
   "metadata": {
    "ExecuteTime": {
     "end_time": "2019-07-10T00:27:22.643256Z",
     "start_time": "2019-07-10T00:27:22.096412Z"
    },
    "_kg_hide-input": true
   },
   "outputs": [],
   "source": [
    "country_analysis(country_name='United States of America', data=terr_data, palette='plasma', \n",
    "                 colors_plot2=['crimson', 'navy'], color_lineplot='navy')"
   ]
  },
  {
   "cell_type": "code",
   "execution_count": null,
   "metadata": {
    "ExecuteTime": {
     "end_time": "2019-07-10T00:27:28.647123Z",
     "start_time": "2019-07-10T00:27:28.155317Z"
    },
    "_kg_hide-input": true
   },
   "outputs": [],
   "source": [
    "country_analysis(country_name='Nigeria', data=terr_data, palette='summer', \n",
    "                 colors_plot2=['crimson', 'green'], color_lineplot='green')"
   ]
  },
  {
   "cell_type": "code",
   "execution_count": null,
   "metadata": {
    "ExecuteTime": {
     "end_time": "2019-07-10T00:27:33.744965Z",
     "start_time": "2019-07-10T00:27:33.239635Z"
    },
    "_kg_hide-input": true
   },
   "outputs": [],
   "source": [
    "country_analysis(country_name='Colombia', data=terr_data, palette='hot', \n",
    "                 colors_plot2=['crimson', 'gold'], color_lineplot='crimson')"
   ]
  },
  {
   "cell_type": "code",
   "execution_count": null,
   "metadata": {
    "ExecuteTime": {
     "end_time": "2019-07-10T00:27:37.117033Z",
     "start_time": "2019-07-10T00:27:36.537093Z"
    },
    "_kg_hide-input": true
   },
   "outputs": [],
   "source": [
    "country_analysis(country_name='Egypt', data=terr_data, palette='copper', \n",
    "                 colors_plot2=['crimson', 'brown'], color_lineplot='brown')"
   ]
  },
  {
   "cell_type": "markdown",
   "metadata": {},
   "source": [
    "# NLP on Incident Summary"
   ]
  },
  {
   "cell_type": "markdown",
   "metadata": {},
   "source": [
    "Well, in this session our goal is to apply some Natural Language Processing techniques to take a look at the words as a tool for understanding the Terrorism around the World. First of all, let's see some elements from the column _summary_"
   ]
  },
  {
   "cell_type": "code",
   "execution_count": null,
   "metadata": {
    "ExecuteTime": {
     "end_time": "2019-09-04T20:15:52.509702Z",
     "start_time": "2019-09-04T20:15:52.496661Z"
    }
   },
   "outputs": [],
   "source": [
    "terr_data['summary'][:10]"
   ]
  },
  {
   "cell_type": "markdown",
   "metadata": {},
   "source": [
    "We can see two points by now:\n",
    "\n",
    "* It is necessary to handle null data on this\n",
    "* Also, we have to eliminate the date information at the beginning of each instance"
   ]
  },
  {
   "cell_type": "code",
   "execution_count": null,
   "metadata": {
    "ExecuteTime": {
     "end_time": "2019-09-04T20:15:52.672019Z",
     "start_time": "2019-09-04T20:15:52.511668Z"
    }
   },
   "outputs": [],
   "source": [
    "temp_corpus = terr_data['summary'].dropna()\n",
    "corpus = temp_corpus.apply(lambda x: x.split(': ')[-1]).values\n",
    "print(f'We have {len(corpus)} elements on the corpus\\n\\n')\n",
    "print(f'Example 1: \\n{corpus[1]}\\n')\n",
    "print(f'Example 2: \\n{corpus[-1]}')"
   ]
  },
  {
   "cell_type": "markdown",
   "metadata": {},
   "source": [
    "## Regular Expressions"
   ]
  },
  {
   "cell_type": "markdown",
   "metadata": {},
   "source": [
    "Now that we have already transformed the corpus on an array structure, let's apply some Regular Expressions to deal with non-desired elements. The analysis we will do in the following topics will cover:\n",
    "\n",
    "* Search for Sites and Hiperlinks\n",
    "* Search for Numbers\n",
    "* Search for Special Characteres\n",
    "* Search for Additional Whitespaces"
   ]
  },
  {
   "cell_type": "markdown",
   "metadata": {},
   "source": [
    "### Sites and Hiperlinks"
   ]
  },
  {
   "cell_type": "markdown",
   "metadata": {},
   "source": [
    "For this task, we will iterate all over the corpus applying the method `findall` using a specific Regular Expression created for searching sites and hiperlinks. Let's see what we can tell about it."
   ]
  },
  {
   "cell_type": "code",
   "execution_count": null,
   "metadata": {
    "ExecuteTime": {
     "end_time": "2019-09-04T20:15:53.110504Z",
     "start_time": "2019-09-04T20:15:52.677291Z"
    }
   },
   "outputs": [],
   "source": [
    "for c in corpus:\n",
    "    urls = re.findall('(http|ftp|https)://([\\w_-]+(?:(?:\\.[\\w_-]+)+))([\\w.,@?^=%&:/~+#-]*[\\w@?^=%&/~+#-])?', c)\n",
    "    if len(urls) == 0:\n",
    "        pass\n",
    "    else:\n",
    "        print(f'Description: {list(corpus).index(c)} - Links: {urls}')"
   ]
  },
  {
   "cell_type": "markdown",
   "metadata": {},
   "source": [
    "Well, it seems that only one attack summary have hiperlinks on it. Let's print it just to confirm."
   ]
  },
  {
   "cell_type": "code",
   "execution_count": null,
   "metadata": {
    "ExecuteTime": {
     "end_time": "2019-09-04T20:15:53.116630Z",
     "start_time": "2019-09-04T20:15:53.112591Z"
    }
   },
   "outputs": [],
   "source": [
    "# Example\n",
    "corpus[6977]"
   ]
  },
  {
   "cell_type": "markdown",
   "metadata": {},
   "source": [
    "Ok, our method worked. So we will replace the links with the token \"link\"."
   ]
  },
  {
   "cell_type": "code",
   "execution_count": null,
   "metadata": {
    "ExecuteTime": {
     "end_time": "2019-09-04T20:15:53.474942Z",
     "start_time": "2019-09-04T20:15:53.118260Z"
    }
   },
   "outputs": [],
   "source": [
    "# Replacing sites and hiperlinks\n",
    "corpus_wo_hiperlinks = []\n",
    "for c in corpus:\n",
    "    c = re.sub(r'(http|ftp|https)://([\\w_-]+(?:(?:\\.[\\w_-]+)+))([\\w.,@?^=%&:/~+#-]*[\\w@?^=%&/~+#-])?', 'link', c)\n",
    "    corpus_wo_hiperlinks.append(c)\n",
    "corpus_wo_hiperlinks[6977]"
   ]
  },
  {
   "cell_type": "markdown",
   "metadata": {},
   "source": [
    "Good! Keep going."
   ]
  },
  {
   "cell_type": "markdown",
   "metadata": {},
   "source": [
    "### Numbers"
   ]
  },
  {
   "cell_type": "markdown",
   "metadata": {},
   "source": [
    "As we could see on some examples above, there are incidents descriptions with numbers. Here we will search for those text descriptions and replace the numbers with the token `number`."
   ]
  },
  {
   "cell_type": "code",
   "execution_count": null,
   "metadata": {
    "ExecuteTime": {
     "end_time": "2019-09-04T20:15:53.480286Z",
     "start_time": "2019-09-04T20:15:53.476428Z"
    }
   },
   "outputs": [],
   "source": [
    "# Example of description with number\n",
    "corpus_wo_hiperlinks[399]"
   ]
  },
  {
   "cell_type": "code",
   "execution_count": null,
   "metadata": {
    "ExecuteTime": {
     "end_time": "2019-09-04T20:15:54.262020Z",
     "start_time": "2019-09-04T20:15:53.481892Z"
    }
   },
   "outputs": [],
   "source": [
    "# Replacing numbers\n",
    "corpus_wo_numbers = []\n",
    "for c in corpus_wo_hiperlinks:\n",
    "    c = re.sub('\\d+(?:\\.\\d*(?:[eE]\\d+))?', 'number', c)\n",
    "    corpus_wo_numbers.append(c)\n",
    "corpus_wo_numbers[399]"
   ]
  },
  {
   "cell_type": "markdown",
   "metadata": {},
   "source": [
    "We are one step closer to the goal."
   ]
  },
  {
   "cell_type": "markdown",
   "metadata": {},
   "source": [
    "### Special Characteres"
   ]
  },
  {
   "cell_type": "markdown",
   "metadata": {},
   "source": [
    "Again, as long as we are looking at incidents descriptions, we faced some special characteres that need to be replaced for further analysis. For this, let's apply another Regular Expresion to replace special characters with whitespace."
   ]
  },
  {
   "cell_type": "code",
   "execution_count": null,
   "metadata": {
    "ExecuteTime": {
     "end_time": "2019-09-04T20:15:54.268572Z",
     "start_time": "2019-09-04T20:15:54.264018Z"
    }
   },
   "outputs": [],
   "source": [
    "# Example with special characteres\n",
    "corpus_wo_numbers[1113]"
   ]
  },
  {
   "cell_type": "code",
   "execution_count": null,
   "metadata": {
    "ExecuteTime": {
     "end_time": "2019-09-04T20:15:55.988566Z",
     "start_time": "2019-09-04T20:15:54.270457Z"
    }
   },
   "outputs": [],
   "source": [
    "# Replacing special characteres with whitespace\n",
    "corpus_text = []\n",
    "for c in corpus_wo_numbers:\n",
    "    c = re.sub(r'\\W', ' ', c)\n",
    "    corpus_text.append(c)\n",
    "corpus_text[1113]"
   ]
  },
  {
   "cell_type": "markdown",
   "metadata": {},
   "source": [
    "### Additional Whitespaces"
   ]
  },
  {
   "cell_type": "markdown",
   "metadata": {},
   "source": [
    "As we applied Regular Expressions (like this one on session 6.1.3), we generated some additional whitespaces. We can threat it with RegEx as well."
   ]
  },
  {
   "cell_type": "code",
   "execution_count": null,
   "metadata": {
    "ExecuteTime": {
     "end_time": "2019-09-04T20:15:57.754427Z",
     "start_time": "2019-09-04T20:15:55.989855Z"
    }
   },
   "outputs": [],
   "source": [
    "# Removing additional whitespaces\n",
    "corpus_after_regex = []\n",
    "for c in corpus_text:\n",
    "    c = re.sub(r'\\s+', ' ', c)\n",
    "    corpus_after_regex.append(c)\n",
    "    \n",
    "corpus_after_regex[1113]"
   ]
  },
  {
   "cell_type": "markdown",
   "metadata": {},
   "source": [
    "Good! I think we are done here with RegEx"
   ]
  },
  {
   "cell_type": "markdown",
   "metadata": {},
   "source": [
    "## Lower Case"
   ]
  },
  {
   "cell_type": "markdown",
   "metadata": {},
   "source": [
    "The next step we must on Natural Language Processing is putting all the tokens in lower case. We can do that with the method `apply` of Pandas DataFrame."
   ]
  },
  {
   "cell_type": "code",
   "execution_count": null,
   "metadata": {
    "ExecuteTime": {
     "end_time": "2019-09-04T20:15:57.860561Z",
     "start_time": "2019-09-04T20:15:57.756351Z"
    }
   },
   "outputs": [],
   "source": [
    "cleaned_corpus = pd.Series(corpus_after_regex).apply(lambda x: x.lower())\n",
    "cleaned_corpus = list(cleaned_corpus.values)\n",
    "cleaned_corpus[990]"
   ]
  },
  {
   "cell_type": "markdown",
   "metadata": {},
   "source": [
    "## WordCloud"
   ]
  },
  {
   "cell_type": "markdown",
   "metadata": {},
   "source": [
    "In this session, we will generate a WordCloud for all descriptions."
   ]
  },
  {
   "cell_type": "code",
   "execution_count": null,
   "metadata": {
    "ExecuteTime": {
     "end_time": "2019-09-04T20:17:10.608374Z",
     "start_time": "2019-09-04T20:17:06.037473Z"
    },
    "_kg_hide-input": true
   },
   "outputs": [],
   "source": [
    "# Genereating wordcloud\n",
    "text = ' '.join(cleaned_corpus)\n",
    "stopwords = set(STOPWORDS)\n",
    "\n",
    "wordcloud = WordCloud(stopwords=stopwords, background_color=\"white\", collocations=False).generate(text)\n",
    "\n",
    "plt.figure(figsize=(15, 15))\n",
    "plt.imshow(wordcloud, interpolation='bilinear')\n",
    "plt.axis(\"off\")\n",
    "plt.show()"
   ]
  },
  {
   "cell_type": "markdown",
   "metadata": {},
   "source": [
    "I hope you really enjoy this storytelling. Please upvote this kernel to keep me motivated to do even more!"
   ]
  },
  {
   "cell_type": "markdown",
   "metadata": {},
   "source": [
    "This is not the final version. There is much more to do:\n",
    "\n",
    "* Create a WordCloud for attributes like corp1, target1 and motive;\n",
    "* Look for more Exploratory Data Analysis like:\n",
    "    * Incidents that lasted more than 24h (extended = 1);\n",
    "    * Major radical groups responsible for terrorist attacks (gname);\n",
    "    * Attacks with the highest number of terrorists (nperps);"
   ]
  },
  {
   "cell_type": "markdown",
   "metadata": {},
   "source": [
    "# References"
   ]
  },
  {
   "cell_type": "markdown",
   "metadata": {},
   "source": [
    "https://nbviewer.jupyter.org/gist/jtbaker/57a37a14b90feeab7c67a687c398142c?flush_cache=true\n",
    "\n",
    "https://github.com/python-visualization/folium/issues/904\n",
    "\n",
    "https://towardsdatascience.com/data-101s-spatial-visualizations-and-analysis-in-python-with-folium-39730da2adf\n",
    "\n",
    "https://www.kaggle.com/rachan/how-to-folium-for-maps-heatmaps-time-analysis\n",
    "\n",
    "https://python-visualization.github.io/folium/plugins.html"
   ]
  },
  {
   "cell_type": "code",
   "execution_count": null,
   "metadata": {
    "_cell_guid": "79c7e3d0-c299-4dcb-8224-4455121ee9b0",
    "_uuid": "d629ff2d2480ee46fbb7e2d37f6b5fab8052498a"
   },
   "outputs": [],
   "source": []
  }
 ],
 "metadata": {
  "kernelspec": {
   "display_name": "Python 3 (ipykernel)",
   "language": "python",
   "name": "python3"
  },
  "language_info": {
   "codemirror_mode": {
    "name": "ipython",
    "version": 3
   },
   "file_extension": ".py",
   "mimetype": "text/x-python",
   "name": "python",
   "nbconvert_exporter": "python",
   "pygments_lexer": "ipython3",
   "version": "3.9.7"
  }
 },
 "nbformat": 4,
 "nbformat_minor": 1
}
