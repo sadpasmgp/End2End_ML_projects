{
 "cells": [
  {
   "cell_type": "markdown",
   "metadata": {
    "_uuid": "8420225f3a61182e0d5526a563441af324775078"
   },
   "source": [
    "# Time Series Forecast with Prophet\n",
    "\n",
    "## Introduction:\n",
    "This is a simple kernel in which we will forecast stock prices using Prophet (Facebook's library for time series forecasting). However, historical prices are no indication whether a price will go up or down.  I'll rather use my own variables and use machine learning for stock price prediction rather than just using historical prices as an indication of stock price increase.\n",
    "\n",
    "\n",
    "## A Summary about Prophet:\n",
    "Facebook's research team has come up with an easier implementation of forecasting through it's new library called Prophet. From what I have read, the blog state's that analyst that can produce high quality forecasting data is rarely seen. This is one of the reasons why Facebook's research team came to an easily approachable way for using advanced concepts for time series forecasting and us Python users, can easily relate to this library since it uses Scikit-Learn's api (Similar to Scikit-Learn). To gain further information, you can look at  [Prophet Blog](https://research.fb.com/prophet-forecasting-at-scale/). Prophet's team main goal is to <b>to make it easier for experts and non-experts to make high quality forecasts that keep up with demand. </b> <br><br>\n",
    "\n",
    "There are several characteristics of Prophet (you can see it in the blog) that I want to share with you Kaggles that shows where Prophet works best:\n",
    "<ul>\n",
    "<li>hourly, daily, or weekly observations with at least a few months (preferably a year) of history </li>\n",
    "<li>strong multiple “human-scale” seasonalities: day of week and time of year </li>\n",
    "<li>Important holidays that occur at irregular intervals that are known in advance (e.g. the Super Bowl) </li>\n",
    "<li>A reasonable number of missing observations or large outliers </li>\n",
    "<li>Historical trend changes, for instance due to product launches or logging changes </li>\n",
    "<li>Trends that are non-linear growth curves, where a trend hits a natural limit or saturates </li>\n",
    "</ul>\n",
    "<br><br>\n",
    "\n",
    "### How does Prophet Work?\n",
    "---> In the process of Update.....\n"
   ]
  },
  {
   "cell_type": "code",
   "execution_count": null,
   "metadata": {},
   "outputs": [],
   "source": [
    "!conda install -c conda-forge fbprophet -y"
   ]
  },
  {
   "cell_type": "code",
   "execution_count": null,
   "metadata": {},
   "outputs": [],
   "source": [
    "!pip install --upgrade plotly"
   ]
  },
  {
   "cell_type": "code",
   "execution_count": 3,
   "metadata": {
    "_cell_guid": "b1076dfc-b9ad-4769-8c92-a6c4dae69d19",
    "_uuid": "8f2839f25d086af736a60e9eeb907d3b93b6e0e5"
   },
   "outputs": [
    {
     "ename": "ModuleNotFoundError",
     "evalue": "No module named 'fbprophet'",
     "output_type": "error",
     "traceback": [
      "\u001b[1;31m---------------------------------------------------------------------------\u001b[0m",
      "\u001b[1;31mModuleNotFoundError\u001b[0m                       Traceback (most recent call last)",
      "Input \u001b[1;32mIn [3]\u001b[0m, in \u001b[0;36m<cell line: 7>\u001b[1;34m()\u001b[0m\n\u001b[0;32m      5\u001b[0m \u001b[38;5;28;01mimport\u001b[39;00m \u001b[38;5;21;01mseaborn\u001b[39;00m \u001b[38;5;28;01mas\u001b[39;00m \u001b[38;5;21;01msns\u001b[39;00m\n\u001b[0;32m      6\u001b[0m \u001b[38;5;28;01mimport\u001b[39;00m \u001b[38;5;21;01mdatetime\u001b[39;00m \u001b[38;5;28;01mas\u001b[39;00m \u001b[38;5;21;01mdt\u001b[39;00m\n\u001b[1;32m----> 7\u001b[0m \u001b[38;5;28;01mfrom\u001b[39;00m \u001b[38;5;21;01mfbprophet\u001b[39;00m \u001b[38;5;28;01mimport\u001b[39;00m Prophet\n\u001b[0;32m      8\u001b[0m \u001b[38;5;66;03m# Statsmodels widely known for forecasting than Prophet\u001b[39;00m\n\u001b[0;32m      9\u001b[0m \u001b[38;5;28;01mimport\u001b[39;00m \u001b[38;5;21;01mstatsmodels\u001b[39;00m\u001b[38;5;21;01m.\u001b[39;00m\u001b[38;5;21;01mapi\u001b[39;00m \u001b[38;5;28;01mas\u001b[39;00m \u001b[38;5;21;01msm\u001b[39;00m\n",
      "\u001b[1;31mModuleNotFoundError\u001b[0m: No module named 'fbprophet'"
     ]
    }
   ],
   "source": [
    "# Import Libraries\n",
    "import numpy as np \n",
    "import pandas as pd\n",
    "import matplotlib.pyplot as plt\n",
    "import seaborn as sns\n",
    "import datetime as dt\n",
    "from fbprophet import Prophet\n",
    "# Statsmodels widely known for forecasting than Prophet\n",
    "import statsmodels.api as sm\n",
    "from scipy import stats\n",
    "from pandas.core import datetools\n",
    "from plotly import tools\n",
    "import plotly.plotly as py\n",
    "import plotly.figure_factory as ff\n",
    "import plotly.tools as tls\n",
    "import plotly.graph_objs as go\n",
    "from plotly.offline import download_plotlyjs, init_notebook_mode, plot, iplot\n",
    "init_notebook_mode(connected=True)\n",
    "import warnings\n",
    "warnings.filterwarnings(\"ignore\")\n",
    "\n",
    "# plt.style.available\n",
    "plt.style.use(\"seaborn-whitegrid\")"
   ]
  },
  {
   "cell_type": "code",
   "execution_count": null,
   "metadata": {
    "_uuid": "5d92b5b0ed90303835b0e25b37ae4632696969d4"
   },
   "outputs": [],
   "source": [
    "df = pd.read_csv('./all_stocks_5yr.csv')\n",
    "df.head()"
   ]
  },
  {
   "cell_type": "code",
   "execution_count": null,
   "metadata": {
    "_uuid": "26e55537effc0b4f0e0f6963736eb29ed858cbc0"
   },
   "outputs": [],
   "source": [
    "# Brief Description of our dataset\n",
    "df.describe()"
   ]
  },
  {
   "cell_type": "code",
   "execution_count": null,
   "metadata": {
    "_cell_guid": "79c7e3d0-c299-4dcb-8224-4455121ee9b0",
    "_uuid": "d629ff2d2480ee46fbb7e2d37f6b5fab8052498a"
   },
   "outputs": [],
   "source": [
    "# Replace the column name from name to ticks\n",
    "df = df.rename(columns={'Name': 'Ticks'})"
   ]
  },
  {
   "cell_type": "markdown",
   "metadata": {
    "_uuid": "15372fa8910b2a9d58f4da0649d030bd0d80c46b"
   },
   "source": [
    "For this simple tutorial we will analyze Amazon's stock and see what will the trend look like for the nearby future of this stock relying on past stock prices."
   ]
  },
  {
   "cell_type": "code",
   "execution_count": null,
   "metadata": {
    "_uuid": "d476dcf8dc9d2ef8915398fdf630ef7374c018c9"
   },
   "outputs": [],
   "source": [
    "# Let's analyze some of the stocks.\n",
    "amzn = df.loc[df['Ticks'] == 'AMZN']\n",
    "amzn.head()"
   ]
  },
  {
   "cell_type": "markdown",
   "metadata": {
    "_uuid": "dd1015dd7359a8c97d0102cb5bf631b6bd78c609"
   },
   "source": [
    "We need to make sure if the date column is either a categorical type or a datetype. In our case date is a categorical datatype so we need to change it to datetime."
   ]
  },
  {
   "cell_type": "code",
   "execution_count": null,
   "metadata": {
    "_uuid": "5d7e2a422eb4ed2e598b58b878523042d42fce57"
   },
   "outputs": [],
   "source": [
    "amzn.info() # Check whether the date is as object type or date type"
   ]
  },
  {
   "cell_type": "code",
   "execution_count": null,
   "metadata": {
    "_uuid": "6cea2af3946fb60f42bb738f42ac909e38cd73b2"
   },
   "outputs": [],
   "source": [
    "#  Change to dateformat\n",
    "amzn.head()"
   ]
  },
  {
   "cell_type": "code",
   "execution_count": null,
   "metadata": {
    "_uuid": "59a555501544fde42d69676fdd8bb8477a5d5090"
   },
   "outputs": [],
   "source": [
    "# Create a copy to avoid the SettingWarning .loc issue \n",
    "amzn_df = amzn.copy()\n",
    "# Change to datetime datatype.\n",
    "amzn_df.loc[:, 'date'] = pd.to_datetime(amzn.loc[:,'date'], format=\"%Y/%m/%d\")"
   ]
  },
  {
   "cell_type": "code",
   "execution_count": null,
   "metadata": {
    "_uuid": "8b654188c1c1aaaac70910089cad7b8f4ae5f51c"
   },
   "outputs": [],
   "source": [
    "amzn_df.info()"
   ]
  },
  {
   "cell_type": "code",
   "execution_count": null,
   "metadata": {
    "_uuid": "daa6c2e5d59ee1a2e1372d93d9271ce6fa435005"
   },
   "outputs": [],
   "source": [
    "# Simple plotting of Amazon Stock Price\n",
    "# First Subplot\n",
    "f, (ax1, ax2) = plt.subplots(1, 2, figsize=(14,5))\n",
    "ax1.plot(amzn_df[\"date\"], amzn_df[\"close\"])\n",
    "ax1.set_xlabel(\"Date\", fontsize=12)\n",
    "ax1.set_ylabel(\"Stock Price\")\n",
    "ax1.set_title(\"Amazon Close Price History\")\n",
    "\n",
    "# Second Subplot\n",
    "ax1.plot(amzn_df[\"date\"], amzn_df[\"high\"], color=\"green\")\n",
    "ax1.set_xlabel(\"Date\", fontsize=12)\n",
    "ax1.set_ylabel(\"Stock Price\")\n",
    "ax1.set_title(\"Amazon High Price History\")\n",
    "\n",
    "# Third Subplot\n",
    "ax1.plot(amzn_df[\"date\"], amzn_df[\"low\"], color=\"red\")\n",
    "ax1.set_xlabel(\"Date\", fontsize=12)\n",
    "ax1.set_ylabel(\"Stock Price\")\n",
    "ax1.set_title(\"Amazon Low Price History\")\n",
    "\n",
    "# Fourth Subplot\n",
    "ax2.plot(amzn_df[\"date\"], amzn_df[\"volume\"], color=\"orange\")\n",
    "ax2.set_xlabel(\"Date\", fontsize=12)\n",
    "ax2.set_ylabel(\"Stock Price\")\n",
    "ax2.set_title(\"Amazon's Volume History\")\n",
    "plt.show()"
   ]
  },
  {
   "cell_type": "markdown",
   "metadata": {
    "_uuid": "89ca110cd10f930b571bde7c335f34941b788cb2"
   },
   "source": [
    "### Prophet Introduction:\n",
    "Prophet is Facebook's library for time series forecasting. In my opinion, Prophet works best with datasets that are higely influenced by seasonality (electricity bills, restaurant visitors etc.) However, I wanted to show the simplicity of using Prophet for simple forecasting which is the main aim of this kernel.\n",
    "\n",
    "#### Steps for using Prophet:\n",
    "<ul>\n",
    "<li>Make sure you replace closing price for y and date for ds. </li>\n",
    "<li>Fit that dataframe to Prophet in order to detect future patterns. </li>\n",
    "<li>Predict the upper and lower prices of the closing price. </li>\n",
    "</ul>"
   ]
  },
  {
   "cell_type": "code",
   "execution_count": null,
   "metadata": {
    "_uuid": "bf22a2dd723d2ef90c3d733c84b9f0e00e659b03"
   },
   "outputs": [],
   "source": [
    "m = Prophet()\n",
    "\n",
    "# Drop the columns\n",
    "ph_df = amzn_df.drop(['open', 'high', 'low','volume', 'Ticks'], axis=1)\n",
    "ph_df.rename(columns={'close': 'y', 'date': 'ds'}, inplace=True)\n",
    "\n",
    "ph_df.head()"
   ]
  },
  {
   "cell_type": "code",
   "execution_count": null,
   "metadata": {
    "_uuid": "d2aedfd58b7a7958dc09b9bd73a6aef46e104f1c"
   },
   "outputs": [],
   "source": [
    "m = Prophet()\n",
    "\n",
    "m.fit(ph_df)"
   ]
  },
  {
   "cell_type": "code",
   "execution_count": null,
   "metadata": {
    "_uuid": "19717d6ff067df732102f7104275cecf99fcfe35"
   },
   "outputs": [],
   "source": [
    "# Create Future dates\n",
    "future_prices = m.make_future_dataframe(periods=365)\n",
    "\n",
    "# Predict Prices\n",
    "forecast = m.predict(future_prices)\n",
    "forecast[['ds', 'yhat', 'yhat_lower', 'yhat_upper']].tail()"
   ]
  },
  {
   "cell_type": "code",
   "execution_count": null,
   "metadata": {
    "_uuid": "e4d55ca14ecacb3ecabea765730a7fb8b35bf4c0"
   },
   "outputs": [],
   "source": [
    "import matplotlib.dates as mdates\n",
    "\n",
    "# Dates\n",
    "starting_date = dt.datetime(2018, 4, 7)\n",
    "starting_date1 = mdates.date2num(starting_date)\n",
    "trend_date = dt.datetime(2018, 6, 7)\n",
    "trend_date1 = mdates.date2num(trend_date)\n",
    "\n",
    "pointing_arrow = dt.datetime(2018, 2, 18)\n",
    "pointing_arrow1 = mdates.date2num(pointing_arrow)\n",
    "\n",
    "# Learn more Prophet tomorrow and plot the forecast for amazon.\n",
    "fig = m.plot(forecast)\n",
    "ax1 = fig.add_subplot(111)\n",
    "ax1.set_title(\"Amazon Stock Price Forecast\", fontsize=16)\n",
    "ax1.set_xlabel(\"Date\", fontsize=12)\n",
    "ax1.set_ylabel(\"Close Price\", fontsize=12)\n",
    "\n",
    "# Forecast initialization arrow\n",
    "ax1.annotate('Forecast \\n Initialization', xy=(pointing_arrow1, 1350), xytext=(starting_date1,1700),\n",
    "            arrowprops=dict(facecolor='#ff7f50', shrink=0.1),\n",
    "            )\n",
    "\n",
    "# Trend emphasis arrow\n",
    "ax1.annotate('Upward Trend', xy=(trend_date1, 1225), xytext=(trend_date1,950),\n",
    "            arrowprops=dict(facecolor='#6cff6c', shrink=0.1),\n",
    "            )\n",
    "\n",
    "ax1.axhline(y=1260, color='b', linestyle='-')\n",
    "\n",
    "plt.show()"
   ]
  },
  {
   "cell_type": "code",
   "execution_count": null,
   "metadata": {
    "_uuid": "12efefbeb41f68500147a678dfc121c6fb62967e"
   },
   "outputs": [],
   "source": [
    "fig2 = m.plot_components(forecast)\n",
    "plt.show()"
   ]
  },
  {
   "cell_type": "code",
   "execution_count": null,
   "metadata": {
    "_uuid": "d415b3b60973a5b0f570bb18e4749928c8c352d5"
   },
   "outputs": [],
   "source": [
    "# Monthly Data Predictions\n",
    "m = Prophet(changepoint_prior_scale=0.01).fit(ph_df)\n",
    "future = m.make_future_dataframe(periods=12, freq='M')\n",
    "fcst = m.predict(future)\n",
    "fig = m.plot(fcst)\n",
    "plt.title(\"Monthly Prediction \\n 1 year time frame\")\n",
    "\n",
    "plt.show()"
   ]
  },
  {
   "cell_type": "markdown",
   "metadata": {
    "_uuid": "50b5482747692e63001d2534a0375689b63a036a"
   },
   "source": [
    "#### Trends:\n",
    "<ul> \n",
    "<li>Amazon's stock price is showing signs of upper trend yearly. </li>\n",
    "<li> Amazon's stock price show upper trend signs during January (December Sales tend to give a boost to Amazon's stock price)</li>\n",
    "<li>There is no weekly trend for stock prices. </li>\n",
    "</ul>"
   ]
  },
  {
   "cell_type": "code",
   "execution_count": null,
   "metadata": {
    "_uuid": "eb44ef29b12a4b208d5b107dcf2de6e227b48396"
   },
   "outputs": [],
   "source": [
    "fig = m.plot_components(fcst)\n",
    "plt.show()"
   ]
  },
  {
   "cell_type": "markdown",
   "metadata": {
    "_uuid": "bbaadf088ebc49195cf610831d46510819219293"
   },
   "source": [
    "<h2>Technical Analysis: </h2>\n",
    "In this section we will go into basic technical concepts when dealing with stock investing. This are simple theories however, we shouldn't solely rely on these concepts to maximize profits as it is the case with patterns related to moving averages. Before going into this concepts, I will like to show how OHLC and Candlesticks are interpreted.\n",
    "\n",
    "<h3 align=\"center\">Open High Low Close (OHLC): </h3>\n",
    "<img src=\"https://image.slidesharecdn.com/forexcandlestick-151105160826-lva1-app6892/95/forex-candlestick-5-638.jpg?cb=1446739926\" ></img>\n",
    "<br><br>\n",
    "<h3 align=\"center\">CandleSticks: </h3>\n",
    "<img src=\"http://wealthv.com/learn/actionforex/images/candlestick_charts_explained_1.gif\" ></img>\n",
    "<br><br>\n",
    "<h3 align=\"center\">Moving Averages: </h3>\n",
    "<img src=\"https://commodity.com/wp-content/uploads/technical-analysis/MASimple50200SPY.gif\" ></img>"
   ]
  },
  {
   "cell_type": "code",
   "execution_count": null,
   "metadata": {
    "_uuid": "6d2acdf85b6adb7abb673e4f0f10ea6e742dab91"
   },
   "outputs": [],
   "source": [
    "trace = go.Ohlc(x=amzn_df['date'],\n",
    "                open=amzn_df['open'],\n",
    "                high=amzn_df['high'],\n",
    "                low=amzn_df['low'],\n",
    "                close=amzn_df['close'],\n",
    "               increasing=dict(line=dict(color= '#58FA58')),\n",
    "                decreasing=dict(line=dict(color= '#FA5858')))\n",
    "\n",
    "layout = {\n",
    "    'title': 'Amazon Historical Price',\n",
    "    'xaxis': {'title': 'Date',\n",
    "             'rangeslider': {'visible': False}},\n",
    "    'yaxis': {'title': 'Stock Price (USD$)'},\n",
    "    'shapes': [{\n",
    "        'x0': '2016-12-09', 'x1': '2016-12-09',\n",
    "        'y0': 0, 'y1': 1, 'xref': 'x', 'yref': 'paper',\n",
    "        'line': {'color': 'rgb(30,30,30)', 'width': 1}\n",
    "    }],\n",
    "    'annotations': [{\n",
    "        'x': '2017-01-20', 'y': 0.05, 'xref': 'x', 'yref': 'paper',\n",
    "        'showarrow': False, 'xanchor': 'left',\n",
    "        'text': 'President Donald Trump <br> takes Office'\n",
    "    }]\n",
    "}\n",
    "\n",
    "data = [trace]\n",
    "\n",
    "fig = go.Figure(data=data, layout=layout)\n",
    "iplot(fig, filename='simple_ohlc')"
   ]
  },
  {
   "cell_type": "code",
   "execution_count": null,
   "metadata": {
    "_uuid": "fe7e3762b09961545e6db20aef19455da904ba9b"
   },
   "outputs": [],
   "source": [
    "last_two = amzn_df.loc[amzn_df['date'].dt.year > 2016]\n",
    "\n",
    "g = last_two.groupby([\"date\"])\n",
    "monthly_averages = g.aggregate({\"open\": np.mean, \"high\": np.mean, \"low\": np.mean, \"close\":np.mean})\n",
    "monthly_averages.reset_index(level=0, inplace=True)\n",
    "\n",
    "trace = go.Candlestick(x=monthly_averages['date'],\n",
    "                       open=monthly_averages['open'].values.tolist(),\n",
    "                       high=monthly_averages['high'].values.tolist(),\n",
    "                       low=monthly_averages['low'].values.tolist(),\n",
    "                       close=monthly_averages['close'].values.tolist(),\n",
    "                      increasing=dict(line=dict(color= '#58FA58')),\n",
    "                decreasing=dict(line=dict(color= '#FA5858')))\n",
    "\n",
    "layout = {\n",
    "    'title': 'Amazon Historical Price <br> <i>For the Last two years </i>',\n",
    "    'xaxis': {'title': 'Date',\n",
    "             'rangeslider': {'visible': False}},\n",
    "    'yaxis': {'title': 'Stock Price (USD$)'},\n",
    "    'shapes': [{\n",
    "        'x0': '2018-01-02', 'x1': '2018-01-02',\n",
    "        'y0': 0, 'y1': 1, 'xref': 'x', 'yref': 'paper',\n",
    "        'line': {'color': 'rgb(30,30,30)', 'width': 1}\n",
    "    }],\n",
    "    'annotations': [{\n",
    "        'x': '2018-01-07', 'y': 0.9, 'xref': 'x', 'yref': 'paper',\n",
    "        'showarrow': True, 'xanchor': 'left',\n",
    "        'text': 'Upward Trend'\n",
    "    }]\n",
    "}\n",
    "\n",
    "\n",
    "data = [trace]\n",
    "\n",
    "fig = go.Figure(data=data, layout=layout)\n",
    "iplot(fig, filename='simple_ohlc')"
   ]
  },
  {
   "cell_type": "code",
   "execution_count": null,
   "metadata": {
    "_uuid": "a71ba672e5f454db65a3a8a8631cbadf03d99fbd"
   },
   "outputs": [],
   "source": [
    "amzn_df['month_year'] = pd.to_datetime(amzn_df['date']).dt.to_period('M')\n",
    "\n",
    "# 2017 onwards\n",
    "last_year = amzn_df.loc[amzn_df['date'].dt.year > 2017]\n",
    "g = last_year.groupby([\"date\"])\n",
    "monthly_averages = g.aggregate({\"open\": np.mean, \"high\": np.mean, \"low\": np.mean, \"close\":np.mean})\n",
    "monthly_averages.reset_index(level=0, inplace=True)\n",
    "\n",
    "monthly_averages.dtypes\n",
    "\n",
    "\n",
    "trace = go.Candlestick(x=monthly_averages['date'],\n",
    "                       open=monthly_averages['open'].values.tolist(),\n",
    "                       high=monthly_averages['high'].values.tolist(),\n",
    "                       low=monthly_averages['low'].values.tolist(),\n",
    "                       close=monthly_averages['close'].values.tolist(),\n",
    "                      increasing=dict(line=dict(color= '#58FA58')),\n",
    "                decreasing=dict(line=dict(color= '#FA5858')))\n",
    "\n",
    "\n",
    "layout = {\n",
    "    'title': 'Amazon Historical Price <br> <i>A closer look to the upward trend </i>',\n",
    "    'xaxis': {'title': 'Date',\n",
    "             'rangeslider': {'visible': False}},\n",
    "    'yaxis': {'title': 'Stock Price (USD$)'}\n",
    "}\n",
    "\n",
    "\n",
    "data = [trace]\n",
    "\n",
    "fig = go.Figure(data=data, layout=layout)\n",
    "iplot(fig, filename='simple_ohlc')"
   ]
  },
  {
   "cell_type": "code",
   "execution_count": null,
   "metadata": {
    "_uuid": "5d231e14ed9946146b7d1d81e0ba61bdbade20a6"
   },
   "outputs": [],
   "source": [
    "amzn_df.head()"
   ]
  },
  {
   "cell_type": "code",
   "execution_count": null,
   "metadata": {
    "_uuid": "f0c9d124da9eaa1eba1511fcb338663c1442cb4a"
   },
   "outputs": [],
   "source": [
    "# Moving Averages (10, 50 and 200)\n",
    "amzn_df['10_d_avg'] = amzn_df.close.rolling(window=10).mean()\n",
    "amzn_df['50_d_avg'] = amzn_df.close.rolling(window=50).mean()\n",
    "amzn_df['200_d_avg'] = amzn_df.close.rolling(window=200).mean()\n",
    "close_p = amzn_df['close'].values.tolist()\n",
    "\n",
    "\n",
    "# Variables to insert into plotly\n",
    "ten_d = amzn_df['10_d_avg'].values.tolist()\n",
    "fifty_d = amzn_df['50_d_avg'].values.tolist()\n",
    "twoh_d = amzn_df['200_d_avg'].values.tolist()\n",
    "date = amzn_df['date'].values.tolist()\n",
    "\n",
    "# Set date as index\n",
    "amzn_df = amzn_df.set_index('date')"
   ]
  },
  {
   "cell_type": "code",
   "execution_count": null,
   "metadata": {
    "_uuid": "0ab07c2aacee98282c0b6a17c471aab023cd84bf"
   },
   "outputs": [],
   "source": [
    "fig = tls.make_subplots(rows=2, cols=1, shared_xaxes=True)\n",
    "\n",
    "colors = ['#ff4500', '#92a1cf', '#6E6E6E']\n",
    "avgs = ['10_d_avg', '50_d_avg', '200_d_avg']\n",
    "# for i,c in zip(range(n),color):\n",
    "#    ax1.plot(x, y,c=c)\n",
    "\n",
    "for col, c in zip(avgs, colors):\n",
    "    fig.append_trace({'x': amzn_df.index, 'y': amzn_df[col], 'type': 'scatter', 'name': col, 'line': {'color': c}}, 1, 1)\n",
    "for col in ['close']:\n",
    "    fig.append_trace({'x': amzn_df.index, 'y': amzn_df[col], 'type': 'scatter', 'name': 'Closing Price', 'line':{'color': '#01DF3A'}}, 2, 1)\n",
    "    \n",
    "fig['layout'].update(height=800,title='Relationship between MAs <br> and Closing Price',\n",
    "                    paper_bgcolor='#F2DFCE', plot_bgcolor='#F2DFCE')\n",
    "    \n",
    "iplot(fig, filename='pandas/mixed-type subplots')"
   ]
  },
  {
   "cell_type": "code",
   "execution_count": null,
   "metadata": {
    "_uuid": "d27f6cd80c874d4abbce603abe188e4fbd22f53c"
   },
   "outputs": [],
   "source": [
    "# Take off the date index\n",
    "amzn_df = amzn_df.reset_index()\n",
    "\n",
    "# Plotly\n",
    "trace0 = go.Scatter(\n",
    "    x = amzn_df['date'],\n",
    "    y = ten_d,\n",
    "    name = '10-day MA',\n",
    "    line = dict(\n",
    "        color = ('#ff6347'),\n",
    "        width = 4)\n",
    ")\n",
    "trace1 = go.Scatter(\n",
    "    x = amzn_df['date'],\n",
    "    y = fifty_d,\n",
    "    name = '50-day MA',\n",
    "    line = dict(\n",
    "        color = ('#92a1cf'),\n",
    "        width = 4,\n",
    "    dash=\"dot\")\n",
    ")\n",
    "trace2 = go.Scatter(\n",
    "    x = amzn_df['date'],\n",
    "    y = twoh_d,\n",
    "    name = '200-day MA',\n",
    "    line = dict(\n",
    "        color = ('#2EF688'),\n",
    "        width = 4,\n",
    "        dash = 'dash') # dash options include 'dash', 'dot', and 'dashdot'\n",
    ")\n",
    "\n",
    "data = [trace0, trace1, trace2]\n",
    "\n",
    "\n",
    "# Edit the layout\n",
    "layout = dict(title = 'Moving Averages for Amazon',\n",
    "              xaxis = dict(title = 'Date'),\n",
    "              yaxis = dict(title = 'Price'),\n",
    "              annotations=[\n",
    "        dict(\n",
    "            x='2016-01-13',\n",
    "            y=657,\n",
    "            xref='x',\n",
    "            yref='y',\n",
    "            text='<i> First major decline <br> after 10-d crosses <br> 50-d moving average </i>',\n",
    "            showarrow=True,\n",
    "            arrowhead=5,\n",
    "            ax=5,\n",
    "            ay=-50\n",
    "        ), dict(\n",
    "        x = \"2016-02-24\",\n",
    "        y = 535,\n",
    "        text = \"<i>Upward trend after <br> 10-day crosses <br>200-day moving average </i>\",\n",
    "        textangle = 0,\n",
    "        ax = 50,\n",
    "        ay = 50,\n",
    "        font = dict(\n",
    "          color = \"black\",\n",
    "          size = 12\n",
    "        )\n",
    "        )],\n",
    "              paper_bgcolor='#FFF9F5',\n",
    "              plot_bgcolor='#FFF9F5'\n",
    "              )\n",
    "\n",
    "fig = dict(data=data, layout=layout)\n",
    "iplot(fig, filename='styled-line')"
   ]
  },
  {
   "cell_type": "markdown",
   "metadata": {
    "_uuid": "c15258648062cd6b906dac2361b8c2ff95e0dadf"
   },
   "source": [
    "<h2> Stocks more Susceptible to Seasonality Trends: </h2>\n",
    "In this section I want to show some types of stocks that are more vulnerable to seasonality such as airlines, hotel chains or cruiseships. In this example I will use American Airlines to demonstrate how a certain extent of the stock is influenced by seasonality movements.\n",
    "\n",
    "<h3>Summary: </h3>\n",
    "<ul>\n",
    "    <li>December and January tends to be the months were there are more upward trends for the stock. </li>\n",
    "    <li>July as well but not as much as December and January. </li>\n",
    "    <li>September tends to be the month with the most downward pressure. </li>\n",
    "    </ul>\n"
   ]
  },
  {
   "cell_type": "code",
   "execution_count": null,
   "metadata": {
    "_uuid": "315e1ff39cddd6325161b5811acc9d1a95701909"
   },
   "outputs": [],
   "source": [
    "# American Airlines\n",
    "aal_df = df.loc[df[\"Ticks\"] == \"AAL\"]\n",
    "\n",
    "aal_df.loc[:, 'date'] = pd.to_datetime(aal_df.loc[:,'date'], format=\"%Y/%m/%d\")\n",
    "\n",
    "aal_df.info()"
   ]
  },
  {
   "cell_type": "code",
   "execution_count": null,
   "metadata": {
    "_uuid": "41e7bce25ab2d632564f23756fb76c1ad5197f9e"
   },
   "outputs": [],
   "source": [
    "f, (ax1, ax2, ax3) = plt.subplots(1, 3, figsize=(18,5))\n",
    "\n",
    "aal_df[\"close_log\"] = np.log(aal_df[\"close\"])\n",
    "aal_df[\"high_log\"] = np.log(aal_df[\"high\"])\n",
    "aal_df[\"low_log\"] = np.log(aal_df[\"low\"])\n",
    "\n",
    "ax1.plot(aal_df[\"date\"], aal_df[\"close_log\"])\n",
    "ax1.set_title(\"Normalized Close Price\")\n",
    "ax2.plot(aal_df[\"date\"], aal_df[\"high_log\"], color=\"g\")\n",
    "ax2.set_title(\"Normalized High Price\")\n",
    "ax3.plot(aal_df[\"date\"], aal_df[\"low_log\"], color=\"r\")\n",
    "ax3.set_title(\"Normalized Low Price\")\n",
    "plt.show()"
   ]
  },
  {
   "cell_type": "code",
   "execution_count": null,
   "metadata": {
    "_uuid": "837882f6a79f84d3ed6b07978a23ec7bbf27bc3b"
   },
   "outputs": [],
   "source": [
    "aal_df['std_close'] = aal_df[\"close\"].rolling(5).std()\n",
    "aal_df['mean_close'] = aal_df[\"close\"].rolling(5).mean()\n",
    "aal_df['twenty_mean_close'] = aal_df[\"close\"].rolling(20).mean()\n",
    "\n",
    "f, (std_ax, avg_ax) = plt.subplots(1, 2, figsize=(18,5))\n",
    "\n",
    "std_ax.plot(aal_df[\"date\"], aal_df[\"std_close\"], color=\"r\", label=\"Standard Deviation\")\n",
    "std_ax.legend(loc=\"upper left\")\n",
    "std_ax.set_title(\"Standard Deviation American Airlines \\n (AAL)\")\n",
    "\n",
    "avg_ax.plot(aal_df[\"date\"], aal_df[\"mean_close\"], color=\"g\", label=\"5-day MA\")\n",
    "avg_ax.plot(aal_df[\"date\"], aal_df[\"twenty_mean_close\"], color=\"k\", label=\"20-day MA\")\n",
    "avg_ax.legend(loc=\"upper left\")\n",
    "avg_ax.set_title(\"5 Day Average AAL \\n Closing Price\")\n",
    "plt.show()"
   ]
  },
  {
   "cell_type": "code",
   "execution_count": null,
   "metadata": {
    "_uuid": "6a9cab72b8cc8328c2d0d3ca87dcb756e672766b"
   },
   "outputs": [],
   "source": [
    "m = Prophet()\n",
    "\n",
    "# Drop the columns\n",
    "ph_df = aal_df.drop(['open', 'high', 'low','volume', 'Ticks', 'close_log', 'high_log', 'mean_close', 'twenty_mean_close', 'low_log', 'std_close'], axis=1)\n",
    "ph_df.rename(columns={'close': 'y', 'date': 'ds'}, inplace=True)\n",
    "\n",
    "ph_df.head()\n",
    "\n"
   ]
  },
  {
   "cell_type": "code",
   "execution_count": null,
   "metadata": {
    "_uuid": "dd76197316349dd252630c52066d2bbc750009eb"
   },
   "outputs": [],
   "source": [
    "m.fit(ph_df)\n",
    "\n",
    "future_prices = m.make_future_dataframe(periods=365)\n",
    "\n",
    "# Predict Prices\n",
    "forecast = m.predict(future_prices)\n",
    "forecast[['ds', 'yhat', 'yhat_lower', 'yhat_upper']].tail()"
   ]
  },
  {
   "cell_type": "code",
   "execution_count": null,
   "metadata": {
    "_uuid": "ed529ec219321a9b0a02f526f8fd3302c839778b"
   },
   "outputs": [],
   "source": [
    "# Dates\n",
    "starting_date = dt.datetime(2018, 4, 7)\n",
    "starting_date1 = mdates.date2num(starting_date)\n",
    "trend_date = dt.datetime(2018, 2, 7)\n",
    "trend_date1 = mdates.date2num(trend_date)\n",
    "\n",
    "pointing_arrow = dt.datetime(2018, 2, 18)\n",
    "pointing_arrow1 = mdates.date2num(pointing_arrow)\n",
    "\n",
    "# Dates Forecasting Resistance Line\n",
    "resistance_date = dt.datetime(2016, 4, 7)\n",
    "resistance_date1 = mdates.date2num(resistance_date)\n",
    "\n",
    "# Dates Forecasting Support Line\n",
    "support_date = dt.datetime(2013, 4, 7)\n",
    "support_date1 = mdates.date2num(support_date)\n",
    "\n",
    "# Learn more Prophet tomorrow and plot the forecast for amazon.\n",
    "fig = m.plot(forecast)\n",
    "ax1 = fig.add_subplot(111)\n",
    "ax1.set_title(\"American Airlines Stock Price Forecast\", fontsize=16)\n",
    "ax1.set_xlabel(\"Date\", fontsize=12)\n",
    "ax1.set_ylabel(\"Close Price\", fontsize=12)\n",
    "\n",
    "# Forecast initialization arrow\n",
    "ax1.annotate('Forecast \\n Initialization', xy=(pointing_arrow1, 55), xytext=(starting_date1,40),\n",
    "            arrowprops=dict(facecolor='#ff7f50', shrink=0.1),\n",
    "            )\n",
    "\n",
    "# # Trend emphasis arrow\n",
    "ax1.annotate('Last Closing Price \\n Before Forecast \\n ($51.40)', xy=(trend_date1, 57), xytext=(trend_date1,70),\n",
    "            arrowprops=dict(facecolor='#6cff6c', shrink=0.1),\n",
    "            )\n",
    "\n",
    "# Resistance Line\n",
    "ax1.annotate('Resistance Line \\n of Forecast Peak ${:.2f}'.format(forecast[\"yhat\"].max()), xy=(resistance_date1, 65), xytext=(resistance_date1,73),\n",
    "            arrowprops=dict(facecolor='#FF0000', shrink=0.1),\n",
    "            )\n",
    "\n",
    "# Support Line\n",
    "ax1.annotate('Support Line \\n of Forecast Bottom \\n $51.40', xy=(support_date1, 53), xytext=(support_date1,40),\n",
    "            arrowprops=dict(facecolor='#00FF40', shrink=0.1),\n",
    "            )\n",
    "\n",
    "ax1.axhline(y=65, color='r', linestyle='--')\n",
    "ax1.axhline(y=54.2, color='g', linestyle='--')\n",
    "\n",
    "plt.show()"
   ]
  },
  {
   "cell_type": "code",
   "execution_count": null,
   "metadata": {
    "_uuid": "4339e6ed7c9ffd10d4343dd62cf2d87884a7dda4"
   },
   "outputs": [],
   "source": [
    "fig2 = m.plot_components(forecast)\n",
    "plt.show()"
   ]
  },
  {
   "cell_type": "code",
   "execution_count": null,
   "metadata": {
    "_uuid": "b76f74ef370d75038b7644b94dddb90a40afd8ed"
   },
   "outputs": [],
   "source": [
    "# Change dates from daily frequency to monthly frequency\n",
    "forecast_monthly = forecast.resample('M', on='ds').mean()\n",
    "forecast_monthly = forecast_monthly.reset_index() \n",
    "\n",
    "\n",
    "# Extract Year and Month and put it in a column.\n",
    "forecast_monthly[\"month_int\"] = forecast_monthly['ds'].dt.month\n",
    "forecast_monthly[\"year\"] = forecast_monthly['ds'].dt.year\n",
    "\n",
    "forecast_monthly[\"month\"] = np.nan\n",
    "lst = [forecast_monthly]\n",
    "\n",
    "\n",
    "for column in lst:\n",
    "    column.loc[column[\"month_int\"] == 1, \"month\"] = \"January\"\n",
    "    column.loc[column[\"month_int\"] == 2, \"month\"] = \"February\"\n",
    "    column.loc[column[\"month_int\"] == 3, \"month\"] = \"March\"\n",
    "    column.loc[column[\"month_int\"] == 4, \"month\"] = \"April\"\n",
    "    column.loc[column[\"month_int\"] == 5, \"month\"] = \"May\"\n",
    "    column.loc[column[\"month_int\"] == 6, \"month\"] = \"June\"\n",
    "    column.loc[column[\"month_int\"] == 7, \"month\"] = \"July\"\n",
    "    column.loc[column[\"month_int\"] == 8, \"month\"] = \"August\"\n",
    "    column.loc[column[\"month_int\"] == 9, \"month\"] = \"September\"\n",
    "    column.loc[column[\"month_int\"] == 10, \"month\"] = \"October\"\n",
    "    column.loc[column[\"month_int\"] == 11, \"month\"] = \"November\"\n",
    "    column.loc[column[\"month_int\"] == 12, \"month\"] = \"December\"\n",
    "    \n",
    "    \n",
    "forecast_monthly['season'] = np.nan\n",
    "lst2 = [forecast_monthly]\n",
    "\n",
    "for column in lst2:\n",
    "    column.loc[(column['month_int'] > 2) & (column['month_int'] <= 5), 'Season'] = 'Spring'\n",
    "    column.loc[(column['month_int'] > 5) & (column['month_int'] <= 8), 'Season'] = 'Summer'\n",
    "    column.loc[(column['month_int'] > 8) & (column['month_int'] <= 11), 'Season'] = 'Autumn'\n",
    "    column.loc[column['month_int'] <= 2, 'Season'] = 'Winter'\n",
    "    column.loc[column['month_int'] == 12, 'Season'] = 'Winter'\n",
    "    \n",
    "    \n",
    "\n",
    "    \n",
    "\n",
    "# Let's Create Seasonality Columns (Barplots that descripe the average trend per Season for each year)\n",
    "# Create different axes by Year\n",
    "df_2013 = forecast_monthly.loc[(forecast_monthly[\"year\"] == 2013)]\n",
    "df_2014 = forecast_monthly.loc[(forecast_monthly[\"year\"] == 2014)]\n",
    "df_2015 = forecast_monthly.loc[(forecast_monthly[\"year\"] == 2015)]\n",
    "df_2016 = forecast_monthly.loc[(forecast_monthly[\"year\"] == 2016)]\n",
    "df_2017 = forecast_monthly.loc[(forecast_monthly[\"year\"] == 2017)]\n",
    "df_2018 = forecast_monthly.loc[(forecast_monthly[\"year\"] == 2018)]\n",
    "\n",
    "\n",
    "f, ((ax1, ax2, ax3), (ax4, ax5, ax6)) = plt.subplots(2, 3, figsize=(16,12))\n",
    "\n",
    "\n",
    "# Year 2013\n",
    "sns.pointplot(x=\"Season\", y=\"trend\",\n",
    "                    data=df_2013, ax=ax1, color=\"g\")\n",
    "\n",
    "# Year 2014\n",
    "sns.pointplot(x=\"Season\", y=\"trend\",\n",
    "                    data=df_2014, ax=ax2, color=\"r\")\n",
    "\n",
    "# Year 2015\n",
    "sns.pointplot(x=\"Season\", y=\"trend\",\n",
    "                    data=df_2015, ax=ax3, color=\"r\")\n",
    "\n",
    "\n",
    "# Year 2016\n",
    "sns.pointplot(x=\"Season\", y=\"trend\",\n",
    "                    data=df_2016, ax=ax4, color=\"g\")\n",
    "\n",
    "# Year 2017\n",
    "sns.pointplot(x=\"Season\", y=\"trend\",\n",
    "                    data=df_2017, ax=ax5, color=\"g\")\n",
    "\n",
    "# Year 2018\n",
    "sns.pointplot(x=\"Season\", y=\"trend\",\n",
    "                    data=df_2018, ax=ax6, color=\"g\")\n",
    "\n",
    "ax1.set_title(\"Year 2013\")\n",
    "ax2.set_title(\"Year 2014\")\n",
    "ax3.set_title(\"Year 2015\")\n",
    "ax4.set_title(\"Year 2016\")\n",
    "ax5.set_title(\"Year 2017\")\n",
    "ax6.set_title(\"Year 2018\")\n",
    "\n",
    "# Oil dips\n",
    "# September 2014 and June 2015\n",
    "ax2.annotate('First Major \\n Oil Price \\n Decline \\n(Starts Here)', xy=(3, 44), xytext=(2.8,38.5),\n",
    "            arrowprops=dict(facecolor='#81F781', shrink=0.1),\n",
    "            )\n",
    "\n",
    "\n",
    "ax3.annotate('Second \\n Major \\n Oil Price \\n Decline \\n(Starts Here)', xy=(1, 46.8), xytext=(1,44),\n",
    "            arrowprops=dict(facecolor='#81F781', shrink=0.1),\n",
    "            )\n",
    "\n",
    "plt.show()"
   ]
  },
  {
   "cell_type": "markdown",
   "metadata": {
    "_uuid": "b140fb1823336c04f550b28a60007c41f7f386e9"
   },
   "source": [
    "<h3>References: </h3>\n",
    "<a src=\"https://www.kaggle.com/thebrownviking20/everything-you-can-do-with-a-time-series\"> Everything you can do with a time series </a> by Siddharth Yadav \n",
    "- A special thanks to Siddharth for publishing an amazing work in the Kaggle community. Definitely, will recommend his work for anyone interested in Time Series Forecasting."
   ]
  }
 ],
 "metadata": {
  "kernelspec": {
   "display_name": "Python 3 (ipykernel)",
   "language": "python",
   "name": "python3"
  },
  "language_info": {
   "codemirror_mode": {
    "name": "ipython",
    "version": 3
   },
   "file_extension": ".py",
   "mimetype": "text/x-python",
   "name": "python",
   "nbconvert_exporter": "python",
   "pygments_lexer": "ipython3",
   "version": "3.9.7"
  }
 },
 "nbformat": 4,
 "nbformat_minor": 1
}
