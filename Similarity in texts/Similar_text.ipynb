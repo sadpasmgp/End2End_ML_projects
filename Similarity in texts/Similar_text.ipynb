{
 "cells": [
  {
   "cell_type": "code",
   "execution_count": 1,
   "metadata": {
    "id": "Tl1Xb-vss0xL"
   },
   "outputs": [],
   "source": [
    "# Importing necessary libraries\n",
    "\n",
    "import nltk\n",
    "from nltk.corpus import stopwords\n",
    "import re\n",
    "from tqdm.notebook import tqdm\n",
    "import time\n",
    "import requests\n",
    "import random"
   ]
  },
  {
   "cell_type": "code",
   "execution_count": 2,
   "metadata": {
    "id": "hexst09myAXl"
   },
   "outputs": [],
   "source": [
    "# Taking example text sample:\n",
    "text = \" J. Walk @Jwalk35_ 18h I read the article. He essentially said that instead of trying to fit a  \\\n",
    "       woman into this role, they should write an original character better than james bond for a woman.\"\n",
    "\n",
    "text2 = \"Joe Lara- the star of the famous adventure movie 'Tarzan: The Epic Adventures' has passed away in a plane crash. \\\n",
    "        The 58-year-old was with his wife\"       "
   ]
  },
  {
   "cell_type": "code",
   "execution_count": 3,
   "metadata": {
    "id": "zSqfwUgss29B"
   },
   "outputs": [],
   "source": [
    "def Cleaning(text):\n",
    "  def cleanhtml(raw_html):\n",
    "    cleanr = re.compile('<.*?>')\n",
    "    cleantext = re.sub(cleanr, '', raw_html)\n",
    "    return cleantext\n",
    "\n",
    "\n",
    "  def replaceUrls(data):\n",
    "      #Removing URLs with a regular expression\n",
    "      url_pattern = re.compile(r'https?://\\S+|www\\.\\S+')\n",
    "      data = url_pattern.sub(r'', data)\n",
    "      return data\n",
    "\n",
    "  def removeEmail(data):\n",
    "      # Remove Emails\n",
    "      data = re.sub('\\S*@\\S*\\s?', '', data)\n",
    "      return data\n",
    "\n",
    "  def misc(data):\n",
    "      # Remove new line characters\n",
    "      data = re.sub(r'\\.+', \".\", data)\n",
    "      data = re.sub('\\s+', ' ', data)\n",
    "      # Remove distracting single quotes\n",
    "      data = re.sub(\"\\'\", \"\", data)\n",
    "      return data\n",
    "\n",
    "  sentence = cleanhtml(text)\n",
    "  sentence = replaceUrls(sentence)\n",
    "  sentence = removeEmail(sentence)\n",
    "  sentence = misc(sentence)\n",
    "  sentence = re.sub(r'[^a-zA-Z]', ' ', sentence)\n",
    "  sentence = re.sub(' +', ' ', sentence)\n",
    "  sentence = sentence.lower()\n",
    "\n",
    "  return sentence"
   ]
  },
  {
   "cell_type": "code",
   "execution_count": 4,
   "metadata": {
    "colab": {
     "base_uri": "https://localhost:8080/"
    },
    "id": "qUa00uOZvrdI",
    "outputId": "564b492f-66ca-4aa9-b762-18381542d132"
   },
   "outputs": [
    {
     "name": "stderr",
     "output_type": "stream",
     "text": [
      "[nltk_data] Downloading package stopwords to\n",
      "[nltk_data]     C:\\Users\\sadpa\\AppData\\Roaming\\nltk_data...\n",
      "[nltk_data]   Package stopwords is already up-to-date!\n"
     ]
    },
    {
     "data": {
      "text/plain": [
       "True"
      ]
     },
     "execution_count": 4,
     "metadata": {},
     "output_type": "execute_result"
    }
   ],
   "source": [
    "nltk.download('stopwords')"
   ]
  },
  {
   "cell_type": "code",
   "execution_count": 5,
   "metadata": {
    "id": "gLTfE96DvUzu"
   },
   "outputs": [],
   "source": [
    "stopwords_list = stopwords.words('english')\n",
    "\n",
    "def removeStopwords(sentence):  \n",
    "  words = sentence.split(\" \")\n",
    "  filtered_sentence = [word for word in words if not word in stopwords_list]\n",
    "  ans = ' '.join([ i for i in filtered_sentence if len(i) >= 2])\n",
    "\n",
    "  return ans"
   ]
  },
  {
   "cell_type": "code",
   "execution_count": 6,
   "metadata": {
    "colab": {
     "base_uri": "https://localhost:8080/"
    },
    "id": "0NtlqyH5x7aI",
    "outputId": "2871d6d0-dee7-4bba-94ba-f12e9e8e5c26"
   },
   "outputs": [
    {
     "name": "stdout",
     "output_type": "stream",
     "text": [
      " j walk h i read the article he essentially said that instead of trying to fit a woman into this role they should write an original character better than james bond for a woman \n",
      "walk read article essentially said instead trying fit woman role write original character better james bond woman\n"
     ]
    }
   ],
   "source": [
    "pre_final = Cleaning(text)\n",
    "print(pre_final)\n",
    "pre_final = removeStopwords(pre_final)\n",
    "print(pre_final)"
   ]
  },
  {
   "cell_type": "code",
   "execution_count": 7,
   "metadata": {
    "colab": {
     "base_uri": "https://localhost:8080/"
    },
    "id": "e5E9jRoX_tyF",
    "outputId": "c9ee55ab-3254-4e73-f2cf-da0b9187f0ad"
   },
   "outputs": [
    {
     "name": "stdout",
     "output_type": "stream",
     "text": [
      "joe lara the star of the famous adventure movie tarzan the epic adventures has passed away in a plane crash the year old was with his wife\n",
      "joe lara star famous adventure movie tarzan epic adventures passed away plane crash year old wife\n"
     ]
    }
   ],
   "source": [
    "pre_final2 = Cleaning(text2)\n",
    "print(pre_final2)\n",
    "pre_final2 = removeStopwords(pre_final2)\n",
    "print(pre_final2)"
   ]
  },
  {
   "cell_type": "code",
   "execution_count": 10,
   "metadata": {
    "id": "sR5af-AAvpTp"
   },
   "outputs": [],
   "source": [
    "import pandas as pd\n",
    "import pickle\n",
    "\n",
    "\n",
    "# This file has the information on every common word and its embeddings.\n",
    "save_data = open(r\"word_embeddings_model1.pickle\", \"rb\")\n",
    "word_embed = pickle.load(save_data)\n",
    "save_data.close()"
   ]
  },
  {
   "cell_type": "code",
   "execution_count": 15,
   "metadata": {
    "colab": {
     "base_uri": "https://localhost:8080/"
    },
    "id": "V-PVN2xH2DGh",
    "outputId": "38c284a6-ccab-422a-ffd0-fd67d5f71ceb"
   },
   "outputs": [
    {
     "data": {
      "text/plain": [
       "<gensim.models.word2vec.Word2Vec at 0x23290eef160>"
      ]
     },
     "execution_count": 15,
     "metadata": {},
     "output_type": "execute_result"
    }
   ],
   "source": [
    "word_embed"
   ]
  },
  {
   "cell_type": "code",
   "execution_count": 16,
   "metadata": {
    "colab": {
     "base_uri": "https://localhost:8080/"
    },
    "id": "nhwF50RV4Ifb",
    "outputId": "219872f8-94b8-47ec-b331-2d7200d30c89"
   },
   "outputs": [
    {
     "name": "stdout",
     "output_type": "stream",
     "text": [
      "Number of words in text 1: 17\n",
      "Unrecognizable word count in text 1: 1\n"
     ]
    }
   ],
   "source": [
    "# Creating text vectors\n",
    "import numpy as np\n",
    "\n",
    "count = 0\n",
    "document_embeddings = np.zeros(50, dtype=float)\n",
    "try:\n",
    "  for word in pre_final.split(\" \"):\n",
    "    array = np.asarray(word_embed[word], dtype=float)\n",
    "    document_embeddings = np.add(document_embeddings, array, out=document_embeddings, casting=\"unsafe\")\n",
    "except:\n",
    "  count = count + 1\n",
    "\n",
    "print(\"Number of words in text 1:\", len(pre_final.split(\" \")))\n",
    "print(\"Unrecognizable word count in text 1:\", count)"
   ]
  },
  {
   "cell_type": "code",
   "execution_count": 17,
   "metadata": {
    "colab": {
     "base_uri": "https://localhost:8080/"
    },
    "id": "lVo7n3ul_292",
    "outputId": "f0e5d381-75ed-4196-f394-65cbd82f2973"
   },
   "outputs": [
    {
     "name": "stdout",
     "output_type": "stream",
     "text": [
      "Number of words in text 1: 16\n",
      "Unrecognizable word count in text 1: 1\n"
     ]
    }
   ],
   "source": [
    "count2 = 0\n",
    "document_embeddings2 = np.zeros(50, dtype=float)\n",
    "try:\n",
    "  for word in pre_final2.split(\" \"):\n",
    "    array = np.asarray(word_embed[word], dtype=float)\n",
    "    document_embeddings2 = np.add(document_embeddings2, array, out=document_embeddings2, casting=\"unsafe\")\n",
    "except:\n",
    "  count2 = count2 + 1\n",
    "\n",
    "print(\"Number of words in text 1:\", len(pre_final2.split(\" \")))\n",
    "print(\"Unrecognizable word count in text 1:\", count2)"
   ]
  },
  {
   "cell_type": "code",
   "execution_count": 18,
   "metadata": {
    "colab": {
     "base_uri": "https://localhost:8080/"
    },
    "id": "LNryh6GG7Ufy",
    "outputId": "6accc340-c84e-4509-f0b6-c2a454f47163"
   },
   "outputs": [
    {
     "data": {
      "text/plain": [
       "array([0., 0., 0., 0., 0., 0., 0., 0., 0., 0., 0., 0., 0., 0., 0., 0., 0.,\n",
       "       0., 0., 0., 0., 0., 0., 0., 0., 0., 0., 0., 0., 0., 0., 0., 0., 0.,\n",
       "       0., 0., 0., 0., 0., 0., 0., 0., 0., 0., 0., 0., 0., 0., 0., 0.])"
      ]
     },
     "execution_count": 18,
     "metadata": {},
     "output_type": "execute_result"
    }
   ],
   "source": [
    "document_embeddings"
   ]
  },
  {
   "cell_type": "code",
   "execution_count": 19,
   "metadata": {
    "colab": {
     "base_uri": "https://localhost:8080/"
    },
    "id": "Azp0KV4Fccz5",
    "outputId": "cdeaddf6-12fa-45fd-d8e8-8a86b3c2a782"
   },
   "outputs": [
    {
     "data": {
      "text/plain": [
       "array([0., 0., 0., 0., 0., 0., 0., 0., 0., 0., 0., 0., 0., 0., 0., 0., 0.,\n",
       "       0., 0., 0., 0., 0., 0., 0., 0., 0., 0., 0., 0., 0., 0., 0., 0., 0.,\n",
       "       0., 0., 0., 0., 0., 0., 0., 0., 0., 0., 0., 0., 0., 0., 0., 0., 0.,\n",
       "       0., 0., 0., 0., 0., 0., 0., 0., 0., 0., 0., 0., 0., 0., 0., 0., 0.,\n",
       "       0., 0., 0., 0., 0., 0., 0., 0., 0., 0., 0., 0., 0., 0., 0., 0., 0.,\n",
       "       0., 0., 0., 0., 0., 0., 0., 0., 0., 0., 0., 0., 0., 0., 0.])"
      ]
     },
     "execution_count": 19,
     "metadata": {},
     "output_type": "execute_result"
    }
   ],
   "source": [
    "document_embedding = np.concatenate([document_embeddings, document_embeddings])\n",
    "document_embedding"
   ]
  },
  {
   "cell_type": "code",
   "execution_count": 20,
   "metadata": {
    "colab": {
     "base_uri": "https://localhost:8080/"
    },
    "id": "ahxtPvqZAAdk",
    "outputId": "3203ab15-72a2-4fc2-b14a-6e6231540507"
   },
   "outputs": [
    {
     "data": {
      "text/plain": [
       "array([0., 0., 0., 0., 0., 0., 0., 0., 0., 0., 0., 0., 0., 0., 0., 0., 0.,\n",
       "       0., 0., 0., 0., 0., 0., 0., 0., 0., 0., 0., 0., 0., 0., 0., 0., 0.,\n",
       "       0., 0., 0., 0., 0., 0., 0., 0., 0., 0., 0., 0., 0., 0., 0., 0.])"
      ]
     },
     "execution_count": 20,
     "metadata": {},
     "output_type": "execute_result"
    }
   ],
   "source": [
    "document_embeddings2"
   ]
  },
  {
   "cell_type": "code",
   "execution_count": 21,
   "metadata": {
    "colab": {
     "base_uri": "https://localhost:8080/"
    },
    "id": "UtmZaQSoc3wj",
    "outputId": "a1e5ccc3-3113-4dff-cac2-41ea7141811f"
   },
   "outputs": [
    {
     "data": {
      "text/plain": [
       "array([0., 0., 0., 0., 0., 0., 0., 0., 0., 0., 0., 0., 0., 0., 0., 0., 0.,\n",
       "       0., 0., 0., 0., 0., 0., 0., 0., 0., 0., 0., 0., 0., 0., 0., 0., 0.,\n",
       "       0., 0., 0., 0., 0., 0., 0., 0., 0., 0., 0., 0., 0., 0., 0., 0., 0.,\n",
       "       0., 0., 0., 0., 0., 0., 0., 0., 0., 0., 0., 0., 0., 0., 0., 0., 0.,\n",
       "       0., 0., 0., 0., 0., 0., 0., 0., 0., 0., 0., 0., 0., 0., 0., 0., 0.,\n",
       "       0., 0., 0., 0., 0., 0., 0., 0., 0., 0., 0., 0., 0., 0., 0.])"
      ]
     },
     "execution_count": 21,
     "metadata": {},
     "output_type": "execute_result"
    }
   ],
   "source": [
    "document_embedding2 = np.concatenate([document_embeddings2, document_embeddings2])\n",
    "document_embedding2"
   ]
  },
  {
   "cell_type": "code",
   "execution_count": 22,
   "metadata": {
    "id": "bPPhXfzZ-y7N"
   },
   "outputs": [],
   "source": [
    "# We will go for cosine_similarity\n",
    "def cosine_similarity(A, B):\n",
    "    \"\"\"\n",
    "    Input:\n",
    "        A: a numpy array which corresponds to a word vector\n",
    "        B: A numpy array which corresponds to a word vector\n",
    "    Output:\n",
    "        cos: numerical number representing the cosine similarity between A and B.\n",
    "    \"\"\"\n",
    "    dot = np.dot(A, B)\n",
    "    norma = np.sqrt(np.dot(A, A))\n",
    "    normb = np.sqrt(np.dot(B, B))\n",
    "    cos = dot / (norma * normb)\n",
    "\n",
    "    return cos"
   ]
  },
  {
   "cell_type": "code",
   "execution_count": 23,
   "metadata": {
    "colab": {
     "base_uri": "https://localhost:8080/"
    },
    "id": "-iAFtph1AFaV",
    "outputId": "16195ef2-9097-4e3e-bf61-d6ef032431bd"
   },
   "outputs": [
    {
     "name": "stdout",
     "output_type": "stream",
     "text": [
      "nan\n"
     ]
    },
    {
     "name": "stderr",
     "output_type": "stream",
     "text": [
      "C:\\Users\\sadpa\\AppData\\Local\\Temp\\ipykernel_17044\\2338355024.py:13: RuntimeWarning: invalid value encountered in double_scalars\n",
      "  cos = dot / (norma * normb)\n"
     ]
    }
   ],
   "source": [
    "similarity = cosine_similarity(document_embeddings, document_embeddings2)\n",
    "print(similarity)"
   ]
  },
  {
   "cell_type": "code",
   "execution_count": 24,
   "metadata": {
    "colab": {
     "base_uri": "https://localhost:8080/"
    },
    "id": "kMlW7FOqAHRx",
    "outputId": "05023835-372c-48ff-ab2d-3c557003afbc"
   },
   "outputs": [
    {
     "name": "stdout",
     "output_type": "stream",
     "text": [
      "nan\n"
     ]
    },
    {
     "name": "stderr",
     "output_type": "stream",
     "text": [
      "C:\\Users\\sadpa\\AppData\\Local\\Temp\\ipykernel_17044\\2338355024.py:13: RuntimeWarning: invalid value encountered in double_scalars\n",
      "  cos = dot / (norma * normb)\n"
     ]
    }
   ],
   "source": [
    "similarity_new = cosine_similarity(document_embedding, document_embedding2)\n",
    "print(similarity_new)"
   ]
  },
  {
   "cell_type": "code",
   "execution_count": null,
   "metadata": {
    "id": "g1c_aU0Igka6"
   },
   "outputs": [],
   "source": []
  }
 ],
 "metadata": {
  "colab": {
   "collapsed_sections": [],
   "name": "Similar text.ipynb",
   "provenance": []
  },
  "kernelspec": {
   "display_name": "Python 3 (ipykernel)",
   "language": "python",
   "name": "python3"
  },
  "language_info": {
   "codemirror_mode": {
    "name": "ipython",
    "version": 3
   },
   "file_extension": ".py",
   "mimetype": "text/x-python",
   "name": "python",
   "nbconvert_exporter": "python",
   "pygments_lexer": "ipython3",
   "version": "3.9.7"
  }
 },
 "nbformat": 4,
 "nbformat_minor": 1
}
