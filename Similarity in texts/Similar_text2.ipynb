{
  "nbformat": 4,
  "nbformat_minor": 0,
  "metadata": {
    "colab": {
      "name": "Similar text.ipynb",
      "provenance": [],
      "collapsed_sections": []
    },
    "kernelspec": {
      "name": "python3",
      "display_name": "Python 3"
    },
    "language_info": {
      "name": "python"
    }
  },
  "cells": [
    {
      "cell_type": "code",
      "metadata": {
        "colab": {
          "base_uri": "https://localhost:8080/"
        },
        "id": "KTj-Gxa0swmk",
        "outputId": "c9ff7802-9468-44c6-a5e5-f3923be8e083"
      },
      "source": [
        "from google.colab import drive\n",
        "drive.mount('/content/drive')"
      ],
      "execution_count": null,
      "outputs": [
        {
          "output_type": "stream",
          "name": "stdout",
          "text": [
            "Drive already mounted at /content/drive; to attempt to forcibly remount, call drive.mount(\"/content/drive\", force_remount=True).\n"
          ]
        }
      ]
    },
    {
      "cell_type": "code",
      "metadata": {
        "id": "Tl1Xb-vss0xL"
      },
      "source": [
        "# Importing necessary libraries\n",
        "\n",
        "import nltk\n",
        "from nltk.corpus import stopwords\n",
        "import re\n",
        "from tqdm.notebook import tqdm\n",
        "import time\n",
        "import requests\n",
        "import random"
      ],
      "execution_count": null,
      "outputs": []
    },
    {
      "cell_type": "code",
      "metadata": {
        "id": "hexst09myAXl"
      },
      "source": [
        "# Taking example text sample:\n",
        "text = \" J. Walk @Jwalk35_ 18h I read the article. He essentially said that instead of trying to fit a  \\\n",
        "       woman into this role, they should write an original character better than james bond for a woman.\"\n",
        "\n",
        "text2 = \"Joe Lara- the star of the famous adventure movie 'Tarzan: The Epic Adventures' has passed away in a plane crash. \\\n",
        "        The 58-year-old was with his wife\"       "
      ],
      "execution_count": null,
      "outputs": []
    },
    {
      "cell_type": "code",
      "metadata": {
        "id": "zSqfwUgss29B"
      },
      "source": [
        "def Cleaning(text):\n",
        "  def cleanhtml(raw_html):\n",
        "    cleanr = re.compile('<.*?>')\n",
        "    cleantext = re.sub(cleanr, '', raw_html)\n",
        "    return cleantext\n",
        "\n",
        "\n",
        "  def replaceUrls(data):\n",
        "      #Removing URLs with a regular expression\n",
        "      url_pattern = re.compile(r'https?://\\S+|www\\.\\S+')\n",
        "      data = url_pattern.sub(r'', data)\n",
        "      return data\n",
        "\n",
        "  def removeEmail(data):\n",
        "      # Remove Emails\n",
        "      data = re.sub('\\S*@\\S*\\s?', '', data)\n",
        "      return data\n",
        "\n",
        "  def misc(data):\n",
        "      # Remove new line characters\n",
        "      data = re.sub(r'\\.+', \".\", data)\n",
        "      data = re.sub('\\s+', ' ', data)\n",
        "      # Remove distracting single quotes\n",
        "      data = re.sub(\"\\'\", \"\", data)\n",
        "      return data\n",
        "\n",
        "  sentence = cleanhtml(text)\n",
        "  sentence = replaceUrls(sentence)\n",
        "  sentence = removeEmail(sentence)\n",
        "  sentence = misc(sentence)\n",
        "  sentence = re.sub(r'[^a-zA-Z]', ' ', sentence)\n",
        "  sentence = re.sub(' +', ' ', sentence)\n",
        "  sentence = sentence.lower()\n",
        "\n",
        "  return sentence"
      ],
      "execution_count": null,
      "outputs": []
    },
    {
      "cell_type": "code",
      "metadata": {
        "colab": {
          "base_uri": "https://localhost:8080/"
        },
        "id": "qUa00uOZvrdI",
        "outputId": "564b492f-66ca-4aa9-b762-18381542d132"
      },
      "source": [
        "nltk.download('stopwords')"
      ],
      "execution_count": null,
      "outputs": [
        {
          "output_type": "stream",
          "name": "stdout",
          "text": [
            "[nltk_data] Downloading package stopwords to /root/nltk_data...\n",
            "[nltk_data]   Package stopwords is already up-to-date!\n"
          ]
        },
        {
          "output_type": "execute_result",
          "data": {
            "text/plain": [
              "True"
            ]
          },
          "metadata": {},
          "execution_count": 73
        }
      ]
    },
    {
      "cell_type": "code",
      "metadata": {
        "id": "gLTfE96DvUzu"
      },
      "source": [
        "stopwords_list = stopwords.words('english')\n",
        "def removeStopwords(sentence):  \n",
        "  words = sentence.split(\" \")\n",
        "  filtered_sentence = [word for word in words if not word in stopwords_list]\n",
        "  ans = ' '.join([ i for i in filtered_sentence if len(i) >= 2])\n",
        "\n",
        "  return ans"
      ],
      "execution_count": null,
      "outputs": []
    },
    {
      "cell_type": "code",
      "metadata": {
        "colab": {
          "base_uri": "https://localhost:8080/"
        },
        "id": "0NtlqyH5x7aI",
        "outputId": "2871d6d0-dee7-4bba-94ba-f12e9e8e5c26"
      },
      "source": [
        "pre_final = Cleaning(text)\n",
        "print(pre_final)\n",
        "pre_final = removeStopwords(pre_final)\n",
        "print(pre_final)"
      ],
      "execution_count": null,
      "outputs": [
        {
          "output_type": "stream",
          "name": "stdout",
          "text": [
            " j walk h i read the article he essentially said that instead of trying to fit a woman into this role they should write an original character better than james bond for a woman \n",
            "walk read article essentially said instead trying fit woman role write original character better james bond woman\n"
          ]
        }
      ]
    },
    {
      "cell_type": "code",
      "metadata": {
        "colab": {
          "base_uri": "https://localhost:8080/"
        },
        "id": "e5E9jRoX_tyF",
        "outputId": "c9ee55ab-3254-4e73-f2cf-da0b9187f0ad"
      },
      "source": [
        "pre_final2 = Cleaning(text2)\n",
        "print(pre_final2)\n",
        "pre_final2 = removeStopwords(pre_final2)\n",
        "print(pre_final2)"
      ],
      "execution_count": null,
      "outputs": [
        {
          "output_type": "stream",
          "name": "stdout",
          "text": [
            "joe lara the star of the famous adventure movie tarzan the epic adventures has passed away in a plane crash the year old was with his wife\n",
            "joe lara star famous adventure movie tarzan epic adventures passed away plane crash year old wife\n"
          ]
        }
      ]
    },
    {
      "cell_type": "code",
      "metadata": {
        "id": "sR5af-AAvpTp"
      },
      "source": [
        "import pandas as pd\n",
        "\n",
        "# This file has the information on every common word and its embeddings.\n",
        "save_data = open(r\"drive/MyDrive/Dataset/Models/word_embeddings_model1.pickle\", \"rb\")\n",
        "word_embed = pickle.load(save_data)\n",
        "save_data.close()"
      ],
      "execution_count": null,
      "outputs": []
    },
    {
      "cell_type": "code",
      "metadata": {
        "colab": {
          "base_uri": "https://localhost:8080/"
        },
        "id": "V-PVN2xH2DGh",
        "outputId": "38c284a6-ccab-422a-ffd0-fd67d5f71ceb"
      },
      "source": [
        "word_embed['the']"
      ],
      "execution_count": null,
      "outputs": [
        {
          "output_type": "stream",
          "name": "stderr",
          "text": [
            "/usr/local/lib/python3.7/dist-packages/ipykernel_launcher.py:1: DeprecationWarning: Call to deprecated `__getitem__` (Method will be removed in 4.0.0, use self.wv.__getitem__() instead).\n",
            "  \"\"\"Entry point for launching an IPython kernel.\n"
          ]
        },
        {
          "output_type": "execute_result",
          "data": {
            "text/plain": [
              "array([ 0.08972839, -0.4026127 , -0.2109241 , -0.18708473, -0.21843027,\n",
              "       -0.22599791,  0.33714572, -0.25546554,  0.3098281 ,  0.06694622,\n",
              "       -0.6033739 ,  0.34739166,  0.21200591,  0.2837941 , -0.2552652 ,\n",
              "        0.278658  ,  0.00732607,  0.5215177 ,  0.23229359, -0.01886191,\n",
              "        0.11897848, -0.07872345,  0.31105882, -0.27565423,  0.6222356 ,\n",
              "        0.39243025,  0.6641766 ,  0.7036882 , -0.17577358, -0.19602324,\n",
              "        0.42333782, -0.2801832 , -0.04348856, -0.37758586,  0.4080701 ,\n",
              "       -0.05026684,  0.253955  ,  0.20047438, -0.5026844 , -0.00139159,\n",
              "       -0.23464508,  0.16398458,  0.37383717, -0.6876745 ,  0.07311639,\n",
              "       -0.14231576,  0.15746595, -0.12399933, -0.06738635, -0.05721248],\n",
              "      dtype=float32)"
            ]
          },
          "metadata": {},
          "execution_count": 113
        }
      ]
    },
    {
      "cell_type": "code",
      "metadata": {
        "colab": {
          "base_uri": "https://localhost:8080/"
        },
        "id": "nhwF50RV4Ifb",
        "outputId": "219872f8-94b8-47ec-b331-2d7200d30c89"
      },
      "source": [
        "# Creating text vectors\n",
        "import numpy as np\n",
        "\n",
        "count = 0\n",
        "document_embeddings = np.zeros(50, dtype=float)\n",
        "try:\n",
        "  for word in pre_final.split(\" \"):\n",
        "    array = np.asarray(word_embed[word], dtype=float)\n",
        "    document_embeddings = np.add(document_embeddings, array, out=document_embeddings, casting=\"unsafe\")\n",
        "except:\n",
        "  count = count + 1\n",
        "\n",
        "print(\"Number of words in text 1:\", len(pre_final.split(\" \")))\n",
        "print(\"Unrecognizable word count in text 1:\", count)"
      ],
      "execution_count": null,
      "outputs": [
        {
          "output_type": "stream",
          "name": "stdout",
          "text": [
            "Number of words in text 1: 17\n",
            "Unrecognizable word count in text 1: 0\n"
          ]
        },
        {
          "output_type": "stream",
          "name": "stderr",
          "text": [
            "/usr/local/lib/python3.7/dist-packages/ipykernel_launcher.py:8: DeprecationWarning: Call to deprecated `__getitem__` (Method will be removed in 4.0.0, use self.wv.__getitem__() instead).\n",
            "  \n"
          ]
        }
      ]
    },
    {
      "cell_type": "code",
      "metadata": {
        "colab": {
          "base_uri": "https://localhost:8080/"
        },
        "id": "lVo7n3ul_292",
        "outputId": "f0e5d381-75ed-4196-f394-65cbd82f2973"
      },
      "source": [
        "count2 = 0\n",
        "document_embeddings2 = np.zeros(50, dtype=float)\n",
        "try:\n",
        "  for word in pre_final2.split(\" \"):\n",
        "    array = np.asarray(word_embed[word], dtype=float)\n",
        "    document_embeddings2 = np.add(document_embeddings2, array, out=document_embeddings2, casting=\"unsafe\")\n",
        "except:\n",
        "  count2 = count2 + 1\n",
        "\n",
        "print(\"Number of words in text 1:\", len(pre_final2.split(\" \")))\n",
        "print(\"Unrecognizable word count in text 1:\", count2)"
      ],
      "execution_count": null,
      "outputs": [
        {
          "output_type": "stream",
          "name": "stdout",
          "text": [
            "Number of words in text 1: 16\n",
            "Unrecognizable word count in text 1: 0\n"
          ]
        },
        {
          "output_type": "stream",
          "name": "stderr",
          "text": [
            "/usr/local/lib/python3.7/dist-packages/ipykernel_launcher.py:5: DeprecationWarning: Call to deprecated `__getitem__` (Method will be removed in 4.0.0, use self.wv.__getitem__() instead).\n",
            "  \"\"\"\n"
          ]
        }
      ]
    },
    {
      "cell_type": "code",
      "metadata": {
        "colab": {
          "base_uri": "https://localhost:8080/"
        },
        "id": "LNryh6GG7Ufy",
        "outputId": "6accc340-c84e-4509-f0b6-c2a454f47163"
      },
      "source": [
        "document_embeddings"
      ],
      "execution_count": null,
      "outputs": [
        {
          "output_type": "execute_result",
          "data": {
            "text/plain": [
              "array([  1.32788581, -15.26545109,   4.74076638,   0.92330539,\n",
              "         0.24664982,  -1.11875891,  12.61647896,  -4.4750995 ,\n",
              "         7.48472095,   0.72582556, -12.71821474,   8.29372767,\n",
              "         7.60167133,  14.38859514,  -6.06242028,   2.13325731,\n",
              "        -4.70008556,  16.03036302,   2.91728007,  -1.31353339,\n",
              "         0.74579782,   3.89921119,  10.60212768,  -8.58539575,\n",
              "         5.65275766,   1.92925315,  19.4137764 ,  13.47097754,\n",
              "        -0.35150574,   0.23039759,   5.1079847 ,  -0.72054015,\n",
              "        -0.52674526,   2.10636102,   6.06609742,  -5.05324206,\n",
              "         2.80899958,   7.8283454 , -10.64413992,   4.02219872,\n",
              "        -9.35408118,  10.04498111,   7.65632325,  -6.87888258,\n",
              "         1.96061099,  -2.14515963,   3.14180244,  -0.75051255,\n",
              "        -4.1844725 ,  -3.56054363])"
            ]
          },
          "metadata": {},
          "execution_count": 116
        }
      ]
    },
    {
      "cell_type": "code",
      "metadata": {
        "colab": {
          "base_uri": "https://localhost:8080/"
        },
        "id": "Azp0KV4Fccz5",
        "outputId": "cdeaddf6-12fa-45fd-d8e8-8a86b3c2a782"
      },
      "source": [
        "document_embedding = np.concatenate([document_embeddings, document_embeddings])\n",
        "document_embedding"
      ],
      "execution_count": null,
      "outputs": [
        {
          "output_type": "execute_result",
          "data": {
            "text/plain": [
              "array([  1.32788581, -15.26545109,   4.74076638,   0.92330539,\n",
              "         0.24664982,  -1.11875891,  12.61647896,  -4.4750995 ,\n",
              "         7.48472095,   0.72582556, -12.71821474,   8.29372767,\n",
              "         7.60167133,  14.38859514,  -6.06242028,   2.13325731,\n",
              "        -4.70008556,  16.03036302,   2.91728007,  -1.31353339,\n",
              "         0.74579782,   3.89921119,  10.60212768,  -8.58539575,\n",
              "         5.65275766,   1.92925315,  19.4137764 ,  13.47097754,\n",
              "        -0.35150574,   0.23039759,   5.1079847 ,  -0.72054015,\n",
              "        -0.52674526,   2.10636102,   6.06609742,  -5.05324206,\n",
              "         2.80899958,   7.8283454 , -10.64413992,   4.02219872,\n",
              "        -9.35408118,  10.04498111,   7.65632325,  -6.87888258,\n",
              "         1.96061099,  -2.14515963,   3.14180244,  -0.75051255,\n",
              "        -4.1844725 ,  -3.56054363,   1.32788581, -15.26545109,\n",
              "         4.74076638,   0.92330539,   0.24664982,  -1.11875891,\n",
              "        12.61647896,  -4.4750995 ,   7.48472095,   0.72582556,\n",
              "       -12.71821474,   8.29372767,   7.60167133,  14.38859514,\n",
              "        -6.06242028,   2.13325731,  -4.70008556,  16.03036302,\n",
              "         2.91728007,  -1.31353339,   0.74579782,   3.89921119,\n",
              "        10.60212768,  -8.58539575,   5.65275766,   1.92925315,\n",
              "        19.4137764 ,  13.47097754,  -0.35150574,   0.23039759,\n",
              "         5.1079847 ,  -0.72054015,  -0.52674526,   2.10636102,\n",
              "         6.06609742,  -5.05324206,   2.80899958,   7.8283454 ,\n",
              "       -10.64413992,   4.02219872,  -9.35408118,  10.04498111,\n",
              "         7.65632325,  -6.87888258,   1.96061099,  -2.14515963,\n",
              "         3.14180244,  -0.75051255,  -4.1844725 ,  -3.56054363])"
            ]
          },
          "metadata": {},
          "execution_count": 117
        }
      ]
    },
    {
      "cell_type": "code",
      "metadata": {
        "colab": {
          "base_uri": "https://localhost:8080/"
        },
        "id": "ahxtPvqZAAdk",
        "outputId": "3203ab15-72a2-4fc2-b14a-6e6231540507"
      },
      "source": [
        "document_embeddings2"
      ],
      "execution_count": null,
      "outputs": [
        {
          "output_type": "execute_result",
          "data": {
            "text/plain": [
              "array([  0.46074164,  -9.81032007,   2.35423303,   1.36082375,\n",
              "        -1.04345066,  -6.49139996,   7.5316624 ,  -9.06855639,\n",
              "        10.42076805,  -8.60723971, -10.91328533,   4.53859866,\n",
              "         6.80766531,   4.01298152,   1.35811688,   3.10402097,\n",
              "         2.13877971,  14.61606732,   1.1612465 ,  -1.67852069,\n",
              "         3.43584716,   4.13053974,   5.53641322,  -5.95889189,\n",
              "         5.14441624,   0.36780485,  17.29011382,  14.95904548,\n",
              "         4.32079427,   1.84643187,   3.62155507,  -4.48962826,\n",
              "        -1.31869532,  -4.7503546 ,   2.1698935 ,  -2.26030859,\n",
              "         7.63799253,   5.04382198,  -5.02412524,  -1.35123321,\n",
              "        -7.74225397,   0.96739344,   1.45822214, -12.01656985,\n",
              "         5.4329111 ,  -3.49751539,   1.38893725,   2.77415944,\n",
              "         3.17049427,  -5.48010895])"
            ]
          },
          "metadata": {},
          "execution_count": 118
        }
      ]
    },
    {
      "cell_type": "code",
      "metadata": {
        "colab": {
          "base_uri": "https://localhost:8080/"
        },
        "id": "UtmZaQSoc3wj",
        "outputId": "a1e5ccc3-3113-4dff-cac2-41ea7141811f"
      },
      "source": [
        "document_embedding2 = np.concatenate([document_embeddings2, document_embeddings2])\n",
        "document_embedding2"
      ],
      "execution_count": null,
      "outputs": [
        {
          "output_type": "execute_result",
          "data": {
            "text/plain": [
              "array([  0.46074164,  -9.81032007,   2.35423303,   1.36082375,\n",
              "        -1.04345066,  -6.49139996,   7.5316624 ,  -9.06855639,\n",
              "        10.42076805,  -8.60723971, -10.91328533,   4.53859866,\n",
              "         6.80766531,   4.01298152,   1.35811688,   3.10402097,\n",
              "         2.13877971,  14.61606732,   1.1612465 ,  -1.67852069,\n",
              "         3.43584716,   4.13053974,   5.53641322,  -5.95889189,\n",
              "         5.14441624,   0.36780485,  17.29011382,  14.95904548,\n",
              "         4.32079427,   1.84643187,   3.62155507,  -4.48962826,\n",
              "        -1.31869532,  -4.7503546 ,   2.1698935 ,  -2.26030859,\n",
              "         7.63799253,   5.04382198,  -5.02412524,  -1.35123321,\n",
              "        -7.74225397,   0.96739344,   1.45822214, -12.01656985,\n",
              "         5.4329111 ,  -3.49751539,   1.38893725,   2.77415944,\n",
              "         3.17049427,  -5.48010895,   0.46074164,  -9.81032007,\n",
              "         2.35423303,   1.36082375,  -1.04345066,  -6.49139996,\n",
              "         7.5316624 ,  -9.06855639,  10.42076805,  -8.60723971,\n",
              "       -10.91328533,   4.53859866,   6.80766531,   4.01298152,\n",
              "         1.35811688,   3.10402097,   2.13877971,  14.61606732,\n",
              "         1.1612465 ,  -1.67852069,   3.43584716,   4.13053974,\n",
              "         5.53641322,  -5.95889189,   5.14441624,   0.36780485,\n",
              "        17.29011382,  14.95904548,   4.32079427,   1.84643187,\n",
              "         3.62155507,  -4.48962826,  -1.31869532,  -4.7503546 ,\n",
              "         2.1698935 ,  -2.26030859,   7.63799253,   5.04382198,\n",
              "        -5.02412524,  -1.35123321,  -7.74225397,   0.96739344,\n",
              "         1.45822214, -12.01656985,   5.4329111 ,  -3.49751539,\n",
              "         1.38893725,   2.77415944,   3.17049427,  -5.48010895])"
            ]
          },
          "metadata": {},
          "execution_count": 119
        }
      ]
    },
    {
      "cell_type": "code",
      "metadata": {
        "id": "bPPhXfzZ-y7N"
      },
      "source": [
        "# We will go for cosine_similarity\n",
        "def cosine_similarity(A, B):\n",
        "    \"\"\"\n",
        "    Input:\n",
        "        A: a numpy array which corresponds to a word vector\n",
        "        B: A numpy array which corresponds to a word vector\n",
        "    Output:\n",
        "        cos: numerical number representing the cosine similarity between A and B.\n",
        "    \"\"\"\n",
        "    dot = np.dot(A, B)\n",
        "    norma = np.sqrt(np.dot(A, A))\n",
        "    normb = np.sqrt(np.dot(B, B))\n",
        "    cos = dot / (norma * normb)\n",
        "\n",
        "    return cos"
      ],
      "execution_count": null,
      "outputs": []
    },
    {
      "cell_type": "code",
      "metadata": {
        "colab": {
          "base_uri": "https://localhost:8080/"
        },
        "id": "-iAFtph1AFaV",
        "outputId": "16195ef2-9097-4e3e-bf61-d6ef032431bd"
      },
      "source": [
        "similarity = cosine_similarity(document_embeddings, document_embeddings2)\n",
        "print(similarity)"
      ],
      "execution_count": null,
      "outputs": [
        {
          "output_type": "stream",
          "name": "stdout",
          "text": [
            "0.8145993975669695\n"
          ]
        }
      ]
    },
    {
      "cell_type": "code",
      "metadata": {
        "colab": {
          "base_uri": "https://localhost:8080/"
        },
        "id": "kMlW7FOqAHRx",
        "outputId": "05023835-372c-48ff-ab2d-3c557003afbc"
      },
      "source": [
        "similarity_new = cosine_similarity(document_embedding, document_embedding2)\n",
        "print(similarity_new)"
      ],
      "execution_count": null,
      "outputs": [
        {
          "output_type": "stream",
          "name": "stdout",
          "text": [
            "0.8145993975669695\n"
          ]
        }
      ]
    },
    {
      "cell_type": "code",
      "metadata": {
        "id": "g1c_aU0Igka6"
      },
      "source": [
        ""
      ],
      "execution_count": null,
      "outputs": []
    }
  ]
}