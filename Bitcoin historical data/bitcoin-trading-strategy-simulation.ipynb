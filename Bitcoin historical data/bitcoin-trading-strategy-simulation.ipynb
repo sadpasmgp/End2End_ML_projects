{
 "cells": [
  {
   "cell_type": "markdown",
   "execution_count": null,
   "metadata": {
    "_cell_guid": "60c86b95-26ff-4601-84eb-6aa537384ab6",
    "_execution_state": "idle",
    "_uuid": "a5c5c78965bdb6036ef4d0c130a0e4a51ee63c65",
    "collapsed": false
   },
   "outputs": [],
   "source": [
    "Welcome All, below I intend to demonstrate the simulated implementation of one of the most famous trading strategies on the open bitcoin dataset kindly shared here. I will flag up some of the many gotchas in this type of simulation. The strategy is attributed to Richard Dennis and his team of \"turtle\" traders, check out the book \"Way of the Turtle\" for more details.\n",
    "\n",
    "Note I would strongly recommend that you not actually trade this, this is purely a simple example to highlight various tricks and pitfalls with the data. This kernel does not consitute trading or financial advice in anyway. Bitcoin is a particularly volatile market with some unique challenges and not the place to start in my limited opinion if you are interested in algorithmic trading.\n",
    "\n",
    "This is a work in progress, please comment if you'd like to see more and I will extend it for the execution simulation"
   ]
  },
  {
   "cell_type": "code",
   "execution_count": 1,
   "execution_state": "idle",
   "metadata": {
    "_active": true,
    "_cell_guid": "495a80b5-8c7e-3ea5-dc76-898938d0a50f",
    "_execution_state": "idle",
    "_uuid": "bdc76654c543e014addc9ca3bf8d86416b88d501"
   },
   "outputs": [
    {
     "name": "stdout",
     "output_type": "stream",
     "text": [
      "Data listing...\n",
      "['bitstampUSD_1-min_data_2012-01-01_to_2017-05-31.csv', 'btceUSD_1-min_data_2012-01-01_to_2017-05-31.csv', 'btcnCNY_1-min_data_2012-01-01_to_2017-05-31.csv', 'coinbaseUSD_1-min_data_2014-12-01_to_2017-05-31.csv', 'coincheckJPY_1-min_data_2014-10-31_to_2017-05-31.csv', 'krakenEUR_1-min_data_2014-01-08_to_2017-05-31.csv', 'krakenUSD_1-min_data_2014-01-07_to_2017-05-31.csv']\n",
      "Using bitstampUSD_1-min_data...\n",
      "Total null open prices: 1190473\n"
     ]
    }
   ],
   "source": [
    "\n",
    "import numpy as np \n",
    "import pandas as pd \n",
    "import datetime\n",
    "import os\n",
    "\n",
    "#define a conversion function for the native timestamps in the csv file\n",
    "def dateparse (time_in_secs):    \n",
    "    return datetime.datetime.fromtimestamp(float(time_in_secs))\n",
    "\n",
    "print('Data listing...')\n",
    "print(os.listdir('../input/bitcoin-historical-data'))\n",
    "\n",
    "# read in the data and apply our conversion function, this spits out a DataFrame with the DateTimeIndex already in place\n",
    "print('Using bitstampUSD_1-min_data...')\n",
    "data = pd.read_csv('../input/bitcoin-historical-data/bitstampUSD_1-min_data_2012-01-01_to_2017-05-31.csv', parse_dates=True, date_parser=dateparse, index_col=[0])\n",
    "\n",
    "print('Total null open prices: %s' % data['Open'].isnull().sum())"
   ]
  },
  {
   "cell_type": "code",
   "execution_count": 2,
   "execution_state": "idle",
   "metadata": {
    "_active": false,
    "_cell_guid": "79ea009d-9858-7170-047c-3f1c34203f4b",
    "_uuid": "f4ee0b09f4aae0f0cb1bd55056c5f52be6838cf6"
   },
   "outputs": [
    {
     "name": "stdout",
     "output_type": "stream",
     "text": [
      "                        Open     High      Low    Close  Volume_(BTC)  \\\n",
      "Timestamp                                                               \n",
      "2011-12-31 07:52:00     4.39     4.39     4.39     4.39      0.455581   \n",
      "2011-12-31 07:53:00     4.39     4.39     4.39     4.39      0.000000   \n",
      "2011-12-31 07:54:00     4.39     4.39     4.39     4.39      0.000000   \n",
      "2011-12-31 07:55:00     4.39     4.39     4.39     4.39      0.000000   \n",
      "2011-12-31 07:56:00     4.39     4.39     4.39     4.39      0.000000   \n",
      "2011-12-31 07:57:00     4.39     4.39     4.39     4.39      0.000000   \n",
      "2011-12-31 07:58:00     4.39     4.39     4.39     4.39      0.000000   \n",
      "2011-12-31 07:59:00     4.39     4.39     4.39     4.39      0.000000   \n",
      "2011-12-31 08:00:00     4.39     4.39     4.39     4.39      0.000000   \n",
      "2011-12-31 08:01:00     4.39     4.39     4.39     4.39      0.000000   \n",
      "2011-12-31 08:02:00     4.39     4.39     4.39     4.39      0.000000   \n",
      "2011-12-31 08:03:00     4.39     4.39     4.39     4.39      0.000000   \n",
      "2011-12-31 08:04:00     4.39     4.39     4.39     4.39      0.000000   \n",
      "2011-12-31 08:05:00     4.39     4.39     4.39     4.39      0.000000   \n",
      "2011-12-31 08:06:00     4.39     4.39     4.39     4.39      0.000000   \n",
      "2011-12-31 08:07:00     4.39     4.39     4.39     4.39      0.000000   \n",
      "2011-12-31 08:08:00     4.39     4.39     4.39     4.39      0.000000   \n",
      "2011-12-31 08:09:00     4.39     4.39     4.39     4.39      0.000000   \n",
      "2011-12-31 08:10:00     4.39     4.39     4.39     4.39      0.000000   \n",
      "2011-12-31 08:11:00     4.39     4.39     4.39     4.39      0.000000   \n",
      "2011-12-31 08:12:00     4.39     4.39     4.39     4.39      0.000000   \n",
      "2011-12-31 08:13:00     4.39     4.39     4.39     4.39      0.000000   \n",
      "2011-12-31 08:14:00     4.39     4.39     4.39     4.39      0.000000   \n",
      "2011-12-31 08:15:00     4.39     4.39     4.39     4.39      0.000000   \n",
      "2011-12-31 08:16:00     4.39     4.39     4.39     4.39      0.000000   \n",
      "2011-12-31 08:17:00     4.39     4.39     4.39     4.39      0.000000   \n",
      "2011-12-31 08:18:00     4.39     4.39     4.39     4.39      0.000000   \n",
      "2011-12-31 08:19:00     4.39     4.39     4.39     4.39      0.000000   \n",
      "2011-12-31 08:20:00     4.39     4.39     4.39     4.39      0.000000   \n",
      "2011-12-31 08:21:00     4.39     4.39     4.39     4.39      0.000000   \n",
      "...                      ...      ...      ...      ...           ...   \n",
      "2017-05-30 23:31:00  2196.97  2196.99  2196.97  2196.99      1.729902   \n",
      "2017-05-30 23:32:00  2196.98  2196.99  2195.04  2196.99      1.519042   \n",
      "2017-05-30 23:33:00  2195.04  2197.00  2190.36  2192.51     11.552186   \n",
      "2017-05-30 23:34:00  2196.99  2197.00  2190.84  2196.00      5.860529   \n",
      "2017-05-30 23:35:00  2190.84  2196.00  2190.66  2190.77      3.893687   \n",
      "2017-05-30 23:36:00  2190.77  2196.00  2190.36  2190.36      6.971341   \n",
      "2017-05-30 23:37:00  2190.36  2195.99  2180.00  2180.00     35.220714   \n",
      "2017-05-30 23:38:00  2180.00  2180.00  2173.12  2179.00     23.933677   \n",
      "2017-05-30 23:39:00  2176.93  2176.93  2170.00  2170.00     20.558635   \n",
      "2017-05-30 23:40:00  2173.72  2174.99  2173.72  2174.99      1.596512   \n",
      "2017-05-30 23:41:00  2170.00  2170.00  2169.00  2169.00      3.405863   \n",
      "2017-05-30 23:42:00  2169.00  2169.99  2167.01  2169.98      8.713753   \n",
      "2017-05-30 23:43:00  2169.98  2173.00  2167.05  2167.05     28.606172   \n",
      "2017-05-30 23:44:00  2171.00  2172.98  2170.00  2170.00      5.933437   \n",
      "2017-05-30 23:45:00  2172.97  2172.98  2172.97  2172.97      2.410254   \n",
      "2017-05-30 23:46:00  2172.10  2172.97  2172.10  2172.95      1.345963   \n",
      "2017-05-30 23:47:00  2172.95  2172.98  2172.00  2172.00      9.566036   \n",
      "2017-05-30 23:48:00  2169.87  2172.00  2167.65  2172.00      7.042943   \n",
      "2017-05-30 23:49:00  2172.00  2172.00  2167.58  2169.38      2.488728   \n",
      "2017-05-30 23:50:00  2169.40  2173.00  2167.58  2171.39     23.310123   \n",
      "2017-05-30 23:51:00  2171.38  2173.00  2171.38  2173.00     41.201953   \n",
      "2017-05-30 23:52:00  2173.00  2189.62  2173.00  2189.62     26.256615   \n",
      "2017-05-30 23:53:00  2190.99  2190.99  2181.11  2189.41      2.028020   \n",
      "2017-05-30 23:54:00  2189.60  2190.96  2189.41  2190.96      1.389392   \n",
      "2017-05-30 23:55:00  2183.31  2192.01  2183.26  2183.46      5.639300   \n",
      "2017-05-30 23:56:00  2190.49  2190.49  2181.37  2181.37      1.700166   \n",
      "2017-05-30 23:57:00  2190.50  2197.52  2186.17  2195.63      6.561029   \n",
      "2017-05-30 23:58:00  2195.62  2197.52  2191.52  2191.83     15.662847   \n",
      "2017-05-30 23:59:00  2195.82  2216.00  2195.82  2203.51     27.090309   \n",
      "2017-05-31 00:00:00  2201.70  2209.81  2196.98  2208.33      9.961835   \n",
      "\n",
      "                     Volume_(Currency)  Weighted_Price  \n",
      "Timestamp                                               \n",
      "2011-12-31 07:52:00           2.000000        4.390000  \n",
      "2011-12-31 07:53:00           0.000000        0.000000  \n",
      "2011-12-31 07:54:00           0.000000        0.000000  \n",
      "2011-12-31 07:55:00           0.000000        0.000000  \n",
      "2011-12-31 07:56:00           0.000000        0.000000  \n",
      "2011-12-31 07:57:00           0.000000        0.000000  \n",
      "2011-12-31 07:58:00           0.000000        0.000000  \n",
      "2011-12-31 07:59:00           0.000000        0.000000  \n",
      "2011-12-31 08:00:00           0.000000        0.000000  \n",
      "2011-12-31 08:01:00           0.000000        0.000000  \n",
      "2011-12-31 08:02:00           0.000000        0.000000  \n",
      "2011-12-31 08:03:00           0.000000        0.000000  \n",
      "2011-12-31 08:04:00           0.000000        0.000000  \n",
      "2011-12-31 08:05:00           0.000000        0.000000  \n",
      "2011-12-31 08:06:00           0.000000        0.000000  \n",
      "2011-12-31 08:07:00           0.000000        0.000000  \n",
      "2011-12-31 08:08:00           0.000000        0.000000  \n",
      "2011-12-31 08:09:00           0.000000        0.000000  \n",
      "2011-12-31 08:10:00           0.000000        0.000000  \n",
      "2011-12-31 08:11:00           0.000000        0.000000  \n",
      "2011-12-31 08:12:00           0.000000        0.000000  \n",
      "2011-12-31 08:13:00           0.000000        0.000000  \n",
      "2011-12-31 08:14:00           0.000000        0.000000  \n",
      "2011-12-31 08:15:00           0.000000        0.000000  \n",
      "2011-12-31 08:16:00           0.000000        0.000000  \n",
      "2011-12-31 08:17:00           0.000000        0.000000  \n",
      "2011-12-31 08:18:00           0.000000        0.000000  \n",
      "2011-12-31 08:19:00           0.000000        0.000000  \n",
      "2011-12-31 08:20:00           0.000000        0.000000  \n",
      "2011-12-31 08:21:00           0.000000        0.000000  \n",
      "...                                ...             ...  \n",
      "2017-05-30 23:31:00        3800.577430     2196.989944  \n",
      "2017-05-30 23:32:00        3337.062611     2196.820504  \n",
      "2017-05-30 23:33:00       25327.029970     2192.401505  \n",
      "2017-05-30 23:34:00       12873.997943     2196.729772  \n",
      "2017-05-30 23:35:00        8549.158828     2195.645914  \n",
      "2017-05-30 23:36:00       15275.098118     2191.127726  \n",
      "2017-05-30 23:37:00       76931.543319     2184.269824  \n",
      "2017-05-30 23:38:00       52136.851772     2178.388667  \n",
      "2017-05-30 23:39:00       44687.255645     2173.648960  \n",
      "2017-05-30 23:40:00        3470.546065     2173.830608  \n",
      "2017-05-30 23:41:00        7390.520438     2169.940866  \n",
      "2017-05-30 23:42:00       18890.661674     2167.913412  \n",
      "2017-05-30 23:43:00       62080.165885     2170.166875  \n",
      "2017-05-30 23:44:00       12881.463509     2170.995076  \n",
      "2017-05-30 23:45:00        5237.426304     2172.976826  \n",
      "2017-05-30 23:46:00        2924.692736     2172.937370  \n",
      "2017-05-30 23:47:00       20778.796784     2172.142809  \n",
      "2017-05-30 23:48:00       15297.131039     2171.979927  \n",
      "2017-05-30 23:49:00        5402.432631     2170.760726  \n",
      "2017-05-30 23:50:00       50628.496445     2171.953196  \n",
      "2017-05-30 23:51:00       89529.468788     2172.942368  \n",
      "2017-05-30 23:52:00       57180.241163     2177.746088  \n",
      "2017-05-30 23:53:00        4439.608250     2189.134515  \n",
      "2017-05-30 23:54:00        3043.927612     2190.834131  \n",
      "2017-05-30 23:55:00       12321.861988     2184.998491  \n",
      "2017-05-30 23:56:00        3723.784755     2190.247337  \n",
      "2017-05-30 23:57:00       14402.811961     2195.206304  \n",
      "2017-05-30 23:58:00       34361.023647     2193.791712  \n",
      "2017-05-30 23:59:00       59913.492565     2211.620837  \n",
      "2017-05-31 00:00:00       21972.308955     2205.648801  \n",
      "\n",
      "[2841377 rows x 7 columns]\n"
     ]
    }
   ],
   "source": [
    "# First thing is to fix the data for bars/candles where there are no trades. \n",
    "# Volume/trades are a single event so fill na's with zeroes for relevant fields...\n",
    "data['Volume_(BTC)'].fillna(value=0, inplace=True)\n",
    "data['Volume_(Currency)'].fillna(value=0, inplace=True)\n",
    "data['Weighted_Price'].fillna(value=0, inplace=True)\n",
    "\n",
    "# next we need to fix the OHLC (open high low close) data which is a continuous timeseries so\n",
    "# lets fill forwards those values...\n",
    "data['Open'].fillna(method='ffill', inplace=True)\n",
    "data['High'].fillna(method='ffill', inplace=True)\n",
    "data['Low'].fillna(method='ffill', inplace=True)\n",
    "data['Close'].fillna(method='ffill', inplace=True)\n",
    "\n",
    "# check how we are looking now, should be nice and clean...\n",
    "print(data)"
   ]
  },
  {
   "cell_type": "code",
   "execution_count": 3,
   "execution_state": "idle",
   "metadata": {
    "_active": false,
    "_cell_guid": "58e48fd8-1489-6f0e-f2dd-ba8d0272f98b",
    "_uuid": "b8ed6ab4f9f4379a0642fbf9f6c3eb012540de24"
   },
   "outputs": [
    {
     "data": {
      "text/plain": [
       "[<matplotlib.lines.Line2D at 0x7f8eb5a2f048>]"
      ]
     },
     "execution_count": 3,
     "metadata": {},
     "output_type": "execute_result"
    },
    {
     "data": {
      "image/png": "[encoded data removed]",
      "text/plain": [
       "<matplotlib.figure.Figure at 0x7f8eccb3fa90>"
      ]
     },
     "metadata": {},
     "output_type": "display_data"
    }
   ],
   "source": [
    "# The first thing we need are our trading signals. The Turtle strategy was based on daily data and\n",
    "# they used to enter breakouts (new higher highs or new lower lows) in the 22-60 day range roughly.\n",
    "# We are dealing with minute bars here so a 22 minute new high isn't much to get excited about. Lets\n",
    "# pick an equivalent to 60 days then. They also only considered Close price so lets do the same...\n",
    "\n",
    "signal_lookback = 60 * 24 * 60 # days * hours * minutes\n",
    "\n",
    "# here's our signal columns\n",
    "data['Buy'] = np.zeros(len(data))\n",
    "data['Sell'] = np.zeros(len(data))\n",
    "\n",
    "# this is our 'working out', you could collapse these into the .loc call later on and save memory \n",
    "# but I've left them in for debug purposes, makes it easier to see what is going on\n",
    "data['RollingMax'] = data['Close'].shift(1).rolling(signal_lookback, min_periods=signal_lookback).max()\n",
    "data['RollingMin'] = data['Close'].shift(1).rolling(signal_lookback, min_periods=signal_lookback).min()\n",
    "data.loc[data['RollingMax'] < data['Close'], 'Buy'] = 1\n",
    "data.loc[data['RollingMin'] > data['Close'], 'Sell'] = -1\n",
    "\n",
    "# lets now take a look and see if its doing something sensible\n",
    "import matplotlib\n",
    "import matplotlib.pyplot as plt\n",
    "\n",
    "fig,ax1 = plt.subplots(1,1)\n",
    "ax1.plot(data['Close'])\n",
    "y = ax1.get_ylim()\n",
    "ax1.set_ylim(y[0] - (y[1]-y[0])*0.4, y[1])\n",
    "\n",
    "ax2 = ax1.twinx()\n",
    "ax2.set_position(matplotlib.transforms.Bbox([[0.125,0.1],[0.9,0.32]]))\n",
    "ax2.plot(data['Buy'], color='#77dd77')\n",
    "ax2.plot(data['Sell'], color='#dd4444')\n",
    "\n"
   ]
  }
 ],
 "metadata": {
  "kernelspec": {
   "display_name": "Python 3",
   "language": "python",
   "name": "python3"
  },
  "language_info": {
   "codemirror_mode": {
    "name": "ipython",
    "version": 3
   },
   "file_extension": ".py",
   "mimetype": "text/x-python",
   "name": "python",
   "nbconvert_exporter": "python",
   "pygments_lexer": "ipython3",
   "version": "3.6.1"
  }
 },
 "nbformat": 4,
 "nbformat_minor": 0
}
