{
 "cells": [
  {
   "cell_type": "code",
   "execution_count": 3,
   "id": "60552d91",
   "metadata": {
    "execution": {
     "iopub.execute_input": "2022-02-20T11:22:21.369950Z",
     "iopub.status.busy": "2022-02-20T11:22:21.369195Z",
     "iopub.status.idle": "2022-02-20T11:22:22.662660Z",
     "shell.execute_reply": "2022-02-20T11:22:22.661537Z",
     "shell.execute_reply.started": "2022-02-20T11:21:41.282259Z"
    },
    "papermill": {
     "duration": 1.338411,
     "end_time": "2022-02-20T11:22:22.662852",
     "exception": false,
     "start_time": "2022-02-20T11:22:21.324441",
     "status": "completed"
    },
    "tags": []
   },
   "outputs": [],
   "source": [
    "import os\n",
    "import numpy as np\n",
    "import pandas as pd\n",
    "import matplotlib.pyplot as plt\n",
    "import seaborn as sns\n",
    "import warnings\n",
    "warnings.filterwarnings(\"ignore\")\n",
    "\n",
    "from sklearn.model_selection import train_test_split\n",
    "from sklearn.tree import DecisionTreeClassifier\n",
    "from sklearn.ensemble import RandomForestClassifier\n",
    "from sklearn.metrics import plot_confusion_matrix, classification_report"
   ]
  },
  {
   "cell_type": "code",
   "execution_count": 4,
   "id": "10929534",
   "metadata": {
    "execution": {
     "iopub.execute_input": "2022-02-20T11:22:22.717784Z",
     "iopub.status.busy": "2022-02-20T11:22:22.717143Z",
     "iopub.status.idle": "2022-02-20T11:22:23.703308Z",
     "shell.execute_reply": "2022-02-20T11:22:23.703805Z",
     "shell.execute_reply.started": "2022-02-20T11:21:41.876724Z"
    },
    "papermill": {
     "duration": 1.014063,
     "end_time": "2022-02-20T11:22:23.703969",
     "exception": false,
     "start_time": "2022-02-20T11:22:22.689906",
     "status": "completed"
    },
    "tags": []
   },
   "outputs": [
    {
     "data": {
      "text/html": [
       "<div>\n",
       "<style scoped>\n",
       "    .dataframe tbody tr th:only-of-type {\n",
       "        vertical-align: middle;\n",
       "    }\n",
       "\n",
       "    .dataframe tbody tr th {\n",
       "        vertical-align: top;\n",
       "    }\n",
       "\n",
       "    .dataframe thead th {\n",
       "        text-align: right;\n",
       "    }\n",
       "</style>\n",
       "<table border=\"1\" class=\"dataframe\">\n",
       "  <thead>\n",
       "    <tr style=\"text-align: right;\">\n",
       "      <th></th>\n",
       "      <th>ID</th>\n",
       "      <th>year</th>\n",
       "      <th>loan_limit</th>\n",
       "      <th>Gender</th>\n",
       "      <th>approv_in_adv</th>\n",
       "      <th>loan_type</th>\n",
       "      <th>loan_purpose</th>\n",
       "      <th>Credit_Worthiness</th>\n",
       "      <th>open_credit</th>\n",
       "      <th>business_or_commercial</th>\n",
       "      <th>...</th>\n",
       "      <th>credit_type</th>\n",
       "      <th>Credit_Score</th>\n",
       "      <th>co-applicant_credit_type</th>\n",
       "      <th>age</th>\n",
       "      <th>submission_of_application</th>\n",
       "      <th>LTV</th>\n",
       "      <th>Region</th>\n",
       "      <th>Security_Type</th>\n",
       "      <th>Status</th>\n",
       "      <th>dtir1</th>\n",
       "    </tr>\n",
       "  </thead>\n",
       "  <tbody>\n",
       "    <tr>\n",
       "      <th>0</th>\n",
       "      <td>24890</td>\n",
       "      <td>2019</td>\n",
       "      <td>cf</td>\n",
       "      <td>Sex Not Available</td>\n",
       "      <td>nopre</td>\n",
       "      <td>type1</td>\n",
       "      <td>p1</td>\n",
       "      <td>l1</td>\n",
       "      <td>nopc</td>\n",
       "      <td>nob/c</td>\n",
       "      <td>...</td>\n",
       "      <td>EXP</td>\n",
       "      <td>758</td>\n",
       "      <td>CIB</td>\n",
       "      <td>25-34</td>\n",
       "      <td>to_inst</td>\n",
       "      <td>98.728814</td>\n",
       "      <td>south</td>\n",
       "      <td>direct</td>\n",
       "      <td>1</td>\n",
       "      <td>45.0</td>\n",
       "    </tr>\n",
       "    <tr>\n",
       "      <th>1</th>\n",
       "      <td>24891</td>\n",
       "      <td>2019</td>\n",
       "      <td>cf</td>\n",
       "      <td>Male</td>\n",
       "      <td>nopre</td>\n",
       "      <td>type2</td>\n",
       "      <td>p1</td>\n",
       "      <td>l1</td>\n",
       "      <td>nopc</td>\n",
       "      <td>b/c</td>\n",
       "      <td>...</td>\n",
       "      <td>EQUI</td>\n",
       "      <td>552</td>\n",
       "      <td>EXP</td>\n",
       "      <td>55-64</td>\n",
       "      <td>to_inst</td>\n",
       "      <td>NaN</td>\n",
       "      <td>North</td>\n",
       "      <td>direct</td>\n",
       "      <td>1</td>\n",
       "      <td>NaN</td>\n",
       "    </tr>\n",
       "    <tr>\n",
       "      <th>2</th>\n",
       "      <td>24892</td>\n",
       "      <td>2019</td>\n",
       "      <td>cf</td>\n",
       "      <td>Male</td>\n",
       "      <td>pre</td>\n",
       "      <td>type1</td>\n",
       "      <td>p1</td>\n",
       "      <td>l1</td>\n",
       "      <td>nopc</td>\n",
       "      <td>nob/c</td>\n",
       "      <td>...</td>\n",
       "      <td>EXP</td>\n",
       "      <td>834</td>\n",
       "      <td>CIB</td>\n",
       "      <td>35-44</td>\n",
       "      <td>to_inst</td>\n",
       "      <td>80.019685</td>\n",
       "      <td>south</td>\n",
       "      <td>direct</td>\n",
       "      <td>0</td>\n",
       "      <td>46.0</td>\n",
       "    </tr>\n",
       "    <tr>\n",
       "      <th>3</th>\n",
       "      <td>24893</td>\n",
       "      <td>2019</td>\n",
       "      <td>cf</td>\n",
       "      <td>Male</td>\n",
       "      <td>nopre</td>\n",
       "      <td>type1</td>\n",
       "      <td>p4</td>\n",
       "      <td>l1</td>\n",
       "      <td>nopc</td>\n",
       "      <td>nob/c</td>\n",
       "      <td>...</td>\n",
       "      <td>EXP</td>\n",
       "      <td>587</td>\n",
       "      <td>CIB</td>\n",
       "      <td>45-54</td>\n",
       "      <td>not_inst</td>\n",
       "      <td>69.376900</td>\n",
       "      <td>North</td>\n",
       "      <td>direct</td>\n",
       "      <td>0</td>\n",
       "      <td>42.0</td>\n",
       "    </tr>\n",
       "    <tr>\n",
       "      <th>4</th>\n",
       "      <td>24894</td>\n",
       "      <td>2019</td>\n",
       "      <td>cf</td>\n",
       "      <td>Joint</td>\n",
       "      <td>pre</td>\n",
       "      <td>type1</td>\n",
       "      <td>p1</td>\n",
       "      <td>l1</td>\n",
       "      <td>nopc</td>\n",
       "      <td>nob/c</td>\n",
       "      <td>...</td>\n",
       "      <td>CRIF</td>\n",
       "      <td>602</td>\n",
       "      <td>EXP</td>\n",
       "      <td>25-34</td>\n",
       "      <td>not_inst</td>\n",
       "      <td>91.886544</td>\n",
       "      <td>North</td>\n",
       "      <td>direct</td>\n",
       "      <td>0</td>\n",
       "      <td>39.0</td>\n",
       "    </tr>\n",
       "  </tbody>\n",
       "</table>\n",
       "<p>5 rows × 34 columns</p>\n",
       "</div>"
      ],
      "text/plain": [
       "      ID  year loan_limit             Gender approv_in_adv loan_type  \\\n",
       "0  24890  2019         cf  Sex Not Available         nopre     type1   \n",
       "1  24891  2019         cf               Male         nopre     type2   \n",
       "2  24892  2019         cf               Male           pre     type1   \n",
       "3  24893  2019         cf               Male         nopre     type1   \n",
       "4  24894  2019         cf              Joint           pre     type1   \n",
       "\n",
       "  loan_purpose Credit_Worthiness open_credit business_or_commercial  ...  \\\n",
       "0           p1                l1        nopc                  nob/c  ...   \n",
       "1           p1                l1        nopc                    b/c  ...   \n",
       "2           p1                l1        nopc                  nob/c  ...   \n",
       "3           p4                l1        nopc                  nob/c  ...   \n",
       "4           p1                l1        nopc                  nob/c  ...   \n",
       "\n",
       "   credit_type  Credit_Score  co-applicant_credit_type    age  \\\n",
       "0          EXP           758                       CIB  25-34   \n",
       "1         EQUI           552                       EXP  55-64   \n",
       "2          EXP           834                       CIB  35-44   \n",
       "3          EXP           587                       CIB  45-54   \n",
       "4         CRIF           602                       EXP  25-34   \n",
       "\n",
       "   submission_of_application        LTV Region Security_Type  Status dtir1  \n",
       "0                    to_inst  98.728814  south        direct       1  45.0  \n",
       "1                    to_inst        NaN  North        direct       1   NaN  \n",
       "2                    to_inst  80.019685  south        direct       0  46.0  \n",
       "3                   not_inst  69.376900  North        direct       0  42.0  \n",
       "4                   not_inst  91.886544  North        direct       0  39.0  \n",
       "\n",
       "[5 rows x 34 columns]"
      ]
     },
     "execution_count": 4,
     "metadata": {},
     "output_type": "execute_result"
    }
   ],
   "source": [
    "df = pd.read_csv(\"./Loan_Default.csv\")\n",
    "df.head()"
   ]
  },
  {
   "cell_type": "code",
   "execution_count": 5,
   "id": "4ce15acb",
   "metadata": {
    "execution": {
     "iopub.execute_input": "2022-02-20T11:22:23.758625Z",
     "iopub.status.busy": "2022-02-20T11:22:23.758039Z",
     "iopub.status.idle": "2022-02-20T11:22:24.159176Z",
     "shell.execute_reply": "2022-02-20T11:22:24.158609Z",
     "shell.execute_reply.started": "2022-02-20T11:21:42.530902Z"
    },
    "papermill": {
     "duration": 0.429342,
     "end_time": "2022-02-20T11:22:24.159325",
     "exception": false,
     "start_time": "2022-02-20T11:22:23.729983",
     "status": "completed"
    },
    "tags": []
   },
   "outputs": [
    {
     "data": {
      "text/plain": [
       "0"
      ]
     },
     "execution_count": 5,
     "metadata": {},
     "output_type": "execute_result"
    }
   ],
   "source": [
    "sum(df.duplicated())"
   ]
  },
  {
   "cell_type": "code",
   "execution_count": 6,
   "id": "913eafea",
   "metadata": {
    "execution": {
     "iopub.execute_input": "2022-02-20T11:22:24.217952Z",
     "iopub.status.busy": "2022-02-20T11:22:24.217286Z",
     "iopub.status.idle": "2022-02-20T11:22:24.221904Z",
     "shell.execute_reply": "2022-02-20T11:22:24.221256Z",
     "shell.execute_reply.started": "2022-02-20T11:21:42.843862Z"
    },
    "papermill": {
     "duration": 0.035738,
     "end_time": "2022-02-20T11:22:24.222043",
     "exception": false,
     "start_time": "2022-02-20T11:22:24.186305",
     "status": "completed"
    },
    "tags": []
   },
   "outputs": [
    {
     "data": {
      "text/plain": [
       "Index(['ID', 'year', 'loan_limit', 'Gender', 'approv_in_adv', 'loan_type',\n",
       "       'loan_purpose', 'Credit_Worthiness', 'open_credit',\n",
       "       'business_or_commercial', 'loan_amount', 'rate_of_interest',\n",
       "       'Interest_rate_spread', 'Upfront_charges', 'term', 'Neg_ammortization',\n",
       "       'interest_only', 'lump_sum_payment', 'property_value',\n",
       "       'construction_type', 'occupancy_type', 'Secured_by', 'total_units',\n",
       "       'income', 'credit_type', 'Credit_Score', 'co-applicant_credit_type',\n",
       "       'age', 'submission_of_application', 'LTV', 'Region', 'Security_Type',\n",
       "       'Status', 'dtir1'],\n",
       "      dtype='object')"
      ]
     },
     "execution_count": 6,
     "metadata": {},
     "output_type": "execute_result"
    }
   ],
   "source": [
    "df.columns"
   ]
  },
  {
   "cell_type": "code",
   "execution_count": 7,
   "id": "72ad3e91",
   "metadata": {
    "execution": {
     "iopub.execute_input": "2022-02-20T11:22:24.282675Z",
     "iopub.status.busy": "2022-02-20T11:22:24.282016Z",
     "iopub.status.idle": "2022-02-20T11:22:25.160948Z",
     "shell.execute_reply": "2022-02-20T11:22:25.161465Z",
     "shell.execute_reply.started": "2022-02-20T11:21:42.850893Z"
    },
    "papermill": {
     "duration": 0.912965,
     "end_time": "2022-02-20T11:22:25.161630",
     "exception": false,
     "start_time": "2022-02-20T11:22:24.248665",
     "status": "completed"
    },
    "tags": []
   },
   "outputs": [
    {
     "data": {
      "text/html": [
       "<div>\n",
       "<style scoped>\n",
       "    .dataframe tbody tr th:only-of-type {\n",
       "        vertical-align: middle;\n",
       "    }\n",
       "\n",
       "    .dataframe tbody tr th {\n",
       "        vertical-align: top;\n",
       "    }\n",
       "\n",
       "    .dataframe thead th {\n",
       "        text-align: right;\n",
       "    }\n",
       "</style>\n",
       "<table border=\"1\" class=\"dataframe\">\n",
       "  <thead>\n",
       "    <tr style=\"text-align: right;\">\n",
       "      <th></th>\n",
       "      <th>count</th>\n",
       "      <th>unique</th>\n",
       "      <th>top</th>\n",
       "      <th>freq</th>\n",
       "    </tr>\n",
       "  </thead>\n",
       "  <tbody>\n",
       "    <tr>\n",
       "      <th>loan_limit</th>\n",
       "      <td>145326</td>\n",
       "      <td>2</td>\n",
       "      <td>cf</td>\n",
       "      <td>135348</td>\n",
       "    </tr>\n",
       "    <tr>\n",
       "      <th>Gender</th>\n",
       "      <td>148670</td>\n",
       "      <td>4</td>\n",
       "      <td>Male</td>\n",
       "      <td>42346</td>\n",
       "    </tr>\n",
       "    <tr>\n",
       "      <th>approv_in_adv</th>\n",
       "      <td>147762</td>\n",
       "      <td>2</td>\n",
       "      <td>nopre</td>\n",
       "      <td>124621</td>\n",
       "    </tr>\n",
       "    <tr>\n",
       "      <th>loan_type</th>\n",
       "      <td>148670</td>\n",
       "      <td>3</td>\n",
       "      <td>type1</td>\n",
       "      <td>113173</td>\n",
       "    </tr>\n",
       "    <tr>\n",
       "      <th>loan_purpose</th>\n",
       "      <td>148536</td>\n",
       "      <td>4</td>\n",
       "      <td>p3</td>\n",
       "      <td>55934</td>\n",
       "    </tr>\n",
       "    <tr>\n",
       "      <th>Credit_Worthiness</th>\n",
       "      <td>148670</td>\n",
       "      <td>2</td>\n",
       "      <td>l1</td>\n",
       "      <td>142344</td>\n",
       "    </tr>\n",
       "    <tr>\n",
       "      <th>open_credit</th>\n",
       "      <td>148670</td>\n",
       "      <td>2</td>\n",
       "      <td>nopc</td>\n",
       "      <td>148114</td>\n",
       "    </tr>\n",
       "    <tr>\n",
       "      <th>business_or_commercial</th>\n",
       "      <td>148670</td>\n",
       "      <td>2</td>\n",
       "      <td>nob/c</td>\n",
       "      <td>127908</td>\n",
       "    </tr>\n",
       "    <tr>\n",
       "      <th>Neg_ammortization</th>\n",
       "      <td>148549</td>\n",
       "      <td>2</td>\n",
       "      <td>not_neg</td>\n",
       "      <td>133420</td>\n",
       "    </tr>\n",
       "    <tr>\n",
       "      <th>interest_only</th>\n",
       "      <td>148670</td>\n",
       "      <td>2</td>\n",
       "      <td>not_int</td>\n",
       "      <td>141560</td>\n",
       "    </tr>\n",
       "    <tr>\n",
       "      <th>lump_sum_payment</th>\n",
       "      <td>148670</td>\n",
       "      <td>2</td>\n",
       "      <td>not_lpsm</td>\n",
       "      <td>145286</td>\n",
       "    </tr>\n",
       "    <tr>\n",
       "      <th>construction_type</th>\n",
       "      <td>148670</td>\n",
       "      <td>2</td>\n",
       "      <td>sb</td>\n",
       "      <td>148637</td>\n",
       "    </tr>\n",
       "    <tr>\n",
       "      <th>occupancy_type</th>\n",
       "      <td>148670</td>\n",
       "      <td>3</td>\n",
       "      <td>pr</td>\n",
       "      <td>138201</td>\n",
       "    </tr>\n",
       "    <tr>\n",
       "      <th>Secured_by</th>\n",
       "      <td>148670</td>\n",
       "      <td>2</td>\n",
       "      <td>home</td>\n",
       "      <td>148637</td>\n",
       "    </tr>\n",
       "    <tr>\n",
       "      <th>total_units</th>\n",
       "      <td>148670</td>\n",
       "      <td>4</td>\n",
       "      <td>1U</td>\n",
       "      <td>146480</td>\n",
       "    </tr>\n",
       "    <tr>\n",
       "      <th>credit_type</th>\n",
       "      <td>148670</td>\n",
       "      <td>4</td>\n",
       "      <td>CIB</td>\n",
       "      <td>48152</td>\n",
       "    </tr>\n",
       "    <tr>\n",
       "      <th>co-applicant_credit_type</th>\n",
       "      <td>148670</td>\n",
       "      <td>2</td>\n",
       "      <td>CIB</td>\n",
       "      <td>74392</td>\n",
       "    </tr>\n",
       "    <tr>\n",
       "      <th>age</th>\n",
       "      <td>148470</td>\n",
       "      <td>7</td>\n",
       "      <td>45-54</td>\n",
       "      <td>34720</td>\n",
       "    </tr>\n",
       "    <tr>\n",
       "      <th>submission_of_application</th>\n",
       "      <td>148470</td>\n",
       "      <td>2</td>\n",
       "      <td>to_inst</td>\n",
       "      <td>95814</td>\n",
       "    </tr>\n",
       "    <tr>\n",
       "      <th>Region</th>\n",
       "      <td>148670</td>\n",
       "      <td>4</td>\n",
       "      <td>North</td>\n",
       "      <td>74722</td>\n",
       "    </tr>\n",
       "    <tr>\n",
       "      <th>Security_Type</th>\n",
       "      <td>148670</td>\n",
       "      <td>2</td>\n",
       "      <td>direct</td>\n",
       "      <td>148637</td>\n",
       "    </tr>\n",
       "  </tbody>\n",
       "</table>\n",
       "</div>"
      ],
      "text/plain": [
       "                            count unique       top    freq\n",
       "loan_limit                 145326      2        cf  135348\n",
       "Gender                     148670      4      Male   42346\n",
       "approv_in_adv              147762      2     nopre  124621\n",
       "loan_type                  148670      3     type1  113173\n",
       "loan_purpose               148536      4        p3   55934\n",
       "Credit_Worthiness          148670      2        l1  142344\n",
       "open_credit                148670      2      nopc  148114\n",
       "business_or_commercial     148670      2     nob/c  127908\n",
       "Neg_ammortization          148549      2   not_neg  133420\n",
       "interest_only              148670      2   not_int  141560\n",
       "lump_sum_payment           148670      2  not_lpsm  145286\n",
       "construction_type          148670      2        sb  148637\n",
       "occupancy_type             148670      3        pr  138201\n",
       "Secured_by                 148670      2      home  148637\n",
       "total_units                148670      4        1U  146480\n",
       "credit_type                148670      4       CIB   48152\n",
       "co-applicant_credit_type   148670      2       CIB   74392\n",
       "age                        148470      7     45-54   34720\n",
       "submission_of_application  148470      2   to_inst   95814\n",
       "Region                     148670      4     North   74722\n",
       "Security_Type              148670      2    direct  148637"
      ]
     },
     "execution_count": 7,
     "metadata": {},
     "output_type": "execute_result"
    }
   ],
   "source": [
    "df.describe(include=\"object\").T"
   ]
  },
  {
   "cell_type": "code",
   "execution_count": 8,
   "id": "8e399e1c",
   "metadata": {
    "execution": {
     "iopub.execute_input": "2022-02-20T11:22:25.219594Z",
     "iopub.status.busy": "2022-02-20T11:22:25.218949Z",
     "iopub.status.idle": "2022-02-20T11:22:25.503466Z",
     "shell.execute_reply": "2022-02-20T11:22:25.503920Z",
     "shell.execute_reply.started": "2022-02-20T11:21:43.254764Z"
    },
    "papermill": {
     "duration": 0.315049,
     "end_time": "2022-02-20T11:22:25.504095",
     "exception": false,
     "start_time": "2022-02-20T11:22:25.189046",
     "status": "completed"
    },
    "tags": []
   },
   "outputs": [
    {
     "data": {
      "text/plain": [
       "loan_limit                                                      [cf, nan, ncf]\n",
       "Gender                                [Sex Not Available, Male, Joint, Female]\n",
       "approv_in_adv                                                [nopre, pre, nan]\n",
       "loan_type                                                [type1, type2, type3]\n",
       "loan_purpose                                             [p1, p4, p3, p2, nan]\n",
       "Credit_Worthiness                                                     [l1, l2]\n",
       "open_credit                                                        [nopc, opc]\n",
       "business_or_commercial                                            [nob/c, b/c]\n",
       "Neg_ammortization                                      [not_neg, neg_amm, nan]\n",
       "interest_only                                              [not_int, int_only]\n",
       "lump_sum_payment                                              [not_lpsm, lpsm]\n",
       "construction_type                                                     [sb, mh]\n",
       "occupancy_type                                                    [pr, sr, ir]\n",
       "Secured_by                                                        [home, land]\n",
       "total_units                                                   [1U, 2U, 3U, 4U]\n",
       "credit_type                                             [EXP, EQUI, CRIF, CIB]\n",
       "co-applicant_credit_type                                            [CIB, EXP]\n",
       "age                          [25-34, 55-64, 35-44, 45-54, 65-74, >74, <25, ...\n",
       "submission_of_application                             [to_inst, not_inst, nan]\n",
       "Region                                     [south, North, central, North-East]\n",
       "Security_Type                                               [direct, Indriect]\n",
       "dtype: object"
      ]
     },
     "execution_count": 8,
     "metadata": {},
     "output_type": "execute_result"
    }
   ],
   "source": [
    "pd.Series({col: df[col].unique() for col in df.select_dtypes(\"object\").columns})"
   ]
  },
  {
   "cell_type": "code",
   "execution_count": 9,
   "id": "0a8f7d5d",
   "metadata": {
    "execution": {
     "iopub.execute_input": "2022-02-20T11:22:25.562123Z",
     "iopub.status.busy": "2022-02-20T11:22:25.561481Z",
     "iopub.status.idle": "2022-02-20T11:22:25.585732Z",
     "shell.execute_reply": "2022-02-20T11:22:25.586258Z",
     "shell.execute_reply.started": "2022-02-20T11:21:43.488394Z"
    },
    "papermill": {
     "duration": 0.054813,
     "end_time": "2022-02-20T11:22:25.586431",
     "exception": false,
     "start_time": "2022-02-20T11:22:25.531618",
     "status": "completed"
    },
    "tags": []
   },
   "outputs": [],
   "source": [
    "drop_cols  = [\"ID\", \"Gender\", \"age\", \"Region\"]\n",
    "df = df.drop(drop_cols, axis = 1)"
   ]
  },
  {
   "cell_type": "code",
   "execution_count": 10,
   "id": "9ff69358",
   "metadata": {
    "execution": {
     "iopub.execute_input": "2022-02-20T11:22:25.644985Z",
     "iopub.status.busy": "2022-02-20T11:22:25.644379Z",
     "iopub.status.idle": "2022-02-20T11:22:27.699224Z",
     "shell.execute_reply": "2022-02-20T11:22:27.698587Z",
     "shell.execute_reply.started": "2022-02-20T11:21:43.526098Z"
    },
    "papermill": {
     "duration": 2.085031,
     "end_time": "2022-02-20T11:22:27.699365",
     "exception": false,
     "start_time": "2022-02-20T11:22:25.614334",
     "status": "completed"
    },
    "tags": []
   },
   "outputs": [],
   "source": [
    "for col in df.select_dtypes(\"object\").columns:\n",
    "    df[col] = df[col].replace({val: i for i, val in enumerate(df[col].unique())}).value_counts()"
   ]
  },
  {
   "cell_type": "code",
   "execution_count": 11,
   "id": "edfc0ab7",
   "metadata": {
    "execution": {
     "iopub.execute_input": "2022-02-20T11:22:27.762197Z",
     "iopub.status.busy": "2022-02-20T11:22:27.761397Z",
     "iopub.status.idle": "2022-02-20T11:22:27.790046Z",
     "shell.execute_reply": "2022-02-20T11:22:27.789441Z",
     "shell.execute_reply.started": "2022-02-20T11:21:44.771822Z"
    },
    "papermill": {
     "duration": 0.063106,
     "end_time": "2022-02-20T11:22:27.790187",
     "exception": false,
     "start_time": "2022-02-20T11:22:27.727081",
     "status": "completed"
    },
    "tags": []
   },
   "outputs": [
    {
     "name": "stdout",
     "output_type": "stream",
     "text": [
      "<class 'pandas.core.frame.DataFrame'>\n",
      "RangeIndex: 148670 entries, 0 to 148669\n",
      "Data columns (total 30 columns):\n",
      " #   Column                     Non-Null Count   Dtype  \n",
      "---  ------                     --------------   -----  \n",
      " 0   year                       148670 non-null  int64  \n",
      " 1   loan_limit                 3 non-null       float64\n",
      " 2   approv_in_adv              3 non-null       float64\n",
      " 3   loan_type                  3 non-null       float64\n",
      " 4   loan_purpose               5 non-null       float64\n",
      " 5   Credit_Worthiness          2 non-null       float64\n",
      " 6   open_credit                2 non-null       float64\n",
      " 7   business_or_commercial     2 non-null       float64\n",
      " 8   loan_amount                148670 non-null  int64  \n",
      " 9   rate_of_interest           112231 non-null  float64\n",
      " 10  Interest_rate_spread       112031 non-null  float64\n",
      " 11  Upfront_charges            109028 non-null  float64\n",
      " 12  term                       148629 non-null  float64\n",
      " 13  Neg_ammortization          3 non-null       float64\n",
      " 14  interest_only              2 non-null       float64\n",
      " 15  lump_sum_payment           2 non-null       float64\n",
      " 16  property_value             133572 non-null  float64\n",
      " 17  construction_type          2 non-null       float64\n",
      " 18  occupancy_type             3 non-null       float64\n",
      " 19  Secured_by                 2 non-null       float64\n",
      " 20  total_units                4 non-null       float64\n",
      " 21  income                     139520 non-null  float64\n",
      " 22  credit_type                4 non-null       float64\n",
      " 23  Credit_Score               148670 non-null  int64  \n",
      " 24  co-applicant_credit_type   2 non-null       float64\n",
      " 25  submission_of_application  3 non-null       float64\n",
      " 26  LTV                        133572 non-null  float64\n",
      " 27  Security_Type              2 non-null       float64\n",
      " 28  Status                     148670 non-null  int64  \n",
      " 29  dtir1                      124549 non-null  float64\n",
      "dtypes: float64(26), int64(4)\n",
      "memory usage: 34.0 MB\n"
     ]
    }
   ],
   "source": [
    "df.info()"
   ]
  },
  {
   "cell_type": "code",
   "execution_count": 12,
   "id": "f3e0327a",
   "metadata": {
    "execution": {
     "iopub.execute_input": "2022-02-20T11:22:27.851384Z",
     "iopub.status.busy": "2022-02-20T11:22:27.850633Z",
     "iopub.status.idle": "2022-02-20T11:22:27.869674Z",
     "shell.execute_reply": "2022-02-20T11:22:27.869096Z",
     "shell.execute_reply.started": "2022-02-20T11:21:44.803429Z"
    },
    "papermill": {
     "duration": 0.051516,
     "end_time": "2022-02-20T11:22:27.869841",
     "exception": false,
     "start_time": "2022-02-20T11:22:27.818325",
     "status": "completed"
    },
    "tags": []
   },
   "outputs": [
    {
     "data": {
      "text/plain": [
       "year                         0.000000\n",
       "loan_limit                   0.999980\n",
       "approv_in_adv                0.999980\n",
       "loan_type                    0.999980\n",
       "loan_purpose                 0.999966\n",
       "Credit_Worthiness            0.999987\n",
       "open_credit                  0.999987\n",
       "business_or_commercial       0.999987\n",
       "loan_amount                  0.000000\n",
       "rate_of_interest             0.245100\n",
       "Interest_rate_spread         0.246445\n",
       "Upfront_charges              0.266644\n",
       "term                         0.000276\n",
       "Neg_ammortization            0.999980\n",
       "interest_only                0.999987\n",
       "lump_sum_payment             0.999987\n",
       "property_value               0.101554\n",
       "construction_type            0.999987\n",
       "occupancy_type               0.999980\n",
       "Secured_by                   0.999987\n",
       "total_units                  0.999973\n",
       "income                       0.061546\n",
       "credit_type                  0.999973\n",
       "Credit_Score                 0.000000\n",
       "co-applicant_credit_type     0.999987\n",
       "submission_of_application    0.999980\n",
       "LTV                          0.101554\n",
       "Security_Type                0.999987\n",
       "Status                       0.000000\n",
       "dtir1                        0.162245\n",
       "dtype: float64"
      ]
     },
     "execution_count": 12,
     "metadata": {},
     "output_type": "execute_result"
    }
   ],
   "source": [
    "nan_vals = df.isna().sum()/df.shape[0]\n",
    "nan_vals"
   ]
  },
  {
   "cell_type": "code",
   "execution_count": 13,
   "id": "87799652",
   "metadata": {
    "execution": {
     "iopub.execute_input": "2022-02-20T11:22:27.934084Z",
     "iopub.status.busy": "2022-02-20T11:22:27.933193Z",
     "iopub.status.idle": "2022-02-20T11:22:27.937364Z",
     "shell.execute_reply": "2022-02-20T11:22:27.936738Z",
     "shell.execute_reply.started": "2022-02-20T11:21:44.831339Z"
    },
    "papermill": {
     "duration": 0.038815,
     "end_time": "2022-02-20T11:22:27.937500",
     "exception": false,
     "start_time": "2022-02-20T11:22:27.898685",
     "status": "completed"
    },
    "tags": []
   },
   "outputs": [
    {
     "data": {
      "text/plain": [
       "Index(['loan_limit', 'approv_in_adv', 'loan_type', 'loan_purpose',\n",
       "       'Credit_Worthiness', 'open_credit', 'business_or_commercial',\n",
       "       'Neg_ammortization', 'interest_only', 'lump_sum_payment',\n",
       "       'construction_type', 'occupancy_type', 'Secured_by', 'total_units',\n",
       "       'credit_type', 'co-applicant_credit_type', 'submission_of_application',\n",
       "       'Security_Type'],\n",
       "      dtype='object')"
      ]
     },
     "execution_count": 13,
     "metadata": {},
     "output_type": "execute_result"
    }
   ],
   "source": [
    "nan_vals[nan_vals > 0.8].index"
   ]
  },
  {
   "cell_type": "code",
   "execution_count": 14,
   "id": "35242909",
   "metadata": {
    "execution": {
     "iopub.execute_input": "2022-02-20T11:22:28.001873Z",
     "iopub.status.busy": "2022-02-20T11:22:28.001195Z",
     "iopub.status.idle": "2022-02-20T11:22:28.034058Z",
     "shell.execute_reply": "2022-02-20T11:22:28.033454Z",
     "shell.execute_reply.started": "2022-02-20T11:21:44.841558Z"
    },
    "papermill": {
     "duration": 0.067577,
     "end_time": "2022-02-20T11:22:28.034203",
     "exception": false,
     "start_time": "2022-02-20T11:22:27.966626",
     "status": "completed"
    },
    "tags": []
   },
   "outputs": [],
   "source": [
    "drop_cols = list(nan_vals[nan_vals > 0.8].index)\n",
    "df = df.drop(drop_cols, axis = 1)"
   ]
  },
  {
   "cell_type": "code",
   "execution_count": 15,
   "id": "83555546",
   "metadata": {
    "execution": {
     "iopub.execute_input": "2022-02-20T11:22:28.101059Z",
     "iopub.status.busy": "2022-02-20T11:22:28.100359Z",
     "iopub.status.idle": "2022-02-20T11:22:28.103290Z",
     "shell.execute_reply": "2022-02-20T11:22:28.102799Z",
     "shell.execute_reply.started": "2022-02-20T11:21:44.881271Z"
    },
    "papermill": {
     "duration": 0.040061,
     "end_time": "2022-02-20T11:22:28.103423",
     "exception": false,
     "start_time": "2022-02-20T11:22:28.063362",
     "status": "completed"
    },
    "tags": []
   },
   "outputs": [],
   "source": [
    "X = df.drop(\"Status\", axis = 1)\n",
    "y = df[\"Status\"]"
   ]
  },
  {
   "cell_type": "code",
   "execution_count": 16,
   "id": "9d3ff4d0",
   "metadata": {
    "execution": {
     "iopub.execute_input": "2022-02-20T11:22:28.167487Z",
     "iopub.status.busy": "2022-02-20T11:22:28.166825Z",
     "iopub.status.idle": "2022-02-20T11:22:28.325475Z",
     "shell.execute_reply": "2022-02-20T11:22:28.324105Z",
     "shell.execute_reply.started": "2022-02-20T11:21:44.891703Z"
    },
    "papermill": {
     "duration": 0.193331,
     "end_time": "2022-02-20T11:22:28.325719",
     "exception": false,
     "start_time": "2022-02-20T11:22:28.132388",
     "status": "completed"
    },
    "tags": []
   },
   "outputs": [
    {
     "data": {
      "image/png": "[encoded data removed]",
      "text/plain": [
       "<Figure size 432x288 with 1 Axes>"
      ]
     },
     "metadata": {
      "needs_background": "light"
     },
     "output_type": "display_data"
    }
   ],
   "source": [
    "sns.countplot(x = df[\"Status\"]);"
   ]
  },
  {
   "cell_type": "code",
   "execution_count": 17,
   "id": "9f7ede0a",
   "metadata": {
    "execution": {
     "iopub.execute_input": "2022-02-20T11:22:28.397072Z",
     "iopub.status.busy": "2022-02-20T11:22:28.396452Z",
     "iopub.status.idle": "2022-02-20T11:22:28.477453Z",
     "shell.execute_reply": "2022-02-20T11:22:28.476886Z",
     "shell.execute_reply.started": "2022-02-20T11:21:45.083703Z"
    },
    "papermill": {
     "duration": 0.112954,
     "end_time": "2022-02-20T11:22:28.477587",
     "exception": false,
     "start_time": "2022-02-20T11:22:28.364633",
     "status": "completed"
    },
    "tags": []
   },
   "outputs": [],
   "source": [
    "X_train, X_test, y_train, y_test = train_test_split(X, y, test_size=0.2, random_state=0, stratify=y)"
   ]
  },
  {
   "cell_type": "code",
   "execution_count": 18,
   "id": "f754114a",
   "metadata": {
    "execution": {
     "iopub.execute_input": "2022-02-20T11:22:28.542476Z",
     "iopub.status.busy": "2022-02-20T11:22:28.541489Z",
     "iopub.status.idle": "2022-02-20T11:22:28.550023Z",
     "shell.execute_reply": "2022-02-20T11:22:28.550585Z",
     "shell.execute_reply.started": "2022-02-20T11:21:45.149411Z"
    },
    "papermill": {
     "duration": 0.043326,
     "end_time": "2022-02-20T11:22:28.550779",
     "exception": false,
     "start_time": "2022-02-20T11:22:28.507453",
     "status": "completed"
    },
    "tags": []
   },
   "outputs": [
    {
     "data": {
      "text/plain": [
       "year                        0\n",
       "loan_amount                 0\n",
       "rate_of_interest        29156\n",
       "Interest_rate_spread    29311\n",
       "Upfront_charges         31709\n",
       "term                       24\n",
       "property_value          12082\n",
       "income                   7338\n",
       "Credit_Score                0\n",
       "LTV                     12082\n",
       "dtir1                   19315\n",
       "dtype: int64"
      ]
     },
     "execution_count": 18,
     "metadata": {},
     "output_type": "execute_result"
    }
   ],
   "source": [
    "X_train.isna().sum()"
   ]
  },
  {
   "cell_type": "code",
   "execution_count": 19,
   "id": "4d2400f5",
   "metadata": {
    "execution": {
     "iopub.execute_input": "2022-02-20T11:22:28.616370Z",
     "iopub.status.busy": "2022-02-20T11:22:28.615386Z",
     "iopub.status.idle": "2022-02-20T11:22:28.621542Z",
     "shell.execute_reply": "2022-02-20T11:22:28.622037Z",
     "shell.execute_reply.started": "2022-02-20T11:21:45.161269Z"
    },
    "papermill": {
     "duration": 0.041189,
     "end_time": "2022-02-20T11:22:28.622198",
     "exception": false,
     "start_time": "2022-02-20T11:22:28.581009",
     "status": "completed"
    },
    "tags": []
   },
   "outputs": [
    {
     "data": {
      "text/plain": [
       "year                       0\n",
       "loan_amount                0\n",
       "rate_of_interest        7283\n",
       "Interest_rate_spread    7328\n",
       "Upfront_charges         7933\n",
       "term                      17\n",
       "property_value          3016\n",
       "income                  1812\n",
       "Credit_Score               0\n",
       "LTV                     3016\n",
       "dtir1                   4806\n",
       "dtype: int64"
      ]
     },
     "execution_count": 19,
     "metadata": {},
     "output_type": "execute_result"
    }
   ],
   "source": [
    "X_test.isna().sum()"
   ]
  },
  {
   "cell_type": "code",
   "execution_count": 20,
   "id": "2da76bfd",
   "metadata": {
    "execution": {
     "iopub.execute_input": "2022-02-20T11:22:28.686726Z",
     "iopub.status.busy": "2022-02-20T11:22:28.686077Z",
     "iopub.status.idle": "2022-02-20T11:22:28.726590Z",
     "shell.execute_reply": "2022-02-20T11:22:28.725950Z",
     "shell.execute_reply.started": "2022-02-20T11:21:45.174273Z"
    },
    "papermill": {
     "duration": 0.074055,
     "end_time": "2022-02-20T11:22:28.726779",
     "exception": false,
     "start_time": "2022-02-20T11:22:28.652724",
     "status": "completed"
    },
    "tags": []
   },
   "outputs": [],
   "source": [
    "for col in X_train.columns:\n",
    "    val = X_train[col].mode()[0]\n",
    "    X_train[col] = X_train[col].fillna(val)\n",
    "    X_test[col] = X_test[col].fillna(val)"
   ]
  },
  {
   "cell_type": "code",
   "execution_count": 21,
   "id": "8dc44d3c",
   "metadata": {
    "execution": {
     "iopub.execute_input": "2022-02-20T11:22:28.795882Z",
     "iopub.status.busy": "2022-02-20T11:22:28.795226Z",
     "iopub.status.idle": "2022-02-20T11:22:28.952679Z",
     "shell.execute_reply": "2022-02-20T11:22:28.952082Z",
     "shell.execute_reply.started": "2022-02-20T11:21:45.221360Z"
    },
    "papermill": {
     "duration": 0.194603,
     "end_time": "2022-02-20T11:22:28.952860",
     "exception": false,
     "start_time": "2022-02-20T11:22:28.758257",
     "status": "completed"
    },
    "tags": []
   },
   "outputs": [
    {
     "data": {
      "text/plain": [
       "DecisionTreeClassifier(random_state=0)"
      ]
     },
     "execution_count": 21,
     "metadata": {},
     "output_type": "execute_result"
    }
   ],
   "source": [
    "dt = DecisionTreeClassifier(random_state=0)\n",
    "dt.fit(X_train, y_train)"
   ]
  },
  {
   "cell_type": "code",
   "execution_count": 22,
   "id": "57337d1a",
   "metadata": {
    "execution": {
     "iopub.execute_input": "2022-02-20T11:22:29.021576Z",
     "iopub.status.busy": "2022-02-20T11:22:29.020929Z",
     "iopub.status.idle": "2022-02-20T11:22:29.313096Z",
     "shell.execute_reply": "2022-02-20T11:22:29.313637Z",
     "shell.execute_reply.started": "2022-02-20T11:21:45.387579Z"
    },
    "papermill": {
     "duration": 0.329966,
     "end_time": "2022-02-20T11:22:29.313822",
     "exception": false,
     "start_time": "2022-02-20T11:22:28.983856",
     "status": "completed"
    },
    "tags": []
   },
   "outputs": [
    {
     "data": {
      "image/png": "[encoded data removed]",
      "text/plain": [
       "<Figure size 432x288 with 2 Axes>"
      ]
     },
     "metadata": {
      "needs_background": "light"
     },
     "output_type": "display_data"
    },
    {
     "name": "stdout",
     "output_type": "stream",
     "text": [
      "              precision    recall  f1-score   support\n",
      "\n",
      "           0       1.00      1.00      1.00     22406\n",
      "           1       1.00      1.00      1.00      7328\n",
      "\n",
      "    accuracy                           1.00     29734\n",
      "   macro avg       1.00      1.00      1.00     29734\n",
      "weighted avg       1.00      1.00      1.00     29734\n",
      "\n"
     ]
    }
   ],
   "source": [
    "preds = dt.predict(X_test)\n",
    "\n",
    "plot_confusion_matrix(dt, X_test, y_test)\n",
    "plt.show()\n",
    "\n",
    "print(classification_report(y_test, preds))"
   ]
  },
  {
   "cell_type": "code",
   "execution_count": 23,
   "id": "d9166b4f",
   "metadata": {
    "execution": {
     "iopub.execute_input": "2022-02-20T11:22:29.383954Z",
     "iopub.status.busy": "2022-02-20T11:22:29.383016Z",
     "iopub.status.idle": "2022-02-20T11:22:36.435036Z",
     "shell.execute_reply": "2022-02-20T11:22:36.434322Z",
     "shell.execute_reply.started": "2022-02-20T11:21:45.682792Z"
    },
    "papermill": {
     "duration": 7.088453,
     "end_time": "2022-02-20T11:22:36.435177",
     "exception": false,
     "start_time": "2022-02-20T11:22:29.346724",
     "status": "completed"
    },
    "tags": []
   },
   "outputs": [
    {
     "data": {
      "text/plain": [
       "RandomForestClassifier(random_state=0)"
      ]
     },
     "execution_count": 23,
     "metadata": {},
     "output_type": "execute_result"
    }
   ],
   "source": [
    "rf = RandomForestClassifier(random_state=0)\n",
    "rf.fit(X_train, y_train)"
   ]
  },
  {
   "cell_type": "code",
   "execution_count": 24,
   "id": "4e137341",
   "metadata": {
    "execution": {
     "iopub.execute_input": "2022-02-20T11:22:36.507334Z",
     "iopub.status.busy": "2022-02-20T11:22:36.506691Z",
     "iopub.status.idle": "2022-02-20T11:22:37.217473Z",
     "shell.execute_reply": "2022-02-20T11:22:37.216753Z",
     "shell.execute_reply.started": "2022-02-20T11:21:52.958762Z"
    },
    "papermill": {
     "duration": 0.749729,
     "end_time": "2022-02-20T11:22:37.217614",
     "exception": false,
     "start_time": "2022-02-20T11:22:36.467885",
     "status": "completed"
    },
    "tags": []
   },
   "outputs": [
    {
     "data": {
      "image/png": "[encoded data removed]",
      "text/plain": [
       "<Figure size 432x288 with 2 Axes>"
      ]
     },
     "metadata": {
      "needs_background": "light"
     },
     "output_type": "display_data"
    },
    {
     "name": "stdout",
     "output_type": "stream",
     "text": [
      "              precision    recall  f1-score   support\n",
      "\n",
      "           0       1.00      1.00      1.00     22406\n",
      "           1       1.00      1.00      1.00      7328\n",
      "\n",
      "    accuracy                           1.00     29734\n",
      "   macro avg       1.00      1.00      1.00     29734\n",
      "weighted avg       1.00      1.00      1.00     29734\n",
      "\n"
     ]
    }
   ],
   "source": [
    "preds = rf.predict(X_test)\n",
    "\n",
    "plot_confusion_matrix(rf, X_test, y_test)\n",
    "plt.show()\n",
    "\n",
    "print(classification_report(y_test, preds))"
   ]
  },
  {
   "cell_type": "code",
   "execution_count": 25,
   "id": "717e6c70",
   "metadata": {
    "execution": {
     "iopub.execute_input": "2022-02-20T11:22:37.289310Z",
     "iopub.status.busy": "2022-02-20T11:22:37.288630Z",
     "iopub.status.idle": "2022-02-20T11:22:37.534000Z",
     "shell.execute_reply": "2022-02-20T11:22:37.533378Z",
     "shell.execute_reply.started": "2022-02-20T11:21:53.656138Z"
    },
    "papermill": {
     "duration": 0.282293,
     "end_time": "2022-02-20T11:22:37.534146",
     "exception": false,
     "start_time": "2022-02-20T11:22:37.251853",
     "status": "completed"
    },
    "tags": []
   },
   "outputs": [
    {
     "data": {
      "image/png": "[encoded data removed]",
      "text/plain": [
       "<Figure size 720x504 with 1 Axes>"
      ]
     },
     "metadata": {
      "needs_background": "light"
     },
     "output_type": "display_data"
    }
   ],
   "source": [
    "plt.figure(figsize=(10, 7))\n",
    "sns.barplot(y=X_train.columns, x=rf.feature_importances_, )\n",
    "plt.title(\"Feature Importance\")\n",
    "plt.show()"
   ]
  },
  {
   "cell_type": "code",
   "execution_count": 28,
   "id": "8d0b03ed",
   "metadata": {
    "papermill": {
     "duration": 0.034595,
     "end_time": "2022-02-20T11:22:37.604015",
     "exception": false,
     "start_time": "2022-02-20T11:22:37.569420",
     "status": "completed"
    },
    "tags": []
   },
   "outputs": [
    {
     "name": "stdout",
     "output_type": "stream",
     "text": [
      "tpot: 0.11.7\n"
     ]
    }
   ],
   "source": [
    "import tpot\n",
    "print('tpot: %s' % tpot.__version__)\n",
    "\n",
    "from sklearn.model_selection import RepeatedStratifiedKFold"
   ]
  },
  {
   "cell_type": "code",
   "execution_count": null,
   "id": "7ab4034d",
   "metadata": {
    "papermill": {
     "duration": 0.034264,
     "end_time": "2022-02-20T11:22:37.673193",
     "exception": false,
     "start_time": "2022-02-20T11:22:37.638929",
     "status": "completed"
    },
    "tags": []
   },
   "outputs": [
    {
     "data": {
      "application/vnd.jupyter.widget-view+json": {
       "model_id": "df90ddf6724148edb2e69282cdcabb79",
       "version_major": 2,
       "version_minor": 0
      },
      "text/plain": [
       "Optimization Progress:   0%|          | 0/300 [00:00<?, ?pipeline/s]"
      ]
     },
     "metadata": {},
     "output_type": "display_data"
    },
    {
     "name": "stdout",
     "output_type": "stream",
     "text": [
      "\n",
      "Generation 1 - Current best internal CV score: 0.9999411451471847\n",
      "\n",
      "Generation 2 - Current best internal CV score: 0.9999411451471847\n"
     ]
    }
   ],
   "source": [
    "# define model evaluation\n",
    "cv = RepeatedStratifiedKFold(n_splits=10, n_repeats=3, random_state=1)\n",
    "\n",
    "# define search\n",
    "model = tpot.TPOTClassifier(generations=5, \n",
    "model = tpot.TPOTClassifier(generations=5, \n",
    "model = tpot.TPOTClassifier(Jupyter meetinggenerations=5, \n",
    "                       population_size=50, \n",
    "                       cv=cv, \n",
    "                       scoring='accuracy', \n",
    "                       verbosity=2, \n",
    "                       random_state=42)\n",
    "\n",
    "\n",
    "...\n",
    "# perform the search\n",
    "model.fit(X_train, y_train)\n",
    "# export the best model\n",
    "model.export('defaulters.py')\n",
    "\n"
   ]
  }
 ],
 "metadata": {
  "kernelspec": {
   "display_name": "Python 3 (ipykernel)",
   "language": "python",
   "name": "python3"
  },
  "language_info": {
   "codemirror_mode": {
    "name": "ipython",
    "version": 3
   },
   "file_extension": ".py",
   "mimetype": "text/x-python",
   "name": "python",
   "nbconvert_exporter": "python",
   "pygments_lexer": "ipython3",
   "version": "3.9.7"
  },
  "papermill": {
   "default_parameters": {},
   "duration": 26.646368,
   "end_time": "2022-02-20T11:22:38.417643",
   "environment_variables": {},
   "exception": null,
   "input_path": "__notebook__.ipynb",
   "output_path": "__notebook__.ipynb",
   "parameters": {},
   "start_time": "2022-02-20T11:22:11.771275",
   "version": "2.3.3"
  }
 },
 "nbformat": 4,
 "nbformat_minor": 5
}
