{
 "cells": [
  {
   "cell_type": "markdown",
   "id": "W7G9brFaBKTd",
   "metadata": {
    "id": "W7G9brFaBKTd"
   },
   "source": [
    "## **Project Name:** Petrol Price Forecasting  using Tensor Flow and Auto Keras"
   ]
  },
  {
   "cell_type": "markdown",
   "id": "FYrfseUeCVCU",
   "metadata": {
    "id": "FYrfseUeCVCU"
   },
   "source": [
    "![fuel-price-india-1.webp](data:image/webp;base64,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)"
   ]
  },
  {
   "cell_type": "markdown",
   "id": "wZGfAtd9Bd6e",
   "metadata": {
    "id": "wZGfAtd9Bd6e"
   },
   "source": [
    "## Petrol Prices are going up continously these days and it has become very hard to predict what will be the price range in the next few months or even days.\n",
    "\n",
    "### In this project we will try to forecast the different petrol prices for the upcoming dates given to us. \n",
    "\n",
    "### We will use LSTM and ARIMA forecasting models to predict the prices then we will see how we can implement the same using Auto Keras, which is an Auto ML Library."
   ]
  },
  {
   "cell_type": "markdown",
   "id": "NeopOmsXCbpT",
   "metadata": {
    "id": "NeopOmsXCbpT"
   },
   "source": [
    "## TimeLine of the project:\n",
    "- Data Analysis\n",
    "- Model Building and predictions using ML techniques\n",
    "- Model Building and prediction using Auto Keras(Auto ML)"
   ]
  },
  {
   "cell_type": "markdown",
   "id": "QLg5ZonYCxh7",
   "metadata": {
    "id": "QLg5ZonYCxh7"
   },
   "source": [
    "**Importing Libraries**"
   ]
  },
  {
   "cell_type": "code",
   "execution_count": 1,
   "id": "e315f51b",
   "metadata": {
    "id": "e315f51b"
   },
   "outputs": [],
   "source": [
    "import pandas as pd\n",
    "import numpy as np\n",
    "from matplotlib import pyplot as plt\n",
    "%matplotlib inline\n",
    "import matplotlib "
   ]
  },
  {
   "cell_type": "code",
   "execution_count": 2,
   "id": "23e09038",
   "metadata": {
    "id": "23e09038"
   },
   "outputs": [
    {
     "data": {
      "text/html": [
       "<div>\n",
       "<style scoped>\n",
       "    .dataframe tbody tr th:only-of-type {\n",
       "        vertical-align: middle;\n",
       "    }\n",
       "\n",
       "    .dataframe tbody tr th {\n",
       "        vertical-align: top;\n",
       "    }\n",
       "\n",
       "    .dataframe thead th {\n",
       "        text-align: right;\n",
       "    }\n",
       "</style>\n",
       "<table border=\"1\" class=\"dataframe\">\n",
       "  <thead>\n",
       "    <tr style=\"text-align: right;\">\n",
       "      <th></th>\n",
       "      <th>Date</th>\n",
       "      <th>Petrol (USD)</th>\n",
       "    </tr>\n",
       "  </thead>\n",
       "  <tbody>\n",
       "    <tr>\n",
       "      <th>0</th>\n",
       "      <td>6/9/2003</td>\n",
       "      <td>74.59</td>\n",
       "    </tr>\n",
       "    <tr>\n",
       "      <th>1</th>\n",
       "      <td>6/16/2003</td>\n",
       "      <td>74.47</td>\n",
       "    </tr>\n",
       "    <tr>\n",
       "      <th>2</th>\n",
       "      <td>6/23/2003</td>\n",
       "      <td>74.42</td>\n",
       "    </tr>\n",
       "    <tr>\n",
       "      <th>3</th>\n",
       "      <td>6/30/2003</td>\n",
       "      <td>74.35</td>\n",
       "    </tr>\n",
       "    <tr>\n",
       "      <th>4</th>\n",
       "      <td>7/7/2003</td>\n",
       "      <td>74.28</td>\n",
       "    </tr>\n",
       "  </tbody>\n",
       "</table>\n",
       "</div>"
      ],
      "text/plain": [
       "        Date  Petrol (USD)\n",
       "0   6/9/2003         74.59\n",
       "1  6/16/2003         74.47\n",
       "2  6/23/2003         74.42\n",
       "3  6/30/2003         74.35\n",
       "4   7/7/2003         74.28"
      ]
     },
     "execution_count": 2,
     "metadata": {},
     "output_type": "execute_result"
    }
   ],
   "source": [
    "df1 = pd.read_csv(\"train_data.csv\")\n",
    "df1.head()"
   ]
  },
  {
   "cell_type": "markdown",
   "id": "E7SE4p_WHk-v",
   "metadata": {
    "id": "E7SE4p_WHk-v"
   },
   "source": [
    "**Data Analysis and splitting the data**"
   ]
  },
  {
   "cell_type": "code",
   "execution_count": 3,
   "id": "yRE7X5FfSeqt",
   "metadata": {
    "id": "yRE7X5FfSeqt"
   },
   "outputs": [
    {
     "data": {
      "text/plain": [
       "Date            0\n",
       "Petrol (USD)    2\n",
       "dtype: int64"
      ]
     },
     "execution_count": 3,
     "metadata": {},
     "output_type": "execute_result"
    }
   ],
   "source": [
    "df1.head()\n",
    "df1.isnull().sum()"
   ]
  },
  {
   "cell_type": "code",
   "execution_count": 4,
   "id": "ffb74343",
   "metadata": {
    "id": "ffb74343"
   },
   "outputs": [],
   "source": [
    "df2 = df1.dropna()"
   ]
  },
  {
   "cell_type": "code",
   "execution_count": 5,
   "id": "e6c0da0d",
   "metadata": {
    "id": "e6c0da0d"
   },
   "outputs": [
    {
     "name": "stderr",
     "output_type": "stream",
     "text": [
      "C:\\Users\\sadpa\\anaconda3\\envs\\pyspark\\lib\\site-packages\\pandas\\core\\frame.py:5039: SettingWithCopyWarning: \n",
      "A value is trying to be set on a copy of a slice from a DataFrame\n",
      "\n",
      "See the caveats in the documentation: https://pandas.pydata.org/pandas-docs/stable/user_guide/indexing.html#returning-a-view-versus-a-copy\n",
      "  return super().rename(\n"
     ]
    },
    {
     "data": {
      "text/html": [
       "<div>\n",
       "<style scoped>\n",
       "    .dataframe tbody tr th:only-of-type {\n",
       "        vertical-align: middle;\n",
       "    }\n",
       "\n",
       "    .dataframe tbody tr th {\n",
       "        vertical-align: top;\n",
       "    }\n",
       "\n",
       "    .dataframe thead th {\n",
       "        text-align: right;\n",
       "    }\n",
       "</style>\n",
       "<table border=\"1\" class=\"dataframe\">\n",
       "  <thead>\n",
       "    <tr style=\"text-align: right;\">\n",
       "      <th></th>\n",
       "      <th>Date</th>\n",
       "      <th>Petrol</th>\n",
       "    </tr>\n",
       "  </thead>\n",
       "  <tbody>\n",
       "    <tr>\n",
       "      <th>0</th>\n",
       "      <td>6/9/2003</td>\n",
       "      <td>74.59</td>\n",
       "    </tr>\n",
       "    <tr>\n",
       "      <th>1</th>\n",
       "      <td>6/16/2003</td>\n",
       "      <td>74.47</td>\n",
       "    </tr>\n",
       "    <tr>\n",
       "      <th>2</th>\n",
       "      <td>6/23/2003</td>\n",
       "      <td>74.42</td>\n",
       "    </tr>\n",
       "    <tr>\n",
       "      <th>3</th>\n",
       "      <td>6/30/2003</td>\n",
       "      <td>74.35</td>\n",
       "    </tr>\n",
       "    <tr>\n",
       "      <th>4</th>\n",
       "      <td>7/7/2003</td>\n",
       "      <td>74.28</td>\n",
       "    </tr>\n",
       "  </tbody>\n",
       "</table>\n",
       "</div>"
      ],
      "text/plain": [
       "        Date  Petrol\n",
       "0   6/9/2003   74.59\n",
       "1  6/16/2003   74.47\n",
       "2  6/23/2003   74.42\n",
       "3  6/30/2003   74.35\n",
       "4   7/7/2003   74.28"
      ]
     },
     "execution_count": 5,
     "metadata": {},
     "output_type": "execute_result"
    }
   ],
   "source": [
    "df2.rename(columns={\"Petrol (USD)\": \"Petrol\"}, inplace = True)\n",
    "df2.head()"
   ]
  },
  {
   "cell_type": "code",
   "execution_count": 6,
   "id": "hqggRBHHN0QI",
   "metadata": {
    "id": "hqggRBHHN0QI"
   },
   "outputs": [
    {
     "data": {
      "text/plain": [
       "<matplotlib.collections.PathCollection at 0x15e5d81b550>"
      ]
     },
     "execution_count": 6,
     "metadata": {},
     "output_type": "execute_result"
    },
    {
     "data": {
      "image/png": "[encoded data removed]",
      "text/plain": [
       "<Figure size 432x288 with 1 Axes>"
      ]
     },
     "metadata": {
      "needs_background": "light"
     },
     "output_type": "display_data"
    }
   ],
   "source": [
    "plt.scatter(df2.Date, df2.Petrol,color='red',label='Prices', s=50)"
   ]
  },
  {
   "cell_type": "code",
   "execution_count": 7,
   "id": "538544df",
   "metadata": {
    "id": "538544df"
   },
   "outputs": [
    {
     "data": {
      "text/plain": [
       "<matplotlib.collections.PathCollection at 0x15e5f16d430>"
      ]
     },
     "execution_count": 7,
     "metadata": {},
     "output_type": "execute_result"
    },
    {
     "data": {
      "image/png": "[encoded data removed]",
      "text/plain": [
       "<Figure size 432x288 with 1 Axes>"
      ]
     },
     "metadata": {
      "needs_background": "light"
     },
     "output_type": "display_data"
    }
   ],
   "source": [
    "df3=df2[df2.Petrol<160]\n",
    "plt.scatter(df3.Date, df3.Petrol,color='blue',label='Prices', s=50)\n"
   ]
  },
  {
   "cell_type": "code",
   "execution_count": 8,
   "id": "3670d115",
   "metadata": {
    "id": "3670d115"
   },
   "outputs": [
    {
     "data": {
      "text/plain": [
       "0    74.59\n",
       "1    74.47\n",
       "2    74.42\n",
       "3    74.35\n",
       "4    74.28\n",
       "Name: Petrol, dtype: float64"
      ]
     },
     "execution_count": 8,
     "metadata": {},
     "output_type": "execute_result"
    }
   ],
   "source": [
    "df4=df3.reset_index()['Petrol']\n",
    "df4.head()"
   ]
  },
  {
   "cell_type": "code",
   "execution_count": 9,
   "id": "2d8aa241",
   "metadata": {
    "id": "2d8aa241"
   },
   "outputs": [],
   "source": [
    "from sklearn.preprocessing import MinMaxScaler\n",
    "scaler=MinMaxScaler(feature_range=(0,1))\n",
    "df4=scaler.fit_transform(np.array(df4).reshape(-1,1))"
   ]
  },
  {
   "cell_type": "code",
   "execution_count": 10,
   "id": "B713sYwzOf-r",
   "metadata": {
    "id": "B713sYwzOf-r"
   },
   "outputs": [
    {
     "data": {
      "text/plain": [
       "array([[0.00559152],\n",
       "       [0.00382578],\n",
       "       [0.00309005],\n",
       "       [0.00206004],\n",
       "       [0.00103002],\n",
       "       [0.        ],\n",
       "       [0.0126545 ],\n",
       "       [0.01309594],\n",
       "       [0.01339023],\n",
       "       [0.01809888],\n",
       "       [0.02354326],\n",
       "       [0.02707475],\n",
       "       [0.02825191],\n",
       "       [0.02972337],\n",
       "       [0.02928193],\n",
       "       [0.0285462 ],\n",
       "       [0.02751619],\n",
       "       [0.03266627],\n",
       "       [0.02486757],\n",
       "       [0.02707475],\n",
       "       [0.02633902],\n",
       "       [0.02633902],\n",
       "       [0.02545615],\n",
       "       [0.02530901],\n",
       "       [0.02663331],\n",
       "       [0.02633902],\n",
       "       [0.02589759],\n",
       "       [0.02575044],\n",
       "       [0.02516186],\n",
       "       [0.02545615],\n",
       "       [0.02457328],\n",
       "       [0.02486757],\n",
       "       [0.03163626],\n",
       "       [0.03281342],\n",
       "       [0.033402  ],\n",
       "       [0.03369629],\n",
       "       [0.03281342],\n",
       "       [0.03193055],\n",
       "       [0.03104768],\n",
       "       [0.03708064],\n",
       "       [0.04679223],\n",
       "       [0.04752796],\n",
       "       [0.04973514],\n",
       "       [0.05370806],\n",
       "       [0.05400235],\n",
       "       [0.05635668],\n",
       "       [0.06165391],\n",
       "       [0.07460271],\n",
       "       [0.08961154],\n",
       "       [0.10712184],\n",
       "       [0.11653914],\n",
       "       [0.11977634],\n",
       "       [0.12110065],\n",
       "       [0.10785756],\n",
       "       [0.10050029],\n",
       "       [0.09123014],\n",
       "       [0.08328428],\n",
       "       [0.09020012],\n",
       "       [0.09755739],\n",
       "       [0.09799882],\n",
       "       [0.09785168],\n",
       "       [0.10256033],\n",
       "       [0.10359035],\n",
       "       [0.10741613],\n",
       "       [0.10771042],\n",
       "       [0.10535609],\n",
       "       [0.10447322],\n",
       "       [0.10403178],\n",
       "       [0.10918187],\n",
       "       [0.11536198],\n",
       "       [0.13095939],\n",
       "       [0.13449088],\n",
       "       [0.14317245],\n",
       "       [0.14802825],\n",
       "       [0.14905827],\n",
       "       [0.14788111],\n",
       "       [0.1066804 ],\n",
       "       [0.1465568 ],\n",
       "       [0.1449382 ],\n",
       "       [0.1066804 ],\n",
       "       [0.10285462],\n",
       "       [0.10241318],\n",
       "       [0.08284285],\n",
       "       [0.06945262],\n",
       "       [0.06945262],\n",
       "       [0.07842849],\n",
       "       [0.08284285],\n",
       "       [0.08563861],\n",
       "       [0.08740436],\n",
       "       [0.09181872],\n",
       "       [0.10226604],\n",
       "       [0.10932902],\n",
       "       [0.12492643],\n",
       "       [0.1352266 ],\n",
       "       [0.14273102],\n",
       "       [0.16774573],\n",
       "       [0.16804002],\n",
       "       [0.16627428],\n",
       "       [0.16524426],\n",
       "       [0.1640671 ],\n",
       "       [0.16274279],\n",
       "       [0.15538552],\n",
       "       [0.14670394],\n",
       "       [0.14420247],\n",
       "       [0.15862272],\n",
       "       [0.16642142],\n",
       "       [0.18422602],\n",
       "       [0.19540906],\n",
       "       [0.19894055],\n",
       "       [0.21100647],\n",
       "       [0.21762802],\n",
       "       [0.22130665],\n",
       "       [0.22748676],\n",
       "       [0.2405827 ],\n",
       "       [0.24367275],\n",
       "       [0.2532372 ],\n",
       "       [0.29664509],\n",
       "       [0.30694526],\n",
       "       [0.29723367],\n",
       "       [0.28134197],\n",
       "       [0.28399058],\n",
       "       [0.29487934],\n",
       "       [0.29326074],\n",
       "       [0.283402  ],\n",
       "       [0.26868746],\n",
       "       [0.24014126],\n",
       "       [0.21188935],\n",
       "       [0.19334903],\n",
       "       [0.19334903],\n",
       "       [0.19114185],\n",
       "       [0.19643908],\n",
       "       [0.20114773],\n",
       "       [0.20335491],\n",
       "       [0.21115362],\n",
       "       [0.21777516],\n",
       "       [0.22572101],\n",
       "       [0.23057681],\n",
       "       [0.22836963],\n",
       "       [0.22719247],\n",
       "       [0.22645674],\n",
       "       [0.2230724 ],\n",
       "       [0.22572101],\n",
       "       [0.23513832],\n",
       "       [0.24941142],\n",
       "       [0.25853443],\n",
       "       [0.27310182],\n",
       "       [0.29458505],\n",
       "       [0.31106533],\n",
       "       [0.32254267],\n",
       "       [0.32739847],\n",
       "       [0.32636845],\n",
       "       [0.32210124],\n",
       "       [0.31121248],\n",
       "       [0.30944673],\n",
       "       [0.31312537],\n",
       "       [0.31238964],\n",
       "       [0.30547381],\n",
       "       [0.30988817],\n",
       "       [0.31606828],\n",
       "       [0.33357858],\n",
       "       [0.34682166],\n",
       "       [0.34755739],\n",
       "       [0.35079459],\n",
       "       [0.34741024],\n",
       "       [0.316804  ],\n",
       "       [0.29708652],\n",
       "       [0.27472042],\n",
       "       [0.25412007],\n",
       "       [0.22910536],\n",
       "       [0.20585639],\n",
       "       [0.18746321],\n",
       "       [0.18231313],\n",
       "       [0.17216009],\n",
       "       [0.16965862],\n",
       "       [0.16759859],\n",
       "       [0.16671572],\n",
       "       [0.16597999],\n",
       "       [0.1656857 ],\n",
       "       [0.16553855],\n",
       "       [0.19467334],\n",
       "       [0.19849912],\n",
       "       [0.20144202],\n",
       "       [0.2007063 ],\n",
       "       [0.19791054],\n",
       "       [0.18967039],\n",
       "       [0.17760447],\n",
       "       [0.16848146],\n",
       "       [0.16789288],\n",
       "       [0.17525015],\n",
       "       [0.18231313],\n",
       "       [0.18922896],\n",
       "       [0.1990877 ],\n",
       "       [0.20997646],\n",
       "       [0.216598  ],\n",
       "       [0.22233667],\n",
       "       [0.23925839],\n",
       "       [0.24970571],\n",
       "       [0.26162448],\n",
       "       [0.27545615],\n",
       "       [0.28310771],\n",
       "       [0.29752796],\n",
       "       [0.30694526],\n",
       "       [0.31636257],\n",
       "       [0.32298411],\n",
       "       [0.3281342 ],\n",
       "       [0.32960565],\n",
       "       [0.32886992],\n",
       "       [0.32857563],\n",
       "       [0.32592702],\n",
       "       [0.32357269],\n",
       "       [0.32371984],\n",
       "       [0.32401413],\n",
       "       [0.32357269],\n",
       "       [0.32283696],\n",
       "       [0.32062978],\n",
       "       [0.31047675],\n",
       "       [0.30591524],\n",
       "       [0.30297234],\n",
       "       [0.30047087],\n",
       "       [0.30076516],\n",
       "       [0.30459094],\n",
       "       [0.32636845],\n",
       "       [0.33740436],\n",
       "       [0.33814008],\n",
       "       [0.3472631 ],\n",
       "       [0.35388464],\n",
       "       [0.37007063],\n",
       "       [0.39037669],\n",
       "       [0.4011183 ],\n",
       "       [0.4108299 ],\n",
       "       [0.41745144],\n",
       "       [0.41877575],\n",
       "       [0.41774573],\n",
       "       [0.41671572],\n",
       "       [0.41862861],\n",
       "       [0.42907593],\n",
       "       [0.43569747],\n",
       "       [0.44158328],\n",
       "       [0.44158328],\n",
       "       [0.43878752],\n",
       "       [0.43349029],\n",
       "       [0.43393172],\n",
       "       [0.44791054],\n",
       "       [0.45659211],\n",
       "       [0.46718658],\n",
       "       [0.47380812],\n",
       "       [0.48101825],\n",
       "       [0.48396115],\n",
       "       [0.48602119],\n",
       "       [0.49146557],\n",
       "       [0.50559152],\n",
       "       [0.51927604],\n",
       "       [0.53104768],\n",
       "       [0.54193643],\n",
       "       [0.57018835],\n",
       "       [0.59711595],\n",
       "       [0.61536198],\n",
       "       [0.62757504],\n",
       "       [0.63978811],\n",
       "       [0.65082401],\n",
       "       [0.65670983],\n",
       "       [0.66318423],\n",
       "       [0.66553855],\n",
       "       [0.66494997],\n",
       "       [0.62831077],\n",
       "       [0.60108888],\n",
       "       [0.5843143 ],\n",
       "       [0.55929959],\n",
       "       [0.55635668],\n",
       "       [0.5590053 ],\n",
       "       [0.56415539],\n",
       "       [0.5635668 ],\n",
       "       [0.53855209],\n",
       "       [0.52442613],\n",
       "       [0.51854032],\n",
       "       [0.48307828],\n",
       "       [0.41862861],\n",
       "       [0.35918187],\n",
       "       [0.34123014],\n",
       "       [0.31901118],\n",
       "       [0.30341377],\n",
       "       [0.27339612],\n",
       "       [0.25397293],\n",
       "       [0.23469688],\n",
       "       [0.21865803],\n",
       "       [0.20306062],\n",
       "       [0.19320188],\n",
       "       [0.16494997],\n",
       "       [0.17377869],\n",
       "       [0.17628016],\n",
       "       [0.19437905],\n",
       "       [0.2052678 ],\n",
       "       [0.22174809],\n",
       "       [0.2341083 ],\n",
       "       [0.23719835],\n",
       "       [0.23646263],\n",
       "       [0.23454974],\n",
       "       [0.23469688],\n",
       "       [0.23469688],\n",
       "       [0.25220718],\n",
       "       [0.28708064],\n",
       "       [0.29281931],\n",
       "       [0.30032372],\n",
       "       [0.30782813],\n",
       "       [0.31474397],\n",
       "       [0.32931136],\n",
       "       [0.34329017],\n",
       "       [0.36330194],\n",
       "       [0.37051207],\n",
       "       [0.38816951],\n",
       "       [0.40862272],\n",
       "       [0.42083579],\n",
       "       [0.42804591],\n",
       "       [0.43201883],\n",
       "       [0.42039435],\n",
       "       [0.41215421],\n",
       "       [0.41141848],\n",
       "       [0.41421424],\n",
       "       [0.42377869],\n",
       "       [0.4377575 ],\n",
       "       [0.44864626],\n",
       "       [0.45467922],\n",
       "       [0.48028252],\n",
       "       [0.47410241],\n",
       "       [0.46718658],\n",
       "       [0.45953502],\n",
       "       [0.45114773],\n",
       "       [0.44879341],\n",
       "       [0.45423779],\n",
       "       [0.47895821],\n",
       "       [0.48881695],\n",
       "       [0.49867569],\n",
       "       [0.50426722],\n",
       "       [0.50794585],\n",
       "       [0.50882872],\n",
       "       [0.50662154],\n",
       "       [0.50456151],\n",
       "       [0.48940553],\n",
       "       [0.4889641 ],\n",
       "       [0.51692172],\n",
       "       [0.53722778],\n",
       "       [0.55017657],\n",
       "       [0.5541495 ],\n",
       "       [0.55473808],\n",
       "       [0.55532666],\n",
       "       [0.55444379],\n",
       "       [0.54958799],\n",
       "       [0.5622425 ],\n",
       "       [0.58122425],\n",
       "       [0.60697469],\n",
       "       [0.62360212],\n",
       "       [0.63375515],\n",
       "       [0.66333137],\n",
       "       [0.67289582],\n",
       "       [0.68187169],\n",
       "       [0.68834609],\n",
       "       [0.69114185],\n",
       "       [0.69305474],\n",
       "       [0.69290759],\n",
       "       [0.67274868],\n",
       "       [0.65229547],\n",
       "       [0.64729253],\n",
       "       [0.64243673],\n",
       "       [0.64140671],\n",
       "       [0.64258387],\n",
       "       [0.64302531],\n",
       "       [0.63537375],\n",
       "       [0.6274279 ],\n",
       "       [0.62389641],\n",
       "       [0.62242496],\n",
       "       [0.62007063],\n",
       "       [0.61992348],\n",
       "       [0.60962331],\n",
       "       [0.59991171],\n",
       "       [0.59417304],\n",
       "       [0.59520306],\n",
       "       [0.60108888],\n",
       "       [0.60594467],\n",
       "       [0.61506769],\n",
       "       [0.62639788],\n",
       "       [0.63375515],\n",
       "       [0.64052384],\n",
       "       [0.64699823],\n",
       "       [0.65420836],\n",
       "       [0.65612125],\n",
       "       [0.65891701],\n",
       "       [0.66215421],\n",
       "       [0.68172454],\n",
       "       [0.69849912],\n",
       "       [0.70776928],\n",
       "       [0.7243967 ],\n",
       "       [0.7451442 ],\n",
       "       [0.78266627],\n",
       "       [0.78958211],\n",
       "       [0.79664509],\n",
       "       [0.79958799],\n",
       "       [0.8009123 ],\n",
       "       [0.80223661],\n",
       "       [0.80503237],\n",
       "       [0.816804  ],\n",
       "       [0.83975868],\n",
       "       [0.85300177],\n",
       "       [0.86668629],\n",
       "       [0.85682755],\n",
       "       [0.86227192],\n",
       "       [0.87507357],\n",
       "       [0.89537964],\n",
       "       [0.90361978],\n",
       "       [0.91347852],\n",
       "       [0.92466157],\n",
       "       [0.91509712],\n",
       "       [0.9108299 ],\n",
       "       [0.90288405],\n",
       "       [0.90361978],\n",
       "       [0.90715127],\n",
       "       [0.90965274],\n",
       "       [0.89243673],\n",
       "       [0.87139494],\n",
       "       [0.88243084],\n",
       "       [0.89405533],\n",
       "       [0.90420836],\n",
       "       [0.91024132],\n",
       "       [0.91597999],\n",
       "       [0.90847557],\n",
       "       [0.88802237],\n",
       "       [0.88449088],\n",
       "       [0.88890524],\n",
       "       [0.89449676],\n",
       "       [0.90038258],\n",
       "       [0.90406121],\n",
       "       [0.89479105],\n",
       "       [0.88669806],\n",
       "       [0.88699235],\n",
       "       [0.88949382],\n",
       "       [0.89052384],\n",
       "       [0.88581519],\n",
       "       [0.87507357],\n",
       "       [0.87065921],\n",
       "       [0.86756916],\n",
       "       [0.86183049],\n",
       "       [0.85815185],\n",
       "       [0.85756327],\n",
       "       [0.85638611],\n",
       "       [0.85623896],\n",
       "       [0.86035903],\n",
       "       [0.8693349 ],\n",
       "       [0.87566215],\n",
       "       [0.88125368],\n",
       "       [0.88346086],\n",
       "       [0.89302531],\n",
       "       [0.89758682],\n",
       "       [0.91230135],\n",
       "       [0.9283402 ],\n",
       "       [0.93716892],\n",
       "       [0.95276633],\n",
       "       [0.96041789],\n",
       "       [0.98263685],\n",
       "       [0.99705709],\n",
       "       [1.        ],\n",
       "       [0.99396704],\n",
       "       [0.98278399],\n",
       "       [0.97012949],\n",
       "       [0.94290759],\n",
       "       [0.90582696],\n",
       "       [0.8852266 ],\n",
       "       [0.8806651 ],\n",
       "       [0.87492643],\n",
       "       [0.850206  ],\n",
       "       [0.84373161],\n",
       "       [0.82828134],\n",
       "       [0.83652148],\n",
       "       [0.84284873],\n",
       "       [0.8534432 ],\n",
       "       [0.86183049],\n",
       "       [0.87080636],\n",
       "       [0.88375515],\n",
       "       [0.90509123],\n",
       "       [0.92539729],\n",
       "       [0.93908181],\n",
       "       [0.95203061],\n",
       "       [0.95953502],\n",
       "       [0.96130077],\n",
       "       [0.94496763],\n",
       "       [0.94217187],\n",
       "       [0.94379046],\n",
       "       [0.94290759],\n",
       "       [0.92363155],\n",
       "       [0.91553855],\n",
       "       [0.89582107],\n",
       "       [0.88802237],\n",
       "       [0.88537375],\n",
       "       [0.86580341],\n",
       "       [0.85844614],\n",
       "       [0.85005886],\n",
       "       [0.84961742],\n",
       "       [0.84917599],\n",
       "       [0.84829311],\n",
       "       [0.85035315],\n",
       "       [0.8534432 ],\n",
       "       [0.86433196],\n",
       "       [0.88537375],\n",
       "       [0.9027369 ],\n",
       "       [0.9218658 ],\n",
       "       [0.94599765],\n",
       "       [0.96027075],\n",
       "       [0.96806945],\n",
       "       [0.93246027],\n",
       "       [0.92525015],\n",
       "       [0.9283402 ],\n",
       "       [0.92848735],\n",
       "       [0.92554444],\n",
       "       [0.90450265],\n",
       "       [0.88949382],\n",
       "       [0.87124779],\n",
       "       [0.86683343],\n",
       "       [0.86756916],\n",
       "       [0.87448499],\n",
       "       [0.88037081],\n",
       "       [0.88419659],\n",
       "       [0.88655091],\n",
       "       [0.88743378],\n",
       "       [0.87154208],\n",
       "       [0.87639788],\n",
       "       [0.89376104],\n",
       "       [0.90979988],\n",
       "       [0.92201295],\n",
       "       [0.92422013],\n",
       "       [0.92583873],\n",
       "       [0.92392584],\n",
       "       [0.92142437],\n",
       "       [0.92598587],\n",
       "       [0.93275456],\n",
       "       [0.93084167],\n",
       "       [0.92319011],\n",
       "       [0.8709535 ],\n",
       "       [0.84476162],\n",
       "       [0.84549735],\n",
       "       [0.84343732],\n",
       "       [0.84181872],\n",
       "       [0.81974691],\n",
       "       [0.81665686],\n",
       "       [0.81930547],\n",
       "       [0.82136551],\n",
       "       [0.82460271],\n",
       "       [0.83210712],\n",
       "       [0.83505003],\n",
       "       [0.8216598 ],\n",
       "       [0.82136551],\n",
       "       [0.82474985],\n",
       "       [0.82622131],\n",
       "       [0.81165391],\n",
       "       [0.80650383],\n",
       "       [0.80400235],\n",
       "       [0.80341377],\n",
       "       [0.80856386],\n",
       "       [0.80915244],\n",
       "       [0.81150677],\n",
       "       [0.8119482 ],\n",
       "       [0.80267805],\n",
       "       [0.79988228],\n",
       "       [0.80267805],\n",
       "       [0.80194232],\n",
       "       [0.80459094],\n",
       "       [0.80782813],\n",
       "       [0.80753384],\n",
       "       [0.81018246],\n",
       "       [0.8135668 ],\n",
       "       [0.81238964],\n",
       "       [0.81371395],\n",
       "       [0.81547969],\n",
       "       [0.81636257],\n",
       "       [0.81915833],\n",
       "       [0.82298411],\n",
       "       [0.8310771 ],\n",
       "       [0.83711006],\n",
       "       [0.83725721],\n",
       "       [0.83622719],\n",
       "       [0.83313714],\n",
       "       [0.81547969],\n",
       "       [0.8122425 ],\n",
       "       [0.81047675],\n",
       "       [0.79649794],\n",
       "       [0.79164214],\n",
       "       [0.79649794],\n",
       "       [0.79782225],\n",
       "       [0.80061801],\n",
       "       [0.80017657],\n",
       "       [0.77354326],\n",
       "       [0.76942319],\n",
       "       [0.7532372 ],\n",
       "       [0.74896998],\n",
       "       [0.73175397],\n",
       "       [0.71703943],\n",
       "       [0.71056504],\n",
       "       [0.70747499],\n",
       "       [0.69114185],\n",
       "       [0.67127722],\n",
       "       [0.6193349 ],\n",
       "       [0.58048852],\n",
       "       [0.57313125],\n",
       "       [0.54223072],\n",
       "       [0.51000589],\n",
       "       [0.47998823],\n",
       "       [0.47248381],\n",
       "       [0.46836374],\n",
       "       [0.47292525],\n",
       "       [0.48631548],\n",
       "       [0.50220718],\n",
       "       [0.51486168],\n",
       "       [0.52766333],\n",
       "       [0.54193643],\n",
       "       [0.5509123 ],\n",
       "       [0.55694526],\n",
       "       [0.56150677],\n",
       "       [0.56371395],\n",
       "       [0.56886404],\n",
       "       [0.57886992],\n",
       "       [0.58946439],\n",
       "       [0.60167746],\n",
       "       [0.61109476],\n",
       "       [0.61521483],\n",
       "       [0.61683343],\n",
       "       [0.61874632],\n",
       "       [0.62065921],\n",
       "       [0.62374926],\n",
       "       [0.62301354],\n",
       "       [0.61992348],\n",
       "       [0.6209535 ],\n",
       "       [0.62654503],\n",
       "       [0.62139494],\n",
       "       [0.61668629],\n",
       "       [0.60726898],\n",
       "       [0.5940259 ],\n",
       "       [0.57416127],\n",
       "       [0.5444379 ],\n",
       "       [0.5398764 ],\n",
       "       [0.53546204],\n",
       "       [0.53560918],\n",
       "       [0.51883461],\n",
       "       [0.5110359 ],\n",
       "       [0.51147734],\n",
       "       [0.51206592],\n",
       "       [0.49779282],\n",
       "       [0.48557975],\n",
       "       [0.48454974],\n",
       "       [0.48778693],\n",
       "       [0.48675692],\n",
       "       [0.48204826],\n",
       "       [0.47881107],\n",
       "       [0.43834609],\n",
       "       [0.41377281],\n",
       "       [0.41053561],\n",
       "       [0.40891701],\n",
       "       [0.40729841],\n",
       "       [0.4059741 ],\n",
       "       [0.40038258],\n",
       "       [0.39949971],\n",
       "       [0.40170689],\n",
       "       [0.40082401],\n",
       "       [0.39994114],\n",
       "       [0.40038258],\n",
       "       [0.40097116],\n",
       "       [0.40464979],\n",
       "       [0.41745144],\n",
       "       [0.42951736],\n",
       "       [0.4458505 ],\n",
       "       [0.45879929],\n",
       "       [0.47380812],\n",
       "       [0.48454974],\n",
       "       [0.49455562],\n",
       "       [0.5       ],\n",
       "       [0.50500294],\n",
       "       [0.51368452],\n",
       "       [0.52354326],\n",
       "       [0.53251913],\n",
       "       [0.54178929],\n",
       "       [0.54458505],\n",
       "       [0.54782225],\n",
       "       [0.5509123 ],\n",
       "       [0.55444379],\n",
       "       [0.55488523],\n",
       "       [0.55150088],\n",
       "       [0.54208358],\n",
       "       [0.52295468],\n",
       "       [0.51603885],\n",
       "       [0.52118893],\n",
       "       [0.53296057],\n",
       "       [0.54090642],\n",
       "       [0.54590936],\n",
       "       [0.54561507],\n",
       "       [0.54664509],\n",
       "       [0.5509123 ],\n",
       "       [0.56121248],\n",
       "       [0.58137139],\n",
       "       [0.60314891],\n",
       "       [0.61521483],\n",
       "       [0.62316068],\n",
       "       [0.62227781],\n",
       "       [0.59593879],\n",
       "       [0.58137139],\n",
       "       [0.58048852],\n",
       "       [0.58887581],\n",
       "       [0.600206  ],\n",
       "       [0.60682755],\n",
       "       [0.62963508],\n",
       "       [0.64405533],\n",
       "       [0.65361978],\n",
       "       [0.66539141],\n",
       "       [0.67392584],\n",
       "       [0.67642731],\n",
       "       [0.67598587],\n",
       "       [0.6767216 ],\n",
       "       [0.67554444],\n",
       "       [0.67407298],\n",
       "       [0.67083579],\n",
       "       [0.65832843],\n",
       "       [0.64479105],\n",
       "       [0.62860506],\n",
       "       [0.62992937],\n",
       "       [0.63758093],\n",
       "       [0.6465568 ],\n",
       "       [0.64552678],\n",
       "       [0.63051795],\n",
       "       [0.60903473],\n",
       "       [0.61006474],\n",
       "       [0.61183049],\n",
       "       [0.61227192],\n",
       "       [0.61035903],\n",
       "       [0.60197175],\n",
       "       [0.59181872],\n",
       "       [0.58166569],\n",
       "       [0.57931136],\n",
       "       [0.58387287],\n",
       "       [0.58534432],\n",
       "       [0.58784579],\n",
       "       [0.59696881],\n",
       "       [0.60800471],\n",
       "       [0.61550912],\n",
       "       [0.62080636],\n",
       "       [0.62889935],\n",
       "       [0.64640965],\n",
       "       [0.65685697],\n",
       "       [0.65715127],\n",
       "       [0.64626251],\n",
       "       [0.63198941],\n",
       "       [0.62978222],\n",
       "       [0.63022366],\n",
       "       [0.63051795],\n",
       "       [0.63802237],\n",
       "       [0.65773985],\n",
       "       [0.6689229 ],\n",
       "       [0.67569158],\n",
       "       [0.67010006],\n",
       "       [0.67245438],\n",
       "       [0.6734844 ],\n",
       "       [0.67377869],\n",
       "       [0.67657446],\n",
       "       [0.68143025],\n",
       "       [0.68790465],\n",
       "       [0.6958505 ],\n",
       "       [0.69864626],\n",
       "       [0.69923484],\n",
       "       [0.69702766],\n",
       "       [0.68143025],\n",
       "       [0.66715715],\n",
       "       [0.66333137],\n",
       "       [0.66068275],\n",
       "       [0.66156563],\n",
       "       [0.6624485 ],\n",
       "       [0.66539141],\n",
       "       [0.67319011],\n",
       "       [0.68201883],\n",
       "       [0.69496763],\n",
       "       [0.70644497],\n",
       "       [0.72189523],\n",
       "       [0.7373455 ],\n",
       "       [0.7610359 ],\n",
       "       [0.78531489],\n",
       "       [0.79782225],\n",
       "       [0.80047087],\n",
       "       [0.79031783],\n",
       "       [0.77942908],\n",
       "       [0.77001177],\n",
       "       [0.77633902],\n",
       "       [0.78369629],\n",
       "       [0.78413773],\n",
       "       [0.78472631],\n",
       "       [0.79178929],\n",
       "       [0.79723367],\n",
       "       [0.80311948],\n",
       "       [0.80885815],\n",
       "       [0.81739258],\n",
       "       [0.82445556],\n",
       "       [0.82960565],\n",
       "       [0.82960565],\n",
       "       [0.82062978],\n",
       "       [0.82313125],\n",
       "       [0.83284285],\n",
       "       [0.83534432],\n",
       "       [0.83034138],\n",
       "       [0.82254267],\n",
       "       [0.80532666],\n",
       "       [0.78266627],\n",
       "       [0.75868158],\n",
       "       [0.73705121],\n",
       "       [0.70865215],\n",
       "       [0.68878752],\n",
       "       [0.68275456],\n",
       "       [0.67642731]])"
      ]
     },
     "execution_count": 10,
     "metadata": {},
     "output_type": "execute_result"
    }
   ],
   "source": [
    "df4"
   ]
  },
  {
   "cell_type": "code",
   "execution_count": 11,
   "id": "1a123c80",
   "metadata": {
    "id": "1a123c80"
   },
   "outputs": [],
   "source": [
    "training_size=int(len(df4)*0.65)\n",
    "test_size=len(df4)-training_size\n",
    "train_data,test_data=df4[0:training_size,:],df4[training_size:len(df4),:1]"
   ]
  },
  {
   "cell_type": "code",
   "execution_count": 12,
   "id": "IQfKh3_yTwhE",
   "metadata": {
    "id": "IQfKh3_yTwhE"
   },
   "outputs": [
    {
     "data": {
      "text/plain": [
       "(284, 1)"
      ]
     },
     "execution_count": 12,
     "metadata": {},
     "output_type": "execute_result"
    }
   ],
   "source": [
    "train_data.shape\n",
    "test_data.shape"
   ]
  },
  {
   "cell_type": "markdown",
   "id": "tYDEjWEoZauH",
   "metadata": {
    "id": "tYDEjWEoZauH"
   },
   "source": [
    "**Data Preprocessing**"
   ]
  },
  {
   "cell_type": "code",
   "execution_count": 13,
   "id": "0dc8a949",
   "metadata": {
    "id": "0dc8a949"
   },
   "outputs": [],
   "source": [
    " import numpy\n",
    "# convert an array of values into a dataset matrix\n",
    "def create_dataset(dataset, time_step=1):\n",
    "\tdataX, dataY = [], []\n",
    "\tfor i in range(len(dataset)-time_step-1):\n",
    "\t\ta = dataset[i:(i+time_step), 0]   ###i=0, 0,1,2,3-----99   100 \n",
    "\t\tdataX.append(a)\n",
    "\t\tdataY.append(dataset[i + time_step, 0])\n",
    "\treturn numpy.array(dataX), numpy.array(dataY)"
   ]
  },
  {
   "cell_type": "code",
   "execution_count": 14,
   "id": "39785275",
   "metadata": {
    "id": "39785275"
   },
   "outputs": [],
   "source": [
    "# reshape into X=t,t+1,t+2,t+3 and Y=t+4\n",
    "time_step = 100\n",
    "X_train, y_train = create_dataset(train_data, time_step)\n",
    "X_test, ytest = create_dataset(test_data, time_step)"
   ]
  },
  {
   "cell_type": "code",
   "execution_count": 15,
   "id": "mLHLpdmpcBlC",
   "metadata": {
    "id": "mLHLpdmpcBlC"
   },
   "outputs": [
    {
     "data": {
      "text/plain": [
       "array([[0.00559152, 0.00382578, 0.00309005, ..., 0.16627428, 0.16524426,\n",
       "        0.1640671 ],\n",
       "       [0.00382578, 0.00309005, 0.00206004, ..., 0.16524426, 0.1640671 ,\n",
       "        0.16274279],\n",
       "       [0.00309005, 0.00206004, 0.00103002, ..., 0.1640671 , 0.16274279,\n",
       "        0.15538552],\n",
       "       ...,\n",
       "       [0.91024132, 0.91597999, 0.90847557, ..., 0.88419659, 0.88655091,\n",
       "        0.88743378],\n",
       "       [0.91597999, 0.90847557, 0.88802237, ..., 0.88655091, 0.88743378,\n",
       "        0.87154208],\n",
       "       [0.90847557, 0.88802237, 0.88449088, ..., 0.88743378, 0.87154208,\n",
       "        0.87639788]])"
      ]
     },
     "execution_count": 15,
     "metadata": {},
     "output_type": "execute_result"
    }
   ],
   "source": [
    "X_train"
   ]
  },
  {
   "cell_type": "code",
   "execution_count": 16,
   "id": "8o7UzuZEcFhl",
   "metadata": {
    "id": "8o7UzuZEcFhl"
   },
   "outputs": [
    {
     "data": {
      "text/plain": [
       "array([0.16274279, 0.15538552, 0.14670394, 0.14420247, 0.15862272,\n",
       "       0.16642142, 0.18422602, 0.19540906, 0.19894055, 0.21100647,\n",
       "       0.21762802, 0.22130665, 0.22748676, 0.2405827 , 0.24367275,\n",
       "       0.2532372 , 0.29664509, 0.30694526, 0.29723367, 0.28134197,\n",
       "       0.28399058, 0.29487934, 0.29326074, 0.283402  , 0.26868746,\n",
       "       0.24014126, 0.21188935, 0.19334903, 0.19334903, 0.19114185,\n",
       "       0.19643908, 0.20114773, 0.20335491, 0.21115362, 0.21777516,\n",
       "       0.22572101, 0.23057681, 0.22836963, 0.22719247, 0.22645674,\n",
       "       0.2230724 , 0.22572101, 0.23513832, 0.24941142, 0.25853443,\n",
       "       0.27310182, 0.29458505, 0.31106533, 0.32254267, 0.32739847,\n",
       "       0.32636845, 0.32210124, 0.31121248, 0.30944673, 0.31312537,\n",
       "       0.31238964, 0.30547381, 0.30988817, 0.31606828, 0.33357858,\n",
       "       0.34682166, 0.34755739, 0.35079459, 0.34741024, 0.316804  ,\n",
       "       0.29708652, 0.27472042, 0.25412007, 0.22910536, 0.20585639,\n",
       "       0.18746321, 0.18231313, 0.17216009, 0.16965862, 0.16759859,\n",
       "       0.16671572, 0.16597999, 0.1656857 , 0.16553855, 0.19467334,\n",
       "       0.19849912, 0.20144202, 0.2007063 , 0.19791054, 0.18967039,\n",
       "       0.17760447, 0.16848146, 0.16789288, 0.17525015, 0.18231313,\n",
       "       0.18922896, 0.1990877 , 0.20997646, 0.216598  , 0.22233667,\n",
       "       0.23925839, 0.24970571, 0.26162448, 0.27545615, 0.28310771,\n",
       "       0.29752796, 0.30694526, 0.31636257, 0.32298411, 0.3281342 ,\n",
       "       0.32960565, 0.32886992, 0.32857563, 0.32592702, 0.32357269,\n",
       "       0.32371984, 0.32401413, 0.32357269, 0.32283696, 0.32062978,\n",
       "       0.31047675, 0.30591524, 0.30297234, 0.30047087, 0.30076516,\n",
       "       0.30459094, 0.32636845, 0.33740436, 0.33814008, 0.3472631 ,\n",
       "       0.35388464, 0.37007063, 0.39037669, 0.4011183 , 0.4108299 ,\n",
       "       0.41745144, 0.41877575, 0.41774573, 0.41671572, 0.41862861,\n",
       "       0.42907593, 0.43569747, 0.44158328, 0.44158328, 0.43878752,\n",
       "       0.43349029, 0.43393172, 0.44791054, 0.45659211, 0.46718658,\n",
       "       0.47380812, 0.48101825, 0.48396115, 0.48602119, 0.49146557,\n",
       "       0.50559152, 0.51927604, 0.53104768, 0.54193643, 0.57018835,\n",
       "       0.59711595, 0.61536198, 0.62757504, 0.63978811, 0.65082401,\n",
       "       0.65670983, 0.66318423, 0.66553855, 0.66494997, 0.62831077,\n",
       "       0.60108888, 0.5843143 , 0.55929959, 0.55635668, 0.5590053 ,\n",
       "       0.56415539, 0.5635668 , 0.53855209, 0.52442613, 0.51854032,\n",
       "       0.48307828, 0.41862861, 0.35918187, 0.34123014, 0.31901118,\n",
       "       0.30341377, 0.27339612, 0.25397293, 0.23469688, 0.21865803,\n",
       "       0.20306062, 0.19320188, 0.16494997, 0.17377869, 0.17628016,\n",
       "       0.19437905, 0.2052678 , 0.22174809, 0.2341083 , 0.23719835,\n",
       "       0.23646263, 0.23454974, 0.23469688, 0.23469688, 0.25220718,\n",
       "       0.28708064, 0.29281931, 0.30032372, 0.30782813, 0.31474397,\n",
       "       0.32931136, 0.34329017, 0.36330194, 0.37051207, 0.38816951,\n",
       "       0.40862272, 0.42083579, 0.42804591, 0.43201883, 0.42039435,\n",
       "       0.41215421, 0.41141848, 0.41421424, 0.42377869, 0.4377575 ,\n",
       "       0.44864626, 0.45467922, 0.48028252, 0.47410241, 0.46718658,\n",
       "       0.45953502, 0.45114773, 0.44879341, 0.45423779, 0.47895821,\n",
       "       0.48881695, 0.49867569, 0.50426722, 0.50794585, 0.50882872,\n",
       "       0.50662154, 0.50456151, 0.48940553, 0.4889641 , 0.51692172,\n",
       "       0.53722778, 0.55017657, 0.5541495 , 0.55473808, 0.55532666,\n",
       "       0.55444379, 0.54958799, 0.5622425 , 0.58122425, 0.60697469,\n",
       "       0.62360212, 0.63375515, 0.66333137, 0.67289582, 0.68187169,\n",
       "       0.68834609, 0.69114185, 0.69305474, 0.69290759, 0.67274868,\n",
       "       0.65229547, 0.64729253, 0.64243673, 0.64140671, 0.64258387,\n",
       "       0.64302531, 0.63537375, 0.6274279 , 0.62389641, 0.62242496,\n",
       "       0.62007063, 0.61992348, 0.60962331, 0.59991171, 0.59417304,\n",
       "       0.59520306, 0.60108888, 0.60594467, 0.61506769, 0.62639788,\n",
       "       0.63375515, 0.64052384, 0.64699823, 0.65420836, 0.65612125,\n",
       "       0.65891701, 0.66215421, 0.68172454, 0.69849912, 0.70776928,\n",
       "       0.7243967 , 0.7451442 , 0.78266627, 0.78958211, 0.79664509,\n",
       "       0.79958799, 0.8009123 , 0.80223661, 0.80503237, 0.816804  ,\n",
       "       0.83975868, 0.85300177, 0.86668629, 0.85682755, 0.86227192,\n",
       "       0.87507357, 0.89537964, 0.90361978, 0.91347852, 0.92466157,\n",
       "       0.91509712, 0.9108299 , 0.90288405, 0.90361978, 0.90715127,\n",
       "       0.90965274, 0.89243673, 0.87139494, 0.88243084, 0.89405533,\n",
       "       0.90420836, 0.91024132, 0.91597999, 0.90847557, 0.88802237,\n",
       "       0.88449088, 0.88890524, 0.89449676, 0.90038258, 0.90406121,\n",
       "       0.89479105, 0.88669806, 0.88699235, 0.88949382, 0.89052384,\n",
       "       0.88581519, 0.87507357, 0.87065921, 0.86756916, 0.86183049,\n",
       "       0.85815185, 0.85756327, 0.85638611, 0.85623896, 0.86035903,\n",
       "       0.8693349 , 0.87566215, 0.88125368, 0.88346086, 0.89302531,\n",
       "       0.89758682, 0.91230135, 0.9283402 , 0.93716892, 0.95276633,\n",
       "       0.96041789, 0.98263685, 0.99705709, 1.        , 0.99396704,\n",
       "       0.98278399, 0.97012949, 0.94290759, 0.90582696, 0.8852266 ,\n",
       "       0.8806651 , 0.87492643, 0.850206  , 0.84373161, 0.82828134,\n",
       "       0.83652148, 0.84284873, 0.8534432 , 0.86183049, 0.87080636,\n",
       "       0.88375515, 0.90509123, 0.92539729, 0.93908181, 0.95203061,\n",
       "       0.95953502, 0.96130077, 0.94496763, 0.94217187, 0.94379046,\n",
       "       0.94290759, 0.92363155, 0.91553855, 0.89582107, 0.88802237,\n",
       "       0.88537375, 0.86580341, 0.85844614, 0.85005886, 0.84961742,\n",
       "       0.84917599, 0.84829311, 0.85035315, 0.8534432 , 0.86433196,\n",
       "       0.88537375, 0.9027369 , 0.9218658 , 0.94599765, 0.96027075,\n",
       "       0.96806945, 0.93246027, 0.92525015, 0.9283402 , 0.92848735,\n",
       "       0.92554444, 0.90450265, 0.88949382, 0.87124779, 0.86683343,\n",
       "       0.86756916, 0.87448499, 0.88037081, 0.88419659, 0.88655091,\n",
       "       0.88743378, 0.87154208, 0.87639788, 0.89376104])"
      ]
     },
     "execution_count": 16,
     "metadata": {},
     "output_type": "execute_result"
    }
   ],
   "source": [
    "y_train"
   ]
  },
  {
   "cell_type": "code",
   "execution_count": 17,
   "id": "005e586d",
   "metadata": {
    "id": "005e586d"
   },
   "outputs": [
    {
     "name": "stdout",
     "output_type": "stream",
     "text": [
      "(424, 100)\n",
      "(424,)\n"
     ]
    },
    {
     "data": {
      "text/plain": [
       "(None, None)"
      ]
     },
     "execution_count": 17,
     "metadata": {},
     "output_type": "execute_result"
    }
   ],
   "source": [
    "print(X_train.shape), print(y_train.shape)"
   ]
  },
  {
   "cell_type": "markdown",
   "id": "bJLSlRVajL9P",
   "metadata": {
    "id": "bJLSlRVajL9P"
   },
   "source": [
    "# LSTM "
   ]
  },
  {
   "cell_type": "code",
   "execution_count": 18,
   "id": "5a9aae2a",
   "metadata": {
    "id": "5a9aae2a"
   },
   "outputs": [],
   "source": [
    "X_train =X_train.reshape(X_train.shape[0],X_train.shape[1] , 1)\n",
    "X_test = X_test.reshape(X_test.shape[0],X_test.shape[1] , 1)"
   ]
  },
  {
   "cell_type": "code",
   "execution_count": 20,
   "id": "532cccd8",
   "metadata": {
    "scrolled": true
   },
   "outputs": [
    {
     "name": "stdout",
     "output_type": "stream",
     "text": [
      "Collecting tensorflow\n",
      "  Using cached tensorflow-2.8.0-cp39-cp39-win_amd64.whl (438.0 MB)\n",
      "Collecting keras-preprocessing>=1.1.1\n",
      "  Using cached Keras_Preprocessing-1.1.2-py2.py3-none-any.whl (42 kB)\n",
      "Collecting absl-py>=0.4.0\n",
      "  Using cached absl_py-1.0.0-py3-none-any.whl (126 kB)\n",
      "Requirement already satisfied: grpcio<2.0,>=1.24.3 in c:\\users\\sadpa\\anaconda3\\envs\\pyspark\\lib\\site-packages (from tensorflow) (1.43.0)\n",
      "Collecting astunparse>=1.6.0\n",
      "  Using cached astunparse-1.6.3-py2.py3-none-any.whl (12 kB)\n",
      "Collecting tensorboard<2.9,>=2.8\n",
      "  Using cached tensorboard-2.8.0-py3-none-any.whl (5.8 MB)\n",
      "Collecting termcolor>=1.1.0\n",
      "  Using cached termcolor-1.1.0-py3-none-any.whl\n",
      "Collecting google-pasta>=0.1.1\n",
      "  Using cached google_pasta-0.2.0-py3-none-any.whl (57 kB)\n",
      "Requirement already satisfied: setuptools in c:\\users\\sadpa\\anaconda3\\envs\\pyspark\\lib\\site-packages (from tensorflow) (58.0.4)\n",
      "Requirement already satisfied: protobuf>=3.9.2 in c:\\users\\sadpa\\anaconda3\\envs\\pyspark\\lib\\site-packages (from tensorflow) (3.19.4)\n",
      "Collecting gast>=0.2.1\n",
      "  Using cached gast-0.5.3-py3-none-any.whl (19 kB)\n",
      "Collecting h5py>=2.9.0\n",
      "  Downloading h5py-3.6.0-cp39-cp39-win_amd64.whl (2.8 MB)\n",
      "Collecting libclang>=9.0.1\n",
      "  Using cached libclang-13.0.0-py2.py3-none-win_amd64.whl (13.9 MB)\n",
      "Requirement already satisfied: six>=1.12.0 in c:\\users\\sadpa\\anaconda3\\envs\\pyspark\\lib\\site-packages (from tensorflow) (1.16.0)\n",
      "Collecting tensorflow-io-gcs-filesystem>=0.23.1\n",
      "  Using cached tensorflow_io_gcs_filesystem-0.24.0-cp39-cp39-win_amd64.whl (1.5 MB)\n",
      "Collecting keras<2.9,>=2.8.0rc0\n",
      "  Using cached keras-2.8.0-py2.py3-none-any.whl (1.4 MB)\n",
      "Requirement already satisfied: wrapt>=1.11.0 in c:\\users\\sadpa\\anaconda3\\envs\\pyspark\\lib\\site-packages (from tensorflow) (1.14.0)\n",
      "Collecting tf-estimator-nightly==2.8.0.dev2021122109\n",
      "  Using cached tf_estimator_nightly-2.8.0.dev2021122109-py2.py3-none-any.whl (462 kB)\n",
      "Requirement already satisfied: numpy>=1.20 in c:\\users\\sadpa\\anaconda3\\envs\\pyspark\\lib\\site-packages (from tensorflow) (1.21.5)\n",
      "Collecting flatbuffers>=1.12\n",
      "  Using cached flatbuffers-2.0-py2.py3-none-any.whl (26 kB)\n",
      "Requirement already satisfied: typing-extensions>=3.6.6 in c:\\users\\sadpa\\anaconda3\\envs\\pyspark\\lib\\site-packages (from tensorflow) (4.1.1)\n",
      "Collecting opt-einsum>=2.3.2\n",
      "  Using cached opt_einsum-3.3.0-py3-none-any.whl (65 kB)\n",
      "Requirement already satisfied: wheel<1.0,>=0.23.0 in c:\\users\\sadpa\\anaconda3\\envs\\pyspark\\lib\\site-packages (from astunparse>=1.6.0->tensorflow) (0.37.1)\n",
      "Collecting markdown>=2.6.8\n",
      "  Using cached Markdown-3.3.6-py3-none-any.whl (97 kB)\n",
      "Collecting tensorboard-plugin-wit>=1.6.0\n",
      "  Using cached tensorboard_plugin_wit-1.8.1-py3-none-any.whl (781 kB)\n",
      "Collecting tensorboard-data-server<0.7.0,>=0.6.0\n",
      "  Using cached tensorboard_data_server-0.6.1-py3-none-any.whl (2.4 kB)\n",
      "Collecting google-auth-oauthlib<0.5,>=0.4.1\n",
      "  Using cached google_auth_oauthlib-0.4.6-py2.py3-none-any.whl (18 kB)\n",
      "Requirement already satisfied: google-auth<3,>=1.6.3 in c:\\users\\sadpa\\anaconda3\\envs\\pyspark\\lib\\site-packages (from tensorboard<2.9,>=2.8->tensorflow) (2.6.0)\n",
      "Requirement already satisfied: werkzeug>=0.11.15 in c:\\users\\sadpa\\anaconda3\\envs\\pyspark\\lib\\site-packages (from tensorboard<2.9,>=2.8->tensorflow) (2.0.3)\n",
      "Requirement already satisfied: requests<3,>=2.21.0 in c:\\users\\sadpa\\anaconda3\\envs\\pyspark\\lib\\site-packages (from tensorboard<2.9,>=2.8->tensorflow) (2.27.1)\n",
      "Requirement already satisfied: cachetools<6.0,>=2.0.0 in c:\\users\\sadpa\\anaconda3\\envs\\pyspark\\lib\\site-packages (from google-auth<3,>=1.6.3->tensorboard<2.9,>=2.8->tensorflow) (5.0.0)\n",
      "Requirement already satisfied: pyasn1-modules>=0.2.1 in c:\\users\\sadpa\\anaconda3\\envs\\pyspark\\lib\\site-packages (from google-auth<3,>=1.6.3->tensorboard<2.9,>=2.8->tensorflow) (0.2.8)\n",
      "Requirement already satisfied: rsa<5,>=3.1.4 in c:\\users\\sadpa\\anaconda3\\envs\\pyspark\\lib\\site-packages (from google-auth<3,>=1.6.3->tensorboard<2.9,>=2.8->tensorflow) (4.7.2)\n",
      "Requirement already satisfied: requests-oauthlib>=0.7.0 in c:\\users\\sadpa\\anaconda3\\envs\\pyspark\\lib\\site-packages (from google-auth-oauthlib<0.5,>=0.4.1->tensorboard<2.9,>=2.8->tensorflow) (1.3.1)\n",
      "Requirement already satisfied: importlib-metadata>=4.4 in c:\\users\\sadpa\\anaconda3\\envs\\pyspark\\lib\\site-packages (from markdown>=2.6.8->tensorboard<2.9,>=2.8->tensorflow) (4.8.2)\n",
      "Requirement already satisfied: zipp>=0.5 in c:\\users\\sadpa\\anaconda3\\envs\\pyspark\\lib\\site-packages (from importlib-metadata>=4.4->markdown>=2.6.8->tensorboard<2.9,>=2.8->tensorflow) (3.7.0)\n",
      "Requirement already satisfied: pyasn1<0.5.0,>=0.4.6 in c:\\users\\sadpa\\anaconda3\\envs\\pyspark\\lib\\site-packages (from pyasn1-modules>=0.2.1->google-auth<3,>=1.6.3->tensorboard<2.9,>=2.8->tensorflow) (0.4.8)\n",
      "Requirement already satisfied: urllib3<1.27,>=1.21.1 in c:\\users\\sadpa\\anaconda3\\envs\\pyspark\\lib\\site-packages (from requests<3,>=2.21.0->tensorboard<2.9,>=2.8->tensorflow) (1.26.8)\n",
      "Requirement already satisfied: idna<4,>=2.5 in c:\\users\\sadpa\\anaconda3\\envs\\pyspark\\lib\\site-packages (from requests<3,>=2.21.0->tensorboard<2.9,>=2.8->tensorflow) (3.3)\n",
      "Requirement already satisfied: certifi>=2017.4.17 in c:\\users\\sadpa\\anaconda3\\envs\\pyspark\\lib\\site-packages (from requests<3,>=2.21.0->tensorboard<2.9,>=2.8->tensorflow) (2021.10.8)\n",
      "Requirement already satisfied: charset-normalizer~=2.0.0 in c:\\users\\sadpa\\anaconda3\\envs\\pyspark\\lib\\site-packages (from requests<3,>=2.21.0->tensorboard<2.9,>=2.8->tensorflow) (2.0.4)\n",
      "Requirement already satisfied: oauthlib>=3.0.0 in c:\\users\\sadpa\\anaconda3\\envs\\pyspark\\lib\\site-packages (from requests-oauthlib>=0.7.0->google-auth-oauthlib<0.5,>=0.4.1->tensorboard<2.9,>=2.8->tensorflow) (3.2.0)\n",
      "Installing collected packages: tensorboard-plugin-wit, tensorboard-data-server, markdown, google-auth-oauthlib, absl-py, tf-estimator-nightly, termcolor, tensorflow-io-gcs-filesystem, tensorboard, opt-einsum, libclang, keras-preprocessing, keras, h5py, google-pasta, gast, flatbuffers, astunparse, tensorflow\n",
      "Successfully installed absl-py-1.0.0 astunparse-1.6.3 flatbuffers-2.0 gast-0.5.3 google-auth-oauthlib-0.4.6 google-pasta-0.2.0 h5py-3.6.0 keras-2.8.0 keras-preprocessing-1.1.2 libclang-13.0.0 markdown-3.3.6 opt-einsum-3.3.0 tensorboard-2.8.0 tensorboard-data-server-0.6.1 tensorboard-plugin-wit-1.8.1 tensorflow-2.8.0 tensorflow-io-gcs-filesystem-0.24.0 termcolor-1.1.0 tf-estimator-nightly-2.8.0.dev2021122109\n"
     ]
    }
   ],
   "source": [
    "!pip install tensorflow"
   ]
  },
  {
   "cell_type": "code",
   "execution_count": 21,
   "id": "869c9a75",
   "metadata": {
    "id": "869c9a75"
   },
   "outputs": [],
   "source": [
    "from tensorflow.keras.models import Sequential\n",
    "\n",
    "from tensorflow.keras.layers import Dense\n",
    "from tensorflow.keras.layers import LSTM"
   ]
  },
  {
   "cell_type": "code",
   "execution_count": 22,
   "id": "13ddfdbe",
   "metadata": {},
   "outputs": [
    {
     "name": "stdout",
     "output_type": "stream",
     "text": [
      "(424, 100, 1)\n",
      "(424,)\n"
     ]
    },
    {
     "data": {
      "text/plain": [
       "(None, None)"
      ]
     },
     "execution_count": 22,
     "metadata": {},
     "output_type": "execute_result"
    }
   ],
   "source": [
    "print(X_train.shape), print(y_train.shape)"
   ]
  },
  {
   "cell_type": "code",
   "execution_count": 23,
   "id": "ffb4cce5",
   "metadata": {},
   "outputs": [],
   "source": [
    "\n",
    "model=Sequential()\n",
    "model.add(LSTM(50,return_sequences=True,input_shape=(100,1)))\n",
    "model.add(LSTM(50,return_sequences=True))\n",
    "model.add(LSTM(50))\n",
    "model.add(Dense(1))\n",
    "model.compile(loss='mean_squared_error',optimizer='adam')"
   ]
  },
  {
   "cell_type": "code",
   "execution_count": 24,
   "id": "baa8cd08",
   "metadata": {
    "id": "baa8cd08"
   },
   "outputs": [
    {
     "name": "stdout",
     "output_type": "stream",
     "text": [
      "Epoch 1/100\n",
      "7/7 [==============================] - 4s 207ms/step - loss: 0.1537 - val_loss: 0.0685\n",
      "Epoch 2/100\n",
      "7/7 [==============================] - 1s 88ms/step - loss: 0.0282 - val_loss: 0.0175\n",
      "Epoch 3/100\n",
      "7/7 [==============================] - 1s 84ms/step - loss: 0.0206 - val_loss: 0.0048\n",
      "Epoch 4/100\n",
      "7/7 [==============================] - 1s 84ms/step - loss: 0.0131 - val_loss: 0.0059\n",
      "Epoch 5/100\n",
      "7/7 [==============================] - 1s 84ms/step - loss: 0.0089 - val_loss: 0.0045\n",
      "Epoch 6/100\n",
      "7/7 [==============================] - 1s 84ms/step - loss: 0.0082 - val_loss: 0.0060\n",
      "Epoch 7/100\n",
      "7/7 [==============================] - 1s 84ms/step - loss: 0.0068 - val_loss: 0.0035\n",
      "Epoch 8/100\n",
      "7/7 [==============================] - 1s 83ms/step - loss: 0.0062 - val_loss: 0.0043\n",
      "Epoch 9/100\n",
      "7/7 [==============================] - 1s 84ms/step - loss: 0.0064 - val_loss: 0.0034\n",
      "Epoch 10/100\n",
      "7/7 [==============================] - 1s 84ms/step - loss: 0.0066 - val_loss: 0.0035\n",
      "Epoch 11/100\n",
      "7/7 [==============================] - 1s 82ms/step - loss: 0.0058 - val_loss: 0.0030\n",
      "Epoch 12/100\n",
      "7/7 [==============================] - 1s 84ms/step - loss: 0.0057 - val_loss: 0.0032\n",
      "Epoch 13/100\n",
      "7/7 [==============================] - 1s 83ms/step - loss: 0.0056 - val_loss: 0.0029\n",
      "Epoch 14/100\n",
      "7/7 [==============================] - 1s 84ms/step - loss: 0.0054 - val_loss: 0.0029\n",
      "Epoch 15/100\n",
      "7/7 [==============================] - 1s 84ms/step - loss: 0.0053 - val_loss: 0.0028\n",
      "Epoch 16/100\n",
      "7/7 [==============================] - 1s 86ms/step - loss: 0.0054 - val_loss: 0.0030\n",
      "Epoch 17/100\n",
      "7/7 [==============================] - 1s 85ms/step - loss: 0.0051 - val_loss: 0.0026\n",
      "Epoch 18/100\n",
      "7/7 [==============================] - 1s 85ms/step - loss: 0.0049 - val_loss: 0.0029\n",
      "Epoch 19/100\n",
      "7/7 [==============================] - 1s 86ms/step - loss: 0.0049 - val_loss: 0.0026\n",
      "Epoch 20/100\n",
      "7/7 [==============================] - 1s 83ms/step - loss: 0.0047 - val_loss: 0.0027\n",
      "Epoch 21/100\n",
      "7/7 [==============================] - 1s 83ms/step - loss: 0.0045 - val_loss: 0.0024\n",
      "Epoch 22/100\n",
      "7/7 [==============================] - 1s 83ms/step - loss: 0.0044 - val_loss: 0.0026\n",
      "Epoch 23/100\n",
      "7/7 [==============================] - 1s 82ms/step - loss: 0.0045 - val_loss: 0.0024\n",
      "Epoch 24/100\n",
      "7/7 [==============================] - 1s 84ms/step - loss: 0.0046 - val_loss: 0.0024\n",
      "Epoch 25/100\n",
      "7/7 [==============================] - 1s 82ms/step - loss: 0.0042 - val_loss: 0.0021\n",
      "Epoch 26/100\n",
      "7/7 [==============================] - 1s 83ms/step - loss: 0.0040 - val_loss: 0.0025\n",
      "Epoch 27/100\n",
      "7/7 [==============================] - 1s 83ms/step - loss: 0.0040 - val_loss: 0.0021\n",
      "Epoch 28/100\n",
      "7/7 [==============================] - 1s 84ms/step - loss: 0.0037 - val_loss: 0.0019\n",
      "Epoch 29/100\n",
      "7/7 [==============================] - 1s 83ms/step - loss: 0.0036 - val_loss: 0.0019\n",
      "Epoch 30/100\n",
      "7/7 [==============================] - 1s 82ms/step - loss: 0.0037 - val_loss: 0.0022\n",
      "Epoch 31/100\n",
      "7/7 [==============================] - 1s 83ms/step - loss: 0.0036 - val_loss: 0.0019\n",
      "Epoch 32/100\n",
      "7/7 [==============================] - 1s 82ms/step - loss: 0.0034 - val_loss: 0.0017\n",
      "Epoch 33/100\n",
      "7/7 [==============================] - 1s 83ms/step - loss: 0.0032 - val_loss: 0.0019\n",
      "Epoch 34/100\n",
      "7/7 [==============================] - 1s 82ms/step - loss: 0.0031 - val_loss: 0.0016\n",
      "Epoch 35/100\n",
      "7/7 [==============================] - 1s 83ms/step - loss: 0.0029 - val_loss: 0.0016\n",
      "Epoch 36/100\n",
      "7/7 [==============================] - 1s 83ms/step - loss: 0.0029 - val_loss: 0.0016\n",
      "Epoch 37/100\n",
      "7/7 [==============================] - 1s 83ms/step - loss: 0.0027 - val_loss: 0.0017\n",
      "Epoch 38/100\n",
      "7/7 [==============================] - 1s 82ms/step - loss: 0.0027 - val_loss: 0.0015\n",
      "Epoch 39/100\n",
      "7/7 [==============================] - 1s 81ms/step - loss: 0.0029 - val_loss: 0.0014\n",
      "Epoch 40/100\n",
      "7/7 [==============================] - 1s 82ms/step - loss: 0.0025 - val_loss: 0.0014\n",
      "Epoch 41/100\n",
      "7/7 [==============================] - 1s 81ms/step - loss: 0.0025 - val_loss: 0.0016\n",
      "Epoch 42/100\n",
      "7/7 [==============================] - 1s 82ms/step - loss: 0.0025 - val_loss: 0.0014\n",
      "Epoch 43/100\n",
      "7/7 [==============================] - 1s 82ms/step - loss: 0.0023 - val_loss: 0.0014\n",
      "Epoch 44/100\n",
      "7/7 [==============================] - 1s 82ms/step - loss: 0.0023 - val_loss: 0.0019\n",
      "Epoch 45/100\n",
      "7/7 [==============================] - 1s 82ms/step - loss: 0.0023 - val_loss: 0.0014\n",
      "Epoch 46/100\n",
      "7/7 [==============================] - 1s 81ms/step - loss: 0.0020 - val_loss: 0.0012\n",
      "Epoch 47/100\n",
      "7/7 [==============================] - 1s 82ms/step - loss: 0.0020 - val_loss: 0.0012\n",
      "Epoch 48/100\n",
      "7/7 [==============================] - 1s 81ms/step - loss: 0.0019 - val_loss: 0.0012\n",
      "Epoch 49/100\n",
      "7/7 [==============================] - 1s 82ms/step - loss: 0.0018 - val_loss: 0.0012\n",
      "Epoch 50/100\n",
      "7/7 [==============================] - 1s 82ms/step - loss: 0.0018 - val_loss: 0.0011\n",
      "Epoch 51/100\n",
      "7/7 [==============================] - 1s 82ms/step - loss: 0.0017 - val_loss: 0.0011\n",
      "Epoch 52/100\n",
      "7/7 [==============================] - 1s 83ms/step - loss: 0.0017 - val_loss: 0.0011\n",
      "Epoch 53/100\n",
      "7/7 [==============================] - 1s 82ms/step - loss: 0.0016 - val_loss: 0.0012\n",
      "Epoch 54/100\n",
      "7/7 [==============================] - 1s 82ms/step - loss: 0.0016 - val_loss: 0.0011\n",
      "Epoch 55/100\n",
      "7/7 [==============================] - 1s 81ms/step - loss: 0.0015 - val_loss: 0.0011\n",
      "Epoch 56/100\n",
      "7/7 [==============================] - 1s 83ms/step - loss: 0.0015 - val_loss: 0.0014\n",
      "Epoch 57/100\n",
      "7/7 [==============================] - 1s 83ms/step - loss: 0.0015 - val_loss: 0.0010\n",
      "Epoch 58/100\n",
      "7/7 [==============================] - 1s 84ms/step - loss: 0.0014 - val_loss: 0.0011\n",
      "Epoch 59/100\n",
      "7/7 [==============================] - 1s 82ms/step - loss: 0.0015 - val_loss: 0.0012\n",
      "Epoch 60/100\n",
      "7/7 [==============================] - 1s 84ms/step - loss: 0.0014 - val_loss: 0.0010\n",
      "Epoch 61/100\n",
      "7/7 [==============================] - 1s 91ms/step - loss: 0.0015 - val_loss: 0.0010\n",
      "Epoch 62/100\n",
      "7/7 [==============================] - 1s 90ms/step - loss: 0.0013 - val_loss: 0.0011\n",
      "Epoch 63/100\n",
      "7/7 [==============================] - 1s 90ms/step - loss: 0.0012 - val_loss: 9.8009e-04\n",
      "Epoch 64/100\n",
      "7/7 [==============================] - 1s 90ms/step - loss: 0.0012 - val_loss: 0.0010\n",
      "Epoch 65/100\n",
      "7/7 [==============================] - 1s 89ms/step - loss: 0.0012 - val_loss: 9.5025e-04\n",
      "Epoch 66/100\n",
      "7/7 [==============================] - 1s 90ms/step - loss: 0.0011 - val_loss: 9.8239e-04\n",
      "Epoch 67/100\n",
      "7/7 [==============================] - 1s 89ms/step - loss: 0.0012 - val_loss: 0.0011\n",
      "Epoch 68/100\n",
      "7/7 [==============================] - 1s 90ms/step - loss: 0.0011 - val_loss: 8.9587e-04\n",
      "Epoch 69/100\n",
      "7/7 [==============================] - 1s 90ms/step - loss: 0.0011 - val_loss: 8.8307e-04\n",
      "Epoch 70/100\n",
      "7/7 [==============================] - 1s 89ms/step - loss: 0.0011 - val_loss: 8.7206e-04\n",
      "Epoch 71/100\n",
      "7/7 [==============================] - 1s 90ms/step - loss: 0.0012 - val_loss: 8.6608e-04\n",
      "Epoch 72/100\n",
      "7/7 [==============================] - 1s 92ms/step - loss: 0.0013 - val_loss: 0.0013\n",
      "Epoch 73/100\n",
      "7/7 [==============================] - 1s 92ms/step - loss: 0.0013 - val_loss: 0.0017\n",
      "Epoch 74/100\n",
      "7/7 [==============================] - 1s 91ms/step - loss: 0.0013 - val_loss: 9.3875e-04\n",
      "Epoch 75/100\n",
      "7/7 [==============================] - 1s 91ms/step - loss: 0.0010 - val_loss: 8.3049e-04\n",
      "Epoch 76/100\n",
      "7/7 [==============================] - 1s 91ms/step - loss: 0.0010 - val_loss: 9.7713e-04\n",
      "Epoch 77/100\n",
      "7/7 [==============================] - 1s 91ms/step - loss: 9.9972e-04 - val_loss: 8.1400e-04\n",
      "Epoch 78/100\n",
      "7/7 [==============================] - 1s 90ms/step - loss: 0.0010 - val_loss: 8.8539e-04\n",
      "Epoch 79/100\n",
      "7/7 [==============================] - 1s 92ms/step - loss: 9.9780e-04 - val_loss: 0.0010\n",
      "Epoch 80/100\n",
      "7/7 [==============================] - 1s 92ms/step - loss: 0.0010 - val_loss: 0.0010\n",
      "Epoch 81/100\n",
      "7/7 [==============================] - 1s 90ms/step - loss: 0.0012 - val_loss: 0.0010\n",
      "Epoch 82/100\n",
      "7/7 [==============================] - 1s 92ms/step - loss: 0.0012 - val_loss: 8.7199e-04\n",
      "Epoch 83/100\n"
     ]
    },
    {
     "name": "stdout",
     "output_type": "stream",
     "text": [
      "7/7 [==============================] - 1s 89ms/step - loss: 0.0011 - val_loss: 0.0015\n",
      "Epoch 84/100\n",
      "7/7 [==============================] - 1s 90ms/step - loss: 0.0011 - val_loss: 0.0014\n",
      "Epoch 85/100\n",
      "7/7 [==============================] - 1s 90ms/step - loss: 0.0010 - val_loss: 8.4453e-04\n",
      "Epoch 86/100\n",
      "7/7 [==============================] - 1s 89ms/step - loss: 9.0568e-04 - val_loss: 9.9185e-04\n",
      "Epoch 87/100\n",
      "7/7 [==============================] - 1s 90ms/step - loss: 0.0010 - val_loss: 7.8261e-04\n",
      "Epoch 88/100\n",
      "7/7 [==============================] - 1s 89ms/step - loss: 0.0011 - val_loss: 7.6141e-04\n",
      "Epoch 89/100\n",
      "7/7 [==============================] - 1s 89ms/step - loss: 8.9475e-04 - val_loss: 7.8829e-04\n",
      "Epoch 90/100\n",
      "7/7 [==============================] - 1s 90ms/step - loss: 8.8166e-04 - val_loss: 8.5944e-04\n",
      "Epoch 91/100\n",
      "7/7 [==============================] - 1s 93ms/step - loss: 9.7333e-04 - val_loss: 9.7680e-04\n",
      "Epoch 92/100\n",
      "7/7 [==============================] - 1s 90ms/step - loss: 0.0012 - val_loss: 0.0019\n",
      "Epoch 93/100\n",
      "7/7 [==============================] - 1s 91ms/step - loss: 0.0011 - val_loss: 0.0014\n",
      "Epoch 94/100\n",
      "7/7 [==============================] - 1s 91ms/step - loss: 9.8384e-04 - val_loss: 8.0113e-04\n",
      "Epoch 95/100\n",
      "7/7 [==============================] - 1s 94ms/step - loss: 8.7754e-04 - val_loss: 7.4726e-04\n",
      "Epoch 96/100\n",
      "7/7 [==============================] - 1s 92ms/step - loss: 9.1977e-04 - val_loss: 7.6042e-04\n",
      "Epoch 97/100\n",
      "7/7 [==============================] - 1s 89ms/step - loss: 8.4179e-04 - val_loss: 7.7703e-04\n",
      "Epoch 98/100\n",
      "7/7 [==============================] - 1s 94ms/step - loss: 8.8532e-04 - val_loss: 7.8362e-04\n",
      "Epoch 99/100\n",
      "7/7 [==============================] - 1s 89ms/step - loss: 8.0156e-04 - val_loss: 8.0571e-04\n",
      "Epoch 100/100\n",
      "7/7 [==============================] - 1s 90ms/step - loss: 7.5835e-04 - val_loss: 7.8310e-04\n"
     ]
    },
    {
     "data": {
      "text/plain": [
       "<keras.callbacks.History at 0x15e71b8f1c0>"
      ]
     },
     "execution_count": 24,
     "metadata": {},
     "output_type": "execute_result"
    }
   ],
   "source": [
    "model.fit(X_train,\n",
    "          y_train,\n",
    "          validation_data=(X_test,ytest),\n",
    "          epochs=100,\n",
    "          batch_size=64,\n",
    "          verbose=1)"
   ]
  },
  {
   "cell_type": "code",
   "execution_count": 25,
   "id": "62dabcc0",
   "metadata": {
    "id": "62dabcc0"
   },
   "outputs": [],
   "source": [
    "### Lets Do the prediction and check performance metrics\n",
    "train_predict=model.predict(X_train)\n",
    "test_predict=model.predict(X_test)"
   ]
  },
  {
   "cell_type": "code",
   "execution_count": 26,
   "id": "b9fccd41",
   "metadata": {
    "id": "b9fccd41"
   },
   "outputs": [],
   "source": [
    "##Transformback to original form\n",
    "train_predict=scaler.inverse_transform(train_predict)\n",
    "test_predict=scaler.inverse_transform(test_predict)"
   ]
  },
  {
   "cell_type": "code",
   "execution_count": 27,
   "id": "be5b24de",
   "metadata": {
    "id": "be5b24de"
   },
   "outputs": [
    {
     "data": {
      "image/png": "[encoded data removed]",
      "text/plain": [
       "<Figure size 432x288 with 1 Axes>"
      ]
     },
     "metadata": {
      "needs_background": "light"
     },
     "output_type": "display_data"
    }
   ],
   "source": [
    "### Plotting \n",
    "# shift train predictions for plotting\n",
    "look_back=100\n",
    "trainPredictPlot = numpy.empty_like(df4)\n",
    "trainPredictPlot[:, :] = np.nan\n",
    "trainPredictPlot[look_back:len(train_predict)+look_back, :] = train_predict\n",
    "\n",
    "# shift test predictions for plotting\n",
    "testPredictPlot = numpy.empty_like(df4)\n",
    "testPredictPlot[:, :] = numpy.nan\n",
    "testPredictPlot[len(train_predict)+(look_back*2)+1:len(df4)-1, :] = test_predict\n",
    "\n",
    "# plot baseline and predictions\n",
    "plt.plot(scaler.inverse_transform(df4))\n",
    "plt.plot(trainPredictPlot)\n",
    "plt.plot(testPredictPlot)\n",
    "plt.show()"
   ]
  },
  {
   "cell_type": "code",
   "execution_count": 28,
   "id": "7b036aac",
   "metadata": {
    "id": "7b036aac"
   },
   "outputs": [
    {
     "data": {
      "text/html": [
       "<div>\n",
       "<style scoped>\n",
       "    .dataframe tbody tr th:only-of-type {\n",
       "        vertical-align: middle;\n",
       "    }\n",
       "\n",
       "    .dataframe tbody tr th {\n",
       "        vertical-align: top;\n",
       "    }\n",
       "\n",
       "    .dataframe thead th {\n",
       "        text-align: right;\n",
       "    }\n",
       "</style>\n",
       "<table border=\"1\" class=\"dataframe\">\n",
       "  <thead>\n",
       "    <tr style=\"text-align: right;\">\n",
       "      <th></th>\n",
       "      <th>Date</th>\n",
       "      <th>Prediction</th>\n",
       "    </tr>\n",
       "  </thead>\n",
       "  <tbody>\n",
       "    <tr>\n",
       "      <th>0</th>\n",
       "      <td>1/1/2019</td>\n",
       "      <td>NaN</td>\n",
       "    </tr>\n",
       "    <tr>\n",
       "      <th>1</th>\n",
       "      <td>1/2/2019</td>\n",
       "      <td>NaN</td>\n",
       "    </tr>\n",
       "    <tr>\n",
       "      <th>2</th>\n",
       "      <td>1/3/2019</td>\n",
       "      <td>NaN</td>\n",
       "    </tr>\n",
       "    <tr>\n",
       "      <th>3</th>\n",
       "      <td>1/4/2019</td>\n",
       "      <td>NaN</td>\n",
       "    </tr>\n",
       "    <tr>\n",
       "      <th>4</th>\n",
       "      <td>1/5/2019</td>\n",
       "      <td>NaN</td>\n",
       "    </tr>\n",
       "  </tbody>\n",
       "</table>\n",
       "</div>"
      ],
      "text/plain": [
       "       Date  Prediction\n",
       "0  1/1/2019         NaN\n",
       "1  1/2/2019         NaN\n",
       "2  1/3/2019         NaN\n",
       "3  1/4/2019         NaN\n",
       "4  1/5/2019         NaN"
      ]
     },
     "execution_count": 28,
     "metadata": {},
     "output_type": "execute_result"
    }
   ],
   "source": [
    "df_test=pd.read_csv(\"test_data.csv\")\n",
    "df_test.head()"
   ]
  },
  {
   "cell_type": "code",
   "execution_count": 29,
   "id": "00d514c6",
   "metadata": {
    "id": "00d514c6"
   },
   "outputs": [
    {
     "name": "stderr",
     "output_type": "stream",
     "text": [
      "WARNING:absl:Found untraced functions such as lstm_cell_layer_call_fn, lstm_cell_layer_call_and_return_conditional_losses, lstm_cell_1_layer_call_fn, lstm_cell_1_layer_call_and_return_conditional_losses, lstm_cell_2_layer_call_fn while saving (showing 5 of 6). These functions will not be directly callable after loading.\n"
     ]
    },
    {
     "name": "stdout",
     "output_type": "stream",
     "text": [
      "INFO:tensorflow:Assets written to: petrolpriceprediction\\assets\n"
     ]
    },
    {
     "name": "stderr",
     "output_type": "stream",
     "text": [
      "INFO:tensorflow:Assets written to: petrolpriceprediction\\assets\n",
      "WARNING:absl:<keras.layers.recurrent.LSTMCell object at 0x0000015E6A5A6AF0> has the same name 'LSTMCell' as a built-in Keras object. Consider renaming <class 'keras.layers.recurrent.LSTMCell'> to avoid naming conflicts when loading with `tf.keras.models.load_model`. If renaming is not possible, pass the object in the `custom_objects` parameter of the load function.\n",
      "WARNING:absl:<keras.layers.recurrent.LSTMCell object at 0x0000015E6A6081F0> has the same name 'LSTMCell' as a built-in Keras object. Consider renaming <class 'keras.layers.recurrent.LSTMCell'> to avoid naming conflicts when loading with `tf.keras.models.load_model`. If renaming is not possible, pass the object in the `custom_objects` parameter of the load function.\n",
      "WARNING:absl:<keras.layers.recurrent.LSTMCell object at 0x0000015E6A877100> has the same name 'LSTMCell' as a built-in Keras object. Consider renaming <class 'keras.layers.recurrent.LSTMCell'> to avoid naming conflicts when loading with `tf.keras.models.load_model`. If renaming is not possible, pass the object in the `custom_objects` parameter of the load function.\n"
     ]
    }
   ],
   "source": [
    "model.save(\"petrolpriceprediction\")"
   ]
  },
  {
   "cell_type": "markdown",
   "id": "hpAqppG-OFe7",
   "metadata": {
    "id": "hpAqppG-OFe7"
   },
   "source": [
    "## **Using ARIMA**"
   ]
  },
  {
   "cell_type": "code",
   "execution_count": 30,
   "id": "ajeghoPZDx7C",
   "metadata": {
    "id": "ajeghoPZDx7C"
   },
   "outputs": [
    {
     "name": "stderr",
     "output_type": "stream",
     "text": [
      "C:\\Users\\sadpa\\AppData\\Local\\Temp\\ipykernel_17088\\4219278593.py:5: FutureWarning: The pandas.datetime class is deprecated and will be removed from pandas in a future version. Import from datetime module instead.\n",
      "  from pandas import datetime\n"
     ]
    }
   ],
   "source": [
    "import pandas as pd\n",
    "from statsmodels.tsa.arima.model import ARIMA\n",
    "from matplotlib import pyplot as plt\n",
    "from pandas import read_csv\n",
    "from pandas import datetime \n",
    "from matplotlib import pyplot\n",
    "\n",
    "from sklearn.metrics import mean_squared_error\n",
    "from math import sqrt"
   ]
  },
  {
   "cell_type": "code",
   "execution_count": 31,
   "id": "ZWaJ03yno2SX",
   "metadata": {
    "id": "ZWaJ03yno2SX"
   },
   "outputs": [
    {
     "data": {
      "text/html": [
       "<div>\n",
       "<style scoped>\n",
       "    .dataframe tbody tr th:only-of-type {\n",
       "        vertical-align: middle;\n",
       "    }\n",
       "\n",
       "    .dataframe tbody tr th {\n",
       "        vertical-align: top;\n",
       "    }\n",
       "\n",
       "    .dataframe thead th {\n",
       "        text-align: right;\n",
       "    }\n",
       "</style>\n",
       "<table border=\"1\" class=\"dataframe\">\n",
       "  <thead>\n",
       "    <tr style=\"text-align: right;\">\n",
       "      <th></th>\n",
       "      <th>Date</th>\n",
       "      <th>Petrol (USD)</th>\n",
       "    </tr>\n",
       "  </thead>\n",
       "  <tbody>\n",
       "    <tr>\n",
       "      <th>0</th>\n",
       "      <td>6/9/2003</td>\n",
       "      <td>74.59</td>\n",
       "    </tr>\n",
       "    <tr>\n",
       "      <th>1</th>\n",
       "      <td>6/16/2003</td>\n",
       "      <td>74.47</td>\n",
       "    </tr>\n",
       "    <tr>\n",
       "      <th>2</th>\n",
       "      <td>6/23/2003</td>\n",
       "      <td>74.42</td>\n",
       "    </tr>\n",
       "    <tr>\n",
       "      <th>3</th>\n",
       "      <td>6/30/2003</td>\n",
       "      <td>74.35</td>\n",
       "    </tr>\n",
       "    <tr>\n",
       "      <th>4</th>\n",
       "      <td>7/7/2003</td>\n",
       "      <td>74.28</td>\n",
       "    </tr>\n",
       "  </tbody>\n",
       "</table>\n",
       "</div>"
      ],
      "text/plain": [
       "        Date  Petrol (USD)\n",
       "0   6/9/2003         74.59\n",
       "1  6/16/2003         74.47\n",
       "2  6/23/2003         74.42\n",
       "3  6/30/2003         74.35\n",
       "4   7/7/2003         74.28"
      ]
     },
     "execution_count": 31,
     "metadata": {},
     "output_type": "execute_result"
    }
   ],
   "source": [
    "df = pd.read_csv(\"train_data.csv\")\n",
    "df.head()"
   ]
  },
  {
   "cell_type": "code",
   "execution_count": 32,
   "id": "9iVm6Jl1pruM",
   "metadata": {
    "id": "9iVm6Jl1pruM"
   },
   "outputs": [
    {
     "data": {
      "text/html": [
       "<div>\n",
       "<style scoped>\n",
       "    .dataframe tbody tr th:only-of-type {\n",
       "        vertical-align: middle;\n",
       "    }\n",
       "\n",
       "    .dataframe tbody tr th {\n",
       "        vertical-align: top;\n",
       "    }\n",
       "\n",
       "    .dataframe thead th {\n",
       "        text-align: right;\n",
       "    }\n",
       "</style>\n",
       "<table border=\"1\" class=\"dataframe\">\n",
       "  <thead>\n",
       "    <tr style=\"text-align: right;\">\n",
       "      <th></th>\n",
       "      <th>Date</th>\n",
       "      <th>Petrol</th>\n",
       "    </tr>\n",
       "  </thead>\n",
       "  <tbody>\n",
       "    <tr>\n",
       "      <th>0</th>\n",
       "      <td>6/9/2003</td>\n",
       "      <td>74.59</td>\n",
       "    </tr>\n",
       "    <tr>\n",
       "      <th>1</th>\n",
       "      <td>6/16/2003</td>\n",
       "      <td>74.47</td>\n",
       "    </tr>\n",
       "    <tr>\n",
       "      <th>2</th>\n",
       "      <td>6/23/2003</td>\n",
       "      <td>74.42</td>\n",
       "    </tr>\n",
       "    <tr>\n",
       "      <th>3</th>\n",
       "      <td>6/30/2003</td>\n",
       "      <td>74.35</td>\n",
       "    </tr>\n",
       "    <tr>\n",
       "      <th>4</th>\n",
       "      <td>7/7/2003</td>\n",
       "      <td>74.28</td>\n",
       "    </tr>\n",
       "  </tbody>\n",
       "</table>\n",
       "</div>"
      ],
      "text/plain": [
       "        Date  Petrol\n",
       "0   6/9/2003   74.59\n",
       "1  6/16/2003   74.47\n",
       "2  6/23/2003   74.42\n",
       "3  6/30/2003   74.35\n",
       "4   7/7/2003   74.28"
      ]
     },
     "execution_count": 32,
     "metadata": {},
     "output_type": "execute_result"
    }
   ],
   "source": [
    "df.rename(columns={\"Petrol (USD)\": \"Petrol\"}, inplace = True)\n",
    "df.head()"
   ]
  },
  {
   "cell_type": "code",
   "execution_count": 33,
   "id": "nCDqO0KUD2Tq",
   "metadata": {
    "id": "nCDqO0KUD2Tq"
   },
   "outputs": [
    {
     "data": {
      "text/html": [
       "<div>\n",
       "<style scoped>\n",
       "    .dataframe tbody tr th:only-of-type {\n",
       "        vertical-align: middle;\n",
       "    }\n",
       "\n",
       "    .dataframe tbody tr th {\n",
       "        vertical-align: top;\n",
       "    }\n",
       "\n",
       "    .dataframe thead th {\n",
       "        text-align: right;\n",
       "    }\n",
       "</style>\n",
       "<table border=\"1\" class=\"dataframe\">\n",
       "  <thead>\n",
       "    <tr style=\"text-align: right;\">\n",
       "      <th></th>\n",
       "      <th>Date</th>\n",
       "      <th>Petrol</th>\n",
       "    </tr>\n",
       "  </thead>\n",
       "  <tbody>\n",
       "    <tr>\n",
       "      <th>0</th>\n",
       "      <td>6/9/2003</td>\n",
       "      <td>74.59</td>\n",
       "    </tr>\n",
       "    <tr>\n",
       "      <th>1</th>\n",
       "      <td>6/16/2003</td>\n",
       "      <td>74.47</td>\n",
       "    </tr>\n",
       "    <tr>\n",
       "      <th>2</th>\n",
       "      <td>6/23/2003</td>\n",
       "      <td>74.42</td>\n",
       "    </tr>\n",
       "    <tr>\n",
       "      <th>3</th>\n",
       "      <td>6/30/2003</td>\n",
       "      <td>74.35</td>\n",
       "    </tr>\n",
       "    <tr>\n",
       "      <th>4</th>\n",
       "      <td>7/7/2003</td>\n",
       "      <td>74.28</td>\n",
       "    </tr>\n",
       "  </tbody>\n",
       "</table>\n",
       "</div>"
      ],
      "text/plain": [
       "        Date  Petrol\n",
       "0   6/9/2003   74.59\n",
       "1  6/16/2003   74.47\n",
       "2  6/23/2003   74.42\n",
       "3  6/30/2003   74.35\n",
       "4   7/7/2003   74.28"
      ]
     },
     "execution_count": 33,
     "metadata": {},
     "output_type": "execute_result"
    }
   ],
   "source": [
    "df2 = df.dropna()\n",
    "df3=df2[df2.Petrol<160]\n",
    "df3.head()\n"
   ]
  },
  {
   "cell_type": "code",
   "execution_count": 34,
   "id": "rgmu2cLaqDCE",
   "metadata": {
    "id": "rgmu2cLaqDCE"
   },
   "outputs": [
    {
     "data": {
      "text/plain": [
       "0    74.59\n",
       "1    74.47\n",
       "2    74.42\n",
       "3    74.35\n",
       "4    74.28\n",
       "Name: Petrol, dtype: float64"
      ]
     },
     "execution_count": 34,
     "metadata": {},
     "output_type": "execute_result"
    }
   ],
   "source": [
    "df4=df3.reset_index()['Petrol']\n",
    "df4.head()"
   ]
  },
  {
   "cell_type": "code",
   "execution_count": 35,
   "id": "vks4TdPaD6OS",
   "metadata": {
    "id": "vks4TdPaD6OS"
   },
   "outputs": [
    {
     "data": {
      "text/plain": [
       "array([119.80670595, 119.52143345, 119.30634686, 119.14818589,\n",
       "       119.02925475, 118.93899196, 118.87071703, 118.81917608,\n",
       "       118.78030426, 118.75097697, 118.72883999, 118.71212988,\n",
       "       118.69951734, 118.68999809, 118.68281349, 118.67739086,\n",
       "       118.67329807, 118.67020899, 118.66787749, 118.66611776,\n",
       "       118.66478959, 118.66378715, 118.66303054, 118.66245949,\n",
       "       118.66202848, 118.66170317, 118.66145765, 118.66127233,\n",
       "       118.66113246, 118.6610269 ])"
      ]
     },
     "execution_count": 35,
     "metadata": {},
     "output_type": "execute_result"
    }
   ],
   "source": [
    "model1 = ARIMA(df4.values, order=(5,1,0))\n",
    "model_fit1 = model1.fit()\n",
    "output1= model_fit1.forecast(steps=30)\n",
    "output1"
   ]
  },
  {
   "cell_type": "markdown",
   "id": "iVKwRTmDnxwd",
   "metadata": {
    "id": "iVKwRTmDnxwd"
   },
   "source": [
    "# Using Auto ML"
   ]
  },
  {
   "cell_type": "markdown",
   "id": "uNVmRVGun23V",
   "metadata": {
    "id": "uNVmRVGun23V"
   },
   "source": [
    " ![download.png](data:image/png;base64,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)"
   ]
  },
  {
   "cell_type": "markdown",
   "id": "5nEy2U0hoGEZ",
   "metadata": {
    "id": "5nEy2U0hoGEZ"
   },
   "source": [
    "## AutoKeras: An AutoML system based on Keras. It is developed by DATA Lab at Texas A&M University"
   ]
  },
  {
   "cell_type": "markdown",
   "id": "lThRUPGnoIZZ",
   "metadata": {
    "id": "lThRUPGnoIZZ"
   },
   "source": [
    "## Installing Auto Keras"
   ]
  },
  {
   "cell_type": "code",
   "execution_count": 37,
   "id": "dfe88bcc",
   "metadata": {
    "id": "dfe88bcc"
   },
   "outputs": [
    {
     "name": "stdout",
     "output_type": "stream",
     "text": [
      "Collecting git+https://github.com/keras-team/keras-tuner.git@1.0.2rc1\n",
      "  Cloning https://github.com/keras-team/keras-tuner.git (to revision 1.0.2rc1) to c:\\users\\sadpa\\appdata\\local\\temp\\pip-req-build-sy0kl2ps\n",
      "  Resolved https://github.com/keras-team/keras-tuner.git to commit 0fb69434a132093518e0e53d40020145ae192629\n",
      "Requirement already satisfied: packaging in c:\\users\\sadpa\\anaconda3\\envs\\pyspark\\lib\\site-packages (from keras-tuner==1.0.2rc1) (21.3)\n",
      "Requirement already satisfied: future in c:\\users\\sadpa\\anaconda3\\envs\\pyspark\\lib\\site-packages (from keras-tuner==1.0.2rc1) (0.18.2)\n",
      "Requirement already satisfied: numpy in c:\\users\\sadpa\\anaconda3\\envs\\pyspark\\lib\\site-packages (from keras-tuner==1.0.2rc1) (1.21.5)\n",
      "Requirement already satisfied: tabulate in c:\\users\\sadpa\\anaconda3\\envs\\pyspark\\lib\\site-packages (from keras-tuner==1.0.2rc1) (0.8.9)\n",
      "Collecting terminaltables\n",
      "  Downloading terminaltables-3.1.10-py2.py3-none-any.whl (15 kB)\n",
      "Requirement already satisfied: colorama in c:\\users\\sadpa\\anaconda3\\envs\\pyspark\\lib\\site-packages (from keras-tuner==1.0.2rc1) (0.4.4)\n",
      "Requirement already satisfied: tqdm in c:\\users\\sadpa\\anaconda3\\envs\\pyspark\\lib\\site-packages (from keras-tuner==1.0.2rc1) (4.63.0)\n",
      "Requirement already satisfied: requests in c:\\users\\sadpa\\anaconda3\\envs\\pyspark\\lib\\site-packages (from keras-tuner==1.0.2rc1) (2.27.1)\n",
      "Requirement already satisfied: scipy in c:\\users\\sadpa\\anaconda3\\envs\\pyspark\\lib\\site-packages (from keras-tuner==1.0.2rc1) (1.7.3)\n",
      "Requirement already satisfied: scikit-learn in c:\\users\\sadpa\\anaconda3\\envs\\pyspark\\lib\\site-packages (from keras-tuner==1.0.2rc1) (1.0.2)\n",
      "Requirement already satisfied: pyparsing!=3.0.5,>=2.0.2 in c:\\users\\sadpa\\anaconda3\\envs\\pyspark\\lib\\site-packages (from packaging->keras-tuner==1.0.2rc1) (3.0.4)\n",
      "Requirement already satisfied: certifi>=2017.4.17 in c:\\users\\sadpa\\anaconda3\\envs\\pyspark\\lib\\site-packages (from requests->keras-tuner==1.0.2rc1) (2021.10.8)\n",
      "Requirement already satisfied: urllib3<1.27,>=1.21.1 in c:\\users\\sadpa\\anaconda3\\envs\\pyspark\\lib\\site-packages (from requests->keras-tuner==1.0.2rc1) (1.26.8)\n",
      "Requirement already satisfied: charset-normalizer~=2.0.0 in c:\\users\\sadpa\\anaconda3\\envs\\pyspark\\lib\\site-packages (from requests->keras-tuner==1.0.2rc1) (2.0.4)\n",
      "Requirement already satisfied: idna<4,>=2.5 in c:\\users\\sadpa\\anaconda3\\envs\\pyspark\\lib\\site-packages (from requests->keras-tuner==1.0.2rc1) (3.3)\n",
      "Requirement already satisfied: joblib>=0.11 in c:\\users\\sadpa\\anaconda3\\envs\\pyspark\\lib\\site-packages (from scikit-learn->keras-tuner==1.0.2rc1) (1.0.1)\n",
      "Requirement already satisfied: threadpoolctl>=2.0.0 in c:\\users\\sadpa\\anaconda3\\envs\\pyspark\\lib\\site-packages (from scikit-learn->keras-tuner==1.0.2rc1) (2.2.0)\n",
      "Building wheels for collected packages: keras-tuner\n",
      "  Building wheel for keras-tuner (setup.py): started\n",
      "  Building wheel for keras-tuner (setup.py): finished with status 'done'\n",
      "  Created wheel for keras-tuner: filename=keras_tuner-1.0.2rc1-py3-none-any.whl size=86074 sha256=dde78067674bbd70e7a79574ffe75a9676499b3015225a5223b1d6e2a79f7655\n",
      "  Stored in directory: C:\\Users\\sadpa\\AppData\\Local\\Temp\\pip-ephem-wheel-cache-wk3rgah3\\wheels\\09\\45\\88\\7fa744f0be0acc5be797cd02899455d419c94645f428e79d15\n",
      "Successfully built keras-tuner\n",
      "Installing collected packages: terminaltables, keras-tuner\n",
      "Successfully installed keras-tuner-1.0.2rc1 terminaltables-3.1.10\n"
     ]
    },
    {
     "name": "stderr",
     "output_type": "stream",
     "text": [
      "  Running command git clone -q https://github.com/keras-team/keras-tuner.git 'C:\\Users\\sadpa\\AppData\\Local\\Temp\\pip-req-build-sy0kl2ps'\n",
      "  Running command git checkout -q 0fb69434a132093518e0e53d40020145ae192629\n"
     ]
    }
   ],
   "source": [
    "!pip install git+https://github.com/keras-team/keras-tuner.git@1.0.2rc1\n"
   ]
  },
  {
   "cell_type": "code",
   "execution_count": 38,
   "id": "b1ea1595",
   "metadata": {
    "id": "b1ea1595"
   },
   "outputs": [
    {
     "name": "stdout",
     "output_type": "stream",
     "text": [
      "Collecting autokeras\n",
      "  Using cached autokeras-1.0.18-py3-none-any.whl (160 kB)\n",
      "Requirement already satisfied: tensorflow>=2.8.0 in c:\\users\\sadpa\\anaconda3\\envs\\pyspark\\lib\\site-packages (from autokeras) (2.8.0)\n",
      "Collecting keras-tuner>=1.1.0\n",
      "  Using cached keras_tuner-1.1.0-py3-none-any.whl (98 kB)\n",
      "Requirement already satisfied: packaging in c:\\users\\sadpa\\anaconda3\\envs\\pyspark\\lib\\site-packages (from autokeras) (21.3)\n",
      "Requirement already satisfied: pandas in c:\\users\\sadpa\\anaconda3\\envs\\pyspark\\lib\\site-packages (from autokeras) (1.4.1)\n",
      "Requirement already satisfied: requests in c:\\users\\sadpa\\anaconda3\\envs\\pyspark\\lib\\site-packages (from keras-tuner>=1.1.0->autokeras) (2.27.1)\n",
      "Collecting kt-legacy\n",
      "  Using cached kt_legacy-1.0.4-py3-none-any.whl (9.6 kB)\n",
      "Requirement already satisfied: scipy in c:\\users\\sadpa\\anaconda3\\envs\\pyspark\\lib\\site-packages (from keras-tuner>=1.1.0->autokeras) (1.7.3)\n",
      "Requirement already satisfied: ipython in c:\\users\\sadpa\\anaconda3\\envs\\pyspark\\lib\\site-packages (from keras-tuner>=1.1.0->autokeras) (8.1.1)\n",
      "Requirement already satisfied: tensorboard in c:\\users\\sadpa\\anaconda3\\envs\\pyspark\\lib\\site-packages (from keras-tuner>=1.1.0->autokeras) (2.8.0)\n",
      "Requirement already satisfied: numpy in c:\\users\\sadpa\\anaconda3\\envs\\pyspark\\lib\\site-packages (from keras-tuner>=1.1.0->autokeras) (1.21.5)\n",
      "Requirement already satisfied: opt-einsum>=2.3.2 in c:\\users\\sadpa\\anaconda3\\envs\\pyspark\\lib\\site-packages (from tensorflow>=2.8.0->autokeras) (3.3.0)\n",
      "Requirement already satisfied: setuptools in c:\\users\\sadpa\\anaconda3\\envs\\pyspark\\lib\\site-packages (from tensorflow>=2.8.0->autokeras) (58.0.4)\n",
      "Requirement already satisfied: flatbuffers>=1.12 in c:\\users\\sadpa\\anaconda3\\envs\\pyspark\\lib\\site-packages (from tensorflow>=2.8.0->autokeras) (2.0)\n",
      "Requirement already satisfied: tensorflow-io-gcs-filesystem>=0.23.1 in c:\\users\\sadpa\\anaconda3\\envs\\pyspark\\lib\\site-packages (from tensorflow>=2.8.0->autokeras) (0.24.0)\n",
      "Requirement already satisfied: absl-py>=0.4.0 in c:\\users\\sadpa\\anaconda3\\envs\\pyspark\\lib\\site-packages (from tensorflow>=2.8.0->autokeras) (1.0.0)\n",
      "Requirement already satisfied: google-pasta>=0.1.1 in c:\\users\\sadpa\\anaconda3\\envs\\pyspark\\lib\\site-packages (from tensorflow>=2.8.0->autokeras) (0.2.0)\n",
      "Requirement already satisfied: gast>=0.2.1 in c:\\users\\sadpa\\anaconda3\\envs\\pyspark\\lib\\site-packages (from tensorflow>=2.8.0->autokeras) (0.5.3)\n",
      "Requirement already satisfied: six>=1.12.0 in c:\\users\\sadpa\\anaconda3\\envs\\pyspark\\lib\\site-packages (from tensorflow>=2.8.0->autokeras) (1.16.0)\n",
      "Requirement already satisfied: grpcio<2.0,>=1.24.3 in c:\\users\\sadpa\\anaconda3\\envs\\pyspark\\lib\\site-packages (from tensorflow>=2.8.0->autokeras) (1.43.0)\n",
      "Requirement already satisfied: libclang>=9.0.1 in c:\\users\\sadpa\\anaconda3\\envs\\pyspark\\lib\\site-packages (from tensorflow>=2.8.0->autokeras) (13.0.0)\n",
      "Requirement already satisfied: h5py>=2.9.0 in c:\\users\\sadpa\\anaconda3\\envs\\pyspark\\lib\\site-packages (from tensorflow>=2.8.0->autokeras) (3.6.0)\n",
      "Requirement already satisfied: tf-estimator-nightly==2.8.0.dev2021122109 in c:\\users\\sadpa\\anaconda3\\envs\\pyspark\\lib\\site-packages (from tensorflow>=2.8.0->autokeras) (2.8.0.dev2021122109)\n",
      "Requirement already satisfied: protobuf>=3.9.2 in c:\\users\\sadpa\\anaconda3\\envs\\pyspark\\lib\\site-packages (from tensorflow>=2.8.0->autokeras) (3.19.4)\n",
      "Requirement already satisfied: astunparse>=1.6.0 in c:\\users\\sadpa\\anaconda3\\envs\\pyspark\\lib\\site-packages (from tensorflow>=2.8.0->autokeras) (1.6.3)\n",
      "Requirement already satisfied: wrapt>=1.11.0 in c:\\users\\sadpa\\anaconda3\\envs\\pyspark\\lib\\site-packages (from tensorflow>=2.8.0->autokeras) (1.14.0)\n",
      "Requirement already satisfied: termcolor>=1.1.0 in c:\\users\\sadpa\\anaconda3\\envs\\pyspark\\lib\\site-packages (from tensorflow>=2.8.0->autokeras) (1.1.0)\n",
      "Requirement already satisfied: typing-extensions>=3.6.6 in c:\\users\\sadpa\\anaconda3\\envs\\pyspark\\lib\\site-packages (from tensorflow>=2.8.0->autokeras) (4.1.1)\n",
      "Requirement already satisfied: keras<2.9,>=2.8.0rc0 in c:\\users\\sadpa\\anaconda3\\envs\\pyspark\\lib\\site-packages (from tensorflow>=2.8.0->autokeras) (2.8.0)\n",
      "Requirement already satisfied: keras-preprocessing>=1.1.1 in c:\\users\\sadpa\\anaconda3\\envs\\pyspark\\lib\\site-packages (from tensorflow>=2.8.0->autokeras) (1.1.2)\n",
      "Requirement already satisfied: wheel<1.0,>=0.23.0 in c:\\users\\sadpa\\anaconda3\\envs\\pyspark\\lib\\site-packages (from astunparse>=1.6.0->tensorflow>=2.8.0->autokeras) (0.37.1)\n",
      "Requirement already satisfied: google-auth-oauthlib<0.5,>=0.4.1 in c:\\users\\sadpa\\anaconda3\\envs\\pyspark\\lib\\site-packages (from tensorboard->keras-tuner>=1.1.0->autokeras) (0.4.6)\n",
      "Requirement already satisfied: tensorboard-plugin-wit>=1.6.0 in c:\\users\\sadpa\\anaconda3\\envs\\pyspark\\lib\\site-packages (from tensorboard->keras-tuner>=1.1.0->autokeras) (1.8.1)\n",
      "Requirement already satisfied: werkzeug>=0.11.15 in c:\\users\\sadpa\\anaconda3\\envs\\pyspark\\lib\\site-packages (from tensorboard->keras-tuner>=1.1.0->autokeras) (2.0.3)\n",
      "Requirement already satisfied: google-auth<3,>=1.6.3 in c:\\users\\sadpa\\anaconda3\\envs\\pyspark\\lib\\site-packages (from tensorboard->keras-tuner>=1.1.0->autokeras) (2.6.0)\n",
      "Requirement already satisfied: tensorboard-data-server<0.7.0,>=0.6.0 in c:\\users\\sadpa\\anaconda3\\envs\\pyspark\\lib\\site-packages (from tensorboard->keras-tuner>=1.1.0->autokeras) (0.6.1)\n",
      "Requirement already satisfied: markdown>=2.6.8 in c:\\users\\sadpa\\anaconda3\\envs\\pyspark\\lib\\site-packages (from tensorboard->keras-tuner>=1.1.0->autokeras) (3.3.6)\n",
      "Requirement already satisfied: rsa<5,>=3.1.4 in c:\\users\\sadpa\\anaconda3\\envs\\pyspark\\lib\\site-packages (from google-auth<3,>=1.6.3->tensorboard->keras-tuner>=1.1.0->autokeras) (4.7.2)\n",
      "Requirement already satisfied: cachetools<6.0,>=2.0.0 in c:\\users\\sadpa\\anaconda3\\envs\\pyspark\\lib\\site-packages (from google-auth<3,>=1.6.3->tensorboard->keras-tuner>=1.1.0->autokeras) (5.0.0)\n",
      "Requirement already satisfied: pyasn1-modules>=0.2.1 in c:\\users\\sadpa\\anaconda3\\envs\\pyspark\\lib\\site-packages (from google-auth<3,>=1.6.3->tensorboard->keras-tuner>=1.1.0->autokeras) (0.2.8)\n",
      "Requirement already satisfied: requests-oauthlib>=0.7.0 in c:\\users\\sadpa\\anaconda3\\envs\\pyspark\\lib\\site-packages (from google-auth-oauthlib<0.5,>=0.4.1->tensorboard->keras-tuner>=1.1.0->autokeras) (1.3.1)\n",
      "Requirement already satisfied: importlib-metadata>=4.4 in c:\\users\\sadpa\\anaconda3\\envs\\pyspark\\lib\\site-packages (from markdown>=2.6.8->tensorboard->keras-tuner>=1.1.0->autokeras) (4.8.2)\n",
      "Requirement already satisfied: zipp>=0.5 in c:\\users\\sadpa\\anaconda3\\envs\\pyspark\\lib\\site-packages (from importlib-metadata>=4.4->markdown>=2.6.8->tensorboard->keras-tuner>=1.1.0->autokeras) (3.7.0)\n",
      "Requirement already satisfied: pyasn1<0.5.0,>=0.4.6 in c:\\users\\sadpa\\anaconda3\\envs\\pyspark\\lib\\site-packages (from pyasn1-modules>=0.2.1->google-auth<3,>=1.6.3->tensorboard->keras-tuner>=1.1.0->autokeras) (0.4.8)\n",
      "Requirement already satisfied: idna<4,>=2.5 in c:\\users\\sadpa\\anaconda3\\envs\\pyspark\\lib\\site-packages (from requests->keras-tuner>=1.1.0->autokeras) (3.3)\n",
      "Requirement already satisfied: certifi>=2017.4.17 in c:\\users\\sadpa\\anaconda3\\envs\\pyspark\\lib\\site-packages (from requests->keras-tuner>=1.1.0->autokeras) (2021.10.8)\n",
      "Requirement already satisfied: urllib3<1.27,>=1.21.1 in c:\\users\\sadpa\\anaconda3\\envs\\pyspark\\lib\\site-packages (from requests->keras-tuner>=1.1.0->autokeras) (1.26.8)\n",
      "Requirement already satisfied: charset-normalizer~=2.0.0 in c:\\users\\sadpa\\anaconda3\\envs\\pyspark\\lib\\site-packages (from requests->keras-tuner>=1.1.0->autokeras) (2.0.4)\n",
      "Requirement already satisfied: oauthlib>=3.0.0 in c:\\users\\sadpa\\anaconda3\\envs\\pyspark\\lib\\site-packages (from requests-oauthlib>=0.7.0->google-auth-oauthlib<0.5,>=0.4.1->tensorboard->keras-tuner>=1.1.0->autokeras) (3.2.0)\n",
      "Requirement already satisfied: traitlets>=5 in c:\\users\\sadpa\\anaconda3\\envs\\pyspark\\lib\\site-packages (from ipython->keras-tuner>=1.1.0->autokeras) (5.1.1)\n",
      "Requirement already satisfied: stack-data in c:\\users\\sadpa\\anaconda3\\envs\\pyspark\\lib\\site-packages (from ipython->keras-tuner>=1.1.0->autokeras) (0.2.0)\n",
      "Requirement already satisfied: matplotlib-inline in c:\\users\\sadpa\\anaconda3\\envs\\pyspark\\lib\\site-packages (from ipython->keras-tuner>=1.1.0->autokeras) (0.1.2)\n",
      "Requirement already satisfied: prompt-toolkit!=3.0.0,!=3.0.1,<3.1.0,>=2.0.0 in c:\\users\\sadpa\\anaconda3\\envs\\pyspark\\lib\\site-packages (from ipython->keras-tuner>=1.1.0->autokeras) (3.0.20)\n",
      "Requirement already satisfied: pygments>=2.4.0 in c:\\users\\sadpa\\anaconda3\\envs\\pyspark\\lib\\site-packages (from ipython->keras-tuner>=1.1.0->autokeras) (2.11.2)\n",
      "Requirement already satisfied: jedi>=0.16 in c:\\users\\sadpa\\anaconda3\\envs\\pyspark\\lib\\site-packages (from ipython->keras-tuner>=1.1.0->autokeras) (0.17.2)\n",
      "Requirement already satisfied: decorator in c:\\users\\sadpa\\anaconda3\\envs\\pyspark\\lib\\site-packages (from ipython->keras-tuner>=1.1.0->autokeras) (5.1.1)\n",
      "Requirement already satisfied: backcall in c:\\users\\sadpa\\anaconda3\\envs\\pyspark\\lib\\site-packages (from ipython->keras-tuner>=1.1.0->autokeras) (0.2.0)\n",
      "Requirement already satisfied: colorama in c:\\users\\sadpa\\anaconda3\\envs\\pyspark\\lib\\site-packages (from ipython->keras-tuner>=1.1.0->autokeras) (0.4.4)\n",
      "Requirement already satisfied: pickleshare in c:\\users\\sadpa\\anaconda3\\envs\\pyspark\\lib\\site-packages (from ipython->keras-tuner>=1.1.0->autokeras) (0.7.5)\n",
      "Requirement already satisfied: parso<0.8.0,>=0.7.0 in c:\\users\\sadpa\\anaconda3\\envs\\pyspark\\lib\\site-packages (from jedi>=0.16->ipython->keras-tuner>=1.1.0->autokeras) (0.7.0)\n",
      "Requirement already satisfied: wcwidth in c:\\users\\sadpa\\anaconda3\\envs\\pyspark\\lib\\site-packages (from prompt-toolkit!=3.0.0,!=3.0.1,<3.1.0,>=2.0.0->ipython->keras-tuner>=1.1.0->autokeras) (0.2.5)\n",
      "Requirement already satisfied: pyparsing!=3.0.5,>=2.0.2 in c:\\users\\sadpa\\anaconda3\\envs\\pyspark\\lib\\site-packages (from packaging->autokeras) (3.0.4)\n",
      "Requirement already satisfied: python-dateutil>=2.8.1 in c:\\users\\sadpa\\anaconda3\\envs\\pyspark\\lib\\site-packages (from pandas->autokeras) (2.8.2)\n",
      "Requirement already satisfied: pytz>=2020.1 in c:\\users\\sadpa\\anaconda3\\envs\\pyspark\\lib\\site-packages (from pandas->autokeras) (2021.3)\n",
      "Requirement already satisfied: asttokens in c:\\users\\sadpa\\anaconda3\\envs\\pyspark\\lib\\site-packages (from stack-data->ipython->keras-tuner>=1.1.0->autokeras) (2.0.5)\n",
      "Requirement already satisfied: executing in c:\\users\\sadpa\\anaconda3\\envs\\pyspark\\lib\\site-packages (from stack-data->ipython->keras-tuner>=1.1.0->autokeras) (0.8.3)\n",
      "Requirement already satisfied: pure-eval in c:\\users\\sadpa\\anaconda3\\envs\\pyspark\\lib\\site-packages (from stack-data->ipython->keras-tuner>=1.1.0->autokeras) (0.2.2)\n"
     ]
    },
    {
     "name": "stdout",
     "output_type": "stream",
     "text": [
      "Installing collected packages: kt-legacy, keras-tuner, autokeras\n",
      "  Attempting uninstall: keras-tuner\n",
      "    Found existing installation: keras-tuner 1.0.2rc1\n",
      "    Uninstalling keras-tuner-1.0.2rc1:\n",
      "      Successfully uninstalled keras-tuner-1.0.2rc1\n",
      "Successfully installed autokeras-1.0.18 keras-tuner-1.1.0 kt-legacy-1.0.4\n"
     ]
    }
   ],
   "source": [
    "!pip install autokeras"
   ]
  },
  {
   "cell_type": "code",
   "execution_count": 39,
   "id": "3A0tyai90XP4",
   "metadata": {
    "id": "3A0tyai90XP4"
   },
   "outputs": [
    {
     "name": "stdout",
     "output_type": "stream",
     "text": [
      "Name: autokeras\n",
      "Version: 1.0.18\n",
      "Summary: AutoML for deep learning\n",
      "Home-page: http://autokeras.com\n",
      "Author: DATA Lab, Keras Team\n",
      "Author-email: jhfjhfj1@gmail.com\n",
      "License: Apache License 2.0\n",
      "Location: c:\\users\\sadpa\\anaconda3\\envs\\pyspark\\lib\\site-packages\n",
      "Requires: packaging, tensorflow, pandas, keras-tuner\n",
      "Required-by: \n"
     ]
    }
   ],
   "source": [
    "!pip show autokeras"
   ]
  },
  {
   "cell_type": "code",
   "execution_count": 40,
   "id": "jE_IvaIs1O3z",
   "metadata": {
    "id": "jE_IvaIs1O3z"
   },
   "outputs": [],
   "source": [
    "import numpy as np\n",
    "import pandas as pd\n",
    "import tensorflow as tf\n",
    "import autokeras as ak"
   ]
  },
  {
   "cell_type": "code",
   "execution_count": 41,
   "id": "OdAi99490vlO",
   "metadata": {
    "id": "OdAi99490vlO"
   },
   "outputs": [],
   "source": [
    "reg = ak.StructuredDataRegressor(\n",
    "    overwrite=True, max_trials=3\n",
    ")"
   ]
  },
  {
   "cell_type": "code",
   "execution_count": 45,
   "id": "d4149a11",
   "metadata": {},
   "outputs": [
    {
     "data": {
      "text/plain": [
       "((424, 100, 1), (424,))"
      ]
     },
     "execution_count": 45,
     "metadata": {},
     "output_type": "execute_result"
    }
   ],
   "source": [
    "X_train.shape, y_train.shape"
   ]
  },
  {
   "cell_type": "code",
   "execution_count": 46,
   "id": "36a500a5",
   "metadata": {},
   "outputs": [],
   "source": [
    "X_train = X_train.reshape(424, 100)"
   ]
  },
  {
   "cell_type": "code",
   "execution_count": 47,
   "id": "yaD54ZIB05_N",
   "metadata": {
    "id": "yaD54ZIB05_N"
   },
   "outputs": [
    {
     "name": "stdout",
     "output_type": "stream",
     "text": [
      "Trial 3 Complete [00h 00m 03s]\n",
      "val_loss: 0.008170828223228455\n",
      "\n",
      "Best val_loss So Far: 0.008170828223228455\n",
      "Total elapsed time: 00h 00m 08s\n",
      "INFO:tensorflow:Oracle triggered exit\n"
     ]
    },
    {
     "name": "stderr",
     "output_type": "stream",
     "text": [
      "INFO:tensorflow:Oracle triggered exit\n"
     ]
    },
    {
     "name": "stdout",
     "output_type": "stream",
     "text": [
      "14/14 [==============================] - 1s 1ms/step - loss: 0.5300 - mean_squared_error: 0.5300\n",
      "INFO:tensorflow:Assets written to: .\\structured_data_regressor\\best_model\\assets\n"
     ]
    },
    {
     "name": "stderr",
     "output_type": "stream",
     "text": [
      "INFO:tensorflow:Assets written to: .\\structured_data_regressor\\best_model\\assets\n"
     ]
    },
    {
     "data": {
      "text/plain": [
       "<keras.callbacks.History at 0x15e7fdedfd0>"
      ]
     },
     "execution_count": 47,
     "metadata": {},
     "output_type": "execute_result"
    }
   ],
   "source": [
    "reg.fit(x=X_train, y=y_train)"
   ]
  },
  {
   "cell_type": "code",
   "execution_count": 48,
   "id": "_EAR0zb41keP",
   "metadata": {
    "id": "_EAR0zb41keP"
   },
   "outputs": [
    {
     "name": "stdout",
     "output_type": "stream",
     "text": [
      "6/6 [==============================] - 0s 1ms/step\n"
     ]
    }
   ],
   "source": [
    "\n",
    "# evaluate the model\n",
    "mae, _  = reg.evaluate(X_test, ytest, verbose=0)\n",
    "#print('MAE: %.3f' % mae)\n",
    "# use the model to make a prediction\n",
    "yhat_test = reg.predict(X_test)\n",
    "\n",
    "# get the best performing model\n",
    "model = reg.export_model()\n"
   ]
  },
  {
   "cell_type": "code",
   "execution_count": 49,
   "id": "XFyX-Bur2SgJ",
   "metadata": {
    "id": "XFyX-Bur2SgJ"
   },
   "outputs": [
    {
     "name": "stdout",
     "output_type": "stream",
     "text": [
      "Model: \"model\"\n",
      "_________________________________________________________________\n",
      " Layer (type)                Output Shape              Param #   \n",
      "=================================================================\n",
      " input_1 (InputLayer)        [(None, 100)]             0         \n",
      "                                                                 \n",
      " multi_category_encoding (Mu  (None, 100)              0         \n",
      " ltiCategoryEncoding)                                            \n",
      "                                                                 \n",
      " normalization (Normalizatio  (None, 100)              201       \n",
      " n)                                                              \n",
      "                                                                 \n",
      " dense (Dense)               (None, 256)               25856     \n",
      "                                                                 \n",
      " re_lu (ReLU)                (None, 256)               0         \n",
      "                                                                 \n",
      " dense_1 (Dense)             (None, 32)                8224      \n",
      "                                                                 \n",
      " re_lu_1 (ReLU)              (None, 32)                0         \n",
      "                                                                 \n",
      " regression_head_1 (Dense)   (None, 1)                 33        \n",
      "                                                                 \n",
      "=================================================================\n",
      "Total params: 34,314\n",
      "Trainable params: 34,113\n",
      "Non-trainable params: 201\n",
      "_________________________________________________________________\n"
     ]
    }
   ],
   "source": [
    "# summarize the loaded model\n",
    "model.summary()"
   ]
  },
  {
   "cell_type": "code",
   "execution_count": 50,
   "id": "VWny4-JW2pKW",
   "metadata": {
    "id": "VWny4-JW2pKW"
   },
   "outputs": [
    {
     "name": "stdout",
     "output_type": "stream",
     "text": [
      "14/14 [==============================] - 0s 1ms/step\n"
     ]
    }
   ],
   "source": [
    "yhat_train= reg.predict(X_train)"
   ]
  },
  {
   "cell_type": "code",
   "execution_count": 51,
   "id": "KIjUsMMz2r1Z",
   "metadata": {
    "id": "KIjUsMMz2r1Z"
   },
   "outputs": [],
   "source": [
    "train_predict=scaler.inverse_transform(yhat_train)\n",
    "test_predict=scaler.inverse_transform(yhat_test)"
   ]
  },
  {
   "cell_type": "code",
   "execution_count": 52,
   "id": "0zK6AKcq3aZp",
   "metadata": {
    "id": "0zK6AKcq3aZp"
   },
   "outputs": [],
   "source": [
    "from sklearn.metrics import mean_squared_error"
   ]
  },
  {
   "cell_type": "code",
   "execution_count": 53,
   "id": "4EknM_n43gSF",
   "metadata": {
    "id": "4EknM_n43gSF"
   },
   "outputs": [
    {
     "data": {
      "text/plain": [
       "0.14781959877432235"
      ]
     },
     "execution_count": 53,
     "metadata": {},
     "output_type": "execute_result"
    }
   ],
   "source": [
    "mean_squared_error(ytest,yhat_test)"
   ]
  },
  {
   "cell_type": "code",
   "execution_count": 54,
   "id": "iQSmVcMGwWQc",
   "metadata": {
    "id": "iQSmVcMGwWQc"
   },
   "outputs": [
    {
     "data": {
      "text/plain": [
       "0.3180932548344992"
      ]
     },
     "execution_count": 54,
     "metadata": {},
     "output_type": "execute_result"
    }
   ],
   "source": [
    "mean_squared_error(y_train,yhat_train)"
   ]
  },
  {
   "cell_type": "code",
   "execution_count": null,
   "id": "3dI3AUtDwd-E",
   "metadata": {
    "id": "3dI3AUtDwd-E"
   },
   "outputs": [],
   "source": []
  }
 ],
 "metadata": {
  "colab": {
   "collapsed_sections": [],
   "name": "New petrol prediction.ipynb",
   "provenance": []
  },
  "kernelspec": {
   "display_name": "Python 3 (ipykernel)",
   "language": "python",
   "name": "python3"
  },
  "language_info": {
   "codemirror_mode": {
    "name": "ipython",
    "version": 3
   },
   "file_extension": ".py",
   "mimetype": "text/x-python",
   "name": "python",
   "nbconvert_exporter": "python",
   "pygments_lexer": "ipython3",
   "version": "3.9.7"
  }
 },
 "nbformat": 4,
 "nbformat_minor": 5
}
