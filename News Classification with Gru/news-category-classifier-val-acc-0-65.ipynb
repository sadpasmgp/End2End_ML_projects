{
 "cells": [
  {
   "cell_type": "code",
   "execution_count": 1,
   "metadata": {
    "_cell_guid": "b1076dfc-b9ad-4769-8c92-a6c4dae69d19",
    "_uuid": "8f2839f25d086af736a60e9eeb907d3b93b6e0e5"
   },
   "outputs": [],
   "source": [
    "# This Python 3 environment comes with many helpful analytics libraries installed\n",
    "# It is defined by the kaggle/python docker image: https://github.com/kaggle/docker-python\n",
    "# For example, here's several helpful packages to load in \n",
    "\n",
    "import numpy as np # linear algebra\n",
    "import pandas as pd # data processing, CSV file I/O (e.g. pd.read_csv)\n",
    "\n",
    "import matplotlib.pyplot as plt\n",
    "plt.rcParams['figure.figsize'] = (6,6)\n",
    "\n",
    "from keras import backend as K\n",
    "#from keras.engine.topology import Layer\n",
    "from keras import initializers, regularizers, constraints\n",
    "\n",
    "from keras.layers import Dense, Input, LSTM, Bidirectional, Activation, Conv1D, GRU, TimeDistributed\n",
    "from keras.layers import Dropout, Embedding, GlobalMaxPooling1D, MaxPooling1D, Add, Flatten, SpatialDropout1D\n",
    "from keras.layers import GlobalAveragePooling1D, BatchNormalization, concatenate\n",
    "from keras.layers import Reshape, merge, Concatenate, Lambda, Average\n",
    "from keras.models import Sequential, Model, load_model\n",
    "from keras.callbacks import ModelCheckpoint\n",
    "from keras.initializers import Constant\n",
    "from keras.layers.merge import add\n",
    "\n",
    "from keras.preprocessing import sequence\n",
    "from keras.preprocessing.text import Tokenizer, text_to_word_sequence\n",
    "from keras.utils import np_utils\n",
    "\n",
    "from sklearn.model_selection import train_test_split\n",
    "from sklearn.metrics import confusion_matrix\n",
    "\n",
    "import os\n",
    "\n",
    "# Any results you write to the current directory are saved as output."
   ]
  },
  {
   "cell_type": "markdown",
   "metadata": {
    "_uuid": "9bf30c58fb63b9e0aad9e36b3384ce5e91c83aef"
   },
   "source": [
    "# prepare data"
   ]
  },
  {
   "cell_type": "code",
   "execution_count": 2,
   "metadata": {
    "_cell_guid": "79c7e3d0-c299-4dcb-8224-4455121ee9b0",
    "_uuid": "d629ff2d2480ee46fbb7e2d37f6b5fab8052498a"
   },
   "outputs": [
    {
     "data": {
      "text/html": [
       "<div>\n",
       "<style scoped>\n",
       "    .dataframe tbody tr th:only-of-type {\n",
       "        vertical-align: middle;\n",
       "    }\n",
       "\n",
       "    .dataframe tbody tr th {\n",
       "        vertical-align: top;\n",
       "    }\n",
       "\n",
       "    .dataframe thead th {\n",
       "        text-align: right;\n",
       "    }\n",
       "</style>\n",
       "<table border=\"1\" class=\"dataframe\">\n",
       "  <thead>\n",
       "    <tr style=\"text-align: right;\">\n",
       "      <th></th>\n",
       "      <th>category</th>\n",
       "      <th>headline</th>\n",
       "      <th>authors</th>\n",
       "      <th>link</th>\n",
       "      <th>short_description</th>\n",
       "      <th>date</th>\n",
       "    </tr>\n",
       "  </thead>\n",
       "  <tbody>\n",
       "    <tr>\n",
       "      <th>0</th>\n",
       "      <td>CRIME</td>\n",
       "      <td>There Were 2 Mass Shootings In Texas Last Week...</td>\n",
       "      <td>Melissa Jeltsen</td>\n",
       "      <td>https://www.huffingtonpost.com/entry/texas-ama...</td>\n",
       "      <td>She left her husband. He killed their children...</td>\n",
       "      <td>2018-05-26</td>\n",
       "    </tr>\n",
       "    <tr>\n",
       "      <th>1</th>\n",
       "      <td>ENTERTAINMENT</td>\n",
       "      <td>Will Smith Joins Diplo And Nicky Jam For The 2...</td>\n",
       "      <td>Andy McDonald</td>\n",
       "      <td>https://www.huffingtonpost.com/entry/will-smit...</td>\n",
       "      <td>Of course it has a song.</td>\n",
       "      <td>2018-05-26</td>\n",
       "    </tr>\n",
       "    <tr>\n",
       "      <th>2</th>\n",
       "      <td>ENTERTAINMENT</td>\n",
       "      <td>Hugh Grant Marries For The First Time At Age 57</td>\n",
       "      <td>Ron Dicker</td>\n",
       "      <td>https://www.huffingtonpost.com/entry/hugh-gran...</td>\n",
       "      <td>The actor and his longtime girlfriend Anna Ebe...</td>\n",
       "      <td>2018-05-26</td>\n",
       "    </tr>\n",
       "    <tr>\n",
       "      <th>3</th>\n",
       "      <td>ENTERTAINMENT</td>\n",
       "      <td>Jim Carrey Blasts 'Castrato' Adam Schiff And D...</td>\n",
       "      <td>Ron Dicker</td>\n",
       "      <td>https://www.huffingtonpost.com/entry/jim-carre...</td>\n",
       "      <td>The actor gives Dems an ass-kicking for not fi...</td>\n",
       "      <td>2018-05-26</td>\n",
       "    </tr>\n",
       "    <tr>\n",
       "      <th>4</th>\n",
       "      <td>ENTERTAINMENT</td>\n",
       "      <td>Julianna Margulies Uses Donald Trump Poop Bags...</td>\n",
       "      <td>Ron Dicker</td>\n",
       "      <td>https://www.huffingtonpost.com/entry/julianna-...</td>\n",
       "      <td>The \"Dietland\" actress said using the bags is ...</td>\n",
       "      <td>2018-05-26</td>\n",
       "    </tr>\n",
       "  </tbody>\n",
       "</table>\n",
       "</div>"
      ],
      "text/plain": [
       "        category                                           headline  \\\n",
       "0          CRIME  There Were 2 Mass Shootings In Texas Last Week...   \n",
       "1  ENTERTAINMENT  Will Smith Joins Diplo And Nicky Jam For The 2...   \n",
       "2  ENTERTAINMENT    Hugh Grant Marries For The First Time At Age 57   \n",
       "3  ENTERTAINMENT  Jim Carrey Blasts 'Castrato' Adam Schiff And D...   \n",
       "4  ENTERTAINMENT  Julianna Margulies Uses Donald Trump Poop Bags...   \n",
       "\n",
       "           authors                                               link  \\\n",
       "0  Melissa Jeltsen  https://www.huffingtonpost.com/entry/texas-ama...   \n",
       "1    Andy McDonald  https://www.huffingtonpost.com/entry/will-smit...   \n",
       "2       Ron Dicker  https://www.huffingtonpost.com/entry/hugh-gran...   \n",
       "3       Ron Dicker  https://www.huffingtonpost.com/entry/jim-carre...   \n",
       "4       Ron Dicker  https://www.huffingtonpost.com/entry/julianna-...   \n",
       "\n",
       "                                   short_description       date  \n",
       "0  She left her husband. He killed their children... 2018-05-26  \n",
       "1                           Of course it has a song. 2018-05-26  \n",
       "2  The actor and his longtime girlfriend Anna Ebe... 2018-05-26  \n",
       "3  The actor gives Dems an ass-kicking for not fi... 2018-05-26  \n",
       "4  The \"Dietland\" actress said using the bags is ... 2018-05-26  "
      ]
     },
     "execution_count": 2,
     "metadata": {},
     "output_type": "execute_result"
    }
   ],
   "source": [
    "# load data\n",
    "\n",
    "df = pd.read_json('News_Category_Dataset_v2.json', lines=True)\n",
    "df.head()"
   ]
  },
  {
   "cell_type": "code",
   "execution_count": 3,
   "metadata": {
    "_uuid": "82242066898b9d0625cdc65e8773efc0c732c031"
   },
   "outputs": [
    {
     "name": "stdout",
     "output_type": "stream",
     "text": [
      "total categories: 41\n",
      "category\n",
      "ARTS               1509\n",
      "ARTS & CULTURE     1339\n",
      "BLACK VOICES       4528\n",
      "BUSINESS           5937\n",
      "COLLEGE            1144\n",
      "COMEDY             5175\n",
      "CRIME              3405\n",
      "CULTURE & ARTS     1030\n",
      "DIVORCE            3426\n",
      "EDUCATION          1004\n",
      "ENTERTAINMENT     16058\n",
      "ENVIRONMENT        1323\n",
      "FIFTY              1401\n",
      "FOOD & DRINK       6226\n",
      "GOOD NEWS          1398\n",
      "GREEN              2622\n",
      "HEALTHY LIVING     6694\n",
      "HOME & LIVING      4195\n",
      "IMPACT             3459\n",
      "LATINO VOICES      1129\n",
      "MEDIA              2815\n",
      "MONEY              1707\n",
      "PARENTING          8677\n",
      "PARENTS            3955\n",
      "POLITICS          32739\n",
      "QUEER VOICES       6314\n",
      "RELIGION           2556\n",
      "SCIENCE            2178\n",
      "SPORTS             4884\n",
      "STYLE              2254\n",
      "STYLE & BEAUTY     9649\n",
      "TASTE              2096\n",
      "TECH               2082\n",
      "THE WORLDPOST      3664\n",
      "TRAVEL             9887\n",
      "WEDDINGS           3651\n",
      "WEIRD NEWS         2670\n",
      "WELLNESS          17827\n",
      "WOMEN              3490\n",
      "WORLD NEWS         2177\n",
      "WORLDPOST          2579\n",
      "dtype: int64\n"
     ]
    }
   ],
   "source": [
    "cates = df.groupby('category')\n",
    "print(\"total categories:\", cates.ngroups)\n",
    "print(cates.size())"
   ]
  },
  {
   "cell_type": "code",
   "execution_count": 4,
   "metadata": {
    "_uuid": "dc7a2544f8bf3fc9f62dfb8d8b41858b77b14700"
   },
   "outputs": [],
   "source": [
    "# as shown above, THE WORLDPOST and WORLDPOST should be the same category, so merge them.\n",
    "\n",
    "df.category = df.category.map(lambda x: \"WORLDPOST\" if x == \"THE WORLDPOST\" else x)"
   ]
  },
  {
   "cell_type": "code",
   "execution_count": 5,
   "metadata": {
    "_uuid": "a5737eceacbb85f26e2cb640332a60881818b100"
   },
   "outputs": [
    {
     "data": {
      "text/html": [
       "<div>\n",
       "<style scoped>\n",
       "    .dataframe tbody tr th:only-of-type {\n",
       "        vertical-align: middle;\n",
       "    }\n",
       "\n",
       "    .dataframe tbody tr th {\n",
       "        vertical-align: top;\n",
       "    }\n",
       "\n",
       "    .dataframe thead th {\n",
       "        text-align: right;\n",
       "    }\n",
       "</style>\n",
       "<table border=\"1\" class=\"dataframe\">\n",
       "  <thead>\n",
       "    <tr style=\"text-align: right;\">\n",
       "      <th></th>\n",
       "      <th>category</th>\n",
       "      <th>headline</th>\n",
       "      <th>authors</th>\n",
       "      <th>link</th>\n",
       "      <th>short_description</th>\n",
       "      <th>date</th>\n",
       "      <th>text</th>\n",
       "      <th>words</th>\n",
       "      <th>word_length</th>\n",
       "    </tr>\n",
       "  </thead>\n",
       "  <tbody>\n",
       "    <tr>\n",
       "      <th>0</th>\n",
       "      <td>CRIME</td>\n",
       "      <td>There Were 2 Mass Shootings In Texas Last Week...</td>\n",
       "      <td>Melissa Jeltsen</td>\n",
       "      <td>https://www.huffingtonpost.com/entry/texas-ama...</td>\n",
       "      <td>She left her husband. He killed their children...</td>\n",
       "      <td>2018-05-26</td>\n",
       "      <td>There Were 2 Mass Shootings In Texas Last Week...</td>\n",
       "      <td>[74, 101, 257, 1331, 3001, 6, 698, 134, 96, 26...</td>\n",
       "      <td>27</td>\n",
       "    </tr>\n",
       "    <tr>\n",
       "      <th>1</th>\n",
       "      <td>ENTERTAINMENT</td>\n",
       "      <td>Will Smith Joins Diplo And Nicky Jam For The 2...</td>\n",
       "      <td>Andy McDonald</td>\n",
       "      <td>https://www.huffingtonpost.com/entry/will-smit...</td>\n",
       "      <td>Of course it has a song.</td>\n",
       "      <td>2018-05-26</td>\n",
       "      <td>Will Smith Joins Diplo And Nicky Jam For The 2...</td>\n",
       "      <td>[42, 1604, 2960, 27762, 5, 25929, 5237, 8, 1, ...</td>\n",
       "      <td>20</td>\n",
       "    </tr>\n",
       "    <tr>\n",
       "      <th>2</th>\n",
       "      <td>ENTERTAINMENT</td>\n",
       "      <td>Hugh Grant Marries For The First Time At Age 57</td>\n",
       "      <td>Ron Dicker</td>\n",
       "      <td>https://www.huffingtonpost.com/entry/hugh-gran...</td>\n",
       "      <td>The actor and his longtime girlfriend Anna Ebe...</td>\n",
       "      <td>2018-05-26</td>\n",
       "      <td>Hugh Grant Marries For The First Time At Age 5...</td>\n",
       "      <td>[5877, 5334, 8083, 8, 1, 76, 54, 21, 414, 8469...</td>\n",
       "      <td>25</td>\n",
       "    </tr>\n",
       "    <tr>\n",
       "      <th>3</th>\n",
       "      <td>ENTERTAINMENT</td>\n",
       "      <td>Jim Carrey Blasts 'Castrato' Adam Schiff And D...</td>\n",
       "      <td>Ron Dicker</td>\n",
       "      <td>https://www.huffingtonpost.com/entry/jim-carre...</td>\n",
       "      <td>The actor gives Dems an ass-kicking for not fi...</td>\n",
       "      <td>2018-05-26</td>\n",
       "      <td>Jim Carrey Blasts 'Castrato' Adam Schiff And D...</td>\n",
       "      <td>[2710, 13374, 3596, 64143, 2295, 13055, 5, 569...</td>\n",
       "      <td>26</td>\n",
       "    </tr>\n",
       "    <tr>\n",
       "      <th>4</th>\n",
       "      <td>ENTERTAINMENT</td>\n",
       "      <td>Julianna Margulies Uses Donald Trump Poop Bags...</td>\n",
       "      <td>Ron Dicker</td>\n",
       "      <td>https://www.huffingtonpost.com/entry/julianna-...</td>\n",
       "      <td>The \"Dietland\" actress said using the bags is ...</td>\n",
       "      <td>2018-05-26</td>\n",
       "      <td>Julianna Margulies Uses Donald Trump Poop Bags...</td>\n",
       "      <td>[41003, 36082, 1513, 97, 48, 7915, 3134, 2, 96...</td>\n",
       "      <td>26</td>\n",
       "    </tr>\n",
       "  </tbody>\n",
       "</table>\n",
       "</div>"
      ],
      "text/plain": [
       "        category                                           headline  \\\n",
       "0          CRIME  There Were 2 Mass Shootings In Texas Last Week...   \n",
       "1  ENTERTAINMENT  Will Smith Joins Diplo And Nicky Jam For The 2...   \n",
       "2  ENTERTAINMENT    Hugh Grant Marries For The First Time At Age 57   \n",
       "3  ENTERTAINMENT  Jim Carrey Blasts 'Castrato' Adam Schiff And D...   \n",
       "4  ENTERTAINMENT  Julianna Margulies Uses Donald Trump Poop Bags...   \n",
       "\n",
       "           authors                                               link  \\\n",
       "0  Melissa Jeltsen  https://www.huffingtonpost.com/entry/texas-ama...   \n",
       "1    Andy McDonald  https://www.huffingtonpost.com/entry/will-smit...   \n",
       "2       Ron Dicker  https://www.huffingtonpost.com/entry/hugh-gran...   \n",
       "3       Ron Dicker  https://www.huffingtonpost.com/entry/jim-carre...   \n",
       "4       Ron Dicker  https://www.huffingtonpost.com/entry/julianna-...   \n",
       "\n",
       "                                   short_description       date  \\\n",
       "0  She left her husband. He killed their children... 2018-05-26   \n",
       "1                           Of course it has a song. 2018-05-26   \n",
       "2  The actor and his longtime girlfriend Anna Ebe... 2018-05-26   \n",
       "3  The actor gives Dems an ass-kicking for not fi... 2018-05-26   \n",
       "4  The \"Dietland\" actress said using the bags is ... 2018-05-26   \n",
       "\n",
       "                                                text  \\\n",
       "0  There Were 2 Mass Shootings In Texas Last Week...   \n",
       "1  Will Smith Joins Diplo And Nicky Jam For The 2...   \n",
       "2  Hugh Grant Marries For The First Time At Age 5...   \n",
       "3  Jim Carrey Blasts 'Castrato' Adam Schiff And D...   \n",
       "4  Julianna Margulies Uses Donald Trump Poop Bags...   \n",
       "\n",
       "                                               words  word_length  \n",
       "0  [74, 101, 257, 1331, 3001, 6, 698, 134, 96, 26...           27  \n",
       "1  [42, 1604, 2960, 27762, 5, 25929, 5237, 8, 1, ...           20  \n",
       "2  [5877, 5334, 8083, 8, 1, 76, 54, 21, 414, 8469...           25  \n",
       "3  [2710, 13374, 3596, 64143, 2295, 13055, 5, 569...           26  \n",
       "4  [41003, 36082, 1513, 97, 48, 7915, 3134, 2, 96...           26  "
      ]
     },
     "execution_count": 5,
     "metadata": {},
     "output_type": "execute_result"
    }
   ],
   "source": [
    "# using headlines and short_description as input X\n",
    "\n",
    "df['text'] = df.headline + \" \" + df.short_description\n",
    "\n",
    "# tokenizing\n",
    "\n",
    "tokenizer = Tokenizer()\n",
    "tokenizer.fit_on_texts(df.text)\n",
    "X = tokenizer.texts_to_sequences(df.text)\n",
    "df['words'] = X\n",
    "\n",
    "# delete some empty and short data\n",
    "\n",
    "df['word_length'] = df.words.apply(lambda i: len(i))\n",
    "df = df[df.word_length >= 5]\n",
    "\n",
    "df.head()"
   ]
  },
  {
   "cell_type": "code",
   "execution_count": 6,
   "metadata": {
    "_uuid": "51f586fa92aff7a859d606622788b11fc51fb197",
    "scrolled": true
   },
   "outputs": [
    {
     "data": {
      "text/plain": [
       "count    199914.000000\n",
       "mean         29.725032\n",
       "std          14.024717\n",
       "min           5.000000\n",
       "25%          20.000000\n",
       "50%          29.000000\n",
       "75%          36.000000\n",
       "max         248.000000\n",
       "Name: word_length, dtype: float64"
      ]
     },
     "execution_count": 6,
     "metadata": {},
     "output_type": "execute_result"
    }
   ],
   "source": [
    "df.word_length.describe()"
   ]
  },
  {
   "cell_type": "code",
   "execution_count": 7,
   "metadata": {
    "_uuid": "ea5417ae1057812e360c413f83a44f029c57df8e"
   },
   "outputs": [],
   "source": [
    "# using 50 for padding length\n",
    "\n",
    "maxlen = 50\n",
    "X = list(sequence.pad_sequences(df.words, maxlen=maxlen))"
   ]
  },
  {
   "cell_type": "code",
   "execution_count": 8,
   "metadata": {
    "_uuid": "a788a6ea4d761543ed05faf768aa68b9cf5716dc"
   },
   "outputs": [
    {
     "name": "stderr",
     "output_type": "stream",
     "text": [
      "C:\\Users\\sadpa\\AppData\\Local\\Temp\\ipykernel_5848\\638792572.py:10: SettingWithCopyWarning: \n",
      "A value is trying to be set on a copy of a slice from a DataFrame.\n",
      "Try using .loc[row_indexer,col_indexer] = value instead\n",
      "\n",
      "See the caveats in the documentation: https://pandas.pydata.org/pandas-docs/stable/user_guide/indexing.html#returning-a-view-versus-a-copy\n",
      "  df['c2id'] = df['category'].apply(lambda x: category_int[x])\n"
     ]
    }
   ],
   "source": [
    "# category to id\n",
    "\n",
    "categories = df.groupby('category').size().index.tolist()\n",
    "category_int = {}\n",
    "int_category = {}\n",
    "for i, k in enumerate(categories):\n",
    "    category_int.update({k:i})\n",
    "    int_category.update({i:k})\n",
    "\n",
    "df['c2id'] = df['category'].apply(lambda x: category_int[x])"
   ]
  },
  {
   "cell_type": "markdown",
   "metadata": {
    "_uuid": "9b133fdfe331a1551e98440f479f9a02349ceb64"
   },
   "source": [
    "# glove embedding"
   ]
  },
  {
   "cell_type": "code",
   "execution_count": 9,
   "metadata": {
    "_uuid": "af4c3b7b877179ba628315d4dc1fe72bf9db8b1d"
   },
   "outputs": [
    {
     "name": "stdout",
     "output_type": "stream",
     "text": [
      "Found 116617 unique tokens.\n",
      "Total 400000 word vectors.\n"
     ]
    }
   ],
   "source": [
    "word_index = tokenizer.word_index\n",
    "\n",
    "EMBEDDING_DIM = 100\n",
    "\n",
    "embeddings_index = {}\n",
    "f = open('glove.6B.100d.txt', encoding='utf-8')\n",
    "for line in f:\n",
    "    values = line.split()\n",
    "    word = values[0]\n",
    "    coefs = np.asarray(values[1:], dtype='float32')\n",
    "    embeddings_index[word] = coefs\n",
    "f.close()\n",
    "\n",
    "print('Found %s unique tokens.' % len(word_index))\n",
    "print('Total %s word vectors.' % len(embeddings_index))"
   ]
  },
  {
   "cell_type": "code",
   "execution_count": 10,
   "metadata": {
    "_uuid": "8f23e667f067ac480412511082f758f12bf4caf7"
   },
   "outputs": [],
   "source": [
    "embedding_matrix = np.zeros((len(word_index) + 1, EMBEDDING_DIM))\n",
    "for word, i in word_index.items():\n",
    "    embedding_vector = embeddings_index.get(word)\n",
    "    if embedding_vector is not None:\n",
    "        embedding_matrix[i] = embedding_vector\n",
    "\n",
    "embedding_layer = Embedding(len(word_index)+1,\n",
    "                            EMBEDDING_DIM,\n",
    "                            embeddings_initializer=Constant(embedding_matrix),\n",
    "                            input_length=maxlen,\n",
    "                            trainable=False)"
   ]
  },
  {
   "cell_type": "markdown",
   "metadata": {
    "_uuid": "3216d87143804d30f2d2e51983c3310f46402dc3"
   },
   "source": [
    "# split dataset"
   ]
  },
  {
   "cell_type": "code",
   "execution_count": 11,
   "metadata": {
    "_uuid": "714f2d758c18a70dee1ba7c2d2ac4122da12c45b"
   },
   "outputs": [],
   "source": [
    "# prepared data \n",
    "\n",
    "X = np.array(X)\n",
    "Y = np_utils.to_categorical(list(df.c2id))\n",
    "\n",
    "# and split to training set and validation set\n",
    "\n",
    "seed = 29\n",
    "x_train, x_val, y_train, y_val = train_test_split(X, Y, test_size=0.2, random_state=seed)"
   ]
  },
  {
   "cell_type": "markdown",
   "metadata": {
    "_uuid": "3a659ff7671aad4e6215681f57725996e7adfccd"
   },
   "source": [
    "# TextCNN"
   ]
  },
  {
   "cell_type": "code",
   "execution_count": 12,
   "metadata": {
    "_uuid": "502ffd9dd86e982ea58cc0b7cac6b898573a83e1"
   },
   "outputs": [
    {
     "name": "stdout",
     "output_type": "stream",
     "text": [
      "Model: \"model\"\n",
      "__________________________________________________________________________________________________\n",
      " Layer (type)                   Output Shape         Param #     Connected to                     \n",
      "==================================================================================================\n",
      " input_1 (InputLayer)           [(None, 50)]         0           []                               \n",
      "                                                                                                  \n",
      " embedding (Embedding)          (None, 50, 100)      11661800    ['input_1[0][0]']                \n",
      "                                                                                                  \n",
      " conv1d (Conv1D)                (None, 50, 64)       12864       ['embedding[0][0]']              \n",
      "                                                                                                  \n",
      " conv1d_1 (Conv1D)              (None, 50, 64)       19264       ['embedding[0][0]']              \n",
      "                                                                                                  \n",
      " conv1d_2 (Conv1D)              (None, 50, 64)       25664       ['embedding[0][0]']              \n",
      "                                                                                                  \n",
      " max_pooling1d (MaxPooling1D)   (None, 16, 64)       0           ['conv1d[0][0]']                 \n",
      "                                                                                                  \n",
      " max_pooling1d_1 (MaxPooling1D)  (None, 16, 64)      0           ['conv1d_1[0][0]']               \n",
      "                                                                                                  \n",
      " max_pooling1d_2 (MaxPooling1D)  (None, 16, 64)      0           ['conv1d_2[0][0]']               \n",
      "                                                                                                  \n",
      " dropout (Dropout)              (None, 16, 64)       0           ['max_pooling1d[0][0]']          \n",
      "                                                                                                  \n",
      " dropout_1 (Dropout)            (None, 16, 64)       0           ['max_pooling1d_1[0][0]']        \n",
      "                                                                                                  \n",
      " dropout_2 (Dropout)            (None, 16, 64)       0           ['max_pooling1d_2[0][0]']        \n",
      "                                                                                                  \n",
      " concatenate (Concatenate)      (None, 16, 192)      0           ['dropout[0][0]',                \n",
      "                                                                  'dropout_1[0][0]',              \n",
      "                                                                  'dropout_2[0][0]']              \n",
      "                                                                                                  \n",
      " flatten (Flatten)              (None, 3072)         0           ['concatenate[0][0]']            \n",
      "                                                                                                  \n",
      " dropout_3 (Dropout)            (None, 3072)         0           ['flatten[0][0]']                \n",
      "                                                                                                  \n",
      " dense (Dense)                  (None, 40)           122920      ['dropout_3[0][0]']              \n",
      "                                                                                                  \n",
      "==================================================================================================\n",
      "Total params: 11,842,512\n",
      "Trainable params: 180,712\n",
      "Non-trainable params: 11,661,800\n",
      "__________________________________________________________________________________________________\n"
     ]
    }
   ],
   "source": [
    "inp = Input(shape=(maxlen,), dtype='int32')\n",
    "embedding = embedding_layer(inp)\n",
    "stacks = []\n",
    "for kernel_size in [2, 3, 4]:\n",
    "    conv = Conv1D(64, kernel_size, padding='same', activation='relu', strides=1)(embedding)\n",
    "    pool = MaxPooling1D(pool_size=3)(conv)\n",
    "    drop = Dropout(0.5)(pool)\n",
    "    stacks.append(drop)\n",
    "\n",
    "merged = Concatenate()(stacks)\n",
    "flatten = Flatten()(merged)\n",
    "drop = Dropout(0.5)(flatten)\n",
    "outp = Dense(len(int_category), activation='softmax')(drop)\n",
    "\n",
    "TextCNN = Model(inputs=inp, outputs=outp)\n",
    "TextCNN.compile(loss='categorical_crossentropy', optimizer='adam', metrics=['accuracy'])\n",
    "\n",
    "TextCNN.summary()"
   ]
  },
  {
   "cell_type": "code",
   "execution_count": 13,
   "metadata": {
    "_uuid": "59992f62dd80ccd1805b673f218e91e70a422e0c"
   },
   "outputs": [
    {
     "name": "stdout",
     "output_type": "stream",
     "text": [
      "Epoch 1/20\n",
      "1250/1250 [==============================] - 24s 19ms/step - loss: 2.2463 - accuracy: 0.4146 - val_loss: 1.7241 - val_accuracy: 0.5325\n",
      "Epoch 2/20\n",
      "1250/1250 [==============================] - 25s 20ms/step - loss: 1.8722 - accuracy: 0.4984 - val_loss: 1.6323 - val_accuracy: 0.5525\n",
      "Epoch 3/20\n",
      "1250/1250 [==============================] - 25s 20ms/step - loss: 1.8025 - accuracy: 0.5144 - val_loss: 1.5938 - val_accuracy: 0.5666\n",
      "Epoch 4/20\n",
      "1250/1250 [==============================] - 25s 20ms/step - loss: 1.7658 - accuracy: 0.5251 - val_loss: 1.5836 - val_accuracy: 0.5677\n",
      "Epoch 5/20\n",
      "1250/1250 [==============================] - 25s 20ms/step - loss: 1.7429 - accuracy: 0.5281 - val_loss: 1.5529 - val_accuracy: 0.5741\n",
      "Epoch 6/20\n",
      "1250/1250 [==============================] - 25s 20ms/step - loss: 1.7247 - accuracy: 0.5329 - val_loss: 1.5457 - val_accuracy: 0.5773\n",
      "Epoch 7/20\n",
      "1250/1250 [==============================] - 25s 20ms/step - loss: 1.7115 - accuracy: 0.5351 - val_loss: 1.5357 - val_accuracy: 0.5806\n",
      "Epoch 8/20\n",
      "1250/1250 [==============================] - 25s 20ms/step - loss: 1.7034 - accuracy: 0.5359 - val_loss: 1.5270 - val_accuracy: 0.5822\n",
      "Epoch 9/20\n",
      "1250/1250 [==============================] - 25s 20ms/step - loss: 1.6952 - accuracy: 0.5400 - val_loss: 1.5241 - val_accuracy: 0.5835\n",
      "Epoch 10/20\n",
      "1250/1250 [==============================] - 25s 20ms/step - loss: 1.6874 - accuracy: 0.5411 - val_loss: 1.5209 - val_accuracy: 0.5848\n",
      "Epoch 11/20\n",
      "1250/1250 [==============================] - 25s 20ms/step - loss: 1.6807 - accuracy: 0.5432 - val_loss: 1.5179 - val_accuracy: 0.5866\n",
      "Epoch 12/20\n",
      "1250/1250 [==============================] - 25s 20ms/step - loss: 1.6757 - accuracy: 0.5444 - val_loss: 1.5193 - val_accuracy: 0.5842\n",
      "Epoch 13/20\n",
      "1250/1250 [==============================] - 25s 20ms/step - loss: 1.6731 - accuracy: 0.5448 - val_loss: 1.5134 - val_accuracy: 0.5882\n",
      "Epoch 14/20\n",
      "1250/1250 [==============================] - 25s 20ms/step - loss: 1.6690 - accuracy: 0.5457 - val_loss: 1.5111 - val_accuracy: 0.5878\n",
      "Epoch 15/20\n",
      "1250/1250 [==============================] - 25s 20ms/step - loss: 1.6623 - accuracy: 0.5470 - val_loss: 1.5166 - val_accuracy: 0.5865\n",
      "Epoch 16/20\n",
      "1250/1250 [==============================] - 25s 20ms/step - loss: 1.6612 - accuracy: 0.5473 - val_loss: 1.5132 - val_accuracy: 0.5863\n",
      "Epoch 17/20\n",
      "1250/1250 [==============================] - 25s 20ms/step - loss: 1.6578 - accuracy: 0.5490 - val_loss: 1.5130 - val_accuracy: 0.5848\n",
      "Epoch 18/20\n",
      "1250/1250 [==============================] - 25s 20ms/step - loss: 1.6501 - accuracy: 0.5496 - val_loss: 1.5039 - val_accuracy: 0.5902\n",
      "Epoch 19/20\n",
      "1250/1250 [==============================] - 25s 20ms/step - loss: 1.6521 - accuracy: 0.5502 - val_loss: 1.5138 - val_accuracy: 0.5852\n",
      "Epoch 20/20\n",
      "1250/1250 [==============================] - 25s 20ms/step - loss: 1.6476 - accuracy: 0.5511 - val_loss: 1.5048 - val_accuracy: 0.5906\n"
     ]
    }
   ],
   "source": [
    "textcnn_history = TextCNN.fit(x_train, \n",
    "                              y_train, \n",
    "                              batch_size=128, \n",
    "                              epochs=20, \n",
    "                              validation_data=(x_val, y_val))"
   ]
  },
  {
   "cell_type": "code",
   "execution_count": 14,
   "metadata": {
    "_uuid": "c7bfc92a99c0b1c49a1b10b23eed18f11f77b3af"
   },
   "outputs": [
    {
     "data": {
      "image/png": "[encoded data removed]",
      "text/plain": [
       "<Figure size 432x432 with 1 Axes>"
      ]
     },
     "metadata": {
      "needs_background": "light"
     },
     "output_type": "display_data"
    },
    {
     "data": {
      "image/png": "[encoded data removed]",
      "text/plain": [
       "<Figure size 432x432 with 1 Axes>"
      ]
     },
     "metadata": {
      "needs_background": "light"
     },
     "output_type": "display_data"
    }
   ],
   "source": [
    "acc = textcnn_history.history['accuracy']\n",
    "val_acc = textcnn_history.history['val_accuracy']\n",
    "loss = textcnn_history.history['loss']\n",
    "val_loss = textcnn_history.history['val_loss']\n",
    "epochs = range(1, len(acc) + 1)\n",
    "\n",
    "plt.title('Training and validation accuracy')\n",
    "plt.plot(epochs, acc, 'red', label='Training acc')\n",
    "plt.plot(epochs, val_acc, 'blue', label='Validation acc')\n",
    "plt.legend()\n",
    "\n",
    "plt.figure()\n",
    "plt.title('Training and validation loss')\n",
    "plt.plot(epochs, loss, 'red', label='Training loss')\n",
    "plt.plot(epochs, val_loss, 'blue', label='Validation loss')\n",
    "plt.legend()\n",
    "\n",
    "plt.show()"
   ]
  },
  {
   "cell_type": "markdown",
   "metadata": {
    "_uuid": "7989f76f4b67dcb7a1b2c6aa26c3950ab4c7644a"
   },
   "source": [
    "# Bidirectional GRU + Conv"
   ]
  },
  {
   "cell_type": "code",
   "execution_count": 15,
   "metadata": {
    "_uuid": "db8f37a83dc686d22655b101dfe913b6f745b38e",
    "scrolled": true
   },
   "outputs": [
    {
     "name": "stdout",
     "output_type": "stream",
     "text": [
      "Model: \"model_1\"\n",
      "__________________________________________________________________________________________________\n",
      " Layer (type)                   Output Shape         Param #     Connected to                     \n",
      "==================================================================================================\n",
      " input_2 (InputLayer)           [(None, 50)]         0           []                               \n",
      "                                                                                                  \n",
      " embedding (Embedding)          (None, 50, 100)      11661800    ['input_2[0][0]']                \n",
      "                                                                                                  \n",
      " spatial_dropout1d (SpatialDrop  (None, 50, 100)     0           ['embedding[1][0]']              \n",
      " out1D)                                                                                           \n",
      "                                                                                                  \n",
      " bidirectional (Bidirectional)  (None, 50, 256)      176640      ['spatial_dropout1d[0][0]']      \n",
      "                                                                                                  \n",
      " conv1d_3 (Conv1D)              (None, 48, 64)       49216       ['bidirectional[0][0]']          \n",
      "                                                                                                  \n",
      " global_average_pooling1d (Glob  (None, 64)          0           ['conv1d_3[0][0]']               \n",
      " alAveragePooling1D)                                                                              \n",
      "                                                                                                  \n",
      " global_max_pooling1d (GlobalMa  (None, 64)          0           ['conv1d_3[0][0]']               \n",
      " xPooling1D)                                                                                      \n",
      "                                                                                                  \n",
      " concatenate_1 (Concatenate)    (None, 128)          0           ['global_average_pooling1d[0][0]'\n",
      "                                                                 , 'global_max_pooling1d[0][0]']  \n",
      "                                                                                                  \n",
      " dense_1 (Dense)                (None, 40)           5160        ['concatenate_1[0][0]']          \n",
      "                                                                                                  \n",
      "==================================================================================================\n",
      "Total params: 11,892,816\n",
      "Trainable params: 231,016\n",
      "Non-trainable params: 11,661,800\n",
      "__________________________________________________________________________________________________\n"
     ]
    }
   ],
   "source": [
    "# Bidrectional LSTM with convolution\n",
    "# from https://www.kaggle.com/eashish/bidirectional-gru-with-convolution\n",
    "\n",
    "inp = Input(shape=(maxlen,), dtype='int32')\n",
    "x = embedding_layer(inp)\n",
    "x = SpatialDropout1D(0.2)(x)\n",
    "x = Bidirectional(GRU(128, return_sequences=True, dropout=0.1, recurrent_dropout=0.1))(x)\n",
    "x = Conv1D(64, kernel_size=3)(x)\n",
    "avg_pool = GlobalAveragePooling1D()(x)\n",
    "max_pool = GlobalMaxPooling1D()(x)\n",
    "x = concatenate([avg_pool, max_pool])\n",
    "outp = Dense(len(int_category), activation=\"softmax\")(x)\n",
    "\n",
    "BiGRU = Model(inp, outp)\n",
    "BiGRU.compile(loss='categorical_crossentropy', optimizer='adam', metrics=['acc'])\n",
    "\n",
    "BiGRU.summary()"
   ]
  },
  {
   "cell_type": "code",
   "execution_count": 17,
   "metadata": {
    "_uuid": "c187aa965230c3d6e2fd1f8fee6f34d07b4231e2",
    "scrolled": true
   },
   "outputs": [
    {
     "name": "stdout",
     "output_type": "stream",
     "text": [
      "Epoch 1/20\n",
      "1250/1250 [==============================] - 327s 260ms/step - loss: 1.8471 - acc: 0.5004 - val_loss: 1.4842 - val_acc: 0.5858\n",
      "Epoch 2/20\n",
      "1250/1250 [==============================] - 330s 264ms/step - loss: 1.5107 - acc: 0.5753 - val_loss: 1.3863 - val_acc: 0.6049\n",
      "Epoch 3/20\n",
      "1250/1250 [==============================] - 335s 268ms/step - loss: 1.4177 - acc: 0.5972 - val_loss: 1.3466 - val_acc: 0.6110\n",
      "Epoch 4/20\n",
      "1250/1250 [==============================] - 337s 270ms/step - loss: 1.3639 - acc: 0.6084 - val_loss: 1.3155 - val_acc: 0.6186\n",
      "Epoch 5/20\n",
      "1250/1250 [==============================] - 342s 274ms/step - loss: 1.3211 - acc: 0.6174 - val_loss: 1.2930 - val_acc: 0.6291\n",
      "Epoch 6/20\n",
      "1250/1250 [==============================] - 345s 276ms/step - loss: 1.2910 - acc: 0.6250 - val_loss: 1.2943 - val_acc: 0.6268\n",
      "Epoch 7/20\n",
      "1250/1250 [==============================] - 342s 274ms/step - loss: 1.2650 - acc: 0.6310 - val_loss: 1.2715 - val_acc: 0.6331\n",
      "Epoch 8/20\n",
      "1250/1250 [==============================] - 347s 277ms/step - loss: 1.2441 - acc: 0.6362 - val_loss: 1.2629 - val_acc: 0.6343\n",
      "Epoch 9/20\n",
      "1250/1250 [==============================] - 349s 279ms/step - loss: 1.2257 - acc: 0.6411 - val_loss: 1.2572 - val_acc: 0.6330\n",
      "Epoch 10/20\n",
      "1250/1250 [==============================] - 348s 279ms/step - loss: 1.2078 - acc: 0.6446 - val_loss: 1.2585 - val_acc: 0.6341\n",
      "Epoch 11/20\n",
      "1250/1250 [==============================] - 351s 281ms/step - loss: 1.1972 - acc: 0.6461 - val_loss: 1.2557 - val_acc: 0.6371\n",
      "Epoch 12/20\n",
      "1250/1250 [==============================] - 354s 284ms/step - loss: 1.1823 - acc: 0.6508 - val_loss: 1.2624 - val_acc: 0.6377\n",
      "Epoch 13/20\n",
      "1250/1250 [==============================] - 355s 284ms/step - loss: 1.1744 - acc: 0.6526 - val_loss: 1.2563 - val_acc: 0.6374\n",
      "Epoch 14/20\n",
      "1250/1250 [==============================] - 356s 285ms/step - loss: 1.1640 - acc: 0.6551 - val_loss: 1.2538 - val_acc: 0.6399\n",
      "Epoch 15/20\n",
      "1250/1250 [==============================] - 356s 285ms/step - loss: 1.1550 - acc: 0.6574 - val_loss: 1.2517 - val_acc: 0.6394\n",
      "Epoch 16/20\n",
      "1250/1250 [==============================] - 354s 283ms/step - loss: 1.1480 - acc: 0.6588 - val_loss: 1.2522 - val_acc: 0.6407\n",
      "Epoch 17/20\n",
      "1250/1250 [==============================] - 358s 287ms/step - loss: 1.1398 - acc: 0.6609 - val_loss: 1.2500 - val_acc: 0.6399\n",
      "Epoch 18/20\n",
      "1250/1250 [==============================] - 359s 287ms/step - loss: 1.1339 - acc: 0.6622 - val_loss: 1.2464 - val_acc: 0.6421\n",
      "Epoch 19/20\n",
      "1250/1250 [==============================] - 354s 284ms/step - loss: 1.1257 - acc: 0.6633 - val_loss: 1.2535 - val_acc: 0.6404\n",
      "Epoch 20/20\n",
      "1250/1250 [==============================] - 357s 286ms/step - loss: 1.1206 - acc: 0.6647 - val_loss: 1.2495 - val_acc: 0.6425\n"
     ]
    }
   ],
   "source": [
    "# training\n",
    "\n",
    "bigru_history = BiGRU.fit(x_train, \n",
    "                          y_train, \n",
    "                          batch_size=128, \n",
    "                          epochs=20, \n",
    "                          validation_data=(x_val, y_val))"
   ]
  },
  {
   "cell_type": "code",
   "execution_count": 19,
   "metadata": {
    "_uuid": "ea5c4424e719e875d72d4dcb9931bb442ccdfbb4"
   },
   "outputs": [
    {
     "data": {
      "image/png": "[encoded data removed]",
      "text/plain": [
       "<Figure size 432x432 with 1 Axes>"
      ]
     },
     "metadata": {
      "needs_background": "light"
     },
     "output_type": "display_data"
    },
    {
     "data": {
      "image/png": "[encoded data removed]",
      "text/plain": [
       "<Figure size 432x432 with 1 Axes>"
      ]
     },
     "metadata": {
      "needs_background": "light"
     },
     "output_type": "display_data"
    }
   ],
   "source": [
    "plt.rcParams['figure.figsize'] = (6,6)\n",
    "\n",
    "acc = bigru_history.history['acc']\n",
    "val_acc = bigru_history.history['val_acc']\n",
    "loss = bigru_history.history['loss']\n",
    "val_loss = bigru_history.history['val_loss']\n",
    "epochs = range(1, len(acc) + 1)\n",
    "\n",
    "plt.title('Training and validation accuracy')\n",
    "plt.plot(epochs, acc, 'red', label='Training acc')\n",
    "plt.plot(epochs, val_acc, 'blue', label='Validation acc')\n",
    "plt.legend()\n",
    "\n",
    "plt.figure()\n",
    "plt.title('Training and validation loss')\n",
    "plt.plot(epochs, loss, 'red', label='Training loss')\n",
    "plt.plot(epochs, val_loss, 'blue', label='Validation loss')\n",
    "plt.legend()\n",
    "\n",
    "plt.show()"
   ]
  },
  {
   "cell_type": "markdown",
   "metadata": {
    "_uuid": "83a09576cb93a1a383b5de542b055b168f3e5d6f",
    "collapsed": true
   },
   "source": [
    "# evaluate accuracy"
   ]
  },
  {
   "cell_type": "code",
   "execution_count": 25,
   "metadata": {
    "_uuid": "370e88d2cdff0470f6113988dcb3873f95c0c345"
   },
   "outputs": [],
   "source": [
    "def evaluate_accuracy(model):\n",
    "    predicted = model.predict(x_val)\n",
    "    diff = y_val.argmax(axis=-1) - predicted.argmax(axis=-1)\n",
    "    corrects = np.where(diff == 0)[0].shape[0]\n",
    "    total = y_val.shape[0]\n",
    "    return float(corrects/total)"
   ]
  },
  {
   "cell_type": "code",
   "execution_count": 26,
   "metadata": {
    "_uuid": "349f58b8fd1fc4a9ff0d8bf934ed18f994dae3e7"
   },
   "outputs": [
    {
     "name": "stdout",
     "output_type": "stream",
     "text": [
      "model TextCNN accuracy:          0.590551\n",
      "model Bidirectional GRU + Conv:  0.642548\n"
     ]
    }
   ],
   "source": [
    "print(\"model TextCNN accuracy:          %.6f\" % evaluate_accuracy(TextCNN))\n",
    "print(\"model Bidirectional GRU + Conv:  %.6f\" % evaluate_accuracy(BiGRU))\n"
   ]
  },
  {
   "cell_type": "markdown",
   "metadata": {
    "_uuid": "3e259392e75c529618e198bbc2c358879a0cfde6"
   },
   "source": [
    "# Ensemble"
   ]
  },
  {
   "cell_type": "code",
   "execution_count": 27,
   "metadata": {
    "_uuid": "0e3aebf0fc7b2f19b9e863c204631e6622b37ac0"
   },
   "outputs": [],
   "source": [
    "def evaluate_accuracy_ensemble(models):\n",
    "    res = np.zeros(shape=y_val.shape)\n",
    "    for model in models:\n",
    "        predicted = model.predict(x_val)\n",
    "        res += predicted\n",
    "    res /= len(models)\n",
    "    diff = y_val.argmax(axis=-1) - res.argmax(axis=-1)\n",
    "    corrects = np.where(diff == 0)[0].shape[0]\n",
    "    total = y_val.shape[0]\n",
    "    return float(corrects/total)"
   ]
  },
  {
   "cell_type": "code",
   "execution_count": 28,
   "metadata": {
    "_uuid": "80f493fe712450218769103e308a8da8e95c7482"
   },
   "outputs": [
    {
     "name": "stdout",
     "output_type": "stream",
     "text": [
      "0.6447490183327914\n"
     ]
    }
   ],
   "source": [
    "print(evaluate_accuracy_ensemble([TextCNN, BiGRU]))"
   ]
  }
 ],
 "metadata": {
  "kernelspec": {
   "display_name": "Python 3 (ipykernel)",
   "language": "python",
   "name": "python3"
  },
  "language_info": {
   "codemirror_mode": {
    "name": "ipython",
    "version": 3
   },
   "file_extension": ".py",
   "mimetype": "text/x-python",
   "name": "python",
   "nbconvert_exporter": "python",
   "pygments_lexer": "ipython3",
   "version": "3.9.7"
  }
 },
 "nbformat": 4,
 "nbformat_minor": 1
}
